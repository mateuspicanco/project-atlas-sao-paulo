{
 "cells": [
  {
   "cell_type": "markdown",
   "metadata": {},
   "source": [
    "# Data Prep - Census Data\n",
    "This notebook is the second part to the data preparation phase for this project. I will perform a series of manipulations on sociodemographic data from the 2010's Brazilian Census, the latest census conducted in the country. This is a complex process with many stages and will involve both careful manipulations of the raw data as well as handling of geospatial data.\n",
    "\n",
    "In order to perform these manipulations, we will use both `pyspark` and an extension called `Apache Sedona` (formerly known as `geospark`)."
   ]
  },
  {
   "cell_type": "code",
   "execution_count": 1,
   "metadata": {},
   "outputs": [],
   "source": [
    "# installing the requirements:\n",
    "!pip install -r ../configs/dependencies/dataprep_requirements.txt >> ../configs/dependencies/package_installation.txt"
   ]
  },
  {
   "cell_type": "code",
   "execution_count": 194,
   "metadata": {},
   "outputs": [
    {
     "name": "stdout",
     "output_type": "stream",
     "text": [
      "The lab_black extension is already loaded. To reload it, use:\n",
      "  %reload_ext lab_black\n",
      "The autoreload extension is already loaded. To reload it, use:\n",
      "  %reload_ext autoreload\n"
     ]
    }
   ],
   "source": [
    "# loading the magic commands:\n",
    "%load_ext lab_black\n",
    "%load_ext autoreload\n",
    "%autoreload 2"
   ]
  },
  {
   "cell_type": "code",
   "execution_count": 195,
   "metadata": {},
   "outputs": [],
   "source": [
    "###### Loading the necessary libraries #########\n",
    "\n",
    "# PySpark dependencies:s\n",
    "import pyspark\n",
    "from pyspark import SparkConf\n",
    "from pyspark import SparkContext\n",
    "from pyspark.sql import SparkSession\n",
    "from pyspark.sql import SQLContext\n",
    "import pyspark.sql.functions as F\n",
    "from pyspark.sql.functions import udf\n",
    "import pyspark.sql.types as T\n",
    "from pyspark.sql.window import Window\n",
    "\n",
    "# Sedona dependencies:\n",
    "from sedona.utils.adapter import Adapter\n",
    "from sedona.register import SedonaRegistrator\n",
    "from sedona.utils import KryoSerializer, SedonaKryoRegistrator\n",
    "from sedona.core.SpatialRDD import SpatialRDD\n",
    "from sedona.core.formatMapper.shapefileParser import ShapefileReader\n",
    "from sedona.core.formatMapper import GeoJsonReader\n",
    "\n",
    "# database utilities:\n",
    "from sqlalchemy import create_engine\n",
    "import sqlite3 as db\n",
    "import pandas as pd\n",
    "from tqdm import tqdm\n",
    "import geopandas as gpd\n",
    "import fiona\n",
    "\n",
    "# plotting and data visualization:\n",
    "import matplotlib.pyplot as plt\n",
    "import seaborn as sns\n",
    "from IPython.display import HTML, Image\n",
    "\n",
    "# other relevant libraries:\n",
    "import warnings\n",
    "import unidecode\n",
    "import inflection\n",
    "import unicodedata\n",
    "from datetime import datetime, timedelta\n",
    "from functools import partial\n",
    "import json\n",
    "import re\n",
    "import os\n",
    "from glob import glob\n",
    "import shutil\n",
    "import itertools\n",
    "import chardet\n",
    "\n",
    "# importing the atlas utilities:\n",
    "from atlasutils import (\n",
    "    save_to_filesystem,\n",
    "    save_as_table,\n",
    "    rotate_xticks,\n",
    "    get_file_encoding,\n",
    "    normalize_entities,\n",
    "    normalize_column_name,\n",
    "    apply_category_map,\n",
    "    standardize_variable_names,\n",
    "    get_null_columns,\n",
    "    replace_decimal_separator,\n",
    "    convert_to_geopandas,\n",
    "    drop_invalid_census_columns,\n",
    "    clean_census_column_name,\n",
    "    get_file_crs,\n",
    "    get_column_values,\n",
    ")\n",
    "\n",
    "\n",
    "# setting global parameters for visualizationsss:\n",
    "warnings.filterwarnings(\"ignore\")\n",
    "pd.set_option(\"display.precision\", 4)\n",
    "pd.set_option(\"display.float_format\", lambda x: \"%.2f\" % x)"
   ]
  },
  {
   "cell_type": "markdown",
   "metadata": {},
   "source": [
    "# 0. Configuring Spark"
   ]
  },
  {
   "cell_type": "code",
   "execution_count": 199,
   "metadata": {},
   "outputs": [],
   "source": [
    "# function to encapsulate standard spark configurations:\n",
    "def init_spark(app_name):\n",
    "\n",
    "    spark = (\n",
    "        SparkSession.builder.appName(app_name)\n",
    "        .config(\"spark.files.overwrite\", \"true\")\n",
    "        .config(\"spark.serializer\", KryoSerializer.getName)\n",
    "        .config(\"spark.kryo.registrator\", SedonaKryoRegistrator.getName)\n",
    "        .config(\n",
    "            \"spark.jars.packages\",\n",
    "            \"org.apache.sedona:sedona-python-adapter-3.0_2.12:1.0.1-incubating,\"\n",
    "            \"org.datasyslab:geotools-wrapper:geotools-24.1\",\n",
    "        )\n",
    "        .config(\"spark.sql.repl.eagerEval.enabled\", True)\n",
    "        .config(\"spark.sql.repl.eagerEval.maxNumRows\", 5)\n",
    "        .config(\"spark.sql.legacy.timeParserPolicy\", \"LEGACY\")\n",
    "        .config(\"spark.sql.parquet.compression.codec\", \"gzip\")\n",
    "        .config(\"sedona.global.charset\", \"utf8\")\n",
    "        .config(\"sedona.global.index\", \"true\")\n",
    "        .enableHiveSupport()\n",
    "        .getOrCreate()\n",
    "    )\n",
    "\n",
    "    SedonaRegistrator.registerAll(spark)\n",
    "\n",
    "    return spark"
   ]
  },
  {
   "cell_type": "code",
   "execution_count": 200,
   "metadata": {},
   "outputs": [],
   "source": [
    "# init the spark session:\n",
    "spark = init_spark(\"SP Atlas - IBGE Census\")"
   ]
  },
  {
   "cell_type": "code",
   "execution_count": 201,
   "metadata": {},
   "outputs": [
    {
     "data": {
      "text/html": [
       "\n",
       "            <div>\n",
       "                <p><b>SparkSession - hive</b></p>\n",
       "                \n",
       "        <div>\n",
       "            <p><b>SparkContext</b></p>\n",
       "\n",
       "            <p><a href=\"http://192.168.15.58:4040\">Spark UI</a></p>\n",
       "\n",
       "            <dl>\n",
       "              <dt>Version</dt>\n",
       "                <dd><code>v3.1.1</code></dd>\n",
       "              <dt>Master</dt>\n",
       "                <dd><code>local[*]</code></dd>\n",
       "              <dt>AppName</dt>\n",
       "                <dd><code>SP Atlas - IBGE Census</code></dd>\n",
       "            </dl>\n",
       "        </div>\n",
       "        \n",
       "            </div>\n",
       "        "
      ],
      "text/plain": [
       "<pyspark.sql.session.SparkSession at 0x7f5bfc27ba30>"
      ]
     },
     "execution_count": 201,
     "metadata": {},
     "output_type": "execute_result"
    }
   ],
   "source": [
    "# verifying the session status:\n",
    "spark"
   ]
  },
  {
   "cell_type": "markdown",
   "metadata": {},
   "source": [
    "# 1. Loading and Inspecting the Data\n",
    "We will first load the Polygon geospatial data that we will later use to match to the `(lat, long)` paths in the listings datasets."
   ]
  },
  {
   "cell_type": "markdown",
   "metadata": {},
   "source": [
    "## 1.1 Sector Polygons\n",
    "The lowest level of data aggregation in the Census is a Sector. A sector is a specific area in which researchers collect census data. These sectors are contiguous areas and IBGE provides the Shapefiles for them. This will allow us to match the Listings data to the census sector where they can be located."
   ]
  },
  {
   "cell_type": "code",
   "execution_count": 202,
   "metadata": {},
   "outputs": [
    {
     "data": {
      "text/html": [
       "<table border='1'>\n",
       "<tr><th>geometry</th><th>ID</th><th>CD_GEOCODI</th><th>TIPO</th><th>CD_GEOCODS</th><th>NM_SUBDIST</th><th>CD_GEOCODD</th><th>NM_DISTRIT</th><th>CD_GEOCODM</th><th>NM_MUNICIP</th><th>NM_MICRO</th><th>NM_MESO</th><th>CD_GEOCODB</th><th>NM_BAIRRO</th><th>ID1</th></tr>\n",
       "<tr><td>POLYGON ((-46.410...</td><td>98237</td><td>354100005000009</td><td>URBANO</td><td>35410000500</td><td></td><td>354100005</td><td>PRAIA GRANDE</td><td>3541000</td><td>PRAIA GRANDE</td><td>SANTOS</td><td>METROPOLITANA DE ...</td><td>354100005001</td><td>Boqueirão</td><td>1</td></tr>\n",
       "<tr><td>POLYGON ((-46.416...</td><td>98232</td><td>354100005000004</td><td>URBANO</td><td>35410000500</td><td></td><td>354100005</td><td>PRAIA GRANDE</td><td>3541000</td><td>PRAIA GRANDE</td><td>SANTOS</td><td>METROPOLITANA DE ...</td><td>354100005001</td><td>Boqueirão</td><td>2</td></tr>\n",
       "<tr><td>POLYGON ((-46.412...</td><td>98230</td><td>354100005000002</td><td>URBANO</td><td>35410000500</td><td></td><td>354100005</td><td>PRAIA GRANDE</td><td>3541000</td><td>PRAIA GRANDE</td><td>SANTOS</td><td>METROPOLITANA DE ...</td><td>354100005001</td><td>Boqueirão</td><td>3</td></tr>\n",
       "<tr><td>POLYGON ((-46.411...</td><td>98229</td><td>354100005000001</td><td>URBANO</td><td>35410000500</td><td></td><td>354100005</td><td>PRAIA GRANDE</td><td>3541000</td><td>PRAIA GRANDE</td><td>SANTOS</td><td>METROPOLITANA DE ...</td><td>354100005001</td><td>Boqueirão</td><td>4</td></tr>\n",
       "<tr><td>POLYGON ((-46.413...</td><td>98231</td><td>354100005000003</td><td>URBANO</td><td>35410000500</td><td></td><td>354100005</td><td>PRAIA GRANDE</td><td>3541000</td><td>PRAIA GRANDE</td><td>SANTOS</td><td>METROPOLITANA DE ...</td><td>354100005001</td><td>Boqueirão</td><td>5</td></tr>\n",
       "</table>\n",
       "only showing top 5 rows\n"
      ],
      "text/plain": [
       "+--------------------+-----+---------------+------+-----------+----------+----------+------------+----------+------------+--------+--------------------+------------+---------+---+\n",
       "|            geometry|   ID|     CD_GEOCODI|  TIPO| CD_GEOCODS|NM_SUBDIST|CD_GEOCODD|  NM_DISTRIT|CD_GEOCODM|  NM_MUNICIP|NM_MICRO|             NM_MESO|  CD_GEOCODB|NM_BAIRRO|ID1|\n",
       "+--------------------+-----+---------------+------+-----------+----------+----------+------------+----------+------------+--------+--------------------+------------+---------+---+\n",
       "|POLYGON ((-46.410...|98237|354100005000009|URBANO|35410000500|          | 354100005|PRAIA GRANDE|   3541000|PRAIA GRANDE|  SANTOS|METROPOLITANA DE ...|354100005001|Boqueirão|  1|\n",
       "|POLYGON ((-46.416...|98232|354100005000004|URBANO|35410000500|          | 354100005|PRAIA GRANDE|   3541000|PRAIA GRANDE|  SANTOS|METROPOLITANA DE ...|354100005001|Boqueirão|  2|\n",
       "|POLYGON ((-46.412...|98230|354100005000002|URBANO|35410000500|          | 354100005|PRAIA GRANDE|   3541000|PRAIA GRANDE|  SANTOS|METROPOLITANA DE ...|354100005001|Boqueirão|  3|\n",
       "|POLYGON ((-46.411...|98229|354100005000001|URBANO|35410000500|          | 354100005|PRAIA GRANDE|   3541000|PRAIA GRANDE|  SANTOS|METROPOLITANA DE ...|354100005001|Boqueirão|  4|\n",
       "|POLYGON ((-46.413...|98231|354100005000003|URBANO|35410000500|          | 354100005|PRAIA GRANDE|   3541000|PRAIA GRANDE|  SANTOS|METROPOLITANA DE ...|354100005001|Boqueirão|  5|\n",
       "+--------------------+-----+---------------+------+-----------+----------+----------+------------+----------+------------+--------+--------------------+------------+---------+---+\n",
       "only showing top 5 rows"
      ]
     },
     "execution_count": 202,
     "metadata": {},
     "output_type": "execute_result"
    }
   ],
   "source": [
    "# loading the raw dataset:\n",
    "RAW_DATA_DIR = \"../data/raw/\"\n",
    "\n",
    "# shapefiles for sectors:\n",
    "sector_rdd = ShapefileReader.readToGeometryRDD(\n",
    "    sc=spark, inputPath=RAW_DATA_DIR + \"sp_layers/census_sectors/*\"\n",
    ")\n",
    "\n",
    "df_sector = Adapter.toDf(sector_rdd, spark)\n",
    "\n",
    "# verifying the sectors:\n",
    "df_sector"
   ]
  },
  {
   "cell_type": "code",
   "execution_count": 203,
   "metadata": {},
   "outputs": [],
   "source": [
    "# selecting the relevant columns:\n",
    "df_sector = df_sector.select(\n",
    "    F.col(\"ID\").alias(\"id\"),\n",
    "    F.col(\"geometry\"),\n",
    "    F.col(\"CD_GEOCODI\").alias(\"sector_code\"),\n",
    "    F.col(\"CD_GEOCODM\").alias(\"city_code\"),\n",
    "    F.col(\"CD_GEOCODB\").alias(\"neighborhood_code\"),\n",
    "    F.col(\"NM_MUNICIP\").alias(\"city\"),\n",
    "    F.col(\"NM_BAIRRO\").alias(\"neighborhood\"),\n",
    "    F.col(\"TIPO\").alias(\"sector_type\"),\n",
    ")\n",
    "\n",
    "# filtering just São Paulo:\n",
    "df_sector = df_sector.filter(F.col(\"city\") == \"SÃO PAULO\")"
   ]
  },
  {
   "cell_type": "markdown",
   "metadata": {},
   "source": [
    "## 1.2 Area of Ponderation"
   ]
  },
  {
   "cell_type": "code",
   "execution_count": 204,
   "metadata": {},
   "outputs": [
    {
     "data": {
      "text/html": [
       "<table border='1'>\n",
       "<tr><th>geometry</th><th>ID</th><th>AREA</th><th>COD_AED</th><th>COD_AED_S</th></tr>\n",
       "<tr><td>POLYGON ((317854....</td><td>158</td><td>10.450821</td><td>3550308005243</td><td>243</td></tr>\n",
       "<tr><td>POLYGON ((320682....</td><td>159</td><td>13.241315</td><td>3550308005242</td><td>242</td></tr>\n",
       "<tr><td>POLYGON ((325497....</td><td>160</td><td>4.180473</td><td>3550308005309</td><td>309</td></tr>\n",
       "<tr><td>POLYGON ((326306....</td><td>117</td><td>11.936847</td><td>3550308005189</td><td>189</td></tr>\n",
       "<tr><td>POLYGON ((328654....</td><td>1</td><td>7.321331</td><td>3550308005127</td><td>127</td></tr>\n",
       "</table>\n",
       "only showing top 5 rows\n"
      ],
      "text/plain": [
       "+--------------------+---+---------+-------------+---------+\n",
       "|            geometry| ID|     AREA|      COD_AED|COD_AED_S|\n",
       "+--------------------+---+---------+-------------+---------+\n",
       "|POLYGON ((317854....|158|10.450821|3550308005243|      243|\n",
       "|POLYGON ((320682....|159|13.241315|3550308005242|      242|\n",
       "|POLYGON ((325497....|160| 4.180473|3550308005309|      309|\n",
       "|POLYGON ((326306....|117|11.936847|3550308005189|      189|\n",
       "|POLYGON ((328654....|  1| 7.321331|3550308005127|      127|\n",
       "+--------------------+---+---------+-------------+---------+\n",
       "only showing top 5 rows"
      ]
     },
     "execution_count": 204,
     "metadata": {},
     "output_type": "execute_result"
    }
   ],
   "source": [
    "# reading the area of ponderation files:\n",
    "ap_rdd = ShapefileReader.readToGeometryRDD(\n",
    "    sc=spark, inputPath=RAW_DATA_DIR + \"sp_layers/census_ponderations/*\"\n",
    ")\n",
    "\n",
    "df_ap = Adapter.toDf(ap_rdd, spark)\n",
    "\n",
    "# adding the geometry dataframes to the SQL Context:\n",
    "df_ap.createOrReplaceTempView(\"tb_ponderation\")\n",
    "\n",
    "# verifying the sectors:\n",
    "df_ap"
   ]
  },
  {
   "cell_type": "code",
   "execution_count": 205,
   "metadata": {},
   "outputs": [],
   "source": [
    "Q_AP_CONVERSION = \"\"\"\n",
    "SELECT \n",
    "    ST_FlipCoordinates(ST_Transform(A.geometry, 'epsg:29193','epsg:4326')) as geometry,\n",
    "    A.AREA as ponderation_area,\n",
    "    A.COD_AED as ponderation_area_code\n",
    "FROM tb_ponderation as A\n",
    "\"\"\"\n",
    "\n",
    "# converting the CRS to the standard format:\n",
    "df_ap = spark.sql(Q_AP_CONVERSION)\n",
    "\n",
    "# adding the geometry dataframes to the SQL Context:\n",
    "df_ap.createOrReplaceTempView(\"tb_ponderation\")"
   ]
  },
  {
   "cell_type": "code",
   "execution_count": 206,
   "metadata": {},
   "outputs": [
    {
     "data": {
      "text/html": [
       "<table border='1'>\n",
       "<tr><th>geometry</th><th>ponderation_area</th><th>ponderation_area_code</th></tr>\n",
       "<tr><td>POLYGON ((-46.782...</td><td>10.450821</td><td>3550308005243</td></tr>\n",
       "<tr><td>POLYGON ((-46.755...</td><td>13.241315</td><td>3550308005242</td></tr>\n",
       "<tr><td>POLYGON ((-46.708...</td><td>4.180473</td><td>3550308005309</td></tr>\n",
       "<tr><td>POLYGON ((-46.700...</td><td>11.936847</td><td>3550308005189</td></tr>\n",
       "<tr><td>POLYGON ((-46.677...</td><td>7.321331</td><td>3550308005127</td></tr>\n",
       "</table>\n",
       "only showing top 5 rows\n"
      ],
      "text/plain": [
       "+--------------------+----------------+---------------------+\n",
       "|            geometry|ponderation_area|ponderation_area_code|\n",
       "+--------------------+----------------+---------------------+\n",
       "|POLYGON ((-46.782...|       10.450821|        3550308005243|\n",
       "|POLYGON ((-46.755...|       13.241315|        3550308005242|\n",
       "|POLYGON ((-46.708...|        4.180473|        3550308005309|\n",
       "|POLYGON ((-46.700...|       11.936847|        3550308005189|\n",
       "|POLYGON ((-46.677...|        7.321331|        3550308005127|\n",
       "+--------------------+----------------+---------------------+\n",
       "only showing top 5 rows"
      ]
     },
     "execution_count": 206,
     "metadata": {},
     "output_type": "execute_result"
    }
   ],
   "source": [
    "# verifying the results:\n",
    "df_ap"
   ]
  },
  {
   "cell_type": "markdown",
   "metadata": {},
   "source": [
    "## 1.3 Neighborhoods"
   ]
  },
  {
   "cell_type": "code",
   "execution_count": 207,
   "metadata": {},
   "outputs": [
    {
     "data": {
      "text/html": [
       "<table border='1'>\n",
       "<tr><th>geometry</th><th>Name</th><th>descriptio</th></tr>\n",
       "<tr><td>MULTIPOLYGON (((-...</td><td>Alto da Riviera</td><td>ALTO DA RIVIERA</td></tr>\n",
       "<tr><td>POLYGON ((-46.589...</td><td>Alto da Mooca</td><td>ALTO DA MOOCA</td></tr>\n",
       "<tr><td>POLYGON ((-46.719...</td><td>Alto da Lapa</td><td>ALTO DA LAPA</td></tr>\n",
       "<tr><td>POLYGON ((-46.629...</td><td>Vila Agua Funda</td><td>VILA AGUA FUNDA</td></tr>\n",
       "<tr><td>POLYGON ((-46.622...</td><td>Agua Fria</td><td>AGUA FRIA</td></tr>\n",
       "</table>\n",
       "only showing top 5 rows\n"
      ],
      "text/plain": [
       "+--------------------+---------------+---------------+\n",
       "|            geometry|           Name|     descriptio|\n",
       "+--------------------+---------------+---------------+\n",
       "|MULTIPOLYGON (((-...|Alto da Riviera|ALTO DA RIVIERA|\n",
       "|POLYGON ((-46.589...|  Alto da Mooca|  ALTO DA MOOCA|\n",
       "|POLYGON ((-46.719...|   Alto da Lapa|   ALTO DA LAPA|\n",
       "|POLYGON ((-46.629...|Vila Agua Funda|VILA AGUA FUNDA|\n",
       "|POLYGON ((-46.622...|      Agua Fria|      AGUA FRIA|\n",
       "+--------------------+---------------+---------------+\n",
       "only showing top 5 rows"
      ]
     },
     "execution_count": 207,
     "metadata": {},
     "output_type": "execute_result"
    }
   ],
   "source": [
    "# reading the neighborhoods files:\n",
    "nb_rdd = ShapefileReader.readToGeometryRDD(\n",
    "    sc=spark, inputPath=RAW_DATA_DIR + \"sp_layers/neighborhoods/*\"\n",
    ")\n",
    "\n",
    "df_nb = Adapter.toDf(nb_rdd, spark)\n",
    "df_nb.createOrReplaceTempView(\"tb_neighborhood\")\n",
    "\n",
    "# verifying the sectors:\n",
    "df_nb"
   ]
  },
  {
   "cell_type": "markdown",
   "metadata": {},
   "source": [
    "## 1.4 Districts"
   ]
  },
  {
   "cell_type": "code",
   "execution_count": 208,
   "metadata": {},
   "outputs": [
    {
     "data": {
      "text/html": [
       "<table border='1'>\n",
       "<tr><th>geometry</th><th>CLASSID</th><th>FEATID</th><th>REVISIONNU</th><th>NOME_DIST</th><th>SIGLA_DIST</th><th>COD_DIST</th><th>COD_SUB</th><th>DATA_CRIAC</th><th>USUARIO_ID</th></tr>\n",
       "<tr><td>POLYGON ((352436....</td><td>4.00000</td><td>8583485.00000</td><td>1.00000</td><td>JOSE BONIFACIO</td><td>JBO</td><td>47</td><td>27</td><td>20070319</td><td>0.00000</td></tr>\n",
       "<tr><td>POLYGON ((320696....</td><td>4.00000</td><td>8583484.00000</td><td>1.00000</td><td>JD SAO LUIS</td><td>JDS</td><td>46</td><td>18</td><td>20070319</td><td>0.00000</td></tr>\n",
       "<tr><td>POLYGON ((349461....</td><td>4.00000</td><td>8583445.00000</td><td>1.00000</td><td>ARTUR ALVIM</td><td>AAL</td><td>5</td><td>21</td><td>20070319</td><td>0.00000</td></tr>\n",
       "<tr><td>POLYGON ((320731....</td><td>4.00000</td><td>8583479.00000</td><td>1.00000</td><td>JAGUARA</td><td>JAG</td><td>40</td><td>08</td><td>20070319</td><td>0.00000</td></tr>\n",
       "<tr><td>POLYGON ((338651....</td><td>4.00000</td><td>8583437.00000</td><td>1.00000</td><td>VILA PRUDENTE</td><td>VPR</td><td>93</td><td>29</td><td>20070319</td><td>0.00000</td></tr>\n",
       "</table>\n",
       "only showing top 5 rows\n"
      ],
      "text/plain": [
       "+--------------------+-------+-------------+----------+--------------+----------+--------+-------+----------+----------+\n",
       "|            geometry|CLASSID|       FEATID|REVISIONNU|     NOME_DIST|SIGLA_DIST|COD_DIST|COD_SUB|DATA_CRIAC|USUARIO_ID|\n",
       "+--------------------+-------+-------------+----------+--------------+----------+--------+-------+----------+----------+\n",
       "|POLYGON ((352436....|4.00000|8583485.00000|   1.00000|JOSE BONIFACIO|       JBO|      47|     27|  20070319|   0.00000|\n",
       "|POLYGON ((320696....|4.00000|8583484.00000|   1.00000|   JD SAO LUIS|       JDS|      46|     18|  20070319|   0.00000|\n",
       "|POLYGON ((349461....|4.00000|8583445.00000|   1.00000|   ARTUR ALVIM|       AAL|       5|     21|  20070319|   0.00000|\n",
       "|POLYGON ((320731....|4.00000|8583479.00000|   1.00000|       JAGUARA|       JAG|      40|     08|  20070319|   0.00000|\n",
       "|POLYGON ((338651....|4.00000|8583437.00000|   1.00000| VILA PRUDENTE|       VPR|      93|     29|  20070319|   0.00000|\n",
       "+--------------------+-------+-------------+----------+--------------+----------+--------+-------+----------+----------+\n",
       "only showing top 5 rows"
      ]
     },
     "execution_count": 208,
     "metadata": {},
     "output_type": "execute_result"
    }
   ],
   "source": [
    "# reading the neighborhoods files:\n",
    "district_rdd = ShapefileReader.readToGeometryRDD(\n",
    "    sc=spark, inputPath=RAW_DATA_DIR + \"sp_layers/districts/*\"\n",
    ")\n",
    "\n",
    "df_district = Adapter.toDf(district_rdd, spark)\n",
    "\n",
    "# verifying the sectors:\n",
    "df_district"
   ]
  },
  {
   "cell_type": "code",
   "execution_count": 209,
   "metadata": {},
   "outputs": [
    {
     "data": {
      "text/plain": [
       "<Projected CRS: EPSG:29193>\n",
       "Name: SAD69 / UTM zone 23S\n",
       "Axis Info [cartesian]:\n",
       "- E[east]: Easting (metre)\n",
       "- N[north]: Northing (metre)\n",
       "Area of Use:\n",
       "- name: Brazil - between 48°W and 42°W, northern and southern hemispheres, onshore and offshore.\n",
       "- bounds: (-48.0, -33.5, -42.0, 5.13)\n",
       "Coordinate Operation:\n",
       "- name: UTM zone 23S\n",
       "- method: Transverse Mercator\n",
       "Datum: South American Datum 1969\n",
       "- Ellipsoid: GRS 1967 Modified\n",
       "- Prime Meridian: Greenwich"
      ]
     },
     "execution_count": 209,
     "metadata": {},
     "output_type": "execute_result"
    }
   ],
   "source": [
    "# it looks like the file's geometry is not the standard we want (ESPG:4326), let's find out what is it:\n",
    "get_file_crs(RAW_DATA_DIR + \"sp_layers/districts/\")"
   ]
  },
  {
   "cell_type": "markdown",
   "metadata": {},
   "source": [
    "We will need to convert the dataset to a standard CRS (coordinate reference system), which, in our case, is `espg:4326`."
   ]
  },
  {
   "cell_type": "code",
   "execution_count": 210,
   "metadata": {},
   "outputs": [],
   "source": [
    "# dropping the unnecessary columns:\n",
    "df_district = df_district.drop(\n",
    "    \"CLASSID\", \"FEATID\", \"REVISIONNU\", \"DATA_CRIAC\", \"USUARIO_ID\"\n",
    ")\n",
    "\n",
    "df_district.createOrReplaceTempView(\"tb_district\")\n",
    "\n",
    "# converting the coordinate system in the district file:\n",
    "Q_DISTRICT_CONVERSION = \"\"\"\n",
    "SELECT \n",
    "    ST_FlipCoordinates(ST_Transform(A.geometry, 'epsg:29193','epsg:4326')) as geometry,\n",
    "    A.NOME_DIST as district_name,\n",
    "    A.SIGLA_DIST as district_abbreviation,\n",
    "    A.COD_DIST as district_code,\n",
    "    A.COD_SUB as subdistrict_code\n",
    "FROM tb_district as A\n",
    "\"\"\"\n",
    "\n",
    "df_district = spark.sql(Q_DISTRICT_CONVERSION)"
   ]
  },
  {
   "cell_type": "markdown",
   "metadata": {},
   "source": [
    "## 1.5 Zip Codes"
   ]
  },
  {
   "cell_type": "code",
   "execution_count": 211,
   "metadata": {},
   "outputs": [
    {
     "data": {
      "text/html": [
       "<table border='1'>\n",
       "<tr><th>geometry</th><th>ID</th><th>LENGTH</th><th>CODL</th><th>SEG</th><th>ANGULO</th><th>ORIENTA_O</th><th>COD_ORI</th><th>LEFT_ZIP</th><th>RIGHT_ZIP</th><th>START_LEFT</th><th>END_LEFT</th><th>START_RIGH</th><th>END_RIGHT</th><th>CEP_D</th><th>CEP_E</th><th>TITULO</th><th>PREP</th><th>NAME</th><th>BAIRRO_D</th><th>BAIRRO_E</th></tr>\n",
       "<tr><td>LINESTRING (31949...</td><td>1</td><td>227.218229000000010</td><td>731960</td><td>SG731960001</td><td>170</td><td>LESTE-OESTE</td><td>O</td><td>5547</td><td>5547</td><td>1</td><td>227</td><td>2</td><td>226</td><td>05547020</td><td>05547020</td><td></td><td></td><td>ERNESTO PAGLIA</td><td>JARDIM ROSA MARIA</td><td>JARDIM ROSA MARIA</td></tr>\n",
       "<tr><td>LINESTRING (31949...</td><td>2</td><td>100.109236999999990</td><td>753718</td><td>SG753718003</td><td>294</td><td>NORTE-SUL</td><td>S</td><td>5549</td><td>5549</td><td>111</td><td>209</td><td>110</td><td>208</td><td>05549120</td><td>05549120</td><td>PRFA.</td><td></td><td>MARIA OSORIO TEIX...</td><td>JARDIM DAS ESMERA...</td><td>JARDIM DAS ESMERA...</td></tr>\n",
       "<tr><td>LINESTRING (31955...</td><td>3</td><td>76.883336000000000</td><td>734519</td><td>SG734519005</td><td>135</td><td>LESTE-OESTE</td><td>O</td><td>5549</td><td>5549</td><td>281</td><td>355</td><td>280</td><td>354</td><td>05549080</td><td>05549080</td><td></td><td></td><td>VITORIANO DA SILVA</td><td>JARDIM DAS ESMERA...</td><td>JARDIM DAS ESMERA...</td></tr>\n",
       "<tr><td>LINESTRING (31954...</td><td>4</td><td>50.402368000000003</td><td>753718</td><td>SG753718002</td><td>208</td><td>LESTE-OESTE</td><td>O</td><td>5549</td><td>5549</td><td>61</td><td>109</td><td>60</td><td>108</td><td>05549120</td><td>05549120</td><td>PRFA.</td><td></td><td>MARIA OSORIO TEIX...</td><td>JARDIM DAS ESMERA...</td><td>JARDIM DAS ESMERA...</td></tr>\n",
       "<tr><td>LINESTRING (31959...</td><td>5</td><td>59.831297999999997</td><td>753718</td><td>SG753718001</td><td>205</td><td>LESTE-OESTE</td><td>O</td><td>5549</td><td>5549</td><td>1</td><td>59</td><td>2</td><td>58</td><td>05549120</td><td>05549120</td><td>PRFA.</td><td></td><td>MARIA OSORIO TEIX...</td><td>JARDIM DAS ESMERA...</td><td>JARDIM DAS ESMERA...</td></tr>\n",
       "</table>\n",
       "only showing top 5 rows\n"
      ],
      "text/plain": [
       "+--------------------+---+-------------------+------+-----------+------+-----------+-------+--------+---------+----------+--------+----------+---------+--------+--------+------+----+--------------------+--------------------+--------------------+\n",
       "|            geometry| ID|             LENGTH|  CODL|        SEG|ANGULO|  ORIENTA_O|COD_ORI|LEFT_ZIP|RIGHT_ZIP|START_LEFT|END_LEFT|START_RIGH|END_RIGHT|   CEP_D|   CEP_E|TITULO|PREP|                NAME|            BAIRRO_D|            BAIRRO_E|\n",
       "+--------------------+---+-------------------+------+-----------+------+-----------+-------+--------+---------+----------+--------+----------+---------+--------+--------+------+----+--------------------+--------------------+--------------------+\n",
       "|LINESTRING (31949...|  1|227.218229000000010|731960|SG731960001|   170|LESTE-OESTE|      O|    5547|     5547|         1|     227|         2|      226|05547020|05547020|      |    |      ERNESTO PAGLIA|   JARDIM ROSA MARIA|   JARDIM ROSA MARIA|\n",
       "|LINESTRING (31949...|  2|100.109236999999990|753718|SG753718003|   294|  NORTE-SUL|      S|    5549|     5549|       111|     209|       110|      208|05549120|05549120| PRFA.|    |MARIA OSORIO TEIX...|JARDIM DAS ESMERA...|JARDIM DAS ESMERA...|\n",
       "|LINESTRING (31955...|  3| 76.883336000000000|734519|SG734519005|   135|LESTE-OESTE|      O|    5549|     5549|       281|     355|       280|      354|05549080|05549080|      |    |  VITORIANO DA SILVA|JARDIM DAS ESMERA...|JARDIM DAS ESMERA...|\n",
       "|LINESTRING (31954...|  4| 50.402368000000003|753718|SG753718002|   208|LESTE-OESTE|      O|    5549|     5549|        61|     109|        60|      108|05549120|05549120| PRFA.|    |MARIA OSORIO TEIX...|JARDIM DAS ESMERA...|JARDIM DAS ESMERA...|\n",
       "|LINESTRING (31959...|  5| 59.831297999999997|753718|SG753718001|   205|LESTE-OESTE|      O|    5549|     5549|         1|      59|         2|       58|05549120|05549120| PRFA.|    |MARIA OSORIO TEIX...|JARDIM DAS ESMERA...|JARDIM DAS ESMERA...|\n",
       "+--------------------+---+-------------------+------+-----------+------+-----------+-------+--------+---------+----------+--------+----------+---------+--------+--------+------+----+--------------------+--------------------+--------------------+\n",
       "only showing top 5 rows"
      ]
     },
     "execution_count": 211,
     "metadata": {},
     "output_type": "execute_result"
    }
   ],
   "source": [
    "# shapefiles for sectors:\n",
    "zipcode_rdd = ShapefileReader.readToGeometryRDD(\n",
    "    sc=spark, inputPath=RAW_DATA_DIR + \"sp_layers/logradouros/*\"\n",
    ")\n",
    "\n",
    "df_zipcode = Adapter.toDf(zipcode_rdd, spark)\n",
    "df_zipcode.createOrReplaceTempView(\"tb_zipcode\")\n",
    "\n",
    "# verifying the zipcode shapes::\n",
    "df_zipcode"
   ]
  },
  {
   "cell_type": "code",
   "execution_count": 212,
   "metadata": {},
   "outputs": [],
   "source": [
    "# converting the coordinate system in the zipcode file:\n",
    "Q_ZIPCODE_CONVERSION = \"\"\"\n",
    "WITH zip_left as (\n",
    "  SELECT \n",
    "    DISTINCT A.CEP_E as zipcode,\n",
    "    ST_FlipCoordinates(ST_Transform(A.geometry, 'epsg:29193','epsg:4326')) as geometry,\n",
    "    A.NAME as street_name,\n",
    "    A.LENGTH as street_length\n",
    "    FROM tb_zipcode as A  \n",
    "),\n",
    "\n",
    "zip_right as (\n",
    "    SELECT\n",
    "        DISTINCT A.CEP_D as zipcode,\n",
    "        ST_FlipCoordinates(ST_Transform(A.geometry, 'epsg:29193','epsg:4326')) as geometry,\n",
    "        A.NAME as street_name,\n",
    "        A.LENGTH as street_length\n",
    "        FROM tb_zipcode as A      \n",
    ")\n",
    "\n",
    "SELECT * FROM zip_left \n",
    "UNION \n",
    "SELECT * FROM zip_right\n",
    "\"\"\"\n",
    "\n",
    "df_zipcode = spark.sql(Q_ZIPCODE_CONVERSION)\n",
    "\n",
    "# dropping duplicates:\n",
    "df_zipcode = df_zipcode.drop_duplicates(subset=[\"zipcode\"])"
   ]
  },
  {
   "cell_type": "code",
   "execution_count": 213,
   "metadata": {},
   "outputs": [
    {
     "data": {
      "text/html": [
       "<table border='1'>\n",
       "<tr><th>zipcode</th><th>geometry</th><th>street_name</th><th>street_length</th></tr>\n",
       "<tr><td>01012030</td><td>LINESTRING (-46.6...</td><td>CAFE</td><td>21.804877000000001</td></tr>\n",
       "<tr><td>01233001</td><td>LINESTRING (-46.6...</td><td>TUPI</td><td>16.602098000000002</td></tr>\n",
       "<tr><td>01248050</td><td>LINESTRING (-46.6...</td><td>PENAPOLIS</td><td>17.203655999999999</td></tr>\n",
       "<tr><td>01303040</td><td>LINESTRING (-46.6...</td><td>GRAVATAI</td><td>141.574693000000000</td></tr>\n",
       "<tr><td>01439020</td><td>LINESTRING (-46.6...</td><td>JAMAICA</td><td>94.675585999999996</td></tr>\n",
       "</table>\n",
       "only showing top 5 rows\n"
      ],
      "text/plain": [
       "+--------+--------------------+-----------+-------------------+\n",
       "| zipcode|            geometry|street_name|      street_length|\n",
       "+--------+--------------------+-----------+-------------------+\n",
       "|01012030|LINESTRING (-46.6...|       CAFE| 21.804877000000001|\n",
       "|01233001|LINESTRING (-46.6...|       TUPI| 16.602098000000002|\n",
       "|01248050|LINESTRING (-46.6...|  PENAPOLIS| 17.203655999999999|\n",
       "|01303040|LINESTRING (-46.6...|   GRAVATAI|141.574693000000000|\n",
       "|01439020|LINESTRING (-46.6...|    JAMAICA| 94.675585999999996|\n",
       "+--------+--------------------+-----------+-------------------+\n",
       "only showing top 5 rows"
      ]
     },
     "execution_count": 213,
     "metadata": {},
     "output_type": "execute_result"
    }
   ],
   "source": [
    "# resulting dataframe becomes:\n",
    "df_zipcode"
   ]
  },
  {
   "cell_type": "code",
   "execution_count": 214,
   "metadata": {},
   "outputs": [
    {
     "data": {
      "text/plain": [
       "44886"
      ]
     },
     "execution_count": 214,
     "metadata": {},
     "output_type": "execute_result"
    }
   ],
   "source": [
    "# number of distinct zip codes:\n",
    "df_zipcode.count()"
   ]
  },
  {
   "cell_type": "code",
   "execution_count": 215,
   "metadata": {},
   "outputs": [],
   "source": [
    "# registering to SQL context:\n",
    "df_zipcode.createOrReplaceTempView(\"tb_zipcode\")"
   ]
  },
  {
   "cell_type": "markdown",
   "metadata": {},
   "source": [
    "## 1.6 Census Codebook\n",
    "The codebook is a master file that contains the name of the variables in respect to their original locations and meaning in the raw data. We will use these to give more meaningful names to the many census variables."
   ]
  },
  {
   "cell_type": "code",
   "execution_count": 217,
   "metadata": {},
   "outputs": [],
   "source": [
    "# loading the codebook from the census data\n",
    "DATA_DOC_DIR = \"../references/documentation/\"\n",
    "\n",
    "df_codebook = spark.read.json(DATA_DOC_DIR + \"ibge/codebook_features_selected.json\")"
   ]
  },
  {
   "cell_type": "code",
   "execution_count": 218,
   "metadata": {},
   "outputs": [],
   "source": [
    "# we will normalize the data in the codebook such that we can use it to match the variables in the other datasets:\n",
    "new_cols = {\n",
    "    \"Descrição da Variável\": \"variable_description\",\n",
    "    \"Nome da Variável\": \"variable_name\",\n",
    "    \"Tabela\": \"dataset\",\n",
    "}\n",
    "\n",
    "for original_name, new_name in new_cols.items():\n",
    "    df_codebook = df_codebook.withColumnRenamed(original_name, new_name)"
   ]
  },
  {
   "cell_type": "code",
   "execution_count": 219,
   "metadata": {},
   "outputs": [
    {
     "data": {
      "text/plain": [
       "4107"
      ]
     },
     "execution_count": 219,
     "metadata": {},
     "output_type": "execute_result"
    }
   ],
   "source": [
    "# codebook yields:\n",
    "df_codebook.count()  # there are a total of 4107 variables in all the datasets"
   ]
  },
  {
   "cell_type": "code",
   "execution_count": 220,
   "metadata": {},
   "outputs": [
    {
     "data": {
      "text/html": [
       "<table border='1'>\n",
       "<tr><th>dataset_name_pt</th><th>is_selected</th><th>normalized_variable</th><th>simplified_variable_name</th><th>variable_description_en</th><th>variable_description_pt</th><th>variable_name</th></tr>\n",
       "<tr><td>Básico</td><td>1</td><td>sector_code</td><td>cod_setor</td><td>Sector code</td><td>Código do setor</td><td>Cod_setor</td></tr>\n",
       "<tr><td>Básico</td><td>1</td><td>code_large_region...</td><td>cod_grandes_regioes</td><td>Code of Large Reg...</td><td>Código das Grande...</td><td>Cod_Grandes Regiões</td></tr>\n",
       "<tr><td>Básico</td><td>1</td><td>name_large_region...</td><td>nome_grande_regiao</td><td>Name of large reg...</td><td>Nome das Grandes ...</td><td>Nome_Grande_Regiao</td></tr>\n",
       "<tr><td>Básico</td><td>1</td><td>federation_unit_code</td><td>cod_uf</td><td>Federation Unit Code</td><td>Código da Unidade...</td><td>Cod_UF</td></tr>\n",
       "<tr><td>Básico</td><td>1</td><td>name_federation_unit</td><td>nome_da_uf</td><td>Name of the Feder...</td><td>Nome da Unidade d...</td><td>Nome_da_UF</td></tr>\n",
       "</table>\n",
       "only showing top 5 rows\n"
      ],
      "text/plain": [
       "+---------------+-----------+--------------------+------------------------+-----------------------+-----------------------+-------------------+\n",
       "|dataset_name_pt|is_selected| normalized_variable|simplified_variable_name|variable_description_en|variable_description_pt|      variable_name|\n",
       "+---------------+-----------+--------------------+------------------------+-----------------------+-----------------------+-------------------+\n",
       "|         Básico|          1|         sector_code|               cod_setor|            Sector code|        Código do setor|          Cod_setor|\n",
       "|         Básico|          1|code_large_region...|     cod_grandes_regioes|   Code of Large Reg...|   Código das Grande...|Cod_Grandes Regiões|\n",
       "|         Básico|          1|name_large_region...|      nome_grande_regiao|   Name of large reg...|   Nome das Grandes ...| Nome_Grande_Regiao|\n",
       "|         Básico|          1|federation_unit_code|                  cod_uf|   Federation Unit Code|   Código da Unidade...|             Cod_UF|\n",
       "|         Básico|          1|name_federation_unit|              nome_da_uf|   Name of the Feder...|   Nome da Unidade d...|         Nome_da_UF|\n",
       "+---------------+-----------+--------------------+------------------------+-----------------------+-----------------------+-------------------+\n",
       "only showing top 5 rows"
      ]
     },
     "execution_count": 220,
     "metadata": {},
     "output_type": "execute_result"
    }
   ],
   "source": [
    "# verifying the dataset:\n",
    "df_codebook"
   ]
  },
  {
   "cell_type": "code",
   "execution_count": 221,
   "metadata": {},
   "outputs": [],
   "source": [
    "# building udfs from the utilities:\n",
    "normalize_entities_udf = F.udf(normalize_entities)\n",
    "\n",
    "df_codebook = df_codebook.withColumn(\n",
    "    \"dataset_normalized\", normalize_entities_udf(F.col(\"dataset_name_pt\"))\n",
    ")"
   ]
  },
  {
   "cell_type": "code",
   "execution_count": 222,
   "metadata": {},
   "outputs": [],
   "source": [
    "# fixing the order of columns for the codebook:\n",
    "df_codebook_subset = df_codebook.select(\n",
    "    \"dataset_normalized\", \"simplified_variable_name\", \"normalized_variable\"\n",
    ")\n",
    "\n",
    "# generating a lookup table base on the dataset : original_name relation\n",
    "map_rdd = df_codebook_subset.rdd.groupBy(lambda row: row[\"dataset_normalized\"]).map(\n",
    "    lambda row: (row[0], {variable[1]: variable[2] for variable in row[1]})\n",
    ")\n",
    "\n",
    "codebook_lookup = dict(map_rdd.collect())"
   ]
  },
  {
   "cell_type": "markdown",
   "metadata": {},
   "source": [
    "## 1.7 Census Data\n",
    "The Census data itself is broken up in several different files that represent the different entities of the data. For example:\n",
    "\n",
    "1. Domicilio{N}: refers to data at the `household`. Things like number of households in a sector, number of residents and such is located here;\n",
    "2. Pessoa{N}: refers to the `person` data. Here we can find information about the sociodemographic make-up of the sector, such as gender distributions, number of children, race profiles, et cetera;\n",
    "\n",
    "... and so on.\n",
    "\n",
    "I will process all the files related to the city of São Paulo and gather them into the appropriate entities. I also went ahead and pre-selected several features from the codebook, such that we won't use all of the available features (`4107` according to the codebook)."
   ]
  },
  {
   "cell_type": "markdown",
   "metadata": {},
   "source": [
    "# 2. Processing the Census Data"
   ]
  },
  {
   "cell_type": "code",
   "execution_count": 223,
   "metadata": {},
   "outputs": [],
   "source": [
    "# defining a blacklist of column names to not convert data types:\n",
    "\n",
    "blacklist = [\n",
    "    \"cod_bairro\",\n",
    "    \"cod_distrito\",\n",
    "    \"cod_grandes_regioes\",\n",
    "    \"cod_meso\",\n",
    "    \"cod_micro\",\n",
    "    \"cod_municipio\",\n",
    "    \"cod_rm\",\n",
    "    \"cod_setor\",\n",
    "    \"cod_subdistrito\",\n",
    "    \"cod_uf\",\n",
    "    \"nome_da_meso\",\n",
    "    \"nome_da_micro\",\n",
    "    \"nome_da_rm\",\n",
    "    \"nome_da_uf\",\n",
    "    \"nome_do_bairro\",\n",
    "    \"nome_do_distrito\",\n",
    "    \"nome_do_municipio\",\n",
    "    \"nome_do_subdistrito\",\n",
    "    \"nome_grande_regiao\",\n",
    "    \"situacao_setor\",\n",
    "    \"tipo_setor\",\n",
    "    \"situacao\",\n",
    "    \"setor_precoleta\",\n",
    "]"
   ]
  },
  {
   "cell_type": "code",
   "execution_count": 224,
   "metadata": {},
   "outputs": [],
   "source": [
    "# list all the files available on the census data directory:\n",
    "census_files = sorted(glob(RAW_DATA_DIR + \"sp_census/universe_results/*.csv\"))\n",
    "BASE_PATH = RAW_DATA_DIR + \"sp_census/universe_results/\"\n",
    "\n",
    "# saving the resulting dataframes to a processed stage for further handling:\n",
    "PROCESSED_CENSUS_DATA_DIR = \"../data/processed/sp_census/raw_datasets/\"\n",
    "\n",
    "# instantiating the UDF for replacing decimal separators:\n",
    "replace_decimal_separator_udf = F.udf(replace_decimal_separator)\n",
    "census_data = []"
   ]
  },
  {
   "cell_type": "code",
   "execution_count": 225,
   "metadata": {},
   "outputs": [
    {
     "name": "stderr",
     "output_type": "stream",
     "text": [
      "  0%|          | 0/26 [00:00<?, ?it/s]"
     ]
    },
    {
     "name": "stdout",
     "output_type": "stream",
     "text": [
      "Processing file: ../data/raw/sp_census/universe_results/Basico_SP1.csv\n",
      "Dropping columns [] - not present in the codebook\n",
      "Dropping columns [] for being duplicates\n"
     ]
    },
    {
     "name": "stderr",
     "output_type": "stream",
     "text": [
      "  4%|▍         | 1/26 [00:00<00:23,  1.09it/s]"
     ]
    },
    {
     "name": "stdout",
     "output_type": "stream",
     "text": [
      "Processing file: ../data/raw/sp_census/universe_results/Domicilio01_SP1.csv\n",
      "Dropping columns [] - not present in the codebook\n",
      "Dropping columns ['V026', 'V120', 'V202', 'V206', 'V025', 'V198', 'V041', 'V203', 'V204', 'V119', 'V126', 'V125', 'V039', 'V208', 'V004', 'V139', 'V035'] for being duplicates\n"
     ]
    },
    {
     "name": "stderr",
     "output_type": "stream",
     "text": [
      "  8%|▊         | 2/26 [00:44<10:24, 26.03s/it]"
     ]
    },
    {
     "name": "stdout",
     "output_type": "stream",
     "text": [
      "Processing file: ../data/raw/sp_census/universe_results/Domicilio02_SP1.csv\n",
      "Dropping columns [] - not present in the codebook\n",
      "Dropping columns ['V002', 'V098', 'V046', 'V054', 'V090', 'V010'] for being duplicates\n"
     ]
    },
    {
     "name": "stderr",
     "output_type": "stream",
     "text": [
      " 12%|█▏        | 3/26 [00:55<07:18, 19.05s/it]"
     ]
    },
    {
     "name": "stdout",
     "output_type": "stream",
     "text": [
      "Processing file: ../data/raw/sp_census/universe_results/DomicilioRenda_SP1.csv\n",
      "Dropping columns [] - not present in the codebook\n",
      "Dropping columns [] for being duplicates\n"
     ]
    },
    {
     "name": "stderr",
     "output_type": "stream",
     "text": [
      " 15%|█▌        | 4/26 [00:55<04:18, 11.75s/it]"
     ]
    },
    {
     "name": "stdout",
     "output_type": "stream",
     "text": [
      "Processing file: ../data/raw/sp_census/universe_results/Entorno01_SP1.csv\n",
      "Dropping columns ['Cod_Grandes Regiões', 'Cod_RM', 'Cod_UF', 'Cod_bairro', 'Cod_distrito', 'Cod_meso', 'Cod_micro', 'Cod_municipio', 'Cod_subdistrito', 'Nome_Grande_Regiao', 'Nome_da_RM', 'Nome_da_UF ', 'Nome_da_meso', 'Nome_da_micro', 'Nome_do_bairro', 'Nome_do_distrito', 'Nome_do_municipio', 'Nome_do_subdistrito', 'Setor_Precoleta'] - not present in the codebook\n",
      "Dropping columns ['V022', 'V007', 'V003', 'V023', 'V041', 'V103', 'V057', 'V102', 'V162', 'V059', 'Situacao_setor', 'V004', 'Cod_setor', 'V014', 'V062', 'V002', 'V021', 'V020', 'V063', 'V016', 'V039', 'V163', 'V006'] for being duplicates\n"
     ]
    },
    {
     "name": "stderr",
     "output_type": "stream",
     "text": [
      " 19%|█▉        | 5/26 [01:20<05:45, 16.46s/it]"
     ]
    },
    {
     "name": "stdout",
     "output_type": "stream",
     "text": [
      "Processing file: ../data/raw/sp_census/universe_results/Entorno02_SP1.csv\n",
      "Dropping columns ['Cod_Grandes Regiões', 'Cod_RM', 'Cod_UF', 'Cod_bairro', 'Cod_distrito', 'Cod_meso', 'Cod_micro', 'Cod_municipio', 'Cod_subdistrito', 'Nome_Grande_Regiao', 'Nome_da_RM', 'Nome_da_UF ', 'Nome_da_meso', 'Nome_da_micro', 'Nome_do_bairro', 'Nome_do_distrito', 'Nome_do_municipio', 'Nome_do_subdistrito', 'Setor_Precoleta'] - not present in the codebook\n",
      "Dropping columns ['V206', 'V202', 'V203', 'V207', 'Situacao_setor', 'Cod_setor'] for being duplicates\n"
     ]
    },
    {
     "name": "stderr",
     "output_type": "stream",
     "text": [
      " 23%|██▎       | 6/26 [01:59<08:03, 24.16s/it]"
     ]
    },
    {
     "name": "stdout",
     "output_type": "stream",
     "text": [
      "Processing file: ../data/raw/sp_census/universe_results/Entorno03_SP1.csv\n",
      "Dropping columns ['Cod_Grandes Regiões', 'Cod_RM', 'Cod_UF', 'Cod_bairro', 'Cod_distrito', 'Cod_meso', 'Cod_micro', 'Cod_municipio', 'Cod_subdistrito', 'Nome_Grande_Regiao', 'Nome_da_RM', 'Nome_da_UF ', 'Nome_da_meso', 'Nome_da_micro', 'Nome_do_bairro', 'Nome_do_distrito', 'Nome_do_municipio', 'Nome_do_subdistrito', 'Setor_Precoleta'] - not present in the codebook\n",
      "Dropping columns ['V429', 'V477', 'V479', 'V453', 'V475', 'V457', 'V431', 'Situacao_setor', 'V478', 'V471', 'V480', 'Cod_setor'] for being duplicates\n"
     ]
    },
    {
     "name": "stderr",
     "output_type": "stream",
     "text": [
      " 27%|██▋       | 7/26 [02:28<08:05, 25.56s/it]"
     ]
    },
    {
     "name": "stdout",
     "output_type": "stream",
     "text": [
      "Processing file: ../data/raw/sp_census/universe_results/Entorno04_SP1.csv\n",
      "Dropping columns ['Cod_Grandes Regiões', 'Cod_RM', 'Cod_UF', 'Cod_bairro', 'Cod_distrito', 'Cod_meso', 'Cod_micro', 'Cod_municipio', 'Cod_subdistrito', 'Nome_Grande_Regiao', 'Nome_da_RM', 'Nome_da_UF ', 'Nome_da_meso', 'Nome_da_micro', 'Nome_do_bairro', 'Nome_do_distrito', 'Nome_do_municipio', 'Nome_do_subdistrito', 'Setor_Precoleta'] - not present in the codebook\n",
      "Dropping columns ['V693', 'V694', 'Cod_setor', 'Situacao_setor'] for being duplicates\n"
     ]
    },
    {
     "name": "stderr",
     "output_type": "stream",
     "text": [
      " 31%|███       | 8/26 [03:08<09:03, 30.21s/it]"
     ]
    },
    {
     "name": "stdout",
     "output_type": "stream",
     "text": [
      "Processing file: ../data/raw/sp_census/universe_results/Entorno05_SP1.csv\n",
      "Dropping columns ['Cod_Grandes Regiões', 'Cod_RM', 'Cod_UF', 'Cod_bairro', 'Cod_distrito', 'Cod_meso', 'Cod_micro', 'Cod_municipio', 'Cod_subdistrito', 'Nome_Grande_Regiao', 'Nome_da_RM', 'Nome_da_UF ', 'Nome_da_meso', 'Nome_da_micro', 'Nome_do_bairro', 'Nome_do_distrito', 'Nome_do_municipio', 'Nome_do_subdistrito', 'Setor_Precoleta'] - not present in the codebook\n",
      "Dropping columns ['Cod_setor', 'Situacao_setor'] for being duplicates\n"
     ]
    },
    {
     "name": "stderr",
     "output_type": "stream",
     "text": [
      " 35%|███▍      | 9/26 [03:49<09:31, 33.60s/it]"
     ]
    },
    {
     "name": "stdout",
     "output_type": "stream",
     "text": [
      "Processing file: ../data/raw/sp_census/universe_results/Pessoa01_SP1.csv\n",
      "Dropping columns [] - not present in the codebook\n",
      "Dropping columns [] for being duplicates\n"
     ]
    },
    {
     "name": "stderr",
     "output_type": "stream",
     "text": [
      " 38%|███▊      | 10/26 [03:54<06:34, 24.65s/it]"
     ]
    },
    {
     "name": "stdout",
     "output_type": "stream",
     "text": [
      "Processing file: ../data/raw/sp_census/universe_results/Pessoa02_SP1.csv\n",
      "Dropping columns ['V171', 'V172', 'V173', 'V174', 'V175', 'V176', 'V177', 'V178', 'V179', 'V180', 'V181', 'V182', 'V183', 'V184', 'V185', 'V186', 'V187', 'V188', 'V189', 'V190', 'V191', 'V192', 'V193', 'V194', 'V195', 'V196', 'V197', 'V198', 'V199', 'V200', 'V201', 'V202', 'V203', 'V204', 'V205', 'V206', 'V207', 'V208', 'V209', 'V210', 'V211', 'V212', 'V213', 'V214', 'V215', 'V216', 'V217', 'V218', 'V219', 'V220', 'V221', 'V222', 'V223', 'V224', 'V225', 'V226', 'V227', 'V228', 'V229', 'V230', 'V231', 'V232', 'V233', 'V234', 'V235', 'V236', 'V237', 'V238', 'V239', 'V240', 'V241', 'V242', 'V243', 'V244', 'V245', 'V246', 'V247', 'V248', 'V249', 'V250', 'V251', 'V252', 'V253', 'V254', 'V255'] - not present in the codebook\n",
      "Dropping columns ['V105', 'V094'] for being duplicates\n"
     ]
    },
    {
     "name": "stderr",
     "output_type": "stream",
     "text": [
      " 42%|████▏     | 11/26 [03:58<04:37, 18.49s/it]"
     ]
    },
    {
     "name": "stdout",
     "output_type": "stream",
     "text": [
      "Processing file: ../data/raw/sp_census/universe_results/Pessoa03_SP1.csv\n",
      "Dropping columns ['V002'] - not present in the codebook\n",
      "Dropping columns [] for being duplicates\n"
     ]
    },
    {
     "name": "stderr",
     "output_type": "stream",
     "text": [
      " 46%|████▌     | 12/26 [04:55<07:04, 30.30s/it]"
     ]
    },
    {
     "name": "stdout",
     "output_type": "stream",
     "text": [
      "Processing file: ../data/raw/sp_census/universe_results/Pessoa04_SP1.csv\n",
      "Dropping columns [] - not present in the codebook\n",
      "Dropping columns [] for being duplicates\n"
     ]
    },
    {
     "name": "stderr",
     "output_type": "stream",
     "text": [
      " 50%|█████     | 13/26 [05:12<05:41, 26.25s/it]"
     ]
    },
    {
     "name": "stdout",
     "output_type": "stream",
     "text": [
      "Processing file: ../data/raw/sp_census/universe_results/Pessoa05_SP1.csv\n",
      "Dropping columns [] - not present in the codebook\n",
      "Dropping columns [] for being duplicates\n"
     ]
    },
    {
     "name": "stderr",
     "output_type": "stream",
     "text": [
      " 54%|█████▍    | 14/26 [05:13<03:41, 18.44s/it]"
     ]
    },
    {
     "name": "stdout",
     "output_type": "stream",
     "text": [
      "Processing file: ../data/raw/sp_census/universe_results/Pessoa06_SP1.csv\n",
      "Dropping columns [] - not present in the codebook\n",
      "Dropping columns [] for being duplicates\n"
     ]
    },
    {
     "name": "stderr",
     "output_type": "stream",
     "text": [
      " 58%|█████▊    | 15/26 [05:50<04:25, 24.17s/it]"
     ]
    },
    {
     "name": "stdout",
     "output_type": "stream",
     "text": [
      "Processing file: ../data/raw/sp_census/universe_results/Pessoa07_SP1.csv\n",
      "Dropping columns [] - not present in the codebook\n",
      "Dropping columns ['V036', 'V202', 'V203', 'V042', 'V041', 'V189', 'V195', 'V194', 'V015', 'V161', 'V049', 'V168', 'V008', 'V050'] for being duplicates\n"
     ]
    },
    {
     "name": "stderr",
     "output_type": "stream",
     "text": [
      " 62%|██████▏   | 16/26 [06:18<04:13, 25.31s/it]"
     ]
    },
    {
     "name": "stdout",
     "output_type": "stream",
     "text": [
      "Processing file: ../data/raw/sp_census/universe_results/Pessoa08_SP1.csv\n",
      "Dropping columns ['Cod_setor', 'V255'] - not present in the codebook\n",
      "Dropping columns ['V206', 'V086', 'V064', 'V229', 'V251', 'V096', 'V227', 'V075', 'V228', 'V236', 'V209', 'V055', 'V091', 'V097', 'V218', 'V226', 'V084', 'V052', 'V242', 'V098', 'V054', 'V207', 'V053', 'V057', 'V215', 'V071', 'V083', 'V065', 'V239', 'V100', 'V082', 'V073', 'V216', 'V080', 'V205', 'V089', 'V059', 'V224', 'V245', 'V210', 'V223', 'V070', 'V058', 'V067', 'V244', 'V213', 'V062', 'V253', 'V237', 'V249', 'V060', 'V076', 'V063', 'V211', 'V056', 'V212', 'V250', 'V217', 'V208', 'V092', 'V220'] for being duplicates\n"
     ]
    },
    {
     "name": "stderr",
     "output_type": "stream",
     "text": [
      " 65%|██████▌   | 17/26 [06:54<04:17, 28.56s/it]"
     ]
    },
    {
     "name": "stdout",
     "output_type": "stream",
     "text": [
      "Processing file: ../data/raw/sp_census/universe_results/Pessoa09_SP1.csv\n",
      "Dropping columns [] - not present in the codebook\n",
      "Dropping columns ['V161', 'V157', 'V172', 'V168'] for being duplicates\n"
     ]
    },
    {
     "name": "stderr",
     "output_type": "stream",
     "text": [
      " 69%|██████▉   | 18/26 [07:44<04:38, 34.86s/it]"
     ]
    },
    {
     "name": "stdout",
     "output_type": "stream",
     "text": [
      "Processing file: ../data/raw/sp_census/universe_results/Pessoa10_SP1.csv\n",
      "Dropping columns [] - not present in the codebook\n",
      "Dropping columns [] for being duplicates\n"
     ]
    },
    {
     "name": "stderr",
     "output_type": "stream",
     "text": [
      " 73%|███████▎  | 19/26 [07:44<02:51, 24.45s/it]"
     ]
    },
    {
     "name": "stdout",
     "output_type": "stream",
     "text": [
      "Processing file: ../data/raw/sp_census/universe_results/Pessoa11_SP1.csv\n",
      "Dropping columns [] - not present in the codebook\n",
      "Dropping columns [] for being duplicates\n"
     ]
    },
    {
     "name": "stderr",
     "output_type": "stream",
     "text": [
      " 77%|███████▋  | 20/26 [07:56<02:04, 20.78s/it]"
     ]
    },
    {
     "name": "stdout",
     "output_type": "stream",
     "text": [
      "Processing file: ../data/raw/sp_census/universe_results/Pessoa12_SP1.csv\n",
      "Dropping columns [] - not present in the codebook\n",
      "Dropping columns [] for being duplicates\n"
     ]
    },
    {
     "name": "stderr",
     "output_type": "stream",
     "text": [
      " 81%|████████  | 21/26 [08:08<01:30, 18.18s/it]"
     ]
    },
    {
     "name": "stdout",
     "output_type": "stream",
     "text": [
      "Processing file: ../data/raw/sp_census/universe_results/Pessoa13_SP1.csv\n",
      "Dropping columns [] - not present in the codebook\n",
      "Dropping columns [] for being duplicates\n"
     ]
    },
    {
     "name": "stderr",
     "output_type": "stream",
     "text": [
      " 85%|████████▍ | 22/26 [08:20<01:05, 16.35s/it]"
     ]
    },
    {
     "name": "stdout",
     "output_type": "stream",
     "text": [
      "Processing file: ../data/raw/sp_census/universe_results/PessoaRenda_SP1.csv\n",
      "Dropping columns [] - not present in the codebook\n",
      "Dropping columns [] for being duplicates\n"
     ]
    },
    {
     "name": "stderr",
     "output_type": "stream",
     "text": [
      " 88%|████████▊ | 23/26 [08:33<00:45, 15.15s/it]"
     ]
    },
    {
     "name": "stdout",
     "output_type": "stream",
     "text": [
      "Processing file: ../data/raw/sp_census/universe_results/Responsavel01_SP1.csv\n",
      "Dropping columns [] - not present in the codebook\n",
      "Dropping columns [] for being duplicates\n"
     ]
    },
    {
     "name": "stderr",
     "output_type": "stream",
     "text": [
      " 92%|█████████▏| 24/26 [08:40<00:25, 12.86s/it]"
     ]
    },
    {
     "name": "stdout",
     "output_type": "stream",
     "text": [
      "Processing file: ../data/raw/sp_census/universe_results/Responsavel02_SP1.csv\n",
      "Dropping columns [] - not present in the codebook\n",
      "Dropping columns [] for being duplicates\n"
     ]
    },
    {
     "name": "stderr",
     "output_type": "stream",
     "text": [
      " 96%|█████████▌| 25/26 [09:20<00:20, 20.80s/it]"
     ]
    },
    {
     "name": "stdout",
     "output_type": "stream",
     "text": [
      "Processing file: ../data/raw/sp_census/universe_results/ResponsavelRenda_SP1.csv\n",
      "Dropping columns [] - not present in the codebook\n",
      "Dropping columns ['V052', 'V085', 'V019', 'V118', 'V063', 'V129'] for being duplicates\n"
     ]
    },
    {
     "name": "stderr",
     "output_type": "stream",
     "text": [
      "100%|██████████| 26/26 [09:31<00:00, 21.97s/it]\n"
     ]
    }
   ],
   "source": [
    "for file in tqdm(census_files):\n",
    "\n",
    "    print(f\"Processing file: {file}\")\n",
    "\n",
    "    # fixing names of the original tables\n",
    "    dataset_name = (\n",
    "        file.split(\"/\")[-1].replace(\".csv\", \"\").replace(\"SP1\", \"\").replace(\"_\", \"\")\n",
    "    )\n",
    "\n",
    "    # normalizes the text data for the dataset\n",
    "    dataset_name = normalize_entities(dataset_name)\n",
    "\n",
    "    # loading the raw csv file\n",
    "    df_temp = spark.read.csv(\n",
    "        file,\n",
    "        header=True,\n",
    "        sep=\";\",\n",
    "        inferSchema=False,\n",
    "        encoding=\"ISO-8859-1\",\n",
    "    )\n",
    "\n",
    "    # dropping duplicated columns (we can't do much about these)\n",
    "    df_temp = drop_invalid_census_columns(df_temp, codebook_lookup, dataset_name)\n",
    "\n",
    "    # retrieving the columns:\n",
    "    original_columns = sorted(df_temp.columns)\n",
    "\n",
    "    # normalize column names:\n",
    "    normalized_columns = list(map(clean_census_column_name, original_columns))\n",
    "\n",
    "    # looking up column names:\n",
    "    new_columns = list(\n",
    "        map(lambda col: codebook_lookup[dataset_name][col], normalized_columns)\n",
    "    )\n",
    "\n",
    "    # get columns with duplicates:\n",
    "    cols_map = dict(zip(normalized_columns, new_columns))\n",
    "\n",
    "    # iterating over the columns to replace with the new ones:\n",
    "    for i in range(len(original_columns)):\n",
    "\n",
    "        input_col = original_columns[i]\n",
    "        check_col = clean_census_column_name(input_col)\n",
    "        output_col = new_columns[i]\n",
    "\n",
    "        try:\n",
    "\n",
    "            if check_col not in blacklist:\n",
    "\n",
    "                # renames the column:\n",
    "                df_temp = df_temp.withColumnRenamed(input_col, output_col)\n",
    "\n",
    "                # in this case, convert the data types to float after replacing decimal separators:\n",
    "                df_temp = df_temp.withColumn(\n",
    "                    output_col, replace_decimal_separator_udf(F.col(output_col))\n",
    "                ).withColumn(output_col, F.col(output_col).cast(\"double\"))\n",
    "\n",
    "            else:\n",
    "                df_temp = df_temp.withColumnRenamed(input_col, output_col)\n",
    "\n",
    "        except Exception as e:\n",
    "            print(f\"Dropping column {col} as it could not be processed: {e}\")\n",
    "\n",
    "            df_temp.drop(input_col)\n",
    "\n",
    "    # using the helper function to save the file:\n",
    "    OUTPUT_NAME = f\"tb_{dataset_name}\"\n",
    "\n",
    "    save_to_filesystem(\n",
    "        df_temp, PROCESSED_CENSUS_DATA_DIR, OUTPUT_NAME, OUTPUT_NAME + \".parquet\"\n",
    "    )"
   ]
  },
  {
   "cell_type": "markdown",
   "metadata": {},
   "source": [
    "# 3. Summarizing the Polygon Data\n",
    "In order to simplify the operations with Polygon data at the lowest level (sector), we will add a helper column as an approximation of the geospatial reference of the sector by calculating its centroid. This will allow simpler joins later on at a reasonable level of approximation due to the comparatively small area of the census sectors.\n",
    "\n",
    "We will also use these to generate the features themselves at different levels. "
   ]
  },
  {
   "cell_type": "code",
   "execution_count": 226,
   "metadata": {},
   "outputs": [],
   "source": [
    "# registering dataframes as temporary table views -- will allow us to access them in SQL Context:\n",
    "df_sector.createOrReplaceTempView(\"tb_census_sector\")"
   ]
  },
  {
   "cell_type": "code",
   "execution_count": 227,
   "metadata": {},
   "outputs": [],
   "source": [
    "# adding the centroid and area of the polygons:\n",
    "Q_ADD_GEOM = \"\"\"\n",
    "SELECT \n",
    "    A.*,\n",
    "    ST_Centroid(A.geometry) as sector_centroid,\n",
    "    ST_X(ST_Centroid(A.geometry)) as centroid_longitude,\n",
    "    ST_Y(ST_Centroid(A.geometry)) as centroid_latitude\n",
    "FROM tb_census_sector as A\n",
    "\"\"\"\n",
    "\n",
    "# adding the geometry:\n",
    "df_sector = spark.sql(Q_ADD_GEOM)"
   ]
  },
  {
   "cell_type": "code",
   "execution_count": 228,
   "metadata": {},
   "outputs": [
    {
     "name": "stdout",
     "output_type": "stream",
     "text": [
      "root\n",
      " |-- id: string (nullable = true)\n",
      " |-- geometry: geometry (nullable = true)\n",
      " |-- sector_code: string (nullable = true)\n",
      " |-- city_code: string (nullable = true)\n",
      " |-- neighborhood_code: string (nullable = true)\n",
      " |-- city: string (nullable = true)\n",
      " |-- neighborhood: string (nullable = true)\n",
      " |-- sector_type: string (nullable = true)\n",
      " |-- sector_centroid: geometry (nullable = false)\n",
      " |-- centroid_longitude: double (nullable = true)\n",
      " |-- centroid_latitude: double (nullable = true)\n",
      "\n"
     ]
    }
   ],
   "source": [
    "# verifying the resulting schema:\n",
    "df_sector.printSchema()  # looks good to go"
   ]
  },
  {
   "cell_type": "markdown",
   "metadata": {},
   "source": [
    "# 4. Selecting the target features\n",
    "\n",
    "In the codebook file provided, I had already selected several features of interest as a basis for this project. As it is originally intended for use in the Real State industry, the selection reflect that. Anyone interested in other kinds of features is free to create a selection of his or her own and use the following code as reference. The original files that hold the variables of interest are the following:\n",
    "\n",
    "1. `Basico`\n",
    "2. `Domicilio01`\n",
    "3. `Domicilio02`\n",
    "4. `Pessoa11`\n",
    "5. `Pessoa12`\n",
    "6. `Pessoa13`\n",
    "7. `Responsavel02`"
   ]
  },
  {
   "cell_type": "code",
   "execution_count": 229,
   "metadata": {},
   "outputs": [],
   "source": [
    "# specifying a directory for the census data:\n",
    "CENSUS_DATA_DIR = \"../data/processed/sp_census/raw_datasets/\"\n",
    "\n",
    "# basico - basic entity:\n",
    "tb_basico = spark.read.parquet(CENSUS_DATA_DIR + \"tb_basico.parquet\")\n",
    "\n",
    "# domicilio - housing entities:\n",
    "tb_domicilio01 = spark.read.parquet(CENSUS_DATA_DIR + \"tb_domicilio01.parquet\")\n",
    "tb_domicilio02 = spark.read.parquet(CENSUS_DATA_DIR + \"tb_domicilio02.parquet\")\n",
    "\n",
    "# pessoa - person entities:\n",
    "tb_pessoa01 = spark.read.parquet(CENSUS_DATA_DIR + \"tb_pessoa01.parquet\")\n",
    "tb_pessoa11 = spark.read.parquet(CENSUS_DATA_DIR + \"tb_pessoa11.parquet\")\n",
    "tb_pessoa12 = spark.read.parquet(CENSUS_DATA_DIR + \"tb_pessoa12.parquet\")\n",
    "tb_pessoa13 = spark.read.parquet(CENSUS_DATA_DIR + \"tb_pessoa13.parquet\")\n",
    "\n",
    "# resposavel - household responsible entities:\n",
    "tb_responsible02 = spark.read.parquet(CENSUS_DATA_DIR + \"tb_responsavel02.parquet\")"
   ]
  },
  {
   "cell_type": "code",
   "execution_count": 230,
   "metadata": {},
   "outputs": [
    {
     "data": {
      "text/plain": [
       "18363"
      ]
     },
     "execution_count": 230,
     "metadata": {},
     "output_type": "execute_result"
    }
   ],
   "source": [
    "# listing the number of census sectors:\n",
    "tb_basico.count()  # joins show end up with the same number of rows (distinct sectors)"
   ]
  },
  {
   "cell_type": "code",
   "execution_count": 231,
   "metadata": {},
   "outputs": [],
   "source": [
    "# joining all the datasets before selecting:\n",
    "tb_census = tb_basico.join(\n",
    "    tb_domicilio01, on=[\"sector_code\", \"sector_situation_code\"], how=\"left\"\n",
    ")\n",
    "tb_census = tb_census.join(\n",
    "    tb_domicilio02, on=[\"sector_code\", \"sector_situation_code\"], how=\"left\"\n",
    ")\n",
    "tb_census = tb_census.join(\n",
    "    tb_pessoa11, on=[\"sector_code\", \"sector_situation_code\"], how=\"left\"\n",
    ")\n",
    "tb_census = tb_census.join(\n",
    "    tb_pessoa12, on=[\"sector_code\", \"sector_situation_code\"], how=\"left\"\n",
    ")\n",
    "tb_census = tb_census.join(\n",
    "    tb_responsible02, on=[\"sector_code\", \"sector_situation_code\"], how=\"left\"\n",
    ")\n",
    "\n",
    "tb_census = tb_census.join(\n",
    "    tb_pessoa01, on=[\"sector_code\", \"sector_situation_code\"], how=\"left\"\n",
    ")"
   ]
  },
  {
   "cell_type": "code",
   "execution_count": 233,
   "metadata": {},
   "outputs": [],
   "source": [
    "# verifying the data integrity:\n",
    "assert (\n",
    "    tb_basico.count() == tb_census.count()\n",
    "), \"There are more rows than expected in the final file\""
   ]
  },
  {
   "cell_type": "code",
   "execution_count": 234,
   "metadata": {},
   "outputs": [],
   "source": [
    "# selecting the columns that are relevant from the codebook:\n",
    "col_selection = df_codebook.filter(F.col(\"is_selected\") == 1)"
   ]
  },
  {
   "cell_type": "code",
   "execution_count": 235,
   "metadata": {},
   "outputs": [],
   "source": [
    "# keeping the columns of interest:\n",
    "cols_to_keep = get_column_values(col_selection, \"normalized_variable\")"
   ]
  },
  {
   "cell_type": "code",
   "execution_count": 236,
   "metadata": {},
   "outputs": [],
   "source": [
    "# dropping the columns that are not part of the selection:\n",
    "tb_census = tb_census.drop(\n",
    "    *[col for col in tb_census.columns if col not in cols_to_keep]\n",
    ")"
   ]
  },
  {
   "cell_type": "markdown",
   "metadata": {},
   "source": [
    "# 5. Preparing features at the units of interest level\n",
    "\n",
    "As previously described in the `1.0 Data Understanding - All Datasets.ipynb` notebook, we have several units of interest for the datasets we are working with. These are the following:\n",
    "\n",
    "1. `sector`: the lowest unit of measurement for the Brazilian Census, which is one of most important geospatially referenced datasets we will be working with;\n",
    "2. `zipcode`: zip codes in the city of São Paulo can be roughly approximated to an entire street (also called a logradouro);\n",
    "3. `area_of_ponderation`: areas of ponderation are contiguous groups of census sectors;\n",
    "4. `neighborhoods`: areas that are often (but not directly) related to the neighborhoods of the city;\n",
    "5. `districts`: districts are administrative regions defined by law (and thus, won't change much over time), used to allocate resources by the City Hall;\n",
    "\n",
    "The map below illustrates this relationship:\n",
    "\n",
    "![Map illustrating the different layers](../references/img/layers_map_example.png)\n",
    "\n",
    "We will aggregate the features at the levels above and maintain them in their raw state. Note: the zip code data will be processed in a different notebook as it requires a different processing approach."
   ]
  },
  {
   "cell_type": "code",
   "execution_count": 238,
   "metadata": {},
   "outputs": [],
   "source": [
    "# adding the geometry dataframes to the SQL Context:\n",
    "df_ap.createOrReplaceTempView(\"tb_ponderation\")\n",
    "df_nb.createOrReplaceTempView(\"tb_neighborhood\")\n",
    "df_district.createOrReplaceTempView(\"tb_district\")"
   ]
  },
  {
   "cell_type": "code",
   "execution_count": 239,
   "metadata": {},
   "outputs": [],
   "source": [
    "# adding the raw features to the geometry:\n",
    "df_sector_features = (\n",
    "    df_sector.join(\n",
    "        tb_census, (df_sector.sector_code == tb_census.sector_code), how=\"left\"\n",
    "    )\n",
    "    .drop(tb_census.neighborhood_code)\n",
    "    .drop(tb_census.sector_code)\n",
    ")"
   ]
  },
  {
   "cell_type": "code",
   "execution_count": 240,
   "metadata": {},
   "outputs": [
    {
     "data": {
      "text/plain": [
       "18953"
      ]
     },
     "execution_count": 240,
     "metadata": {},
     "output_type": "execute_result"
    }
   ],
   "source": [
    "# retrieving the number of rows after the join:\n",
    "df_sector_features.count()"
   ]
  },
  {
   "cell_type": "code",
   "execution_count": 241,
   "metadata": {},
   "outputs": [
    {
     "name": "stdout",
     "output_type": "stream",
     "text": [
      "-RECORD 0----------------------------------------------------------------------------------------------------------------\n",
      " id                                                                                                                | 0   \n",
      " geometry                                                                                                          | 0   \n",
      " sector_code                                                                                                       | 0   \n",
      " city_code                                                                                                         | 0   \n",
      " neighborhood_code                                                                                                 | 0   \n",
      " city                                                                                                              | 0   \n",
      " neighborhood                                                                                                      | 0   \n",
      " sector_type                                                                                                       | 0   \n",
      " sector_centroid                                                                                                   | 0   \n",
      " centroid_longitude                                                                                                | 0   \n",
      " centroid_latitude                                                                                                 | 0   \n",
      " sector_situation_code                                                                                             | 590 \n",
      " code_large_regions_geographical_regions                                                                           | 590 \n",
      " name_large_regions_geographical_regions                                                                           | 590 \n",
      " federation_unit_code                                                                                              | 590 \n",
      " name_federation_unit                                                                                              | 590 \n",
      " mesoregion_code                                                                                                   | 590 \n",
      " name_mesoregion                                                                                                   | 590 \n",
      " microregion_code                                                                                                  | 590 \n",
      " name_microregion                                                                                                  | 590 \n",
      " metropolitan_region_code_or_ride                                                                                  | 590 \n",
      " name_metropolitan_region_or_ride                                                                                  | 590 \n",
      " code_municipality                                                                                                 | 590 \n",
      " name_municipality                                                                                                 | 590 \n",
      " district_code                                                                                                     | 590 \n",
      " district_name                                                                                                     | 590 \n",
      " subdistrict_code                                                                                                  | 590 \n",
      " name_sub_district                                                                                                 | 590 \n",
      " name_neighborhood                                                                                                 | 590 \n",
      " sector_type_code                                                                                                  | 590 \n",
      " permanent_private_households_or_persons_responsible_for_permanent_private_households                              | 620 \n",
      " residents_permanent_private_households_or_population_residing_permanent_private_households                        | 620 \n",
      " average_number_dwellers_permanent_private_households_obtained_by_var2_division_by_var1                            | 620 \n",
      " value_average_monthly_nominal_income_persons_responsible_for_permanent_private_households_with_and_without_income | 620 \n",
      " permanent_private_households_and_disposed                                                                         | 747 \n",
      " permanent_private_households_acquisition                                                                          | 747 \n",
      " permanent_private_households_rented                                                                               | 747 \n",
      " permanent_private_households_with_3_bathrooms_residents                                                           | 747 \n",
      " permanent_private_households_without_exclusive_use_bathroom_residents                                             | 747 \n",
      " permanent_private_households_with_electricity                                                                     | 747 \n",
      " permanent_private_households_with_1_resident                                                                      | 747 \n",
      " permanent_private_households_with_2_residents                                                                     | 747 \n",
      " permanent_private_households_with_3_residents                                                                     | 747 \n",
      " permanent_private_households_with_4_residents                                                                     | 747 \n",
      " permanent_private_households_with_5_residents                                                                     | 747 \n",
      " permanent_private_households_with_6_residents                                                                     | 747 \n",
      " permanent_private_households_with_7_residents                                                                     | 747 \n",
      " permanent_private_households_with_8_residents                                                                     | 747 \n",
      " permanent_private_households_with_9_residents                                                                     | 747 \n",
      " permanent_private_households_with_10_or_more_residents                                                            | 747 \n",
      " permanent_private_home_type_households_and_clear                                                                  | 747 \n",
      " permanent_private_home_type_households_and_acquisition                                                            | 747 \n",
      " permanent_private_household_homes_rented                                                                          | 747 \n",
      " residents_private_households_and_collective_households                                                            | 590 \n",
      " residents_permanent_household_private_households                                                                  | 747 \n",
      " residents_permanent_private_households_apartment_type                                                             | 747 \n",
      " residents_permanent_permanent_households                                                                          | 747 \n",
      " dwellers_permanent_private_households_and_acquisition                                                             | 747 \n",
      " residents_permanent_private_households_rented                                                                     | 747 \n",
      " children_only_from_person_responsible_private_households                                                          | 747 \n",
      " household_employees_private_households_males                                                                      | 747 \n",
      " relatives_household_employees_private_households_male                                                             | 747 \n",
      " household_employees_private_households                                                                            | 747 \n",
      " relatives_domestic_employees_as_private_households_female                                                         | 747 \n",
      " literacy_responsible_persons                                                                                      | 747 \n",
      " alphabetized_people_with_5_or_more_years_age                                                                      | 590 \n",
      "\n"
     ]
    }
   ],
   "source": [
    "# listing columns with null values:\n",
    "get_null_columns(df_sector_features)"
   ]
  },
  {
   "cell_type": "code",
   "execution_count": 242,
   "metadata": {},
   "outputs": [],
   "source": [
    "# dropping null rows from the join (represent sectors that are not present in the area of study):\n",
    "df_sector_features = df_sector_features.na.drop(\n",
    "    subset=[\"code_large_regions_geographical_regions\"]\n",
    ")"
   ]
  },
  {
   "cell_type": "code",
   "execution_count": 243,
   "metadata": {},
   "outputs": [
    {
     "data": {
      "text/plain": [
       "18363"
      ]
     },
     "execution_count": 243,
     "metadata": {},
     "output_type": "execute_result"
    }
   ],
   "source": [
    "# removing the missing values gets us back to the correct number (the ones that match the census exactly)\n",
    "df_sector_features.count()"
   ]
  },
  {
   "cell_type": "code",
   "execution_count": 244,
   "metadata": {},
   "outputs": [],
   "source": [
    "# adding the resulting dataframe to the SQL Context:\n",
    "df_sector_features.createOrReplaceTempView(\"tb_sector_features\")"
   ]
  },
  {
   "cell_type": "code",
   "execution_count": 245,
   "metadata": {},
   "outputs": [],
   "source": [
    "# adding the sectors back to the main dataframe:\n",
    "df_sector_final = df_sector_features.join(\n",
    "    df_sector.drop(\n",
    "        \"centroid_latitude\",\n",
    "        \"centroid_longitude\",\n",
    "        \"city_code\",\n",
    "        \"city\",\n",
    "        \"geometry\",\n",
    "        \"id\",\n",
    "        \"neighborhood_code\",\n",
    "        \"neighborhood\",\n",
    "        \"sector_centroid\",\n",
    "        \"sector_type\",\n",
    "    ),\n",
    "    on=[\"sector_code\"],\n",
    "    how=\"inner\",\n",
    ")"
   ]
  },
  {
   "cell_type": "code",
   "execution_count": 246,
   "metadata": {},
   "outputs": [
    {
     "data": {
      "text/plain": [
       "True"
      ]
     },
     "execution_count": 246,
     "metadata": {},
     "output_type": "execute_result"
    }
   ],
   "source": [
    "# save the results to the specified directory:\n",
    "SECTOR_OUTPUT = f\"sectors/tb_sectors_census\"\n",
    "PROCESSED_UNITS_OF_INTEREST = \"../data/processed/sp_census/units_of_interest/\"\n",
    "\n",
    "save_to_filesystem(\n",
    "    df_sector_final,\n",
    "    PROCESSED_UNITS_OF_INTEREST,\n",
    "    SECTOR_OUTPUT,\n",
    "    SECTOR_OUTPUT + \".parquet\",\n",
    ")"
   ]
  },
  {
   "cell_type": "code",
   "execution_count": 247,
   "metadata": {},
   "outputs": [
    {
     "data": {
      "text/plain": [
       "True"
      ]
     },
     "execution_count": 247,
     "metadata": {},
     "output_type": "execute_result"
    }
   ],
   "source": [
    "SECTOR_NO_GEO = f\"sectors/tb_sectors_census_no_geo\"\n",
    "PROCESSED_UNITS_OF_INTEREST = \"../data/processed/sp_census/units_of_interest/\"\n",
    "\n",
    "df_sector_no_geo = df_sector.drop(\"geometry\")\n",
    "\n",
    "save_to_filesystem(\n",
    "    df_sector_no_geo,\n",
    "    PROCESSED_UNITS_OF_INTEREST,\n",
    "    SECTOR_NO_GEO,\n",
    "    SECTOR_NO_GEO + \".parquet\",\n",
    ")"
   ]
  },
  {
   "cell_type": "markdown",
   "metadata": {},
   "source": [
    "## 5.1 Area of Ponderation"
   ]
  },
  {
   "cell_type": "code",
   "execution_count": 248,
   "metadata": {},
   "outputs": [],
   "source": [
    "# adding the centroid and area of the polygons:\n",
    "Q_AP_MATCH = \"\"\"\n",
    "SELECT \n",
    "    A.ponderation_area_code,\n",
    "    B.sector_code\n",
    "FROM tb_ponderation as A, tb_sector_features as B\n",
    "WHERE ST_Contains(A.geometry, B.sector_centroid)\n",
    "\"\"\"\n",
    "\n",
    "# matching the areas of ponderation to their sectors:\n",
    "df_ap_match = spark.sql(Q_AP_MATCH)"
   ]
  },
  {
   "cell_type": "code",
   "execution_count": 249,
   "metadata": {},
   "outputs": [],
   "source": [
    "# adding the resulting dataframe to the SQL Context:\n",
    "df_ap_match.createOrReplaceTempView(\"tb_ap_match\")"
   ]
  },
  {
   "cell_type": "code",
   "execution_count": 250,
   "metadata": {},
   "outputs": [
    {
     "data": {
      "text/html": [
       "<table border='1'>\n",
       "<tr><th>ponderation_area_code</th><th>sector_code</th><th>id</th><th>sector_code</th><th>city_code</th><th>neighborhood_code</th><th>city</th><th>neighborhood</th><th>sector_type</th><th>centroid_longitude</th><th>centroid_latitude</th><th>sector_situation_code</th><th>code_large_regions_geographical_regions</th><th>name_large_regions_geographical_regions</th><th>federation_unit_code</th><th>name_federation_unit</th><th>mesoregion_code</th><th>name_mesoregion</th><th>microregion_code</th><th>name_microregion</th><th>metropolitan_region_code_or_ride</th><th>name_metropolitan_region_or_ride</th><th>code_municipality</th><th>name_municipality</th><th>district_code</th><th>district_name</th><th>subdistrict_code</th><th>name_sub_district</th><th>name_neighborhood</th><th>sector_type_code</th><th>permanent_private_households_or_persons_responsible_for_permanent_private_households</th><th>residents_permanent_private_households_or_population_residing_permanent_private_households</th><th>average_number_dwellers_permanent_private_households_obtained_by_var2_division_by_var1</th><th>value_average_monthly_nominal_income_persons_responsible_for_permanent_private_households_with_and_without_income</th><th>permanent_private_households_and_disposed</th><th>permanent_private_households_acquisition</th><th>permanent_private_households_rented</th><th>permanent_private_households_with_3_bathrooms_residents</th><th>permanent_private_households_without_exclusive_use_bathroom_residents</th><th>permanent_private_households_with_electricity</th><th>permanent_private_households_with_1_resident</th><th>permanent_private_households_with_2_residents</th><th>permanent_private_households_with_3_residents</th><th>permanent_private_households_with_4_residents</th><th>permanent_private_households_with_5_residents</th><th>permanent_private_households_with_6_residents</th><th>permanent_private_households_with_7_residents</th><th>permanent_private_households_with_8_residents</th><th>permanent_private_households_with_9_residents</th><th>permanent_private_households_with_10_or_more_residents</th><th>permanent_private_home_type_households_and_clear</th><th>permanent_private_home_type_households_and_acquisition</th><th>permanent_private_household_homes_rented</th><th>residents_private_households_and_collective_households</th><th>residents_permanent_household_private_households</th><th>residents_permanent_private_households_apartment_type</th><th>residents_permanent_permanent_households</th><th>dwellers_permanent_private_households_and_acquisition</th><th>residents_permanent_private_households_rented</th><th>children_only_from_person_responsible_private_households</th><th>household_employees_private_households_males</th><th>relatives_household_employees_private_households_male</th><th>household_employees_private_households</th><th>relatives_domestic_employees_as_private_households_female</th><th>literacy_responsible_persons</th><th>alphabetized_people_with_5_or_more_years_age</th></tr>\n",
       "<tr><td>3550308005039</td><td>355030801000005</td><td>108943</td><td>355030801000005</td><td>3550308</td><td></td><td>SÃO PAULO</td><td></td><td>URBANO</td><td>-46.57065666912533</td><td>-23.571444624386825</td><td>1</td><td>3</td><td>Região Sudeste</td><td>35</td><td>São Paulo</td><td>3515</td><td>Metropolitana de ...</td><td>35061</td><td>São Paulo</td><td>20</td><td>RM São Paulo</td><td>3550308</td><td>SÃO PAULO</td><td>355030801</td><td>ÁGUA RASA</td><td>35503080100</td><td>ÁGUA RASA</td><td>SÃO PAULO (todos ...</td><td>0</td><td>240.0</td><td>754.0</td><td>3.14</td><td>1416.9</td><td>105.0</td><td>4.0</td><td>112.0</td><td>20.0</td><td>1.0</td><td>240.0</td><td>30.0</td><td>60.0</td><td>65.0</td><td>38.0</td><td>34.0</td><td>10.0</td><td>1.0</td><td>1.0</td><td>0.0</td><td>1.0</td><td>98.0</td><td>4.0</td><td>105.0</td><td>754.0</td><td>716.0</td><td>30.0</td><td>340.0</td><td>15.0</td><td>354.0</td><td>46.0</td><td>0.0</td><td>0.0</td><td>1.0</td><td>0.0</td><td>232.0</td><td>678.0</td></tr>\n",
       "<tr><td>3550308005106</td><td>355030802000028</td><td>109096</td><td>355030802000028</td><td>3550308</td><td></td><td>SÃO PAULO</td><td></td><td>URBANO</td><td>-46.699390931740915</td><td>-23.54192792142038</td><td>1</td><td>3</td><td>Região Sudeste</td><td>35</td><td>São Paulo</td><td>3515</td><td>Metropolitana de ...</td><td>35061</td><td>São Paulo</td><td>20</td><td>RM São Paulo</td><td>3550308</td><td>SÃO PAULO</td><td>355030802</td><td>ALTO DE PINHEIROS</td><td>35503080200</td><td>ALTO DE PINHEIROS</td><td>SÃO PAULO (todos ...</td><td>0</td><td>177.0</td><td>394.0</td><td>2.23</td><td>5017.33</td><td>120.0</td><td>10.0</td><td>36.0</td><td>31.0</td><td>0.0</td><td>177.0</td><td>46.0</td><td>69.0</td><td>42.0</td><td>16.0</td><td>4.0</td><td>0.0</td><td>0.0</td><td>0.0</td><td>0.0</td><td>0.0</td><td>37.0</td><td>3.0</td><td>5.0</td><td>394.0</td><td>120.0</td><td>274.0</td><td>276.0</td><td>19.0</td><td>80.0</td><td>12.0</td><td>0.0</td><td>0.0</td><td>4.0</td><td>0.0</td><td>176.0</td><td>380.0</td></tr>\n",
       "<tr><td>3550308005029</td><td>355030806000016</td><td>109560</td><td>355030806000016</td><td>3550308</td><td></td><td>SÃO PAULO</td><td></td><td>URBANO</td><td>-46.67432775353449</td><td>-23.52900256909393</td><td>1</td><td>3</td><td>Região Sudeste</td><td>35</td><td>São Paulo</td><td>3515</td><td>Metropolitana de ...</td><td>35061</td><td>São Paulo</td><td>20</td><td>RM São Paulo</td><td>3550308</td><td>SÃO PAULO</td><td>355030806</td><td>BARRA FUNDA</td><td>35503080600</td><td>BARRA FUNDA</td><td>SÃO PAULO (todos ...</td><td>0</td><td>135.0</td><td>356.0</td><td>2.64</td><td>3564.83</td><td>80.0</td><td>10.0</td><td>38.0</td><td>22.0</td><td>0.0</td><td>135.0</td><td>27.0</td><td>45.0</td><td>27.0</td><td>25.0</td><td>9.0</td><td>1.0</td><td>1.0</td><td>0.0</td><td>0.0</td><td>0.0</td><td>36.0</td><td>4.0</td><td>6.0</td><td>356.0</td><td>156.0</td><td>200.0</td><td>214.0</td><td>32.0</td><td>88.0</td><td>11.0</td><td>0.0</td><td>0.0</td><td>3.0</td><td>0.0</td><td>135.0</td><td>338.0</td></tr>\n",
       "<tr><td>3550308005016</td><td>355030808000029</td><td>109753</td><td>355030808000029</td><td>3550308</td><td></td><td>SÃO PAULO</td><td></td><td>URBANO</td><td>-46.60066022961847</td><td>-23.52987229395476</td><td>1</td><td>3</td><td>Região Sudeste</td><td>35</td><td>São Paulo</td><td>3515</td><td>Metropolitana de ...</td><td>35061</td><td>São Paulo</td><td>20</td><td>RM São Paulo</td><td>3550308</td><td>SÃO PAULO</td><td>355030808</td><td>BELÉM</td><td>35503080800</td><td>BELÉM</td><td>SÃO PAULO (todos ...</td><td>0</td><td>259.0</td><td>739.0</td><td>2.85</td><td>1867.73</td><td>117.0</td><td>2.0</td><td>139.0</td><td>7.0</td><td>0.0</td><td>259.0</td><td>50.0</td><td>66.0</td><td>63.0</td><td>52.0</td><td>20.0</td><td>3.0</td><td>2.0</td><td>1.0</td><td>0.0</td><td>2.0</td><td>33.0</td><td>0.0</td><td>28.0</td><td>739.0</td><td>221.0</td><td>518.0</td><td>316.0</td><td>5.0</td><td>416.0</td><td>30.0</td><td>2.0</td><td>0.0</td><td>1.0</td><td>0.0</td><td>259.0</td><td>701.0</td></tr>\n",
       "<tr><td>3550308005016</td><td>355030808000045</td><td>109769</td><td>355030808000045</td><td>3550308</td><td></td><td>SÃO PAULO</td><td></td><td>URBANO</td><td>-46.60511826311402</td><td>-23.524366979101895</td><td>1</td><td>3</td><td>Região Sudeste</td><td>35</td><td>São Paulo</td><td>3515</td><td>Metropolitana de ...</td><td>35061</td><td>São Paulo</td><td>20</td><td>RM São Paulo</td><td>3550308</td><td>SÃO PAULO</td><td>355030808</td><td>BELÉM</td><td>35503080800</td><td>BELÉM</td><td>SÃO PAULO (todos ...</td><td>0</td><td>193.0</td><td>577.0</td><td>2.99</td><td>2075.0</td><td>103.0</td><td>14.0</td><td>68.0</td><td>15.0</td><td>0.0</td><td>193.0</td><td>28.0</td><td>54.0</td><td>46.0</td><td>41.0</td><td>13.0</td><td>7.0</td><td>2.0</td><td>0.0</td><td>2.0</td><td>0.0</td><td>101.0</td><td>14.0</td><td>54.0</td><td>577.0</td><td>537.0</td><td>38.0</td><td>303.0</td><td>51.0</td><td>210.0</td><td>21.0</td><td>0.0</td><td>0.0</td><td>1.0</td><td>0.0</td><td>188.0</td><td>536.0</td></tr>\n",
       "</table>\n",
       "only showing top 5 rows\n"
      ],
      "text/plain": [
       "+---------------------+---------------+------+---------------+---------+-----------------+---------+------------+-----------+-------------------+-------------------+---------------------+---------------------------------------+---------------------------------------+--------------------+--------------------+---------------+--------------------+----------------+----------------+--------------------------------+--------------------------------+-----------------+-----------------+-------------+-----------------+----------------+-----------------+--------------------+----------------+------------------------------------------------------------------------------------+------------------------------------------------------------------------------------------+--------------------------------------------------------------------------------------+-----------------------------------------------------------------------------------------------------------------+-----------------------------------------+----------------------------------------+-----------------------------------+-------------------------------------------------------+---------------------------------------------------------------------+---------------------------------------------+--------------------------------------------+---------------------------------------------+---------------------------------------------+---------------------------------------------+---------------------------------------------+---------------------------------------------+---------------------------------------------+---------------------------------------------+---------------------------------------------+------------------------------------------------------+------------------------------------------------+------------------------------------------------------+----------------------------------------+------------------------------------------------------+------------------------------------------------+-----------------------------------------------------+----------------------------------------+-----------------------------------------------------+---------------------------------------------+--------------------------------------------------------+--------------------------------------------+-----------------------------------------------------+--------------------------------------+---------------------------------------------------------+----------------------------+--------------------------------------------+\n",
       "|ponderation_area_code|    sector_code|    id|    sector_code|city_code|neighborhood_code|     city|neighborhood|sector_type| centroid_longitude|  centroid_latitude|sector_situation_code|code_large_regions_geographical_regions|name_large_regions_geographical_regions|federation_unit_code|name_federation_unit|mesoregion_code|     name_mesoregion|microregion_code|name_microregion|metropolitan_region_code_or_ride|name_metropolitan_region_or_ride|code_municipality|name_municipality|district_code|    district_name|subdistrict_code|name_sub_district|   name_neighborhood|sector_type_code|permanent_private_households_or_persons_responsible_for_permanent_private_households|residents_permanent_private_households_or_population_residing_permanent_private_households|average_number_dwellers_permanent_private_households_obtained_by_var2_division_by_var1|value_average_monthly_nominal_income_persons_responsible_for_permanent_private_households_with_and_without_income|permanent_private_households_and_disposed|permanent_private_households_acquisition|permanent_private_households_rented|permanent_private_households_with_3_bathrooms_residents|permanent_private_households_without_exclusive_use_bathroom_residents|permanent_private_households_with_electricity|permanent_private_households_with_1_resident|permanent_private_households_with_2_residents|permanent_private_households_with_3_residents|permanent_private_households_with_4_residents|permanent_private_households_with_5_residents|permanent_private_households_with_6_residents|permanent_private_households_with_7_residents|permanent_private_households_with_8_residents|permanent_private_households_with_9_residents|permanent_private_households_with_10_or_more_residents|permanent_private_home_type_households_and_clear|permanent_private_home_type_households_and_acquisition|permanent_private_household_homes_rented|residents_private_households_and_collective_households|residents_permanent_household_private_households|residents_permanent_private_households_apartment_type|residents_permanent_permanent_households|dwellers_permanent_private_households_and_acquisition|residents_permanent_private_households_rented|children_only_from_person_responsible_private_households|household_employees_private_households_males|relatives_household_employees_private_households_male|household_employees_private_households|relatives_domestic_employees_as_private_households_female|literacy_responsible_persons|alphabetized_people_with_5_or_more_years_age|\n",
       "+---------------------+---------------+------+---------------+---------+-----------------+---------+------------+-----------+-------------------+-------------------+---------------------+---------------------------------------+---------------------------------------+--------------------+--------------------+---------------+--------------------+----------------+----------------+--------------------------------+--------------------------------+-----------------+-----------------+-------------+-----------------+----------------+-----------------+--------------------+----------------+------------------------------------------------------------------------------------+------------------------------------------------------------------------------------------+--------------------------------------------------------------------------------------+-----------------------------------------------------------------------------------------------------------------+-----------------------------------------+----------------------------------------+-----------------------------------+-------------------------------------------------------+---------------------------------------------------------------------+---------------------------------------------+--------------------------------------------+---------------------------------------------+---------------------------------------------+---------------------------------------------+---------------------------------------------+---------------------------------------------+---------------------------------------------+---------------------------------------------+---------------------------------------------+------------------------------------------------------+------------------------------------------------+------------------------------------------------------+----------------------------------------+------------------------------------------------------+------------------------------------------------+-----------------------------------------------------+----------------------------------------+-----------------------------------------------------+---------------------------------------------+--------------------------------------------------------+--------------------------------------------+-----------------------------------------------------+--------------------------------------+---------------------------------------------------------+----------------------------+--------------------------------------------+\n",
       "|        3550308005039|355030801000005|108943|355030801000005|  3550308|                 |SÃO PAULO|            |     URBANO| -46.57065666912533|-23.571444624386825|                    1|                                      3|                         Região Sudeste|                  35|           São Paulo|           3515|Metropolitana de ...|           35061|       São Paulo|                              20|                    RM São Paulo|          3550308|        SÃO PAULO|    355030801|        ÁGUA RASA|     35503080100|        ÁGUA RASA|SÃO PAULO (todos ...|               0|                                                                               240.0|                                                                                     754.0|                                                                                  3.14|                                                                                                           1416.9|                                    105.0|                                     4.0|                              112.0|                                                   20.0|                                                                  1.0|                                        240.0|                                        30.0|                                         60.0|                                         65.0|                                         38.0|                                         34.0|                                         10.0|                                          1.0|                                          1.0|                                          0.0|                                                   1.0|                                            98.0|                                                   4.0|                                   105.0|                                                 754.0|                                           716.0|                                                 30.0|                                   340.0|                                                 15.0|                                        354.0|                                                    46.0|                                         0.0|                                                  0.0|                                   1.0|                                                      0.0|                       232.0|                                       678.0|\n",
       "|        3550308005106|355030802000028|109096|355030802000028|  3550308|                 |SÃO PAULO|            |     URBANO|-46.699390931740915| -23.54192792142038|                    1|                                      3|                         Região Sudeste|                  35|           São Paulo|           3515|Metropolitana de ...|           35061|       São Paulo|                              20|                    RM São Paulo|          3550308|        SÃO PAULO|    355030802|ALTO DE PINHEIROS|     35503080200|ALTO DE PINHEIROS|SÃO PAULO (todos ...|               0|                                                                               177.0|                                                                                     394.0|                                                                                  2.23|                                                                                                          5017.33|                                    120.0|                                    10.0|                               36.0|                                                   31.0|                                                                  0.0|                                        177.0|                                        46.0|                                         69.0|                                         42.0|                                         16.0|                                          4.0|                                          0.0|                                          0.0|                                          0.0|                                          0.0|                                                   0.0|                                            37.0|                                                   3.0|                                     5.0|                                                 394.0|                                           120.0|                                                274.0|                                   276.0|                                                 19.0|                                         80.0|                                                    12.0|                                         0.0|                                                  0.0|                                   4.0|                                                      0.0|                       176.0|                                       380.0|\n",
       "|        3550308005029|355030806000016|109560|355030806000016|  3550308|                 |SÃO PAULO|            |     URBANO| -46.67432775353449| -23.52900256909393|                    1|                                      3|                         Região Sudeste|                  35|           São Paulo|           3515|Metropolitana de ...|           35061|       São Paulo|                              20|                    RM São Paulo|          3550308|        SÃO PAULO|    355030806|      BARRA FUNDA|     35503080600|      BARRA FUNDA|SÃO PAULO (todos ...|               0|                                                                               135.0|                                                                                     356.0|                                                                                  2.64|                                                                                                          3564.83|                                     80.0|                                    10.0|                               38.0|                                                   22.0|                                                                  0.0|                                        135.0|                                        27.0|                                         45.0|                                         27.0|                                         25.0|                                          9.0|                                          1.0|                                          1.0|                                          0.0|                                          0.0|                                                   0.0|                                            36.0|                                                   4.0|                                     6.0|                                                 356.0|                                           156.0|                                                200.0|                                   214.0|                                                 32.0|                                         88.0|                                                    11.0|                                         0.0|                                                  0.0|                                   3.0|                                                      0.0|                       135.0|                                       338.0|\n",
       "|        3550308005016|355030808000029|109753|355030808000029|  3550308|                 |SÃO PAULO|            |     URBANO| -46.60066022961847| -23.52987229395476|                    1|                                      3|                         Região Sudeste|                  35|           São Paulo|           3515|Metropolitana de ...|           35061|       São Paulo|                              20|                    RM São Paulo|          3550308|        SÃO PAULO|    355030808|            BELÉM|     35503080800|            BELÉM|SÃO PAULO (todos ...|               0|                                                                               259.0|                                                                                     739.0|                                                                                  2.85|                                                                                                          1867.73|                                    117.0|                                     2.0|                              139.0|                                                    7.0|                                                                  0.0|                                        259.0|                                        50.0|                                         66.0|                                         63.0|                                         52.0|                                         20.0|                                          3.0|                                          2.0|                                          1.0|                                          0.0|                                                   2.0|                                            33.0|                                                   0.0|                                    28.0|                                                 739.0|                                           221.0|                                                518.0|                                   316.0|                                                  5.0|                                        416.0|                                                    30.0|                                         2.0|                                                  0.0|                                   1.0|                                                      0.0|                       259.0|                                       701.0|\n",
       "|        3550308005016|355030808000045|109769|355030808000045|  3550308|                 |SÃO PAULO|            |     URBANO| -46.60511826311402|-23.524366979101895|                    1|                                      3|                         Região Sudeste|                  35|           São Paulo|           3515|Metropolitana de ...|           35061|       São Paulo|                              20|                    RM São Paulo|          3550308|        SÃO PAULO|    355030808|            BELÉM|     35503080800|            BELÉM|SÃO PAULO (todos ...|               0|                                                                               193.0|                                                                                     577.0|                                                                                  2.99|                                                                                                           2075.0|                                    103.0|                                    14.0|                               68.0|                                                   15.0|                                                                  0.0|                                        193.0|                                        28.0|                                         54.0|                                         46.0|                                         41.0|                                         13.0|                                          7.0|                                          2.0|                                          0.0|                                          2.0|                                                   0.0|                                           101.0|                                                  14.0|                                    54.0|                                                 577.0|                                           537.0|                                                 38.0|                                   303.0|                                                 51.0|                                        210.0|                                                    21.0|                                         0.0|                                                  0.0|                                   1.0|                                                      0.0|                       188.0|                                       536.0|\n",
       "+---------------------+---------------+------+---------------+---------+-----------------+---------+------------+-----------+-------------------+-------------------+---------------------+---------------------------------------+---------------------------------------+--------------------+--------------------+---------------+--------------------+----------------+----------------+--------------------------------+--------------------------------+-----------------+-----------------+-------------+-----------------+----------------+-----------------+--------------------+----------------+------------------------------------------------------------------------------------+------------------------------------------------------------------------------------------+--------------------------------------------------------------------------------------+-----------------------------------------------------------------------------------------------------------------+-----------------------------------------+----------------------------------------+-----------------------------------+-------------------------------------------------------+---------------------------------------------------------------------+---------------------------------------------+--------------------------------------------+---------------------------------------------+---------------------------------------------+---------------------------------------------+---------------------------------------------+---------------------------------------------+---------------------------------------------+---------------------------------------------+---------------------------------------------+------------------------------------------------------+------------------------------------------------+------------------------------------------------------+----------------------------------------+------------------------------------------------------+------------------------------------------------+-----------------------------------------------------+----------------------------------------+-----------------------------------------------------+---------------------------------------------+--------------------------------------------------------+--------------------------------------------+-----------------------------------------------------+--------------------------------------+---------------------------------------------------------+----------------------------+--------------------------------------------+\n",
       "only showing top 5 rows"
      ]
     },
     "execution_count": 250,
     "metadata": {},
     "output_type": "execute_result"
    }
   ],
   "source": [
    "# adding the features to the ponderation area back:\n",
    "Q_AP_RAW_FEATURES = \"\"\"\n",
    "SELECT\n",
    "    A.ponderation_area_code,\n",
    "    A.sector_code,\n",
    "    B.*\n",
    "FROM tb_ap_match as A\n",
    "LEFT JOIN tb_sector_features as B\n",
    "ON A.sector_code = B.sector_code\n",
    "\"\"\"\n",
    "\n",
    "# reading back the dataset:\n",
    "df_ap_raw_features = spark.sql(Q_AP_RAW_FEATURES)\n",
    "\n",
    "# dropping the geometry columns and looking at the results:\n",
    "df_ap_raw_features = df_ap_raw_features.drop(\"geometry\", \"sector_centroid\")\n",
    "\n",
    "df_ap_raw_features"
   ]
  },
  {
   "cell_type": "code",
   "execution_count": 251,
   "metadata": {},
   "outputs": [],
   "source": [
    "# verifying the data integrity:\n",
    "assert (\n",
    "    df_ap_raw_features.count() == df_ap_match.count()\n",
    "), \"There are more rows than expected in the final file\""
   ]
  },
  {
   "cell_type": "markdown",
   "metadata": {},
   "source": [
    "### 5.1.1 Aggregating Raw Area of Ponderation Features"
   ]
  },
  {
   "cell_type": "code",
   "execution_count": 253,
   "metadata": {},
   "outputs": [],
   "source": [
    "# let's aggregate the data from the census sectors onto the area of ponderation level\n",
    "df_ap_agg = df_ap_raw_features.groupby(\"ponderation_area_code\").agg(\n",
    "    F.sum(\n",
    "        F.col(\n",
    "            \"permanent_private_households_or_persons_responsible_for_permanent_private_households\"\n",
    "        )\n",
    "    ).alias(\"total_private_households\"),\n",
    "    F.sum(\n",
    "        F.col(\n",
    "            \"residents_permanent_private_households_or_population_residing_permanent_private_households\"\n",
    "        )\n",
    "    ).alias(\"total_population_private_households\"),\n",
    "    F.avg(\n",
    "        F.col(\n",
    "            \"average_number_dwellers_permanent_private_households_obtained_by_var2_division_by_var1\"\n",
    "        )\n",
    "    ).alias(\"average_number_residents_per_household\"),\n",
    "    F.avg(\n",
    "        F.col(\n",
    "            \"value_average_monthly_nominal_income_persons_responsible_for_permanent_private_households_with_and_without_income\"\n",
    "        )\n",
    "    ).alias(\"average_monthly_income\"),\n",
    "    F.sum(F.col(\"permanent_private_households_and_disposed\")).alias(\n",
    "        \"total_fully_owned_properties\"\n",
    "    ),\n",
    "    F.sum(F.col(\"permanent_private_households_acquisition\")).alias(\n",
    "        \"total_properties_in_acquisition\"\n",
    "    ),\n",
    "    F.sum(F.col(\"permanent_private_households_rented\")).alias(\n",
    "        \"total_rented_properties\"\n",
    "    ),\n",
    "    F.sum(F.col(\"permanent_private_households_with_3_bathrooms_residents\")).alias(\n",
    "        \"total_properties_with_3_bathrooms\"\n",
    "    ),\n",
    "    F.sum(\n",
    "        F.col(\"permanent_private_households_without_exclusive_use_bathroom_residents\")\n",
    "    ).alias(\"total_properties_without_private_bathrooms\"),\n",
    "    F.sum(F.col(\"permanent_private_households_with_electricity\")).alias(\n",
    "        \"total_households_with_electricity\"\n",
    "    ),\n",
    "    F.sum(F.col(\"permanent_private_households_with_1_resident\")).alias(\n",
    "        \"total_households_with_1_resident\"\n",
    "    ),\n",
    "    F.sum(F.col(\"permanent_private_households_with_2_residents\")).alias(\n",
    "        \"total_households_with_2_residents\"\n",
    "    ),\n",
    "    F.sum(F.col(\"permanent_private_households_with_3_residents\")).alias(\n",
    "        \"total_households_with_3_residents\"\n",
    "    ),\n",
    "    F.sum(F.col(\"permanent_private_households_with_4_residents\")).alias(\n",
    "        \"total_households_with_4_residents\"\n",
    "    ),\n",
    "    F.sum(F.col(\"permanent_private_households_with_5_residents\")).alias(\n",
    "        \"total_households_with_5_residents\"\n",
    "    ),\n",
    "    F.sum(F.col(\"permanent_private_households_with_6_residents\")).alias(\n",
    "        \"total_households_with_6_residents\"\n",
    "    ),\n",
    "    F.sum(F.col(\"permanent_private_households_with_7_residents\")).alias(\n",
    "        \"total_households_with_7_residents\"\n",
    "    ),\n",
    "    F.sum(F.col(\"permanent_private_households_with_8_residents\")).alias(\n",
    "        \"total_households_with_8_residents\"\n",
    "    ),\n",
    "    F.sum(F.col(\"permanent_private_households_with_9_residents\")).alias(\n",
    "        \"total_households_with_9_residents\"\n",
    "    ),\n",
    "    F.sum(F.col(\"permanent_private_households_with_10_or_more_residents\")).alias(\n",
    "        \"total_households_with_10_residents_or_more\"\n",
    "    ),\n",
    "    F.sum(F.col(\"permanent_private_home_type_households_and_clear\")).alias(\n",
    "        \"total_fully_owned_houses\"\n",
    "    ),\n",
    "    F.sum(F.col(\"permanent_private_home_type_households_and_acquisition\")).alias(\n",
    "        \"total_houses_in_acquisition\"\n",
    "    ),\n",
    "    F.sum(F.col(\"permanent_private_household_homes_rented\")).alias(\n",
    "        \"total_rented_houses\"\n",
    "    ),\n",
    "    F.sum(F.col(\"residents_private_households_and_collective_households\")).alias(\n",
    "        \"total_residents_in_area\"\n",
    "    ),\n",
    "    F.sum(F.col(\"residents_permanent_household_private_households\")).alias(\n",
    "        \"total_residents_in_permanent_households\"\n",
    "    ),\n",
    "    F.sum(F.col(\"residents_permanent_private_households_apartment_type\")).alias(\n",
    "        \"total_residents_in_private_apartments\"\n",
    "    ),\n",
    "    F.sum(F.col(\"dwellers_permanent_private_households_and_acquisition\")).alias(\n",
    "        \"total_residents_properties_in_acquisition\"\n",
    "    ),\n",
    "    F.sum(F.col(\"residents_permanent_private_households_rented\")).alias(\n",
    "        \"total_residents_rented_properties\"\n",
    "    ),\n",
    "    F.sum(F.col(\"children_only_from_person_responsible_private_households\")).alias(\n",
    "        \"total_number_children\"\n",
    "    ),\n",
    "    F.sum(\n",
    "        F.col(\"household_employees_private_households_males\")\n",
    "        + F.col(\"household_employees_private_households\")\n",
    "    ).alias(\"total_number_house_workers\"),\n",
    "    F.sum(\n",
    "        F.col(\"relatives_domestic_employees_as_private_households_female\")\n",
    "        + F.col(\"relatives_household_employees_private_households_male\")\n",
    "    ).alias(\"total_number_house_workers_parents\"),\n",
    "    F.sum(F.col(\"literacy_responsible_persons\")).alias(\n",
    "        \"total_literate_household_leaders\"\n",
    "    ),\n",
    "    F.sum(F.col(\"alphabetized_people_with_5_or_more_years_age\")).alias(\n",
    "        \"total_literate_people\"\n",
    "    ),\n",
    ")\n",
    "\n",
    "# fixing the column names:\n",
    "new_columns = list(map(lambda col: f\"ponderation_area_{col}\", df_ap_agg.columns))\n",
    "\n",
    "for i in range(len(df_ap_agg.columns)):\n",
    "    df_ap_agg = df_ap_agg.withColumnRenamed(df_ap_agg.columns[i], new_columns[i])\n",
    "\n",
    "# removing the extraneous columns:\n",
    "df_ap_agg = df_ap_agg.withColumnRenamed(\n",
    "    \"ponderation_area_ponderation_area_code\", \"ponderation_area_code\"\n",
    ")"
   ]
  },
  {
   "cell_type": "code",
   "execution_count": 254,
   "metadata": {},
   "outputs": [
    {
     "data": {
      "text/html": [
       "<table border='1'>\n",
       "<tr><th>ponderation_area_code</th><th>ponderation_area_total_private_households</th><th>ponderation_area_total_population_private_households</th><th>ponderation_area_average_number_residents_per_household</th><th>ponderation_area_average_monthly_income</th><th>ponderation_area_total_fully_owned_properties</th><th>ponderation_area_total_properties_in_acquisition</th><th>ponderation_area_total_rented_properties</th><th>ponderation_area_total_properties_with_3_bathrooms</th><th>ponderation_area_total_properties_without_private_bathrooms</th><th>ponderation_area_total_households_with_electricity</th><th>ponderation_area_total_households_with_1_resident</th><th>ponderation_area_total_households_with_2_residents</th><th>ponderation_area_total_households_with_3_residents</th><th>ponderation_area_total_households_with_4_residents</th><th>ponderation_area_total_households_with_5_residents</th><th>ponderation_area_total_households_with_6_residents</th><th>ponderation_area_total_households_with_7_residents</th><th>ponderation_area_total_households_with_8_residents</th><th>ponderation_area_total_households_with_9_residents</th><th>ponderation_area_total_households_with_10_residents_or_more</th><th>ponderation_area_total_fully_owned_houses</th><th>ponderation_area_total_houses_in_acquisition</th><th>ponderation_area_total_rented_houses</th><th>ponderation_area_total_residents_in_area</th><th>ponderation_area_total_residents_in_permanent_households</th><th>ponderation_area_total_residents_in_private_apartments</th><th>ponderation_area_total_residents_properties_in_acquisition</th><th>ponderation_area_total_residents_rented_properties</th><th>ponderation_area_total_number_children</th><th>ponderation_area_total_number_house_workers</th><th>ponderation_area_total_number_house_workers_parents</th><th>ponderation_area_total_literate_household_leaders</th><th>ponderation_area_total_literate_people</th></tr>\n",
       "<tr><td>3550308005048</td><td>15002.0</td><td>38235.0</td><td>2.5446874999999993</td><td>3969.7853124999997</td><td>9386.0</td><td>952.0</td><td>3988.0</td><td>2225.0</td><td>40.0</td><td>15000.0</td><td>3365.0</td><td>4888.0</td><td>3414.0</td><td>2319.0</td><td>705.0</td><td>202.0</td><td>63.0</td><td>27.0</td><td>11.0</td><td>8.0</td><td>3544.0</td><td>125.0</td><td>1323.0</td><td>38331.0</td><td>15543.0</td><td>21665.0</td><td>2400.0</td><td>9727.0</td><td>1490.0</td><td>143.0</td><td>6.0</td><td>14880.0</td><td>36173.0</td></tr>\n",
       "<tr><td>3550308005045</td><td>8400.0</td><td>23519.0</td><td>2.801219512195122</td><td>3996.8287804878046</td><td>5266.0</td><td>938.0</td><td>1936.0</td><td>1359.0</td><td>104.0</td><td>8400.0</td><td>1303.0</td><td>2554.0</td><td>2197.0</td><td>1637.0</td><td>464.0</td><td>148.0</td><td>56.0</td><td>22.0</td><td>10.0</td><td>9.0</td><td>1982.0</td><td>97.0</td><td>1071.0</td><td>23546.0</td><td>10093.0</td><td>12905.0</td><td>2631.0</td><td>5466.0</td><td>1000.0</td><td>50.0</td><td>9.0</td><td>8346.0</td><td>22045.0</td></tr>\n",
       "<tr><td>3550308005031</td><td>8835.0</td><td>26619.0</td><td>3.0826829268292677</td><td>2033.2802439024392</td><td>5135.0</td><td>622.0</td><td>2649.0</td><td>838.0</td><td>115.0</td><td>8830.0</td><td>1311.0</td><td>2339.0</td><td>2239.0</td><td>1743.0</td><td>739.0</td><td>253.0</td><td>100.0</td><td>54.0</td><td>23.0</td><td>34.0</td><td>3262.0</td><td>90.0</td><td>1929.0</td><td>26730.0</td><td>17762.0</td><td>7808.0</td><td>1814.0</td><td>8588.0</td><td>1327.0</td><td>30.0</td><td>1.0</td><td>8685.0</td><td>24533.0</td></tr>\n",
       "<tr><td>3550308005158</td><td>8666.0</td><td>26741.0</td><td>3.0878787878787883</td><td>1294.025151515151</td><td>5434.0</td><td>410.0</td><td>2413.0</td><td>538.0</td><td>41.0</td><td>8664.0</td><td>1138.0</td><td>2198.0</td><td>2254.0</td><td>1800.0</td><td>787.0</td><td>294.0</td><td>109.0</td><td>40.0</td><td>24.0</td><td>22.0</td><td>5171.0</td><td>150.0</td><td>2298.0</td><td>26774.0</td><td>24925.0</td><td>1734.0</td><td>1277.0</td><td>7321.0</td><td>1324.0</td><td>17.0</td><td>0.0</td><td>8436.0</td><td>24581.0</td></tr>\n",
       "<tr><td>3550308005102</td><td>9382.0</td><td>20499.0</td><td>2.219795918367347</td><td>5673.932040816328</td><td>5634.0</td><td>576.0</td><td>2625.0</td><td>2097.0</td><td>20.0</td><td>9382.0</td><td>3161.0</td><td>3151.0</td><td>1726.0</td><td>992.0</td><td>267.0</td><td>57.0</td><td>18.0</td><td>7.0</td><td>1.0</td><td>2.0</td><td>1020.0</td><td>16.0</td><td>276.0</td><td>20548.0</td><td>3842.0</td><td>16260.0</td><td>1211.0</td><td>5496.0</td><td>793.0</td><td>206.0</td><td>13.0</td><td>9365.0</td><td>19615.0</td></tr>\n",
       "</table>\n",
       "only showing top 5 rows\n"
      ],
      "text/plain": [
       "+---------------------+-----------------------------------------+----------------------------------------------------+-------------------------------------------------------+---------------------------------------+---------------------------------------------+------------------------------------------------+----------------------------------------+--------------------------------------------------+-----------------------------------------------------------+--------------------------------------------------+-------------------------------------------------+--------------------------------------------------+--------------------------------------------------+--------------------------------------------------+--------------------------------------------------+--------------------------------------------------+--------------------------------------------------+--------------------------------------------------+--------------------------------------------------+-----------------------------------------------------------+-----------------------------------------+--------------------------------------------+------------------------------------+----------------------------------------+--------------------------------------------------------+------------------------------------------------------+----------------------------------------------------------+--------------------------------------------------+--------------------------------------+-------------------------------------------+---------------------------------------------------+-------------------------------------------------+--------------------------------------+\n",
       "|ponderation_area_code|ponderation_area_total_private_households|ponderation_area_total_population_private_households|ponderation_area_average_number_residents_per_household|ponderation_area_average_monthly_income|ponderation_area_total_fully_owned_properties|ponderation_area_total_properties_in_acquisition|ponderation_area_total_rented_properties|ponderation_area_total_properties_with_3_bathrooms|ponderation_area_total_properties_without_private_bathrooms|ponderation_area_total_households_with_electricity|ponderation_area_total_households_with_1_resident|ponderation_area_total_households_with_2_residents|ponderation_area_total_households_with_3_residents|ponderation_area_total_households_with_4_residents|ponderation_area_total_households_with_5_residents|ponderation_area_total_households_with_6_residents|ponderation_area_total_households_with_7_residents|ponderation_area_total_households_with_8_residents|ponderation_area_total_households_with_9_residents|ponderation_area_total_households_with_10_residents_or_more|ponderation_area_total_fully_owned_houses|ponderation_area_total_houses_in_acquisition|ponderation_area_total_rented_houses|ponderation_area_total_residents_in_area|ponderation_area_total_residents_in_permanent_households|ponderation_area_total_residents_in_private_apartments|ponderation_area_total_residents_properties_in_acquisition|ponderation_area_total_residents_rented_properties|ponderation_area_total_number_children|ponderation_area_total_number_house_workers|ponderation_area_total_number_house_workers_parents|ponderation_area_total_literate_household_leaders|ponderation_area_total_literate_people|\n",
       "+---------------------+-----------------------------------------+----------------------------------------------------+-------------------------------------------------------+---------------------------------------+---------------------------------------------+------------------------------------------------+----------------------------------------+--------------------------------------------------+-----------------------------------------------------------+--------------------------------------------------+-------------------------------------------------+--------------------------------------------------+--------------------------------------------------+--------------------------------------------------+--------------------------------------------------+--------------------------------------------------+--------------------------------------------------+--------------------------------------------------+--------------------------------------------------+-----------------------------------------------------------+-----------------------------------------+--------------------------------------------+------------------------------------+----------------------------------------+--------------------------------------------------------+------------------------------------------------------+----------------------------------------------------------+--------------------------------------------------+--------------------------------------+-------------------------------------------+---------------------------------------------------+-------------------------------------------------+--------------------------------------+\n",
       "|        3550308005048|                                  15002.0|                                             38235.0|                                     2.5446874999999993|                     3969.7853124999997|                                       9386.0|                                           952.0|                                  3988.0|                                            2225.0|                                                       40.0|                                           15000.0|                                           3365.0|                                            4888.0|                                            3414.0|                                            2319.0|                                             705.0|                                             202.0|                                              63.0|                                              27.0|                                              11.0|                                                        8.0|                                   3544.0|                                       125.0|                              1323.0|                                 38331.0|                                                 15543.0|                                               21665.0|                                                    2400.0|                                            9727.0|                                1490.0|                                      143.0|                                                6.0|                                          14880.0|                               36173.0|\n",
       "|        3550308005045|                                   8400.0|                                             23519.0|                                      2.801219512195122|                     3996.8287804878046|                                       5266.0|                                           938.0|                                  1936.0|                                            1359.0|                                                      104.0|                                            8400.0|                                           1303.0|                                            2554.0|                                            2197.0|                                            1637.0|                                             464.0|                                             148.0|                                              56.0|                                              22.0|                                              10.0|                                                        9.0|                                   1982.0|                                        97.0|                              1071.0|                                 23546.0|                                                 10093.0|                                               12905.0|                                                    2631.0|                                            5466.0|                                1000.0|                                       50.0|                                                9.0|                                           8346.0|                               22045.0|\n",
       "|        3550308005031|                                   8835.0|                                             26619.0|                                     3.0826829268292677|                     2033.2802439024392|                                       5135.0|                                           622.0|                                  2649.0|                                             838.0|                                                      115.0|                                            8830.0|                                           1311.0|                                            2339.0|                                            2239.0|                                            1743.0|                                             739.0|                                             253.0|                                             100.0|                                              54.0|                                              23.0|                                                       34.0|                                   3262.0|                                        90.0|                              1929.0|                                 26730.0|                                                 17762.0|                                                7808.0|                                                    1814.0|                                            8588.0|                                1327.0|                                       30.0|                                                1.0|                                           8685.0|                               24533.0|\n",
       "|        3550308005158|                                   8666.0|                                             26741.0|                                     3.0878787878787883|                      1294.025151515151|                                       5434.0|                                           410.0|                                  2413.0|                                             538.0|                                                       41.0|                                            8664.0|                                           1138.0|                                            2198.0|                                            2254.0|                                            1800.0|                                             787.0|                                             294.0|                                             109.0|                                              40.0|                                              24.0|                                                       22.0|                                   5171.0|                                       150.0|                              2298.0|                                 26774.0|                                                 24925.0|                                                1734.0|                                                    1277.0|                                            7321.0|                                1324.0|                                       17.0|                                                0.0|                                           8436.0|                               24581.0|\n",
       "|        3550308005102|                                   9382.0|                                             20499.0|                                      2.219795918367347|                      5673.932040816328|                                       5634.0|                                           576.0|                                  2625.0|                                            2097.0|                                                       20.0|                                            9382.0|                                           3161.0|                                            3151.0|                                            1726.0|                                             992.0|                                             267.0|                                              57.0|                                              18.0|                                               7.0|                                               1.0|                                                        2.0|                                   1020.0|                                        16.0|                               276.0|                                 20548.0|                                                  3842.0|                                               16260.0|                                                    1211.0|                                            5496.0|                                 793.0|                                      206.0|                                               13.0|                                           9365.0|                               19615.0|\n",
       "+---------------------+-----------------------------------------+----------------------------------------------------+-------------------------------------------------------+---------------------------------------+---------------------------------------------+------------------------------------------------+----------------------------------------+--------------------------------------------------+-----------------------------------------------------------+--------------------------------------------------+-------------------------------------------------+--------------------------------------------------+--------------------------------------------------+--------------------------------------------------+--------------------------------------------------+--------------------------------------------------+--------------------------------------------------+--------------------------------------------------+--------------------------------------------------+-----------------------------------------------------------+-----------------------------------------+--------------------------------------------+------------------------------------+----------------------------------------+--------------------------------------------------------+------------------------------------------------------+----------------------------------------------------------+--------------------------------------------------+--------------------------------------+-------------------------------------------+---------------------------------------------------+-------------------------------------------------+--------------------------------------+\n",
       "only showing top 5 rows"
      ]
     },
     "execution_count": 254,
     "metadata": {},
     "output_type": "execute_result"
    }
   ],
   "source": [
    "# verifying the results:\n",
    "df_ap_agg"
   ]
  },
  {
   "cell_type": "code",
   "execution_count": 255,
   "metadata": {},
   "outputs": [],
   "source": [
    "# adding the resulting dataframe to the SQL Context:\n",
    "df_ap_agg.createOrReplaceTempView(\"tb_ponderation_features\")\n",
    "\n",
    "# generating the final level of aggregation for the census features:\n",
    "Q_AP_GEOM = \"\"\"\n",
    "SELECT\n",
    "    A.*,\n",
    "    B.geometry,\n",
    "    ST_Centroid(B.geometry) as ponderation_area_centroid\n",
    "FROM tb_ponderation_features as A\n",
    "LEFT JOIN tb_ponderation as B \n",
    "ON A.ponderation_area_code = B.ponderation_area_code\n",
    "\"\"\"\n",
    "\n",
    "df_ap_final = spark.sql(Q_AP_GEOM)"
   ]
  },
  {
   "cell_type": "code",
   "execution_count": 256,
   "metadata": {},
   "outputs": [
    {
     "data": {
      "text/html": [
       "<table border='1'>\n",
       "<tr><th>ponderation_area_code</th><th>ponderation_area_total_private_households</th><th>ponderation_area_total_population_private_households</th><th>ponderation_area_average_number_residents_per_household</th><th>ponderation_area_average_monthly_income</th><th>ponderation_area_total_fully_owned_properties</th><th>ponderation_area_total_properties_in_acquisition</th><th>ponderation_area_total_rented_properties</th><th>ponderation_area_total_properties_with_3_bathrooms</th><th>ponderation_area_total_properties_without_private_bathrooms</th><th>ponderation_area_total_households_with_electricity</th><th>ponderation_area_total_households_with_1_resident</th><th>ponderation_area_total_households_with_2_residents</th><th>ponderation_area_total_households_with_3_residents</th><th>ponderation_area_total_households_with_4_residents</th><th>ponderation_area_total_households_with_5_residents</th><th>ponderation_area_total_households_with_6_residents</th><th>ponderation_area_total_households_with_7_residents</th><th>ponderation_area_total_households_with_8_residents</th><th>ponderation_area_total_households_with_9_residents</th><th>ponderation_area_total_households_with_10_residents_or_more</th><th>ponderation_area_total_fully_owned_houses</th><th>ponderation_area_total_houses_in_acquisition</th><th>ponderation_area_total_rented_houses</th><th>ponderation_area_total_residents_in_area</th><th>ponderation_area_total_residents_in_permanent_households</th><th>ponderation_area_total_residents_in_private_apartments</th><th>ponderation_area_total_residents_properties_in_acquisition</th><th>ponderation_area_total_residents_rented_properties</th><th>ponderation_area_total_number_children</th><th>ponderation_area_total_number_house_workers</th><th>ponderation_area_total_number_house_workers_parents</th><th>ponderation_area_total_literate_household_leaders</th><th>ponderation_area_total_literate_people</th><th>geometry</th><th>ponderation_area_centroid</th></tr>\n",
       "<tr><td>3550308005045</td><td>8400.0</td><td>23519.0</td><td>2.801219512195122</td><td>3996.8287804878046</td><td>5266.0</td><td>938.0</td><td>1936.0</td><td>1359.0</td><td>104.0</td><td>8400.0</td><td>1303.0</td><td>2554.0</td><td>2197.0</td><td>1637.0</td><td>464.0</td><td>148.0</td><td>56.0</td><td>22.0</td><td>10.0</td><td>9.0</td><td>1982.0</td><td>97.0</td><td>1071.0</td><td>23546.0</td><td>10093.0</td><td>12905.0</td><td>2631.0</td><td>5466.0</td><td>1000.0</td><td>50.0</td><td>9.0</td><td>8346.0</td><td>22045.0</td><td>POLYGON ((-46.620...</td><td>POINT (-46.619835...</td></tr>\n",
       "<tr><td>3550308005048</td><td>15002.0</td><td>38235.0</td><td>2.5446874999999993</td><td>3969.7853124999997</td><td>9386.0</td><td>952.0</td><td>3988.0</td><td>2225.0</td><td>40.0</td><td>15000.0</td><td>3365.0</td><td>4888.0</td><td>3414.0</td><td>2319.0</td><td>705.0</td><td>202.0</td><td>63.0</td><td>27.0</td><td>11.0</td><td>8.0</td><td>3544.0</td><td>125.0</td><td>1323.0</td><td>38331.0</td><td>15543.0</td><td>21665.0</td><td>2400.0</td><td>9727.0</td><td>1490.0</td><td>143.0</td><td>6.0</td><td>14880.0</td><td>36173.0</td><td>POLYGON ((-46.627...</td><td>POINT (-46.637962...</td></tr>\n",
       "<tr><td>3550308005031</td><td>8835.0</td><td>26619.0</td><td>3.0826829268292677</td><td>2033.2802439024392</td><td>5135.0</td><td>622.0</td><td>2649.0</td><td>838.0</td><td>115.0</td><td>8830.0</td><td>1311.0</td><td>2339.0</td><td>2239.0</td><td>1743.0</td><td>739.0</td><td>253.0</td><td>100.0</td><td>54.0</td><td>23.0</td><td>34.0</td><td>3262.0</td><td>90.0</td><td>1929.0</td><td>26730.0</td><td>17762.0</td><td>7808.0</td><td>1814.0</td><td>8588.0</td><td>1327.0</td><td>30.0</td><td>1.0</td><td>8685.0</td><td>24533.0</td><td>POLYGON ((-46.596...</td><td>POINT (-46.607031...</td></tr>\n",
       "<tr><td>3550308005102</td><td>9382.0</td><td>20499.0</td><td>2.219795918367347</td><td>5673.932040816328</td><td>5634.0</td><td>576.0</td><td>2625.0</td><td>2097.0</td><td>20.0</td><td>9382.0</td><td>3161.0</td><td>3151.0</td><td>1726.0</td><td>992.0</td><td>267.0</td><td>57.0</td><td>18.0</td><td>7.0</td><td>1.0</td><td>2.0</td><td>1020.0</td><td>16.0</td><td>276.0</td><td>20548.0</td><td>3842.0</td><td>16260.0</td><td>1211.0</td><td>5496.0</td><td>793.0</td><td>206.0</td><td>13.0</td><td>9365.0</td><td>19615.0</td><td>POLYGON ((-46.684...</td><td>POINT (-46.677750...</td></tr>\n",
       "<tr><td>3550308005158</td><td>8666.0</td><td>26741.0</td><td>3.0878787878787883</td><td>1294.025151515151</td><td>5434.0</td><td>410.0</td><td>2413.0</td><td>538.0</td><td>41.0</td><td>8664.0</td><td>1138.0</td><td>2198.0</td><td>2254.0</td><td>1800.0</td><td>787.0</td><td>294.0</td><td>109.0</td><td>40.0</td><td>24.0</td><td>22.0</td><td>5171.0</td><td>150.0</td><td>2298.0</td><td>26774.0</td><td>24925.0</td><td>1734.0</td><td>1277.0</td><td>7321.0</td><td>1324.0</td><td>17.0</td><td>0.0</td><td>8436.0</td><td>24581.0</td><td>POLYGON ((-46.526...</td><td>POINT (-46.540679...</td></tr>\n",
       "</table>\n",
       "only showing top 5 rows\n"
      ],
      "text/plain": [
       "+---------------------+-----------------------------------------+----------------------------------------------------+-------------------------------------------------------+---------------------------------------+---------------------------------------------+------------------------------------------------+----------------------------------------+--------------------------------------------------+-----------------------------------------------------------+--------------------------------------------------+-------------------------------------------------+--------------------------------------------------+--------------------------------------------------+--------------------------------------------------+--------------------------------------------------+--------------------------------------------------+--------------------------------------------------+--------------------------------------------------+--------------------------------------------------+-----------------------------------------------------------+-----------------------------------------+--------------------------------------------+------------------------------------+----------------------------------------+--------------------------------------------------------+------------------------------------------------------+----------------------------------------------------------+--------------------------------------------------+--------------------------------------+-------------------------------------------+---------------------------------------------------+-------------------------------------------------+--------------------------------------+--------------------+-------------------------+\n",
       "|ponderation_area_code|ponderation_area_total_private_households|ponderation_area_total_population_private_households|ponderation_area_average_number_residents_per_household|ponderation_area_average_monthly_income|ponderation_area_total_fully_owned_properties|ponderation_area_total_properties_in_acquisition|ponderation_area_total_rented_properties|ponderation_area_total_properties_with_3_bathrooms|ponderation_area_total_properties_without_private_bathrooms|ponderation_area_total_households_with_electricity|ponderation_area_total_households_with_1_resident|ponderation_area_total_households_with_2_residents|ponderation_area_total_households_with_3_residents|ponderation_area_total_households_with_4_residents|ponderation_area_total_households_with_5_residents|ponderation_area_total_households_with_6_residents|ponderation_area_total_households_with_7_residents|ponderation_area_total_households_with_8_residents|ponderation_area_total_households_with_9_residents|ponderation_area_total_households_with_10_residents_or_more|ponderation_area_total_fully_owned_houses|ponderation_area_total_houses_in_acquisition|ponderation_area_total_rented_houses|ponderation_area_total_residents_in_area|ponderation_area_total_residents_in_permanent_households|ponderation_area_total_residents_in_private_apartments|ponderation_area_total_residents_properties_in_acquisition|ponderation_area_total_residents_rented_properties|ponderation_area_total_number_children|ponderation_area_total_number_house_workers|ponderation_area_total_number_house_workers_parents|ponderation_area_total_literate_household_leaders|ponderation_area_total_literate_people|            geometry|ponderation_area_centroid|\n",
       "+---------------------+-----------------------------------------+----------------------------------------------------+-------------------------------------------------------+---------------------------------------+---------------------------------------------+------------------------------------------------+----------------------------------------+--------------------------------------------------+-----------------------------------------------------------+--------------------------------------------------+-------------------------------------------------+--------------------------------------------------+--------------------------------------------------+--------------------------------------------------+--------------------------------------------------+--------------------------------------------------+--------------------------------------------------+--------------------------------------------------+--------------------------------------------------+-----------------------------------------------------------+-----------------------------------------+--------------------------------------------+------------------------------------+----------------------------------------+--------------------------------------------------------+------------------------------------------------------+----------------------------------------------------------+--------------------------------------------------+--------------------------------------+-------------------------------------------+---------------------------------------------------+-------------------------------------------------+--------------------------------------+--------------------+-------------------------+\n",
       "|        3550308005045|                                   8400.0|                                             23519.0|                                      2.801219512195122|                     3996.8287804878046|                                       5266.0|                                           938.0|                                  1936.0|                                            1359.0|                                                      104.0|                                            8400.0|                                           1303.0|                                            2554.0|                                            2197.0|                                            1637.0|                                             464.0|                                             148.0|                                              56.0|                                              22.0|                                              10.0|                                                        9.0|                                   1982.0|                                        97.0|                              1071.0|                                 23546.0|                                                 10093.0|                                               12905.0|                                                    2631.0|                                            5466.0|                                1000.0|                                       50.0|                                                9.0|                                           8346.0|                               22045.0|POLYGON ((-46.620...|     POINT (-46.619835...|\n",
       "|        3550308005048|                                  15002.0|                                             38235.0|                                     2.5446874999999993|                     3969.7853124999997|                                       9386.0|                                           952.0|                                  3988.0|                                            2225.0|                                                       40.0|                                           15000.0|                                           3365.0|                                            4888.0|                                            3414.0|                                            2319.0|                                             705.0|                                             202.0|                                              63.0|                                              27.0|                                              11.0|                                                        8.0|                                   3544.0|                                       125.0|                              1323.0|                                 38331.0|                                                 15543.0|                                               21665.0|                                                    2400.0|                                            9727.0|                                1490.0|                                      143.0|                                                6.0|                                          14880.0|                               36173.0|POLYGON ((-46.627...|     POINT (-46.637962...|\n",
       "|        3550308005031|                                   8835.0|                                             26619.0|                                     3.0826829268292677|                     2033.2802439024392|                                       5135.0|                                           622.0|                                  2649.0|                                             838.0|                                                      115.0|                                            8830.0|                                           1311.0|                                            2339.0|                                            2239.0|                                            1743.0|                                             739.0|                                             253.0|                                             100.0|                                              54.0|                                              23.0|                                                       34.0|                                   3262.0|                                        90.0|                              1929.0|                                 26730.0|                                                 17762.0|                                                7808.0|                                                    1814.0|                                            8588.0|                                1327.0|                                       30.0|                                                1.0|                                           8685.0|                               24533.0|POLYGON ((-46.596...|     POINT (-46.607031...|\n",
       "|        3550308005102|                                   9382.0|                                             20499.0|                                      2.219795918367347|                      5673.932040816328|                                       5634.0|                                           576.0|                                  2625.0|                                            2097.0|                                                       20.0|                                            9382.0|                                           3161.0|                                            3151.0|                                            1726.0|                                             992.0|                                             267.0|                                              57.0|                                              18.0|                                               7.0|                                               1.0|                                                        2.0|                                   1020.0|                                        16.0|                               276.0|                                 20548.0|                                                  3842.0|                                               16260.0|                                                    1211.0|                                            5496.0|                                 793.0|                                      206.0|                                               13.0|                                           9365.0|                               19615.0|POLYGON ((-46.684...|     POINT (-46.677750...|\n",
       "|        3550308005158|                                   8666.0|                                             26741.0|                                     3.0878787878787883|                      1294.025151515151|                                       5434.0|                                           410.0|                                  2413.0|                                             538.0|                                                       41.0|                                            8664.0|                                           1138.0|                                            2198.0|                                            2254.0|                                            1800.0|                                             787.0|                                             294.0|                                             109.0|                                              40.0|                                              24.0|                                                       22.0|                                   5171.0|                                       150.0|                              2298.0|                                 26774.0|                                                 24925.0|                                                1734.0|                                                    1277.0|                                            7321.0|                                1324.0|                                       17.0|                                                0.0|                                           8436.0|                               24581.0|POLYGON ((-46.526...|     POINT (-46.540679...|\n",
       "+---------------------+-----------------------------------------+----------------------------------------------------+-------------------------------------------------------+---------------------------------------+---------------------------------------------+------------------------------------------------+----------------------------------------+--------------------------------------------------+-----------------------------------------------------------+--------------------------------------------------+-------------------------------------------------+--------------------------------------------------+--------------------------------------------------+--------------------------------------------------+--------------------------------------------------+--------------------------------------------------+--------------------------------------------------+--------------------------------------------------+--------------------------------------------------+-----------------------------------------------------------+-----------------------------------------+--------------------------------------------+------------------------------------+----------------------------------------+--------------------------------------------------------+------------------------------------------------------+----------------------------------------------------------+--------------------------------------------------+--------------------------------------+-------------------------------------------+---------------------------------------------------+-------------------------------------------------+--------------------------------------+--------------------+-------------------------+\n",
       "only showing top 5 rows"
      ]
     },
     "execution_count": 256,
     "metadata": {},
     "output_type": "execute_result"
    }
   ],
   "source": [
    "# looking at the results:\n",
    "df_ap_final"
   ]
  },
  {
   "cell_type": "code",
   "execution_count": 257,
   "metadata": {},
   "outputs": [
    {
     "name": "stdout",
     "output_type": "stream",
     "text": [
      "root\n",
      " |-- ponderation_area_code: string (nullable = true)\n",
      " |-- ponderation_area_total_private_households: double (nullable = true)\n",
      " |-- ponderation_area_total_population_private_households: double (nullable = true)\n",
      " |-- ponderation_area_average_number_residents_per_household: double (nullable = true)\n",
      " |-- ponderation_area_average_monthly_income: double (nullable = true)\n",
      " |-- ponderation_area_total_fully_owned_properties: double (nullable = true)\n",
      " |-- ponderation_area_total_properties_in_acquisition: double (nullable = true)\n",
      " |-- ponderation_area_total_rented_properties: double (nullable = true)\n",
      " |-- ponderation_area_total_properties_with_3_bathrooms: double (nullable = true)\n",
      " |-- ponderation_area_total_properties_without_private_bathrooms: double (nullable = true)\n",
      " |-- ponderation_area_total_households_with_electricity: double (nullable = true)\n",
      " |-- ponderation_area_total_households_with_1_resident: double (nullable = true)\n",
      " |-- ponderation_area_total_households_with_2_residents: double (nullable = true)\n",
      " |-- ponderation_area_total_households_with_3_residents: double (nullable = true)\n",
      " |-- ponderation_area_total_households_with_4_residents: double (nullable = true)\n",
      " |-- ponderation_area_total_households_with_5_residents: double (nullable = true)\n",
      " |-- ponderation_area_total_households_with_6_residents: double (nullable = true)\n",
      " |-- ponderation_area_total_households_with_7_residents: double (nullable = true)\n",
      " |-- ponderation_area_total_households_with_8_residents: double (nullable = true)\n",
      " |-- ponderation_area_total_households_with_9_residents: double (nullable = true)\n",
      " |-- ponderation_area_total_households_with_10_residents_or_more: double (nullable = true)\n",
      " |-- ponderation_area_total_fully_owned_houses: double (nullable = true)\n",
      " |-- ponderation_area_total_houses_in_acquisition: double (nullable = true)\n",
      " |-- ponderation_area_total_rented_houses: double (nullable = true)\n",
      " |-- ponderation_area_total_residents_in_area: double (nullable = true)\n",
      " |-- ponderation_area_total_residents_in_permanent_households: double (nullable = true)\n",
      " |-- ponderation_area_total_residents_in_private_apartments: double (nullable = true)\n",
      " |-- ponderation_area_total_residents_properties_in_acquisition: double (nullable = true)\n",
      " |-- ponderation_area_total_residents_rented_properties: double (nullable = true)\n",
      " |-- ponderation_area_total_number_children: double (nullable = true)\n",
      " |-- ponderation_area_total_number_house_workers: double (nullable = true)\n",
      " |-- ponderation_area_total_number_house_workers_parents: double (nullable = true)\n",
      " |-- ponderation_area_total_literate_household_leaders: double (nullable = true)\n",
      " |-- ponderation_area_total_literate_people: double (nullable = true)\n",
      " |-- geometry: geometry (nullable = true)\n",
      " |-- ponderation_area_centroid: geometry (nullable = false)\n",
      "\n"
     ]
    }
   ],
   "source": [
    "# looking at the schema:\n",
    "df_ap_final.printSchema()"
   ]
  },
  {
   "cell_type": "markdown",
   "metadata": {},
   "source": [
    "### 5.1.2 Exporting Area of Ponderation level Results"
   ]
  },
  {
   "cell_type": "code",
   "execution_count": 258,
   "metadata": {},
   "outputs": [
    {
     "data": {
      "text/plain": [
       "True"
      ]
     },
     "execution_count": 258,
     "metadata": {},
     "output_type": "execute_result"
    }
   ],
   "source": [
    "# save the results to the specified directory:\n",
    "AP_OUTPUT = f\"areas_of_ponderation/tb_area_ponderation_census\"\n",
    "PROCESSED_UNITS_OF_INTEREST = \"../data/processed/sp_census/units_of_interest/\"\n",
    "\n",
    "save_to_filesystem(\n",
    "    df_ap_final, PROCESSED_UNITS_OF_INTEREST, AP_OUTPUT, AP_OUTPUT + \".parquet\"\n",
    ")"
   ]
  },
  {
   "cell_type": "code",
   "execution_count": 259,
   "metadata": {},
   "outputs": [
    {
     "data": {
      "text/plain": [
       "True"
      ]
     },
     "execution_count": 259,
     "metadata": {},
     "output_type": "execute_result"
    }
   ],
   "source": [
    "# saving without the geometry:\n",
    "df_ap_no_geo = df_ap_final.drop(\"geometry\", \"ponderation_area_centroid\")\n",
    "\n",
    "AP_NO_GEO = f\"areas_of_ponderation/tb_area_ponderation_census_no_geo\"\n",
    "\n",
    "save_to_filesystem(\n",
    "    df_ap_final, PROCESSED_UNITS_OF_INTEREST, AP_NO_GEO, AP_NO_GEO + \".parquet\"\n",
    ")"
   ]
  },
  {
   "cell_type": "markdown",
   "metadata": {},
   "source": [
    "## 5.2 Neighborhoods"
   ]
  },
  {
   "cell_type": "code",
   "execution_count": 260,
   "metadata": {},
   "outputs": [],
   "source": [
    "# adding the centroid and area of the polygons:\n",
    "Q_NEIGHBORHOOD_MATCH = \"\"\"\n",
    "SELECT \n",
    "    A.Name as neighborhood_name,\n",
    "    B.sector_code\n",
    "FROM tb_neighborhood as A, tb_sector_features as B\n",
    "WHERE ST_Contains(A.geometry, B.sector_centroid)\n",
    "\"\"\"\n",
    "\n",
    "# matching the areas of ponderation to their sectors:\n",
    "df_nb_match = spark.sql(Q_NEIGHBORHOOD_MATCH)\n",
    "\n",
    "# adding the resulting dataframe to the SQL Context:\n",
    "df_nb_match.createOrReplaceTempView(\"tb_nb_match\")"
   ]
  },
  {
   "cell_type": "code",
   "execution_count": 261,
   "metadata": {},
   "outputs": [],
   "source": [
    "# adding the features to the ponderation area back:\n",
    "Q_NB_RAW_FEATURES = \"\"\"\n",
    "SELECT\n",
    "    A.neighborhood_name,\n",
    "    A.sector_code,\n",
    "    B.*\n",
    "FROM tb_nb_match as A\n",
    "LEFT JOIN tb_sector_features as B\n",
    "ON A.sector_code = B.sector_code\n",
    "\"\"\"\n",
    "\n",
    "# reading back the dataset:\n",
    "df_nb_raw_features = spark.sql(Q_NB_RAW_FEATURES)\n",
    "\n",
    "# dropping the geometry columns and looking at the results:\n",
    "df_nb_raw_features = df_nb_raw_features.drop(\"geometry\", \"sector_centroid\")"
   ]
  },
  {
   "cell_type": "code",
   "execution_count": 262,
   "metadata": {},
   "outputs": [],
   "source": [
    "# verifying the data integrity:\n",
    "assert (\n",
    "    df_nb_raw_features.count() == df_nb_match.count()\n",
    "), \"There are more rows than expected in the final file\""
   ]
  },
  {
   "cell_type": "markdown",
   "metadata": {},
   "source": [
    "### 5.2.1 Aggregating Raw Neighborhood Features"
   ]
  },
  {
   "cell_type": "code",
   "execution_count": 263,
   "metadata": {},
   "outputs": [],
   "source": [
    "# let's aggregate the data from the census sectors onto the area of ponderation level\n",
    "df_nb_agg = df_nb_raw_features.groupby(\"neighborhood_name\").agg(\n",
    "    F.sum(\n",
    "        F.col(\n",
    "            \"permanent_private_households_or_persons_responsible_for_permanent_private_households\"\n",
    "        )\n",
    "    ).alias(\"total_private_households\"),\n",
    "    F.sum(\n",
    "        F.col(\n",
    "            \"residents_permanent_private_households_or_population_residing_permanent_private_households\"\n",
    "        )\n",
    "    ).alias(\"total_population_private_households\"),\n",
    "    F.avg(\n",
    "        F.col(\n",
    "            \"average_number_dwellers_permanent_private_households_obtained_by_var2_division_by_var1\"\n",
    "        )\n",
    "    ).alias(\"average_number_residents_per_household\"),\n",
    "    F.avg(\n",
    "        F.col(\n",
    "            \"value_average_monthly_nominal_income_persons_responsible_for_permanent_private_households_with_and_without_income\"\n",
    "        )\n",
    "    ).alias(\"average_monthly_income\"),\n",
    "    F.sum(F.col(\"permanent_private_households_and_disposed\")).alias(\n",
    "        \"total_fully_owned_properties\"\n",
    "    ),\n",
    "    F.sum(F.col(\"permanent_private_households_acquisition\")).alias(\n",
    "        \"total_properties_in_acquisition\"\n",
    "    ),\n",
    "    F.sum(F.col(\"permanent_private_households_rented\")).alias(\n",
    "        \"total_rented_properties\"\n",
    "    ),\n",
    "    F.sum(F.col(\"permanent_private_households_with_3_bathrooms_residents\")).alias(\n",
    "        \"total_properties_with_3_bathrooms\"\n",
    "    ),\n",
    "    F.sum(\n",
    "        F.col(\"permanent_private_households_without_exclusive_use_bathroom_residents\")\n",
    "    ).alias(\"total_properties_without_private_bathrooms\"),\n",
    "    F.sum(F.col(\"permanent_private_households_with_electricity\")).alias(\n",
    "        \"total_households_with_electricity\"\n",
    "    ),\n",
    "    F.sum(F.col(\"permanent_private_households_with_1_resident\")).alias(\n",
    "        \"total_households_with_1_resident\"\n",
    "    ),\n",
    "    F.sum(F.col(\"permanent_private_households_with_2_residents\")).alias(\n",
    "        \"total_households_with_2_residents\"\n",
    "    ),\n",
    "    F.sum(F.col(\"permanent_private_households_with_3_residents\")).alias(\n",
    "        \"total_households_with_3_residents\"\n",
    "    ),\n",
    "    F.sum(F.col(\"permanent_private_households_with_4_residents\")).alias(\n",
    "        \"total_households_with_4_residents\"\n",
    "    ),\n",
    "    F.sum(F.col(\"permanent_private_households_with_5_residents\")).alias(\n",
    "        \"total_households_with_5_residents\"\n",
    "    ),\n",
    "    F.sum(F.col(\"permanent_private_households_with_6_residents\")).alias(\n",
    "        \"total_households_with_6_residents\"\n",
    "    ),\n",
    "    F.sum(F.col(\"permanent_private_households_with_7_residents\")).alias(\n",
    "        \"total_households_with_7_residents\"\n",
    "    ),\n",
    "    F.sum(F.col(\"permanent_private_households_with_8_residents\")).alias(\n",
    "        \"total_households_with_8_residents\"\n",
    "    ),\n",
    "    F.sum(F.col(\"permanent_private_households_with_9_residents\")).alias(\n",
    "        \"total_households_with_9_residents\"\n",
    "    ),\n",
    "    F.sum(F.col(\"permanent_private_households_with_10_or_more_residents\")).alias(\n",
    "        \"total_households_with_10_residents_or_more\"\n",
    "    ),\n",
    "    F.sum(F.col(\"permanent_private_home_type_households_and_clear\")).alias(\n",
    "        \"total_fully_owned_houses\"\n",
    "    ),\n",
    "    F.sum(F.col(\"permanent_private_home_type_households_and_acquisition\")).alias(\n",
    "        \"total_houses_in_acquisition\"\n",
    "    ),\n",
    "    F.sum(F.col(\"permanent_private_household_homes_rented\")).alias(\n",
    "        \"total_rented_houses\"\n",
    "    ),\n",
    "    F.sum(F.col(\"residents_private_households_and_collective_households\")).alias(\n",
    "        \"total_residents_in_area\"\n",
    "    ),\n",
    "    F.sum(F.col(\"residents_permanent_household_private_households\")).alias(\n",
    "        \"total_residents_in_permanent_households\"\n",
    "    ),\n",
    "    F.sum(F.col(\"residents_permanent_private_households_apartment_type\")).alias(\n",
    "        \"total_residents_in_private_apartments\"\n",
    "    ),\n",
    "    F.sum(F.col(\"dwellers_permanent_private_households_and_acquisition\")).alias(\n",
    "        \"total_residents_properties_in_acquisition\"\n",
    "    ),\n",
    "    F.sum(F.col(\"residents_permanent_private_households_rented\")).alias(\n",
    "        \"total_residents_rented_properties\"\n",
    "    ),\n",
    "    F.sum(F.col(\"children_only_from_person_responsible_private_households\")).alias(\n",
    "        \"total_number_children\"\n",
    "    ),\n",
    "    F.sum(\n",
    "        F.col(\"household_employees_private_households_males\")\n",
    "        + F.col(\"household_employees_private_households\")\n",
    "    ).alias(\"total_number_house_workers\"),\n",
    "    F.sum(\n",
    "        F.col(\"relatives_domestic_employees_as_private_households_female\")\n",
    "        + F.col(\"relatives_household_employees_private_households_male\")\n",
    "    ).alias(\"total_number_house_workers_parents\"),\n",
    "    F.sum(F.col(\"literacy_responsible_persons\")).alias(\n",
    "        \"total_literate_household_leaders\"\n",
    "    ),\n",
    "    F.sum(F.col(\"alphabetized_people_with_5_or_more_years_age\")).alias(\n",
    "        \"total_literate_people\"\n",
    "    ),\n",
    ")\n",
    "\n",
    "# fixing the column names:\n",
    "new_columns = list(map(lambda col: f\"neighborhood_{col}\", df_nb_agg.columns))\n",
    "\n",
    "for i in range(len(df_ap_agg.columns)):\n",
    "    df_nb_agg = df_nb_agg.withColumnRenamed(df_nb_agg.columns[i], new_columns[i])\n",
    "\n",
    "df_nb_agg = df_nb_agg.withColumnRenamed(\n",
    "    \"neighborhood_neighborhood_name\", \"neighborhood_name\"\n",
    ")"
   ]
  },
  {
   "cell_type": "code",
   "execution_count": 264,
   "metadata": {},
   "outputs": [],
   "source": [
    "# adding the resulting dataframe to the SQL Context:\n",
    "df_nb_agg.createOrReplaceTempView(\"tb_neighborhood_features\")\n",
    "\n",
    "# generating the final level of aggregation for the census features:\n",
    "Q_NB_GEOM = \"\"\"\n",
    "SELECT\n",
    "    A.*,\n",
    "    B.geometry,\n",
    "    ST_Centroid(B.geometry) as neighborhood_centroid\n",
    "FROM tb_neighborhood_features as A\n",
    "LEFT JOIN tb_neighborhood as B \n",
    "ON A.neighborhood_name = B.Name\n",
    "\"\"\"\n",
    "\n",
    "df_nb_final = spark.sql(Q_NB_GEOM)"
   ]
  },
  {
   "cell_type": "markdown",
   "metadata": {},
   "source": [
    "### 5.2.2 Exporting Neighborhood level Results"
   ]
  },
  {
   "cell_type": "code",
   "execution_count": 265,
   "metadata": {},
   "outputs": [
    {
     "data": {
      "text/plain": [
       "True"
      ]
     },
     "execution_count": 265,
     "metadata": {},
     "output_type": "execute_result"
    }
   ],
   "source": [
    "# save the results to the specified directory:\n",
    "NB_OUTPUT = f\"neighborhoods/tb_neighborhood_census\"\n",
    "PROCESSED_UNITS_OF_INTEREST = \"../data/processed/sp_census/units_of_interest/\"\n",
    "\n",
    "save_to_filesystem(\n",
    "    df_nb_final, PROCESSED_UNITS_OF_INTEREST, NB_OUTPUT, NB_OUTPUT + \".parquet\"\n",
    ")"
   ]
  },
  {
   "cell_type": "code",
   "execution_count": 266,
   "metadata": {},
   "outputs": [
    {
     "data": {
      "text/plain": [
       "True"
      ]
     },
     "execution_count": 266,
     "metadata": {},
     "output_type": "execute_result"
    }
   ],
   "source": [
    "# saving the results the results without geometries:\n",
    "NB_NO_GEO = f\"neighborhoods/tb_neighborhood_census_no_geo\"\n",
    "\n",
    "df_nb_no_geo = df_nb_final.drop(\"geometry\", \"neighborhood_centroid\")\n",
    "\n",
    "save_to_filesystem(\n",
    "    df_nb_no_geo, PROCESSED_UNITS_OF_INTEREST, NB_NO_GEO, NB_NO_GEO + \".parquet\"\n",
    ")"
   ]
  },
  {
   "cell_type": "markdown",
   "metadata": {},
   "source": [
    "## 5.3 Districts"
   ]
  },
  {
   "cell_type": "code",
   "execution_count": 267,
   "metadata": {},
   "outputs": [],
   "source": [
    "# adding the centroid and area of the polygons:\n",
    "Q_DS_MATCH = \"\"\"\n",
    "SELECT \n",
    "    A.district_name,\n",
    "    B.sector_code\n",
    "FROM tb_district as A, tb_sector_features as B\n",
    "WHERE ST_Contains(A.geometry, B.sector_centroid)\n",
    "\"\"\"\n",
    "\n",
    "# matching the areas of ponderation to their sectors:\n",
    "df_ds_match = spark.sql(Q_DS_MATCH)"
   ]
  },
  {
   "cell_type": "code",
   "execution_count": 268,
   "metadata": {},
   "outputs": [],
   "source": [
    "# adding the resulting dataframe to the SQL Context:\n",
    "df_ds_match.createOrReplaceTempView(\"tb_ds_match\")\n",
    "df_sector_features = df_sector_features.drop(\"district_name\")\n",
    "df_sector_features.createOrReplaceTempView(\"tb_sector_features\")"
   ]
  },
  {
   "cell_type": "code",
   "execution_count": 269,
   "metadata": {},
   "outputs": [],
   "source": [
    "# adding the features to the ponderation area back:\n",
    "Q_DS_RAW_FEATURES = \"\"\"\n",
    "SELECT\n",
    "    A.district_name,\n",
    "    A.sector_code,\n",
    "    B.*\n",
    "FROM tb_ds_match as A\n",
    "LEFT JOIN tb_sector_features as B\n",
    "ON A.sector_code = B.sector_code\n",
    "\"\"\"\n",
    "\n",
    "# reading back the dataset:\n",
    "df_ds_raw_features = spark.sql(Q_DS_RAW_FEATURES)\n",
    "\n",
    "# dropping the geometry columns and looking at the results:\n",
    "df_ds_raw_features = df_ds_raw_features.drop(\"geometry\", \"sector_centroid\")"
   ]
  },
  {
   "cell_type": "markdown",
   "metadata": {},
   "source": [
    "### 5.3.1 Aggregating Raw District Features"
   ]
  },
  {
   "cell_type": "code",
   "execution_count": 270,
   "metadata": {},
   "outputs": [],
   "source": [
    "# let's aggregate the data from the census sectors onto the area of ponderation level\n",
    "df_ds_agg = df_ds_raw_features.groupby(\"district_name\").agg(\n",
    "    F.sum(\n",
    "        F.col(\n",
    "            \"permanent_private_households_or_persons_responsible_for_permanent_private_households\"\n",
    "        )\n",
    "    ).alias(\"total_private_households\"),\n",
    "    F.sum(\n",
    "        F.col(\n",
    "            \"residents_permanent_private_households_or_population_residing_permanent_private_households\"\n",
    "        )\n",
    "    ).alias(\"total_population_private_households\"),\n",
    "    F.avg(\n",
    "        F.col(\n",
    "            \"average_number_dwellers_permanent_private_households_obtained_by_var2_division_by_var1\"\n",
    "        )\n",
    "    ).alias(\"average_number_residents_per_household\"),\n",
    "    F.avg(\n",
    "        F.col(\n",
    "            \"value_average_monthly_nominal_income_persons_responsible_for_permanent_private_households_with_and_without_income\"\n",
    "        )\n",
    "    ).alias(\"average_monthly_income\"),\n",
    "    F.sum(F.col(\"permanent_private_households_and_disposed\")).alias(\n",
    "        \"total_fully_owned_properties\"\n",
    "    ),\n",
    "    F.sum(F.col(\"permanent_private_households_acquisition\")).alias(\n",
    "        \"total_properties_in_acquisition\"\n",
    "    ),\n",
    "    F.sum(F.col(\"permanent_private_households_rented\")).alias(\n",
    "        \"total_rented_properties\"\n",
    "    ),\n",
    "    F.sum(F.col(\"permanent_private_households_with_3_bathrooms_residents\")).alias(\n",
    "        \"total_properties_with_3_bathrooms\"\n",
    "    ),\n",
    "    F.sum(\n",
    "        F.col(\"permanent_private_households_without_exclusive_use_bathroom_residents\")\n",
    "    ).alias(\"total_properties_without_private_bathrooms\"),\n",
    "    F.sum(F.col(\"permanent_private_households_with_electricity\")).alias(\n",
    "        \"total_households_with_electricity\"\n",
    "    ),\n",
    "    F.sum(F.col(\"permanent_private_households_with_1_resident\")).alias(\n",
    "        \"total_households_with_1_resident\"\n",
    "    ),\n",
    "    F.sum(F.col(\"permanent_private_households_with_2_residents\")).alias(\n",
    "        \"total_households_with_2_residents\"\n",
    "    ),\n",
    "    F.sum(F.col(\"permanent_private_households_with_3_residents\")).alias(\n",
    "        \"total_households_with_3_residents\"\n",
    "    ),\n",
    "    F.sum(F.col(\"permanent_private_households_with_4_residents\")).alias(\n",
    "        \"total_households_with_4_residents\"\n",
    "    ),\n",
    "    F.sum(F.col(\"permanent_private_households_with_5_residents\")).alias(\n",
    "        \"total_households_with_5_residents\"\n",
    "    ),\n",
    "    F.sum(F.col(\"permanent_private_households_with_6_residents\")).alias(\n",
    "        \"total_households_with_6_residents\"\n",
    "    ),\n",
    "    F.sum(F.col(\"permanent_private_households_with_7_residents\")).alias(\n",
    "        \"total_households_with_7_residents\"\n",
    "    ),\n",
    "    F.sum(F.col(\"permanent_private_households_with_8_residents\")).alias(\n",
    "        \"total_households_with_8_residents\"\n",
    "    ),\n",
    "    F.sum(F.col(\"permanent_private_households_with_9_residents\")).alias(\n",
    "        \"total_households_with_9_residents\"\n",
    "    ),\n",
    "    F.sum(F.col(\"permanent_private_households_with_10_or_more_residents\")).alias(\n",
    "        \"total_households_with_10_residents_or_more\"\n",
    "    ),\n",
    "    F.sum(F.col(\"permanent_private_home_type_households_and_clear\")).alias(\n",
    "        \"total_fully_owned_houses\"\n",
    "    ),\n",
    "    F.sum(F.col(\"permanent_private_home_type_households_and_acquisition\")).alias(\n",
    "        \"total_houses_in_acquisition\"\n",
    "    ),\n",
    "    F.sum(F.col(\"permanent_private_household_homes_rented\")).alias(\n",
    "        \"total_rented_houses\"\n",
    "    ),\n",
    "    F.sum(F.col(\"residents_private_households_and_collective_households\")).alias(\n",
    "        \"total_residents_in_area\"\n",
    "    ),\n",
    "    F.sum(F.col(\"residents_permanent_household_private_households\")).alias(\n",
    "        \"total_residents_in_permanent_households\"\n",
    "    ),\n",
    "    F.sum(F.col(\"residents_permanent_private_households_apartment_type\")).alias(\n",
    "        \"total_residents_in_private_apartments\"\n",
    "    ),\n",
    "    F.sum(F.col(\"dwellers_permanent_private_households_and_acquisition\")).alias(\n",
    "        \"total_residents_properties_in_acquisition\"\n",
    "    ),\n",
    "    F.sum(F.col(\"residents_permanent_private_households_rented\")).alias(\n",
    "        \"total_residents_rented_properties\"\n",
    "    ),\n",
    "    F.sum(F.col(\"children_only_from_person_responsible_private_households\")).alias(\n",
    "        \"total_number_children\"\n",
    "    ),\n",
    "    F.sum(\n",
    "        F.col(\"household_employees_private_households_males\")\n",
    "        + F.col(\"household_employees_private_households\")\n",
    "    ).alias(\"total_number_house_workers\"),\n",
    "    F.sum(\n",
    "        F.col(\"relatives_domestic_employees_as_private_households_female\")\n",
    "        + F.col(\"relatives_household_employees_private_households_male\")\n",
    "    ).alias(\"total_number_house_workers_parents\"),\n",
    "    F.sum(F.col(\"literacy_responsible_persons\")).alias(\n",
    "        \"total_literate_household_leaders\"\n",
    "    ),\n",
    "    F.sum(F.col(\"alphabetized_people_with_5_or_more_years_age\")).alias(\n",
    "        \"total_literate_people\"\n",
    "    ),\n",
    ")\n",
    "\n",
    "# fixing the column names:\n",
    "new_columns = list(map(lambda col: f\"district_{col}\", df_ds_agg.columns))\n",
    "\n",
    "for i in range(len(df_ds_agg.columns)):\n",
    "    df_ds_agg = df_ds_agg.withColumnRenamed(df_ds_agg.columns[i], new_columns[i])\n",
    "\n",
    "df_ds_agg = df_ds_agg.withColumnRenamed(\"district_district_name\", \"district_name\")"
   ]
  },
  {
   "cell_type": "code",
   "execution_count": 271,
   "metadata": {},
   "outputs": [],
   "source": [
    "# adding the resulting dataframe to the SQL Context:\n",
    "df_ds_agg.createOrReplaceTempView(\"tb_district_features\")\n",
    "\n",
    "# generating the final level of aggregation for the census features:\n",
    "Q_DS_GEOM = \"\"\"\n",
    "SELECT\n",
    "    A.*,\n",
    "    B.geometry,\n",
    "    ST_Centroid(B.geometry) as district_centroid\n",
    "FROM tb_district_features as A\n",
    "LEFT JOIN tb_district as B \n",
    "ON A.district_name = B.district_name\n",
    "\"\"\"\n",
    "\n",
    "df_ds_final = spark.sql(Q_DS_GEOM)"
   ]
  },
  {
   "cell_type": "code",
   "execution_count": 272,
   "metadata": {},
   "outputs": [
    {
     "data": {
      "text/html": [
       "<table border='1'>\n",
       "<tr><th>district_name</th><th>district_total_private_households</th><th>district_total_population_private_households</th><th>district_average_number_residents_per_household</th><th>district_average_monthly_income</th><th>district_total_fully_owned_properties</th><th>district_total_properties_in_acquisition</th><th>district_total_rented_properties</th><th>district_total_properties_with_3_bathrooms</th><th>district_total_properties_without_private_bathrooms</th><th>district_total_households_with_electricity</th><th>district_total_households_with_1_resident</th><th>district_total_households_with_2_residents</th><th>district_total_households_with_3_residents</th><th>district_total_households_with_4_residents</th><th>district_total_households_with_5_residents</th><th>district_total_households_with_6_residents</th><th>district_total_households_with_7_residents</th><th>district_total_households_with_8_residents</th><th>district_total_households_with_9_residents</th><th>district_total_households_with_10_residents_or_more</th><th>district_total_fully_owned_houses</th><th>district_total_houses_in_acquisition</th><th>district_total_rented_houses</th><th>district_total_residents_in_area</th><th>district_total_residents_in_permanent_households</th><th>district_total_residents_in_private_apartments</th><th>district_total_residents_properties_in_acquisition</th><th>district_total_residents_rented_properties</th><th>district_total_number_children</th><th>district_total_number_house_workers</th><th>district_total_number_house_workers_parents</th><th>district_total_literate_household_leaders</th><th>district_total_literate_people</th><th>geometry</th><th>district_centroid</th></tr>\n",
       "<tr><td>SAO RAFAEL</td><td>40502.0</td><td>143559.0</td><td>3.532713567839195</td><td>847.8482914572866</td><td>27110.0</td><td>2464.0</td><td>6924.0</td><td>1549.0</td><td>763.0</td><td>40462.0</td><td>3388.0</td><td>7565.0</td><td>10381.0</td><td>9718.0</td><td>5325.0</td><td>2248.0</td><td>1005.0</td><td>456.0</td><td>207.0</td><td>209.0</td><td>26233.0</td><td>972.0</td><td>6678.0</td><td>143656.0</td><td>133780.0</td><td>7195.0</td><td>9065.0</td><td>22839.0</td><td>8416.0</td><td>13.0</td><td>1.0</td><td>37766.0</td><td>122441.0</td><td>POLYGON ((-46.481...</td><td>POINT (-46.453991...</td></tr>\n",
       "<tr><td>MARSILAC</td><td>2349.0</td><td>8185.0</td><td>3.5406666666666675</td><td>665.7364444444444</td><td>1594.0</td><td>59.0</td><td>138.0</td><td>69.0</td><td>12.0</td><td>2316.0</td><td>296.0</td><td>479.0</td><td>558.0</td><td>420.0</td><td>289.0</td><td>131.0</td><td>72.0</td><td>42.0</td><td>16.0</td><td>24.0</td><td>1586.0</td><td>24.0</td><td>136.0</td><td>8258.0</td><td>7949.0</td><td>134.0</td><td>194.0</td><td>453.0</td><td>572.0</td><td>2.0</td><td>0.0</td><td>2052.0</td><td>6794.0</td><td>POLYGON ((-46.609...</td><td>POINT (-46.707905...</td></tr>\n",
       "<tr><td>RIO PEQUENO</td><td>36945.0</td><td>116877.0</td><td>3.1489534883720935</td><td>2701.8732558139513</td><td>24426.0</td><td>2887.0</td><td>7765.0</td><td>3716.0</td><td>1037.0</td><td>36906.0</td><td>4704.0</td><td>8978.0</td><td>9546.0</td><td>7779.0</td><td>3382.0</td><td>1367.0</td><td>584.0</td><td>295.0</td><td>144.0</td><td>135.0</td><td>17305.0</td><td>823.0</td><td>5904.0</td><td>117175.0</td><td>85463.0</td><td>25448.0</td><td>8373.0</td><td>23144.0</td><td>6687.0</td><td>199.0</td><td>16.0</td><td>35746.0</td><td>105454.0</td><td>POLYGON ((-46.744...</td><td>POINT (-46.758913...</td></tr>\n",
       "<tr><td>CACHOEIRINHA</td><td>42898.0</td><td>144280.0</td><td>3.421146788990824</td><td>1233.538211009174</td><td>25236.0</td><td>3536.0</td><td>10259.0</td><td>1953.0</td><td>1357.0</td><td>42883.0</td><td>4540.0</td><td>9271.0</td><td>11184.0</td><td>9403.0</td><td>4686.0</td><td>2004.0</td><td>912.0</td><td>444.0</td><td>189.0</td><td>259.0</td><td>20875.0</td><td>431.0</td><td>8591.0</td><td>144378.0</td><td>113001.0</td><td>22846.0</td><td>11017.0</td><td>32889.0</td><td>9432.0</td><td>45.0</td><td>1.0</td><td>40781.0</td><td>126205.0</td><td>POLYGON ((-46.655...</td><td>POINT (-46.662130...</td></tr>\n",
       "<tr><td>ERMELINO MATARAZZO</td><td>33961.0</td><td>113289.0</td><td>3.346988636363635</td><td>1104.565170454545</td><td>21736.0</td><td>1648.0</td><td>8434.0</td><td>1613.0</td><td>198.0</td><td>33950.0</td><td>3508.0</td><td>7124.0</td><td>8897.0</td><td>7970.0</td><td>3833.0</td><td>1516.0</td><td>625.0</td><td>267.0</td><td>128.0</td><td>93.0</td><td>20362.0</td><td>465.0</td><td>7916.0</td><td>113379.0</td><td>103586.0</td><td>7041.0</td><td>5157.0</td><td>26682.0</td><td>7218.0</td><td>59.0</td><td>10.0</td><td>32531.0</td><td>100122.0</td><td>POLYGON ((-46.469...</td><td>POINT (-46.484567...</td></tr>\n",
       "</table>\n",
       "only showing top 5 rows\n"
      ],
      "text/plain": [
       "+------------------+---------------------------------+--------------------------------------------+-----------------------------------------------+-------------------------------+-------------------------------------+----------------------------------------+--------------------------------+------------------------------------------+---------------------------------------------------+------------------------------------------+-----------------------------------------+------------------------------------------+------------------------------------------+------------------------------------------+------------------------------------------+------------------------------------------+------------------------------------------+------------------------------------------+------------------------------------------+---------------------------------------------------+---------------------------------+------------------------------------+----------------------------+--------------------------------+------------------------------------------------+----------------------------------------------+--------------------------------------------------+------------------------------------------+------------------------------+-----------------------------------+-------------------------------------------+-----------------------------------------+------------------------------+--------------------+--------------------+\n",
       "|     district_name|district_total_private_households|district_total_population_private_households|district_average_number_residents_per_household|district_average_monthly_income|district_total_fully_owned_properties|district_total_properties_in_acquisition|district_total_rented_properties|district_total_properties_with_3_bathrooms|district_total_properties_without_private_bathrooms|district_total_households_with_electricity|district_total_households_with_1_resident|district_total_households_with_2_residents|district_total_households_with_3_residents|district_total_households_with_4_residents|district_total_households_with_5_residents|district_total_households_with_6_residents|district_total_households_with_7_residents|district_total_households_with_8_residents|district_total_households_with_9_residents|district_total_households_with_10_residents_or_more|district_total_fully_owned_houses|district_total_houses_in_acquisition|district_total_rented_houses|district_total_residents_in_area|district_total_residents_in_permanent_households|district_total_residents_in_private_apartments|district_total_residents_properties_in_acquisition|district_total_residents_rented_properties|district_total_number_children|district_total_number_house_workers|district_total_number_house_workers_parents|district_total_literate_household_leaders|district_total_literate_people|            geometry|   district_centroid|\n",
       "+------------------+---------------------------------+--------------------------------------------+-----------------------------------------------+-------------------------------+-------------------------------------+----------------------------------------+--------------------------------+------------------------------------------+---------------------------------------------------+------------------------------------------+-----------------------------------------+------------------------------------------+------------------------------------------+------------------------------------------+------------------------------------------+------------------------------------------+------------------------------------------+------------------------------------------+------------------------------------------+---------------------------------------------------+---------------------------------+------------------------------------+----------------------------+--------------------------------+------------------------------------------------+----------------------------------------------+--------------------------------------------------+------------------------------------------+------------------------------+-----------------------------------+-------------------------------------------+-----------------------------------------+------------------------------+--------------------+--------------------+\n",
       "|        SAO RAFAEL|                          40502.0|                                    143559.0|                              3.532713567839195|              847.8482914572866|                              27110.0|                                  2464.0|                          6924.0|                                    1549.0|                                              763.0|                                   40462.0|                                   3388.0|                                    7565.0|                                   10381.0|                                    9718.0|                                    5325.0|                                    2248.0|                                    1005.0|                                     456.0|                                     207.0|                                              209.0|                          26233.0|                               972.0|                      6678.0|                        143656.0|                                        133780.0|                                        7195.0|                                            9065.0|                                   22839.0|                        8416.0|                               13.0|                                        1.0|                                  37766.0|                      122441.0|POLYGON ((-46.481...|POINT (-46.453991...|\n",
       "|          MARSILAC|                           2349.0|                                      8185.0|                             3.5406666666666675|              665.7364444444444|                               1594.0|                                    59.0|                           138.0|                                      69.0|                                               12.0|                                    2316.0|                                    296.0|                                     479.0|                                     558.0|                                     420.0|                                     289.0|                                     131.0|                                      72.0|                                      42.0|                                      16.0|                                               24.0|                           1586.0|                                24.0|                       136.0|                          8258.0|                                          7949.0|                                         134.0|                                             194.0|                                     453.0|                         572.0|                                2.0|                                        0.0|                                   2052.0|                        6794.0|POLYGON ((-46.609...|POINT (-46.707905...|\n",
       "|       RIO PEQUENO|                          36945.0|                                    116877.0|                             3.1489534883720935|             2701.8732558139513|                              24426.0|                                  2887.0|                          7765.0|                                    3716.0|                                             1037.0|                                   36906.0|                                   4704.0|                                    8978.0|                                    9546.0|                                    7779.0|                                    3382.0|                                    1367.0|                                     584.0|                                     295.0|                                     144.0|                                              135.0|                          17305.0|                               823.0|                      5904.0|                        117175.0|                                         85463.0|                                       25448.0|                                            8373.0|                                   23144.0|                        6687.0|                              199.0|                                       16.0|                                  35746.0|                      105454.0|POLYGON ((-46.744...|POINT (-46.758913...|\n",
       "|      CACHOEIRINHA|                          42898.0|                                    144280.0|                              3.421146788990824|              1233.538211009174|                              25236.0|                                  3536.0|                         10259.0|                                    1953.0|                                             1357.0|                                   42883.0|                                   4540.0|                                    9271.0|                                   11184.0|                                    9403.0|                                    4686.0|                                    2004.0|                                     912.0|                                     444.0|                                     189.0|                                              259.0|                          20875.0|                               431.0|                      8591.0|                        144378.0|                                        113001.0|                                       22846.0|                                           11017.0|                                   32889.0|                        9432.0|                               45.0|                                        1.0|                                  40781.0|                      126205.0|POLYGON ((-46.655...|POINT (-46.662130...|\n",
       "|ERMELINO MATARAZZO|                          33961.0|                                    113289.0|                              3.346988636363635|              1104.565170454545|                              21736.0|                                  1648.0|                          8434.0|                                    1613.0|                                              198.0|                                   33950.0|                                   3508.0|                                    7124.0|                                    8897.0|                                    7970.0|                                    3833.0|                                    1516.0|                                     625.0|                                     267.0|                                     128.0|                                               93.0|                          20362.0|                               465.0|                      7916.0|                        113379.0|                                        103586.0|                                        7041.0|                                            5157.0|                                   26682.0|                        7218.0|                               59.0|                                       10.0|                                  32531.0|                      100122.0|POLYGON ((-46.469...|POINT (-46.484567...|\n",
       "+------------------+---------------------------------+--------------------------------------------+-----------------------------------------------+-------------------------------+-------------------------------------+----------------------------------------+--------------------------------+------------------------------------------+---------------------------------------------------+------------------------------------------+-----------------------------------------+------------------------------------------+------------------------------------------+------------------------------------------+------------------------------------------+------------------------------------------+------------------------------------------+------------------------------------------+------------------------------------------+---------------------------------------------------+---------------------------------+------------------------------------+----------------------------+--------------------------------+------------------------------------------------+----------------------------------------------+--------------------------------------------------+------------------------------------------+------------------------------+-----------------------------------+-------------------------------------------+-----------------------------------------+------------------------------+--------------------+--------------------+\n",
       "only showing top 5 rows"
      ]
     },
     "execution_count": 272,
     "metadata": {},
     "output_type": "execute_result"
    }
   ],
   "source": [
    "# verifying the results:\n",
    "df_ds_final"
   ]
  },
  {
   "cell_type": "markdown",
   "metadata": {},
   "source": [
    "### 5.3.2 Exporting District level Results"
   ]
  },
  {
   "cell_type": "code",
   "execution_count": 273,
   "metadata": {},
   "outputs": [
    {
     "data": {
      "text/plain": [
       "True"
      ]
     },
     "execution_count": 273,
     "metadata": {},
     "output_type": "execute_result"
    }
   ],
   "source": [
    "# save the results to the specified directory:\n",
    "DS_OUTPUT = f\"districts/tb_district_census\"\n",
    "PROCESSED_UNITS_OF_INTEREST = \"../data/processed/sp_census/units_of_interest/\"\n",
    "\n",
    "save_to_filesystem(\n",
    "    df_ds_final, PROCESSED_UNITS_OF_INTEREST, DS_OUTPUT, DS_OUTPUT + \".parquet\"\n",
    ")"
   ]
  },
  {
   "cell_type": "code",
   "execution_count": 274,
   "metadata": {},
   "outputs": [
    {
     "data": {
      "text/plain": [
       "True"
      ]
     },
     "execution_count": 274,
     "metadata": {},
     "output_type": "execute_result"
    }
   ],
   "source": [
    "# saving the results the results without geometries:\n",
    "DS_NO_GEO = f\"districts/tb_district_census_no_geo\"\n",
    "\n",
    "df_ds_no_geo = df_ds_final.drop(\"geometry\", \"district_centroid\")\n",
    "\n",
    "save_to_filesystem(\n",
    "    df_ds_no_geo, PROCESSED_UNITS_OF_INTEREST, DS_NO_GEO, DS_NO_GEO + \".parquet\"\n",
    ")"
   ]
  },
  {
   "cell_type": "markdown",
   "metadata": {},
   "source": [
    "## 5.4 Zip Code\n",
    "\n",
    "The deal with the Zip codes is that, different from a polygon, it does not represent an enclosed structure. With that, with that, the approach we were developing before that included matching the centroids of the census sectors to the polygon in which they are located. The base shapes are `linestrings` instead. `linestrings` can intersect census sectors, for example. With that, we will have an `intersection` join instead of `containment` spatial join.\n",
    "\n",
    "Why can't we just calculate the middle point from the line representing the sector instead and use it as a reference? That could certainly work, but it does not capture much of the variation in longer streets (and thus longer zip codes). Performing the crossing join is a way to capture more of the variation along the same street.\n",
    "\n",
    "> **Note**: this can be quite an expensive operation, since we end up with a many-to-many relationship established. One street can cross multiple sectors and sectors can be crossed by multiple streets (zip codes). It should be taken into consideration. "
   ]
  },
  {
   "cell_type": "code",
   "execution_count": 275,
   "metadata": {},
   "outputs": [],
   "source": [
    "# calculating the\n",
    "Q_ZIPCODE_MATCH = \"\"\"\n",
    "SELECT \n",
    "    A.zipcode,\n",
    "    B.sector_code\n",
    "FROM tb_zipcode as A, tb_sector_features as B\n",
    "WHERE ST_Intersects(B.geometry, A.geometry)\n",
    "\"\"\"\n",
    "\n",
    "# matching the areas of ponderation to their sectors:\n",
    "df_zipcode_match = spark.sql(Q_ZIPCODE_MATCH)\n",
    "\n",
    "# adding the resulting dataframe to the SQL Context:\n",
    "df_zipcode_match.createOrReplaceTempView(\"tb_zipcode_match\")"
   ]
  },
  {
   "cell_type": "code",
   "execution_count": 276,
   "metadata": {},
   "outputs": [
    {
     "data": {
      "text/html": [
       "<table border='1'>\n",
       "<tr><th>zipcode</th><th>sector_code</th></tr>\n",
       "<tr><td>04886050</td><td>355030855000057</td></tr>\n",
       "<tr><td>04891110</td><td>355030855000042</td></tr>\n",
       "<tr><td>04888040</td><td>355030855000025</td></tr>\n",
       "<tr><td>04891160</td><td>355030855000041</td></tr>\n",
       "<tr><td>04888080</td><td>355030855000056</td></tr>\n",
       "</table>\n",
       "only showing top 5 rows\n"
      ],
      "text/plain": [
       "+--------+---------------+\n",
       "| zipcode|    sector_code|\n",
       "+--------+---------------+\n",
       "|04892000|355030855000225|\n",
       "|04897350|355030855000115|\n",
       "|04896070|355030855000008|\n",
       "|04896070|355030855000007|\n",
       "|04896000|355030855000320|\n",
       "+--------+---------------+\n",
       "only showing top 5 rows"
      ]
     },
     "execution_count": 276,
     "metadata": {},
     "output_type": "execute_result"
    }
   ],
   "source": [
    "# verifying the results:\n",
    "df_zipcode_match"
   ]
  },
  {
   "cell_type": "code",
   "execution_count": 277,
   "metadata": {},
   "outputs": [
    {
     "data": {
      "text/plain": [
       "69557"
      ]
     },
     "execution_count": 277,
     "metadata": {},
     "output_type": "execute_result"
    }
   ],
   "source": [
    "# counting the number of zipcodes\n",
    "df_zipcode_match.count()"
   ]
  },
  {
   "cell_type": "code",
   "execution_count": 278,
   "metadata": {},
   "outputs": [
    {
     "data": {
      "text/html": [
       "<table border='1'>\n",
       "<tr><th>n_distinct_zipcodes</th></tr>\n",
       "<tr><td>44772</td></tr>\n",
       "</table>\n"
      ],
      "text/plain": [
       "+-------------------+\n",
       "|n_distinct_zipcodes|\n",
       "+-------------------+\n",
       "|              44772|\n",
       "+-------------------+"
      ]
     },
     "execution_count": 278,
     "metadata": {},
     "output_type": "execute_result"
    }
   ],
   "source": [
    "# verifying the number of distinct zipcodes:\n",
    "df_zipcode_match.select(\n",
    "    F.countDistinct(F.col(\"zipcode\")).alias(\"n_distinct_zipcodes\")\n",
    ")  # we lost some zip codes (about 114), that is good enough"
   ]
  },
  {
   "cell_type": "code",
   "execution_count": 279,
   "metadata": {},
   "outputs": [],
   "source": [
    "# adding the features to the ponderation area back:\n",
    "Q_ZIPCODE_FEATURES = \"\"\"\n",
    "SELECT\n",
    "    A.zipcode,\n",
    "    A.sector_code,\n",
    "    B.*\n",
    "FROM tb_zipcode_match as A\n",
    "LEFT JOIN tb_sector_features as B\n",
    "ON A.sector_code = B.sector_code\n",
    "\"\"\"\n",
    "\n",
    "# reading back the dataset:\n",
    "df_zipcode_raw_features = spark.sql(Q_ZIPCODE_FEATURES)\n",
    "\n",
    "# dropping the geometry columns and looking at the results:\n",
    "df_zipcode_raw_features = df_zipcode_raw_features.drop(\"geometry\", \"sector_centroid\")"
   ]
  },
  {
   "cell_type": "markdown",
   "metadata": {},
   "source": [
    "### 5.4.1 Aggregating the Zip Code Features"
   ]
  },
  {
   "cell_type": "code",
   "execution_count": 280,
   "metadata": {},
   "outputs": [],
   "source": [
    "# let's aggregate the data from the census sectors onto the area of ponderation level\n",
    "df_zipcode_agg = df_zipcode_raw_features.groupby(\"zipcode\").agg(\n",
    "    F.sum(\n",
    "        F.col(\n",
    "            \"permanent_private_households_or_persons_responsible_for_permanent_private_households\"\n",
    "        )\n",
    "    ).alias(\"total_private_households\"),\n",
    "    F.sum(\n",
    "        F.col(\n",
    "            \"residents_permanent_private_households_or_population_residing_permanent_private_households\"\n",
    "        )\n",
    "    ).alias(\"total_population_private_households\"),\n",
    "    F.avg(\n",
    "        F.col(\n",
    "            \"average_number_dwellers_permanent_private_households_obtained_by_var2_division_by_var1\"\n",
    "        )\n",
    "    ).alias(\"average_number_residents_per_household\"),\n",
    "    F.avg(\n",
    "        F.col(\n",
    "            \"value_average_monthly_nominal_income_persons_responsible_for_permanent_private_households_with_and_without_income\"\n",
    "        )\n",
    "    ).alias(\"average_monthly_income\"),\n",
    "    F.sum(F.col(\"permanent_private_households_and_disposed\")).alias(\n",
    "        \"total_fully_owned_properties\"\n",
    "    ),\n",
    "    F.sum(F.col(\"permanent_private_households_acquisition\")).alias(\n",
    "        \"total_properties_in_acquisition\"\n",
    "    ),\n",
    "    F.sum(F.col(\"permanent_private_households_rented\")).alias(\n",
    "        \"total_rented_properties\"\n",
    "    ),\n",
    "    F.sum(F.col(\"permanent_private_households_with_3_bathrooms_residents\")).alias(\n",
    "        \"total_properties_with_3_bathrooms\"\n",
    "    ),\n",
    "    F.sum(\n",
    "        F.col(\"permanent_private_households_without_exclusive_use_bathroom_residents\")\n",
    "    ).alias(\"total_properties_without_private_bathrooms\"),\n",
    "    F.sum(F.col(\"permanent_private_households_with_electricity\")).alias(\n",
    "        \"total_households_with_electricity\"\n",
    "    ),\n",
    "    F.sum(F.col(\"permanent_private_households_with_1_resident\")).alias(\n",
    "        \"total_households_with_1_resident\"\n",
    "    ),\n",
    "    F.sum(F.col(\"permanent_private_households_with_2_residents\")).alias(\n",
    "        \"total_households_with_2_residents\"\n",
    "    ),\n",
    "    F.sum(F.col(\"permanent_private_households_with_3_residents\")).alias(\n",
    "        \"total_households_with_3_residents\"\n",
    "    ),\n",
    "    F.sum(F.col(\"permanent_private_households_with_4_residents\")).alias(\n",
    "        \"total_households_with_4_residents\"\n",
    "    ),\n",
    "    F.sum(F.col(\"permanent_private_households_with_5_residents\")).alias(\n",
    "        \"total_households_with_5_residents\"\n",
    "    ),\n",
    "    F.sum(F.col(\"permanent_private_households_with_6_residents\")).alias(\n",
    "        \"total_households_with_6_residents\"\n",
    "    ),\n",
    "    F.sum(F.col(\"permanent_private_households_with_7_residents\")).alias(\n",
    "        \"total_households_with_7_residents\"\n",
    "    ),\n",
    "    F.sum(F.col(\"permanent_private_households_with_8_residents\")).alias(\n",
    "        \"total_households_with_8_residents\"\n",
    "    ),\n",
    "    F.sum(F.col(\"permanent_private_households_with_9_residents\")).alias(\n",
    "        \"total_households_with_9_residents\"\n",
    "    ),\n",
    "    F.sum(F.col(\"permanent_private_households_with_10_or_more_residents\")).alias(\n",
    "        \"total_households_with_10_residents_or_more\"\n",
    "    ),\n",
    "    F.sum(F.col(\"permanent_private_home_type_households_and_clear\")).alias(\n",
    "        \"total_fully_owned_houses\"\n",
    "    ),\n",
    "    F.sum(F.col(\"permanent_private_home_type_households_and_acquisition\")).alias(\n",
    "        \"total_houses_in_acquisition\"\n",
    "    ),\n",
    "    F.sum(F.col(\"permanent_private_household_homes_rented\")).alias(\n",
    "        \"total_rented_houses\"\n",
    "    ),\n",
    "    F.sum(F.col(\"residents_private_households_and_collective_households\")).alias(\n",
    "        \"total_residents_in_area\"\n",
    "    ),\n",
    "    F.sum(F.col(\"residents_permanent_household_private_households\")).alias(\n",
    "        \"total_residents_in_permanent_households\"\n",
    "    ),\n",
    "    F.sum(F.col(\"residents_permanent_private_households_apartment_type\")).alias(\n",
    "        \"total_residents_in_private_apartments\"\n",
    "    ),\n",
    "    F.sum(F.col(\"dwellers_permanent_private_households_and_acquisition\")).alias(\n",
    "        \"total_residents_properties_in_acquisition\"\n",
    "    ),\n",
    "    F.sum(F.col(\"residents_permanent_private_households_rented\")).alias(\n",
    "        \"total_residents_rented_properties\"\n",
    "    ),\n",
    "    F.sum(F.col(\"children_only_from_person_responsible_private_households\")).alias(\n",
    "        \"total_number_children\"\n",
    "    ),\n",
    "    F.sum(\n",
    "        F.col(\"household_employees_private_households_males\")\n",
    "        + F.col(\"household_employees_private_households\")\n",
    "    ).alias(\"total_number_house_workers\"),\n",
    "    F.sum(\n",
    "        F.col(\"relatives_domestic_employees_as_private_households_female\")\n",
    "        + F.col(\"relatives_household_employees_private_households_male\")\n",
    "    ).alias(\"total_number_house_workers_parents\"),\n",
    "    F.sum(F.col(\"literacy_responsible_persons\")).alias(\n",
    "        \"total_literate_household_leaders\"\n",
    "    ),\n",
    "    F.sum(F.col(\"alphabetized_people_with_5_or_more_years_age\")).alias(\n",
    "        \"total_literate_people\"\n",
    "    ),\n",
    ")\n",
    "\n",
    "# fixing the column names:\n",
    "new_columns = list(map(lambda col: f\"zipcode_{col}\", df_zipcode_agg.columns))\n",
    "\n",
    "for i in range(len(df_zipcode_agg.columns)):\n",
    "    df_zipcode_agg = df_zipcode_agg.withColumnRenamed(\n",
    "        df_zipcode_agg.columns[i], new_columns[i]\n",
    "    )\n",
    "\n",
    "df_zipcode_agg = df_zipcode_agg.withColumnRenamed(\"zipcode_zipcode\", \"zipcode\")"
   ]
  },
  {
   "cell_type": "code",
   "execution_count": 281,
   "metadata": {},
   "outputs": [],
   "source": [
    "# adding the resulting dataframe to the SQL Context:\n",
    "df_zipcode_agg.createOrReplaceTempView(\"tb_zipcode_features\")\n",
    "\n",
    "# generating the final level of aggregation for the census features:\n",
    "Q_ZIPCODE_GEOM = \"\"\"\n",
    "SELECT\n",
    "    A.*,\n",
    "    B.geometry,\n",
    "    ST_Centroid(B.geometry) as district_centroid\n",
    "FROM tb_zipcode_features as A\n",
    "LEFT JOIN tb_zipcode as B \n",
    "ON A.zipcode = B.zipcode\n",
    "\"\"\"\n",
    "\n",
    "df_zipcode_final = spark.sql(Q_ZIPCODE_GEOM)"
   ]
  },
  {
   "cell_type": "code",
   "execution_count": 282,
   "metadata": {},
   "outputs": [
    {
     "data": {
      "text/html": [
       "<table border='1'>\n",
       "<tr><th>zipcode</th><th>zipcode_total_private_households</th><th>zipcode_total_population_private_households</th><th>zipcode_average_number_residents_per_household</th><th>zipcode_average_monthly_income</th><th>zipcode_total_fully_owned_properties</th><th>zipcode_total_properties_in_acquisition</th><th>zipcode_total_rented_properties</th><th>zipcode_total_properties_with_3_bathrooms</th><th>zipcode_total_properties_without_private_bathrooms</th><th>zipcode_total_households_with_electricity</th><th>zipcode_total_households_with_1_resident</th><th>zipcode_total_households_with_2_residents</th><th>zipcode_total_households_with_3_residents</th><th>zipcode_total_households_with_4_residents</th><th>zipcode_total_households_with_5_residents</th><th>zipcode_total_households_with_6_residents</th><th>zipcode_total_households_with_7_residents</th><th>zipcode_total_households_with_8_residents</th><th>zipcode_total_households_with_9_residents</th><th>zipcode_total_households_with_10_residents_or_more</th><th>zipcode_total_fully_owned_houses</th><th>zipcode_total_houses_in_acquisition</th><th>zipcode_total_rented_houses</th><th>zipcode_total_residents_in_area</th><th>zipcode_total_residents_in_permanent_households</th><th>zipcode_total_residents_in_private_apartments</th><th>zipcode_total_residents_properties_in_acquisition</th><th>zipcode_total_residents_rented_properties</th><th>zipcode_total_number_children</th><th>zipcode_total_number_house_workers</th><th>zipcode_total_number_house_workers_parents</th><th>zipcode_total_literate_household_leaders</th><th>zipcode_total_literate_people</th><th>geometry</th><th>district_centroid</th></tr>\n",
       "<tr><td>01012030</td><td>60.0</td><td>134.0</td><td>2.23</td><td>1287.17</td><td>null</td><td>null</td><td>null</td><td>null</td><td>null</td><td>null</td><td>null</td><td>null</td><td>null</td><td>null</td><td>null</td><td>null</td><td>null</td><td>null</td><td>null</td><td>null</td><td>null</td><td>null</td><td>null</td><td>134.0</td><td>null</td><td>null</td><td>null</td><td>null</td><td>null</td><td>null</td><td>null</td><td>null</td><td>121.0</td><td>LINESTRING (-46.6...</td><td>POINT (-46.635104...</td></tr>\n",
       "<tr><td>01233001</td><td>559.0</td><td>1150.0</td><td>2.0549999999999997</td><td>3243.115</td><td>313.0</td><td>43.0</td><td>178.0</td><td>21.0</td><td>0.0</td><td>559.0</td><td>214.0</td><td>175.0</td><td>111.0</td><td>45.0</td><td>12.0</td><td>1.0</td><td>1.0</td><td>0.0</td><td>0.0</td><td>0.0</td><td>10.0</td><td>0.0</td><td>6.0</td><td>1166.0</td><td>37.0</td><td>1109.0</td><td>97.0</td><td>386.0</td><td>36.0</td><td>5.0</td><td>0.0</td><td>560.0</td><td>1118.0</td><td>LINESTRING (-46.6...</td><td>POINT (-46.659862...</td></tr>\n",
       "<tr><td>01248050</td><td>262.0</td><td>895.0</td><td>3.42</td><td>13517.15</td><td>227.0</td><td>1.0</td><td>25.0</td><td>56.0</td><td>0.0</td><td>262.0</td><td>26.0</td><td>67.0</td><td>52.0</td><td>57.0</td><td>31.0</td><td>18.0</td><td>6.0</td><td>3.0</td><td>1.0</td><td>1.0</td><td>219.0</td><td>1.0</td><td>14.0</td><td>903.0</td><td>847.0</td><td>48.0</td><td>3.0</td><td>77.0</td><td>28.0</td><td>111.0</td><td>11.0</td><td>263.0</td><td>857.0</td><td>LINESTRING (-46.6...</td><td>POINT (-46.667042...</td></tr>\n",
       "<tr><td>01303040</td><td>417.0</td><td>781.0</td><td>1.875</td><td>3028.6949999999997</td><td>182.0</td><td>60.0</td><td>146.0</td><td>44.0</td><td>0.0</td><td>417.0</td><td>210.0</td><td>135.0</td><td>39.0</td><td>16.0</td><td>10.0</td><td>3.0</td><td>2.0</td><td>0.0</td><td>0.0</td><td>2.0</td><td>8.0</td><td>0.0</td><td>3.0</td><td>801.0</td><td>61.0</td><td>717.0</td><td>91.0</td><td>280.0</td><td>21.0</td><td>5.0</td><td>0.0</td><td>416.0</td><td>763.0</td><td>LINESTRING (-46.6...</td><td>POINT (-46.647820...</td></tr>\n",
       "<tr><td>01439020</td><td>421.0</td><td>986.0</td><td>2.4233333333333333</td><td>10323.269999999999</td><td>338.0</td><td>5.0</td><td>57.0</td><td>195.0</td><td>0.0</td><td>421.0</td><td>134.0</td><td>134.0</td><td>77.0</td><td>45.0</td><td>20.0</td><td>6.0</td><td>3.0</td><td>2.0</td><td>0.0</td><td>0.0</td><td>99.0</td><td>0.0</td><td>16.0</td><td>986.0</td><td>398.0</td><td>588.0</td><td>9.0</td><td>135.0</td><td>43.0</td><td>55.0</td><td>0.0</td><td>418.0</td><td>938.0</td><td>LINESTRING (-46.6...</td><td>POINT (-46.672204...</td></tr>\n",
       "</table>\n",
       "only showing top 5 rows\n"
      ],
      "text/plain": [
       "+--------+--------------------------------+-------------------------------------------+----------------------------------------------+------------------------------+------------------------------------+---------------------------------------+-------------------------------+-----------------------------------------+--------------------------------------------------+-----------------------------------------+----------------------------------------+-----------------------------------------+-----------------------------------------+-----------------------------------------+-----------------------------------------+-----------------------------------------+-----------------------------------------+-----------------------------------------+-----------------------------------------+--------------------------------------------------+--------------------------------+-----------------------------------+---------------------------+-------------------------------+-----------------------------------------------+---------------------------------------------+-------------------------------------------------+-----------------------------------------+-----------------------------+----------------------------------+------------------------------------------+----------------------------------------+-----------------------------+--------------------+--------------------+\n",
       "| zipcode|zipcode_total_private_households|zipcode_total_population_private_households|zipcode_average_number_residents_per_household|zipcode_average_monthly_income|zipcode_total_fully_owned_properties|zipcode_total_properties_in_acquisition|zipcode_total_rented_properties|zipcode_total_properties_with_3_bathrooms|zipcode_total_properties_without_private_bathrooms|zipcode_total_households_with_electricity|zipcode_total_households_with_1_resident|zipcode_total_households_with_2_residents|zipcode_total_households_with_3_residents|zipcode_total_households_with_4_residents|zipcode_total_households_with_5_residents|zipcode_total_households_with_6_residents|zipcode_total_households_with_7_residents|zipcode_total_households_with_8_residents|zipcode_total_households_with_9_residents|zipcode_total_households_with_10_residents_or_more|zipcode_total_fully_owned_houses|zipcode_total_houses_in_acquisition|zipcode_total_rented_houses|zipcode_total_residents_in_area|zipcode_total_residents_in_permanent_households|zipcode_total_residents_in_private_apartments|zipcode_total_residents_properties_in_acquisition|zipcode_total_residents_rented_properties|zipcode_total_number_children|zipcode_total_number_house_workers|zipcode_total_number_house_workers_parents|zipcode_total_literate_household_leaders|zipcode_total_literate_people|            geometry|   district_centroid|\n",
       "+--------+--------------------------------+-------------------------------------------+----------------------------------------------+------------------------------+------------------------------------+---------------------------------------+-------------------------------+-----------------------------------------+--------------------------------------------------+-----------------------------------------+----------------------------------------+-----------------------------------------+-----------------------------------------+-----------------------------------------+-----------------------------------------+-----------------------------------------+-----------------------------------------+-----------------------------------------+-----------------------------------------+--------------------------------------------------+--------------------------------+-----------------------------------+---------------------------+-------------------------------+-----------------------------------------------+---------------------------------------------+-------------------------------------------------+-----------------------------------------+-----------------------------+----------------------------------+------------------------------------------+----------------------------------------+-----------------------------+--------------------+--------------------+\n",
       "|01012030|                            60.0|                                      134.0|                                          2.23|                       1287.17|                                null|                                   null|                           null|                                     null|                                              null|                                     null|                                    null|                                     null|                                     null|                                     null|                                     null|                                     null|                                     null|                                     null|                                     null|                                              null|                            null|                               null|                       null|                          134.0|                                           null|                                         null|                                             null|                                     null|                         null|                              null|                                      null|                                    null|                        121.0|LINESTRING (-46.6...|POINT (-46.635104...|\n",
       "|01233001|                           559.0|                                     1150.0|                            2.0549999999999997|                      3243.115|                               313.0|                                   43.0|                          178.0|                                     21.0|                                               0.0|                                    559.0|                                   214.0|                                    175.0|                                    111.0|                                     45.0|                                     12.0|                                      1.0|                                      1.0|                                      0.0|                                      0.0|                                               0.0|                            10.0|                                0.0|                        6.0|                         1166.0|                                           37.0|                                       1109.0|                                             97.0|                                    386.0|                         36.0|                               5.0|                                       0.0|                                   560.0|                       1118.0|LINESTRING (-46.6...|POINT (-46.659862...|\n",
       "|01248050|                           262.0|                                      895.0|                                          3.42|                      13517.15|                               227.0|                                    1.0|                           25.0|                                     56.0|                                               0.0|                                    262.0|                                    26.0|                                     67.0|                                     52.0|                                     57.0|                                     31.0|                                     18.0|                                      6.0|                                      3.0|                                      1.0|                                               1.0|                           219.0|                                1.0|                       14.0|                          903.0|                                          847.0|                                         48.0|                                              3.0|                                     77.0|                         28.0|                             111.0|                                      11.0|                                   263.0|                        857.0|LINESTRING (-46.6...|POINT (-46.667042...|\n",
       "|01303040|                           417.0|                                      781.0|                                         1.875|            3028.6949999999997|                               182.0|                                   60.0|                          146.0|                                     44.0|                                               0.0|                                    417.0|                                   210.0|                                    135.0|                                     39.0|                                     16.0|                                     10.0|                                      3.0|                                      2.0|                                      0.0|                                      0.0|                                               2.0|                             8.0|                                0.0|                        3.0|                          801.0|                                           61.0|                                        717.0|                                             91.0|                                    280.0|                         21.0|                               5.0|                                       0.0|                                   416.0|                        763.0|LINESTRING (-46.6...|POINT (-46.647820...|\n",
       "|01439020|                           421.0|                                      986.0|                            2.4233333333333333|            10323.269999999999|                               338.0|                                    5.0|                           57.0|                                    195.0|                                               0.0|                                    421.0|                                   134.0|                                    134.0|                                     77.0|                                     45.0|                                     20.0|                                      6.0|                                      3.0|                                      2.0|                                      0.0|                                               0.0|                            99.0|                                0.0|                       16.0|                          986.0|                                          398.0|                                        588.0|                                              9.0|                                    135.0|                         43.0|                              55.0|                                       0.0|                                   418.0|                        938.0|LINESTRING (-46.6...|POINT (-46.672204...|\n",
       "+--------+--------------------------------+-------------------------------------------+----------------------------------------------+------------------------------+------------------------------------+---------------------------------------+-------------------------------+-----------------------------------------+--------------------------------------------------+-----------------------------------------+----------------------------------------+-----------------------------------------+-----------------------------------------+-----------------------------------------+-----------------------------------------+-----------------------------------------+-----------------------------------------+-----------------------------------------+-----------------------------------------+--------------------------------------------------+--------------------------------+-----------------------------------+---------------------------+-------------------------------+-----------------------------------------------+---------------------------------------------+-------------------------------------------------+-----------------------------------------+-----------------------------+----------------------------------+------------------------------------------+----------------------------------------+-----------------------------+--------------------+--------------------+\n",
       "only showing top 5 rows"
      ]
     },
     "execution_count": 282,
     "metadata": {},
     "output_type": "execute_result"
    }
   ],
   "source": [
    "# verifying the results:\n",
    "df_zipcode_final"
   ]
  },
  {
   "cell_type": "code",
   "execution_count": 283,
   "metadata": {},
   "outputs": [
    {
     "data": {
      "text/plain": [
       "True"
      ]
     },
     "execution_count": 283,
     "metadata": {},
     "output_type": "execute_result"
    }
   ],
   "source": [
    "# save the results to the specified directory:\n",
    "ZIP_OUTPUT = f\"zipcodes/tb_zipcode_census\"\n",
    "PROCESSED_UNITS_OF_INTEREST = \"../data/processed/sp_census/units_of_interest/\"\n",
    "\n",
    "save_to_filesystem(\n",
    "    df_zipcode_final, PROCESSED_UNITS_OF_INTEREST, ZIP_OUTPUT, ZIP_OUTPUT + \".parquet\"\n",
    ")"
   ]
  },
  {
   "cell_type": "code",
   "execution_count": null,
   "metadata": {},
   "outputs": [],
   "source": [
    "# save the results to the specified directory:\n",
    "ZIP_NO_GEO = f\"zipcodes/tb_zipcode_census_no_geo\"\n",
    "PROCESSED_UNITS_OF_INTEREST = \"../data/processed/sp_census/units_of_interest/\"\n",
    "\n",
    "df_zip_no_geo = df_zipcode_final.drop(\"geometry\")\n",
    "\n",
    "save_to_filesystem(\n",
    "    df_zip_no_geo, PROCESSED_UNITS_OF_INTEREST, ZIP_NO_GEO, ZIP_NO_GEO + \".parquet\"\n",
    ")"
   ]
  }
 ],
 "metadata": {
  "kernelspec": {
   "display_name": "Python 3",
   "language": "python",
   "name": "python3"
  },
  "language_info": {
   "codemirror_mode": {
    "name": "ipython",
    "version": 3
   },
   "file_extension": ".py",
   "mimetype": "text/x-python",
   "name": "python",
   "nbconvert_exporter": "python",
   "pygments_lexer": "ipython3",
   "version": "3.8.8"
  }
 },
 "nbformat": 4,
 "nbformat_minor": 4
}
