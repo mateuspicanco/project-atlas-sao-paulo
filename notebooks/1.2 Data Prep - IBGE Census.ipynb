{
 "cells": [
  {
   "cell_type": "markdown",
   "metadata": {},
   "source": [
    "# Data Prep - Census Data\n",
    "This notebook is the second part to the data preparation phase for this project. I will perform a series of manipulations on sociodemographic data from the 2010's Brazilian Census, the latest census conducted in the country. This is a complex process with many stages and will involve both careful manipulations of the raw data as well as handling of geospatial data.\n",
    "\n",
    "In order to perform these manipulations, we will use both `pyspark` and an extension called `Apache Sedona` (formerly known as `geospark`)."
   ]
  },
  {
   "cell_type": "code",
   "execution_count": null,
   "metadata": {},
   "outputs": [],
   "source": [
    "# installing the requirements:\n",
    "!pip install -r ../configs/dependencies/dataprep_requirements.txt >> ../configs/dependencies/package_installation.txt"
   ]
  },
  {
   "cell_type": "code",
   "execution_count": 2,
   "metadata": {},
   "outputs": [],
   "source": [
    "# loading the magic commands:\n",
    "%load_ext lab_black\n",
    "%load_ext autoreload\n",
    "%autoreload 2"
   ]
  },
  {
   "cell_type": "code",
   "execution_count": 3,
   "metadata": {},
   "outputs": [],
   "source": [
    "###### Loading the necessary libraries #########\n",
    "\n",
    "# PySpark dependencies:s\n",
    "import pyspark\n",
    "from pyspark import SparkConf\n",
    "from pyspark import SparkContext\n",
    "from pyspark.sql import SparkSession\n",
    "from pyspark.sql import SQLContext\n",
    "import pyspark.sql.functions as F\n",
    "from pyspark.sql.functions import udf\n",
    "import pyspark.sql.types as T\n",
    "from pyspark.sql.window import Window\n",
    "\n",
    "# Sedona dependencies:\n",
    "from sedona.utils.adapter import Adapter\n",
    "from sedona.register import SedonaRegistrator\n",
    "from sedona.utils import KryoSerializer, SedonaKryoRegistrator\n",
    "from sedona.core.SpatialRDD import SpatialRDD\n",
    "from sedona.core.formatMapper.shapefileParser import ShapefileReader\n",
    "from sedona.core.formatMapper import GeoJsonReader\n",
    "\n",
    "# database utilities:\n",
    "from sqlalchemy import create_engine\n",
    "import sqlite3 as db\n",
    "import pandas as pd\n",
    "from tqdm import tqdm\n",
    "import geopandas as gpd\n",
    "import fiona\n",
    "\n",
    "# plotting and data visualization:\n",
    "import matplotlib.pyplot as plt\n",
    "import seaborn as sns\n",
    "from IPython.display import HTML, Image\n",
    "\n",
    "# other relevant libraries:\n",
    "import warnings\n",
    "import unidecode\n",
    "import inflection\n",
    "import unicodedata\n",
    "from datetime import datetime, timedelta\n",
    "from functools import partial\n",
    "import json\n",
    "import re\n",
    "import os\n",
    "from glob import glob\n",
    "import shutil\n",
    "import itertools\n",
    "import chardet\n",
    "\n",
    "# importing the atlas utilities:\n",
    "from atlasutils import (\n",
    "    save_to_filesystem,\n",
    "    save_as_table,\n",
    "    rotate_xticks,\n",
    "    get_file_encoding,\n",
    "    normalize_entities,\n",
    "    normalize_column_name,\n",
    "    apply_category_map,\n",
    "    standardize_variable_names,\n",
    "    get_null_columns,\n",
    "    replace_decimal_separator,\n",
    "    convert_to_geopandas,\n",
    "    drop_invalid_census_columns,\n",
    "    clean_census_column_name,\n",
    "    get_file_crs,\n",
    "    get_column_values,\n",
    ")\n",
    "\n",
    "\n",
    "# setting global parameters for visualizationsss:\n",
    "warnings.filterwarnings(\"ignore\")\n",
    "pd.set_option(\"display.precision\", 4)\n",
    "pd.set_option(\"display.float_format\", lambda x: \"%.2f\" % x)"
   ]
  },
  {
   "cell_type": "markdown",
   "metadata": {},
   "source": [
    "# 0. Configuring Spark"
   ]
  },
  {
   "cell_type": "code",
   "execution_count": 4,
   "metadata": {},
   "outputs": [],
   "source": [
    "# function to encapsulate standard spark configurations:\n",
    "def init_spark(app_name):\n",
    "\n",
    "    spark = (\n",
    "        SparkSession.builder.appName(app_name)\n",
    "        .config(\"spark.files.overwrite\", \"true\")\n",
    "        .config(\"spark.serializer\", KryoSerializer.getName)\n",
    "        .config(\"spark.kryo.registrator\", SedonaKryoRegistrator.getName)\n",
    "        .config(\n",
    "            \"spark.jars.packages\",\n",
    "            \"org.apache.sedona:sedona-python-adapter-3.0_2.12:1.0.1-incubating,\"\n",
    "            \"org.datasyslab:geotools-wrapper:geotools-24.1\",\n",
    "        )\n",
    "        .config(\"spark.sql.repl.eagerEval.enabled\", True)\n",
    "        .config(\"spark.sql.repl.eagerEval.maxNumRows\", 5)\n",
    "        .config(\"spark.sql.legacy.timeParserPolicy\", \"LEGACY\")\n",
    "        .config(\"spark.sql.parquet.compression.codec\", \"gzip\")\n",
    "        .config(\"sedona.global.charset\", \"utf8\")\n",
    "        .config(\"sedona.global.index\", \"true\")\n",
    "        .enableHiveSupport()\n",
    "        .getOrCreate()\n",
    "    )\n",
    "\n",
    "    SedonaRegistrator.registerAll(spark)\n",
    "\n",
    "    return spark"
   ]
  },
  {
   "cell_type": "code",
   "execution_count": 5,
   "metadata": {},
   "outputs": [],
   "source": [
    "# init the spark session:\n",
    "spark = init_spark(\"SP Atlas - IBGE Census\")"
   ]
  },
  {
   "cell_type": "code",
   "execution_count": 6,
   "metadata": {},
   "outputs": [
    {
     "data": {
      "text/html": [
       "\n",
       "            <div>\n",
       "                <p><b>SparkSession - hive</b></p>\n",
       "                \n",
       "        <div>\n",
       "            <p><b>SparkContext</b></p>\n",
       "\n",
       "            <p><a href=\"http://192.168.15.58:4040\">Spark UI</a></p>\n",
       "\n",
       "            <dl>\n",
       "              <dt>Version</dt>\n",
       "                <dd><code>v3.1.1</code></dd>\n",
       "              <dt>Master</dt>\n",
       "                <dd><code>local[*]</code></dd>\n",
       "              <dt>AppName</dt>\n",
       "                <dd><code>SP Atlas - IBGE Census</code></dd>\n",
       "            </dl>\n",
       "        </div>\n",
       "        \n",
       "            </div>\n",
       "        "
      ],
      "text/plain": [
       "<pyspark.sql.session.SparkSession at 0x7f0e97878a90>"
      ]
     },
     "execution_count": 6,
     "metadata": {},
     "output_type": "execute_result"
    }
   ],
   "source": [
    "# verifying the session status:\n",
    "spark"
   ]
  },
  {
   "cell_type": "markdown",
   "metadata": {},
   "source": [
    "# 1. Loading and Inspecting the Data\n",
    "We will first load the Polygon geospatial data that we will later use to match to the `(lat, long)` paths in the listings datasets."
   ]
  },
  {
   "cell_type": "markdown",
   "metadata": {},
   "source": [
    "## 1.1 Sector Polygons\n",
    "The lowest level of data aggregation in the Census is a Sector. A sector is a specific area in which researchers collect census data. These sectors are contiguous areas and IBGE provides the Shapefiles for them. This will allow us to match the Listings data to the census sector where they can be located."
   ]
  },
  {
   "cell_type": "code",
   "execution_count": 7,
   "metadata": {},
   "outputs": [
    {
     "data": {
      "text/html": [
       "<table border='1'>\n",
       "<tr><th>geometry</th><th>ID</th><th>CD_GEOCODI</th><th>TIPO</th><th>CD_GEOCODS</th><th>NM_SUBDIST</th><th>CD_GEOCODD</th><th>NM_DISTRIT</th><th>CD_GEOCODM</th><th>NM_MUNICIP</th><th>NM_MICRO</th><th>NM_MESO</th><th>CD_GEOCODB</th><th>NM_BAIRRO</th><th>ID1</th></tr>\n",
       "<tr><td>POLYGON ((-46.410...</td><td>98237</td><td>354100005000009</td><td>URBANO</td><td>35410000500</td><td></td><td>354100005</td><td>PRAIA GRANDE</td><td>3541000</td><td>PRAIA GRANDE</td><td>SANTOS</td><td>METROPOLITANA DE ...</td><td>354100005001</td><td>Boqueirão</td><td>1</td></tr>\n",
       "<tr><td>POLYGON ((-46.416...</td><td>98232</td><td>354100005000004</td><td>URBANO</td><td>35410000500</td><td></td><td>354100005</td><td>PRAIA GRANDE</td><td>3541000</td><td>PRAIA GRANDE</td><td>SANTOS</td><td>METROPOLITANA DE ...</td><td>354100005001</td><td>Boqueirão</td><td>2</td></tr>\n",
       "<tr><td>POLYGON ((-46.412...</td><td>98230</td><td>354100005000002</td><td>URBANO</td><td>35410000500</td><td></td><td>354100005</td><td>PRAIA GRANDE</td><td>3541000</td><td>PRAIA GRANDE</td><td>SANTOS</td><td>METROPOLITANA DE ...</td><td>354100005001</td><td>Boqueirão</td><td>3</td></tr>\n",
       "<tr><td>POLYGON ((-46.411...</td><td>98229</td><td>354100005000001</td><td>URBANO</td><td>35410000500</td><td></td><td>354100005</td><td>PRAIA GRANDE</td><td>3541000</td><td>PRAIA GRANDE</td><td>SANTOS</td><td>METROPOLITANA DE ...</td><td>354100005001</td><td>Boqueirão</td><td>4</td></tr>\n",
       "<tr><td>POLYGON ((-46.413...</td><td>98231</td><td>354100005000003</td><td>URBANO</td><td>35410000500</td><td></td><td>354100005</td><td>PRAIA GRANDE</td><td>3541000</td><td>PRAIA GRANDE</td><td>SANTOS</td><td>METROPOLITANA DE ...</td><td>354100005001</td><td>Boqueirão</td><td>5</td></tr>\n",
       "</table>\n",
       "only showing top 5 rows\n"
      ],
      "text/plain": [
       "+--------------------+-----+---------------+------+-----------+----------+----------+------------+----------+------------+--------+--------------------+------------+---------+---+\n",
       "|            geometry|   ID|     CD_GEOCODI|  TIPO| CD_GEOCODS|NM_SUBDIST|CD_GEOCODD|  NM_DISTRIT|CD_GEOCODM|  NM_MUNICIP|NM_MICRO|             NM_MESO|  CD_GEOCODB|NM_BAIRRO|ID1|\n",
       "+--------------------+-----+---------------+------+-----------+----------+----------+------------+----------+------------+--------+--------------------+------------+---------+---+\n",
       "|POLYGON ((-46.410...|98237|354100005000009|URBANO|35410000500|          | 354100005|PRAIA GRANDE|   3541000|PRAIA GRANDE|  SANTOS|METROPOLITANA DE ...|354100005001|Boqueirão|  1|\n",
       "|POLYGON ((-46.416...|98232|354100005000004|URBANO|35410000500|          | 354100005|PRAIA GRANDE|   3541000|PRAIA GRANDE|  SANTOS|METROPOLITANA DE ...|354100005001|Boqueirão|  2|\n",
       "|POLYGON ((-46.412...|98230|354100005000002|URBANO|35410000500|          | 354100005|PRAIA GRANDE|   3541000|PRAIA GRANDE|  SANTOS|METROPOLITANA DE ...|354100005001|Boqueirão|  3|\n",
       "|POLYGON ((-46.411...|98229|354100005000001|URBANO|35410000500|          | 354100005|PRAIA GRANDE|   3541000|PRAIA GRANDE|  SANTOS|METROPOLITANA DE ...|354100005001|Boqueirão|  4|\n",
       "|POLYGON ((-46.413...|98231|354100005000003|URBANO|35410000500|          | 354100005|PRAIA GRANDE|   3541000|PRAIA GRANDE|  SANTOS|METROPOLITANA DE ...|354100005001|Boqueirão|  5|\n",
       "+--------------------+-----+---------------+------+-----------+----------+----------+------------+----------+------------+--------+--------------------+------------+---------+---+\n",
       "only showing top 5 rows"
      ]
     },
     "execution_count": 7,
     "metadata": {},
     "output_type": "execute_result"
    }
   ],
   "source": [
    "# loading the raw dataset:\n",
    "RAW_DATA_DIR = \"../data/raw/\"\n",
    "\n",
    "# shapefiles for sectors:\n",
    "sector_rdd = ShapefileReader.readToGeometryRDD(\n",
    "    sc=spark, inputPath=RAW_DATA_DIR + \"sp_layers/census_sectors/*\"\n",
    ")\n",
    "\n",
    "df_sector = Adapter.toDf(sector_rdd, spark)\n",
    "\n",
    "# verifying the sectors:\n",
    "df_sector"
   ]
  },
  {
   "cell_type": "code",
   "execution_count": 8,
   "metadata": {},
   "outputs": [],
   "source": [
    "# selecting the relevant columns:\n",
    "df_sector = df_sector.select(\n",
    "    F.col(\"ID\").alias(\"id\"),\n",
    "    F.col(\"geometry\"),\n",
    "    F.col(\"CD_GEOCODI\").alias(\"sector_code\"),\n",
    "    F.col(\"CD_GEOCODM\").alias(\"city_code\"),\n",
    "    F.col(\"CD_GEOCODB\").alias(\"neighborhood_code\"),\n",
    "    F.col(\"NM_MUNICIP\").alias(\"city\"),\n",
    "    F.col(\"NM_BAIRRO\").alias(\"neighborhood\"),\n",
    "    F.col(\"TIPO\").alias(\"sector_type\"),\n",
    ")\n",
    "\n",
    "# filtering just São Paulo:\n",
    "df_sector = df_sector.filter(F.col(\"city\") == \"SÃO PAULO\")"
   ]
  },
  {
   "cell_type": "code",
   "execution_count": 9,
   "metadata": {},
   "outputs": [],
   "source": [
    "# adding the dataframe to sql context:\n",
    "df_sector.createOrReplaceTempView(\"tb_sector\")"
   ]
  },
  {
   "cell_type": "markdown",
   "metadata": {},
   "source": [
    "## 1.2 Area of Ponderation"
   ]
  },
  {
   "cell_type": "code",
   "execution_count": 10,
   "metadata": {},
   "outputs": [
    {
     "data": {
      "text/html": [
       "<table border='1'>\n",
       "<tr><th>geometry</th><th>ID</th><th>AREA</th><th>COD_AED</th><th>COD_AED_S</th></tr>\n",
       "<tr><td>POLYGON ((317854....</td><td>158</td><td>10.450821</td><td>3550308005243</td><td>243</td></tr>\n",
       "<tr><td>POLYGON ((320682....</td><td>159</td><td>13.241315</td><td>3550308005242</td><td>242</td></tr>\n",
       "<tr><td>POLYGON ((325497....</td><td>160</td><td>4.180473</td><td>3550308005309</td><td>309</td></tr>\n",
       "<tr><td>POLYGON ((326306....</td><td>117</td><td>11.936847</td><td>3550308005189</td><td>189</td></tr>\n",
       "<tr><td>POLYGON ((328654....</td><td>1</td><td>7.321331</td><td>3550308005127</td><td>127</td></tr>\n",
       "</table>\n",
       "only showing top 5 rows\n"
      ],
      "text/plain": [
       "+--------------------+---+---------+-------------+---------+\n",
       "|            geometry| ID|     AREA|      COD_AED|COD_AED_S|\n",
       "+--------------------+---+---------+-------------+---------+\n",
       "|POLYGON ((317854....|158|10.450821|3550308005243|      243|\n",
       "|POLYGON ((320682....|159|13.241315|3550308005242|      242|\n",
       "|POLYGON ((325497....|160| 4.180473|3550308005309|      309|\n",
       "|POLYGON ((326306....|117|11.936847|3550308005189|      189|\n",
       "|POLYGON ((328654....|  1| 7.321331|3550308005127|      127|\n",
       "+--------------------+---+---------+-------------+---------+\n",
       "only showing top 5 rows"
      ]
     },
     "execution_count": 10,
     "metadata": {},
     "output_type": "execute_result"
    }
   ],
   "source": [
    "# reading the area of ponderation files:\n",
    "ap_rdd = ShapefileReader.readToGeometryRDD(\n",
    "    sc=spark, inputPath=RAW_DATA_DIR + \"sp_layers/census_ponderations/*\"\n",
    ")\n",
    "\n",
    "df_ap = Adapter.toDf(ap_rdd, spark)\n",
    "\n",
    "# adding the geometry dataframes to the SQL Context:\n",
    "df_ap.createOrReplaceTempView(\"tb_ponderation\")\n",
    "\n",
    "# verifying the sectors:\n",
    "df_ap"
   ]
  },
  {
   "cell_type": "code",
   "execution_count": 11,
   "metadata": {},
   "outputs": [],
   "source": [
    "Q_AP_CONVERSION = \"\"\"\n",
    "SELECT \n",
    "    ST_FlipCoordinates(ST_Transform(A.geometry, 'epsg:29193','epsg:4326')) as geometry,\n",
    "    A.AREA as ponderation_area,\n",
    "    A.COD_AED as ponderation_area_code\n",
    "FROM tb_ponderation as A\n",
    "\"\"\"\n",
    "\n",
    "# converting the CRS to the standard format:\n",
    "df_ap = spark.sql(Q_AP_CONVERSION)\n",
    "\n",
    "# adding the geometry dataframes to the SQL Context:\n",
    "df_ap.createOrReplaceTempView(\"tb_ponderation\")"
   ]
  },
  {
   "cell_type": "code",
   "execution_count": 12,
   "metadata": {},
   "outputs": [
    {
     "data": {
      "text/html": [
       "<table border='1'>\n",
       "<tr><th>geometry</th><th>ponderation_area</th><th>ponderation_area_code</th></tr>\n",
       "<tr><td>POLYGON ((-46.782...</td><td>10.450821</td><td>3550308005243</td></tr>\n",
       "<tr><td>POLYGON ((-46.755...</td><td>13.241315</td><td>3550308005242</td></tr>\n",
       "<tr><td>POLYGON ((-46.708...</td><td>4.180473</td><td>3550308005309</td></tr>\n",
       "<tr><td>POLYGON ((-46.700...</td><td>11.936847</td><td>3550308005189</td></tr>\n",
       "<tr><td>POLYGON ((-46.677...</td><td>7.321331</td><td>3550308005127</td></tr>\n",
       "</table>\n",
       "only showing top 5 rows\n"
      ],
      "text/plain": [
       "+--------------------+----------------+---------------------+\n",
       "|            geometry|ponderation_area|ponderation_area_code|\n",
       "+--------------------+----------------+---------------------+\n",
       "|POLYGON ((-46.782...|       10.450821|        3550308005243|\n",
       "|POLYGON ((-46.755...|       13.241315|        3550308005242|\n",
       "|POLYGON ((-46.708...|        4.180473|        3550308005309|\n",
       "|POLYGON ((-46.700...|       11.936847|        3550308005189|\n",
       "|POLYGON ((-46.677...|        7.321331|        3550308005127|\n",
       "+--------------------+----------------+---------------------+\n",
       "only showing top 5 rows"
      ]
     },
     "execution_count": 12,
     "metadata": {},
     "output_type": "execute_result"
    }
   ],
   "source": [
    "# verifying the results:\n",
    "df_ap"
   ]
  },
  {
   "cell_type": "markdown",
   "metadata": {},
   "source": [
    "## 1.3 Neighborhoods"
   ]
  },
  {
   "cell_type": "code",
   "execution_count": 13,
   "metadata": {},
   "outputs": [
    {
     "data": {
      "text/html": [
       "<table border='1'>\n",
       "<tr><th>geometry</th><th>Name</th><th>descriptio</th></tr>\n",
       "<tr><td>MULTIPOLYGON (((-...</td><td>Alto da Riviera</td><td>ALTO DA RIVIERA</td></tr>\n",
       "<tr><td>POLYGON ((-46.589...</td><td>Alto da Mooca</td><td>ALTO DA MOOCA</td></tr>\n",
       "<tr><td>POLYGON ((-46.719...</td><td>Alto da Lapa</td><td>ALTO DA LAPA</td></tr>\n",
       "<tr><td>POLYGON ((-46.629...</td><td>Vila Agua Funda</td><td>VILA AGUA FUNDA</td></tr>\n",
       "<tr><td>POLYGON ((-46.622...</td><td>Agua Fria</td><td>AGUA FRIA</td></tr>\n",
       "</table>\n",
       "only showing top 5 rows\n"
      ],
      "text/plain": [
       "+--------------------+---------------+---------------+\n",
       "|            geometry|           Name|     descriptio|\n",
       "+--------------------+---------------+---------------+\n",
       "|MULTIPOLYGON (((-...|Alto da Riviera|ALTO DA RIVIERA|\n",
       "|POLYGON ((-46.589...|  Alto da Mooca|  ALTO DA MOOCA|\n",
       "|POLYGON ((-46.719...|   Alto da Lapa|   ALTO DA LAPA|\n",
       "|POLYGON ((-46.629...|Vila Agua Funda|VILA AGUA FUNDA|\n",
       "|POLYGON ((-46.622...|      Agua Fria|      AGUA FRIA|\n",
       "+--------------------+---------------+---------------+\n",
       "only showing top 5 rows"
      ]
     },
     "execution_count": 13,
     "metadata": {},
     "output_type": "execute_result"
    }
   ],
   "source": [
    "# reading the neighborhoods files:\n",
    "nb_rdd = ShapefileReader.readToGeometryRDD(\n",
    "    sc=spark, inputPath=RAW_DATA_DIR + \"sp_layers/neighborhoods/*\"\n",
    ")\n",
    "\n",
    "df_nb = Adapter.toDf(nb_rdd, spark)\n",
    "df_nb.createOrReplaceTempView(\"tb_neighborhood\")\n",
    "\n",
    "# verifying the sectors:\n",
    "df_nb"
   ]
  },
  {
   "cell_type": "markdown",
   "metadata": {},
   "source": [
    "## 1.4 Districts"
   ]
  },
  {
   "cell_type": "code",
   "execution_count": 14,
   "metadata": {},
   "outputs": [
    {
     "data": {
      "text/html": [
       "<table border='1'>\n",
       "<tr><th>geometry</th><th>CLASSID</th><th>FEATID</th><th>REVISIONNU</th><th>NOME_DIST</th><th>SIGLA_DIST</th><th>COD_DIST</th><th>COD_SUB</th><th>DATA_CRIAC</th><th>USUARIO_ID</th></tr>\n",
       "<tr><td>POLYGON ((352436....</td><td>4.00000</td><td>8583485.00000</td><td>1.00000</td><td>JOSE BONIFACIO</td><td>JBO</td><td>47</td><td>27</td><td>20070319</td><td>0.00000</td></tr>\n",
       "<tr><td>POLYGON ((320696....</td><td>4.00000</td><td>8583484.00000</td><td>1.00000</td><td>JD SAO LUIS</td><td>JDS</td><td>46</td><td>18</td><td>20070319</td><td>0.00000</td></tr>\n",
       "<tr><td>POLYGON ((349461....</td><td>4.00000</td><td>8583445.00000</td><td>1.00000</td><td>ARTUR ALVIM</td><td>AAL</td><td>5</td><td>21</td><td>20070319</td><td>0.00000</td></tr>\n",
       "<tr><td>POLYGON ((320731....</td><td>4.00000</td><td>8583479.00000</td><td>1.00000</td><td>JAGUARA</td><td>JAG</td><td>40</td><td>08</td><td>20070319</td><td>0.00000</td></tr>\n",
       "<tr><td>POLYGON ((338651....</td><td>4.00000</td><td>8583437.00000</td><td>1.00000</td><td>VILA PRUDENTE</td><td>VPR</td><td>93</td><td>29</td><td>20070319</td><td>0.00000</td></tr>\n",
       "</table>\n",
       "only showing top 5 rows\n"
      ],
      "text/plain": [
       "+--------------------+-------+-------------+----------+--------------+----------+--------+-------+----------+----------+\n",
       "|            geometry|CLASSID|       FEATID|REVISIONNU|     NOME_DIST|SIGLA_DIST|COD_DIST|COD_SUB|DATA_CRIAC|USUARIO_ID|\n",
       "+--------------------+-------+-------------+----------+--------------+----------+--------+-------+----------+----------+\n",
       "|POLYGON ((352436....|4.00000|8583485.00000|   1.00000|JOSE BONIFACIO|       JBO|      47|     27|  20070319|   0.00000|\n",
       "|POLYGON ((320696....|4.00000|8583484.00000|   1.00000|   JD SAO LUIS|       JDS|      46|     18|  20070319|   0.00000|\n",
       "|POLYGON ((349461....|4.00000|8583445.00000|   1.00000|   ARTUR ALVIM|       AAL|       5|     21|  20070319|   0.00000|\n",
       "|POLYGON ((320731....|4.00000|8583479.00000|   1.00000|       JAGUARA|       JAG|      40|     08|  20070319|   0.00000|\n",
       "|POLYGON ((338651....|4.00000|8583437.00000|   1.00000| VILA PRUDENTE|       VPR|      93|     29|  20070319|   0.00000|\n",
       "+--------------------+-------+-------------+----------+--------------+----------+--------+-------+----------+----------+\n",
       "only showing top 5 rows"
      ]
     },
     "execution_count": 14,
     "metadata": {},
     "output_type": "execute_result"
    }
   ],
   "source": [
    "# reading the neighborhoods files:\n",
    "district_rdd = ShapefileReader.readToGeometryRDD(\n",
    "    sc=spark, inputPath=RAW_DATA_DIR + \"sp_layers/districts/*\"\n",
    ")\n",
    "\n",
    "df_district = Adapter.toDf(district_rdd, spark)\n",
    "\n",
    "# verifying the sectors:\n",
    "df_district"
   ]
  },
  {
   "cell_type": "code",
   "execution_count": 15,
   "metadata": {},
   "outputs": [
    {
     "data": {
      "text/plain": [
       "<Projected CRS: EPSG:29193>\n",
       "Name: SAD69 / UTM zone 23S\n",
       "Axis Info [cartesian]:\n",
       "- E[east]: Easting (metre)\n",
       "- N[north]: Northing (metre)\n",
       "Area of Use:\n",
       "- name: Brazil - between 48°W and 42°W, northern and southern hemispheres, onshore and offshore.\n",
       "- bounds: (-48.0, -33.5, -42.0, 5.13)\n",
       "Coordinate Operation:\n",
       "- name: UTM zone 23S\n",
       "- method: Transverse Mercator\n",
       "Datum: South American Datum 1969\n",
       "- Ellipsoid: GRS 1967 Modified\n",
       "- Prime Meridian: Greenwich"
      ]
     },
     "execution_count": 15,
     "metadata": {},
     "output_type": "execute_result"
    }
   ],
   "source": [
    "# it looks like the file's geometry is not the standard we want (ESPG:4326), let's find out what is it:\n",
    "get_file_crs(RAW_DATA_DIR + \"sp_layers/districts/\")"
   ]
  },
  {
   "cell_type": "markdown",
   "metadata": {},
   "source": [
    "We will need to convert the dataset to a standard CRS (coordinate reference system), which, in our case, is `espg:4326`."
   ]
  },
  {
   "cell_type": "code",
   "execution_count": 16,
   "metadata": {},
   "outputs": [],
   "source": [
    "# dropping the unnecessary columns:\n",
    "df_district = df_district.drop(\n",
    "    \"CLASSID\", \"FEATID\", \"REVISIONNU\", \"DATA_CRIAC\", \"USUARIO_ID\"\n",
    ")\n",
    "\n",
    "df_district.createOrReplaceTempView(\"tb_district\")\n",
    "\n",
    "# converting the coordinate system in the district file:\n",
    "Q_DISTRICT_CONVERSION = \"\"\"\n",
    "SELECT \n",
    "    ST_FlipCoordinates(ST_Transform(A.geometry, 'epsg:29193','epsg:4326')) as geometry,\n",
    "    A.NOME_DIST as district_name,\n",
    "    A.SIGLA_DIST as district_abbreviation,\n",
    "    A.COD_DIST as district_code,\n",
    "    A.COD_SUB as subdistrict_code\n",
    "FROM tb_district as A\n",
    "\"\"\"\n",
    "\n",
    "df_district = spark.sql(Q_DISTRICT_CONVERSION)"
   ]
  },
  {
   "cell_type": "markdown",
   "metadata": {},
   "source": [
    "## 1.5 Zip Codes"
   ]
  },
  {
   "cell_type": "code",
   "execution_count": 17,
   "metadata": {},
   "outputs": [
    {
     "data": {
      "text/html": [
       "<table border='1'>\n",
       "<tr><th>geometry</th><th>ID</th><th>LENGTH</th><th>CODL</th><th>SEG</th><th>ANGULO</th><th>ORIENTA_O</th><th>COD_ORI</th><th>LEFT_ZIP</th><th>RIGHT_ZIP</th><th>START_LEFT</th><th>END_LEFT</th><th>START_RIGH</th><th>END_RIGHT</th><th>CEP_D</th><th>CEP_E</th><th>TITULO</th><th>PREP</th><th>NAME</th><th>BAIRRO_D</th><th>BAIRRO_E</th></tr>\n",
       "<tr><td>LINESTRING (31949...</td><td>1</td><td>227.218229000000010</td><td>731960</td><td>SG731960001</td><td>170</td><td>LESTE-OESTE</td><td>O</td><td>5547</td><td>5547</td><td>1</td><td>227</td><td>2</td><td>226</td><td>05547020</td><td>05547020</td><td></td><td></td><td>ERNESTO PAGLIA</td><td>JARDIM ROSA MARIA</td><td>JARDIM ROSA MARIA</td></tr>\n",
       "<tr><td>LINESTRING (31949...</td><td>2</td><td>100.109236999999990</td><td>753718</td><td>SG753718003</td><td>294</td><td>NORTE-SUL</td><td>S</td><td>5549</td><td>5549</td><td>111</td><td>209</td><td>110</td><td>208</td><td>05549120</td><td>05549120</td><td>PRFA.</td><td></td><td>MARIA OSORIO TEIX...</td><td>JARDIM DAS ESMERA...</td><td>JARDIM DAS ESMERA...</td></tr>\n",
       "<tr><td>LINESTRING (31955...</td><td>3</td><td>76.883336000000000</td><td>734519</td><td>SG734519005</td><td>135</td><td>LESTE-OESTE</td><td>O</td><td>5549</td><td>5549</td><td>281</td><td>355</td><td>280</td><td>354</td><td>05549080</td><td>05549080</td><td></td><td></td><td>VITORIANO DA SILVA</td><td>JARDIM DAS ESMERA...</td><td>JARDIM DAS ESMERA...</td></tr>\n",
       "<tr><td>LINESTRING (31954...</td><td>4</td><td>50.402368000000003</td><td>753718</td><td>SG753718002</td><td>208</td><td>LESTE-OESTE</td><td>O</td><td>5549</td><td>5549</td><td>61</td><td>109</td><td>60</td><td>108</td><td>05549120</td><td>05549120</td><td>PRFA.</td><td></td><td>MARIA OSORIO TEIX...</td><td>JARDIM DAS ESMERA...</td><td>JARDIM DAS ESMERA...</td></tr>\n",
       "<tr><td>LINESTRING (31959...</td><td>5</td><td>59.831297999999997</td><td>753718</td><td>SG753718001</td><td>205</td><td>LESTE-OESTE</td><td>O</td><td>5549</td><td>5549</td><td>1</td><td>59</td><td>2</td><td>58</td><td>05549120</td><td>05549120</td><td>PRFA.</td><td></td><td>MARIA OSORIO TEIX...</td><td>JARDIM DAS ESMERA...</td><td>JARDIM DAS ESMERA...</td></tr>\n",
       "</table>\n",
       "only showing top 5 rows\n"
      ],
      "text/plain": [
       "+--------------------+---+-------------------+------+-----------+------+-----------+-------+--------+---------+----------+--------+----------+---------+--------+--------+------+----+--------------------+--------------------+--------------------+\n",
       "|            geometry| ID|             LENGTH|  CODL|        SEG|ANGULO|  ORIENTA_O|COD_ORI|LEFT_ZIP|RIGHT_ZIP|START_LEFT|END_LEFT|START_RIGH|END_RIGHT|   CEP_D|   CEP_E|TITULO|PREP|                NAME|            BAIRRO_D|            BAIRRO_E|\n",
       "+--------------------+---+-------------------+------+-----------+------+-----------+-------+--------+---------+----------+--------+----------+---------+--------+--------+------+----+--------------------+--------------------+--------------------+\n",
       "|LINESTRING (31949...|  1|227.218229000000010|731960|SG731960001|   170|LESTE-OESTE|      O|    5547|     5547|         1|     227|         2|      226|05547020|05547020|      |    |      ERNESTO PAGLIA|   JARDIM ROSA MARIA|   JARDIM ROSA MARIA|\n",
       "|LINESTRING (31949...|  2|100.109236999999990|753718|SG753718003|   294|  NORTE-SUL|      S|    5549|     5549|       111|     209|       110|      208|05549120|05549120| PRFA.|    |MARIA OSORIO TEIX...|JARDIM DAS ESMERA...|JARDIM DAS ESMERA...|\n",
       "|LINESTRING (31955...|  3| 76.883336000000000|734519|SG734519005|   135|LESTE-OESTE|      O|    5549|     5549|       281|     355|       280|      354|05549080|05549080|      |    |  VITORIANO DA SILVA|JARDIM DAS ESMERA...|JARDIM DAS ESMERA...|\n",
       "|LINESTRING (31954...|  4| 50.402368000000003|753718|SG753718002|   208|LESTE-OESTE|      O|    5549|     5549|        61|     109|        60|      108|05549120|05549120| PRFA.|    |MARIA OSORIO TEIX...|JARDIM DAS ESMERA...|JARDIM DAS ESMERA...|\n",
       "|LINESTRING (31959...|  5| 59.831297999999997|753718|SG753718001|   205|LESTE-OESTE|      O|    5549|     5549|         1|      59|         2|       58|05549120|05549120| PRFA.|    |MARIA OSORIO TEIX...|JARDIM DAS ESMERA...|JARDIM DAS ESMERA...|\n",
       "+--------------------+---+-------------------+------+-----------+------+-----------+-------+--------+---------+----------+--------+----------+---------+--------+--------+------+----+--------------------+--------------------+--------------------+\n",
       "only showing top 5 rows"
      ]
     },
     "execution_count": 17,
     "metadata": {},
     "output_type": "execute_result"
    }
   ],
   "source": [
    "# shapefiles for sectors:\n",
    "zipcode_rdd = ShapefileReader.readToGeometryRDD(\n",
    "    sc=spark, inputPath=RAW_DATA_DIR + \"sp_layers/logradouros/*\"\n",
    ")\n",
    "\n",
    "df_zipcode = Adapter.toDf(zipcode_rdd, spark)\n",
    "df_zipcode.createOrReplaceTempView(\"tb_zipcode\")\n",
    "\n",
    "# verifying the zipcode shapes::\n",
    "df_zipcode"
   ]
  },
  {
   "cell_type": "code",
   "execution_count": 18,
   "metadata": {},
   "outputs": [],
   "source": [
    "# converting the coordinate system in the zipcode file:\n",
    "Q_ZIPCODE_CONVERSION = \"\"\"\n",
    "WITH zip_left as (\n",
    "  SELECT \n",
    "    DISTINCT A.CEP_E as zipcode,\n",
    "    ST_FlipCoordinates(ST_Transform(A.geometry, 'epsg:29193','epsg:4326')) as geometry,\n",
    "    A.NAME as street_name,\n",
    "    A.LENGTH as street_length\n",
    "    FROM tb_zipcode as A  \n",
    "),\n",
    "\n",
    "zip_right as (\n",
    "    SELECT\n",
    "        DISTINCT A.CEP_D as zipcode,\n",
    "        ST_FlipCoordinates(ST_Transform(A.geometry, 'epsg:29193','epsg:4326')) as geometry,\n",
    "        A.NAME as street_name,\n",
    "        A.LENGTH as street_length\n",
    "        FROM tb_zipcode as A      \n",
    ")\n",
    "\n",
    "SELECT * FROM zip_left \n",
    "UNION \n",
    "SELECT * FROM zip_right\n",
    "\"\"\"\n",
    "\n",
    "df_zipcode = spark.sql(Q_ZIPCODE_CONVERSION)\n",
    "\n",
    "# dropping duplicates:\n",
    "df_zipcode = df_zipcode.drop_duplicates(subset=[\"zipcode\"])"
   ]
  },
  {
   "cell_type": "code",
   "execution_count": 19,
   "metadata": {},
   "outputs": [
    {
     "data": {
      "text/html": [
       "<table border='1'>\n",
       "<tr><th>zipcode</th><th>geometry</th><th>street_name</th><th>street_length</th></tr>\n",
       "<tr><td>01012030</td><td>LINESTRING (-46.6...</td><td>CAFE</td><td>21.804877000000001</td></tr>\n",
       "<tr><td>01233001</td><td>LINESTRING (-46.6...</td><td>TUPI</td><td>16.602098000000002</td></tr>\n",
       "<tr><td>01248050</td><td>LINESTRING (-46.6...</td><td>PENAPOLIS</td><td>17.203655999999999</td></tr>\n",
       "<tr><td>01303040</td><td>LINESTRING (-46.6...</td><td>GRAVATAI</td><td>141.574693000000000</td></tr>\n",
       "<tr><td>01439020</td><td>LINESTRING (-46.6...</td><td>JAMAICA</td><td>94.675585999999996</td></tr>\n",
       "</table>\n",
       "only showing top 5 rows\n"
      ],
      "text/plain": [
       "+--------+--------------------+-----------+-------------------+\n",
       "| zipcode|            geometry|street_name|      street_length|\n",
       "+--------+--------------------+-----------+-------------------+\n",
       "|01012030|LINESTRING (-46.6...|       CAFE| 21.804877000000001|\n",
       "|01233001|LINESTRING (-46.6...|       TUPI| 16.602098000000002|\n",
       "|01248050|LINESTRING (-46.6...|  PENAPOLIS| 17.203655999999999|\n",
       "|01303040|LINESTRING (-46.6...|   GRAVATAI|141.574693000000000|\n",
       "|01439020|LINESTRING (-46.6...|    JAMAICA| 94.675585999999996|\n",
       "+--------+--------------------+-----------+-------------------+\n",
       "only showing top 5 rows"
      ]
     },
     "execution_count": 19,
     "metadata": {},
     "output_type": "execute_result"
    }
   ],
   "source": [
    "# resulting dataframe becomes:\n",
    "df_zipcode"
   ]
  },
  {
   "cell_type": "code",
   "execution_count": 20,
   "metadata": {},
   "outputs": [
    {
     "data": {
      "text/plain": [
       "44886"
      ]
     },
     "execution_count": 20,
     "metadata": {},
     "output_type": "execute_result"
    }
   ],
   "source": [
    "# number of distinct zip codes:\n",
    "df_zipcode.count()"
   ]
  },
  {
   "cell_type": "code",
   "execution_count": 21,
   "metadata": {},
   "outputs": [],
   "source": [
    "# registering to SQL context:\n",
    "df_zipcode.createOrReplaceTempView(\"tb_zipcode\")"
   ]
  },
  {
   "cell_type": "markdown",
   "metadata": {},
   "source": [
    "## 1.6 IPVS"
   ]
  },
  {
   "cell_type": "code",
   "execution_count": 22,
   "metadata": {},
   "outputs": [],
   "source": [
    "# shapefiles for ipvs (will use geopandas, since\n",
    "gdf_ipvs = gpd.read_file(RAW_DATA_DIR + \"sp_layers/ipvs/\")\n",
    "\n",
    "# saving intermediary file:\n",
    "gdf_ipvs.to_file(\"../data/raw/sp_ipvs/shapefile/geo_ipvs_2010.shp\")"
   ]
  },
  {
   "cell_type": "code",
   "execution_count": 23,
   "metadata": {},
   "outputs": [
    {
     "data": {
      "text/html": [
       "<table border='1'>\n",
       "<tr><th>geometry</th><th>ID</th><th>AREA</th><th>CD_GEODI</th><th>TIPO</th><th>CD_GEODM</th><th>V1</th><th>V2</th><th>V3</th><th>V4</th><th>V5</th><th>V6</th><th>V61</th><th>V62</th><th>V7</th><th>V8</th><th>V9</th><th>V10</th><th>V11</th><th>V12</th><th>V13</th><th>V14</th><th>V15</th><th>V16</th><th>V17</th><th>V18</th><th>V19</th><th>V20</th><th>V21</th><th>V22</th><th>V23</th><th>V24</th><th>V25</th><th>V26</th><th>V27</th><th>V28</th><th>V29</th><th>V30</th><th>V31</th><th>V32</th><th>V33</th><th>V34</th><th>V35</th><th>V36</th><th>V37</th><th>V38</th><th>V39</th><th>V40</th><th>V41</th><th>V42</th><th>V43</th><th>V44</th><th>V45</th><th>V46</th><th>V47</th><th>V48</th><th>V49</th></tr>\n",
       "<tr><td>POLYGON ((-47.712...</td><td>6164</td><td>0.33</td><td>350820705000003</td><td>URBANO</td><td>3508207</td><td>3508207</td><td>Buritizal</td><td>0</td><td>0.0000</td><td>695</td><td>REG ADM FRANCA</td><td>350820705</td><td>Buritizal</td><td>350820705000003</td><td>Área urbanizada d...</td><td>N</td><td>Vulnerabilidade m...</td><td>263</td><td>262</td><td>0</td><td>747</td><td>2.8500</td><td>7.8983</td><td>262</td><td>2181.2595</td><td>765.0469</td><td>1.9084</td><td>1.5267</td><td>13.7405</td><td>63.3588</td><td>19.4656</td><td>15.2672</td><td>4.1985</td><td>48.8015</td><td>1471.9695</td><td>93.5114</td><td>13.7405</td><td>67.4825</td><td>55.1905</td><td>92.0635</td><td>3.1746</td><td>1098.4286</td><td>-0.4747</td><td>-0.5777</td><td></td><td></td><td>99.6183</td><td>100.0000</td><td>100.0000</td><td>100.0000</td><td>1</td><td>8</td><td>4044</td><td>747.000000000000000</td><td>3306.000000000000000</td><td>4053</td></tr>\n",
       "<tr><td>POLYGON ((-47.714...</td><td>6165</td><td>0.06</td><td>350820705000004</td><td>URBANO</td><td>3508207</td><td>3508207</td><td>Buritizal</td><td>0</td><td>0.0000</td><td>695</td><td>REG ADM FRANCA</td><td>350820705</td><td>Buritizal</td><td>350820705000004</td><td>Área urbanizada d...</td><td>N</td><td>Vulnerabilidade m...</td><td>149</td><td>149</td><td>0</td><td>472</td><td>3.1700</td><td>9.5339</td><td>149</td><td>1930.3221</td><td>609.3602</td><td>0.6711</td><td>0.0000</td><td>12.7517</td><td>73.8255</td><td>12.7517</td><td>12.7517</td><td>3.3557</td><td>41.3020</td><td>1247.4899</td><td>97.3154</td><td>17.4497</td><td>64.6260</td><td>44.6842</td><td>94.7368</td><td>5.2632</td><td>833.7105</td><td>-0.1363</td><td>0.2784</td><td></td><td></td><td>100.0000</td><td>100.0000</td><td>100.0000</td><td>100.0000</td><td>1</td><td>8</td><td>4044</td><td>747.000000000000000</td><td>3306.000000000000000</td><td>4053</td></tr>\n",
       "<tr><td>POLYGON ((-51.158...</td><td>24919</td><td>26.26</td><td>352890810000003</td><td>RURAL</td><td>3528908</td><td>3528908</td><td>Mariápolis</td><td>0</td><td>0.0000</td><td>691</td><td>REG ADM PRESIDENT...</td><td>352890810</td><td>Mourão</td><td>352890810000003</td><td>Zona rural, exclu...</td><td>N</td><td>Não classificado</td><td>30</td><td>30</td><td>0</td><td>94</td><td>3.1300</td><td>4.2553</td><td>30</td><td>1264.6667</td><td>403.6170</td><td>0.0000</td><td>0.0000</td><td>33.3333</td><td>63.3333</td><td>3.3333</td><td>33.3333</td><td>6.6667</td><td>49.6000</td><td>853.6667</td><td>100.0000</td><td>0.0000</td><td>67.5013</td><td>56.0000</td><td>100.0000</td><td>0.0000</td><td>500.0000</td><td>0</td><td>0</td><td></td><td></td><td>0.0000</td><td>6.6667</td><td>20.0000</td><td>100.0000</td><td>0</td><td>4</td><td>3912</td><td>779.000000000000000</td><td>3137.000000000000000</td><td>3916</td></tr>\n",
       "<tr><td>POLYGON ((-49.948...</td><td>24920</td><td>0.13</td><td>352900505000001</td><td>URBANO</td><td>3529005</td><td>3529005</td><td>Marília</td><td>0</td><td>0.0000</td><td>692</td><td>REG ADM MARILIA</td><td>352900505</td><td>Marília</td><td>352900505000001</td><td>Área urbanizada d...</td><td>N</td><td>Vulnerabilidade m...</td><td>154</td><td>134</td><td>0</td><td>307</td><td>2.2900</td><td>5.2117</td><td>134</td><td>3594.1418</td><td>1568.7785</td><td>0.7463</td><td>0.0000</td><td>4.4776</td><td>43.2836</td><td>51.4925</td><td>4.4776</td><td>1.4925</td><td>55.4030</td><td>2184.4030</td><td>97.0149</td><td>12.6866</td><td>60.7768</td><td>57.1711</td><td>96.0526</td><td>7.8947</td><td>1476.1842</td><td>0.5118</td><td>-0.7793</td><td></td><td></td><td>100.0000</td><td>100.0000</td><td>100.0000</td><td>100.0000</td><td>2543</td><td>104</td><td>214098</td><td>9724.000000000000000</td><td>207021.0000000000...</td><td>216745</td></tr>\n",
       "<tr><td>POLYGON ((-49.950...</td><td>24921</td><td>0.06</td><td>352900505000002</td><td>URBANO</td><td>3529005</td><td>3529005</td><td>Marília</td><td>0</td><td>0.0000</td><td>692</td><td>REG ADM MARILIA</td><td>352900505</td><td>Marília</td><td>352900505000002</td><td>Área urbanizada d...</td><td>N</td><td>Baixíssima vulner...</td><td>121</td><td>113</td><td>0</td><td>232</td><td>2.0500</td><td>2.1552</td><td>113</td><td>4936.5133</td><td>2404.4224</td><td>1.7699</td><td>0.0000</td><td>0.8850</td><td>24.7788</td><td>72.5664</td><td>0.8850</td><td>0.0000</td><td>58.2389</td><td>4103.3982</td><td>98.2301</td><td>15.0442</td><td>83.1234</td><td>61.5849</td><td>96.2264</td><td>13.2075</td><td>2937.5472</td><td>1.5504</td><td>-0.4993</td><td></td><td></td><td>100.0000</td><td>100.0000</td><td>100.0000</td><td>100.0000</td><td>2543</td><td>104</td><td>214098</td><td>9724.000000000000000</td><td>207021.0000000000...</td><td>216745</td></tr>\n",
       "</table>\n",
       "only showing top 5 rows\n"
      ],
      "text/plain": [
       "+--------------------+-----+-----+---------------+------+--------+-------+----------+---+------+---+--------------------+---------+---------+---------------+--------------------+---+--------------------+---+---+---+---+------+------+---+---------+---------+------+------+-------+-------+-------+-------+------+-------+---------+--------+-------+-------+-------+--------+-------+---------+-------+-------+---+---+--------+--------+--------+--------+----+---+------+--------------------+--------------------+------+\n",
       "|            geometry|   ID| AREA|       CD_GEODI|  TIPO|CD_GEODM|     V1|        V2| V3|    V4| V5|                  V6|      V61|      V62|             V7|                  V8| V9|                 V10|V11|V12|V13|V14|   V15|   V16|V17|      V18|      V19|   V20|   V21|    V22|    V23|    V24|    V25|   V26|    V27|      V28|     V29|    V30|    V31|    V32|     V33|    V34|      V35|    V36|    V37|V38|V39|     V40|     V41|     V42|     V43| V44|V45|   V46|                 V47|                 V48|   V49|\n",
       "+--------------------+-----+-----+---------------+------+--------+-------+----------+---+------+---+--------------------+---------+---------+---------------+--------------------+---+--------------------+---+---+---+---+------+------+---+---------+---------+------+------+-------+-------+-------+-------+------+-------+---------+--------+-------+-------+-------+--------+-------+---------+-------+-------+---+---+--------+--------+--------+--------+----+---+------+--------------------+--------------------+------+\n",
       "|POLYGON ((-47.712...| 6164| 0.33|350820705000003|URBANO| 3508207|3508207| Buritizal|  0|0.0000|695|      REG ADM FRANCA|350820705|Buritizal|350820705000003|Área urbanizada d...|  N|Vulnerabilidade m...|263|262|  0|747|2.8500|7.8983|262|2181.2595| 765.0469|1.9084|1.5267|13.7405|63.3588|19.4656|15.2672|4.1985|48.8015|1471.9695| 93.5114|13.7405|67.4825|55.1905| 92.0635| 3.1746|1098.4286|-0.4747|-0.5777|   |   | 99.6183|100.0000|100.0000|100.0000|   1|  8|  4044| 747.000000000000000|3306.000000000000000|  4053|\n",
       "|POLYGON ((-47.714...| 6165| 0.06|350820705000004|URBANO| 3508207|3508207| Buritizal|  0|0.0000|695|      REG ADM FRANCA|350820705|Buritizal|350820705000004|Área urbanizada d...|  N|Vulnerabilidade m...|149|149|  0|472|3.1700|9.5339|149|1930.3221| 609.3602|0.6711|0.0000|12.7517|73.8255|12.7517|12.7517|3.3557|41.3020|1247.4899| 97.3154|17.4497|64.6260|44.6842| 94.7368| 5.2632| 833.7105|-0.1363| 0.2784|   |   |100.0000|100.0000|100.0000|100.0000|   1|  8|  4044| 747.000000000000000|3306.000000000000000|  4053|\n",
       "|POLYGON ((-51.158...|24919|26.26|352890810000003| RURAL| 3528908|3528908|Mariápolis|  0|0.0000|691|REG ADM PRESIDENT...|352890810|   Mourão|352890810000003|Zona rural, exclu...|  N|    Não classificado| 30| 30|  0| 94|3.1300|4.2553| 30|1264.6667| 403.6170|0.0000|0.0000|33.3333|63.3333| 3.3333|33.3333|6.6667|49.6000| 853.6667|100.0000| 0.0000|67.5013|56.0000|100.0000| 0.0000| 500.0000|      0|      0|   |   |  0.0000|  6.6667| 20.0000|100.0000|   0|  4|  3912| 779.000000000000000|3137.000000000000000|  3916|\n",
       "|POLYGON ((-49.948...|24920| 0.13|352900505000001|URBANO| 3529005|3529005|   Marília|  0|0.0000|692|     REG ADM MARILIA|352900505|  Marília|352900505000001|Área urbanizada d...|  N|Vulnerabilidade m...|154|134|  0|307|2.2900|5.2117|134|3594.1418|1568.7785|0.7463|0.0000| 4.4776|43.2836|51.4925| 4.4776|1.4925|55.4030|2184.4030| 97.0149|12.6866|60.7768|57.1711| 96.0526| 7.8947|1476.1842| 0.5118|-0.7793|   |   |100.0000|100.0000|100.0000|100.0000|2543|104|214098|9724.000000000000000|207021.0000000000...|216745|\n",
       "|POLYGON ((-49.950...|24921| 0.06|352900505000002|URBANO| 3529005|3529005|   Marília|  0|0.0000|692|     REG ADM MARILIA|352900505|  Marília|352900505000002|Área urbanizada d...|  N|Baixíssima vulner...|121|113|  0|232|2.0500|2.1552|113|4936.5133|2404.4224|1.7699|0.0000| 0.8850|24.7788|72.5664| 0.8850|0.0000|58.2389|4103.3982| 98.2301|15.0442|83.1234|61.5849| 96.2264|13.2075|2937.5472| 1.5504|-0.4993|   |   |100.0000|100.0000|100.0000|100.0000|2543|104|214098|9724.000000000000000|207021.0000000000...|216745|\n",
       "+--------------------+-----+-----+---------------+------+--------+-------+----------+---+------+---+--------------------+---------+---------+---------------+--------------------+---+--------------------+---+---+---+---+------+------+---+---------+---------+------+------+-------+-------+-------+-------+------+-------+---------+--------+-------+-------+-------+--------+-------+---------+-------+-------+---+---+--------+--------+--------+--------+----+---+------+--------------------+--------------------+------+\n",
       "only showing top 5 rows"
      ]
     },
     "execution_count": 23,
     "metadata": {},
     "output_type": "execute_result"
    }
   ],
   "source": [
    "# shapefiles for sectors:\n",
    "ipvs_rdd = ShapefileReader.readToGeometryRDD(\n",
    "    sc=spark, inputPath=RAW_DATA_DIR + \"sp_ipvs/shapefile/*\"\n",
    ")\n",
    "\n",
    "df_ipvs = Adapter.toDf(ipvs_rdd, spark)\n",
    "df_ipvs.createOrReplaceTempView(\"tb_ipvs\")\n",
    "\n",
    "# verifying the ipvs shapes:\n",
    "df_ipvs"
   ]
  },
  {
   "cell_type": "code",
   "execution_count": 24,
   "metadata": {},
   "outputs": [],
   "source": [
    "# reading the codebook for the ipvs dataset:\n",
    "df_ipvs_codebook = pd.read_excel(\"../references/documentation/ipvs/ipvs_codebook.xlsx\")"
   ]
  },
  {
   "cell_type": "code",
   "execution_count": 25,
   "metadata": {},
   "outputs": [
    {
     "data": {
      "text/html": [
       "<div>\n",
       "<style scoped>\n",
       "    .dataframe tbody tr th:only-of-type {\n",
       "        vertical-align: middle;\n",
       "    }\n",
       "\n",
       "    .dataframe tbody tr th {\n",
       "        vertical-align: top;\n",
       "    }\n",
       "\n",
       "    .dataframe thead th {\n",
       "        text-align: right;\n",
       "    }\n",
       "</style>\n",
       "<table border=\"1\" class=\"dataframe\">\n",
       "  <thead>\n",
       "    <tr style=\"text-align: right;\">\n",
       "      <th></th>\n",
       "      <th>NOME DO ARQUIVO</th>\n",
       "      <th>VARIAVEL</th>\n",
       "      <th>NOME DA VARIAVEL</th>\n",
       "      <th>DESCRICAO DA VARIAVEL</th>\n",
       "      <th>FONTE</th>\n",
       "      <th>TIPO</th>\n",
       "      <th>normalized_variable</th>\n",
       "    </tr>\n",
       "  </thead>\n",
       "  <tbody>\n",
       "    <tr>\n",
       "      <th>0</th>\n",
       "      <td>IPVS 2010 EST SP</td>\n",
       "      <td>ID</td>\n",
       "      <td>Identificados</td>\n",
       "      <td>Identificados</td>\n",
       "      <td>IBGE</td>\n",
       "      <td>NÚMERO</td>\n",
       "      <td>id</td>\n",
       "    </tr>\n",
       "    <tr>\n",
       "      <th>1</th>\n",
       "      <td>IPVS 2010 EST SP</td>\n",
       "      <td>AREA</td>\n",
       "      <td>Área em Km2</td>\n",
       "      <td>Área em Km2</td>\n",
       "      <td>IBGE</td>\n",
       "      <td>TEXTO</td>\n",
       "      <td>sector_area_square_kms</td>\n",
       "    </tr>\n",
       "    <tr>\n",
       "      <th>2</th>\n",
       "      <td>IPVS 2010 EST SP</td>\n",
       "      <td>CD_GEOCODI</td>\n",
       "      <td>Código do setor censitário do IBGE</td>\n",
       "      <td>Código do setor censitário do IBGE</td>\n",
       "      <td>IBGE</td>\n",
       "      <td>NÚMERO</td>\n",
       "      <td>sector_code</td>\n",
       "    </tr>\n",
       "    <tr>\n",
       "      <th>3</th>\n",
       "      <td>IPVS 2010 EST SP</td>\n",
       "      <td>TIPO</td>\n",
       "      <td>Tipo de setor censitário</td>\n",
       "      <td>Tipo de setor censitário</td>\n",
       "      <td>IBGE</td>\n",
       "      <td>TEXTO</td>\n",
       "      <td>sector_type</td>\n",
       "    </tr>\n",
       "    <tr>\n",
       "      <th>4</th>\n",
       "      <td>IPVS 2010 EST SP</td>\n",
       "      <td>CD_GEOCODM</td>\n",
       "      <td>Código do município do IBGE</td>\n",
       "      <td>Código do município do IBGE</td>\n",
       "      <td>IBGE</td>\n",
       "      <td>NÚMERO</td>\n",
       "      <td>city_code_census</td>\n",
       "    </tr>\n",
       "  </tbody>\n",
       "</table>\n",
       "</div>"
      ],
      "text/plain": [
       "    NOME DO ARQUIVO    VARIAVEL                    NOME DA VARIAVEL  \\\n",
       "0  IPVS 2010 EST SP          ID                       Identificados   \n",
       "1  IPVS 2010 EST SP        AREA                         Área em Km2   \n",
       "2  IPVS 2010 EST SP  CD_GEOCODI  Código do setor censitário do IBGE   \n",
       "3  IPVS 2010 EST SP        TIPO            Tipo de setor censitário   \n",
       "4  IPVS 2010 EST SP  CD_GEOCODM         Código do município do IBGE   \n",
       "\n",
       "                DESCRICAO DA VARIAVEL FONTE    TIPO     normalized_variable  \n",
       "0                       Identificados  IBGE  NÚMERO                      id  \n",
       "1                         Área em Km2  IBGE   TEXTO  sector_area_square_kms  \n",
       "2  Código do setor censitário do IBGE  IBGE  NÚMERO             sector_code  \n",
       "3            Tipo de setor censitário  IBGE   TEXTO             sector_type  \n",
       "4         Código do município do IBGE  IBGE  NÚMERO        city_code_census  "
      ]
     },
     "execution_count": 25,
     "metadata": {},
     "output_type": "execute_result"
    }
   ],
   "source": [
    "# taking a look at the codebook\n",
    "df_ipvs_codebook.head()"
   ]
  },
  {
   "cell_type": "code",
   "execution_count": 26,
   "metadata": {},
   "outputs": [],
   "source": [
    "# converting the column names to normalized variable:\n",
    "ipvs_col_lookup = dict(\n",
    "    zip(df_ipvs_codebook.VARIAVEL.values, df_ipvs_codebook.normalized_variable.values)\n",
    ")"
   ]
  },
  {
   "cell_type": "code",
   "execution_count": 27,
   "metadata": {},
   "outputs": [],
   "source": [
    "# changing the column names:\n",
    "for orig_col, new_col in ipvs_col_lookup.items():\n",
    "    df_ipvs = df_ipvs.withColumnRenamed(orig_col, new_col)\n",
    "\n",
    "# changing few leftover columns:\n",
    "df_ipvs = df_ipvs.withColumnRenamed(\"CD_GEODI\", \"sector_code\").withColumnRenamed(\n",
    "    \"CD_GEODM\", \"city_code_census\"\n",
    ")\n",
    "\n",
    "df_ipvs.createOrReplaceTempView(\"tb_ipvs\")"
   ]
  },
  {
   "cell_type": "code",
   "execution_count": 28,
   "metadata": {},
   "outputs": [],
   "source": [
    "# using a subquery to remove the sector codes that are not in the base census shapefile:\n",
    "Q_SECTOR_FILTER = \"\"\"\n",
    "SELECT\n",
    "    A.*\n",
    "FROM tb_ipvs as A\n",
    "LEFT JOIN tb_sector as B \n",
    "ON A.sector_code = B.sector_code\n",
    "WHERE A.sector_code IN (SELECT DISTINCT sector_code FROM tb_sector)\n",
    "\"\"\"\n",
    "\n",
    "df_ipvs_clean = spark.sql(Q_SECTOR_FILTER)"
   ]
  },
  {
   "cell_type": "code",
   "execution_count": 29,
   "metadata": {},
   "outputs": [],
   "source": [
    "# cleaning up is_subnormal_aglomerate column\n",
    "df_ipvs_clean = df_ipvs_clean.withColumn(\n",
    "    \"is_subnormal_aglomerate\",\n",
    "    F.when(F.col(\"is_subnormal_aglomerate\") == \"N\", False)\n",
    "    .when(F.col(\"is_subnormal_aglomerate\") == \"S\", True)\n",
    "    .otherwise(False),\n",
    ")"
   ]
  },
  {
   "cell_type": "code",
   "execution_count": 31,
   "metadata": {},
   "outputs": [],
   "source": [
    "# setting a ordinal scale based on the fibonacci sequence with -1 as indicators for unclassified sectors\n",
    "ipvs_groups = sorted(get_column_values(df_ipvs_clean, \"ipvs_group\"))\n",
    "\n",
    "groups_code = [\n",
    "    -1,  # ''\n",
    "    1,  # 'Baixssima vulnerabilidade'\n",
    "    -1,  # 'Não classificado'\n",
    "    8,  # 'Vulnerabilidade alta (Urbanos)'\n",
    "    2,  # 'Vulnerabilidade baixa'\n",
    "    13,  # 'Vulnerabilidade muito alta (aglomerados subnormais urbanos)'\n",
    "    3,  # 'Vulnerabilidade muito baixa'\n",
    "    5,  # 'Vulnerabilidade média'\n",
    "]\n",
    "\n",
    "# generating the lookup:\n",
    "ipvs_groups_lookup = dict(zip(ipvs_groups, groups_code))"
   ]
  },
  {
   "cell_type": "code",
   "execution_count": 32,
   "metadata": {},
   "outputs": [],
   "source": [
    "# applying the lookup to the group column:\n",
    "df_ipvs_clean = df_ipvs_clean.withColumn(\n",
    "    \"ipvs_group\", apply_category_map(ipvs_groups_lookup)(\"ipvs_group\")\n",
    ")"
   ]
  },
  {
   "cell_type": "code",
   "execution_count": 33,
   "metadata": {},
   "outputs": [
    {
     "data": {
      "text/html": [
       "<table border='1'>\n",
       "<tr><th>geometry</th><th>id</th><th>sector_area_square_kms</th><th>sector_code</th><th>sector_type</th><th>city_code_census</th><th>city_code_ipvs</th><th>city_name</th><th>metropolitan_region_code</th><th>metropolitan_region_name</th><th>administrative_region_code</th><th>administrative_region_name</th><th>district_code</th><th>district_name</th><th>census_sector_code</th><th>sector_situation</th><th>is_subnormal_aglomerate</th><th>ipvs_group</th><th>households</th><th>households_permanent</th><th>improvised_households</th><th>people_permanent_households</th><th>average_residents_permanent_households</th><th>prop_0_5_age_population</th><th>total_responsible_people</th><th>average_household_income</th><th>per_capita_income</th><th>prop_households_no_income</th><th>prop_househols_one_eigth_sm_income</th><th>prop_households_one_halft_sm_income</th><th>prop_households_two_sm_income</th><th>prop_households_two_or_more_income</th><th>prop_private_households_one_half_sm_income</th><th>prop_private_households_one_quarter_sm_income</th><th>average_age_responsible_people</th><th>average_income_household_responsible</th><th>prop_literate_people</th><th>prop_responsible_people_up_to_30_years</th><th>prop_income_participation_in_household_responsible</th><th>average_age_women_responsible</th><th>prop_literate_women</th><th>prop_women_up_to_30_years</th><th>average_income_women_responsible</th><th>factor_1</th><th>factor_2</th><th>factor_1_rural</th><th>factor_2_rural</th><th>prop_households_access_water</th><th>prop_households_sanitation</th><th>prop_households_trash_collection</th><th>prop_households_electricity</th><th>population_collective_households_city</th><th>population_improvised_households_city</th><th>population_permanent_households_city</th><th>population_rural_areas_city</th><th>population_urban_areas_city</th><th>population_city</th></tr>\n",
       "<tr><td>POLYGON ((-46.569...</td><td>43405</td><td>0.08</td><td>355030801000005</td><td>URBANO</td><td>3550308</td><td>3550308</td><td>São Paulo</td><td>800</td><td>0</td><td>681</td><td>REG METROPOLIT DE...</td><td>355030801</td><td>Água Rasa</td><td>355030801000005</td><td>Área urbanizada d...</td><td>false</td><td>3</td><td>240</td><td>240</td><td>0</td><td>754</td><td>3.1417</td><td>7.1618</td><td>240</td><td>2563.3958</td><td>815.9350</td><td>3.3333</td><td>0.0000</td><td>9.1667</td><td>60.0000</td><td>27.5000</td><td>9.1667</td><td>0.8333</td><td>50.8958</td><td>1416.9000</td><td>96.6667</td><td>10.4167</td><td>55.2743</td><td>51.3832</td><td>95.3271</td><td>11.2150</td><td>938.1402</td><td>0.0821</td><td>-0.5106</td><td></td><td></td><td>100.0000</td><td>100.0000</td><td>100.0000</td><td>100.0000</td><td>36944</td><td>6886</td><td>11209673</td><td>*****************...</td><td>*****************...</td><td>11253503</td></tr>\n",
       "<tr><td>POLYGON ((-46.700...</td><td>43558</td><td>0.03</td><td>355030802000028</td><td>URBANO</td><td>3550308</td><td>3550308</td><td>São Paulo</td><td>800</td><td>0</td><td>681</td><td>REG METROPOLIT DE...</td><td>355030802</td><td>Alto de Pinheiros</td><td>355030802000028</td><td>Área urbanizada d...</td><td>false</td><td>1</td><td>177</td><td>177</td><td>0</td><td>394</td><td>2.2260</td><td>3.2995</td><td>177</td><td>8323.2260</td><td>3739.1142</td><td>3.3898</td><td>0.0000</td><td>1.1299</td><td>8.4746</td><td>87.0057</td><td>1.1299</td><td>0.5650</td><td>52.7684</td><td>5017.3333</td><td>99.4350</td><td>10.7345</td><td>60.2811</td><td>54.5169</td><td>98.8764</td><td>12.3596</td><td>4285.4719</td><td>2.2971</td><td>0.0103</td><td></td><td></td><td>100.0000</td><td>100.0000</td><td>100.0000</td><td>100.0000</td><td>36944</td><td>6886</td><td>11209673</td><td>*****************...</td><td>*****************...</td><td>11253503</td></tr>\n",
       "<tr><td>POLYGON ((-46.675...</td><td>44007</td><td>0.06</td><td>355030806000016</td><td>URBANO</td><td>3550308</td><td>3550308</td><td>São Paulo</td><td>800</td><td>0</td><td>681</td><td>REG METROPOLIT DE...</td><td>355030806</td><td>Barra Funda</td><td>355030806000016</td><td>Área urbanizada d...</td><td>false</td><td>1</td><td>135</td><td>135</td><td>0</td><td>356</td><td>2.6370</td><td>5.0562</td><td>135</td><td>6132.4444</td><td>2325.5056</td><td>1.4815</td><td>0.0000</td><td>0.0000</td><td>16.2963</td><td>82.2222</td><td>0.0000</td><td>0.0000</td><td>51.5704</td><td>3564.8296</td><td>100.0000</td><td>17.0370</td><td>58.1306</td><td>53.0133</td><td>100.0000</td><td>18.6667</td><td>2499.2000</td><td>1.6655</td><td>0.4119</td><td></td><td></td><td>100.0000</td><td>100.0000</td><td>100.0000</td><td>100.0000</td><td>36944</td><td>6886</td><td>11209673</td><td>*****************...</td><td>*****************...</td><td>11253503</td></tr>\n",
       "<tr><td>POLYGON ((-46.599...</td><td>44200</td><td>0.12</td><td>355030808000029</td><td>URBANO</td><td>3550308</td><td>3550308</td><td>São Paulo</td><td>800</td><td>0</td><td>681</td><td>REG METROPOLIT DE...</td><td>355030808</td><td>Belém</td><td>355030808000029</td><td>Área urbanizada d...</td><td>false</td><td>3</td><td>259</td><td>259</td><td>0</td><td>739</td><td>2.8533</td><td>5.4127</td><td>259</td><td>3249.4479</td><td>1138.8457</td><td>5.4054</td><td>0.3861</td><td>8.4942</td><td>37.8378</td><td>47.8764</td><td>8.8803</td><td>1.1583</td><td>49.7066</td><td>1867.7259</td><td>100.0000</td><td>11.1969</td><td>57.4783</td><td>51.2308</td><td>100.0000</td><td>10.0000</td><td>1436.5462</td><td>0.5398</td><td>-0.4063</td><td></td><td></td><td>100.0000</td><td>100.0000</td><td>100.0000</td><td>100.0000</td><td>36944</td><td>6886</td><td>11209673</td><td>*****************...</td><td>*****************...</td><td>11253503</td></tr>\n",
       "<tr><td>POLYGON ((-46.603...</td><td>44216</td><td>0.12</td><td>355030808000045</td><td>URBANO</td><td>3550308</td><td>3550308</td><td>São Paulo</td><td>800</td><td>0</td><td>681</td><td>REG METROPOLIT DE...</td><td>355030808</td><td>Belém</td><td>355030808000045</td><td>Área urbanizada d...</td><td>false</td><td>3</td><td>193</td><td>193</td><td>0</td><td>577</td><td>2.9896</td><td>5.7192</td><td>193</td><td>3659.4404</td><td>1224.0416</td><td>0.0000</td><td>0.0000</td><td>2.0725</td><td>48.1865</td><td>49.7409</td><td>2.0725</td><td>0.5181</td><td>54.5130</td><td>2075.0000</td><td>97.4093</td><td>4.6632</td><td>56.7027</td><td>59.1216</td><td>95.9459</td><td>4.0541</td><td>1589.3514</td><td>0.3560</td><td>-1.2930</td><td></td><td></td><td>100.0000</td><td>97.9275</td><td>100.0000</td><td>100.0000</td><td>36944</td><td>6886</td><td>11209673</td><td>*****************...</td><td>*****************...</td><td>11253503</td></tr>\n",
       "</table>\n",
       "only showing top 5 rows\n"
      ],
      "text/plain": [
       "+--------------------+-----+----------------------+---------------+-----------+----------------+--------------+---------+------------------------+------------------------+--------------------------+--------------------------+-------------+-----------------+------------------+--------------------+-----------------------+----------+----------+--------------------+---------------------+---------------------------+--------------------------------------+-----------------------+------------------------+------------------------+-----------------+-------------------------+----------------------------------+-----------------------------------+-----------------------------+----------------------------------+------------------------------------------+---------------------------------------------+------------------------------+------------------------------------+--------------------+--------------------------------------+--------------------------------------------------+-----------------------------+-------------------+-------------------------+--------------------------------+--------+--------+--------------+--------------+----------------------------+--------------------------+--------------------------------+---------------------------+-------------------------------------+-------------------------------------+------------------------------------+---------------------------+---------------------------+---------------+\n",
       "|            geometry|   id|sector_area_square_kms|    sector_code|sector_type|city_code_census|city_code_ipvs|city_name|metropolitan_region_code|metropolitan_region_name|administrative_region_code|administrative_region_name|district_code|    district_name|census_sector_code|    sector_situation|is_subnormal_aglomerate|ipvs_group|households|households_permanent|improvised_households|people_permanent_households|average_residents_permanent_households|prop_0_5_age_population|total_responsible_people|average_household_income|per_capita_income|prop_households_no_income|prop_househols_one_eigth_sm_income|prop_households_one_halft_sm_income|prop_households_two_sm_income|prop_households_two_or_more_income|prop_private_households_one_half_sm_income|prop_private_households_one_quarter_sm_income|average_age_responsible_people|average_income_household_responsible|prop_literate_people|prop_responsible_people_up_to_30_years|prop_income_participation_in_household_responsible|average_age_women_responsible|prop_literate_women|prop_women_up_to_30_years|average_income_women_responsible|factor_1|factor_2|factor_1_rural|factor_2_rural|prop_households_access_water|prop_households_sanitation|prop_households_trash_collection|prop_households_electricity|population_collective_households_city|population_improvised_households_city|population_permanent_households_city|population_rural_areas_city|population_urban_areas_city|population_city|\n",
       "+--------------------+-----+----------------------+---------------+-----------+----------------+--------------+---------+------------------------+------------------------+--------------------------+--------------------------+-------------+-----------------+------------------+--------------------+-----------------------+----------+----------+--------------------+---------------------+---------------------------+--------------------------------------+-----------------------+------------------------+------------------------+-----------------+-------------------------+----------------------------------+-----------------------------------+-----------------------------+----------------------------------+------------------------------------------+---------------------------------------------+------------------------------+------------------------------------+--------------------+--------------------------------------+--------------------------------------------------+-----------------------------+-------------------+-------------------------+--------------------------------+--------+--------+--------------+--------------+----------------------------+--------------------------+--------------------------------+---------------------------+-------------------------------------+-------------------------------------+------------------------------------+---------------------------+---------------------------+---------------+\n",
       "|POLYGON ((-46.569...|43405|                  0.08|355030801000005|     URBANO|         3550308|       3550308|São Paulo|                     800|                       0|                       681|      REG METROPOLIT DE...|    355030801|        Água Rasa|   355030801000005|Área urbanizada d...|                  false|         3|       240|                 240|                    0|                        754|                                3.1417|                 7.1618|                     240|               2563.3958|         815.9350|                   3.3333|                            0.0000|                             9.1667|                      60.0000|                           27.5000|                                    9.1667|                                       0.8333|                       50.8958|                           1416.9000|             96.6667|                               10.4167|                                           55.2743|                      51.3832|            95.3271|                  11.2150|                        938.1402|  0.0821| -0.5106|              |              |                    100.0000|                  100.0000|                        100.0000|                   100.0000|                                36944|                                 6886|                            11209673|       *****************...|       *****************...|       11253503|\n",
       "|POLYGON ((-46.700...|43558|                  0.03|355030802000028|     URBANO|         3550308|       3550308|São Paulo|                     800|                       0|                       681|      REG METROPOLIT DE...|    355030802|Alto de Pinheiros|   355030802000028|Área urbanizada d...|                  false|         1|       177|                 177|                    0|                        394|                                2.2260|                 3.2995|                     177|               8323.2260|        3739.1142|                   3.3898|                            0.0000|                             1.1299|                       8.4746|                           87.0057|                                    1.1299|                                       0.5650|                       52.7684|                           5017.3333|             99.4350|                               10.7345|                                           60.2811|                      54.5169|            98.8764|                  12.3596|                       4285.4719|  2.2971|  0.0103|              |              |                    100.0000|                  100.0000|                        100.0000|                   100.0000|                                36944|                                 6886|                            11209673|       *****************...|       *****************...|       11253503|\n",
       "|POLYGON ((-46.675...|44007|                  0.06|355030806000016|     URBANO|         3550308|       3550308|São Paulo|                     800|                       0|                       681|      REG METROPOLIT DE...|    355030806|      Barra Funda|   355030806000016|Área urbanizada d...|                  false|         1|       135|                 135|                    0|                        356|                                2.6370|                 5.0562|                     135|               6132.4444|        2325.5056|                   1.4815|                            0.0000|                             0.0000|                      16.2963|                           82.2222|                                    0.0000|                                       0.0000|                       51.5704|                           3564.8296|            100.0000|                               17.0370|                                           58.1306|                      53.0133|           100.0000|                  18.6667|                       2499.2000|  1.6655|  0.4119|              |              |                    100.0000|                  100.0000|                        100.0000|                   100.0000|                                36944|                                 6886|                            11209673|       *****************...|       *****************...|       11253503|\n",
       "|POLYGON ((-46.599...|44200|                  0.12|355030808000029|     URBANO|         3550308|       3550308|São Paulo|                     800|                       0|                       681|      REG METROPOLIT DE...|    355030808|            Belém|   355030808000029|Área urbanizada d...|                  false|         3|       259|                 259|                    0|                        739|                                2.8533|                 5.4127|                     259|               3249.4479|        1138.8457|                   5.4054|                            0.3861|                             8.4942|                      37.8378|                           47.8764|                                    8.8803|                                       1.1583|                       49.7066|                           1867.7259|            100.0000|                               11.1969|                                           57.4783|                      51.2308|           100.0000|                  10.0000|                       1436.5462|  0.5398| -0.4063|              |              |                    100.0000|                  100.0000|                        100.0000|                   100.0000|                                36944|                                 6886|                            11209673|       *****************...|       *****************...|       11253503|\n",
       "|POLYGON ((-46.603...|44216|                  0.12|355030808000045|     URBANO|         3550308|       3550308|São Paulo|                     800|                       0|                       681|      REG METROPOLIT DE...|    355030808|            Belém|   355030808000045|Área urbanizada d...|                  false|         3|       193|                 193|                    0|                        577|                                2.9896|                 5.7192|                     193|               3659.4404|        1224.0416|                   0.0000|                            0.0000|                             2.0725|                      48.1865|                           49.7409|                                    2.0725|                                       0.5181|                       54.5130|                           2075.0000|             97.4093|                                4.6632|                                           56.7027|                      59.1216|            95.9459|                   4.0541|                       1589.3514|  0.3560| -1.2930|              |              |                    100.0000|                   97.9275|                        100.0000|                   100.0000|                                36944|                                 6886|                            11209673|       *****************...|       *****************...|       11253503|\n",
       "+--------------------+-----+----------------------+---------------+-----------+----------------+--------------+---------+------------------------+------------------------+--------------------------+--------------------------+-------------+-----------------+------------------+--------------------+-----------------------+----------+----------+--------------------+---------------------+---------------------------+--------------------------------------+-----------------------+------------------------+------------------------+-----------------+-------------------------+----------------------------------+-----------------------------------+-----------------------------+----------------------------------+------------------------------------------+---------------------------------------------+------------------------------+------------------------------------+--------------------+--------------------------------------+--------------------------------------------------+-----------------------------+-------------------+-------------------------+--------------------------------+--------+--------+--------------+--------------+----------------------------+--------------------------+--------------------------------+---------------------------+-------------------------------------+-------------------------------------+------------------------------------+---------------------------+---------------------------+---------------+\n",
       "only showing top 5 rows"
      ]
     },
     "execution_count": 33,
     "metadata": {},
     "output_type": "execute_result"
    }
   ],
   "source": [
    "# verifying the results:\n",
    "df_ipvs_clean"
   ]
  },
  {
   "cell_type": "code",
   "execution_count": 34,
   "metadata": {},
   "outputs": [],
   "source": [
    "# converting the data types:\n",
    "ipvs_types = {\n",
    "    \"sector_area_square_kms\": \"float\",\n",
    "    \"ipvs_group\": \"integer\",\n",
    "    \"households\": \"long\",\n",
    "    \"households_permanent\": \"long\",\n",
    "    \"improvised_households\": \"long\",\n",
    "    \"people_permanent_households\": \"long\",\n",
    "    \"average_residents_permanent_households\": \"double\",\n",
    "    \"prop_0_5_age_population\": \"double\",\n",
    "    \"total_responsible_people\": \"long\",\n",
    "    \"average_household_income\": \"double\",\n",
    "    \"per_capita_income\": \"double\",\n",
    "    \"prop_households_no_income\": \"double\",\n",
    "    \"prop_househols_one_eigth_sm_income\": \"double\",\n",
    "    \"prop_households_one_halft_sm_income\": \"double\",\n",
    "    \"prop_households_two_sm_income\": \"double\",\n",
    "    \"prop_households_two_or_more_income\": \"double\",\n",
    "    \"prop_private_households_one_half_sm_income\": \"double\",\n",
    "    \"prop_private_households_one_quarter_sm_income\": \"double\",\n",
    "    \"average_age_responsible_people\": \"double\",\n",
    "    \"average_income_household_responsible\": \"double\",\n",
    "    \"prop_literate_people\": \"double\",\n",
    "    \"prop_responsible_people_up_to_30_years\": \"double\",\n",
    "    \"prop_income_participation_in_household_responsible\": \"double\",\n",
    "    \"average_age_women_responsible\": \"double\",\n",
    "    \"factor_1\": \"double\",\n",
    "    \"factor_2\": \"double\",\n",
    "    \"factor_1_rural\": \"double\",\n",
    "    \"factor_2_rural\": \"double\",\n",
    "    \"prop_households_access_water\": \"double\",\n",
    "    \"prop_households_sanitation\": \"double\",\n",
    "    \"prop_households_trash_collection\": \"double\",\n",
    "    \"prop_households_electricity\": \"double\",\n",
    "}\n",
    "\n",
    "for col, new_type in ipvs_types.items():\n",
    "    df_ipvs_clean = df_ipvs_clean.withColumn(col, F.col(col).cast(new_type))"
   ]
  },
  {
   "cell_type": "code",
   "execution_count": 35,
   "metadata": {},
   "outputs": [
    {
     "name": "stdout",
     "output_type": "stream",
     "text": [
      "root\n",
      " |-- geometry: geometry (nullable = true)\n",
      " |-- id: string (nullable = true)\n",
      " |-- sector_area_square_kms: float (nullable = true)\n",
      " |-- sector_code: string (nullable = true)\n",
      " |-- sector_type: string (nullable = true)\n",
      " |-- city_code_census: string (nullable = true)\n",
      " |-- city_code_ipvs: string (nullable = true)\n",
      " |-- city_name: string (nullable = true)\n",
      " |-- metropolitan_region_code: string (nullable = true)\n",
      " |-- metropolitan_region_name: string (nullable = true)\n",
      " |-- administrative_region_code: string (nullable = true)\n",
      " |-- administrative_region_name: string (nullable = true)\n",
      " |-- district_code: string (nullable = true)\n",
      " |-- district_name: string (nullable = true)\n",
      " |-- census_sector_code: string (nullable = true)\n",
      " |-- sector_situation: string (nullable = true)\n",
      " |-- is_subnormal_aglomerate: boolean (nullable = false)\n",
      " |-- ipvs_group: integer (nullable = true)\n",
      " |-- households: long (nullable = true)\n",
      " |-- households_permanent: long (nullable = true)\n",
      " |-- improvised_households: long (nullable = true)\n",
      " |-- people_permanent_households: long (nullable = true)\n",
      " |-- average_residents_permanent_households: double (nullable = true)\n",
      " |-- prop_0_5_age_population: double (nullable = true)\n",
      " |-- total_responsible_people: long (nullable = true)\n",
      " |-- average_household_income: double (nullable = true)\n",
      " |-- per_capita_income: double (nullable = true)\n",
      " |-- prop_households_no_income: double (nullable = true)\n",
      " |-- prop_househols_one_eigth_sm_income: double (nullable = true)\n",
      " |-- prop_households_one_halft_sm_income: double (nullable = true)\n",
      " |-- prop_households_two_sm_income: double (nullable = true)\n",
      " |-- prop_households_two_or_more_income: double (nullable = true)\n",
      " |-- prop_private_households_one_half_sm_income: double (nullable = true)\n",
      " |-- prop_private_households_one_quarter_sm_income: double (nullable = true)\n",
      " |-- average_age_responsible_people: double (nullable = true)\n",
      " |-- average_income_household_responsible: double (nullable = true)\n",
      " |-- prop_literate_people: double (nullable = true)\n",
      " |-- prop_responsible_people_up_to_30_years: double (nullable = true)\n",
      " |-- prop_income_participation_in_household_responsible: double (nullable = true)\n",
      " |-- average_age_women_responsible: double (nullable = true)\n",
      " |-- prop_literate_women: string (nullable = true)\n",
      " |-- prop_women_up_to_30_years: string (nullable = true)\n",
      " |-- average_income_women_responsible: string (nullable = true)\n",
      " |-- factor_1: double (nullable = true)\n",
      " |-- factor_2: double (nullable = true)\n",
      " |-- factor_1_rural: double (nullable = true)\n",
      " |-- factor_2_rural: double (nullable = true)\n",
      " |-- prop_households_access_water: double (nullable = true)\n",
      " |-- prop_households_sanitation: double (nullable = true)\n",
      " |-- prop_households_trash_collection: double (nullable = true)\n",
      " |-- prop_households_electricity: double (nullable = true)\n",
      " |-- population_collective_households_city: string (nullable = true)\n",
      " |-- population_improvised_households_city: string (nullable = true)\n",
      " |-- population_permanent_households_city: string (nullable = true)\n",
      " |-- population_rural_areas_city: string (nullable = true)\n",
      " |-- population_urban_areas_city: string (nullable = true)\n",
      " |-- population_city: string (nullable = true)\n",
      "\n"
     ]
    }
   ],
   "source": [
    "df_ipvs_clean.printSchema()"
   ]
  },
  {
   "cell_type": "markdown",
   "metadata": {},
   "source": [
    "## 1.7 Demographic Density"
   ]
  },
  {
   "cell_type": "code",
   "execution_count": 50,
   "metadata": {},
   "outputs": [
    {
     "data": {
      "text/html": [
       "<table border='1'>\n",
       "<tr><th>geometry</th><th>id</th><th>setor_cens</th><th>populacao</th><th>area_hect</th><th>habit_hect</th><th>ano_densid</th><th>an_censo</th></tr>\n",
       "<tr><td>POLYGON ((317440....</td><td>32355</td><td>355030865000149</td><td>573</td><td>0.1006830</td><td>5691.1343180</td><td>2010</td><td>2010</td></tr>\n",
       "<tr><td>POLYGON ((317403....</td><td>32356</td><td>355030865000148</td><td>156</td><td>0.2265340</td><td>688.6377300</td><td>2010</td><td>2010</td></tr>\n",
       "<tr><td>POLYGON ((345980....</td><td>24960</td><td>355030864000087</td><td>350</td><td>5.2010650</td><td>67.2939120</td><td>2010</td><td>2010</td></tr>\n",
       "<tr><td>POLYGON ((346080....</td><td>24961</td><td>355030864000088</td><td>306</td><td>2.9628620</td><td>103.2785150</td><td>2010</td><td>2010</td></tr>\n",
       "<tr><td>POLYGON ((346465....</td><td>24964</td><td>355030864000058</td><td>997</td><td>8.8762390</td><td>112.3223470</td><td>2010</td><td>2010</td></tr>\n",
       "</table>\n",
       "only showing top 5 rows\n"
      ],
      "text/plain": [
       "+--------------------+-----+---------------+---------+---------+------------+----------+--------+\n",
       "|            geometry|   id|     setor_cens|populacao|area_hect|  habit_hect|ano_densid|an_censo|\n",
       "+--------------------+-----+---------------+---------+---------+------------+----------+--------+\n",
       "|POLYGON ((317440....|32355|355030865000149|      573|0.1006830|5691.1343180|      2010|    2010|\n",
       "|POLYGON ((317403....|32356|355030865000148|      156|0.2265340| 688.6377300|      2010|    2010|\n",
       "|POLYGON ((345980....|24960|355030864000087|      350|5.2010650|  67.2939120|      2010|    2010|\n",
       "|POLYGON ((346080....|24961|355030864000088|      306|2.9628620| 103.2785150|      2010|    2010|\n",
       "|POLYGON ((346465....|24964|355030864000058|      997|8.8762390| 112.3223470|      2010|    2010|\n",
       "+--------------------+-----+---------------+---------+---------+------------+----------+--------+\n",
       "only showing top 5 rows"
      ]
     },
     "execution_count": 50,
     "metadata": {},
     "output_type": "execute_result"
    }
   ],
   "source": [
    "# shapefiles for demographic density:\n",
    "density_rdd = ShapefileReader.readToGeometryRDD(\n",
    "    sc=spark, inputPath=RAW_DATA_DIR + \"sp_layers/demographic_density/*\"\n",
    ")\n",
    "\n",
    "df_density = Adapter.toDf(density_rdd, spark)\n",
    "df_density.createOrReplaceTempView(\"tb_density\")\n",
    "\n",
    "# verifying the density shapes:\n",
    "df_density"
   ]
  },
  {
   "cell_type": "code",
   "execution_count": 51,
   "metadata": {},
   "outputs": [],
   "source": [
    "# converting the coordinate system in the district file:\n",
    "Q_DEM_DENSITY_CONV = \"\"\"\n",
    "SELECT \n",
    "    ST_FlipCoordinates(ST_Transform(A.geometry, 'epsg:29193','epsg:4326')) as geometry,\n",
    "    A.setor_cens as sector_code,\n",
    "    CAST(A.populacao as double) as population,\n",
    "    CAST(A.area_hect as double) as area_in_hectares,\n",
    "    CAST(A.habit_hect as double) as population_density\n",
    "FROM tb_density as A\n",
    "\"\"\"\n",
    "\n",
    "df_density = spark.sql(Q_DEM_DENSITY_CONV)\n",
    "df_density.createOrReplaceTempView(\"tb_density\")"
   ]
  },
  {
   "cell_type": "markdown",
   "metadata": {},
   "source": [
    "## 1.8 Census Codebook\n",
    "The codebook is a master file that contains the name of the variables in respect to their original locations and meaning in the raw data. We will use these to give more meaningful names to the many census variables."
   ]
  },
  {
   "cell_type": "code",
   "execution_count": 53,
   "metadata": {},
   "outputs": [],
   "source": [
    "# loading the codebook from the census data\n",
    "DATA_DOC_DIR = \"../references/documentation/\"\n",
    "\n",
    "df_codebook = spark.read.json(DATA_DOC_DIR + \"ibge/codebook_features_selected.json\")"
   ]
  },
  {
   "cell_type": "code",
   "execution_count": 54,
   "metadata": {},
   "outputs": [],
   "source": [
    "# we will normalize the data in the codebook such that we can use it to match the variables in the other datasets:\n",
    "new_cols = {\n",
    "    \"Descrição da Variável\": \"variable_description\",\n",
    "    \"Nome da Variável\": \"variable_name\",\n",
    "    \"Tabela\": \"dataset\",\n",
    "}\n",
    "\n",
    "for original_name, new_name in new_cols.items():\n",
    "    df_codebook = df_codebook.withColumnRenamed(original_name, new_name)"
   ]
  },
  {
   "cell_type": "code",
   "execution_count": 55,
   "metadata": {},
   "outputs": [
    {
     "data": {
      "text/plain": [
       "4107"
      ]
     },
     "execution_count": 55,
     "metadata": {},
     "output_type": "execute_result"
    }
   ],
   "source": [
    "# codebook yields:\n",
    "df_codebook.count()  # there are a total of 4107 variables in all the datasets"
   ]
  },
  {
   "cell_type": "code",
   "execution_count": 56,
   "metadata": {},
   "outputs": [
    {
     "data": {
      "text/html": [
       "<table border='1'>\n",
       "<tr><th>dataset_name_pt</th><th>is_selected</th><th>normalized_variable</th><th>simplified_variable_name</th><th>variable_description_en</th><th>variable_description_pt</th><th>variable_name</th></tr>\n",
       "<tr><td>Básico</td><td>1</td><td>sector_code</td><td>cod_setor</td><td>Sector code</td><td>Código do setor</td><td>Cod_setor</td></tr>\n",
       "<tr><td>Básico</td><td>1</td><td>code_large_region...</td><td>cod_grandes_regioes</td><td>Code of Large Reg...</td><td>Código das Grande...</td><td>Cod_Grandes Regiões</td></tr>\n",
       "<tr><td>Básico</td><td>1</td><td>name_large_region...</td><td>nome_grande_regiao</td><td>Name of large reg...</td><td>Nome das Grandes ...</td><td>Nome_Grande_Regiao</td></tr>\n",
       "<tr><td>Básico</td><td>1</td><td>federation_unit_code</td><td>cod_uf</td><td>Federation Unit Code</td><td>Código da Unidade...</td><td>Cod_UF</td></tr>\n",
       "<tr><td>Básico</td><td>1</td><td>name_federation_unit</td><td>nome_da_uf</td><td>Name of the Feder...</td><td>Nome da Unidade d...</td><td>Nome_da_UF</td></tr>\n",
       "</table>\n",
       "only showing top 5 rows\n"
      ],
      "text/plain": [
       "+---------------+-----------+--------------------+------------------------+-----------------------+-----------------------+-------------------+\n",
       "|dataset_name_pt|is_selected| normalized_variable|simplified_variable_name|variable_description_en|variable_description_pt|      variable_name|\n",
       "+---------------+-----------+--------------------+------------------------+-----------------------+-----------------------+-------------------+\n",
       "|         Básico|          1|         sector_code|               cod_setor|            Sector code|        Código do setor|          Cod_setor|\n",
       "|         Básico|          1|code_large_region...|     cod_grandes_regioes|   Code of Large Reg...|   Código das Grande...|Cod_Grandes Regiões|\n",
       "|         Básico|          1|name_large_region...|      nome_grande_regiao|   Name of large reg...|   Nome das Grandes ...| Nome_Grande_Regiao|\n",
       "|         Básico|          1|federation_unit_code|                  cod_uf|   Federation Unit Code|   Código da Unidade...|             Cod_UF|\n",
       "|         Básico|          1|name_federation_unit|              nome_da_uf|   Name of the Feder...|   Nome da Unidade d...|         Nome_da_UF|\n",
       "+---------------+-----------+--------------------+------------------------+-----------------------+-----------------------+-------------------+\n",
       "only showing top 5 rows"
      ]
     },
     "execution_count": 56,
     "metadata": {},
     "output_type": "execute_result"
    }
   ],
   "source": [
    "# verifying the dataset:\n",
    "df_codebook"
   ]
  },
  {
   "cell_type": "code",
   "execution_count": 57,
   "metadata": {},
   "outputs": [],
   "source": [
    "# building udfs from the utilities:\n",
    "normalize_entities_udf = F.udf(normalize_entities)\n",
    "\n",
    "df_codebook = df_codebook.withColumn(\n",
    "    \"dataset_normalized\", normalize_entities_udf(F.col(\"dataset_name_pt\"))\n",
    ")"
   ]
  },
  {
   "cell_type": "code",
   "execution_count": 58,
   "metadata": {},
   "outputs": [],
   "source": [
    "# fixing the order of columns for the codebook:\n",
    "df_codebook_subset = df_codebook.select(\n",
    "    \"dataset_normalized\", \"simplified_variable_name\", \"normalized_variable\"\n",
    ")\n",
    "\n",
    "# generating a lookup table base on the dataset : original_name relation\n",
    "map_rdd = df_codebook_subset.rdd.groupBy(lambda row: row[\"dataset_normalized\"]).map(\n",
    "    lambda row: (row[0], {variable[1]: variable[2] for variable in row[1]})\n",
    ")\n",
    "\n",
    "codebook_lookup = dict(map_rdd.collect())"
   ]
  },
  {
   "cell_type": "markdown",
   "metadata": {},
   "source": [
    "## 1.9 Census Data\n",
    "The Census data itself is broken up in several different files that represent the different entities of the data. For example:\n",
    "\n",
    "1. Domicilio{N}: refers to data at the `household`. Things like number of households in a sector, number of residents and such is located here;\n",
    "2. Pessoa{N}: refers to the `person` data. Here we can find information about the sociodemographic make-up of the sector, such as gender distributions, number of children, race profiles, et cetera;\n",
    "\n",
    "... and so on.\n",
    "\n",
    "I will process all the files related to the city of São Paulo and gather them into the appropriate entities. I also went ahead and pre-selected several features from the codebook, such that we won't use all of the available features (`4107` according to the codebook)."
   ]
  },
  {
   "cell_type": "markdown",
   "metadata": {},
   "source": [
    "# 2. Processing the Census Data"
   ]
  },
  {
   "cell_type": "code",
   "execution_count": 223,
   "metadata": {},
   "outputs": [],
   "source": [
    "# defining a blacklist of column names to not convert data types:\n",
    "\n",
    "blacklist = [\n",
    "    \"cod_bairro\",\n",
    "    \"cod_distrito\",\n",
    "    \"cod_grandes_regioes\",\n",
    "    \"cod_meso\",\n",
    "    \"cod_micro\",\n",
    "    \"cod_municipio\",\n",
    "    \"cod_rm\",\n",
    "    \"cod_setor\",\n",
    "    \"cod_subdistrito\",\n",
    "    \"cod_uf\",\n",
    "    \"nome_da_meso\",\n",
    "    \"nome_da_micro\",\n",
    "    \"nome_da_rm\",\n",
    "    \"nome_da_uf\",\n",
    "    \"nome_do_bairro\",\n",
    "    \"nome_do_distrito\",\n",
    "    \"nome_do_municipio\",\n",
    "    \"nome_do_subdistrito\",\n",
    "    \"nome_grande_regiao\",\n",
    "    \"situacao_setor\",\n",
    "    \"tipo_setor\",\n",
    "    \"situacao\",\n",
    "    \"setor_precoleta\",\n",
    "]"
   ]
  },
  {
   "cell_type": "code",
   "execution_count": 224,
   "metadata": {},
   "outputs": [],
   "source": [
    "# list all the files available on the census data directory:\n",
    "census_files = sorted(glob(RAW_DATA_DIR + \"sp_census/universe_results/*.csv\"))\n",
    "BASE_PATH = RAW_DATA_DIR + \"sp_census/universe_results/\"\n",
    "\n",
    "# saving the resulting dataframes to a processed stage for further handling:\n",
    "PROCESSED_CENSUS_DATA_DIR = \"../data/processed/sp_census/raw_datasets/\"\n",
    "\n",
    "# instantiating the UDF for replacing decimal separators:\n",
    "replace_decimal_separator_udf = F.udf(replace_decimal_separator)\n",
    "census_data = []"
   ]
  },
  {
   "cell_type": "code",
   "execution_count": 225,
   "metadata": {},
   "outputs": [
    {
     "name": "stderr",
     "output_type": "stream",
     "text": [
      "  0%|          | 0/26 [00:00<?, ?it/s]"
     ]
    },
    {
     "name": "stdout",
     "output_type": "stream",
     "text": [
      "Processing file: ../data/raw/sp_census/universe_results/Basico_SP1.csv\n",
      "Dropping columns [] - not present in the codebook\n",
      "Dropping columns [] for being duplicates\n"
     ]
    },
    {
     "name": "stderr",
     "output_type": "stream",
     "text": [
      "  4%|▍         | 1/26 [00:00<00:23,  1.09it/s]"
     ]
    },
    {
     "name": "stdout",
     "output_type": "stream",
     "text": [
      "Processing file: ../data/raw/sp_census/universe_results/Domicilio01_SP1.csv\n",
      "Dropping columns [] - not present in the codebook\n",
      "Dropping columns ['V026', 'V120', 'V202', 'V206', 'V025', 'V198', 'V041', 'V203', 'V204', 'V119', 'V126', 'V125', 'V039', 'V208', 'V004', 'V139', 'V035'] for being duplicates\n"
     ]
    },
    {
     "name": "stderr",
     "output_type": "stream",
     "text": [
      "  8%|▊         | 2/26 [00:44<10:24, 26.03s/it]"
     ]
    },
    {
     "name": "stdout",
     "output_type": "stream",
     "text": [
      "Processing file: ../data/raw/sp_census/universe_results/Domicilio02_SP1.csv\n",
      "Dropping columns [] - not present in the codebook\n",
      "Dropping columns ['V002', 'V098', 'V046', 'V054', 'V090', 'V010'] for being duplicates\n"
     ]
    },
    {
     "name": "stderr",
     "output_type": "stream",
     "text": [
      " 12%|█▏        | 3/26 [00:55<07:18, 19.05s/it]"
     ]
    },
    {
     "name": "stdout",
     "output_type": "stream",
     "text": [
      "Processing file: ../data/raw/sp_census/universe_results/DomicilioRenda_SP1.csv\n",
      "Dropping columns [] - not present in the codebook\n",
      "Dropping columns [] for being duplicates\n"
     ]
    },
    {
     "name": "stderr",
     "output_type": "stream",
     "text": [
      " 15%|█▌        | 4/26 [00:55<04:18, 11.75s/it]"
     ]
    },
    {
     "name": "stdout",
     "output_type": "stream",
     "text": [
      "Processing file: ../data/raw/sp_census/universe_results/Entorno01_SP1.csv\n",
      "Dropping columns ['Cod_Grandes Regiões', 'Cod_RM', 'Cod_UF', 'Cod_bairro', 'Cod_distrito', 'Cod_meso', 'Cod_micro', 'Cod_municipio', 'Cod_subdistrito', 'Nome_Grande_Regiao', 'Nome_da_RM', 'Nome_da_UF ', 'Nome_da_meso', 'Nome_da_micro', 'Nome_do_bairro', 'Nome_do_distrito', 'Nome_do_municipio', 'Nome_do_subdistrito', 'Setor_Precoleta'] - not present in the codebook\n",
      "Dropping columns ['V022', 'V007', 'V003', 'V023', 'V041', 'V103', 'V057', 'V102', 'V162', 'V059', 'Situacao_setor', 'V004', 'Cod_setor', 'V014', 'V062', 'V002', 'V021', 'V020', 'V063', 'V016', 'V039', 'V163', 'V006'] for being duplicates\n"
     ]
    },
    {
     "name": "stderr",
     "output_type": "stream",
     "text": [
      " 19%|█▉        | 5/26 [01:20<05:45, 16.46s/it]"
     ]
    },
    {
     "name": "stdout",
     "output_type": "stream",
     "text": [
      "Processing file: ../data/raw/sp_census/universe_results/Entorno02_SP1.csv\n",
      "Dropping columns ['Cod_Grandes Regiões', 'Cod_RM', 'Cod_UF', 'Cod_bairro', 'Cod_distrito', 'Cod_meso', 'Cod_micro', 'Cod_municipio', 'Cod_subdistrito', 'Nome_Grande_Regiao', 'Nome_da_RM', 'Nome_da_UF ', 'Nome_da_meso', 'Nome_da_micro', 'Nome_do_bairro', 'Nome_do_distrito', 'Nome_do_municipio', 'Nome_do_subdistrito', 'Setor_Precoleta'] - not present in the codebook\n",
      "Dropping columns ['V206', 'V202', 'V203', 'V207', 'Situacao_setor', 'Cod_setor'] for being duplicates\n"
     ]
    },
    {
     "name": "stderr",
     "output_type": "stream",
     "text": [
      " 23%|██▎       | 6/26 [01:59<08:03, 24.16s/it]"
     ]
    },
    {
     "name": "stdout",
     "output_type": "stream",
     "text": [
      "Processing file: ../data/raw/sp_census/universe_results/Entorno03_SP1.csv\n",
      "Dropping columns ['Cod_Grandes Regiões', 'Cod_RM', 'Cod_UF', 'Cod_bairro', 'Cod_distrito', 'Cod_meso', 'Cod_micro', 'Cod_municipio', 'Cod_subdistrito', 'Nome_Grande_Regiao', 'Nome_da_RM', 'Nome_da_UF ', 'Nome_da_meso', 'Nome_da_micro', 'Nome_do_bairro', 'Nome_do_distrito', 'Nome_do_municipio', 'Nome_do_subdistrito', 'Setor_Precoleta'] - not present in the codebook\n",
      "Dropping columns ['V429', 'V477', 'V479', 'V453', 'V475', 'V457', 'V431', 'Situacao_setor', 'V478', 'V471', 'V480', 'Cod_setor'] for being duplicates\n"
     ]
    },
    {
     "name": "stderr",
     "output_type": "stream",
     "text": [
      " 27%|██▋       | 7/26 [02:28<08:05, 25.56s/it]"
     ]
    },
    {
     "name": "stdout",
     "output_type": "stream",
     "text": [
      "Processing file: ../data/raw/sp_census/universe_results/Entorno04_SP1.csv\n",
      "Dropping columns ['Cod_Grandes Regiões', 'Cod_RM', 'Cod_UF', 'Cod_bairro', 'Cod_distrito', 'Cod_meso', 'Cod_micro', 'Cod_municipio', 'Cod_subdistrito', 'Nome_Grande_Regiao', 'Nome_da_RM', 'Nome_da_UF ', 'Nome_da_meso', 'Nome_da_micro', 'Nome_do_bairro', 'Nome_do_distrito', 'Nome_do_municipio', 'Nome_do_subdistrito', 'Setor_Precoleta'] - not present in the codebook\n",
      "Dropping columns ['V693', 'V694', 'Cod_setor', 'Situacao_setor'] for being duplicates\n"
     ]
    },
    {
     "name": "stderr",
     "output_type": "stream",
     "text": [
      " 31%|███       | 8/26 [03:08<09:03, 30.21s/it]"
     ]
    },
    {
     "name": "stdout",
     "output_type": "stream",
     "text": [
      "Processing file: ../data/raw/sp_census/universe_results/Entorno05_SP1.csv\n",
      "Dropping columns ['Cod_Grandes Regiões', 'Cod_RM', 'Cod_UF', 'Cod_bairro', 'Cod_distrito', 'Cod_meso', 'Cod_micro', 'Cod_municipio', 'Cod_subdistrito', 'Nome_Grande_Regiao', 'Nome_da_RM', 'Nome_da_UF ', 'Nome_da_meso', 'Nome_da_micro', 'Nome_do_bairro', 'Nome_do_distrito', 'Nome_do_municipio', 'Nome_do_subdistrito', 'Setor_Precoleta'] - not present in the codebook\n",
      "Dropping columns ['Cod_setor', 'Situacao_setor'] for being duplicates\n"
     ]
    },
    {
     "name": "stderr",
     "output_type": "stream",
     "text": [
      " 35%|███▍      | 9/26 [03:49<09:31, 33.60s/it]"
     ]
    },
    {
     "name": "stdout",
     "output_type": "stream",
     "text": [
      "Processing file: ../data/raw/sp_census/universe_results/Pessoa01_SP1.csv\n",
      "Dropping columns [] - not present in the codebook\n",
      "Dropping columns [] for being duplicates\n"
     ]
    },
    {
     "name": "stderr",
     "output_type": "stream",
     "text": [
      " 38%|███▊      | 10/26 [03:54<06:34, 24.65s/it]"
     ]
    },
    {
     "name": "stdout",
     "output_type": "stream",
     "text": [
      "Processing file: ../data/raw/sp_census/universe_results/Pessoa02_SP1.csv\n",
      "Dropping columns ['V171', 'V172', 'V173', 'V174', 'V175', 'V176', 'V177', 'V178', 'V179', 'V180', 'V181', 'V182', 'V183', 'V184', 'V185', 'V186', 'V187', 'V188', 'V189', 'V190', 'V191', 'V192', 'V193', 'V194', 'V195', 'V196', 'V197', 'V198', 'V199', 'V200', 'V201', 'V202', 'V203', 'V204', 'V205', 'V206', 'V207', 'V208', 'V209', 'V210', 'V211', 'V212', 'V213', 'V214', 'V215', 'V216', 'V217', 'V218', 'V219', 'V220', 'V221', 'V222', 'V223', 'V224', 'V225', 'V226', 'V227', 'V228', 'V229', 'V230', 'V231', 'V232', 'V233', 'V234', 'V235', 'V236', 'V237', 'V238', 'V239', 'V240', 'V241', 'V242', 'V243', 'V244', 'V245', 'V246', 'V247', 'V248', 'V249', 'V250', 'V251', 'V252', 'V253', 'V254', 'V255'] - not present in the codebook\n",
      "Dropping columns ['V105', 'V094'] for being duplicates\n"
     ]
    },
    {
     "name": "stderr",
     "output_type": "stream",
     "text": [
      " 42%|████▏     | 11/26 [03:58<04:37, 18.49s/it]"
     ]
    },
    {
     "name": "stdout",
     "output_type": "stream",
     "text": [
      "Processing file: ../data/raw/sp_census/universe_results/Pessoa03_SP1.csv\n",
      "Dropping columns ['V002'] - not present in the codebook\n",
      "Dropping columns [] for being duplicates\n"
     ]
    },
    {
     "name": "stderr",
     "output_type": "stream",
     "text": [
      " 46%|████▌     | 12/26 [04:55<07:04, 30.30s/it]"
     ]
    },
    {
     "name": "stdout",
     "output_type": "stream",
     "text": [
      "Processing file: ../data/raw/sp_census/universe_results/Pessoa04_SP1.csv\n",
      "Dropping columns [] - not present in the codebook\n",
      "Dropping columns [] for being duplicates\n"
     ]
    },
    {
     "name": "stderr",
     "output_type": "stream",
     "text": [
      " 50%|█████     | 13/26 [05:12<05:41, 26.25s/it]"
     ]
    },
    {
     "name": "stdout",
     "output_type": "stream",
     "text": [
      "Processing file: ../data/raw/sp_census/universe_results/Pessoa05_SP1.csv\n",
      "Dropping columns [] - not present in the codebook\n",
      "Dropping columns [] for being duplicates\n"
     ]
    },
    {
     "name": "stderr",
     "output_type": "stream",
     "text": [
      " 54%|█████▍    | 14/26 [05:13<03:41, 18.44s/it]"
     ]
    },
    {
     "name": "stdout",
     "output_type": "stream",
     "text": [
      "Processing file: ../data/raw/sp_census/universe_results/Pessoa06_SP1.csv\n",
      "Dropping columns [] - not present in the codebook\n",
      "Dropping columns [] for being duplicates\n"
     ]
    },
    {
     "name": "stderr",
     "output_type": "stream",
     "text": [
      " 58%|█████▊    | 15/26 [05:50<04:25, 24.17s/it]"
     ]
    },
    {
     "name": "stdout",
     "output_type": "stream",
     "text": [
      "Processing file: ../data/raw/sp_census/universe_results/Pessoa07_SP1.csv\n",
      "Dropping columns [] - not present in the codebook\n",
      "Dropping columns ['V036', 'V202', 'V203', 'V042', 'V041', 'V189', 'V195', 'V194', 'V015', 'V161', 'V049', 'V168', 'V008', 'V050'] for being duplicates\n"
     ]
    },
    {
     "name": "stderr",
     "output_type": "stream",
     "text": [
      " 62%|██████▏   | 16/26 [06:18<04:13, 25.31s/it]"
     ]
    },
    {
     "name": "stdout",
     "output_type": "stream",
     "text": [
      "Processing file: ../data/raw/sp_census/universe_results/Pessoa08_SP1.csv\n",
      "Dropping columns ['Cod_setor', 'V255'] - not present in the codebook\n",
      "Dropping columns ['V206', 'V086', 'V064', 'V229', 'V251', 'V096', 'V227', 'V075', 'V228', 'V236', 'V209', 'V055', 'V091', 'V097', 'V218', 'V226', 'V084', 'V052', 'V242', 'V098', 'V054', 'V207', 'V053', 'V057', 'V215', 'V071', 'V083', 'V065', 'V239', 'V100', 'V082', 'V073', 'V216', 'V080', 'V205', 'V089', 'V059', 'V224', 'V245', 'V210', 'V223', 'V070', 'V058', 'V067', 'V244', 'V213', 'V062', 'V253', 'V237', 'V249', 'V060', 'V076', 'V063', 'V211', 'V056', 'V212', 'V250', 'V217', 'V208', 'V092', 'V220'] for being duplicates\n"
     ]
    },
    {
     "name": "stderr",
     "output_type": "stream",
     "text": [
      " 65%|██████▌   | 17/26 [06:54<04:17, 28.56s/it]"
     ]
    },
    {
     "name": "stdout",
     "output_type": "stream",
     "text": [
      "Processing file: ../data/raw/sp_census/universe_results/Pessoa09_SP1.csv\n",
      "Dropping columns [] - not present in the codebook\n",
      "Dropping columns ['V161', 'V157', 'V172', 'V168'] for being duplicates\n"
     ]
    },
    {
     "name": "stderr",
     "output_type": "stream",
     "text": [
      " 69%|██████▉   | 18/26 [07:44<04:38, 34.86s/it]"
     ]
    },
    {
     "name": "stdout",
     "output_type": "stream",
     "text": [
      "Processing file: ../data/raw/sp_census/universe_results/Pessoa10_SP1.csv\n",
      "Dropping columns [] - not present in the codebook\n",
      "Dropping columns [] for being duplicates\n"
     ]
    },
    {
     "name": "stderr",
     "output_type": "stream",
     "text": [
      " 73%|███████▎  | 19/26 [07:44<02:51, 24.45s/it]"
     ]
    },
    {
     "name": "stdout",
     "output_type": "stream",
     "text": [
      "Processing file: ../data/raw/sp_census/universe_results/Pessoa11_SP1.csv\n",
      "Dropping columns [] - not present in the codebook\n",
      "Dropping columns [] for being duplicates\n"
     ]
    },
    {
     "name": "stderr",
     "output_type": "stream",
     "text": [
      " 77%|███████▋  | 20/26 [07:56<02:04, 20.78s/it]"
     ]
    },
    {
     "name": "stdout",
     "output_type": "stream",
     "text": [
      "Processing file: ../data/raw/sp_census/universe_results/Pessoa12_SP1.csv\n",
      "Dropping columns [] - not present in the codebook\n",
      "Dropping columns [] for being duplicates\n"
     ]
    },
    {
     "name": "stderr",
     "output_type": "stream",
     "text": [
      " 81%|████████  | 21/26 [08:08<01:30, 18.18s/it]"
     ]
    },
    {
     "name": "stdout",
     "output_type": "stream",
     "text": [
      "Processing file: ../data/raw/sp_census/universe_results/Pessoa13_SP1.csv\n",
      "Dropping columns [] - not present in the codebook\n",
      "Dropping columns [] for being duplicates\n"
     ]
    },
    {
     "name": "stderr",
     "output_type": "stream",
     "text": [
      " 85%|████████▍ | 22/26 [08:20<01:05, 16.35s/it]"
     ]
    },
    {
     "name": "stdout",
     "output_type": "stream",
     "text": [
      "Processing file: ../data/raw/sp_census/universe_results/PessoaRenda_SP1.csv\n",
      "Dropping columns [] - not present in the codebook\n",
      "Dropping columns [] for being duplicates\n"
     ]
    },
    {
     "name": "stderr",
     "output_type": "stream",
     "text": [
      " 88%|████████▊ | 23/26 [08:33<00:45, 15.15s/it]"
     ]
    },
    {
     "name": "stdout",
     "output_type": "stream",
     "text": [
      "Processing file: ../data/raw/sp_census/universe_results/Responsavel01_SP1.csv\n",
      "Dropping columns [] - not present in the codebook\n",
      "Dropping columns [] for being duplicates\n"
     ]
    },
    {
     "name": "stderr",
     "output_type": "stream",
     "text": [
      " 92%|█████████▏| 24/26 [08:40<00:25, 12.86s/it]"
     ]
    },
    {
     "name": "stdout",
     "output_type": "stream",
     "text": [
      "Processing file: ../data/raw/sp_census/universe_results/Responsavel02_SP1.csv\n",
      "Dropping columns [] - not present in the codebook\n",
      "Dropping columns [] for being duplicates\n"
     ]
    },
    {
     "name": "stderr",
     "output_type": "stream",
     "text": [
      " 96%|█████████▌| 25/26 [09:20<00:20, 20.80s/it]"
     ]
    },
    {
     "name": "stdout",
     "output_type": "stream",
     "text": [
      "Processing file: ../data/raw/sp_census/universe_results/ResponsavelRenda_SP1.csv\n",
      "Dropping columns [] - not present in the codebook\n",
      "Dropping columns ['V052', 'V085', 'V019', 'V118', 'V063', 'V129'] for being duplicates\n"
     ]
    },
    {
     "name": "stderr",
     "output_type": "stream",
     "text": [
      "100%|██████████| 26/26 [09:31<00:00, 21.97s/it]\n"
     ]
    }
   ],
   "source": [
    "for file in tqdm(census_files):\n",
    "\n",
    "    print(f\"Processing file: {file}\")\n",
    "\n",
    "    # fixing names of the original tables\n",
    "    dataset_name = (\n",
    "        file.split(\"/\")[-1].replace(\".csv\", \"\").replace(\"SP1\", \"\").replace(\"_\", \"\")\n",
    "    )\n",
    "\n",
    "    # normalizes the text data for the dataset\n",
    "    dataset_name = normalize_entities(dataset_name)\n",
    "\n",
    "    # loading the raw csv file\n",
    "    df_temp = spark.read.csv(\n",
    "        file,\n",
    "        header=True,\n",
    "        sep=\";\",\n",
    "        inferSchema=False,\n",
    "        encoding=\"ISO-8859-1\",\n",
    "    )\n",
    "\n",
    "    # dropping duplicated columns (we can't do much about these)\n",
    "    df_temp = drop_invalid_census_columns(df_temp, codebook_lookup, dataset_name)\n",
    "\n",
    "    # retrieving the columns:\n",
    "    original_columns = sorted(df_temp.columns)\n",
    "\n",
    "    # normalize column names:\n",
    "    normalized_columns = list(map(clean_census_column_name, original_columns))\n",
    "\n",
    "    # looking up column names:\n",
    "    new_columns = list(\n",
    "        map(lambda col: codebook_lookup[dataset_name][col], normalized_columns)\n",
    "    )\n",
    "\n",
    "    # get columns with duplicates:\n",
    "    cols_map = dict(zip(normalized_columns, new_columns))\n",
    "\n",
    "    # iterating over the columns to replace with the new ones:\n",
    "    for i in range(len(original_columns)):\n",
    "\n",
    "        input_col = original_columns[i]\n",
    "        check_col = clean_census_column_name(input_col)\n",
    "        output_col = new_columns[i]\n",
    "\n",
    "        try:\n",
    "\n",
    "            if check_col not in blacklist:\n",
    "\n",
    "                # renames the column:\n",
    "                df_temp = df_temp.withColumnRenamed(input_col, output_col)\n",
    "\n",
    "                # in this case, convert the data types to float after replacing decimal separators:\n",
    "                df_temp = df_temp.withColumn(\n",
    "                    output_col, replace_decimal_separator_udf(F.col(output_col))\n",
    "                ).withColumn(output_col, F.col(output_col).cast(\"double\"))\n",
    "\n",
    "            else:\n",
    "                df_temp = df_temp.withColumnRenamed(input_col, output_col)\n",
    "\n",
    "        except Exception as e:\n",
    "            print(f\"Dropping column {col} as it could not be processed: {e}\")\n",
    "\n",
    "            df_temp.drop(input_col)\n",
    "\n",
    "    # using the helper function to save the file:\n",
    "    OUTPUT_NAME = f\"tb_{dataset_name}\"\n",
    "\n",
    "    save_to_filesystem(\n",
    "        df_temp, PROCESSED_CENSUS_DATA_DIR, OUTPUT_NAME, OUTPUT_NAME + \".parquet\"\n",
    "    )"
   ]
  },
  {
   "cell_type": "markdown",
   "metadata": {},
   "source": [
    "# 3. Summarizing the Polygon Data\n",
    "In order to simplify the operations with Polygon data at the lowest level (sector), we will add a helper column as an approximation of the geospatial reference of the sector by calculating its centroid. This will allow simpler joins later on at a reasonable level of approximation due to the comparatively small area of the census sectors.\n",
    "\n",
    "We will also use these to generate the features themselves at different levels. "
   ]
  },
  {
   "cell_type": "code",
   "execution_count": 59,
   "metadata": {},
   "outputs": [],
   "source": [
    "# registering dataframes as temporary table views -- will allow us to access them in SQL Context:\n",
    "df_sector.createOrReplaceTempView(\"tb_census_sector\")"
   ]
  },
  {
   "cell_type": "code",
   "execution_count": 60,
   "metadata": {},
   "outputs": [],
   "source": [
    "# adding the centroid and area of the polygons:\n",
    "Q_ADD_GEOM = \"\"\"\n",
    "SELECT \n",
    "    A.*,\n",
    "    ST_Centroid(A.geometry) as sector_centroid,\n",
    "    ST_X(ST_Centroid(A.geometry)) as centroid_longitude,\n",
    "    ST_Y(ST_Centroid(A.geometry)) as centroid_latitude\n",
    "FROM tb_census_sector as A\n",
    "\"\"\"\n",
    "\n",
    "# adding the geometry:\n",
    "df_sector = spark.sql(Q_ADD_GEOM)"
   ]
  },
  {
   "cell_type": "code",
   "execution_count": 61,
   "metadata": {},
   "outputs": [
    {
     "name": "stdout",
     "output_type": "stream",
     "text": [
      "root\n",
      " |-- id: string (nullable = true)\n",
      " |-- geometry: geometry (nullable = true)\n",
      " |-- sector_code: string (nullable = true)\n",
      " |-- city_code: string (nullable = true)\n",
      " |-- neighborhood_code: string (nullable = true)\n",
      " |-- city: string (nullable = true)\n",
      " |-- neighborhood: string (nullable = true)\n",
      " |-- sector_type: string (nullable = true)\n",
      " |-- sector_centroid: geometry (nullable = false)\n",
      " |-- centroid_longitude: double (nullable = true)\n",
      " |-- centroid_latitude: double (nullable = true)\n",
      "\n"
     ]
    }
   ],
   "source": [
    "# verifying the resulting schema:\n",
    "df_sector.printSchema()  # looks good to go"
   ]
  },
  {
   "cell_type": "markdown",
   "metadata": {},
   "source": [
    "# 4. Selecting the target features\n",
    "\n",
    "In the codebook file provided, I had already selected several features of interest as a basis for this project. As it is originally intended for use in the Real State industry, the selection reflect that. Anyone interested in other kinds of features is free to create a selection of his or her own and use the following code as reference. The original files that hold the variables of interest are the following:\n",
    "\n",
    "1. `Basico`\n",
    "2. `Domicilio01`\n",
    "3. `Domicilio02`\n",
    "4. `Pessoa11`\n",
    "5. `Pessoa12`\n",
    "6. `Pessoa13`\n",
    "7. `Responsavel02`"
   ]
  },
  {
   "cell_type": "code",
   "execution_count": 62,
   "metadata": {},
   "outputs": [],
   "source": [
    "# specifying a directory for the census data:\n",
    "CENSUS_DATA_DIR = \"../data/processed/sp_census/raw_datasets/\"\n",
    "\n",
    "# basico - basic entity:\n",
    "tb_basico = spark.read.parquet(CENSUS_DATA_DIR + \"tb_basico.parquet\")\n",
    "\n",
    "# domicilio - housing entities:\n",
    "tb_domicilio01 = spark.read.parquet(CENSUS_DATA_DIR + \"tb_domicilio01.parquet\")\n",
    "tb_domicilio02 = spark.read.parquet(CENSUS_DATA_DIR + \"tb_domicilio02.parquet\")\n",
    "\n",
    "# pessoa - person entities:\n",
    "tb_pessoa01 = spark.read.parquet(CENSUS_DATA_DIR + \"tb_pessoa01.parquet\")\n",
    "tb_pessoa11 = spark.read.parquet(CENSUS_DATA_DIR + \"tb_pessoa11.parquet\")\n",
    "tb_pessoa12 = spark.read.parquet(CENSUS_DATA_DIR + \"tb_pessoa12.parquet\")\n",
    "tb_pessoa13 = spark.read.parquet(CENSUS_DATA_DIR + \"tb_pessoa13.parquet\")\n",
    "\n",
    "# resposavel - household responsible entities:\n",
    "tb_responsible02 = spark.read.parquet(CENSUS_DATA_DIR + \"tb_responsavel02.parquet\")"
   ]
  },
  {
   "cell_type": "code",
   "execution_count": 63,
   "metadata": {},
   "outputs": [
    {
     "data": {
      "text/plain": [
       "18363"
      ]
     },
     "execution_count": 63,
     "metadata": {},
     "output_type": "execute_result"
    }
   ],
   "source": [
    "# listing the number of census sectors:\n",
    "tb_basico.count()  # joins show end up with the same number of rows (distinct sectors)"
   ]
  },
  {
   "cell_type": "code",
   "execution_count": 64,
   "metadata": {},
   "outputs": [],
   "source": [
    "# joining all the datasets before selecting:\n",
    "tb_census = tb_basico.join(\n",
    "    tb_domicilio01, on=[\"sector_code\", \"sector_situation_code\"], how=\"left\"\n",
    ")\n",
    "tb_census = tb_census.join(\n",
    "    tb_domicilio02, on=[\"sector_code\", \"sector_situation_code\"], how=\"left\"\n",
    ")\n",
    "tb_census = tb_census.join(\n",
    "    tb_pessoa11, on=[\"sector_code\", \"sector_situation_code\"], how=\"left\"\n",
    ")\n",
    "tb_census = tb_census.join(\n",
    "    tb_pessoa12, on=[\"sector_code\", \"sector_situation_code\"], how=\"left\"\n",
    ")\n",
    "tb_census = tb_census.join(\n",
    "    tb_responsible02, on=[\"sector_code\", \"sector_situation_code\"], how=\"left\"\n",
    ")\n",
    "\n",
    "tb_census = tb_census.join(\n",
    "    tb_pessoa01, on=[\"sector_code\", \"sector_situation_code\"], how=\"left\"\n",
    ")"
   ]
  },
  {
   "cell_type": "code",
   "execution_count": 65,
   "metadata": {},
   "outputs": [],
   "source": [
    "# verifying the data integrity:\n",
    "assert (\n",
    "    tb_basico.count() == tb_census.count()\n",
    "), \"There are more rows than expected in the final file\""
   ]
  },
  {
   "cell_type": "code",
   "execution_count": 66,
   "metadata": {},
   "outputs": [],
   "source": [
    "# selecting the columns that are relevant from the codebook:\n",
    "col_selection = df_codebook.filter(F.col(\"is_selected\") == 1)"
   ]
  },
  {
   "cell_type": "code",
   "execution_count": 67,
   "metadata": {},
   "outputs": [],
   "source": [
    "# keeping the columns of interest:\n",
    "cols_to_keep = get_column_values(col_selection, \"normalized_variable\")"
   ]
  },
  {
   "cell_type": "code",
   "execution_count": 68,
   "metadata": {},
   "outputs": [],
   "source": [
    "# dropping the columns that are not part of the selection:\n",
    "tb_census = tb_census.drop(\n",
    "    *[col for col in tb_census.columns if col not in cols_to_keep]\n",
    ")"
   ]
  },
  {
   "cell_type": "markdown",
   "metadata": {},
   "source": [
    "# 5. Preparing features at the units of interest level\n",
    "\n",
    "As previously described in the `1.0 Data Understanding - All Datasets.ipynb` notebook, we have several units of interest for the datasets we are working with. These are the following:\n",
    "\n",
    "1. `sector`: the lowest unit of measurement for the Brazilian Census, which is one of most important geospatially referenced datasets we will be working with;\n",
    "2. `zipcode`: zip codes in the city of São Paulo can be roughly approximated to an entire street (also called a logradouro);\n",
    "3. `area_of_ponderation`: areas of ponderation are contiguous groups of census sectors;\n",
    "4. `neighborhoods`: areas that are often (but not directly) related to the neighborhoods of the city;\n",
    "5. `districts`: districts are administrative regions defined by law (and thus, won't change much over time), used to allocate resources by the City Hall;\n",
    "\n",
    "The map below illustrates this relationship:\n",
    "\n",
    "![Map illustrating the different layers](../references/img/layers_map_example.png)\n",
    "\n",
    "We will aggregate the features at the levels above and maintain them in their raw state. Note: the zip code data will be processed in a different notebook as it requires a different processing approach."
   ]
  },
  {
   "cell_type": "code",
   "execution_count": 69,
   "metadata": {},
   "outputs": [],
   "source": [
    "# adding the geometry dataframes to the SQL Context:\n",
    "df_ap.createOrReplaceTempView(\"tb_ponderation\")\n",
    "df_nb.createOrReplaceTempView(\"tb_neighborhood\")\n",
    "df_district.createOrReplaceTempView(\"tb_district\")"
   ]
  },
  {
   "cell_type": "code",
   "execution_count": 70,
   "metadata": {},
   "outputs": [],
   "source": [
    "# adding the raw features to the geometry:\n",
    "df_sector_features = (\n",
    "    df_sector.join(\n",
    "        tb_census, (df_sector.sector_code == tb_census.sector_code), how=\"left\"\n",
    "    )\n",
    "    .drop(tb_census.neighborhood_code)\n",
    "    .drop(tb_census.sector_code)\n",
    ")"
   ]
  },
  {
   "cell_type": "code",
   "execution_count": 71,
   "metadata": {},
   "outputs": [
    {
     "data": {
      "text/plain": [
       "18953"
      ]
     },
     "execution_count": 71,
     "metadata": {},
     "output_type": "execute_result"
    }
   ],
   "source": [
    "# retrieving the number of rows after the join:\n",
    "df_sector_features.count()"
   ]
  },
  {
   "cell_type": "code",
   "execution_count": 72,
   "metadata": {},
   "outputs": [],
   "source": [
    "# removing duplicate columns from the ipvs and density dataframes:\n",
    "df_ipvs_clean = df_ipvs_clean.drop(\n",
    "    \"id\",\n",
    "    \"sector_type\",\n",
    "    \"city_code_census\",\n",
    "    \"city_code_ipvs\",\n",
    "    \"city_name\",\n",
    "    \"metropolitan_region_code\",\n",
    "    \"metropolitan_region_name\",\n",
    "    \"administrative_region_code\",\n",
    "    \"administrative_region_name\",\n",
    "    \"district_name\",\n",
    "    \"district_code\",\n",
    "    \"sector_situation\",\n",
    "    \"population_rural_areas_city\",\n",
    "    \"population_urban_areas_city\",\n",
    "    \"population_city\",\n",
    "    \"population_permanent_households_city\",\n",
    "    \"population_improvised_households_city\",\n",
    "    \"population_collective_households_city\",\n",
    "    \"geometry\",\n",
    ")\n",
    "\n",
    "df_density = df_density.drop(\"geometry\")"
   ]
  },
  {
   "cell_type": "code",
   "execution_count": 73,
   "metadata": {},
   "outputs": [],
   "source": [
    "# adding the ipvs and density featurs:\n",
    "df_sector_features = df_sector_features.join(\n",
    "    df_ipvs_clean, on=[\"sector_code\"], how=\"left\"\n",
    ").join(df_density, on=[\"sector_code\"], how=\"left\")"
   ]
  },
  {
   "cell_type": "code",
   "execution_count": 74,
   "metadata": {},
   "outputs": [
    {
     "name": "stdout",
     "output_type": "stream",
     "text": [
      "-RECORD 0------------------------------------------------------------------------------------------------------------------\n",
      " sector_code                                                                                                       | 0     \n",
      " id                                                                                                                | 0     \n",
      " geometry                                                                                                          | 0     \n",
      " city_code                                                                                                         | 0     \n",
      " neighborhood_code                                                                                                 | 0     \n",
      " city                                                                                                              | 0     \n",
      " neighborhood                                                                                                      | 0     \n",
      " sector_type                                                                                                       | 0     \n",
      " sector_centroid                                                                                                   | 0     \n",
      " centroid_longitude                                                                                                | 0     \n",
      " centroid_latitude                                                                                                 | 0     \n",
      " sector_situation_code                                                                                             | 591   \n",
      " code_large_regions_geographical_regions                                                                           | 591   \n",
      " name_large_regions_geographical_regions                                                                           | 591   \n",
      " federation_unit_code                                                                                              | 591   \n",
      " name_federation_unit                                                                                              | 591   \n",
      " mesoregion_code                                                                                                   | 591   \n",
      " name_mesoregion                                                                                                   | 591   \n",
      " microregion_code                                                                                                  | 591   \n",
      " name_microregion                                                                                                  | 591   \n",
      " metropolitan_region_code_or_ride                                                                                  | 591   \n",
      " name_metropolitan_region_or_ride                                                                                  | 591   \n",
      " code_municipality                                                                                                 | 591   \n",
      " name_municipality                                                                                                 | 591   \n",
      " district_code                                                                                                     | 591   \n",
      " district_name                                                                                                     | 591   \n",
      " subdistrict_code                                                                                                  | 591   \n",
      " name_sub_district                                                                                                 | 591   \n",
      " name_neighborhood                                                                                                 | 591   \n",
      " sector_type_code                                                                                                  | 591   \n",
      " permanent_private_households_or_persons_responsible_for_permanent_private_households                              | 621   \n",
      " residents_permanent_private_households_or_population_residing_permanent_private_households                        | 621   \n",
      " average_number_dwellers_permanent_private_households_obtained_by_var2_division_by_var1                            | 621   \n",
      " value_average_monthly_nominal_income_persons_responsible_for_permanent_private_households_with_and_without_income | 621   \n",
      " permanent_private_households_and_disposed                                                                         | 748   \n",
      " permanent_private_households_acquisition                                                                          | 748   \n",
      " permanent_private_households_rented                                                                               | 748   \n",
      " permanent_private_households_with_3_bathrooms_residents                                                           | 748   \n",
      " permanent_private_households_without_exclusive_use_bathroom_residents                                             | 748   \n",
      " permanent_private_households_with_electricity                                                                     | 748   \n",
      " permanent_private_households_with_1_resident                                                                      | 748   \n",
      " permanent_private_households_with_2_residents                                                                     | 748   \n",
      " permanent_private_households_with_3_residents                                                                     | 748   \n",
      " permanent_private_households_with_4_residents                                                                     | 748   \n",
      " permanent_private_households_with_5_residents                                                                     | 748   \n",
      " permanent_private_households_with_6_residents                                                                     | 748   \n",
      " permanent_private_households_with_7_residents                                                                     | 748   \n",
      " permanent_private_households_with_8_residents                                                                     | 748   \n",
      " permanent_private_households_with_9_residents                                                                     | 748   \n",
      " permanent_private_households_with_10_or_more_residents                                                            | 748   \n",
      " permanent_private_home_type_households_and_clear                                                                  | 748   \n",
      " permanent_private_home_type_households_and_acquisition                                                            | 748   \n",
      " permanent_private_household_homes_rented                                                                          | 748   \n",
      " residents_private_households_and_collective_households                                                            | 591   \n",
      " residents_permanent_household_private_households                                                                  | 748   \n",
      " residents_permanent_private_households_apartment_type                                                             | 748   \n",
      " residents_permanent_permanent_households                                                                          | 748   \n",
      " dwellers_permanent_private_households_and_acquisition                                                             | 748   \n",
      " residents_permanent_private_households_rented                                                                     | 748   \n",
      " children_only_from_person_responsible_private_households                                                          | 748   \n",
      " household_employees_private_households_males                                                                      | 748   \n",
      " relatives_household_employees_private_households_male                                                             | 748   \n",
      " household_employees_private_households                                                                            | 748   \n",
      " relatives_domestic_employees_as_private_households_female                                                         | 748   \n",
      " literacy_responsible_persons                                                                                      | 748   \n",
      " alphabetized_people_with_5_or_more_years_age                                                                      | 591   \n",
      " sector_area_square_kms                                                                                            | 0     \n",
      " census_sector_code                                                                                                | 0     \n",
      " is_subnormal_aglomerate                                                                                           | 0     \n",
      " ipvs_group                                                                                                        | 0     \n",
      " households                                                                                                        | 0     \n",
      " households_permanent                                                                                              | 0     \n",
      " improvised_households                                                                                             | 0     \n",
      " people_permanent_households                                                                                       | 0     \n",
      " average_residents_permanent_households                                                                            | 0     \n",
      " prop_0_5_age_population                                                                                           | 0     \n",
      " total_responsible_people                                                                                          | 0     \n",
      " average_household_income                                                                                          | 0     \n",
      " per_capita_income                                                                                                 | 0     \n",
      " prop_households_no_income                                                                                         | 0     \n",
      " prop_househols_one_eigth_sm_income                                                                                | 0     \n",
      " prop_households_one_halft_sm_income                                                                               | 0     \n",
      " prop_households_two_sm_income                                                                                     | 0     \n",
      " prop_households_two_or_more_income                                                                                | 0     \n",
      " prop_private_households_one_half_sm_income                                                                        | 0     \n",
      " prop_private_households_one_quarter_sm_income                                                                     | 0     \n",
      " average_age_responsible_people                                                                                    | 0     \n",
      " average_income_household_responsible                                                                              | 0     \n",
      " prop_literate_people                                                                                              | 0     \n",
      " prop_responsible_people_up_to_30_years                                                                            | 0     \n",
      " prop_income_participation_in_household_responsible                                                                | 0     \n",
      " average_age_women_responsible                                                                                     | 0     \n",
      " prop_literate_women                                                                                               | 0     \n",
      " prop_women_up_to_30_years                                                                                         | 0     \n",
      " average_income_women_responsible                                                                                  | 0     \n",
      " factor_1                                                                                                          | 0     \n",
      " factor_2                                                                                                          | 0     \n",
      " factor_1_rural                                                                                                    | 18975 \n",
      " factor_2_rural                                                                                                    | 18975 \n",
      " prop_households_access_water                                                                                      | 0     \n",
      " prop_households_sanitation                                                                                        | 0     \n",
      " prop_households_trash_collection                                                                                  | 0     \n",
      " prop_households_electricity                                                                                       | 0     \n",
      " population                                                                                                        | 591   \n",
      " area_in_hectares                                                                                                  | 0     \n",
      " population_density                                                                                                | 591   \n",
      "\n"
     ]
    }
   ],
   "source": [
    "# listing columns with null values:\n",
    "get_null_columns(df_sector_features)"
   ]
  },
  {
   "cell_type": "code",
   "execution_count": 75,
   "metadata": {},
   "outputs": [],
   "source": [
    "# dropping null rows from the join (represent sectors that are not present in the area of study):\n",
    "df_sector_features = df_sector_features.na.drop(\n",
    "    subset=[\"code_large_regions_geographical_regions\"]\n",
    ")\n",
    "\n",
    "# dropping duplicates\n",
    "df_sector_features = df_sector_features.drop_duplicates(subset=[\"sector_code\"])"
   ]
  },
  {
   "cell_type": "code",
   "execution_count": 76,
   "metadata": {},
   "outputs": [
    {
     "data": {
      "text/plain": [
       "18363"
      ]
     },
     "execution_count": 76,
     "metadata": {},
     "output_type": "execute_result"
    }
   ],
   "source": [
    "# removing the missing values gets us back to the correct number (the ones that match the census exactly)\n",
    "df_sector_features.count()"
   ]
  },
  {
   "cell_type": "code",
   "execution_count": 77,
   "metadata": {},
   "outputs": [],
   "source": [
    "# adding the resulting dataframe to the SQL Context:\n",
    "df_sector_features.createOrReplaceTempView(\"tb_sector_features\")"
   ]
  },
  {
   "cell_type": "code",
   "execution_count": 78,
   "metadata": {},
   "outputs": [],
   "source": [
    "# adding the sectors back to the main dataframe:\n",
    "df_sector_final = df_sector_features.join(\n",
    "    df_sector.drop(\n",
    "        \"centroid_latitude\",\n",
    "        \"centroid_longitude\",\n",
    "        \"city_code\",\n",
    "        \"city\",\n",
    "        \"geometry\",\n",
    "        \"id\",\n",
    "        \"neighborhood_code\",\n",
    "        \"neighborhood\",\n",
    "        \"sector_centroid\",\n",
    "        \"sector_type\",\n",
    "    ),\n",
    "    on=[\"sector_code\"],\n",
    "    how=\"inner\",\n",
    ")"
   ]
  },
  {
   "cell_type": "code",
   "execution_count": 79,
   "metadata": {},
   "outputs": [
    {
     "data": {
      "text/plain": [
       "True"
      ]
     },
     "execution_count": 79,
     "metadata": {},
     "output_type": "execute_result"
    }
   ],
   "source": [
    "# save the results to the specified directory:\n",
    "SECTOR_OUTPUT = f\"sectors/tb_sectors_census\"\n",
    "PROCESSED_UNITS_OF_INTEREST = \"../data/processed/sp_census/units_of_interest/\"\n",
    "\n",
    "save_to_filesystem(\n",
    "    df_sector_final,\n",
    "    PROCESSED_UNITS_OF_INTEREST,\n",
    "    SECTOR_OUTPUT,\n",
    "    SECTOR_OUTPUT + \".parquet\",\n",
    ")"
   ]
  },
  {
   "cell_type": "code",
   "execution_count": 81,
   "metadata": {},
   "outputs": [
    {
     "data": {
      "text/plain": [
       "True"
      ]
     },
     "execution_count": 81,
     "metadata": {},
     "output_type": "execute_result"
    }
   ],
   "source": [
    "SECTOR_NO_GEO = f\"sectors/tb_sectors_census_no_geo\"\n",
    "PROCESSED_UNITS_OF_INTEREST = \"../data/processed/sp_census/units_of_interest/\"\n",
    "\n",
    "df_sector_no_geo = df_sector.drop(\"geometry\")\n",
    "\n",
    "save_to_filesystem(\n",
    "    df_sector_no_geo,\n",
    "    PROCESSED_UNITS_OF_INTEREST,\n",
    "    SECTOR_NO_GEO,\n",
    "    SECTOR_NO_GEO + \".parquet\",\n",
    ")"
   ]
  },
  {
   "cell_type": "markdown",
   "metadata": {},
   "source": [
    "## 5.1 Area of Ponderation"
   ]
  },
  {
   "cell_type": "code",
   "execution_count": 85,
   "metadata": {},
   "outputs": [],
   "source": [
    "# adding the centroid and area of the polygons:\n",
    "Q_AP_MATCH = \"\"\"\n",
    "SELECT \n",
    "    A.ponderation_area_code,\n",
    "    B.sector_code\n",
    "FROM tb_ponderation as A, tb_sector_features as B\n",
    "WHERE ST_Contains(A.geometry, B.sector_centroid)\n",
    "\"\"\"\n",
    "\n",
    "# matching the areas of ponderation to their sectors:\n",
    "df_ap_match = spark.sql(Q_AP_MATCH)"
   ]
  },
  {
   "cell_type": "code",
   "execution_count": 86,
   "metadata": {},
   "outputs": [],
   "source": [
    "# adding the resulting dataframe to the SQL Context:\n",
    "df_ap_match.createOrReplaceTempView(\"tb_ap_match\")"
   ]
  },
  {
   "cell_type": "code",
   "execution_count": 87,
   "metadata": {},
   "outputs": [],
   "source": [
    "# adding the features to the ponderation area back:\n",
    "Q_AP_RAW_FEATURES = \"\"\"\n",
    "SELECT\n",
    "    A.ponderation_area_code,\n",
    "    B.*\n",
    "FROM tb_ap_match as A\n",
    "LEFT JOIN tb_sector_features as B\n",
    "ON A.sector_code = B.sector_code\n",
    "\"\"\"\n",
    "\n",
    "# reading back the dataset:\n",
    "df_ap_raw_features = spark.sql(Q_AP_RAW_FEATURES)\n",
    "\n",
    "# dropping the geometry columns and looking at the results:\n",
    "df_ap_raw_features = df_ap_raw_features.drop(\"geometry\", \"sector_centroid\")\n",
    "\n",
    "# dropping duplicates:\n",
    "df_ap_raw_features = df_ap_raw_features.drop_duplicates()"
   ]
  },
  {
   "cell_type": "code",
   "execution_count": 88,
   "metadata": {},
   "outputs": [
    {
     "name": "stdout",
     "output_type": "stream",
     "text": [
      "root\n",
      " |-- ponderation_area_code: string (nullable = true)\n",
      " |-- sector_code: string (nullable = true)\n",
      " |-- id: string (nullable = true)\n",
      " |-- city_code: string (nullable = true)\n",
      " |-- neighborhood_code: string (nullable = true)\n",
      " |-- city: string (nullable = true)\n",
      " |-- neighborhood: string (nullable = true)\n",
      " |-- sector_type: string (nullable = true)\n",
      " |-- centroid_longitude: double (nullable = true)\n",
      " |-- centroid_latitude: double (nullable = true)\n",
      " |-- sector_situation_code: string (nullable = true)\n",
      " |-- code_large_regions_geographical_regions: string (nullable = true)\n",
      " |-- name_large_regions_geographical_regions: string (nullable = true)\n",
      " |-- federation_unit_code: string (nullable = true)\n",
      " |-- name_federation_unit: string (nullable = true)\n",
      " |-- mesoregion_code: string (nullable = true)\n",
      " |-- name_mesoregion: string (nullable = true)\n",
      " |-- microregion_code: string (nullable = true)\n",
      " |-- name_microregion: string (nullable = true)\n",
      " |-- metropolitan_region_code_or_ride: string (nullable = true)\n",
      " |-- name_metropolitan_region_or_ride: string (nullable = true)\n",
      " |-- code_municipality: string (nullable = true)\n",
      " |-- name_municipality: string (nullable = true)\n",
      " |-- district_code: string (nullable = true)\n",
      " |-- district_name: string (nullable = true)\n",
      " |-- subdistrict_code: string (nullable = true)\n",
      " |-- name_sub_district: string (nullable = true)\n",
      " |-- name_neighborhood: string (nullable = true)\n",
      " |-- sector_type_code: string (nullable = true)\n",
      " |-- permanent_private_households_or_persons_responsible_for_permanent_private_households: double (nullable = true)\n",
      " |-- residents_permanent_private_households_or_population_residing_permanent_private_households: double (nullable = true)\n",
      " |-- average_number_dwellers_permanent_private_households_obtained_by_var2_division_by_var1: double (nullable = true)\n",
      " |-- value_average_monthly_nominal_income_persons_responsible_for_permanent_private_households_with_and_without_income: double (nullable = true)\n",
      " |-- permanent_private_households_and_disposed: double (nullable = true)\n",
      " |-- permanent_private_households_acquisition: double (nullable = true)\n",
      " |-- permanent_private_households_rented: double (nullable = true)\n",
      " |-- permanent_private_households_with_3_bathrooms_residents: double (nullable = true)\n",
      " |-- permanent_private_households_without_exclusive_use_bathroom_residents: double (nullable = true)\n",
      " |-- permanent_private_households_with_electricity: double (nullable = true)\n",
      " |-- permanent_private_households_with_1_resident: double (nullable = true)\n",
      " |-- permanent_private_households_with_2_residents: double (nullable = true)\n",
      " |-- permanent_private_households_with_3_residents: double (nullable = true)\n",
      " |-- permanent_private_households_with_4_residents: double (nullable = true)\n",
      " |-- permanent_private_households_with_5_residents: double (nullable = true)\n",
      " |-- permanent_private_households_with_6_residents: double (nullable = true)\n",
      " |-- permanent_private_households_with_7_residents: double (nullable = true)\n",
      " |-- permanent_private_households_with_8_residents: double (nullable = true)\n",
      " |-- permanent_private_households_with_9_residents: double (nullable = true)\n",
      " |-- permanent_private_households_with_10_or_more_residents: double (nullable = true)\n",
      " |-- permanent_private_home_type_households_and_clear: double (nullable = true)\n",
      " |-- permanent_private_home_type_households_and_acquisition: double (nullable = true)\n",
      " |-- permanent_private_household_homes_rented: double (nullable = true)\n",
      " |-- residents_private_households_and_collective_households: double (nullable = true)\n",
      " |-- residents_permanent_household_private_households: double (nullable = true)\n",
      " |-- residents_permanent_private_households_apartment_type: double (nullable = true)\n",
      " |-- residents_permanent_permanent_households: double (nullable = true)\n",
      " |-- dwellers_permanent_private_households_and_acquisition: double (nullable = true)\n",
      " |-- residents_permanent_private_households_rented: double (nullable = true)\n",
      " |-- children_only_from_person_responsible_private_households: double (nullable = true)\n",
      " |-- household_employees_private_households_males: double (nullable = true)\n",
      " |-- relatives_household_employees_private_households_male: double (nullable = true)\n",
      " |-- household_employees_private_households: double (nullable = true)\n",
      " |-- relatives_domestic_employees_as_private_households_female: double (nullable = true)\n",
      " |-- literacy_responsible_persons: double (nullable = true)\n",
      " |-- alphabetized_people_with_5_or_more_years_age: double (nullable = true)\n",
      " |-- sector_area_square_kms: float (nullable = true)\n",
      " |-- census_sector_code: string (nullable = true)\n",
      " |-- is_subnormal_aglomerate: boolean (nullable = true)\n",
      " |-- ipvs_group: integer (nullable = true)\n",
      " |-- households: long (nullable = true)\n",
      " |-- households_permanent: long (nullable = true)\n",
      " |-- improvised_households: long (nullable = true)\n",
      " |-- people_permanent_households: long (nullable = true)\n",
      " |-- average_residents_permanent_households: double (nullable = true)\n",
      " |-- prop_0_5_age_population: double (nullable = true)\n",
      " |-- total_responsible_people: long (nullable = true)\n",
      " |-- average_household_income: double (nullable = true)\n",
      " |-- per_capita_income: double (nullable = true)\n",
      " |-- prop_households_no_income: double (nullable = true)\n",
      " |-- prop_househols_one_eigth_sm_income: double (nullable = true)\n",
      " |-- prop_households_one_halft_sm_income: double (nullable = true)\n",
      " |-- prop_households_two_sm_income: double (nullable = true)\n",
      " |-- prop_households_two_or_more_income: double (nullable = true)\n",
      " |-- prop_private_households_one_half_sm_income: double (nullable = true)\n",
      " |-- prop_private_households_one_quarter_sm_income: double (nullable = true)\n",
      " |-- average_age_responsible_people: double (nullable = true)\n",
      " |-- average_income_household_responsible: double (nullable = true)\n",
      " |-- prop_literate_people: double (nullable = true)\n",
      " |-- prop_responsible_people_up_to_30_years: double (nullable = true)\n",
      " |-- prop_income_participation_in_household_responsible: double (nullable = true)\n",
      " |-- average_age_women_responsible: double (nullable = true)\n",
      " |-- prop_literate_women: string (nullable = true)\n",
      " |-- prop_women_up_to_30_years: string (nullable = true)\n",
      " |-- average_income_women_responsible: string (nullable = true)\n",
      " |-- factor_1: double (nullable = true)\n",
      " |-- factor_2: double (nullable = true)\n",
      " |-- factor_1_rural: double (nullable = true)\n",
      " |-- factor_2_rural: double (nullable = true)\n",
      " |-- prop_households_access_water: double (nullable = true)\n",
      " |-- prop_households_sanitation: double (nullable = true)\n",
      " |-- prop_households_trash_collection: double (nullable = true)\n",
      " |-- prop_households_electricity: double (nullable = true)\n",
      " |-- population: double (nullable = true)\n",
      " |-- area_in_hectares: double (nullable = true)\n",
      " |-- population_density: double (nullable = true)\n",
      "\n"
     ]
    }
   ],
   "source": [
    "df_ap_raw_features.printSchema()"
   ]
  },
  {
   "cell_type": "markdown",
   "metadata": {},
   "source": [
    "### 5.1.1 Aggregating Raw Area of Ponderation Features"
   ]
  },
  {
   "cell_type": "code",
   "execution_count": 107,
   "metadata": {},
   "outputs": [],
   "source": [
    "df_ap_agg = df_ap_raw_features.groupby(\"ponderation_area_code\").agg(\n",
    "    F.sum(F.col(\"population\")).alias(\"population\"),\n",
    "    F.sum(F.col(\"alphabetized_people_with_5_or_more_years_age\")).alias(\n",
    "        \"alphabetized_population\"\n",
    "    ),\n",
    "    F.sum(F.when(F.col(\"ipvs_group\") > 5, 1).otherwise(0)).alias(\n",
    "        \"n_regions_high_social_vulnerability\"\n",
    "    ),\n",
    "    F.sum(F.when(F.col(\"ipvs_group\") == 5, 1).otherwise(0)).alias(\n",
    "        \"n_regions_medium_social_vulnerability\"\n",
    "    ),\n",
    "    F.sum(F.when(F.col(\"ipvs_group\") < 5, 1).otherwise(0)).alias(\n",
    "        \"n_regions_low_social_vulnerability\"\n",
    "    ),\n",
    "    F.max(F.when(F.col(\"ipvs_group\") != -1, F.col(\"ipvs_group\"))).alias(\n",
    "        \"max_ipvs_group\"\n",
    "    ),\n",
    "    F.min(F.when(F.col(\"ipvs_group\") != -1, F.col(\"ipvs_group\"))).alias(\n",
    "        \"min_ipvs_group\"\n",
    "    ),\n",
    "    F.avg(F.when(F.col(\"ipvs_group\") != -1, F.col(\"ipvs_group\"))).alias(\n",
    "        \"avg_ipvs_group\"\n",
    "    ),\n",
    "    F.sum(F.col(\"area_in_hectares\")).alias(\"area_in_hectares\"),\n",
    "    F.avg(\"population_density\").alias(\"average_population_density\"),\n",
    "    F.avg(F.col(\"average_age_responsible_people\")).alias(\n",
    "        \"average_age_household_leaders\"\n",
    "    ),\n",
    "    F.avg(F.col(\"average_age_women_responsible\")).alias(\n",
    "        \"average_age_women_household_leaders\"\n",
    "    ),\n",
    "    F.avg(F.col(\"average_household_income\")).alias(\"average_household_income\"),\n",
    "    F.avg(F.col(\"average_income_household_responsible\")).alias(\n",
    "        \"average_income_household_leaders\"\n",
    "    ),\n",
    "    F.avg(F.col(\"average_income_women_responsible\")).alias(\n",
    "        \"average_income_women_household_leaders\"\n",
    "    ),\n",
    "    F.avg(\n",
    "        F.col(\n",
    "            \"average_number_dwellers_permanent_private_households_obtained_by_var2_division_by_var1\"\n",
    "        )\n",
    "    ).alias(\"average_residents_per_household\"),\n",
    "    F.avg(F.col(\"average_residents_permanent_households\")).alias(\n",
    "        \"average_residents_in_permanent_households\"\n",
    "    ),\n",
    "    F.avg(F.col(\"children_only_from_person_responsible_private_households\")).alias(\n",
    "        \"average_number_children\"\n",
    "    ),\n",
    "    F.sum(F.col(\"dwellers_permanent_private_households_and_acquisition\")).alias(\n",
    "        \"residents_in_households_acquisition\"\n",
    "    ),\n",
    "    F.avg(F.col(\"factor_1\")).alias(\"average_ipvs_factor_1\"),\n",
    "    F.avg(F.col(\"factor_2\")).alias(\"average_ipvs_factor_2\"),\n",
    "    F.avg(F.col(\"factor_1_rural\")).alias(\"average_ipvs_factor_1_rural\"),\n",
    "    F.avg(F.col(\"factor_2_rural\")).alias(\"average_ipvs_factor_2_rural\"),\n",
    "    F.sum(\n",
    "        F.col(\"household_employees_private_households_males\")\n",
    "        + F.col(\"household_employees_private_households\")\n",
    "    ).alias(\"number_house_workers\"),\n",
    "    F.sum(F.col(\"households\")).alias(\"households\"),\n",
    "    F.sum(F.col(\"households_permanent\")).alias(\"permanent_housholds\"),\n",
    "    F.sum(F.col(\"improvised_households\")).alias(\"improvised_households\"),\n",
    "    F.sum(F.when(F.col(\"is_subnormal_aglomerate\") == True, 1).otherwise(0)).alias(\n",
    "        \"number_subnormal_aglomerates\"\n",
    "    ),\n",
    "    F.avg(F.col(\"per_capita_income\")).alias(\"average_per_capita_income\"),\n",
    "    F.sum(F.col(\"permanent_private_home_type_households_and_acquisition\")).alias(\n",
    "        \"permanent_private_houses_in_acquisition\"\n",
    "    ),\n",
    "    F.sum(F.col(\"permanent_private_home_type_households_and_clear\")).alias(\n",
    "        \"permanent_private_houses_fully_owned\"\n",
    "    ),\n",
    "    F.sum(F.col(\"permanent_private_household_homes_rented\")).alias(\n",
    "        \"permanent_private_rented_properties\"\n",
    "    ),\n",
    "    F.sum(F.col(\"permanent_private_households_acquisition\")).alias(\n",
    "        \"permanent_private_properties_in_acquisition\"\n",
    "    ),\n",
    "    F.sum(F.col(\"permanent_private_households_and_disposed\")).alias(\n",
    "        \"permanent_private_properties_fully_owned\"\n",
    "    ),\n",
    "    F.sum(F.col(\"permanent_private_households_rented\")).alias(\n",
    "        \"permanent_private_properties_rented\"\n",
    "    ),\n",
    "    F.sum(F.col(\"permanent_private_households_with_10_or_more_residents\")).alias(\n",
    "        \"permanent_private_households_with_10_or_more_residents\"\n",
    "    ),\n",
    "    F.sum(F.col(\"permanent_private_households_with_1_resident\")).alias(\n",
    "        \"permanent_private_households_with_1_resident\"\n",
    "    ),\n",
    "    F.sum(F.col(\"permanent_private_households_with_2_residents\")).alias(\n",
    "        \"permanent_private_households_with_2_residents\"\n",
    "    ),\n",
    "    F.sum(F.col(\"permanent_private_households_with_3_residents\")).alias(\n",
    "        \"permanent_private_households_with_3_residents\"\n",
    "    ),\n",
    "    F.sum(F.col(\"permanent_private_households_with_4_residents\")).alias(\n",
    "        \"permanent_private_households_with_4_residents\"\n",
    "    ),\n",
    "    F.sum(F.col(\"permanent_private_households_with_5_residents\")).alias(\n",
    "        \"permanent_private_households_with_5_residents\"\n",
    "    ),\n",
    "    F.sum(F.col(\"permanent_private_households_with_6_residents\")).alias(\n",
    "        \"permanent_private_households_with_6_residents\"\n",
    "    ),\n",
    "    F.sum(F.col(\"permanent_private_households_with_7_residents\")).alias(\n",
    "        \"permanent_private_households_with_7_residents\"\n",
    "    ),\n",
    "    F.sum(F.col(\"permanent_private_households_with_8_residents\")).alias(\n",
    "        \"permanent_private_households_with_8_residents\"\n",
    "    ),\n",
    "    F.sum(F.col(\"permanent_private_households_with_9_residents\")).alias(\n",
    "        \"permanent_private_households_with_9_residents\"\n",
    "    ),\n",
    "    F.sum(F.col(\"permanent_private_households_with_electricity\")).alias(\n",
    "        \"permanent_private_households_with_electricity\"\n",
    "    ),\n",
    "    F.sum(\n",
    "        F.col(\"permanent_private_households_without_exclusive_use_bathroom_residents\")\n",
    "    ).alias(\"permanent_private_households_without_exclusive_use_bathroom_residents\"),\n",
    "    F.avg(F.col(\"permanent_private_home_type_households_and_acquisition\")).alias(\n",
    "        \"average_permanent_private_houses_in_acquisition\"\n",
    "    ),\n",
    "    F.avg(F.col(\"permanent_private_home_type_households_and_clear\")).alias(\n",
    "        \"average_permanent_private_houses_fully_owned\"\n",
    "    ),\n",
    "    F.avg(F.col(\"permanent_private_household_homes_rented\")).alias(\n",
    "        \"average_permanent_private_rented_properties\"\n",
    "    ),\n",
    "    F.avg(F.col(\"permanent_private_households_acquisition\")).alias(\n",
    "        \"average_permanent_private_properties_in_acquisition\"\n",
    "    ),\n",
    "    F.avg(F.col(\"permanent_private_households_and_disposed\")).alias(\n",
    "        \"average_permanent_private_properties_fully_owned\"\n",
    "    ),\n",
    "    F.avg(F.col(\"permanent_private_households_rented\")).alias(\n",
    "        \"average_permanent_private_properties_rented\"\n",
    "    ),\n",
    "    F.avg(F.col(\"permanent_private_households_with_10_or_more_residents\")).alias(\n",
    "        \"average_permanent_private_households_with_10_or_more_residents\"\n",
    "    ),\n",
    "    F.avg(F.col(\"permanent_private_households_with_1_resident\")).alias(\n",
    "        \"average_permanent_private_households_with_1_resident\"\n",
    "    ),\n",
    "    F.avg(F.col(\"permanent_private_households_with_2_residents\")).alias(\n",
    "        \"average_permanent_private_households_with_2_residents\"\n",
    "    ),\n",
    "    F.avg(F.col(\"permanent_private_households_with_3_residents\")).alias(\n",
    "        \"average_permanent_private_households_with_3_residents\"\n",
    "    ),\n",
    "    F.avg(F.col(\"permanent_private_households_with_4_residents\")).alias(\n",
    "        \"average_permanent_private_households_with_4_residents\"\n",
    "    ),\n",
    "    F.avg(F.col(\"permanent_private_households_with_5_residents\")).alias(\n",
    "        \"average_permanent_private_households_with_5_residents\"\n",
    "    ),\n",
    "    F.avg(F.col(\"permanent_private_households_with_6_residents\")).alias(\n",
    "        \"average_permanent_private_households_with_6_residents\"\n",
    "    ),\n",
    "    F.avg(F.col(\"permanent_private_households_with_7_residents\")).alias(\n",
    "        \"average_permanent_private_households_with_7_residents\"\n",
    "    ),\n",
    "    F.avg(F.col(\"permanent_private_households_with_8_residents\")).alias(\n",
    "        \"average_permanent_private_households_with_8_residents\"\n",
    "    ),\n",
    "    F.avg(F.col(\"permanent_private_households_with_9_residents\")).alias(\n",
    "        \"average_permanent_private_households_with_9_residents\"\n",
    "    ),\n",
    "    F.avg(F.col(\"permanent_private_households_with_electricity\")).alias(\n",
    "        \"average_permanent_private_households_with_electricity\"\n",
    "    ),\n",
    "    F.avg(\n",
    "        F.col(\"permanent_private_households_without_exclusive_use_bathroom_residents\")\n",
    "    ).alias(\n",
    "        \"average_permanent_private_households_without_exclusive_use_bathroom_residents\"\n",
    "    ),\n",
    "    F.avg(F.col(\"prop_households_electricity\")).alias(\n",
    "        \"average_proportion_households_electricity\"\n",
    "    ),\n",
    "    F.avg(F.col(\"prop_households_no_income\")).alias(\n",
    "        \"average_proportion_households_no_income\"\n",
    "    ),\n",
    "    F.avg(F.col(\"prop_households_one_halft_sm_income\")).alias(\n",
    "        \"average_proportion_households_one_halft_sm_income\"\n",
    "    ),\n",
    "    F.avg(F.col(\"prop_households_sanitation\")).alias(\n",
    "        \"average_proportion_households_sanitation\"\n",
    "    ),\n",
    "    F.avg(F.col(\"prop_households_trash_collection\")).alias(\n",
    "        \"average_proportion_households_trash_collection\"\n",
    "    ),\n",
    "    F.avg(F.col(\"prop_households_two_or_more_income\")).alias(\n",
    "        \"average_proportion_households_two_or_more_income\"\n",
    "    ),\n",
    "    F.avg(F.col(\"prop_households_two_sm_income\")).alias(\n",
    "        \"average_proportion_households_two_sm_income\"\n",
    "    ),\n",
    "    F.avg(F.col(\"prop_househols_one_eigth_sm_income\")).alias(\n",
    "        \"average_proportion_househols_one_eigth_sm_income\"\n",
    "    ),\n",
    "    F.avg(F.col(\"prop_income_participation_in_household_responsible\")).alias(\n",
    "        \"average_proportion_income_participation_in_household_responsible\"\n",
    "    ),\n",
    "    F.avg(F.col(\"prop_literate_people\")).alias(\"average_proportion_literate_people\"),\n",
    "    F.avg(F.col(\"prop_literate_women\")).alias(\"average_proportion_literate_women\"),\n",
    "    F.avg(F.col(\"prop_private_households_one_half_sm_income\")).alias(\n",
    "        \"average_proportion_private_households_one_half_sm_income\"\n",
    "    ),\n",
    "    F.avg(F.col(\"prop_private_households_one_quarter_sm_income\")).alias(\n",
    "        \"average_proportion_private_households_one_quarter_sm_income\"\n",
    "    ),\n",
    "    F.avg(F.col(\"prop_women_up_to_30_years\")).alias(\n",
    "        \"average_proportion_women_up_to_30_years\"\n",
    "    ),\n",
    "    F.avg(F.col(\"prop_0_5_age_population\")).alias(\n",
    "        \"average_proportion_population_up_to_5_years_age\"\n",
    "    ),\n",
    "    F.avg(F.col(\"prop_households_access_water\")).alias(\n",
    "        \"average_prop_households_access_water\"\n",
    "    ),\n",
    "    F.avg(F.col(\"prop_responsible_people_up_to_30_years\")).alias(\n",
    "        \"average_proportion_responsible_people_up_to_30_years\"\n",
    "    ),\n",
    "    F.avg(\n",
    "        F.col(\n",
    "            \"value_average_monthly_nominal_income_persons_responsible_for_permanent_private_households_with_and_without_income\"\n",
    "        )\n",
    "    ).alias(\"average_monthly_income\"),\n",
    "    F.sum(F.col(\"total_responsible_people\")).alias(\"population_house_leaders\"),\n",
    "    F.sum(F.col(\"residents_permanent_permanent_households\")).alias(\n",
    "        \"residents_in_permanent_households\"\n",
    "    ),\n",
    "    F.sum(F.col(\"residents_permanent_private_households_apartment_type\")).alias(\n",
    "        \"residents_in_apartments\"\n",
    "    ),\n",
    "    F.sum(\n",
    "        F.col(\n",
    "            \"residents_permanent_private_households_or_population_residing_permanent_private_households\"\n",
    "        )\n",
    "    ).alias(\"residents_in_private_households\"),\n",
    "    F.sum(F.col(\"residents_permanent_private_households_rented\")).alias(\n",
    "        \"residents_in_rented_properties\"\n",
    "    ),\n",
    "    F.sum(F.col(\"residents_private_households_and_collective_households\")).alias(\n",
    "        \"residents_in_collective_households\"\n",
    "    ),\n",
    "    F.sum(F.col(\"permanent_private_households_with_3_bathrooms_residents\")).alias(\n",
    "        \"permanent_private_households_with_up_to_3_bathrooms\"\n",
    "    ),\n",
    ")\n",
    "\n",
    "# adding literacy rate column:\n",
    "df_ap_agg = df_ap_agg.withColumn(\n",
    "    \"literacy_rate\", F.col(\"population\") / F.col(\"alphabetized_population\")\n",
    ")"
   ]
  },
  {
   "cell_type": "code",
   "execution_count": 108,
   "metadata": {},
   "outputs": [],
   "source": [
    "# fixing the column names:\n",
    "new_columns = list(map(lambda col: f\"ponderation_area_{col}\", df_ap_agg.columns))\n",
    "\n",
    "for i in range(len(df_ap_agg.columns)):\n",
    "    df_ap_agg = df_ap_agg.withColumnRenamed(df_ap_agg.columns[i], new_columns[i])\n",
    "\n",
    "# removing the extraneous columns:\n",
    "df_ap_agg = df_ap_agg.withColumnRenamed(\n",
    "    \"ponderation_area_ponderation_area_code\", \"ponderation_area_code\"\n",
    ")\n",
    "\n",
    "# sorting the dataframe columns:\n",
    "df_ap_agg = sort_dataframe_columns(df_ap_agg, \"ponderation_area_code\")\n",
    "\n",
    "# adding the resulting dataframe to the SQL Context:\n",
    "df_ap_agg.createOrReplaceTempView(\"tb_ponderation_raw_features\")"
   ]
  },
  {
   "cell_type": "code",
   "execution_count": 110,
   "metadata": {},
   "outputs": [],
   "source": [
    "# generating the final level of aggregation for the census features:\n",
    "Q_AP_GEOM = \"\"\"\n",
    "SELECT\n",
    "    A.*,\n",
    "    B.geometry,\n",
    "    ST_Centroid(B.geometry) as ponderation_area_centroid\n",
    "FROM tb_ponderation_raw_features as A\n",
    "LEFT JOIN tb_ponderation as B \n",
    "ON A.ponderation_area_code = B.ponderation_area_code\n",
    "\"\"\"\n",
    "\n",
    "df_ap_final = spark.sql(Q_AP_GEOM)"
   ]
  },
  {
   "cell_type": "markdown",
   "metadata": {},
   "source": [
    "### 5.1.2 Exporting Area of Ponderation level Results"
   ]
  },
  {
   "cell_type": "code",
   "execution_count": 111,
   "metadata": {},
   "outputs": [
    {
     "data": {
      "text/plain": [
       "True"
      ]
     },
     "execution_count": 111,
     "metadata": {},
     "output_type": "execute_result"
    }
   ],
   "source": [
    "# save the results to the specified directory:\n",
    "AP_OUTPUT = f\"areas_of_ponderation/tb_area_ponderation_census\"\n",
    "PROCESSED_UNITS_OF_INTEREST = \"../data/processed/sp_census/units_of_interest/\"\n",
    "\n",
    "save_to_filesystem(\n",
    "    df_ap_final, PROCESSED_UNITS_OF_INTEREST, AP_OUTPUT, AP_OUTPUT + \".parquet\"\n",
    ")"
   ]
  },
  {
   "cell_type": "code",
   "execution_count": 112,
   "metadata": {},
   "outputs": [
    {
     "data": {
      "text/plain": [
       "True"
      ]
     },
     "execution_count": 112,
     "metadata": {},
     "output_type": "execute_result"
    }
   ],
   "source": [
    "# saving without the geometry:\n",
    "df_ap_no_geo = df_ap_final.drop(\"geometry\", \"ponderation_area_centroid\")\n",
    "\n",
    "AP_NO_GEO = f\"areas_of_ponderation/tb_area_ponderation_census_no_geo\"\n",
    "\n",
    "save_to_filesystem(\n",
    "    df_ap_final, PROCESSED_UNITS_OF_INTEREST, AP_NO_GEO, AP_NO_GEO + \".parquet\"\n",
    ")"
   ]
  },
  {
   "cell_type": "markdown",
   "metadata": {},
   "source": [
    "## 5.2 Neighborhoods"
   ]
  },
  {
   "cell_type": "code",
   "execution_count": 113,
   "metadata": {},
   "outputs": [],
   "source": [
    "# adding the centroid and area of the polygons:\n",
    "Q_NEIGHBORHOOD_MATCH = \"\"\"\n",
    "SELECT \n",
    "    A.Name as neighborhood_name,\n",
    "    B.sector_code\n",
    "FROM tb_neighborhood as A, tb_sector_features as B\n",
    "WHERE ST_Contains(A.geometry, B.sector_centroid)\n",
    "\"\"\"\n",
    "\n",
    "# matching the areas of ponderation to their sectors:\n",
    "df_nb_match = spark.sql(Q_NEIGHBORHOOD_MATCH)\n",
    "\n",
    "# adding the resulting dataframe to the SQL Context:\n",
    "df_nb_match.createOrReplaceTempView(\"tb_nb_match\")"
   ]
  },
  {
   "cell_type": "code",
   "execution_count": 114,
   "metadata": {},
   "outputs": [],
   "source": [
    "# adding the features to the ponderation area back:\n",
    "Q_NB_RAW_FEATURES = \"\"\"\n",
    "SELECT\n",
    "    A.neighborhood_name,\n",
    "    B.*\n",
    "FROM tb_nb_match as A\n",
    "LEFT JOIN tb_sector_features as B\n",
    "ON A.sector_code = B.sector_code\n",
    "\"\"\"\n",
    "\n",
    "# reading back the dataset:\n",
    "df_nb_raw_features = spark.sql(Q_NB_RAW_FEATURES)\n",
    "\n",
    "# dropping the geometry columns and looking at the results:\n",
    "df_nb_raw_features = df_nb_raw_features.drop(\"geometry\", \"sector_centroid\")"
   ]
  },
  {
   "cell_type": "code",
   "execution_count": 115,
   "metadata": {},
   "outputs": [],
   "source": [
    "# verifying the data integrity:\n",
    "assert (\n",
    "    df_nb_raw_features.count() == df_nb_match.count()\n",
    "), \"There are more rows than expected in the final file\""
   ]
  },
  {
   "cell_type": "markdown",
   "metadata": {},
   "source": [
    "### 5.2.1 Aggregating Raw Neighborhood Features"
   ]
  },
  {
   "cell_type": "code",
   "execution_count": 118,
   "metadata": {},
   "outputs": [],
   "source": [
    "df_nb_agg = df_nb_raw_features.groupby(\"neighborhood_name\").agg(\n",
    "    F.sum(F.col(\"population\")).alias(\"population\"),\n",
    "    F.sum(F.col(\"alphabetized_people_with_5_or_more_years_age\")).alias(\n",
    "        \"alphabetized_population\"\n",
    "    ),\n",
    "    F.sum(F.when(F.col(\"ipvs_group\") > 5, 1).otherwise(0)).alias(\n",
    "        \"n_regions_high_social_vulnerability\"\n",
    "    ),\n",
    "    F.sum(F.when(F.col(\"ipvs_group\") == 5, 1).otherwise(0)).alias(\n",
    "        \"n_regions_medium_social_vulnerability\"\n",
    "    ),\n",
    "    F.sum(F.when(F.col(\"ipvs_group\") < 5, 1).otherwise(0)).alias(\n",
    "        \"n_regions_low_social_vulnerability\"\n",
    "    ),\n",
    "    F.max(F.when(F.col(\"ipvs_group\") != -1, F.col(\"ipvs_group\"))).alias(\n",
    "        \"max_ipvs_group\"\n",
    "    ),\n",
    "    F.min(F.when(F.col(\"ipvs_group\") != -1, F.col(\"ipvs_group\"))).alias(\n",
    "        \"min_ipvs_group\"\n",
    "    ),\n",
    "    F.avg(F.when(F.col(\"ipvs_group\") != -1, F.col(\"ipvs_group\"))).alias(\n",
    "        \"avg_ipvs_group\"\n",
    "    ),\n",
    "    F.sum(F.col(\"area_in_hectares\")).alias(\"area_in_hectares\"),\n",
    "    F.avg(\"population_density\").alias(\"average_population_density\"),\n",
    "    F.avg(F.col(\"average_age_responsible_people\")).alias(\n",
    "        \"average_age_household_leaders\"\n",
    "    ),\n",
    "    F.avg(F.col(\"average_age_women_responsible\")).alias(\n",
    "        \"average_age_women_household_leaders\"\n",
    "    ),\n",
    "    F.avg(F.col(\"average_household_income\")).alias(\"average_household_income\"),\n",
    "    F.avg(F.col(\"average_income_household_responsible\")).alias(\n",
    "        \"average_income_household_leaders\"\n",
    "    ),\n",
    "    F.avg(F.col(\"average_income_women_responsible\")).alias(\n",
    "        \"average_income_women_household_leaders\"\n",
    "    ),\n",
    "    F.avg(\n",
    "        F.col(\n",
    "            \"average_number_dwellers_permanent_private_households_obtained_by_var2_division_by_var1\"\n",
    "        )\n",
    "    ).alias(\"average_residents_per_household\"),\n",
    "    F.avg(F.col(\"average_residents_permanent_households\")).alias(\n",
    "        \"average_residents_in_permanent_households\"\n",
    "    ),\n",
    "    F.avg(F.col(\"children_only_from_person_responsible_private_households\")).alias(\n",
    "        \"average_number_children\"\n",
    "    ),\n",
    "    F.sum(F.col(\"dwellers_permanent_private_households_and_acquisition\")).alias(\n",
    "        \"residents_in_households_acquisition\"\n",
    "    ),\n",
    "    F.avg(F.col(\"factor_1\")).alias(\"average_ipvs_factor_1\"),\n",
    "    F.avg(F.col(\"factor_2\")).alias(\"average_ipvs_factor_2\"),\n",
    "    F.avg(F.col(\"factor_1_rural\")).alias(\"average_ipvs_factor_1_rural\"),\n",
    "    F.avg(F.col(\"factor_2_rural\")).alias(\"average_ipvs_factor_2_rural\"),\n",
    "    F.sum(\n",
    "        F.col(\"household_employees_private_households_males\")\n",
    "        + F.col(\"household_employees_private_households\")\n",
    "    ).alias(\"number_house_workers\"),\n",
    "    F.sum(F.col(\"households\")).alias(\"households\"),\n",
    "    F.sum(F.col(\"households_permanent\")).alias(\"permanent_housholds\"),\n",
    "    F.sum(F.col(\"improvised_households\")).alias(\"improvised_households\"),\n",
    "    F.sum(F.when(F.col(\"is_subnormal_aglomerate\") == True, 1).otherwise(0)).alias(\n",
    "        \"number_subnormal_aglomerates\"\n",
    "    ),\n",
    "    F.avg(F.col(\"per_capita_income\")).alias(\"average_per_capita_income\"),\n",
    "    F.sum(F.col(\"permanent_private_home_type_households_and_acquisition\")).alias(\n",
    "        \"permanent_private_houses_in_acquisition\"\n",
    "    ),\n",
    "    F.sum(F.col(\"permanent_private_home_type_households_and_clear\")).alias(\n",
    "        \"permanent_private_houses_fully_owned\"\n",
    "    ),\n",
    "    F.sum(F.col(\"permanent_private_household_homes_rented\")).alias(\n",
    "        \"permanent_private_rented_properties\"\n",
    "    ),\n",
    "    F.sum(F.col(\"permanent_private_households_acquisition\")).alias(\n",
    "        \"permanent_private_properties_in_acquisition\"\n",
    "    ),\n",
    "    F.sum(F.col(\"permanent_private_households_and_disposed\")).alias(\n",
    "        \"permanent_private_properties_fully_owned\"\n",
    "    ),\n",
    "    F.sum(F.col(\"permanent_private_households_rented\")).alias(\n",
    "        \"permanent_private_properties_rented\"\n",
    "    ),\n",
    "    F.sum(F.col(\"permanent_private_households_with_10_or_more_residents\")).alias(\n",
    "        \"permanent_private_households_with_10_or_more_residents\"\n",
    "    ),\n",
    "    F.sum(F.col(\"permanent_private_households_with_1_resident\")).alias(\n",
    "        \"permanent_private_households_with_1_resident\"\n",
    "    ),\n",
    "    F.sum(F.col(\"permanent_private_households_with_2_residents\")).alias(\n",
    "        \"permanent_private_households_with_2_residents\"\n",
    "    ),\n",
    "    F.sum(F.col(\"permanent_private_households_with_3_residents\")).alias(\n",
    "        \"permanent_private_households_with_3_residents\"\n",
    "    ),\n",
    "    F.sum(F.col(\"permanent_private_households_with_4_residents\")).alias(\n",
    "        \"permanent_private_households_with_4_residents\"\n",
    "    ),\n",
    "    F.sum(F.col(\"permanent_private_households_with_5_residents\")).alias(\n",
    "        \"permanent_private_households_with_5_residents\"\n",
    "    ),\n",
    "    F.sum(F.col(\"permanent_private_households_with_6_residents\")).alias(\n",
    "        \"permanent_private_households_with_6_residents\"\n",
    "    ),\n",
    "    F.sum(F.col(\"permanent_private_households_with_7_residents\")).alias(\n",
    "        \"permanent_private_households_with_7_residents\"\n",
    "    ),\n",
    "    F.sum(F.col(\"permanent_private_households_with_8_residents\")).alias(\n",
    "        \"permanent_private_households_with_8_residents\"\n",
    "    ),\n",
    "    F.sum(F.col(\"permanent_private_households_with_9_residents\")).alias(\n",
    "        \"permanent_private_households_with_9_residents\"\n",
    "    ),\n",
    "    F.sum(F.col(\"permanent_private_households_with_electricity\")).alias(\n",
    "        \"permanent_private_households_with_electricity\"\n",
    "    ),\n",
    "    F.sum(\n",
    "        F.col(\"permanent_private_households_without_exclusive_use_bathroom_residents\")\n",
    "    ).alias(\"permanent_private_households_without_exclusive_use_bathroom_residents\"),\n",
    "    F.avg(F.col(\"permanent_private_home_type_households_and_acquisition\")).alias(\n",
    "        \"average_permanent_private_houses_in_acquisition\"\n",
    "    ),\n",
    "    F.avg(F.col(\"permanent_private_home_type_households_and_clear\")).alias(\n",
    "        \"average_permanent_private_houses_fully_owned\"\n",
    "    ),\n",
    "    F.avg(F.col(\"permanent_private_household_homes_rented\")).alias(\n",
    "        \"average_permanent_private_rented_properties\"\n",
    "    ),\n",
    "    F.avg(F.col(\"permanent_private_households_acquisition\")).alias(\n",
    "        \"average_permanent_private_properties_in_acquisition\"\n",
    "    ),\n",
    "    F.avg(F.col(\"permanent_private_households_and_disposed\")).alias(\n",
    "        \"average_permanent_private_properties_fully_owned\"\n",
    "    ),\n",
    "    F.avg(F.col(\"permanent_private_households_rented\")).alias(\n",
    "        \"average_permanent_private_properties_rented\"\n",
    "    ),\n",
    "    F.avg(F.col(\"permanent_private_households_with_10_or_more_residents\")).alias(\n",
    "        \"average_permanent_private_households_with_10_or_more_residents\"\n",
    "    ),\n",
    "    F.avg(F.col(\"permanent_private_households_with_1_resident\")).alias(\n",
    "        \"average_permanent_private_households_with_1_resident\"\n",
    "    ),\n",
    "    F.avg(F.col(\"permanent_private_households_with_2_residents\")).alias(\n",
    "        \"average_permanent_private_households_with_2_residents\"\n",
    "    ),\n",
    "    F.avg(F.col(\"permanent_private_households_with_3_residents\")).alias(\n",
    "        \"average_permanent_private_households_with_3_residents\"\n",
    "    ),\n",
    "    F.avg(F.col(\"permanent_private_households_with_4_residents\")).alias(\n",
    "        \"average_permanent_private_households_with_4_residents\"\n",
    "    ),\n",
    "    F.avg(F.col(\"permanent_private_households_with_5_residents\")).alias(\n",
    "        \"average_permanent_private_households_with_5_residents\"\n",
    "    ),\n",
    "    F.avg(F.col(\"permanent_private_households_with_6_residents\")).alias(\n",
    "        \"average_permanent_private_households_with_6_residents\"\n",
    "    ),\n",
    "    F.avg(F.col(\"permanent_private_households_with_7_residents\")).alias(\n",
    "        \"average_permanent_private_households_with_7_residents\"\n",
    "    ),\n",
    "    F.avg(F.col(\"permanent_private_households_with_8_residents\")).alias(\n",
    "        \"average_permanent_private_households_with_8_residents\"\n",
    "    ),\n",
    "    F.avg(F.col(\"permanent_private_households_with_9_residents\")).alias(\n",
    "        \"average_permanent_private_households_with_9_residents\"\n",
    "    ),\n",
    "    F.avg(F.col(\"permanent_private_households_with_electricity\")).alias(\n",
    "        \"average_permanent_private_households_with_electricity\"\n",
    "    ),\n",
    "    F.avg(\n",
    "        F.col(\"permanent_private_households_without_exclusive_use_bathroom_residents\")\n",
    "    ).alias(\n",
    "        \"average_permanent_private_households_without_exclusive_use_bathroom_residents\"\n",
    "    ),\n",
    "    F.avg(F.col(\"prop_households_electricity\")).alias(\n",
    "        \"average_proportion_households_electricity\"\n",
    "    ),\n",
    "    F.avg(F.col(\"prop_households_no_income\")).alias(\n",
    "        \"average_proportion_households_no_income\"\n",
    "    ),\n",
    "    F.avg(F.col(\"prop_households_one_halft_sm_income\")).alias(\n",
    "        \"average_proportion_households_one_halft_sm_income\"\n",
    "    ),\n",
    "    F.avg(F.col(\"prop_households_sanitation\")).alias(\n",
    "        \"average_proportion_households_sanitation\"\n",
    "    ),\n",
    "    F.avg(F.col(\"prop_households_trash_collection\")).alias(\n",
    "        \"average_proportion_households_trash_collection\"\n",
    "    ),\n",
    "    F.avg(F.col(\"prop_households_two_or_more_income\")).alias(\n",
    "        \"average_proportion_households_two_or_more_income\"\n",
    "    ),\n",
    "    F.avg(F.col(\"prop_households_two_sm_income\")).alias(\n",
    "        \"average_proportion_households_two_sm_income\"\n",
    "    ),\n",
    "    F.avg(F.col(\"prop_househols_one_eigth_sm_income\")).alias(\n",
    "        \"average_proportion_househols_one_eigth_sm_income\"\n",
    "    ),\n",
    "    F.avg(F.col(\"prop_income_participation_in_household_responsible\")).alias(\n",
    "        \"average_proportion_income_participation_in_household_responsible\"\n",
    "    ),\n",
    "    F.avg(F.col(\"prop_literate_people\")).alias(\"average_proportion_literate_people\"),\n",
    "    F.avg(F.col(\"prop_literate_women\")).alias(\"average_proportion_literate_women\"),\n",
    "    F.avg(F.col(\"prop_private_households_one_half_sm_income\")).alias(\n",
    "        \"average_proportion_private_households_one_half_sm_income\"\n",
    "    ),\n",
    "    F.avg(F.col(\"prop_private_households_one_quarter_sm_income\")).alias(\n",
    "        \"average_proportion_private_households_one_quarter_sm_income\"\n",
    "    ),\n",
    "    F.avg(F.col(\"prop_women_up_to_30_years\")).alias(\n",
    "        \"average_proportion_women_up_to_30_years\"\n",
    "    ),\n",
    "    F.avg(F.col(\"prop_0_5_age_population\")).alias(\n",
    "        \"average_proportion_population_up_to_5_years_age\"\n",
    "    ),\n",
    "    F.avg(F.col(\"prop_households_access_water\")).alias(\n",
    "        \"average_prop_households_access_water\"\n",
    "    ),\n",
    "    F.avg(F.col(\"prop_responsible_people_up_to_30_years\")).alias(\n",
    "        \"average_proportion_responsible_people_up_to_30_years\"\n",
    "    ),\n",
    "    F.avg(\n",
    "        F.col(\n",
    "            \"value_average_monthly_nominal_income_persons_responsible_for_permanent_private_households_with_and_without_income\"\n",
    "        )\n",
    "    ).alias(\"average_monthly_income\"),\n",
    "    F.sum(F.col(\"total_responsible_people\")).alias(\"population_house_leaders\"),\n",
    "    F.sum(F.col(\"residents_permanent_permanent_households\")).alias(\n",
    "        \"residents_in_permanent_households\"\n",
    "    ),\n",
    "    F.sum(F.col(\"residents_permanent_private_households_apartment_type\")).alias(\n",
    "        \"residents_in_apartments\"\n",
    "    ),\n",
    "    F.sum(\n",
    "        F.col(\n",
    "            \"residents_permanent_private_households_or_population_residing_permanent_private_households\"\n",
    "        )\n",
    "    ).alias(\"residents_in_private_households\"),\n",
    "    F.sum(F.col(\"residents_permanent_private_households_rented\")).alias(\n",
    "        \"residents_in_rented_properties\"\n",
    "    ),\n",
    "    F.sum(F.col(\"residents_private_households_and_collective_households\")).alias(\n",
    "        \"residents_in_collective_households\"\n",
    "    ),\n",
    "    F.sum(F.col(\"permanent_private_households_with_3_bathrooms_residents\")).alias(\n",
    "        \"permanent_private_households_with_up_to_3_bathrooms\"\n",
    "    ),\n",
    ")\n",
    "\n",
    "# adding literacy rate column:\n",
    "df_nb_agg = df_nb_agg.withColumn(\n",
    "    \"literacy_rate\", F.col(\"population\") / F.col(\"alphabetized_population\")\n",
    ")"
   ]
  },
  {
   "cell_type": "code",
   "execution_count": 119,
   "metadata": {},
   "outputs": [],
   "source": [
    "# fixing the column names:\n",
    "new_columns = list(map(lambda col: f\"neighborhood_{col}\", df_nb_agg.columns))\n",
    "\n",
    "for i in range(len(df_ap_agg.columns)):\n",
    "    df_nb_agg = df_nb_agg.withColumnRenamed(df_nb_agg.columns[i], new_columns[i])\n",
    "\n",
    "df_nb_agg = df_nb_agg.withColumnRenamed(\n",
    "    \"neighborhood_neighborhood_name\", \"neighborhood_name\"\n",
    ")\n",
    "\n",
    "# sorting the dataframe columns:\n",
    "df_nb_agg = sort_dataframe_columns(df_nb_agg, \"neighborhood_name\")"
   ]
  },
  {
   "cell_type": "code",
   "execution_count": 120,
   "metadata": {},
   "outputs": [],
   "source": [
    "# adding the resulting dataframe to the SQL Context:\n",
    "df_nb_agg.createOrReplaceTempView(\"tb_neighborhood_features\")\n",
    "\n",
    "# generating the final level of aggregation for the census features:\n",
    "Q_NB_GEOM = \"\"\"\n",
    "SELECT\n",
    "    A.*,\n",
    "    B.geometry,\n",
    "    ST_Centroid(B.geometry) as neighborhood_centroid\n",
    "FROM tb_neighborhood_features as A\n",
    "LEFT JOIN tb_neighborhood as B \n",
    "ON A.neighborhood_name = B.Name\n",
    "\"\"\"\n",
    "\n",
    "df_nb_final = spark.sql(Q_NB_GEOM)"
   ]
  },
  {
   "cell_type": "markdown",
   "metadata": {},
   "source": [
    "### 5.2.2 Exporting Neighborhood level Results"
   ]
  },
  {
   "cell_type": "code",
   "execution_count": 121,
   "metadata": {},
   "outputs": [
    {
     "data": {
      "text/plain": [
       "True"
      ]
     },
     "execution_count": 121,
     "metadata": {},
     "output_type": "execute_result"
    }
   ],
   "source": [
    "# save the results to the specified directory:\n",
    "NB_OUTPUT = f\"neighborhoods/tb_neighborhood_census\"\n",
    "PROCESSED_UNITS_OF_INTEREST = \"../data/processed/sp_census/units_of_interest/\"\n",
    "\n",
    "save_to_filesystem(\n",
    "    df_nb_final, PROCESSED_UNITS_OF_INTEREST, NB_OUTPUT, NB_OUTPUT + \".parquet\"\n",
    ")"
   ]
  },
  {
   "cell_type": "code",
   "execution_count": 122,
   "metadata": {},
   "outputs": [
    {
     "data": {
      "text/plain": [
       "True"
      ]
     },
     "execution_count": 122,
     "metadata": {},
     "output_type": "execute_result"
    }
   ],
   "source": [
    "# saving the results the results without geometries:\n",
    "NB_NO_GEO = f\"neighborhoods/tb_neighborhood_census_no_geo\"\n",
    "\n",
    "df_nb_no_geo = df_nb_final.drop(\"geometry\", \"neighborhood_centroid\")\n",
    "\n",
    "save_to_filesystem(\n",
    "    df_nb_no_geo, PROCESSED_UNITS_OF_INTEREST, NB_NO_GEO, NB_NO_GEO + \".parquet\"\n",
    ")"
   ]
  },
  {
   "cell_type": "markdown",
   "metadata": {},
   "source": [
    "## 5.3 Districts"
   ]
  },
  {
   "cell_type": "code",
   "execution_count": 123,
   "metadata": {},
   "outputs": [],
   "source": [
    "# adding the centroid and area of the polygons:\n",
    "Q_DS_MATCH = \"\"\"\n",
    "SELECT \n",
    "    A.district_name,\n",
    "    B.sector_code\n",
    "FROM tb_district as A, tb_sector_features as B\n",
    "WHERE ST_Contains(A.geometry, B.sector_centroid)\n",
    "\"\"\"\n",
    "\n",
    "# matching the areas of ponderation to their sectors:\n",
    "df_ds_match = spark.sql(Q_DS_MATCH)"
   ]
  },
  {
   "cell_type": "code",
   "execution_count": 124,
   "metadata": {},
   "outputs": [],
   "source": [
    "# adding the resulting dataframe to the SQL Context:\n",
    "df_ds_match.createOrReplaceTempView(\"tb_ds_match\")\n",
    "df_sector_features = df_sector_features.drop(\"district_name\")\n",
    "df_sector_features.createOrReplaceTempView(\"tb_sector_features\")"
   ]
  },
  {
   "cell_type": "code",
   "execution_count": 125,
   "metadata": {},
   "outputs": [],
   "source": [
    "# adding the features to the ponderation area back:\n",
    "Q_DS_RAW_FEATURES = \"\"\"\n",
    "SELECT\n",
    "    A.district_name,\n",
    "    B.*\n",
    "FROM tb_ds_match as A\n",
    "LEFT JOIN tb_sector_features as B\n",
    "ON A.sector_code = B.sector_code\n",
    "\"\"\"\n",
    "\n",
    "# reading back the dataset:\n",
    "df_ds_raw_features = spark.sql(Q_DS_RAW_FEATURES)\n",
    "\n",
    "# dropping the geometry columns and looking at the results:\n",
    "df_ds_raw_features = df_ds_raw_features.drop(\"geometry\", \"sector_centroid\")"
   ]
  },
  {
   "cell_type": "markdown",
   "metadata": {},
   "source": [
    "### 5.3.1 Aggregating Raw District Features"
   ]
  },
  {
   "cell_type": "code",
   "execution_count": 126,
   "metadata": {},
   "outputs": [],
   "source": [
    "df_ds_agg = df_ds_raw_features.groupby(\"district_name\").agg(\n",
    "    F.sum(F.col(\"population\")).alias(\"population\"),\n",
    "    F.sum(F.col(\"alphabetized_people_with_5_or_more_years_age\")).alias(\n",
    "        \"alphabetized_population\"\n",
    "    ),\n",
    "    F.sum(F.when(F.col(\"ipvs_group\") > 5, 1).otherwise(0)).alias(\n",
    "        \"n_regions_high_social_vulnerability\"\n",
    "    ),\n",
    "    F.sum(F.when(F.col(\"ipvs_group\") == 5, 1).otherwise(0)).alias(\n",
    "        \"n_regions_medium_social_vulnerability\"\n",
    "    ),\n",
    "    F.sum(F.when(F.col(\"ipvs_group\") < 5, 1).otherwise(0)).alias(\n",
    "        \"n_regions_low_social_vulnerability\"\n",
    "    ),\n",
    "    F.max(F.when(F.col(\"ipvs_group\") != -1, F.col(\"ipvs_group\"))).alias(\n",
    "        \"max_ipvs_group\"\n",
    "    ),\n",
    "    F.min(F.when(F.col(\"ipvs_group\") != -1, F.col(\"ipvs_group\"))).alias(\n",
    "        \"min_ipvs_group\"\n",
    "    ),\n",
    "    F.avg(F.when(F.col(\"ipvs_group\") != -1, F.col(\"ipvs_group\"))).alias(\n",
    "        \"avg_ipvs_group\"\n",
    "    ),\n",
    "    F.sum(F.col(\"area_in_hectares\")).alias(\"area_in_hectares\"),\n",
    "    F.avg(\"population_density\").alias(\"average_population_density\"),\n",
    "    F.avg(F.col(\"average_age_responsible_people\")).alias(\n",
    "        \"average_age_household_leaders\"\n",
    "    ),\n",
    "    F.avg(F.col(\"average_age_women_responsible\")).alias(\n",
    "        \"average_age_women_household_leaders\"\n",
    "    ),\n",
    "    F.avg(F.col(\"average_household_income\")).alias(\"average_household_income\"),\n",
    "    F.avg(F.col(\"average_income_household_responsible\")).alias(\n",
    "        \"average_income_household_leaders\"\n",
    "    ),\n",
    "    F.avg(F.col(\"average_income_women_responsible\")).alias(\n",
    "        \"average_income_women_household_leaders\"\n",
    "    ),\n",
    "    F.avg(\n",
    "        F.col(\n",
    "            \"average_number_dwellers_permanent_private_households_obtained_by_var2_division_by_var1\"\n",
    "        )\n",
    "    ).alias(\"average_residents_per_household\"),\n",
    "    F.avg(F.col(\"average_residents_permanent_households\")).alias(\n",
    "        \"average_residents_in_permanent_households\"\n",
    "    ),\n",
    "    F.avg(F.col(\"children_only_from_person_responsible_private_households\")).alias(\n",
    "        \"average_number_children\"\n",
    "    ),\n",
    "    F.sum(F.col(\"dwellers_permanent_private_households_and_acquisition\")).alias(\n",
    "        \"residents_in_households_acquisition\"\n",
    "    ),\n",
    "    F.avg(F.col(\"factor_1\")).alias(\"average_ipvs_factor_1\"),\n",
    "    F.avg(F.col(\"factor_2\")).alias(\"average_ipvs_factor_2\"),\n",
    "    F.avg(F.col(\"factor_1_rural\")).alias(\"average_ipvs_factor_1_rural\"),\n",
    "    F.avg(F.col(\"factor_2_rural\")).alias(\"average_ipvs_factor_2_rural\"),\n",
    "    F.sum(\n",
    "        F.col(\"household_employees_private_households_males\")\n",
    "        + F.col(\"household_employees_private_households\")\n",
    "    ).alias(\"number_house_workers\"),\n",
    "    F.sum(F.col(\"households\")).alias(\"households\"),\n",
    "    F.sum(F.col(\"households_permanent\")).alias(\"permanent_housholds\"),\n",
    "    F.sum(F.col(\"improvised_households\")).alias(\"improvised_households\"),\n",
    "    F.sum(F.when(F.col(\"is_subnormal_aglomerate\") == True, 1).otherwise(0)).alias(\n",
    "        \"number_subnormal_aglomerates\"\n",
    "    ),\n",
    "    F.avg(F.col(\"per_capita_income\")).alias(\"average_per_capita_income\"),\n",
    "    F.sum(F.col(\"permanent_private_home_type_households_and_acquisition\")).alias(\n",
    "        \"permanent_private_houses_in_acquisition\"\n",
    "    ),\n",
    "    F.sum(F.col(\"permanent_private_home_type_households_and_clear\")).alias(\n",
    "        \"permanent_private_houses_fully_owned\"\n",
    "    ),\n",
    "    F.sum(F.col(\"permanent_private_household_homes_rented\")).alias(\n",
    "        \"permanent_private_rented_properties\"\n",
    "    ),\n",
    "    F.sum(F.col(\"permanent_private_households_acquisition\")).alias(\n",
    "        \"permanent_private_properties_in_acquisition\"\n",
    "    ),\n",
    "    F.sum(F.col(\"permanent_private_households_and_disposed\")).alias(\n",
    "        \"permanent_private_properties_fully_owned\"\n",
    "    ),\n",
    "    F.sum(F.col(\"permanent_private_households_rented\")).alias(\n",
    "        \"permanent_private_properties_rented\"\n",
    "    ),\n",
    "    F.sum(F.col(\"permanent_private_households_with_10_or_more_residents\")).alias(\n",
    "        \"permanent_private_households_with_10_or_more_residents\"\n",
    "    ),\n",
    "    F.sum(F.col(\"permanent_private_households_with_1_resident\")).alias(\n",
    "        \"permanent_private_households_with_1_resident\"\n",
    "    ),\n",
    "    F.sum(F.col(\"permanent_private_households_with_2_residents\")).alias(\n",
    "        \"permanent_private_households_with_2_residents\"\n",
    "    ),\n",
    "    F.sum(F.col(\"permanent_private_households_with_3_residents\")).alias(\n",
    "        \"permanent_private_households_with_3_residents\"\n",
    "    ),\n",
    "    F.sum(F.col(\"permanent_private_households_with_4_residents\")).alias(\n",
    "        \"permanent_private_households_with_4_residents\"\n",
    "    ),\n",
    "    F.sum(F.col(\"permanent_private_households_with_5_residents\")).alias(\n",
    "        \"permanent_private_households_with_5_residents\"\n",
    "    ),\n",
    "    F.sum(F.col(\"permanent_private_households_with_6_residents\")).alias(\n",
    "        \"permanent_private_households_with_6_residents\"\n",
    "    ),\n",
    "    F.sum(F.col(\"permanent_private_households_with_7_residents\")).alias(\n",
    "        \"permanent_private_households_with_7_residents\"\n",
    "    ),\n",
    "    F.sum(F.col(\"permanent_private_households_with_8_residents\")).alias(\n",
    "        \"permanent_private_households_with_8_residents\"\n",
    "    ),\n",
    "    F.sum(F.col(\"permanent_private_households_with_9_residents\")).alias(\n",
    "        \"permanent_private_households_with_9_residents\"\n",
    "    ),\n",
    "    F.sum(F.col(\"permanent_private_households_with_electricity\")).alias(\n",
    "        \"permanent_private_households_with_electricity\"\n",
    "    ),\n",
    "    F.sum(\n",
    "        F.col(\"permanent_private_households_without_exclusive_use_bathroom_residents\")\n",
    "    ).alias(\"permanent_private_households_without_exclusive_use_bathroom_residents\"),\n",
    "    F.avg(F.col(\"permanent_private_home_type_households_and_acquisition\")).alias(\n",
    "        \"average_permanent_private_houses_in_acquisition\"\n",
    "    ),\n",
    "    F.avg(F.col(\"permanent_private_home_type_households_and_clear\")).alias(\n",
    "        \"average_permanent_private_houses_fully_owned\"\n",
    "    ),\n",
    "    F.avg(F.col(\"permanent_private_household_homes_rented\")).alias(\n",
    "        \"average_permanent_private_rented_properties\"\n",
    "    ),\n",
    "    F.avg(F.col(\"permanent_private_households_acquisition\")).alias(\n",
    "        \"average_permanent_private_properties_in_acquisition\"\n",
    "    ),\n",
    "    F.avg(F.col(\"permanent_private_households_and_disposed\")).alias(\n",
    "        \"average_permanent_private_properties_fully_owned\"\n",
    "    ),\n",
    "    F.avg(F.col(\"permanent_private_households_rented\")).alias(\n",
    "        \"average_permanent_private_properties_rented\"\n",
    "    ),\n",
    "    F.avg(F.col(\"permanent_private_households_with_10_or_more_residents\")).alias(\n",
    "        \"average_permanent_private_households_with_10_or_more_residents\"\n",
    "    ),\n",
    "    F.avg(F.col(\"permanent_private_households_with_1_resident\")).alias(\n",
    "        \"average_permanent_private_households_with_1_resident\"\n",
    "    ),\n",
    "    F.avg(F.col(\"permanent_private_households_with_2_residents\")).alias(\n",
    "        \"average_permanent_private_households_with_2_residents\"\n",
    "    ),\n",
    "    F.avg(F.col(\"permanent_private_households_with_3_residents\")).alias(\n",
    "        \"average_permanent_private_households_with_3_residents\"\n",
    "    ),\n",
    "    F.avg(F.col(\"permanent_private_households_with_4_residents\")).alias(\n",
    "        \"average_permanent_private_households_with_4_residents\"\n",
    "    ),\n",
    "    F.avg(F.col(\"permanent_private_households_with_5_residents\")).alias(\n",
    "        \"average_permanent_private_households_with_5_residents\"\n",
    "    ),\n",
    "    F.avg(F.col(\"permanent_private_households_with_6_residents\")).alias(\n",
    "        \"average_permanent_private_households_with_6_residents\"\n",
    "    ),\n",
    "    F.avg(F.col(\"permanent_private_households_with_7_residents\")).alias(\n",
    "        \"average_permanent_private_households_with_7_residents\"\n",
    "    ),\n",
    "    F.avg(F.col(\"permanent_private_households_with_8_residents\")).alias(\n",
    "        \"average_permanent_private_households_with_8_residents\"\n",
    "    ),\n",
    "    F.avg(F.col(\"permanent_private_households_with_9_residents\")).alias(\n",
    "        \"average_permanent_private_households_with_9_residents\"\n",
    "    ),\n",
    "    F.avg(F.col(\"permanent_private_households_with_electricity\")).alias(\n",
    "        \"average_permanent_private_households_with_electricity\"\n",
    "    ),\n",
    "    F.avg(\n",
    "        F.col(\"permanent_private_households_without_exclusive_use_bathroom_residents\")\n",
    "    ).alias(\n",
    "        \"average_permanent_private_households_without_exclusive_use_bathroom_residents\"\n",
    "    ),\n",
    "    F.avg(F.col(\"prop_households_electricity\")).alias(\n",
    "        \"average_proportion_households_electricity\"\n",
    "    ),\n",
    "    F.avg(F.col(\"prop_households_no_income\")).alias(\n",
    "        \"average_proportion_households_no_income\"\n",
    "    ),\n",
    "    F.avg(F.col(\"prop_households_one_halft_sm_income\")).alias(\n",
    "        \"average_proportion_households_one_halft_sm_income\"\n",
    "    ),\n",
    "    F.avg(F.col(\"prop_households_sanitation\")).alias(\n",
    "        \"average_proportion_households_sanitation\"\n",
    "    ),\n",
    "    F.avg(F.col(\"prop_households_trash_collection\")).alias(\n",
    "        \"average_proportion_households_trash_collection\"\n",
    "    ),\n",
    "    F.avg(F.col(\"prop_households_two_or_more_income\")).alias(\n",
    "        \"average_proportion_households_two_or_more_income\"\n",
    "    ),\n",
    "    F.avg(F.col(\"prop_households_two_sm_income\")).alias(\n",
    "        \"average_proportion_households_two_sm_income\"\n",
    "    ),\n",
    "    F.avg(F.col(\"prop_househols_one_eigth_sm_income\")).alias(\n",
    "        \"average_proportion_househols_one_eigth_sm_income\"\n",
    "    ),\n",
    "    F.avg(F.col(\"prop_income_participation_in_household_responsible\")).alias(\n",
    "        \"average_proportion_income_participation_in_household_responsible\"\n",
    "    ),\n",
    "    F.avg(F.col(\"prop_literate_people\")).alias(\"average_proportion_literate_people\"),\n",
    "    F.avg(F.col(\"prop_literate_women\")).alias(\"average_proportion_literate_women\"),\n",
    "    F.avg(F.col(\"prop_private_households_one_half_sm_income\")).alias(\n",
    "        \"average_proportion_private_households_one_half_sm_income\"\n",
    "    ),\n",
    "    F.avg(F.col(\"prop_private_households_one_quarter_sm_income\")).alias(\n",
    "        \"average_proportion_private_households_one_quarter_sm_income\"\n",
    "    ),\n",
    "    F.avg(F.col(\"prop_women_up_to_30_years\")).alias(\n",
    "        \"average_proportion_women_up_to_30_years\"\n",
    "    ),\n",
    "    F.avg(F.col(\"prop_0_5_age_population\")).alias(\n",
    "        \"average_proportion_population_up_to_5_years_age\"\n",
    "    ),\n",
    "    F.avg(F.col(\"prop_households_access_water\")).alias(\n",
    "        \"average_prop_households_access_water\"\n",
    "    ),\n",
    "    F.avg(F.col(\"prop_responsible_people_up_to_30_years\")).alias(\n",
    "        \"average_proportion_responsible_people_up_to_30_years\"\n",
    "    ),\n",
    "    F.avg(\n",
    "        F.col(\n",
    "            \"value_average_monthly_nominal_income_persons_responsible_for_permanent_private_households_with_and_without_income\"\n",
    "        )\n",
    "    ).alias(\"average_monthly_income\"),\n",
    "    F.sum(F.col(\"total_responsible_people\")).alias(\"population_house_leaders\"),\n",
    "    F.sum(F.col(\"residents_permanent_permanent_households\")).alias(\n",
    "        \"residents_in_permanent_households\"\n",
    "    ),\n",
    "    F.sum(F.col(\"residents_permanent_private_households_apartment_type\")).alias(\n",
    "        \"residents_in_apartments\"\n",
    "    ),\n",
    "    F.sum(\n",
    "        F.col(\n",
    "            \"residents_permanent_private_households_or_population_residing_permanent_private_households\"\n",
    "        )\n",
    "    ).alias(\"residents_in_private_households\"),\n",
    "    F.sum(F.col(\"residents_permanent_private_households_rented\")).alias(\n",
    "        \"residents_in_rented_properties\"\n",
    "    ),\n",
    "    F.sum(F.col(\"residents_private_households_and_collective_households\")).alias(\n",
    "        \"residents_in_collective_households\"\n",
    "    ),\n",
    "    F.sum(F.col(\"permanent_private_households_with_3_bathrooms_residents\")).alias(\n",
    "        \"permanent_private_households_with_up_to_3_bathrooms\"\n",
    "    ),\n",
    ")\n",
    "\n",
    "# adding literacy rate column:\n",
    "df_ds_agg = df_ds_agg.withColumn(\n",
    "    \"literacy_rate\", F.col(\"population\") / F.col(\"alphabetized_population\")\n",
    ")"
   ]
  },
  {
   "cell_type": "code",
   "execution_count": 127,
   "metadata": {},
   "outputs": [],
   "source": [
    "# fixing the column names:\n",
    "new_columns = list(map(lambda col: f\"district_{col}\", df_ds_agg.columns))\n",
    "\n",
    "for i in range(len(df_ds_agg.columns)):\n",
    "    df_ds_agg = df_ds_agg.withColumnRenamed(df_ds_agg.columns[i], new_columns[i])\n",
    "\n",
    "df_ds_agg = df_ds_agg.withColumnRenamed(\"district_district_name\", \"district\")\n",
    "\n",
    "# sorting the dataframe columns:\n",
    "df_ds_agg = sort_dataframe_columns(df_ds_agg, \"district\")"
   ]
  },
  {
   "cell_type": "code",
   "execution_count": 128,
   "metadata": {},
   "outputs": [],
   "source": [
    "# adding the resulting dataframe to the SQL Context:\n",
    "df_ds_agg.createOrReplaceTempView(\"tb_district_features\")\n",
    "\n",
    "# generating the final level of aggregation for the census features:\n",
    "Q_DS_GEOM = \"\"\"\n",
    "SELECT\n",
    "    A.*,\n",
    "    B.geometry,\n",
    "    ST_Centroid(B.geometry) as district_centroid\n",
    "FROM tb_district_features as A\n",
    "LEFT JOIN tb_district as B \n",
    "ON A.district = B.district_name\n",
    "\"\"\"\n",
    "\n",
    "df_ds_final = spark.sql(Q_DS_GEOM)"
   ]
  },
  {
   "cell_type": "markdown",
   "metadata": {},
   "source": [
    "### 5.3.2 Exporting District level Results"
   ]
  },
  {
   "cell_type": "code",
   "execution_count": 129,
   "metadata": {},
   "outputs": [
    {
     "data": {
      "text/plain": [
       "True"
      ]
     },
     "execution_count": 129,
     "metadata": {},
     "output_type": "execute_result"
    }
   ],
   "source": [
    "# save the results to the specified directory:\n",
    "DS_OUTPUT = f\"districts/tb_district_census\"\n",
    "PROCESSED_UNITS_OF_INTEREST = \"../data/processed/sp_census/units_of_interest/\"\n",
    "\n",
    "save_to_filesystem(\n",
    "    df_ds_final, PROCESSED_UNITS_OF_INTEREST, DS_OUTPUT, DS_OUTPUT + \".parquet\"\n",
    ")"
   ]
  },
  {
   "cell_type": "code",
   "execution_count": 130,
   "metadata": {},
   "outputs": [
    {
     "data": {
      "text/plain": [
       "True"
      ]
     },
     "execution_count": 130,
     "metadata": {},
     "output_type": "execute_result"
    }
   ],
   "source": [
    "# saving the results the results without geometries:\n",
    "DS_NO_GEO = f\"districts/tb_district_census_no_geo\"\n",
    "\n",
    "df_ds_no_geo = df_ds_final.drop(\"geometry\", \"district_centroid\")\n",
    "\n",
    "save_to_filesystem(\n",
    "    df_ds_no_geo, PROCESSED_UNITS_OF_INTEREST, DS_NO_GEO, DS_NO_GEO + \".parquet\"\n",
    ")"
   ]
  },
  {
   "cell_type": "markdown",
   "metadata": {},
   "source": [
    "## 5.4 Zip Code\n",
    "\n",
    "The deal with the Zip codes is that, different from a polygon, it does not represent an enclosed structure. With that, with that, the approach we were developing before that included matching the centroids of the census sectors to the polygon in which they are located. The base shapes are `linestrings` instead. `linestrings` can intersect census sectors, for example. With that, we will have an `intersection` join instead of `containment` spatial join.\n",
    "\n",
    "Why can't we just calculate the middle point from the line representing the sector instead and use it as a reference? That could certainly work, but it does not capture much of the variation in longer streets (and thus some zipcodes might have less accurate representations). Performing the crossing join is a way to capture more of the variation along the same street.\n",
    "\n",
    "> **Note**: this can be quite an expensive operation, since we end up with a many-to-many relationship established. One street can cross multiple sectors and sectors can be crossed by multiple streets (zip codes). It should be taken into consideration. "
   ]
  },
  {
   "cell_type": "code",
   "execution_count": 131,
   "metadata": {},
   "outputs": [],
   "source": [
    "# calculating the\n",
    "Q_ZIPCODE_MATCH = \"\"\"\n",
    "SELECT \n",
    "    A.zipcode,\n",
    "    B.sector_code\n",
    "FROM tb_zipcode as A, tb_sector_features as B\n",
    "WHERE ST_Intersects(B.geometry, A.geometry)\n",
    "\"\"\"\n",
    "\n",
    "# matching the areas of ponderation to their sectors:\n",
    "df_zipcode_match = spark.sql(Q_ZIPCODE_MATCH)\n",
    "\n",
    "# adding the resulting dataframe to the SQL Context:\n",
    "df_zipcode_match.createOrReplaceTempView(\"tb_zipcode_match\")"
   ]
  },
  {
   "cell_type": "code",
   "execution_count": 132,
   "metadata": {},
   "outputs": [
    {
     "data": {
      "text/html": [
       "<table border='1'>\n",
       "<tr><th>zipcode</th><th>sector_code</th></tr>\n",
       "<tr><td>04886050</td><td>355030855000057</td></tr>\n",
       "<tr><td>04891110</td><td>355030855000042</td></tr>\n",
       "<tr><td>04891160</td><td>355030855000041</td></tr>\n",
       "<tr><td>04888080</td><td>355030855000056</td></tr>\n",
       "<tr><td>04890490</td><td>355030855000031</td></tr>\n",
       "</table>\n",
       "only showing top 5 rows\n"
      ],
      "text/plain": [
       "+--------+---------------+\n",
       "| zipcode|    sector_code|\n",
       "+--------+---------------+\n",
       "|04894000|355030852000006|\n",
       "|04894000|355030852000027|\n",
       "|04894040|355030852000027|\n",
       "|05674040|355030852000044|\n",
       "|05674040|355030852000046|\n",
       "+--------+---------------+\n",
       "only showing top 5 rows"
      ]
     },
     "execution_count": 132,
     "metadata": {},
     "output_type": "execute_result"
    }
   ],
   "source": [
    "# verifying the results:\n",
    "df_zipcode_match"
   ]
  },
  {
   "cell_type": "code",
   "execution_count": 133,
   "metadata": {},
   "outputs": [
    {
     "data": {
      "text/plain": [
       "69557"
      ]
     },
     "execution_count": 133,
     "metadata": {},
     "output_type": "execute_result"
    }
   ],
   "source": [
    "# counting the number of matches\n",
    "df_zipcode_match.count()"
   ]
  },
  {
   "cell_type": "code",
   "execution_count": 134,
   "metadata": {},
   "outputs": [
    {
     "data": {
      "text/plain": [
       "44886"
      ]
     },
     "execution_count": 134,
     "metadata": {},
     "output_type": "execute_result"
    }
   ],
   "source": [
    "# number of distinct original zipcodes\n",
    "df_zipcode.count()"
   ]
  },
  {
   "cell_type": "code",
   "execution_count": 372,
   "metadata": {},
   "outputs": [
    {
     "data": {
      "text/html": [
       "<table border='1'>\n",
       "<tr><th>n_distinct_zipcodes</th></tr>\n",
       "<tr><td>44772</td></tr>\n",
       "</table>\n"
      ],
      "text/plain": [
       "+-------------------+\n",
       "|n_distinct_zipcodes|\n",
       "+-------------------+\n",
       "|              44772|\n",
       "+-------------------+"
      ]
     },
     "execution_count": 372,
     "metadata": {},
     "output_type": "execute_result"
    }
   ],
   "source": [
    "# verifying the number of distinct zipcodes:\n",
    "df_zipcode_match.select(\n",
    "    F.countDistinct(F.col(\"zipcode\")).alias(\"n_distinct_zipcodes\")\n",
    ")  # we lost some zip codes (about 114), that is good enough"
   ]
  },
  {
   "cell_type": "code",
   "execution_count": 135,
   "metadata": {},
   "outputs": [],
   "source": [
    "# adding the features to the ponderation area back:\n",
    "Q_ZIPCODE_FEATURES = \"\"\"\n",
    "SELECT\n",
    "    A.zipcode,\n",
    "    B.*\n",
    "FROM tb_zipcode_match as A\n",
    "LEFT JOIN tb_sector_features as B\n",
    "ON A.sector_code = B.sector_code\n",
    "\"\"\"\n",
    "\n",
    "# reading back the dataset:\n",
    "df_zipcode_raw_features = spark.sql(Q_ZIPCODE_FEATURES)\n",
    "\n",
    "# dropping the geometry columns and looking at the results:\n",
    "df_zipcode_raw_features = df_zipcode_raw_features.drop(\"geometry\", \"sector_centroid\")"
   ]
  },
  {
   "cell_type": "markdown",
   "metadata": {},
   "source": [
    "### 5.4.1 Aggregating the Zip Code Features"
   ]
  },
  {
   "cell_type": "code",
   "execution_count": 136,
   "metadata": {},
   "outputs": [],
   "source": [
    "df_zip_agg = df_zipcode_raw_features.groupby(\"zipcode\").agg(\n",
    "    F.sum(F.col(\"population\")).alias(\"population\"),\n",
    "    F.sum(F.col(\"alphabetized_people_with_5_or_more_years_age\")).alias(\n",
    "        \"alphabetized_population\"\n",
    "    ),\n",
    "    F.sum(F.when(F.col(\"ipvs_group\") > 5, 1).otherwise(0)).alias(\n",
    "        \"n_regions_high_social_vulnerability\"\n",
    "    ),\n",
    "    F.sum(F.when(F.col(\"ipvs_group\") == 5, 1).otherwise(0)).alias(\n",
    "        \"n_regions_medium_social_vulnerability\"\n",
    "    ),\n",
    "    F.sum(F.when(F.col(\"ipvs_group\") < 5, 1).otherwise(0)).alias(\n",
    "        \"n_regions_low_social_vulnerability\"\n",
    "    ),\n",
    "    F.max(F.when(F.col(\"ipvs_group\") != -1, F.col(\"ipvs_group\"))).alias(\n",
    "        \"max_ipvs_group\"\n",
    "    ),\n",
    "    F.min(F.when(F.col(\"ipvs_group\") != -1, F.col(\"ipvs_group\"))).alias(\n",
    "        \"min_ipvs_group\"\n",
    "    ),\n",
    "    F.avg(F.when(F.col(\"ipvs_group\") != -1, F.col(\"ipvs_group\"))).alias(\n",
    "        \"avg_ipvs_group\"\n",
    "    ),\n",
    "    F.sum(F.col(\"area_in_hectares\")).alias(\"area_in_hectares\"),\n",
    "    F.avg(\"population_density\").alias(\"average_population_density\"),\n",
    "    F.avg(F.col(\"average_age_responsible_people\")).alias(\n",
    "        \"average_age_household_leaders\"\n",
    "    ),\n",
    "    F.avg(F.col(\"average_age_women_responsible\")).alias(\n",
    "        \"average_age_women_household_leaders\"\n",
    "    ),\n",
    "    F.avg(F.col(\"average_household_income\")).alias(\"average_household_income\"),\n",
    "    F.avg(F.col(\"average_income_household_responsible\")).alias(\n",
    "        \"average_income_household_leaders\"\n",
    "    ),\n",
    "    F.avg(F.col(\"average_income_women_responsible\")).alias(\n",
    "        \"average_income_women_household_leaders\"\n",
    "    ),\n",
    "    F.avg(\n",
    "        F.col(\n",
    "            \"average_number_dwellers_permanent_private_households_obtained_by_var2_division_by_var1\"\n",
    "        )\n",
    "    ).alias(\"average_residents_per_household\"),\n",
    "    F.avg(F.col(\"average_residents_permanent_households\")).alias(\n",
    "        \"average_residents_in_permanent_households\"\n",
    "    ),\n",
    "    F.avg(F.col(\"children_only_from_person_responsible_private_households\")).alias(\n",
    "        \"average_number_children\"\n",
    "    ),\n",
    "    F.sum(F.col(\"dwellers_permanent_private_households_and_acquisition\")).alias(\n",
    "        \"residents_in_households_acquisition\"\n",
    "    ),\n",
    "    F.avg(F.col(\"factor_1\")).alias(\"average_ipvs_factor_1\"),\n",
    "    F.avg(F.col(\"factor_2\")).alias(\"average_ipvs_factor_2\"),\n",
    "    F.avg(F.col(\"factor_1_rural\")).alias(\"average_ipvs_factor_1_rural\"),\n",
    "    F.avg(F.col(\"factor_2_rural\")).alias(\"average_ipvs_factor_2_rural\"),\n",
    "    F.sum(\n",
    "        F.col(\"household_employees_private_households_males\")\n",
    "        + F.col(\"household_employees_private_households\")\n",
    "    ).alias(\"number_house_workers\"),\n",
    "    F.sum(F.col(\"households\")).alias(\"households\"),\n",
    "    F.sum(F.col(\"households_permanent\")).alias(\"permanent_housholds\"),\n",
    "    F.sum(F.col(\"improvised_households\")).alias(\"improvised_households\"),\n",
    "    F.sum(F.when(F.col(\"is_subnormal_aglomerate\") == True, 1).otherwise(0)).alias(\n",
    "        \"number_subnormal_aglomerates\"\n",
    "    ),\n",
    "    F.avg(F.col(\"per_capita_income\")).alias(\"average_per_capita_income\"),\n",
    "    F.sum(F.col(\"permanent_private_home_type_households_and_acquisition\")).alias(\n",
    "        \"permanent_private_houses_in_acquisition\"\n",
    "    ),\n",
    "    F.sum(F.col(\"permanent_private_home_type_households_and_clear\")).alias(\n",
    "        \"permanent_private_houses_fully_owned\"\n",
    "    ),\n",
    "    F.sum(F.col(\"permanent_private_household_homes_rented\")).alias(\n",
    "        \"permanent_private_rented_properties\"\n",
    "    ),\n",
    "    F.sum(F.col(\"permanent_private_households_acquisition\")).alias(\n",
    "        \"permanent_private_properties_in_acquisition\"\n",
    "    ),\n",
    "    F.sum(F.col(\"permanent_private_households_and_disposed\")).alias(\n",
    "        \"permanent_private_properties_fully_owned\"\n",
    "    ),\n",
    "    F.sum(F.col(\"permanent_private_households_rented\")).alias(\n",
    "        \"permanent_private_properties_rented\"\n",
    "    ),\n",
    "    F.sum(F.col(\"permanent_private_households_with_10_or_more_residents\")).alias(\n",
    "        \"permanent_private_households_with_10_or_more_residents\"\n",
    "    ),\n",
    "    F.sum(F.col(\"permanent_private_households_with_1_resident\")).alias(\n",
    "        \"permanent_private_households_with_1_resident\"\n",
    "    ),\n",
    "    F.sum(F.col(\"permanent_private_households_with_2_residents\")).alias(\n",
    "        \"permanent_private_households_with_2_residents\"\n",
    "    ),\n",
    "    F.sum(F.col(\"permanent_private_households_with_3_residents\")).alias(\n",
    "        \"permanent_private_households_with_3_residents\"\n",
    "    ),\n",
    "    F.sum(F.col(\"permanent_private_households_with_4_residents\")).alias(\n",
    "        \"permanent_private_households_with_4_residents\"\n",
    "    ),\n",
    "    F.sum(F.col(\"permanent_private_households_with_5_residents\")).alias(\n",
    "        \"permanent_private_households_with_5_residents\"\n",
    "    ),\n",
    "    F.sum(F.col(\"permanent_private_households_with_6_residents\")).alias(\n",
    "        \"permanent_private_households_with_6_residents\"\n",
    "    ),\n",
    "    F.sum(F.col(\"permanent_private_households_with_7_residents\")).alias(\n",
    "        \"permanent_private_households_with_7_residents\"\n",
    "    ),\n",
    "    F.sum(F.col(\"permanent_private_households_with_8_residents\")).alias(\n",
    "        \"permanent_private_households_with_8_residents\"\n",
    "    ),\n",
    "    F.sum(F.col(\"permanent_private_households_with_9_residents\")).alias(\n",
    "        \"permanent_private_households_with_9_residents\"\n",
    "    ),\n",
    "    F.sum(F.col(\"permanent_private_households_with_electricity\")).alias(\n",
    "        \"permanent_private_households_with_electricity\"\n",
    "    ),\n",
    "    F.sum(\n",
    "        F.col(\"permanent_private_households_without_exclusive_use_bathroom_residents\")\n",
    "    ).alias(\"permanent_private_households_without_exclusive_use_bathroom_residents\"),\n",
    "    F.avg(F.col(\"permanent_private_home_type_households_and_acquisition\")).alias(\n",
    "        \"average_permanent_private_houses_in_acquisition\"\n",
    "    ),\n",
    "    F.avg(F.col(\"permanent_private_home_type_households_and_clear\")).alias(\n",
    "        \"average_permanent_private_houses_fully_owned\"\n",
    "    ),\n",
    "    F.avg(F.col(\"permanent_private_household_homes_rented\")).alias(\n",
    "        \"average_permanent_private_rented_properties\"\n",
    "    ),\n",
    "    F.avg(F.col(\"permanent_private_households_acquisition\")).alias(\n",
    "        \"average_permanent_private_properties_in_acquisition\"\n",
    "    ),\n",
    "    F.avg(F.col(\"permanent_private_households_and_disposed\")).alias(\n",
    "        \"average_permanent_private_properties_fully_owned\"\n",
    "    ),\n",
    "    F.avg(F.col(\"permanent_private_households_rented\")).alias(\n",
    "        \"average_permanent_private_properties_rented\"\n",
    "    ),\n",
    "    F.avg(F.col(\"permanent_private_households_with_10_or_more_residents\")).alias(\n",
    "        \"average_permanent_private_households_with_10_or_more_residents\"\n",
    "    ),\n",
    "    F.avg(F.col(\"permanent_private_households_with_1_resident\")).alias(\n",
    "        \"average_permanent_private_households_with_1_resident\"\n",
    "    ),\n",
    "    F.avg(F.col(\"permanent_private_households_with_2_residents\")).alias(\n",
    "        \"average_permanent_private_households_with_2_residents\"\n",
    "    ),\n",
    "    F.avg(F.col(\"permanent_private_households_with_3_residents\")).alias(\n",
    "        \"average_permanent_private_households_with_3_residents\"\n",
    "    ),\n",
    "    F.avg(F.col(\"permanent_private_households_with_4_residents\")).alias(\n",
    "        \"average_permanent_private_households_with_4_residents\"\n",
    "    ),\n",
    "    F.avg(F.col(\"permanent_private_households_with_5_residents\")).alias(\n",
    "        \"average_permanent_private_households_with_5_residents\"\n",
    "    ),\n",
    "    F.avg(F.col(\"permanent_private_households_with_6_residents\")).alias(\n",
    "        \"average_permanent_private_households_with_6_residents\"\n",
    "    ),\n",
    "    F.avg(F.col(\"permanent_private_households_with_7_residents\")).alias(\n",
    "        \"average_permanent_private_households_with_7_residents\"\n",
    "    ),\n",
    "    F.avg(F.col(\"permanent_private_households_with_8_residents\")).alias(\n",
    "        \"average_permanent_private_households_with_8_residents\"\n",
    "    ),\n",
    "    F.avg(F.col(\"permanent_private_households_with_9_residents\")).alias(\n",
    "        \"average_permanent_private_households_with_9_residents\"\n",
    "    ),\n",
    "    F.avg(F.col(\"permanent_private_households_with_electricity\")).alias(\n",
    "        \"average_permanent_private_households_with_electricity\"\n",
    "    ),\n",
    "    F.avg(\n",
    "        F.col(\"permanent_private_households_without_exclusive_use_bathroom_residents\")\n",
    "    ).alias(\n",
    "        \"average_permanent_private_households_without_exclusive_use_bathroom_residents\"\n",
    "    ),\n",
    "    F.avg(F.col(\"prop_households_electricity\")).alias(\n",
    "        \"average_proportion_households_electricity\"\n",
    "    ),\n",
    "    F.avg(F.col(\"prop_households_no_income\")).alias(\n",
    "        \"average_proportion_households_no_income\"\n",
    "    ),\n",
    "    F.avg(F.col(\"prop_households_one_halft_sm_income\")).alias(\n",
    "        \"average_proportion_households_one_halft_sm_income\"\n",
    "    ),\n",
    "    F.avg(F.col(\"prop_households_sanitation\")).alias(\n",
    "        \"average_proportion_households_sanitation\"\n",
    "    ),\n",
    "    F.avg(F.col(\"prop_households_trash_collection\")).alias(\n",
    "        \"average_proportion_households_trash_collection\"\n",
    "    ),\n",
    "    F.avg(F.col(\"prop_households_two_or_more_income\")).alias(\n",
    "        \"average_proportion_households_two_or_more_income\"\n",
    "    ),\n",
    "    F.avg(F.col(\"prop_households_two_sm_income\")).alias(\n",
    "        \"average_proportion_households_two_sm_income\"\n",
    "    ),\n",
    "    F.avg(F.col(\"prop_househols_one_eigth_sm_income\")).alias(\n",
    "        \"average_proportion_househols_one_eigth_sm_income\"\n",
    "    ),\n",
    "    F.avg(F.col(\"prop_income_participation_in_household_responsible\")).alias(\n",
    "        \"average_proportion_income_participation_in_household_responsible\"\n",
    "    ),\n",
    "    F.avg(F.col(\"prop_literate_people\")).alias(\"average_proportion_literate_people\"),\n",
    "    F.avg(F.col(\"prop_literate_women\")).alias(\"average_proportion_literate_women\"),\n",
    "    F.avg(F.col(\"prop_private_households_one_half_sm_income\")).alias(\n",
    "        \"average_proportion_private_households_one_half_sm_income\"\n",
    "    ),\n",
    "    F.avg(F.col(\"prop_private_households_one_quarter_sm_income\")).alias(\n",
    "        \"average_proportion_private_households_one_quarter_sm_income\"\n",
    "    ),\n",
    "    F.avg(F.col(\"prop_women_up_to_30_years\")).alias(\n",
    "        \"average_proportion_women_up_to_30_years\"\n",
    "    ),\n",
    "    F.avg(F.col(\"prop_0_5_age_population\")).alias(\n",
    "        \"average_proportion_population_up_to_5_years_age\"\n",
    "    ),\n",
    "    F.avg(F.col(\"prop_households_access_water\")).alias(\n",
    "        \"average_prop_households_access_water\"\n",
    "    ),\n",
    "    F.avg(F.col(\"prop_responsible_people_up_to_30_years\")).alias(\n",
    "        \"average_proportion_responsible_people_up_to_30_years\"\n",
    "    ),\n",
    "    F.avg(\n",
    "        F.col(\n",
    "            \"value_average_monthly_nominal_income_persons_responsible_for_permanent_private_households_with_and_without_income\"\n",
    "        )\n",
    "    ).alias(\"average_monthly_income\"),\n",
    "    F.sum(F.col(\"total_responsible_people\")).alias(\"population_house_leaders\"),\n",
    "    F.sum(F.col(\"residents_permanent_permanent_households\")).alias(\n",
    "        \"residents_in_permanent_households\"\n",
    "    ),\n",
    "    F.sum(F.col(\"residents_permanent_private_households_apartment_type\")).alias(\n",
    "        \"residents_in_apartments\"\n",
    "    ),\n",
    "    F.sum(\n",
    "        F.col(\n",
    "            \"residents_permanent_private_households_or_population_residing_permanent_private_households\"\n",
    "        )\n",
    "    ).alias(\"residents_in_private_households\"),\n",
    "    F.sum(F.col(\"residents_permanent_private_households_rented\")).alias(\n",
    "        \"residents_in_rented_properties\"\n",
    "    ),\n",
    "    F.sum(F.col(\"residents_private_households_and_collective_households\")).alias(\n",
    "        \"residents_in_collective_households\"\n",
    "    ),\n",
    "    F.sum(F.col(\"permanent_private_households_with_3_bathrooms_residents\")).alias(\n",
    "        \"permanent_private_households_with_up_to_3_bathrooms\"\n",
    "    ),\n",
    ")\n",
    "\n",
    "# adding literacy rate column:\n",
    "df_zip_agg = df_zip_agg.withColumn(\n",
    "    \"literacy_rate\", F.col(\"population\") / F.col(\"alphabetized_population\")\n",
    ")"
   ]
  },
  {
   "cell_type": "code",
   "execution_count": 137,
   "metadata": {},
   "outputs": [],
   "source": [
    "# fixing the column names:\n",
    "new_columns = list(map(lambda col: f\"zipcode_{col}\", df_zip_agg.columns))\n",
    "\n",
    "for i in range(len(df_zip_agg.columns)):\n",
    "    df_zip_agg = df_zip_agg.withColumnRenamed(df_zip_agg.columns[i], new_columns[i])\n",
    "\n",
    "df_zip_agg = df_zip_agg.withColumnRenamed(\"zipcode_zipcode\", \"zipcode\")\n",
    "\n",
    "# sorting the dataframe columns:\n",
    "df_zip_agg = sort_dataframe_columns(df_zip_agg, \"zipcode\")"
   ]
  },
  {
   "cell_type": "code",
   "execution_count": 138,
   "metadata": {},
   "outputs": [],
   "source": [
    "# adding the resulting dataframe to the SQL Context:\n",
    "df_zip_agg.createOrReplaceTempView(\"tb_zipcode_features\")\n",
    "\n",
    "# generating the final level of aggregation for the census features:\n",
    "Q_ZIPCODE_GEOM = \"\"\"\n",
    "SELECT\n",
    "    A.*,\n",
    "    B.geometry,\n",
    "    ST_Centroid(B.geometry) as district_centroid\n",
    "FROM tb_zipcode_features as A\n",
    "LEFT JOIN tb_zipcode as B \n",
    "ON A.zipcode = B.zipcode\n",
    "\"\"\"\n",
    "\n",
    "df_zipcode_final = spark.sql(Q_ZIPCODE_GEOM)"
   ]
  },
  {
   "cell_type": "markdown",
   "metadata": {},
   "source": [
    "## 5.4.2 Exporting Zipcode level Results"
   ]
  },
  {
   "cell_type": "code",
   "execution_count": 139,
   "metadata": {},
   "outputs": [
    {
     "data": {
      "text/plain": [
       "True"
      ]
     },
     "execution_count": 139,
     "metadata": {},
     "output_type": "execute_result"
    }
   ],
   "source": [
    "# save the results to the specified directory:\n",
    "ZIP_OUTPUT = f\"zipcodes/tb_zipcode_census\"\n",
    "PROCESSED_UNITS_OF_INTEREST = \"../data/processed/sp_census/units_of_interest/\"\n",
    "\n",
    "save_to_filesystem(\n",
    "    df_zipcode_final, PROCESSED_UNITS_OF_INTEREST, ZIP_OUTPUT, ZIP_OUTPUT + \".parquet\"\n",
    ")"
   ]
  },
  {
   "cell_type": "code",
   "execution_count": 140,
   "metadata": {},
   "outputs": [
    {
     "data": {
      "text/plain": [
       "True"
      ]
     },
     "execution_count": 140,
     "metadata": {},
     "output_type": "execute_result"
    }
   ],
   "source": [
    "# save the results to the specified directory:\n",
    "ZIP_NO_GEO = f\"zipcodes/tb_zipcode_census_no_geo\"\n",
    "PROCESSED_UNITS_OF_INTEREST = \"../data/processed/sp_census/units_of_interest/\"\n",
    "\n",
    "df_zip_no_geo = df_zipcode_final.drop(\"geometry\")\n",
    "\n",
    "save_to_filesystem(\n",
    "    df_zip_no_geo, PROCESSED_UNITS_OF_INTEREST, ZIP_NO_GEO, ZIP_NO_GEO + \".parquet\"\n",
    ")"
   ]
  }
 ],
 "metadata": {
  "kernelspec": {
   "display_name": "Python 3",
   "language": "python",
   "name": "python3"
  },
  "language_info": {
   "codemirror_mode": {
    "name": "ipython",
    "version": 3
   },
   "file_extension": ".py",
   "mimetype": "text/x-python",
   "name": "python",
   "nbconvert_exporter": "python",
   "pygments_lexer": "ipython3",
   "version": "3.8.8"
  }
 },
 "nbformat": 4,
 "nbformat_minor": 4
}
