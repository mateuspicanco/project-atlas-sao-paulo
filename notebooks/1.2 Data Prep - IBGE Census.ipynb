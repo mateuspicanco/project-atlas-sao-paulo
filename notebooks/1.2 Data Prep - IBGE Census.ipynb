{
 "cells": [
  {
   "cell_type": "markdown",
   "metadata": {},
   "source": [
    "# Data Prep - Census Data\n",
    "This notebook is the second part to the data preparation phase for this project. I will perform a series of manipulations on sociodemographic data from the 2010's Brazilian Census, the latest census conducted in the country. This is a complex process with many stages and will involve both careful manipulations of the raw data as well as handling of geospatial data.\n",
    "\n",
    "In order to perform these manipulations, we will use both `pyspark` and an extension called `Apache Sedona` (formerly known as `geospark`)."
   ]
  },
  {
   "cell_type": "code",
   "execution_count": 112,
   "metadata": {},
   "outputs": [],
   "source": [
    "# installing the requirements:\n",
    "!pip install -r ../configs/dependencies/dataprep_requirements.txt >> ../configs/dependencies/package_installation.txt"
   ]
  },
  {
   "cell_type": "code",
   "execution_count": 113,
   "metadata": {},
   "outputs": [
    {
     "name": "stdout",
     "output_type": "stream",
     "text": [
      "The lab_black extension is already loaded. To reload it, use:\n",
      "  %reload_ext lab_black\n",
      "The autoreload extension is already loaded. To reload it, use:\n",
      "  %reload_ext autoreload\n"
     ]
    }
   ],
   "source": [
    "# loading the magic commands:\n",
    "%load_ext lab_black\n",
    "%load_ext autoreload\n",
    "%autoreload 2"
   ]
  },
  {
   "cell_type": "code",
   "execution_count": 114,
   "metadata": {},
   "outputs": [],
   "source": [
    "###### Loading the necessary libraries #########\n",
    "\n",
    "# PySpark dependencies:s\n",
    "import pyspark\n",
    "from pyspark import SparkConf\n",
    "from pyspark import SparkContext\n",
    "from pyspark.sql import SparkSession\n",
    "from pyspark.sql import SQLContext\n",
    "import pyspark.sql.functions as F\n",
    "from pyspark.sql.functions import udf\n",
    "import pyspark.sql.types as T\n",
    "from pyspark.sql.window import Window\n",
    "\n",
    "# Sedona dependencies:\n",
    "from sedona.utils.adapter import Adapter\n",
    "from sedona.register import SedonaRegistrator\n",
    "from sedona.utils import KryoSerializer, SedonaKryoRegistrator\n",
    "from sedona.core.SpatialRDD import SpatialRDD\n",
    "from sedona.core.formatMapper.shapefileParser import ShapefileReader\n",
    "from sedona.core.formatMapper import GeoJsonReader\n",
    "\n",
    "# database utilities:\n",
    "from sqlalchemy import create_engine\n",
    "import sqlite3 as db\n",
    "import pandas as pd\n",
    "from tqdm import tqdm\n",
    "import geopandas as gpd\n",
    "import fiona\n",
    "\n",
    "# plotting and data visualization:\n",
    "import matplotlib.pyplot as plt\n",
    "import seaborn as sns\n",
    "from IPython.display import HTML, Image\n",
    "\n",
    "# other relevant libraries:\n",
    "import warnings\n",
    "import unidecode\n",
    "import inflection\n",
    "import unicodedata\n",
    "from datetime import datetime, timedelta\n",
    "from functools import partial\n",
    "import json\n",
    "import re\n",
    "import os\n",
    "from glob import glob\n",
    "import shutil\n",
    "import itertools\n",
    "import chardet\n",
    "\n",
    "# importing the atlas utilities:\n",
    "from atlasutils import (\n",
    "    save_to_filesystem,\n",
    "    save_as_table,\n",
    "    rotate_xticks,\n",
    "    get_file_encoding,\n",
    "    normalize_entities,\n",
    "    normalize_column_name,\n",
    "    apply_category_map,\n",
    "    standardize_variable_names,\n",
    "    get_null_columns,\n",
    "    replace_decimal_separator,\n",
    "    convert_to_geopandas,\n",
    "    drop_invalid_census_columns,\n",
    "    clean_census_column_name,\n",
    "    get_file_crs,\n",
    "    get_column_values,\n",
    ")\n",
    "\n",
    "\n",
    "# setting global parameters for visualizationsss:\n",
    "warnings.filterwarnings(\"ignore\")\n",
    "pd.set_option(\"display.precision\", 4)\n",
    "pd.set_option(\"display.float_format\", lambda x: \"%.2f\" % x)"
   ]
  },
  {
   "cell_type": "markdown",
   "metadata": {},
   "source": [
    "# 0. Configuring Spark"
   ]
  },
  {
   "cell_type": "code",
   "execution_count": 115,
   "metadata": {},
   "outputs": [],
   "source": [
    "# function to encapsulate standard spark configurations:\n",
    "def init_spark(app_name):\n",
    "\n",
    "    spark = (\n",
    "        SparkSession.builder.appName(app_name)\n",
    "        .config(\"spark.files.overwrite\", \"true\")\n",
    "        .config(\"spark.serializer\", KryoSerializer.getName)\n",
    "        .config(\"spark.kryo.registrator\", SedonaKryoRegistrator.getName)\n",
    "        .config(\n",
    "            \"spark.jars.packages\",\n",
    "            \"org.apache.sedona:sedona-python-adapter-3.0_2.12:1.0.1-incubating,\"\n",
    "            \"org.datasyslab:geotools-wrapper:geotools-24.1\",\n",
    "        )\n",
    "        .config(\"spark.sql.repl.eagerEval.enabled\", True)\n",
    "        .config(\"spark.sql.repl.eagerEval.maxNumRows\", 5)\n",
    "        .config(\"spark.sql.legacy.timeParserPolicy\", \"LEGACY\")\n",
    "        .config(\"spark.sql.parquet.compression.codec\", \"gzip\")\n",
    "        .config(\"sedona.global.charset\", \"utf8\")\n",
    "        .config(\"sedona.global.index\", \"true\")\n",
    "        .enableHiveSupport()\n",
    "        .getOrCreate()\n",
    "    )\n",
    "\n",
    "    SedonaRegistrator.registerAll(spark)\n",
    "\n",
    "    return spark"
   ]
  },
  {
   "cell_type": "code",
   "execution_count": 116,
   "metadata": {},
   "outputs": [],
   "source": [
    "# init the spark session:\n",
    "spark = init_spark(\"SP Atlas - IBGE Census\")"
   ]
  },
  {
   "cell_type": "code",
   "execution_count": 117,
   "metadata": {},
   "outputs": [
    {
     "data": {
      "text/html": [
       "\n",
       "            <div>\n",
       "                <p><b>SparkSession - hive</b></p>\n",
       "                \n",
       "        <div>\n",
       "            <p><b>SparkContext</b></p>\n",
       "\n",
       "            <p><a href=\"http://192.168.15.58:4040\">Spark UI</a></p>\n",
       "\n",
       "            <dl>\n",
       "              <dt>Version</dt>\n",
       "                <dd><code>v3.1.1</code></dd>\n",
       "              <dt>Master</dt>\n",
       "                <dd><code>local[*]</code></dd>\n",
       "              <dt>AppName</dt>\n",
       "                <dd><code>SP Atlas - IBGE Census</code></dd>\n",
       "            </dl>\n",
       "        </div>\n",
       "        \n",
       "            </div>\n",
       "        "
      ],
      "text/plain": [
       "<pyspark.sql.session.SparkSession at 0x7f76a8080a30>"
      ]
     },
     "execution_count": 117,
     "metadata": {},
     "output_type": "execute_result"
    }
   ],
   "source": [
    "# verifying the session status:\n",
    "spark"
   ]
  },
  {
   "cell_type": "markdown",
   "metadata": {},
   "source": [
    "# 1. Loading and Inspecting the Data\n",
    "We will first load the Polygon geospatial data that we will later use to match to the `(lat, long)` paths in the listings datasets."
   ]
  },
  {
   "cell_type": "markdown",
   "metadata": {},
   "source": [
    "## 1.1 Sector Polygons\n",
    "The lowest level of data aggregation in the Census is a Sector. A sector is a specific area in which researchers collect census data. These sectors are contiguous areas and IBGE provides the Shapefiles for them. This will allow us to match the Listings data to the census sector where they can be located."
   ]
  },
  {
   "cell_type": "code",
   "execution_count": 35,
   "metadata": {},
   "outputs": [
    {
     "data": {
      "text/html": [
       "<table border='1'>\n",
       "<tr><th>geometry</th><th>ID</th><th>CD_GEOCODI</th><th>TIPO</th><th>CD_GEOCODS</th><th>NM_SUBDIST</th><th>CD_GEOCODD</th><th>NM_DISTRIT</th><th>CD_GEOCODM</th><th>NM_MUNICIP</th><th>NM_MICRO</th><th>NM_MESO</th><th>CD_GEOCODB</th><th>NM_BAIRRO</th><th>ID1</th></tr>\n",
       "<tr><td>POLYGON ((-46.410...</td><td>98237</td><td>354100005000009</td><td>URBANO</td><td>35410000500</td><td></td><td>354100005</td><td>PRAIA GRANDE</td><td>3541000</td><td>PRAIA GRANDE</td><td>SANTOS</td><td>METROPOLITANA DE ...</td><td>354100005001</td><td>Boqueirão</td><td>1</td></tr>\n",
       "<tr><td>POLYGON ((-46.416...</td><td>98232</td><td>354100005000004</td><td>URBANO</td><td>35410000500</td><td></td><td>354100005</td><td>PRAIA GRANDE</td><td>3541000</td><td>PRAIA GRANDE</td><td>SANTOS</td><td>METROPOLITANA DE ...</td><td>354100005001</td><td>Boqueirão</td><td>2</td></tr>\n",
       "<tr><td>POLYGON ((-46.412...</td><td>98230</td><td>354100005000002</td><td>URBANO</td><td>35410000500</td><td></td><td>354100005</td><td>PRAIA GRANDE</td><td>3541000</td><td>PRAIA GRANDE</td><td>SANTOS</td><td>METROPOLITANA DE ...</td><td>354100005001</td><td>Boqueirão</td><td>3</td></tr>\n",
       "<tr><td>POLYGON ((-46.411...</td><td>98229</td><td>354100005000001</td><td>URBANO</td><td>35410000500</td><td></td><td>354100005</td><td>PRAIA GRANDE</td><td>3541000</td><td>PRAIA GRANDE</td><td>SANTOS</td><td>METROPOLITANA DE ...</td><td>354100005001</td><td>Boqueirão</td><td>4</td></tr>\n",
       "<tr><td>POLYGON ((-46.413...</td><td>98231</td><td>354100005000003</td><td>URBANO</td><td>35410000500</td><td></td><td>354100005</td><td>PRAIA GRANDE</td><td>3541000</td><td>PRAIA GRANDE</td><td>SANTOS</td><td>METROPOLITANA DE ...</td><td>354100005001</td><td>Boqueirão</td><td>5</td></tr>\n",
       "</table>\n",
       "only showing top 5 rows\n"
      ],
      "text/plain": [
       "+--------------------+-----+---------------+------+-----------+----------+----------+------------+----------+------------+--------+--------------------+------------+---------+---+\n",
       "|            geometry|   ID|     CD_GEOCODI|  TIPO| CD_GEOCODS|NM_SUBDIST|CD_GEOCODD|  NM_DISTRIT|CD_GEOCODM|  NM_MUNICIP|NM_MICRO|             NM_MESO|  CD_GEOCODB|NM_BAIRRO|ID1|\n",
       "+--------------------+-----+---------------+------+-----------+----------+----------+------------+----------+------------+--------+--------------------+------------+---------+---+\n",
       "|POLYGON ((-46.410...|98237|354100005000009|URBANO|35410000500|          | 354100005|PRAIA GRANDE|   3541000|PRAIA GRANDE|  SANTOS|METROPOLITANA DE ...|354100005001|Boqueirão|  1|\n",
       "|POLYGON ((-46.416...|98232|354100005000004|URBANO|35410000500|          | 354100005|PRAIA GRANDE|   3541000|PRAIA GRANDE|  SANTOS|METROPOLITANA DE ...|354100005001|Boqueirão|  2|\n",
       "|POLYGON ((-46.412...|98230|354100005000002|URBANO|35410000500|          | 354100005|PRAIA GRANDE|   3541000|PRAIA GRANDE|  SANTOS|METROPOLITANA DE ...|354100005001|Boqueirão|  3|\n",
       "|POLYGON ((-46.411...|98229|354100005000001|URBANO|35410000500|          | 354100005|PRAIA GRANDE|   3541000|PRAIA GRANDE|  SANTOS|METROPOLITANA DE ...|354100005001|Boqueirão|  4|\n",
       "|POLYGON ((-46.413...|98231|354100005000003|URBANO|35410000500|          | 354100005|PRAIA GRANDE|   3541000|PRAIA GRANDE|  SANTOS|METROPOLITANA DE ...|354100005001|Boqueirão|  5|\n",
       "+--------------------+-----+---------------+------+-----------+----------+----------+------------+----------+------------+--------+--------------------+------------+---------+---+\n",
       "only showing top 5 rows"
      ]
     },
     "execution_count": 35,
     "metadata": {},
     "output_type": "execute_result"
    }
   ],
   "source": [
    "# loading the raw dataset:\n",
    "RAW_DATA_DIR = \"../data/raw/\"\n",
    "\n",
    "# shapefiles for sectors:\n",
    "sector_rdd = ShapefileReader.readToGeometryRDD(\n",
    "    sc=spark, inputPath=RAW_DATA_DIR + \"sp_layers/census_sectors/*\"\n",
    ")\n",
    "\n",
    "df_sector = Adapter.toDf(sector_rdd, spark)\n",
    "\n",
    "# verifying the sectors:\n",
    "df_sector"
   ]
  },
  {
   "cell_type": "code",
   "execution_count": 36,
   "metadata": {},
   "outputs": [],
   "source": [
    "# selecting the relevant columns:\n",
    "df_sector = df_sector.select(\n",
    "    F.col(\"ID\").alias(\"id\"),\n",
    "    F.col(\"geometry\"),\n",
    "    F.col(\"CD_GEOCODI\").alias(\"sector_code\"),\n",
    "    F.col(\"CD_GEOCODM\").alias(\"city_code\"),\n",
    "    F.col(\"CD_GEOCODB\").alias(\"neighborhood_code\"),\n",
    "    F.col(\"NM_MUNICIP\").alias(\"city\"),\n",
    "    F.col(\"NM_BAIRRO\").alias(\"neighborhood\"),\n",
    "    F.col(\"TIPO\").alias(\"sector_type\"),\n",
    ")\n",
    "\n",
    "# filtering just São Paulo:\n",
    "df_sector = df_sector.filter(F.col(\"city\") == \"SÃO PAULO\")"
   ]
  },
  {
   "cell_type": "markdown",
   "metadata": {},
   "source": [
    "## 1.2 Area of Ponderation"
   ]
  },
  {
   "cell_type": "code",
   "execution_count": 37,
   "metadata": {},
   "outputs": [
    {
     "data": {
      "text/html": [
       "<table border='1'>\n",
       "<tr><th>geometry</th><th>ID</th><th>AREA</th><th>COD_AED</th><th>COD_AED_S</th></tr>\n",
       "<tr><td>POLYGON ((317854....</td><td>158</td><td>10.450821</td><td>3550308005243</td><td>243</td></tr>\n",
       "<tr><td>POLYGON ((320682....</td><td>159</td><td>13.241315</td><td>3550308005242</td><td>242</td></tr>\n",
       "<tr><td>POLYGON ((325497....</td><td>160</td><td>4.180473</td><td>3550308005309</td><td>309</td></tr>\n",
       "<tr><td>POLYGON ((326306....</td><td>117</td><td>11.936847</td><td>3550308005189</td><td>189</td></tr>\n",
       "<tr><td>POLYGON ((328654....</td><td>1</td><td>7.321331</td><td>3550308005127</td><td>127</td></tr>\n",
       "</table>\n",
       "only showing top 5 rows\n"
      ],
      "text/plain": [
       "+--------------------+---+---------+-------------+---------+\n",
       "|            geometry| ID|     AREA|      COD_AED|COD_AED_S|\n",
       "+--------------------+---+---------+-------------+---------+\n",
       "|POLYGON ((317854....|158|10.450821|3550308005243|      243|\n",
       "|POLYGON ((320682....|159|13.241315|3550308005242|      242|\n",
       "|POLYGON ((325497....|160| 4.180473|3550308005309|      309|\n",
       "|POLYGON ((326306....|117|11.936847|3550308005189|      189|\n",
       "|POLYGON ((328654....|  1| 7.321331|3550308005127|      127|\n",
       "+--------------------+---+---------+-------------+---------+\n",
       "only showing top 5 rows"
      ]
     },
     "execution_count": 37,
     "metadata": {},
     "output_type": "execute_result"
    }
   ],
   "source": [
    "# reading the area of ponderation files:\n",
    "ap_rdd = ShapefileReader.readToGeometryRDD(\n",
    "    sc=spark, inputPath=RAW_DATA_DIR + \"sp_layers/census_ponderations/*\"\n",
    ")\n",
    "\n",
    "df_ap = Adapter.toDf(ap_rdd, spark)\n",
    "\n",
    "# adding the geometry dataframes to the SQL Context:\n",
    "df_ap.createOrReplaceTempView(\"tb_ponderation\")\n",
    "\n",
    "# verifying the sectors:\n",
    "df_ap"
   ]
  },
  {
   "cell_type": "code",
   "execution_count": 38,
   "metadata": {},
   "outputs": [],
   "source": [
    "Q_AP_CONVERSION = \"\"\"\n",
    "SELECT \n",
    "    ST_FlipCoordinates(ST_Transform(A.geometry, 'epsg:29193','epsg:4326')) as geometry,\n",
    "    A.AREA as ponderation_area,\n",
    "    A.COD_AED as ponderation_area_code\n",
    "FROM tb_ponderation as A\n",
    "\"\"\"\n",
    "\n",
    "# converting the CRS to the standard format:\n",
    "df_ap = spark.sql(Q_AP_CONVERSION)\n",
    "\n",
    "# adding the geometry dataframes to the SQL Context:\n",
    "df_ap.createOrReplaceTempView(\"tb_ponderation\")"
   ]
  },
  {
   "cell_type": "code",
   "execution_count": 39,
   "metadata": {},
   "outputs": [
    {
     "data": {
      "text/html": [
       "<table border='1'>\n",
       "<tr><th>geometry</th><th>ponderation_area</th><th>ponderation_area_code</th></tr>\n",
       "<tr><td>POLYGON ((-46.782...</td><td>10.450821</td><td>3550308005243</td></tr>\n",
       "<tr><td>POLYGON ((-46.755...</td><td>13.241315</td><td>3550308005242</td></tr>\n",
       "<tr><td>POLYGON ((-46.708...</td><td>4.180473</td><td>3550308005309</td></tr>\n",
       "<tr><td>POLYGON ((-46.700...</td><td>11.936847</td><td>3550308005189</td></tr>\n",
       "<tr><td>POLYGON ((-46.677...</td><td>7.321331</td><td>3550308005127</td></tr>\n",
       "</table>\n",
       "only showing top 5 rows\n"
      ],
      "text/plain": [
       "+--------------------+----------------+---------------------+\n",
       "|            geometry|ponderation_area|ponderation_area_code|\n",
       "+--------------------+----------------+---------------------+\n",
       "|POLYGON ((-46.782...|       10.450821|        3550308005243|\n",
       "|POLYGON ((-46.755...|       13.241315|        3550308005242|\n",
       "|POLYGON ((-46.708...|        4.180473|        3550308005309|\n",
       "|POLYGON ((-46.700...|       11.936847|        3550308005189|\n",
       "|POLYGON ((-46.677...|        7.321331|        3550308005127|\n",
       "+--------------------+----------------+---------------------+\n",
       "only showing top 5 rows"
      ]
     },
     "execution_count": 39,
     "metadata": {},
     "output_type": "execute_result"
    }
   ],
   "source": [
    "# verifying the results:\n",
    "df_ap"
   ]
  },
  {
   "cell_type": "markdown",
   "metadata": {},
   "source": [
    "## 1.3 Neighborhoods"
   ]
  },
  {
   "cell_type": "code",
   "execution_count": 40,
   "metadata": {},
   "outputs": [
    {
     "data": {
      "text/html": [
       "<table border='1'>\n",
       "<tr><th>geometry</th><th>Name</th><th>descriptio</th></tr>\n",
       "<tr><td>MULTIPOLYGON (((-...</td><td>Alto da Riviera</td><td>ALTO DA RIVIERA</td></tr>\n",
       "<tr><td>POLYGON ((-46.589...</td><td>Alto da Mooca</td><td>ALTO DA MOOCA</td></tr>\n",
       "<tr><td>POLYGON ((-46.719...</td><td>Alto da Lapa</td><td>ALTO DA LAPA</td></tr>\n",
       "<tr><td>POLYGON ((-46.629...</td><td>Vila Agua Funda</td><td>VILA AGUA FUNDA</td></tr>\n",
       "<tr><td>POLYGON ((-46.622...</td><td>Agua Fria</td><td>AGUA FRIA</td></tr>\n",
       "</table>\n",
       "only showing top 5 rows\n"
      ],
      "text/plain": [
       "+--------------------+---------------+---------------+\n",
       "|            geometry|           Name|     descriptio|\n",
       "+--------------------+---------------+---------------+\n",
       "|MULTIPOLYGON (((-...|Alto da Riviera|ALTO DA RIVIERA|\n",
       "|POLYGON ((-46.589...|  Alto da Mooca|  ALTO DA MOOCA|\n",
       "|POLYGON ((-46.719...|   Alto da Lapa|   ALTO DA LAPA|\n",
       "|POLYGON ((-46.629...|Vila Agua Funda|VILA AGUA FUNDA|\n",
       "|POLYGON ((-46.622...|      Agua Fria|      AGUA FRIA|\n",
       "+--------------------+---------------+---------------+\n",
       "only showing top 5 rows"
      ]
     },
     "execution_count": 40,
     "metadata": {},
     "output_type": "execute_result"
    }
   ],
   "source": [
    "# reading the neighborhoods files:\n",
    "nb_rdd = ShapefileReader.readToGeometryRDD(\n",
    "    sc=spark, inputPath=RAW_DATA_DIR + \"sp_layers/neighborhoods/*\"\n",
    ")\n",
    "\n",
    "df_nb = Adapter.toDf(nb_rdd, spark)\n",
    "df_nb.createOrReplaceTempView(\"tb_neighborhood\")\n",
    "\n",
    "# verifying the sectors:\n",
    "df_nb"
   ]
  },
  {
   "cell_type": "markdown",
   "metadata": {},
   "source": [
    "## 1.4 Districts"
   ]
  },
  {
   "cell_type": "code",
   "execution_count": 41,
   "metadata": {},
   "outputs": [
    {
     "data": {
      "text/html": [
       "<table border='1'>\n",
       "<tr><th>geometry</th><th>CLASSID</th><th>FEATID</th><th>REVISIONNU</th><th>NOME_DIST</th><th>SIGLA_DIST</th><th>COD_DIST</th><th>COD_SUB</th><th>DATA_CRIAC</th><th>USUARIO_ID</th></tr>\n",
       "<tr><td>POLYGON ((352436....</td><td>4.00000</td><td>8583485.00000</td><td>1.00000</td><td>JOSE BONIFACIO</td><td>JBO</td><td>47</td><td>27</td><td>20070319</td><td>0.00000</td></tr>\n",
       "<tr><td>POLYGON ((320696....</td><td>4.00000</td><td>8583484.00000</td><td>1.00000</td><td>JD SAO LUIS</td><td>JDS</td><td>46</td><td>18</td><td>20070319</td><td>0.00000</td></tr>\n",
       "<tr><td>POLYGON ((349461....</td><td>4.00000</td><td>8583445.00000</td><td>1.00000</td><td>ARTUR ALVIM</td><td>AAL</td><td>5</td><td>21</td><td>20070319</td><td>0.00000</td></tr>\n",
       "<tr><td>POLYGON ((320731....</td><td>4.00000</td><td>8583479.00000</td><td>1.00000</td><td>JAGUARA</td><td>JAG</td><td>40</td><td>08</td><td>20070319</td><td>0.00000</td></tr>\n",
       "<tr><td>POLYGON ((338651....</td><td>4.00000</td><td>8583437.00000</td><td>1.00000</td><td>VILA PRUDENTE</td><td>VPR</td><td>93</td><td>29</td><td>20070319</td><td>0.00000</td></tr>\n",
       "</table>\n",
       "only showing top 5 rows\n"
      ],
      "text/plain": [
       "+--------------------+-------+-------------+----------+--------------+----------+--------+-------+----------+----------+\n",
       "|            geometry|CLASSID|       FEATID|REVISIONNU|     NOME_DIST|SIGLA_DIST|COD_DIST|COD_SUB|DATA_CRIAC|USUARIO_ID|\n",
       "+--------------------+-------+-------------+----------+--------------+----------+--------+-------+----------+----------+\n",
       "|POLYGON ((352436....|4.00000|8583485.00000|   1.00000|JOSE BONIFACIO|       JBO|      47|     27|  20070319|   0.00000|\n",
       "|POLYGON ((320696....|4.00000|8583484.00000|   1.00000|   JD SAO LUIS|       JDS|      46|     18|  20070319|   0.00000|\n",
       "|POLYGON ((349461....|4.00000|8583445.00000|   1.00000|   ARTUR ALVIM|       AAL|       5|     21|  20070319|   0.00000|\n",
       "|POLYGON ((320731....|4.00000|8583479.00000|   1.00000|       JAGUARA|       JAG|      40|     08|  20070319|   0.00000|\n",
       "|POLYGON ((338651....|4.00000|8583437.00000|   1.00000| VILA PRUDENTE|       VPR|      93|     29|  20070319|   0.00000|\n",
       "+--------------------+-------+-------------+----------+--------------+----------+--------+-------+----------+----------+\n",
       "only showing top 5 rows"
      ]
     },
     "execution_count": 41,
     "metadata": {},
     "output_type": "execute_result"
    }
   ],
   "source": [
    "# reading the neighborhoods files:\n",
    "district_rdd = ShapefileReader.readToGeometryRDD(\n",
    "    sc=spark, inputPath=RAW_DATA_DIR + \"sp_layers/districts/*\"\n",
    ")\n",
    "\n",
    "df_district = Adapter.toDf(district_rdd, spark)\n",
    "\n",
    "# verifying the sectors:\n",
    "df_district"
   ]
  },
  {
   "cell_type": "code",
   "execution_count": 42,
   "metadata": {},
   "outputs": [
    {
     "data": {
      "text/plain": [
       "<Projected CRS: EPSG:29193>\n",
       "Name: SAD69 / UTM zone 23S\n",
       "Axis Info [cartesian]:\n",
       "- E[east]: Easting (metre)\n",
       "- N[north]: Northing (metre)\n",
       "Area of Use:\n",
       "- name: Brazil - between 48°W and 42°W, northern and southern hemispheres, onshore and offshore.\n",
       "- bounds: (-48.0, -33.5, -42.0, 5.13)\n",
       "Coordinate Operation:\n",
       "- name: UTM zone 23S\n",
       "- method: Transverse Mercator\n",
       "Datum: South American Datum 1969\n",
       "- Ellipsoid: GRS 1967 Modified\n",
       "- Prime Meridian: Greenwich"
      ]
     },
     "execution_count": 42,
     "metadata": {},
     "output_type": "execute_result"
    }
   ],
   "source": [
    "# it looks like the file's geometry is not the standard we want (ESPG:4326), let's find out what is it:\n",
    "get_file_crs(RAW_DATA_DIR + \"sp_layers/districts/\")"
   ]
  },
  {
   "cell_type": "markdown",
   "metadata": {},
   "source": [
    "We will need to convert the dataset to a standard CRS (coordinate reference system), which, in our case, is `espg:4326`."
   ]
  },
  {
   "cell_type": "code",
   "execution_count": 43,
   "metadata": {},
   "outputs": [],
   "source": [
    "# dropping the unnecessary columns:\n",
    "df_district = df_district.drop(\n",
    "    \"CLASSID\", \"FEATID\", \"REVISIONNU\", \"DATA_CRIAC\", \"USUARIO_ID\"\n",
    ")\n",
    "\n",
    "df_district.createOrReplaceTempView(\"tb_district\")\n",
    "\n",
    "# converting the coordinate system in the district file:\n",
    "Q_DISTRICT_CONVERSION = \"\"\"\n",
    "SELECT \n",
    "    ST_FlipCoordinates(ST_Transform(A.geometry, 'epsg:29193','epsg:4326')) as geometry,\n",
    "    A.NOME_DIST as district_name,\n",
    "    A.SIGLA_DIST as district_abbreviation,\n",
    "    A.COD_DIST as district_code,\n",
    "    A.COD_SUB as subdistrict_code\n",
    "FROM tb_district as A\n",
    "\"\"\"\n",
    "\n",
    "df_district = spark.sql(Q_DISTRICT_CONVERSION)"
   ]
  },
  {
   "cell_type": "markdown",
   "metadata": {},
   "source": [
    "## 1.5 Census Codebook\n",
    "The codebook is a master file that contains the name of the variables in respect to their original locations and meaning in the raw data. We will use these to give more meaningful names to the many census variables."
   ]
  },
  {
   "cell_type": "code",
   "execution_count": 44,
   "metadata": {},
   "outputs": [],
   "source": [
    "# loading the codebook from the census data\n",
    "DATA_DOC_DIR = \"../references/documentation/\"\n",
    "\n",
    "df_codebook = spark.read.json(DATA_DOC_DIR + \"ibge/codebook_features_selected.json\")"
   ]
  },
  {
   "cell_type": "code",
   "execution_count": 45,
   "metadata": {},
   "outputs": [],
   "source": [
    "# we will normalize the data in the codebook such that we can use it to match the variables in the other datasets:\n",
    "new_cols = {\n",
    "    \"Descrição da Variável\": \"variable_description\",\n",
    "    \"Nome da Variável\": \"variable_name\",\n",
    "    \"Tabela\": \"dataset\",\n",
    "}\n",
    "\n",
    "for original_name, new_name in new_cols.items():\n",
    "    df_codebook = df_codebook.withColumnRenamed(original_name, new_name)"
   ]
  },
  {
   "cell_type": "code",
   "execution_count": 46,
   "metadata": {},
   "outputs": [
    {
     "data": {
      "text/plain": [
       "4107"
      ]
     },
     "execution_count": 46,
     "metadata": {},
     "output_type": "execute_result"
    }
   ],
   "source": [
    "# codebook yields:\n",
    "df_codebook.count()  # there are a total of 4107 variables in all the datasets"
   ]
  },
  {
   "cell_type": "code",
   "execution_count": 47,
   "metadata": {},
   "outputs": [
    {
     "data": {
      "text/html": [
       "<table border='1'>\n",
       "<tr><th>dataset_name_pt</th><th>is_selected</th><th>normalized_variable</th><th>simplified_variable_name</th><th>variable_description_en</th><th>variable_description_pt</th><th>variable_name</th></tr>\n",
       "<tr><td>Básico</td><td>1</td><td>sector_code</td><td>cod_setor</td><td>Sector code</td><td>Código do setor</td><td>Cod_setor</td></tr>\n",
       "<tr><td>Básico</td><td>1</td><td>code_large_region...</td><td>cod_grandes_regioes</td><td>Code of Large Reg...</td><td>Código das Grande...</td><td>Cod_Grandes Regiões</td></tr>\n",
       "<tr><td>Básico</td><td>1</td><td>name_large_region...</td><td>nome_grande_regiao</td><td>Name of large reg...</td><td>Nome das Grandes ...</td><td>Nome_Grande_Regiao</td></tr>\n",
       "<tr><td>Básico</td><td>1</td><td>federation_unit_code</td><td>cod_uf</td><td>Federation Unit Code</td><td>Código da Unidade...</td><td>Cod_UF</td></tr>\n",
       "<tr><td>Básico</td><td>1</td><td>name_federation_unit</td><td>nome_da_uf</td><td>Name of the Feder...</td><td>Nome da Unidade d...</td><td>Nome_da_UF</td></tr>\n",
       "</table>\n",
       "only showing top 5 rows\n"
      ],
      "text/plain": [
       "+---------------+-----------+--------------------+------------------------+-----------------------+-----------------------+-------------------+\n",
       "|dataset_name_pt|is_selected| normalized_variable|simplified_variable_name|variable_description_en|variable_description_pt|      variable_name|\n",
       "+---------------+-----------+--------------------+------------------------+-----------------------+-----------------------+-------------------+\n",
       "|         Básico|          1|         sector_code|               cod_setor|            Sector code|        Código do setor|          Cod_setor|\n",
       "|         Básico|          1|code_large_region...|     cod_grandes_regioes|   Code of Large Reg...|   Código das Grande...|Cod_Grandes Regiões|\n",
       "|         Básico|          1|name_large_region...|      nome_grande_regiao|   Name of large reg...|   Nome das Grandes ...| Nome_Grande_Regiao|\n",
       "|         Básico|          1|federation_unit_code|                  cod_uf|   Federation Unit Code|   Código da Unidade...|             Cod_UF|\n",
       "|         Básico|          1|name_federation_unit|              nome_da_uf|   Name of the Feder...|   Nome da Unidade d...|         Nome_da_UF|\n",
       "+---------------+-----------+--------------------+------------------------+-----------------------+-----------------------+-------------------+\n",
       "only showing top 5 rows"
      ]
     },
     "execution_count": 47,
     "metadata": {},
     "output_type": "execute_result"
    }
   ],
   "source": [
    "# verifying the dataset:\n",
    "df_codebook"
   ]
  },
  {
   "cell_type": "code",
   "execution_count": 48,
   "metadata": {},
   "outputs": [],
   "source": [
    "# building udfs from the utilities:\n",
    "normalize_entities_udf = F.udf(normalize_entities)\n",
    "\n",
    "df_codebook = df_codebook.withColumn(\n",
    "    \"dataset_normalized\", normalize_entities_udf(F.col(\"dataset_name_pt\"))\n",
    ")"
   ]
  },
  {
   "cell_type": "code",
   "execution_count": 49,
   "metadata": {},
   "outputs": [],
   "source": [
    "# fixing the order of columns for the codebook:\n",
    "df_codebook_subset = df_codebook.select(\n",
    "    \"dataset_normalized\", \"simplified_variable_name\", \"normalized_variable\"\n",
    ")\n",
    "\n",
    "# generating a lookup table base on the dataset : original_name relation\n",
    "map_rdd = df_codebook_subset.rdd.groupBy(lambda row: row[\"dataset_normalized\"]).map(\n",
    "    lambda row: (row[0], {variable[1]: variable[2] for variable in row[1]})\n",
    ")\n",
    "\n",
    "codebook_lookup = dict(map_rdd.collect())"
   ]
  },
  {
   "cell_type": "markdown",
   "metadata": {},
   "source": [
    "## 1.6 Census Data\n",
    "The Census data itself is broken up in several different files that represent the different entities of the data. For example:\n",
    "\n",
    "1. Domicilio{N}: refers to data at the `household`. Things like number of households in a sector, number of residents and such is located here;\n",
    "2. Pessoa{N}: refers to the `person` data. Here we can find information about the sociodemographic make-up of the sector, such as gender distributions, number of children, race profiles, et cetera;\n",
    "\n",
    "... and so on.\n",
    "\n",
    "I will process all the files related to the city of São Paulo and gather them into the appropriate entities. I also went ahead and pre-selected several features from the codebook, such that we won't use all of the available features (`4107` according to the codebook)."
   ]
  },
  {
   "cell_type": "markdown",
   "metadata": {},
   "source": [
    "# 2. Processing the Census Data"
   ]
  },
  {
   "cell_type": "code",
   "execution_count": 579,
   "metadata": {},
   "outputs": [],
   "source": [
    "# defining a blacklist of column names to not convert data types:\n",
    "\n",
    "blacklist = [\n",
    "    \"cod_bairro\",\n",
    "    \"cod_distrito\",\n",
    "    \"cod_grandes_regioes\",\n",
    "    \"cod_meso\",\n",
    "    \"cod_micro\",\n",
    "    \"cod_municipio\",\n",
    "    \"cod_rm\",\n",
    "    \"cod_setor\",\n",
    "    \"cod_subdistrito\",\n",
    "    \"cod_uf\",\n",
    "    \"nome_da_meso\",\n",
    "    \"nome_da_micro\",\n",
    "    \"nome_da_rm\",\n",
    "    \"nome_da_uf\",\n",
    "    \"nome_do_bairro\",\n",
    "    \"nome_do_distrito\",\n",
    "    \"nome_do_municipio\",\n",
    "    \"nome_do_subdistrito\",\n",
    "    \"nome_grande_regiao\",\n",
    "    \"situacao_setor\",\n",
    "    \"tipo_setor\",\n",
    "    \"situacao\",\n",
    "    \"setor_precoleta\",\n",
    "]"
   ]
  },
  {
   "cell_type": "code",
   "execution_count": 580,
   "metadata": {},
   "outputs": [],
   "source": [
    "# list all the files available on the census data directory:\n",
    "census_files = sorted(glob(RAW_DATA_DIR + \"sp_census/universe_results/*.csv\"))\n",
    "BASE_PATH = RAW_DATA_DIR + \"sp_census/universe_results/\"\n",
    "\n",
    "# saving the resulting dataframes to a processed stage for further handling:\n",
    "PROCESSED_CENSUS_DATA_DIR = \"../data/processed/sp_census/raw_datasets/\"\n",
    "\n",
    "# instantiating the UDF for replacing decimal separators:\n",
    "replace_decimal_separator_udf = F.udf(replace_decimal_separator)\n",
    "census_data = []"
   ]
  },
  {
   "cell_type": "code",
   "execution_count": 581,
   "metadata": {},
   "outputs": [
    {
     "name": "stderr",
     "output_type": "stream",
     "text": [
      "  0%|          | 0/26 [00:00<?, ?it/s]"
     ]
    },
    {
     "name": "stdout",
     "output_type": "stream",
     "text": [
      "Processing file: ../data/raw/sp_census/universe_results/Basico_SP1.csv\n",
      "Dropping columns [] - not present in the codebook\n",
      "Dropping columns [] for being duplicates\n",
      "\n",
      "    Saving dataframe to ../data/processed/sp_census//tb_basico\n",
      "    \n"
     ]
    },
    {
     "name": "stderr",
     "output_type": "stream",
     "text": [
      "  4%|▍         | 1/26 [00:00<00:23,  1.07it/s]"
     ]
    },
    {
     "name": "stdout",
     "output_type": "stream",
     "text": [
      "../data/processed/sp_census//tb_basico/part-00000-e17276ce-6668-4f09-9559-473044f13e0c-c000.gz.parquet\n",
      "\n",
      "    Saving\n",
      "    ../data/processed/sp_census//tb_basico/part-00000-e17276ce-6668-4f09-9559-473044f13e0c-c000.gz.parquet \n",
      "    to ../data/processed/sp_census//tb_basico.parquet\n",
      "    \n",
      "\n",
      "    Deleting leftover directory at ../data/processed/sp_census//tb_basico\n",
      "    \n",
      "Processing file: ../data/raw/sp_census/universe_results/Domicilio01_SP1.csv\n",
      "Dropping columns [] - not present in the codebook\n",
      "Dropping columns ['V125', 'V204', 'V202', 'V035', 'V120', 'V139', 'V119', 'V025', 'V026', 'V208', 'V041', 'V206', 'V126', 'V203', 'V039', 'V004', 'V198'] for being duplicates\n",
      "\n",
      "    Saving dataframe to ../data/processed/sp_census//tb_domicilio01\n",
      "    \n"
     ]
    },
    {
     "name": "stderr",
     "output_type": "stream",
     "text": [
      "  8%|▊         | 2/26 [00:42<09:51, 24.66s/it]"
     ]
    },
    {
     "name": "stdout",
     "output_type": "stream",
     "text": [
      "../data/processed/sp_census//tb_domicilio01/part-00000-e06c8b05-7fe0-4670-8113-e27176d090d8-c000.gz.parquet\n",
      "\n",
      "    Saving\n",
      "    ../data/processed/sp_census//tb_domicilio01/part-00000-e06c8b05-7fe0-4670-8113-e27176d090d8-c000.gz.parquet \n",
      "    to ../data/processed/sp_census//tb_domicilio01.parquet\n",
      "    \n",
      "\n",
      "    Deleting leftover directory at ../data/processed/sp_census//tb_domicilio01\n",
      "    \n",
      "Processing file: ../data/raw/sp_census/universe_results/Domicilio02_SP1.csv\n",
      "Dropping columns [] - not present in the codebook\n",
      "Dropping columns ['V098', 'V046', 'V054', 'V090', 'V010', 'V002'] for being duplicates\n",
      "\n",
      "    Saving dataframe to ../data/processed/sp_census//tb_domicilio02\n",
      "    \n"
     ]
    },
    {
     "name": "stderr",
     "output_type": "stream",
     "text": [
      " 12%|█▏        | 3/26 [00:52<06:56, 18.12s/it]"
     ]
    },
    {
     "name": "stdout",
     "output_type": "stream",
     "text": [
      "../data/processed/sp_census//tb_domicilio02/part-00000-35f694d9-356a-4448-a930-deffb20fd9ef-c000.gz.parquet\n",
      "\n",
      "    Saving\n",
      "    ../data/processed/sp_census//tb_domicilio02/part-00000-35f694d9-356a-4448-a930-deffb20fd9ef-c000.gz.parquet \n",
      "    to ../data/processed/sp_census//tb_domicilio02.parquet\n",
      "    \n",
      "\n",
      "    Deleting leftover directory at ../data/processed/sp_census//tb_domicilio02\n",
      "    \n",
      "Processing file: ../data/raw/sp_census/universe_results/DomicilioRenda_SP1.csv\n",
      "Dropping columns [] - not present in the codebook\n",
      "Dropping columns [] for being duplicates\n",
      "\n",
      "    Saving dataframe to ../data/processed/sp_census//tb_domicilio_renda\n",
      "    \n"
     ]
    },
    {
     "name": "stderr",
     "output_type": "stream",
     "text": [
      " 15%|█▌        | 4/26 [00:52<04:05, 11.14s/it]"
     ]
    },
    {
     "name": "stdout",
     "output_type": "stream",
     "text": [
      "../data/processed/sp_census//tb_domicilio_renda/part-00000-31c2218a-8eec-4ffc-8549-93b6e08e831b-c000.gz.parquet\n",
      "\n",
      "    Saving\n",
      "    ../data/processed/sp_census//tb_domicilio_renda/part-00000-31c2218a-8eec-4ffc-8549-93b6e08e831b-c000.gz.parquet \n",
      "    to ../data/processed/sp_census//tb_domicilio_renda.parquet\n",
      "    \n",
      "\n",
      "    Deleting leftover directory at ../data/processed/sp_census//tb_domicilio_renda\n",
      "    \n",
      "Processing file: ../data/raw/sp_census/universe_results/Entorno01_SP1.csv\n",
      "Dropping columns ['Cod_Grandes Regiões', 'Cod_RM', 'Cod_UF', 'Cod_bairro', 'Cod_distrito', 'Cod_meso', 'Cod_micro', 'Cod_municipio', 'Cod_subdistrito', 'Nome_Grande_Regiao', 'Nome_da_RM', 'Nome_da_UF ', 'Nome_da_meso', 'Nome_da_micro', 'Nome_do_bairro', 'Nome_do_distrito', 'Nome_do_municipio', 'Nome_do_subdistrito', 'Setor_Precoleta'] - not present in the codebook\n",
      "Dropping columns ['V102', 'V062', 'Cod_setor', 'V023', 'V041', 'V016', 'V163', 'V103', 'V006', 'V003', 'V063', 'V021', 'V059', 'V162', 'V020', 'Situacao_setor', 'V004', 'V039', 'V057', 'V022', 'V002', 'V007', 'V014'] for being duplicates\n",
      "\n",
      "    Saving dataframe to ../data/processed/sp_census//tb_entorno01\n",
      "    \n"
     ]
    },
    {
     "name": "stderr",
     "output_type": "stream",
     "text": [
      " 19%|█▉        | 5/26 [01:16<05:26, 15.54s/it]"
     ]
    },
    {
     "name": "stdout",
     "output_type": "stream",
     "text": [
      "../data/processed/sp_census//tb_entorno01/part-00000-518627ff-ce8b-48b4-b6b9-3555f3e879d9-c000.gz.parquet\n",
      "\n",
      "    Saving\n",
      "    ../data/processed/sp_census//tb_entorno01/part-00000-518627ff-ce8b-48b4-b6b9-3555f3e879d9-c000.gz.parquet \n",
      "    to ../data/processed/sp_census//tb_entorno01.parquet\n",
      "    \n",
      "\n",
      "    Deleting leftover directory at ../data/processed/sp_census//tb_entorno01\n",
      "    \n",
      "Processing file: ../data/raw/sp_census/universe_results/Entorno02_SP1.csv\n",
      "Dropping columns ['Cod_Grandes Regiões', 'Cod_RM', 'Cod_UF', 'Cod_bairro', 'Cod_distrito', 'Cod_meso', 'Cod_micro', 'Cod_municipio', 'Cod_subdistrito', 'Nome_Grande_Regiao', 'Nome_da_RM', 'Nome_da_UF ', 'Nome_da_meso', 'Nome_da_micro', 'Nome_do_bairro', 'Nome_do_distrito', 'Nome_do_municipio', 'Nome_do_subdistrito', 'Setor_Precoleta'] - not present in the codebook\n",
      "Dropping columns ['V202', 'Cod_setor', 'V207', 'V206', 'V203', 'Situacao_setor'] for being duplicates\n",
      "\n",
      "    Saving dataframe to ../data/processed/sp_census//tb_entorno02\n",
      "    \n"
     ]
    },
    {
     "name": "stderr",
     "output_type": "stream",
     "text": [
      " 23%|██▎       | 6/26 [01:53<07:40, 23.04s/it]"
     ]
    },
    {
     "name": "stdout",
     "output_type": "stream",
     "text": [
      "../data/processed/sp_census//tb_entorno02/part-00000-286e867c-19f0-4ea5-8107-14aef4a2ccae-c000.gz.parquet\n",
      "\n",
      "    Saving\n",
      "    ../data/processed/sp_census//tb_entorno02/part-00000-286e867c-19f0-4ea5-8107-14aef4a2ccae-c000.gz.parquet \n",
      "    to ../data/processed/sp_census//tb_entorno02.parquet\n",
      "    \n",
      "\n",
      "    Deleting leftover directory at ../data/processed/sp_census//tb_entorno02\n",
      "    \n",
      "Processing file: ../data/raw/sp_census/universe_results/Entorno03_SP1.csv\n",
      "Dropping columns ['Cod_Grandes Regiões', 'Cod_RM', 'Cod_UF', 'Cod_bairro', 'Cod_distrito', 'Cod_meso', 'Cod_micro', 'Cod_municipio', 'Cod_subdistrito', 'Nome_Grande_Regiao', 'Nome_da_RM', 'Nome_da_UF ', 'Nome_da_meso', 'Nome_da_micro', 'Nome_do_bairro', 'Nome_do_distrito', 'Nome_do_municipio', 'Nome_do_subdistrito', 'Setor_Precoleta'] - not present in the codebook\n",
      "Dropping columns ['Cod_setor', 'V475', 'V477', 'V479', 'V480', 'V429', 'V453', 'V478', 'V431', 'V471', 'V457', 'Situacao_setor'] for being duplicates\n",
      "\n",
      "    Saving dataframe to ../data/processed/sp_census//tb_entorno03\n",
      "    \n"
     ]
    },
    {
     "name": "stderr",
     "output_type": "stream",
     "text": [
      " 27%|██▋       | 7/26 [02:21<07:45, 24.48s/it]"
     ]
    },
    {
     "name": "stdout",
     "output_type": "stream",
     "text": [
      "../data/processed/sp_census//tb_entorno03/part-00000-a71f32e9-4c3a-45b1-9125-e4e517b128dd-c000.gz.parquet\n",
      "\n",
      "    Saving\n",
      "    ../data/processed/sp_census//tb_entorno03/part-00000-a71f32e9-4c3a-45b1-9125-e4e517b128dd-c000.gz.parquet \n",
      "    to ../data/processed/sp_census//tb_entorno03.parquet\n",
      "    \n",
      "\n",
      "    Deleting leftover directory at ../data/processed/sp_census//tb_entorno03\n",
      "    \n",
      "Processing file: ../data/raw/sp_census/universe_results/Entorno04_SP1.csv\n",
      "Dropping columns ['Cod_Grandes Regiões', 'Cod_RM', 'Cod_UF', 'Cod_bairro', 'Cod_distrito', 'Cod_meso', 'Cod_micro', 'Cod_municipio', 'Cod_subdistrito', 'Nome_Grande_Regiao', 'Nome_da_RM', 'Nome_da_UF ', 'Nome_da_meso', 'Nome_da_micro', 'Nome_do_bairro', 'Nome_do_distrito', 'Nome_do_municipio', 'Nome_do_subdistrito', 'Setor_Precoleta'] - not present in the codebook\n",
      "Dropping columns ['Cod_setor', 'Situacao_setor', 'V693', 'V694'] for being duplicates\n",
      "\n",
      "    Saving dataframe to ../data/processed/sp_census//tb_entorno04\n",
      "    \n"
     ]
    },
    {
     "name": "stderr",
     "output_type": "stream",
     "text": [
      " 31%|███       | 8/26 [03:00<08:42, 29.03s/it]"
     ]
    },
    {
     "name": "stdout",
     "output_type": "stream",
     "text": [
      "../data/processed/sp_census//tb_entorno04/part-00000-185d82b2-3ae9-45d9-b483-6165b2167838-c000.gz.parquet\n",
      "\n",
      "    Saving\n",
      "    ../data/processed/sp_census//tb_entorno04/part-00000-185d82b2-3ae9-45d9-b483-6165b2167838-c000.gz.parquet \n",
      "    to ../data/processed/sp_census//tb_entorno04.parquet\n",
      "    \n",
      "\n",
      "    Deleting leftover directory at ../data/processed/sp_census//tb_entorno04\n",
      "    \n",
      "Processing file: ../data/raw/sp_census/universe_results/Entorno05_SP1.csv\n",
      "Dropping columns ['Cod_Grandes Regiões', 'Cod_RM', 'Cod_UF', 'Cod_bairro', 'Cod_distrito', 'Cod_meso', 'Cod_micro', 'Cod_municipio', 'Cod_subdistrito', 'Nome_Grande_Regiao', 'Nome_da_RM', 'Nome_da_UF ', 'Nome_da_meso', 'Nome_da_micro', 'Nome_do_bairro', 'Nome_do_distrito', 'Nome_do_municipio', 'Nome_do_subdistrito', 'Setor_Precoleta'] - not present in the codebook\n",
      "Dropping columns ['Cod_setor', 'Situacao_setor'] for being duplicates\n",
      "\n",
      "    Saving dataframe to ../data/processed/sp_census//tb_entorno05\n",
      "    \n"
     ]
    },
    {
     "name": "stderr",
     "output_type": "stream",
     "text": [
      " 35%|███▍      | 9/26 [03:39<09:10, 32.36s/it]"
     ]
    },
    {
     "name": "stdout",
     "output_type": "stream",
     "text": [
      "../data/processed/sp_census//tb_entorno05/part-00000-bae291b5-0af2-4ca0-8a7b-e2c295824b8d-c000.gz.parquet\n",
      "\n",
      "    Saving\n",
      "    ../data/processed/sp_census//tb_entorno05/part-00000-bae291b5-0af2-4ca0-8a7b-e2c295824b8d-c000.gz.parquet \n",
      "    to ../data/processed/sp_census//tb_entorno05.parquet\n",
      "    \n",
      "\n",
      "    Deleting leftover directory at ../data/processed/sp_census//tb_entorno05\n",
      "    \n",
      "Processing file: ../data/raw/sp_census/universe_results/Pessoa01_SP1.csv\n",
      "Dropping columns [] - not present in the codebook\n",
      "Dropping columns [] for being duplicates\n",
      "\n",
      "    Saving dataframe to ../data/processed/sp_census//tb_pessoa01\n",
      "    \n"
     ]
    },
    {
     "name": "stderr",
     "output_type": "stream",
     "text": [
      " 38%|███▊      | 10/26 [03:44<06:19, 23.75s/it]"
     ]
    },
    {
     "name": "stdout",
     "output_type": "stream",
     "text": [
      "../data/processed/sp_census//tb_pessoa01/part-00000-134e9900-b4e1-48b2-93dd-af573356c6ea-c000.gz.parquet\n",
      "\n",
      "    Saving\n",
      "    ../data/processed/sp_census//tb_pessoa01/part-00000-134e9900-b4e1-48b2-93dd-af573356c6ea-c000.gz.parquet \n",
      "    to ../data/processed/sp_census//tb_pessoa01.parquet\n",
      "    \n",
      "\n",
      "    Deleting leftover directory at ../data/processed/sp_census//tb_pessoa01\n",
      "    \n",
      "Processing file: ../data/raw/sp_census/universe_results/Pessoa02_SP1.csv\n",
      "Dropping columns ['V171', 'V172', 'V173', 'V174', 'V175', 'V176', 'V177', 'V178', 'V179', 'V180', 'V181', 'V182', 'V183', 'V184', 'V185', 'V186', 'V187', 'V188', 'V189', 'V190', 'V191', 'V192', 'V193', 'V194', 'V195', 'V196', 'V197', 'V198', 'V199', 'V200', 'V201', 'V202', 'V203', 'V204', 'V205', 'V206', 'V207', 'V208', 'V209', 'V210', 'V211', 'V212', 'V213', 'V214', 'V215', 'V216', 'V217', 'V218', 'V219', 'V220', 'V221', 'V222', 'V223', 'V224', 'V225', 'V226', 'V227', 'V228', 'V229', 'V230', 'V231', 'V232', 'V233', 'V234', 'V235', 'V236', 'V237', 'V238', 'V239', 'V240', 'V241', 'V242', 'V243', 'V244', 'V245', 'V246', 'V247', 'V248', 'V249', 'V250', 'V251', 'V252', 'V253', 'V254', 'V255'] - not present in the codebook\n",
      "Dropping columns ['V105', 'V094'] for being duplicates\n",
      "\n",
      "    Saving dataframe to ../data/processed/sp_census//tb_pessoa02\n",
      "    \n"
     ]
    },
    {
     "name": "stderr",
     "output_type": "stream",
     "text": [
      " 42%|████▏     | 11/26 [03:48<04:27, 17.82s/it]"
     ]
    },
    {
     "name": "stdout",
     "output_type": "stream",
     "text": [
      "../data/processed/sp_census//tb_pessoa02/part-00000-7c9d6791-8b43-4636-8bf5-1f05904ebf74-c000.gz.parquet\n",
      "\n",
      "    Saving\n",
      "    ../data/processed/sp_census//tb_pessoa02/part-00000-7c9d6791-8b43-4636-8bf5-1f05904ebf74-c000.gz.parquet \n",
      "    to ../data/processed/sp_census//tb_pessoa02.parquet\n",
      "    \n",
      "\n",
      "    Deleting leftover directory at ../data/processed/sp_census//tb_pessoa02\n",
      "    \n",
      "Processing file: ../data/raw/sp_census/universe_results/Pessoa03_SP1.csv\n",
      "Dropping columns ['V002'] - not present in the codebook\n",
      "Dropping columns [] for being duplicates\n",
      "\n",
      "    Saving dataframe to ../data/processed/sp_census//tb_pessoa03\n",
      "    \n"
     ]
    },
    {
     "name": "stderr",
     "output_type": "stream",
     "text": [
      " 46%|████▌     | 12/26 [04:43<06:48, 29.16s/it]"
     ]
    },
    {
     "name": "stdout",
     "output_type": "stream",
     "text": [
      "../data/processed/sp_census//tb_pessoa03/part-00000-aa3ed58b-09fd-4f31-9097-bc2ca707fa8c-c000.gz.parquet\n",
      "\n",
      "    Saving\n",
      "    ../data/processed/sp_census//tb_pessoa03/part-00000-aa3ed58b-09fd-4f31-9097-bc2ca707fa8c-c000.gz.parquet \n",
      "    to ../data/processed/sp_census//tb_pessoa03.parquet\n",
      "    \n",
      "\n",
      "    Deleting leftover directory at ../data/processed/sp_census//tb_pessoa03\n",
      "    \n",
      "Processing file: ../data/raw/sp_census/universe_results/Pessoa04_SP1.csv\n",
      "Dropping columns [] - not present in the codebook\n",
      "Dropping columns [] for being duplicates\n",
      "\n",
      "    Saving dataframe to ../data/processed/sp_census//tb_pessoa04\n",
      "    \n"
     ]
    },
    {
     "name": "stderr",
     "output_type": "stream",
     "text": [
      " 50%|█████     | 13/26 [05:00<05:28, 25.31s/it]"
     ]
    },
    {
     "name": "stdout",
     "output_type": "stream",
     "text": [
      "../data/processed/sp_census//tb_pessoa04/part-00000-c7da13e7-91fd-4cae-8be7-4305420b8f90-c000.gz.parquet\n",
      "\n",
      "    Saving\n",
      "    ../data/processed/sp_census//tb_pessoa04/part-00000-c7da13e7-91fd-4cae-8be7-4305420b8f90-c000.gz.parquet \n",
      "    to ../data/processed/sp_census//tb_pessoa04.parquet\n",
      "    \n",
      "\n",
      "    Deleting leftover directory at ../data/processed/sp_census//tb_pessoa04\n",
      "    \n",
      "Processing file: ../data/raw/sp_census/universe_results/Pessoa05_SP1.csv\n",
      "Dropping columns [] - not present in the codebook\n",
      "Dropping columns [] for being duplicates\n",
      "\n",
      "    Saving dataframe to ../data/processed/sp_census//tb_pessoa05\n",
      "    \n"
     ]
    },
    {
     "name": "stderr",
     "output_type": "stream",
     "text": [
      " 54%|█████▍    | 14/26 [05:00<03:33, 17.76s/it]"
     ]
    },
    {
     "name": "stdout",
     "output_type": "stream",
     "text": [
      "../data/processed/sp_census//tb_pessoa05/part-00000-7cc60fd9-6c27-48cb-9460-d96cb2c0ff03-c000.gz.parquet\n",
      "\n",
      "    Saving\n",
      "    ../data/processed/sp_census//tb_pessoa05/part-00000-7cc60fd9-6c27-48cb-9460-d96cb2c0ff03-c000.gz.parquet \n",
      "    to ../data/processed/sp_census//tb_pessoa05.parquet\n",
      "    \n",
      "\n",
      "    Deleting leftover directory at ../data/processed/sp_census//tb_pessoa05\n",
      "    \n",
      "Processing file: ../data/raw/sp_census/universe_results/Pessoa06_SP1.csv\n",
      "Dropping columns [] - not present in the codebook\n",
      "Dropping columns [] for being duplicates\n",
      "\n",
      "    Saving dataframe to ../data/processed/sp_census//tb_pessoa06\n",
      "    \n"
     ]
    },
    {
     "name": "stderr",
     "output_type": "stream",
     "text": [
      " 58%|█████▊    | 15/26 [05:36<04:16, 23.30s/it]"
     ]
    },
    {
     "name": "stdout",
     "output_type": "stream",
     "text": [
      "../data/processed/sp_census//tb_pessoa06/part-00000-a5901c19-5c6b-42fe-a34e-11e7cc175df4-c000.gz.parquet\n",
      "\n",
      "    Saving\n",
      "    ../data/processed/sp_census//tb_pessoa06/part-00000-a5901c19-5c6b-42fe-a34e-11e7cc175df4-c000.gz.parquet \n",
      "    to ../data/processed/sp_census//tb_pessoa06.parquet\n",
      "    \n",
      "\n",
      "    Deleting leftover directory at ../data/processed/sp_census//tb_pessoa06\n",
      "    \n",
      "Processing file: ../data/raw/sp_census/universe_results/Pessoa07_SP1.csv\n",
      "Dropping columns [] - not present in the codebook\n",
      "Dropping columns ['V050', 'V202', 'V168', 'V049', 'V042', 'V008', 'V189', 'V194', 'V036', 'V161', 'V195', 'V203', 'V041', 'V015'] for being duplicates\n",
      "\n",
      "    Saving dataframe to ../data/processed/sp_census//tb_pessoa07\n",
      "    \n"
     ]
    },
    {
     "name": "stderr",
     "output_type": "stream",
     "text": [
      " 62%|██████▏   | 16/26 [06:03<04:04, 24.42s/it]"
     ]
    },
    {
     "name": "stdout",
     "output_type": "stream",
     "text": [
      "../data/processed/sp_census//tb_pessoa07/part-00000-23d468ed-ca73-4648-abc8-b3b003a83093-c000.gz.parquet\n",
      "\n",
      "    Saving\n",
      "    ../data/processed/sp_census//tb_pessoa07/part-00000-23d468ed-ca73-4648-abc8-b3b003a83093-c000.gz.parquet \n",
      "    to ../data/processed/sp_census//tb_pessoa07.parquet\n",
      "    \n",
      "\n",
      "    Deleting leftover directory at ../data/processed/sp_census//tb_pessoa07\n",
      "    \n",
      "Processing file: ../data/raw/sp_census/universe_results/Pessoa08_SP1.csv\n",
      "Dropping columns ['Cod_setor', 'V255'] - not present in the codebook\n",
      "Dropping columns ['V100', 'V205', 'V062', 'V054', 'V080', 'V242', 'V220', 'V089', 'V212', 'V084', 'V251', 'V223', 'V211', 'V083', 'V098', 'V052', 'V213', 'V227', 'V229', 'V237', 'V064', 'V218', 'V244', 'V096', 'V053', 'V249', 'V070', 'V055', 'V207', 'V210', 'V058', 'V209', 'V086', 'V226', 'V063', 'V250', 'V245', 'V060', 'V208', 'V059', 'V224', 'V073', 'V236', 'V071', 'V091', 'V253', 'V075', 'V215', 'V076', 'V056', 'V216', 'V057', 'V217', 'V239', 'V067', 'V228', 'V092', 'V097', 'V206', 'V065', 'V082'] for being duplicates\n",
      "\n",
      "    Saving dataframe to ../data/processed/sp_census//tb_pessoa08\n",
      "    \n"
     ]
    },
    {
     "name": "stderr",
     "output_type": "stream",
     "text": [
      " 65%|██████▌   | 17/26 [06:38<04:07, 27.52s/it]"
     ]
    },
    {
     "name": "stdout",
     "output_type": "stream",
     "text": [
      "../data/processed/sp_census//tb_pessoa08/part-00000-e5e9ec12-54f1-4c4e-a1c1-b944cee69531-c000.gz.parquet\n",
      "\n",
      "    Saving\n",
      "    ../data/processed/sp_census//tb_pessoa08/part-00000-e5e9ec12-54f1-4c4e-a1c1-b944cee69531-c000.gz.parquet \n",
      "    to ../data/processed/sp_census//tb_pessoa08.parquet\n",
      "    \n",
      "\n",
      "    Deleting leftover directory at ../data/processed/sp_census//tb_pessoa08\n",
      "    \n",
      "Processing file: ../data/raw/sp_census/universe_results/Pessoa09_SP1.csv\n",
      "Dropping columns [] - not present in the codebook\n",
      "Dropping columns ['V157', 'V161', 'V172', 'V168'] for being duplicates\n",
      "\n",
      "    Saving dataframe to ../data/processed/sp_census//tb_pessoa09\n",
      "    \n"
     ]
    },
    {
     "name": "stderr",
     "output_type": "stream",
     "text": [
      " 69%|██████▉   | 18/26 [07:25<04:27, 33.43s/it]"
     ]
    },
    {
     "name": "stdout",
     "output_type": "stream",
     "text": [
      "../data/processed/sp_census//tb_pessoa09/part-00000-8f9c7f8c-ffce-478f-9991-ae4aeffdba51-c000.gz.parquet\n",
      "\n",
      "    Saving\n",
      "    ../data/processed/sp_census//tb_pessoa09/part-00000-8f9c7f8c-ffce-478f-9991-ae4aeffdba51-c000.gz.parquet \n",
      "    to ../data/processed/sp_census//tb_pessoa09.parquet\n",
      "    \n",
      "\n",
      "    Deleting leftover directory at ../data/processed/sp_census//tb_pessoa09\n",
      "    \n",
      "Processing file: ../data/raw/sp_census/universe_results/Pessoa10_SP1.csv\n",
      "Dropping columns [] - not present in the codebook\n",
      "Dropping columns [] for being duplicates\n",
      "\n",
      "    Saving dataframe to ../data/processed/sp_census//tb_pessoa10\n",
      "    \n"
     ]
    },
    {
     "name": "stderr",
     "output_type": "stream",
     "text": [
      " 73%|███████▎  | 19/26 [07:25<02:44, 23.45s/it]"
     ]
    },
    {
     "name": "stdout",
     "output_type": "stream",
     "text": [
      "../data/processed/sp_census//tb_pessoa10/part-00000-f7983842-c530-4875-a74f-b5fafe7e133b-c000.gz.parquet\n",
      "\n",
      "    Saving\n",
      "    ../data/processed/sp_census//tb_pessoa10/part-00000-f7983842-c530-4875-a74f-b5fafe7e133b-c000.gz.parquet \n",
      "    to ../data/processed/sp_census//tb_pessoa10.parquet\n",
      "    \n",
      "\n",
      "    Deleting leftover directory at ../data/processed/sp_census//tb_pessoa10\n",
      "    \n",
      "Processing file: ../data/raw/sp_census/universe_results/Pessoa11_SP1.csv\n",
      "Dropping columns [] - not present in the codebook\n",
      "Dropping columns [] for being duplicates\n",
      "\n",
      "    Saving dataframe to ../data/processed/sp_census//tb_pessoa11\n",
      "    \n"
     ]
    },
    {
     "name": "stderr",
     "output_type": "stream",
     "text": [
      " 77%|███████▋  | 20/26 [07:37<01:59, 19.89s/it]"
     ]
    },
    {
     "name": "stdout",
     "output_type": "stream",
     "text": [
      "../data/processed/sp_census//tb_pessoa11/part-00000-372b7357-3c01-4573-9b7d-a4455f4da54e-c000.gz.parquet\n",
      "\n",
      "    Saving\n",
      "    ../data/processed/sp_census//tb_pessoa11/part-00000-372b7357-3c01-4573-9b7d-a4455f4da54e-c000.gz.parquet \n",
      "    to ../data/processed/sp_census//tb_pessoa11.parquet\n",
      "    \n",
      "\n",
      "    Deleting leftover directory at ../data/processed/sp_census//tb_pessoa11\n",
      "    \n",
      "Processing file: ../data/raw/sp_census/universe_results/Pessoa12_SP1.csv\n",
      "Dropping columns [] - not present in the codebook\n",
      "Dropping columns [] for being duplicates\n",
      "\n",
      "    Saving dataframe to ../data/processed/sp_census//tb_pessoa12\n",
      "    \n"
     ]
    },
    {
     "name": "stderr",
     "output_type": "stream",
     "text": [
      " 81%|████████  | 21/26 [07:48<01:26, 17.37s/it]"
     ]
    },
    {
     "name": "stdout",
     "output_type": "stream",
     "text": [
      "../data/processed/sp_census//tb_pessoa12/part-00000-64e7fe2a-14b1-494b-b154-d0f4974cc15f-c000.gz.parquet\n",
      "\n",
      "    Saving\n",
      "    ../data/processed/sp_census//tb_pessoa12/part-00000-64e7fe2a-14b1-494b-b154-d0f4974cc15f-c000.gz.parquet \n",
      "    to ../data/processed/sp_census//tb_pessoa12.parquet\n",
      "    \n",
      "\n",
      "    Deleting leftover directory at ../data/processed/sp_census//tb_pessoa12\n",
      "    \n",
      "Processing file: ../data/raw/sp_census/universe_results/Pessoa13_SP1.csv\n",
      "Dropping columns [] - not present in the codebook\n",
      "Dropping columns [] for being duplicates\n",
      "\n",
      "    Saving dataframe to ../data/processed/sp_census//tb_pessoa13\n",
      "    \n"
     ]
    },
    {
     "name": "stderr",
     "output_type": "stream",
     "text": [
      " 85%|████████▍ | 22/26 [08:00<01:02, 15.67s/it]"
     ]
    },
    {
     "name": "stdout",
     "output_type": "stream",
     "text": [
      "../data/processed/sp_census//tb_pessoa13/part-00000-90837121-a595-48ae-817b-9ae26215c39d-c000.gz.parquet\n",
      "\n",
      "    Saving\n",
      "    ../data/processed/sp_census//tb_pessoa13/part-00000-90837121-a595-48ae-817b-9ae26215c39d-c000.gz.parquet \n",
      "    to ../data/processed/sp_census//tb_pessoa13.parquet\n",
      "    \n",
      "\n",
      "    Deleting leftover directory at ../data/processed/sp_census//tb_pessoa13\n",
      "    \n",
      "Processing file: ../data/raw/sp_census/universe_results/PessoaRenda_SP1.csv\n",
      "Dropping columns [] - not present in the codebook\n",
      "Dropping columns [] for being duplicates\n",
      "\n",
      "    Saving dataframe to ../data/processed/sp_census//tb_pessoa_renda\n",
      "    \n"
     ]
    },
    {
     "name": "stderr",
     "output_type": "stream",
     "text": [
      " 88%|████████▊ | 23/26 [08:12<00:43, 14.50s/it]"
     ]
    },
    {
     "name": "stdout",
     "output_type": "stream",
     "text": [
      "../data/processed/sp_census//tb_pessoa_renda/part-00000-ec1f32a4-a42c-4358-8724-1ba6f72bba96-c000.gz.parquet\n",
      "\n",
      "    Saving\n",
      "    ../data/processed/sp_census//tb_pessoa_renda/part-00000-ec1f32a4-a42c-4358-8724-1ba6f72bba96-c000.gz.parquet \n",
      "    to ../data/processed/sp_census//tb_pessoa_renda.parquet\n",
      "    \n",
      "\n",
      "    Deleting leftover directory at ../data/processed/sp_census//tb_pessoa_renda\n",
      "    \n",
      "Processing file: ../data/raw/sp_census/universe_results/Responsavel01_SP1.csv\n",
      "Dropping columns [] - not present in the codebook\n",
      "Dropping columns [] for being duplicates\n",
      "\n",
      "    Saving dataframe to ../data/processed/sp_census//tb_responsavel01\n",
      "    \n"
     ]
    },
    {
     "name": "stderr",
     "output_type": "stream",
     "text": [
      " 92%|█████████▏| 24/26 [08:19<00:24, 12.32s/it]"
     ]
    },
    {
     "name": "stdout",
     "output_type": "stream",
     "text": [
      "../data/processed/sp_census//tb_responsavel01/part-00000-8e073358-048e-4e4e-b0a3-51a2ae4fcf21-c000.gz.parquet\n",
      "\n",
      "    Saving\n",
      "    ../data/processed/sp_census//tb_responsavel01/part-00000-8e073358-048e-4e4e-b0a3-51a2ae4fcf21-c000.gz.parquet \n",
      "    to ../data/processed/sp_census//tb_responsavel01.parquet\n",
      "    \n",
      "\n",
      "    Deleting leftover directory at ../data/processed/sp_census//tb_responsavel01\n",
      "    \n",
      "Processing file: ../data/raw/sp_census/universe_results/Responsavel02_SP1.csv\n",
      "Dropping columns [] - not present in the codebook\n",
      "Dropping columns [] for being duplicates\n",
      "\n",
      "    Saving dataframe to ../data/processed/sp_census//tb_responsavel02\n",
      "    \n"
     ]
    },
    {
     "name": "stderr",
     "output_type": "stream",
     "text": [
      " 96%|█████████▌| 25/26 [08:57<00:19, 19.85s/it]"
     ]
    },
    {
     "name": "stdout",
     "output_type": "stream",
     "text": [
      "../data/processed/sp_census//tb_responsavel02/part-00000-225f9d8d-4e73-4a65-93ef-e7deac429016-c000.gz.parquet\n",
      "\n",
      "    Saving\n",
      "    ../data/processed/sp_census//tb_responsavel02/part-00000-225f9d8d-4e73-4a65-93ef-e7deac429016-c000.gz.parquet \n",
      "    to ../data/processed/sp_census//tb_responsavel02.parquet\n",
      "    \n",
      "\n",
      "    Deleting leftover directory at ../data/processed/sp_census//tb_responsavel02\n",
      "    \n",
      "Processing file: ../data/raw/sp_census/universe_results/ResponsavelRenda_SP1.csv\n",
      "Dropping columns [] - not present in the codebook\n",
      "Dropping columns ['V118', 'V052', 'V019', 'V063', 'V085', 'V129'] for being duplicates\n",
      "\n",
      "    Saving dataframe to ../data/processed/sp_census//tb_responsavel_renda\n",
      "    \n"
     ]
    },
    {
     "name": "stderr",
     "output_type": "stream",
     "text": [
      "100%|██████████| 26/26 [09:07<00:00, 21.06s/it]"
     ]
    },
    {
     "name": "stdout",
     "output_type": "stream",
     "text": [
      "../data/processed/sp_census//tb_responsavel_renda/part-00000-02bb960a-223c-4e6e-a591-138cb39ff88c-c000.gz.parquet\n",
      "\n",
      "    Saving\n",
      "    ../data/processed/sp_census//tb_responsavel_renda/part-00000-02bb960a-223c-4e6e-a591-138cb39ff88c-c000.gz.parquet \n",
      "    to ../data/processed/sp_census//tb_responsavel_renda.parquet\n",
      "    \n",
      "\n",
      "    Deleting leftover directory at ../data/processed/sp_census//tb_responsavel_renda\n",
      "    \n"
     ]
    },
    {
     "name": "stderr",
     "output_type": "stream",
     "text": [
      "\n"
     ]
    }
   ],
   "source": [
    "for file in tqdm(census_files):\n",
    "\n",
    "    print(f\"Processing file: {file}\")\n",
    "\n",
    "    # fixing names of the original tables\n",
    "    dataset_name = (\n",
    "        file.split(\"/\")[-1].replace(\".csv\", \"\").replace(\"SP1\", \"\").replace(\"_\", \"\")\n",
    "    )\n",
    "\n",
    "    # normalizes the text data for the dataset\n",
    "    dataset_name = normalize_entities(dataset_name)\n",
    "\n",
    "    # loading the raw csv file\n",
    "    df_temp = spark.read.csv(\n",
    "        file,\n",
    "        header=True,\n",
    "        sep=\";\",\n",
    "        inferSchema=False,\n",
    "        encoding=\"ISO-8859-1\",\n",
    "    )\n",
    "\n",
    "    # dropping duplicated columns (we can't do much about these)\n",
    "    df_temp = drop_invalid_census_columns(df_temp, codebook_lookup, dataset_name)\n",
    "\n",
    "    # retrieving the columns:\n",
    "    original_columns = sorted(df_temp.columns)\n",
    "\n",
    "    # normalize column names:\n",
    "    normalized_columns = list(map(clean_census_column_name, original_columns))\n",
    "\n",
    "    # looking up column names:\n",
    "    new_columns = list(\n",
    "        map(lambda col: codebook_lookup[dataset_name][col], normalized_columns)\n",
    "    )\n",
    "\n",
    "    # get columns with duplicates:\n",
    "    cols_map = dict(zip(normalized_columns, new_columns))\n",
    "\n",
    "    # iterating over the columns to replace with the new ones:\n",
    "    for i in range(len(original_columns)):\n",
    "\n",
    "        input_col = original_columns[i]\n",
    "        check_col = clean_census_column_name(input_col)\n",
    "        output_col = new_columns[i]\n",
    "\n",
    "        try:\n",
    "\n",
    "            if check_col not in blacklist:\n",
    "\n",
    "                # renames the column:\n",
    "                df_temp = df_temp.withColumnRenamed(input_col, output_col)\n",
    "\n",
    "                # in this case, convert the data types to float after replacing decimal separators:\n",
    "                df_temp = df_temp.withColumn(\n",
    "                    output_col, replace_decimal_separator_udf(F.col(output_col))\n",
    "                ).withColumn(output_col, F.col(output_col).cast(\"double\"))\n",
    "\n",
    "            else:\n",
    "                df_temp = df_temp.withColumnRenamed(input_col, output_col)\n",
    "\n",
    "        except Exception as e:\n",
    "            print(f\"Dropping column {col} as it could not be processed: {e}\")\n",
    "\n",
    "            df_temp.drop(input_col)\n",
    "\n",
    "    # using the helper function to save the file:\n",
    "    OUTPUT_NAME = f\"tb_{dataset_name}\"\n",
    "\n",
    "    save_to_filesystem(\n",
    "        df_temp, PROCESSED_CENSUS_DATA_DIR, OUTPUT_NAME, OUTPUT_NAME + \".parquet\"\n",
    "    )"
   ]
  },
  {
   "cell_type": "markdown",
   "metadata": {},
   "source": [
    "# 3. Summarizing the Polygon Data\n",
    "In order to simplify the operations with Polygon data at the lowest level (sector), we will add a helper column as an approximation of the geospatial reference of the sector by calculating its centroid. This will allow simpler joins later on at a reasonable level of approximation due to the comparatively small area of the census sectors.\n",
    "\n",
    "We will also use these to generate the features themselves at different levels. "
   ]
  },
  {
   "cell_type": "code",
   "execution_count": 50,
   "metadata": {},
   "outputs": [],
   "source": [
    "# registering dataframes as temporary table views -- will allow us to access them in SQL Context:\n",
    "df_sector.createOrReplaceTempView(\"tb_census_sector\")"
   ]
  },
  {
   "cell_type": "code",
   "execution_count": 51,
   "metadata": {},
   "outputs": [],
   "source": [
    "# adding the centroid and area of the polygons:\n",
    "Q_ADD_GEOM = \"\"\"\n",
    "SELECT \n",
    "    A.*,\n",
    "    ST_Centroid(A.geometry) as sector_centroid,\n",
    "    ST_X(ST_Centroid(A.geometry)) as centroid_longitude,\n",
    "    ST_Y(ST_Centroid(A.geometry)) as centroid_latitude,\n",
    "    ST_Area(A.geometry) as sector_area\n",
    "FROM tb_census_sector as A\n",
    "\"\"\"\n",
    "\n",
    "# adding the geometry:\n",
    "df_sector = spark.sql(Q_ADD_GEOM)"
   ]
  },
  {
   "cell_type": "code",
   "execution_count": 52,
   "metadata": {},
   "outputs": [
    {
     "name": "stdout",
     "output_type": "stream",
     "text": [
      "root\n",
      " |-- id: string (nullable = true)\n",
      " |-- geometry: geometry (nullable = true)\n",
      " |-- sector_code: string (nullable = true)\n",
      " |-- city_code: string (nullable = true)\n",
      " |-- neighborhood_code: string (nullable = true)\n",
      " |-- city: string (nullable = true)\n",
      " |-- neighborhood: string (nullable = true)\n",
      " |-- sector_type: string (nullable = true)\n",
      " |-- sector_centroid: geometry (nullable = false)\n",
      " |-- centroid_longitude: double (nullable = true)\n",
      " |-- centroid_latitude: double (nullable = true)\n",
      " |-- sector_area: double (nullable = false)\n",
      "\n"
     ]
    }
   ],
   "source": [
    "# verifying the resulting schema:\n",
    "df_sector.printSchema()  # looks good to go"
   ]
  },
  {
   "cell_type": "markdown",
   "metadata": {},
   "source": [
    "# 4. Selecting the target features\n",
    "\n",
    "In the codebook file provided, I had already selected several features of interest as a basis for this project. As it is originally intended for use in the Real State industry, the selection reflect that. Anyone interested in other kinds of features is free to create a selection of his or her own and use the following code as reference. The original files that hold the variables of interest are the following:\n",
    "\n",
    "1. `Basico`\n",
    "2. `Domicilio01`\n",
    "3. `Domicilio02`\n",
    "4. `Pessoa11`\n",
    "5. `Pessoa12`\n",
    "6. `Pessoa13`\n",
    "7. `Responsavel02`"
   ]
  },
  {
   "cell_type": "code",
   "execution_count": 53,
   "metadata": {},
   "outputs": [],
   "source": [
    "# specifying a directory for the census data:\n",
    "CENSUS_DATA_DIR = \"../data/processed/sp_census/raw_datasets/\"\n",
    "\n",
    "# basico - basic entity:\n",
    "tb_basico = spark.read.parquet(CENSUS_DATA_DIR + \"tb_basico.parquet\")\n",
    "\n",
    "# domicilio - housing entities:\n",
    "tb_domicilio01 = spark.read.parquet(CENSUS_DATA_DIR + \"tb_domicilio01.parquet\")\n",
    "tb_domicilio02 = spark.read.parquet(CENSUS_DATA_DIR + \"tb_domicilio02.parquet\")\n",
    "\n",
    "# pessoa - person entities:\n",
    "tb_pessoa11 = spark.read.parquet(CENSUS_DATA_DIR + \"tb_pessoa11.parquet\")\n",
    "tb_pessoa12 = spark.read.parquet(CENSUS_DATA_DIR + \"tb_pessoa12.parquet\")\n",
    "tb_pessoa13 = spark.read.parquet(CENSUS_DATA_DIR + \"tb_pessoa13.parquet\")\n",
    "\n",
    "# resposavel - household responsible entities:\n",
    "tb_responsible02 = spark.read.parquet(CENSUS_DATA_DIR + \"tb_responsavel02.parquet\")"
   ]
  },
  {
   "cell_type": "code",
   "execution_count": 54,
   "metadata": {},
   "outputs": [
    {
     "data": {
      "text/plain": [
       "18363"
      ]
     },
     "execution_count": 54,
     "metadata": {},
     "output_type": "execute_result"
    }
   ],
   "source": [
    "# listing the number of census sectors:\n",
    "tb_basico.count()  # joins show end up with the same number of rows (distinct sectors)"
   ]
  },
  {
   "cell_type": "code",
   "execution_count": 55,
   "metadata": {},
   "outputs": [],
   "source": [
    "# joining all the datasets before selecting:\n",
    "tb_census = tb_basico.join(\n",
    "    tb_domicilio01, on=[\"sector_code\", \"sector_situation_code\"], how=\"left\"\n",
    ")\n",
    "tb_census = tb_census.join(\n",
    "    tb_domicilio02, on=[\"sector_code\", \"sector_situation_code\"], how=\"left\"\n",
    ")\n",
    "tb_census = tb_census.join(\n",
    "    tb_pessoa11, on=[\"sector_code\", \"sector_situation_code\"], how=\"left\"\n",
    ")\n",
    "tb_census = tb_census.join(\n",
    "    tb_pessoa12, on=[\"sector_code\", \"sector_situation_code\"], how=\"left\"\n",
    ")\n",
    "tb_census = tb_census.join(\n",
    "    tb_responsible02, on=[\"sector_code\", \"sector_situation_code\"], how=\"left\"\n",
    ")"
   ]
  },
  {
   "cell_type": "code",
   "execution_count": 56,
   "metadata": {},
   "outputs": [],
   "source": [
    "# verifying the data integrity:\n",
    "assert (\n",
    "    tb_basico.count() == tb_census.count()\n",
    "), \"There are more rows than expected in the final file\""
   ]
  },
  {
   "cell_type": "code",
   "execution_count": 57,
   "metadata": {},
   "outputs": [],
   "source": [
    "# selecting the columns that are relevant from the codebook:\n",
    "col_selection = df_codebook.filter(F.col(\"is_selected\") == 1)"
   ]
  },
  {
   "cell_type": "code",
   "execution_count": 58,
   "metadata": {},
   "outputs": [],
   "source": [
    "# keeping the columns of interest:\n",
    "cols_to_keep = get_column_values(col_selection, \"normalized_variable\")"
   ]
  },
  {
   "cell_type": "code",
   "execution_count": 59,
   "metadata": {},
   "outputs": [],
   "source": [
    "# dropping the columns that are not part of the selection:\n",
    "tb_census = tb_census.drop(\n",
    "    *[col for col in tb_census.columns if col not in cols_to_keep]\n",
    ")"
   ]
  },
  {
   "cell_type": "markdown",
   "metadata": {},
   "source": [
    "# 5. Preparing features at the units of interest\n",
    "\n",
    "As previously described in the `1.0 Data Understanding - All Datasets.ipynb` notebook, we have several units of interest for the datasets we are working with. These are the following:\n",
    "\n",
    "1. `sector`: the lowest unit of measurement for the Brazilian Census, which is one of most important geospatially referenced datasets we will be working with;\n",
    "2. `zipcode`: zip codes in the city of São Paulo can be roughly approximated to an entire street (also called a logradouro);\n",
    "3. `area_of_ponderation`: areas of ponderation are contiguous groups of census sectors;\n",
    "4. `neighborhoods`: areas that are often (but not directly) related to the neighborhoods of the city;\n",
    "5. `districts`: districts are administrative regions defined by law (and thus, won't change much over time), used to allocate resources by the City Hall;\n",
    "\n",
    "We will aggregate the features at the levels above and maintain them in their raw state. Note: the zip code data will be processed in a different notebook as it requires a different processing approach."
   ]
  },
  {
   "cell_type": "code",
   "execution_count": 60,
   "metadata": {},
   "outputs": [],
   "source": [
    "# adding the geometry dataframes to the SQL Context:\n",
    "df_ap.createOrReplaceTempView(\"tb_ponderation\")\n",
    "df_nb.createOrReplaceTempView(\"tb_neighborhood\")\n",
    "df_district.createOrReplaceTempView(\"tb_district\")"
   ]
  },
  {
   "cell_type": "code",
   "execution_count": 61,
   "metadata": {},
   "outputs": [],
   "source": [
    "# adding the raw features to the geometry:\n",
    "df_sector_features = (\n",
    "    df_sector.join(\n",
    "        tb_census, (df_sector.sector_code == tb_census.sector_code), how=\"left\"\n",
    "    )\n",
    "    .drop(tb_census.neighborhood_code)\n",
    "    .drop(tb_census.sector_code)\n",
    ")"
   ]
  },
  {
   "cell_type": "code",
   "execution_count": 62,
   "metadata": {},
   "outputs": [
    {
     "data": {
      "text/plain": [
       "18953"
      ]
     },
     "execution_count": 62,
     "metadata": {},
     "output_type": "execute_result"
    }
   ],
   "source": [
    "# retrieving the number of rows after the join:\n",
    "df_sector_features.count()"
   ]
  },
  {
   "cell_type": "code",
   "execution_count": 63,
   "metadata": {},
   "outputs": [
    {
     "name": "stdout",
     "output_type": "stream",
     "text": [
      "-RECORD 0----------------------------------------------------------------------------------------------------------------\n",
      " id                                                                                                                | 0   \n",
      " geometry                                                                                                          | 0   \n",
      " sector_code                                                                                                       | 0   \n",
      " city_code                                                                                                         | 0   \n",
      " neighborhood_code                                                                                                 | 0   \n",
      " city                                                                                                              | 0   \n",
      " neighborhood                                                                                                      | 0   \n",
      " sector_type                                                                                                       | 0   \n",
      " sector_centroid                                                                                                   | 0   \n",
      " centroid_longitude                                                                                                | 0   \n",
      " centroid_latitude                                                                                                 | 0   \n",
      " sector_area                                                                                                       | 0   \n",
      " sector_situation_code                                                                                             | 590 \n",
      " code_large_regions_geographical_regions                                                                           | 590 \n",
      " name_large_regions_geographical_regions                                                                           | 590 \n",
      " federation_unit_code                                                                                              | 590 \n",
      " name_federation_unit                                                                                              | 590 \n",
      " mesoregion_code                                                                                                   | 590 \n",
      " name_mesoregion                                                                                                   | 590 \n",
      " microregion_code                                                                                                  | 590 \n",
      " name_microregion                                                                                                  | 590 \n",
      " metropolitan_region_code_or_ride                                                                                  | 590 \n",
      " name_metropolitan_region_or_ride                                                                                  | 590 \n",
      " code_municipality                                                                                                 | 590 \n",
      " name_municipality                                                                                                 | 590 \n",
      " district_code                                                                                                     | 590 \n",
      " district_name                                                                                                     | 590 \n",
      " subdistrict_code                                                                                                  | 590 \n",
      " name_sub_district                                                                                                 | 590 \n",
      " name_neighborhood                                                                                                 | 590 \n",
      " sector_type_code                                                                                                  | 590 \n",
      " permanent_private_households_or_persons_responsible_for_permanent_private_households                              | 620 \n",
      " residents_permanent_private_households_or_population_residing_permanent_private_households                        | 620 \n",
      " average_number_dwellers_permanent_private_households_obtained_by_var2_division_by_var1                            | 620 \n",
      " value_average_monthly_nominal_income_persons_responsible_for_permanent_private_households_with_and_without_income | 620 \n",
      " permanent_private_households_and_disposed                                                                         | 747 \n",
      " permanent_private_households_acquisition                                                                          | 747 \n",
      " permanent_private_households_rented                                                                               | 747 \n",
      " permanent_private_households_with_3_bathrooms_residents                                                           | 747 \n",
      " permanent_private_households_without_exclusive_use_bathroom_residents                                             | 747 \n",
      " permanent_private_households_with_electricity                                                                     | 747 \n",
      " permanent_private_households_with_1_resident                                                                      | 747 \n",
      " permanent_private_households_with_2_residents                                                                     | 747 \n",
      " permanent_private_households_with_3_residents                                                                     | 747 \n",
      " permanent_private_households_with_4_residents                                                                     | 747 \n",
      " permanent_private_households_with_5_residents                                                                     | 747 \n",
      " permanent_private_households_with_6_residents                                                                     | 747 \n",
      " permanent_private_households_with_7_residents                                                                     | 747 \n",
      " permanent_private_households_with_8_residents                                                                     | 747 \n",
      " permanent_private_households_with_9_residents                                                                     | 747 \n",
      " permanent_private_households_with_10_or_more_residents                                                            | 747 \n",
      " permanent_private_home_type_households_and_clear                                                                  | 747 \n",
      " permanent_private_home_type_households_and_acquisition                                                            | 747 \n",
      " permanent_private_household_homes_rented                                                                          | 747 \n",
      " residents_private_households_and_collective_households                                                            | 590 \n",
      " residents_permanent_household_private_households                                                                  | 747 \n",
      " residents_permanent_private_households_apartment_type                                                             | 747 \n",
      " residents_permanent_permanent_households                                                                          | 747 \n",
      " dwellers_permanent_private_households_and_acquisition                                                             | 747 \n",
      " residents_permanent_private_households_rented                                                                     | 747 \n",
      " children_only_from_person_responsible_private_households                                                          | 747 \n",
      " household_employees_private_households_males                                                                      | 747 \n",
      " relatives_household_employees_private_households_male                                                             | 747 \n",
      " household_employees_private_households                                                                            | 747 \n",
      " relatives_domestic_employees_as_private_households_female                                                         | 747 \n",
      " literacy_responsible_persons                                                                                      | 747 \n",
      "\n"
     ]
    }
   ],
   "source": [
    "# listing columns with null values:\n",
    "get_null_columns(df_sector_features)"
   ]
  },
  {
   "cell_type": "code",
   "execution_count": 64,
   "metadata": {},
   "outputs": [],
   "source": [
    "# dropping null rows from the join (represent sectors that are not present in the area of study):\n",
    "df_sector_features = df_sector_features.na.drop(\n",
    "    subset=[\"code_large_regions_geographical_regions\"]\n",
    ")"
   ]
  },
  {
   "cell_type": "code",
   "execution_count": 65,
   "metadata": {},
   "outputs": [
    {
     "data": {
      "text/plain": [
       "18363"
      ]
     },
     "execution_count": 65,
     "metadata": {},
     "output_type": "execute_result"
    }
   ],
   "source": [
    "# removing the missing values gets us back to the correct number (the ones that match the census exactly)\n",
    "df_sector_features.count()"
   ]
  },
  {
   "cell_type": "code",
   "execution_count": 66,
   "metadata": {},
   "outputs": [],
   "source": [
    "# adding the resulting dataframe to the SQL Context:\n",
    "df_sector_features.createOrReplaceTempView(\"tb_sector_features\")"
   ]
  },
  {
   "cell_type": "markdown",
   "metadata": {},
   "source": [
    "## 5.1 Area of Ponderation"
   ]
  },
  {
   "cell_type": "code",
   "execution_count": 176,
   "metadata": {},
   "outputs": [],
   "source": [
    "# adding the centroid and area of the polygons:\n",
    "Q_AP_MATCH = \"\"\"\n",
    "SELECT \n",
    "    A.ponderation_area_code,\n",
    "    B.sector_code\n",
    "FROM tb_ponderation as A, tb_sector_features as B\n",
    "WHERE ST_Contains(A.geometry, B.sector_centroid)\n",
    "\"\"\"\n",
    "\n",
    "# matching the areas of ponderation to their sectors:\n",
    "df_ap_match = spark.sql(Q_AP_MATCH)"
   ]
  },
  {
   "cell_type": "code",
   "execution_count": 177,
   "metadata": {},
   "outputs": [],
   "source": [
    "# adding the resulting dataframe to the SQL Context:\n",
    "df_ap_match.createOrReplaceTempView(\"tb_ap_match\")"
   ]
  },
  {
   "cell_type": "code",
   "execution_count": 178,
   "metadata": {},
   "outputs": [
    {
     "data": {
      "text/html": [
       "<table border='1'>\n",
       "<tr><th>ponderation_area_code</th><th>sector_code</th><th>id</th><th>sector_code</th><th>city_code</th><th>neighborhood_code</th><th>city</th><th>neighborhood</th><th>sector_type</th><th>centroid_longitude</th><th>centroid_latitude</th><th>sector_area</th><th>sector_situation_code</th><th>code_large_regions_geographical_regions</th><th>name_large_regions_geographical_regions</th><th>federation_unit_code</th><th>name_federation_unit</th><th>mesoregion_code</th><th>name_mesoregion</th><th>microregion_code</th><th>name_microregion</th><th>metropolitan_region_code_or_ride</th><th>name_metropolitan_region_or_ride</th><th>code_municipality</th><th>name_municipality</th><th>district_code</th><th>district_name</th><th>subdistrict_code</th><th>name_sub_district</th><th>name_neighborhood</th><th>sector_type_code</th><th>permanent_private_households_or_persons_responsible_for_permanent_private_households</th><th>residents_permanent_private_households_or_population_residing_permanent_private_households</th><th>average_number_dwellers_permanent_private_households_obtained_by_var2_division_by_var1</th><th>value_average_monthly_nominal_income_persons_responsible_for_permanent_private_households_with_and_without_income</th><th>permanent_private_households_and_disposed</th><th>permanent_private_households_acquisition</th><th>permanent_private_households_rented</th><th>permanent_private_households_with_3_bathrooms_residents</th><th>permanent_private_households_without_exclusive_use_bathroom_residents</th><th>permanent_private_households_with_electricity</th><th>permanent_private_households_with_1_resident</th><th>permanent_private_households_with_2_residents</th><th>permanent_private_households_with_3_residents</th><th>permanent_private_households_with_4_residents</th><th>permanent_private_households_with_5_residents</th><th>permanent_private_households_with_6_residents</th><th>permanent_private_households_with_7_residents</th><th>permanent_private_households_with_8_residents</th><th>permanent_private_households_with_9_residents</th><th>permanent_private_households_with_10_or_more_residents</th><th>permanent_private_home_type_households_and_clear</th><th>permanent_private_home_type_households_and_acquisition</th><th>permanent_private_household_homes_rented</th><th>residents_private_households_and_collective_households</th><th>residents_permanent_household_private_households</th><th>residents_permanent_private_households_apartment_type</th><th>residents_permanent_permanent_households</th><th>dwellers_permanent_private_households_and_acquisition</th><th>residents_permanent_private_households_rented</th><th>children_only_from_person_responsible_private_households</th><th>household_employees_private_households_males</th><th>relatives_household_employees_private_households_male</th><th>household_employees_private_households</th><th>relatives_domestic_employees_as_private_households_female</th><th>literacy_responsible_persons</th></tr>\n",
       "<tr><td>3550308005039</td><td>355030801000005</td><td>108943</td><td>355030801000005</td><td>3550308</td><td></td><td>SÃO PAULO</td><td></td><td>URBANO</td><td>-46.57065666912533</td><td>-23.571444624386825</td><td>7.278722154733566E-6</td><td>1</td><td>3</td><td>Região Sudeste</td><td>35</td><td>São Paulo</td><td>3515</td><td>Metropolitana de ...</td><td>35061</td><td>São Paulo</td><td>20</td><td>RM São Paulo</td><td>3550308</td><td>SÃO PAULO</td><td>355030801</td><td>ÁGUA RASA</td><td>35503080100</td><td>ÁGUA RASA</td><td>SÃO PAULO (todos ...</td><td>0</td><td>240.0</td><td>754.0</td><td>3.14</td><td>1416.9</td><td>105.0</td><td>4.0</td><td>112.0</td><td>20.0</td><td>1.0</td><td>240.0</td><td>30.0</td><td>60.0</td><td>65.0</td><td>38.0</td><td>34.0</td><td>10.0</td><td>1.0</td><td>1.0</td><td>0.0</td><td>1.0</td><td>98.0</td><td>4.0</td><td>105.0</td><td>754.0</td><td>716.0</td><td>30.0</td><td>340.0</td><td>15.0</td><td>354.0</td><td>46.0</td><td>0.0</td><td>0.0</td><td>1.0</td><td>0.0</td><td>232.0</td></tr>\n",
       "<tr><td>3550308005106</td><td>355030802000028</td><td>109096</td><td>355030802000028</td><td>3550308</td><td></td><td>SÃO PAULO</td><td></td><td>URBANO</td><td>-46.699390931740915</td><td>-23.54192792142038</td><td>2.741913499999751...</td><td>1</td><td>3</td><td>Região Sudeste</td><td>35</td><td>São Paulo</td><td>3515</td><td>Metropolitana de ...</td><td>35061</td><td>São Paulo</td><td>20</td><td>RM São Paulo</td><td>3550308</td><td>SÃO PAULO</td><td>355030802</td><td>ALTO DE PINHEIROS</td><td>35503080200</td><td>ALTO DE PINHEIROS</td><td>SÃO PAULO (todos ...</td><td>0</td><td>177.0</td><td>394.0</td><td>2.23</td><td>5017.33</td><td>120.0</td><td>10.0</td><td>36.0</td><td>31.0</td><td>0.0</td><td>177.0</td><td>46.0</td><td>69.0</td><td>42.0</td><td>16.0</td><td>4.0</td><td>0.0</td><td>0.0</td><td>0.0</td><td>0.0</td><td>0.0</td><td>37.0</td><td>3.0</td><td>5.0</td><td>394.0</td><td>120.0</td><td>274.0</td><td>276.0</td><td>19.0</td><td>80.0</td><td>12.0</td><td>0.0</td><td>0.0</td><td>4.0</td><td>0.0</td><td>176.0</td></tr>\n",
       "<tr><td>3550308005029</td><td>355030806000016</td><td>109560</td><td>355030806000016</td><td>3550308</td><td></td><td>SÃO PAULO</td><td></td><td>URBANO</td><td>-46.67432775353449</td><td>-23.52900256909393</td><td>5.131327499995703E-6</td><td>1</td><td>3</td><td>Região Sudeste</td><td>35</td><td>São Paulo</td><td>3515</td><td>Metropolitana de ...</td><td>35061</td><td>São Paulo</td><td>20</td><td>RM São Paulo</td><td>3550308</td><td>SÃO PAULO</td><td>355030806</td><td>BARRA FUNDA</td><td>35503080600</td><td>BARRA FUNDA</td><td>SÃO PAULO (todos ...</td><td>0</td><td>135.0</td><td>356.0</td><td>2.64</td><td>3564.83</td><td>80.0</td><td>10.0</td><td>38.0</td><td>22.0</td><td>0.0</td><td>135.0</td><td>27.0</td><td>45.0</td><td>27.0</td><td>25.0</td><td>9.0</td><td>1.0</td><td>1.0</td><td>0.0</td><td>0.0</td><td>0.0</td><td>36.0</td><td>4.0</td><td>6.0</td><td>356.0</td><td>156.0</td><td>200.0</td><td>214.0</td><td>32.0</td><td>88.0</td><td>11.0</td><td>0.0</td><td>0.0</td><td>3.0</td><td>0.0</td><td>135.0</td></tr>\n",
       "<tr><td>3550308005016</td><td>355030808000029</td><td>109753</td><td>355030808000029</td><td>3550308</td><td></td><td>SÃO PAULO</td><td></td><td>URBANO</td><td>-46.60066022961847</td><td>-23.52987229395476</td><td>1.101778800000770...</td><td>1</td><td>3</td><td>Região Sudeste</td><td>35</td><td>São Paulo</td><td>3515</td><td>Metropolitana de ...</td><td>35061</td><td>São Paulo</td><td>20</td><td>RM São Paulo</td><td>3550308</td><td>SÃO PAULO</td><td>355030808</td><td>BELÉM</td><td>35503080800</td><td>BELÉM</td><td>SÃO PAULO (todos ...</td><td>0</td><td>259.0</td><td>739.0</td><td>2.85</td><td>1867.73</td><td>117.0</td><td>2.0</td><td>139.0</td><td>7.0</td><td>0.0</td><td>259.0</td><td>50.0</td><td>66.0</td><td>63.0</td><td>52.0</td><td>20.0</td><td>3.0</td><td>2.0</td><td>1.0</td><td>0.0</td><td>2.0</td><td>33.0</td><td>0.0</td><td>28.0</td><td>739.0</td><td>221.0</td><td>518.0</td><td>316.0</td><td>5.0</td><td>416.0</td><td>30.0</td><td>2.0</td><td>0.0</td><td>1.0</td><td>0.0</td><td>259.0</td></tr>\n",
       "<tr><td>3550308005016</td><td>355030808000045</td><td>109769</td><td>355030808000045</td><td>3550308</td><td></td><td>SÃO PAULO</td><td></td><td>URBANO</td><td>-46.60511826311402</td><td>-23.524366979101895</td><td>1.054084249999352E-5</td><td>1</td><td>3</td><td>Região Sudeste</td><td>35</td><td>São Paulo</td><td>3515</td><td>Metropolitana de ...</td><td>35061</td><td>São Paulo</td><td>20</td><td>RM São Paulo</td><td>3550308</td><td>SÃO PAULO</td><td>355030808</td><td>BELÉM</td><td>35503080800</td><td>BELÉM</td><td>SÃO PAULO (todos ...</td><td>0</td><td>193.0</td><td>577.0</td><td>2.99</td><td>2075.0</td><td>103.0</td><td>14.0</td><td>68.0</td><td>15.0</td><td>0.0</td><td>193.0</td><td>28.0</td><td>54.0</td><td>46.0</td><td>41.0</td><td>13.0</td><td>7.0</td><td>2.0</td><td>0.0</td><td>2.0</td><td>0.0</td><td>101.0</td><td>14.0</td><td>54.0</td><td>577.0</td><td>537.0</td><td>38.0</td><td>303.0</td><td>51.0</td><td>210.0</td><td>21.0</td><td>0.0</td><td>0.0</td><td>1.0</td><td>0.0</td><td>188.0</td></tr>\n",
       "</table>\n",
       "only showing top 5 rows\n"
      ],
      "text/plain": [
       "+---------------------+---------------+------+---------------+---------+-----------------+---------+------------+-----------+-------------------+-------------------+--------------------+---------------------+---------------------------------------+---------------------------------------+--------------------+--------------------+---------------+--------------------+----------------+----------------+--------------------------------+--------------------------------+-----------------+-----------------+-------------+-----------------+----------------+-----------------+--------------------+----------------+------------------------------------------------------------------------------------+------------------------------------------------------------------------------------------+--------------------------------------------------------------------------------------+-----------------------------------------------------------------------------------------------------------------+-----------------------------------------+----------------------------------------+-----------------------------------+-------------------------------------------------------+---------------------------------------------------------------------+---------------------------------------------+--------------------------------------------+---------------------------------------------+---------------------------------------------+---------------------------------------------+---------------------------------------------+---------------------------------------------+---------------------------------------------+---------------------------------------------+---------------------------------------------+------------------------------------------------------+------------------------------------------------+------------------------------------------------------+----------------------------------------+------------------------------------------------------+------------------------------------------------+-----------------------------------------------------+----------------------------------------+-----------------------------------------------------+---------------------------------------------+--------------------------------------------------------+--------------------------------------------+-----------------------------------------------------+--------------------------------------+---------------------------------------------------------+----------------------------+\n",
       "|ponderation_area_code|    sector_code|    id|    sector_code|city_code|neighborhood_code|     city|neighborhood|sector_type| centroid_longitude|  centroid_latitude|         sector_area|sector_situation_code|code_large_regions_geographical_regions|name_large_regions_geographical_regions|federation_unit_code|name_federation_unit|mesoregion_code|     name_mesoregion|microregion_code|name_microregion|metropolitan_region_code_or_ride|name_metropolitan_region_or_ride|code_municipality|name_municipality|district_code|    district_name|subdistrict_code|name_sub_district|   name_neighborhood|sector_type_code|permanent_private_households_or_persons_responsible_for_permanent_private_households|residents_permanent_private_households_or_population_residing_permanent_private_households|average_number_dwellers_permanent_private_households_obtained_by_var2_division_by_var1|value_average_monthly_nominal_income_persons_responsible_for_permanent_private_households_with_and_without_income|permanent_private_households_and_disposed|permanent_private_households_acquisition|permanent_private_households_rented|permanent_private_households_with_3_bathrooms_residents|permanent_private_households_without_exclusive_use_bathroom_residents|permanent_private_households_with_electricity|permanent_private_households_with_1_resident|permanent_private_households_with_2_residents|permanent_private_households_with_3_residents|permanent_private_households_with_4_residents|permanent_private_households_with_5_residents|permanent_private_households_with_6_residents|permanent_private_households_with_7_residents|permanent_private_households_with_8_residents|permanent_private_households_with_9_residents|permanent_private_households_with_10_or_more_residents|permanent_private_home_type_households_and_clear|permanent_private_home_type_households_and_acquisition|permanent_private_household_homes_rented|residents_private_households_and_collective_households|residents_permanent_household_private_households|residents_permanent_private_households_apartment_type|residents_permanent_permanent_households|dwellers_permanent_private_households_and_acquisition|residents_permanent_private_households_rented|children_only_from_person_responsible_private_households|household_employees_private_households_males|relatives_household_employees_private_households_male|household_employees_private_households|relatives_domestic_employees_as_private_households_female|literacy_responsible_persons|\n",
       "+---------------------+---------------+------+---------------+---------+-----------------+---------+------------+-----------+-------------------+-------------------+--------------------+---------------------+---------------------------------------+---------------------------------------+--------------------+--------------------+---------------+--------------------+----------------+----------------+--------------------------------+--------------------------------+-----------------+-----------------+-------------+-----------------+----------------+-----------------+--------------------+----------------+------------------------------------------------------------------------------------+------------------------------------------------------------------------------------------+--------------------------------------------------------------------------------------+-----------------------------------------------------------------------------------------------------------------+-----------------------------------------+----------------------------------------+-----------------------------------+-------------------------------------------------------+---------------------------------------------------------------------+---------------------------------------------+--------------------------------------------+---------------------------------------------+---------------------------------------------+---------------------------------------------+---------------------------------------------+---------------------------------------------+---------------------------------------------+---------------------------------------------+---------------------------------------------+------------------------------------------------------+------------------------------------------------+------------------------------------------------------+----------------------------------------+------------------------------------------------------+------------------------------------------------+-----------------------------------------------------+----------------------------------------+-----------------------------------------------------+---------------------------------------------+--------------------------------------------------------+--------------------------------------------+-----------------------------------------------------+--------------------------------------+---------------------------------------------------------+----------------------------+\n",
       "|        3550308005039|355030801000005|108943|355030801000005|  3550308|                 |SÃO PAULO|            |     URBANO| -46.57065666912533|-23.571444624386825|7.278722154733566E-6|                    1|                                      3|                         Região Sudeste|                  35|           São Paulo|           3515|Metropolitana de ...|           35061|       São Paulo|                              20|                    RM São Paulo|          3550308|        SÃO PAULO|    355030801|        ÁGUA RASA|     35503080100|        ÁGUA RASA|SÃO PAULO (todos ...|               0|                                                                               240.0|                                                                                     754.0|                                                                                  3.14|                                                                                                           1416.9|                                    105.0|                                     4.0|                              112.0|                                                   20.0|                                                                  1.0|                                        240.0|                                        30.0|                                         60.0|                                         65.0|                                         38.0|                                         34.0|                                         10.0|                                          1.0|                                          1.0|                                          0.0|                                                   1.0|                                            98.0|                                                   4.0|                                   105.0|                                                 754.0|                                           716.0|                                                 30.0|                                   340.0|                                                 15.0|                                        354.0|                                                    46.0|                                         0.0|                                                  0.0|                                   1.0|                                                      0.0|                       232.0|\n",
       "|        3550308005106|355030802000028|109096|355030802000028|  3550308|                 |SÃO PAULO|            |     URBANO|-46.699390931740915| -23.54192792142038|2.741913499999751...|                    1|                                      3|                         Região Sudeste|                  35|           São Paulo|           3515|Metropolitana de ...|           35061|       São Paulo|                              20|                    RM São Paulo|          3550308|        SÃO PAULO|    355030802|ALTO DE PINHEIROS|     35503080200|ALTO DE PINHEIROS|SÃO PAULO (todos ...|               0|                                                                               177.0|                                                                                     394.0|                                                                                  2.23|                                                                                                          5017.33|                                    120.0|                                    10.0|                               36.0|                                                   31.0|                                                                  0.0|                                        177.0|                                        46.0|                                         69.0|                                         42.0|                                         16.0|                                          4.0|                                          0.0|                                          0.0|                                          0.0|                                          0.0|                                                   0.0|                                            37.0|                                                   3.0|                                     5.0|                                                 394.0|                                           120.0|                                                274.0|                                   276.0|                                                 19.0|                                         80.0|                                                    12.0|                                         0.0|                                                  0.0|                                   4.0|                                                      0.0|                       176.0|\n",
       "|        3550308005029|355030806000016|109560|355030806000016|  3550308|                 |SÃO PAULO|            |     URBANO| -46.67432775353449| -23.52900256909393|5.131327499995703E-6|                    1|                                      3|                         Região Sudeste|                  35|           São Paulo|           3515|Metropolitana de ...|           35061|       São Paulo|                              20|                    RM São Paulo|          3550308|        SÃO PAULO|    355030806|      BARRA FUNDA|     35503080600|      BARRA FUNDA|SÃO PAULO (todos ...|               0|                                                                               135.0|                                                                                     356.0|                                                                                  2.64|                                                                                                          3564.83|                                     80.0|                                    10.0|                               38.0|                                                   22.0|                                                                  0.0|                                        135.0|                                        27.0|                                         45.0|                                         27.0|                                         25.0|                                          9.0|                                          1.0|                                          1.0|                                          0.0|                                          0.0|                                                   0.0|                                            36.0|                                                   4.0|                                     6.0|                                                 356.0|                                           156.0|                                                200.0|                                   214.0|                                                 32.0|                                         88.0|                                                    11.0|                                         0.0|                                                  0.0|                                   3.0|                                                      0.0|                       135.0|\n",
       "|        3550308005016|355030808000029|109753|355030808000029|  3550308|                 |SÃO PAULO|            |     URBANO| -46.60066022961847| -23.52987229395476|1.101778800000770...|                    1|                                      3|                         Região Sudeste|                  35|           São Paulo|           3515|Metropolitana de ...|           35061|       São Paulo|                              20|                    RM São Paulo|          3550308|        SÃO PAULO|    355030808|            BELÉM|     35503080800|            BELÉM|SÃO PAULO (todos ...|               0|                                                                               259.0|                                                                                     739.0|                                                                                  2.85|                                                                                                          1867.73|                                    117.0|                                     2.0|                              139.0|                                                    7.0|                                                                  0.0|                                        259.0|                                        50.0|                                         66.0|                                         63.0|                                         52.0|                                         20.0|                                          3.0|                                          2.0|                                          1.0|                                          0.0|                                                   2.0|                                            33.0|                                                   0.0|                                    28.0|                                                 739.0|                                           221.0|                                                518.0|                                   316.0|                                                  5.0|                                        416.0|                                                    30.0|                                         2.0|                                                  0.0|                                   1.0|                                                      0.0|                       259.0|\n",
       "|        3550308005016|355030808000045|109769|355030808000045|  3550308|                 |SÃO PAULO|            |     URBANO| -46.60511826311402|-23.524366979101895|1.054084249999352E-5|                    1|                                      3|                         Região Sudeste|                  35|           São Paulo|           3515|Metropolitana de ...|           35061|       São Paulo|                              20|                    RM São Paulo|          3550308|        SÃO PAULO|    355030808|            BELÉM|     35503080800|            BELÉM|SÃO PAULO (todos ...|               0|                                                                               193.0|                                                                                     577.0|                                                                                  2.99|                                                                                                           2075.0|                                    103.0|                                    14.0|                               68.0|                                                   15.0|                                                                  0.0|                                        193.0|                                        28.0|                                         54.0|                                         46.0|                                         41.0|                                         13.0|                                          7.0|                                          2.0|                                          0.0|                                          2.0|                                                   0.0|                                           101.0|                                                  14.0|                                    54.0|                                                 577.0|                                           537.0|                                                 38.0|                                   303.0|                                                 51.0|                                        210.0|                                                    21.0|                                         0.0|                                                  0.0|                                   1.0|                                                      0.0|                       188.0|\n",
       "+---------------------+---------------+------+---------------+---------+-----------------+---------+------------+-----------+-------------------+-------------------+--------------------+---------------------+---------------------------------------+---------------------------------------+--------------------+--------------------+---------------+--------------------+----------------+----------------+--------------------------------+--------------------------------+-----------------+-----------------+-------------+-----------------+----------------+-----------------+--------------------+----------------+------------------------------------------------------------------------------------+------------------------------------------------------------------------------------------+--------------------------------------------------------------------------------------+-----------------------------------------------------------------------------------------------------------------+-----------------------------------------+----------------------------------------+-----------------------------------+-------------------------------------------------------+---------------------------------------------------------------------+---------------------------------------------+--------------------------------------------+---------------------------------------------+---------------------------------------------+---------------------------------------------+---------------------------------------------+---------------------------------------------+---------------------------------------------+---------------------------------------------+---------------------------------------------+------------------------------------------------------+------------------------------------------------+------------------------------------------------------+----------------------------------------+------------------------------------------------------+------------------------------------------------+-----------------------------------------------------+----------------------------------------+-----------------------------------------------------+---------------------------------------------+--------------------------------------------------------+--------------------------------------------+-----------------------------------------------------+--------------------------------------+---------------------------------------------------------+----------------------------+\n",
       "only showing top 5 rows"
      ]
     },
     "execution_count": 178,
     "metadata": {},
     "output_type": "execute_result"
    }
   ],
   "source": [
    "# adding the features to the ponderation area back:\n",
    "Q_AP_RAW_FEATURES = \"\"\"\n",
    "SELECT\n",
    "    A.ponderation_area_code,\n",
    "    A.sector_code,\n",
    "    B.*\n",
    "FROM tb_ap_match as A\n",
    "LEFT JOIN tb_sector_features as B\n",
    "ON A.sector_code = B.sector_code\n",
    "\"\"\"\n",
    "\n",
    "# reading back the dataset:\n",
    "df_ap_raw_features = spark.sql(Q_AP_RAW_FEATURES)\n",
    "\n",
    "# dropping the geometry columns and looking at the results:\n",
    "df_ap_raw_features = df_ap_raw_features.drop(\"geometry\", \"sector_centroid\")\n",
    "\n",
    "df_ap_raw_features"
   ]
  },
  {
   "cell_type": "code",
   "execution_count": 179,
   "metadata": {},
   "outputs": [],
   "source": [
    "# verifying the data integrity:\n",
    "assert (\n",
    "    df_ap_raw_features.count() == df_ap_match.count()\n",
    "), \"There are more rows than expected in the final file\""
   ]
  },
  {
   "cell_type": "markdown",
   "metadata": {},
   "source": [
    "### 5.1.1 Aggregating Raw Area of Ponderation Features"
   ]
  },
  {
   "cell_type": "code",
   "execution_count": 184,
   "metadata": {},
   "outputs": [],
   "source": [
    "# let's aggregate the data from the census sectors onto the area of ponderation level\n",
    "df_ap_agg = df_ap_raw_features.groupby(\"ponderation_area_code\").agg(\n",
    "    F.sum(\n",
    "        F.col(\n",
    "            \"permanent_private_households_or_persons_responsible_for_permanent_private_households\"\n",
    "        )\n",
    "    ).alias(\"total_private_households\"),\n",
    "    F.sum(\n",
    "        F.col(\n",
    "            \"residents_permanent_private_households_or_population_residing_permanent_private_households\"\n",
    "        )\n",
    "    ).alias(\"total_population_private_households\"),\n",
    "    F.avg(\n",
    "        F.col(\n",
    "            \"average_number_dwellers_permanent_private_households_obtained_by_var2_division_by_var1\"\n",
    "        )\n",
    "    ).alias(\"average_number_residents_per_household\"),\n",
    "    F.avg(\n",
    "        F.col(\n",
    "            \"value_average_monthly_nominal_income_persons_responsible_for_permanent_private_households_with_and_without_income\"\n",
    "        )\n",
    "    ).alias(\"average_monthly_income\"),\n",
    "    F.sum(F.col(\"permanent_private_households_and_disposed\")).alias(\n",
    "        \"total_fully_owned_properties\"\n",
    "    ),\n",
    "    F.sum(F.col(\"permanent_private_households_acquisition\")).alias(\n",
    "        \"total_properties_in_acquisition\"\n",
    "    ),\n",
    "    F.sum(F.col(\"permanent_private_households_rented\")).alias(\n",
    "        \"total_rented_properties\"\n",
    "    ),\n",
    "    F.sum(F.col(\"permanent_private_households_with_3_bathrooms_residents\")).alias(\n",
    "        \"total_properties_with_3_bathrooms\"\n",
    "    ),\n",
    "    F.sum(\n",
    "        F.col(\"permanent_private_households_without_exclusive_use_bathroom_residents\")\n",
    "    ).alias(\"total_properties_without_private_bathrooms\"),\n",
    "    F.sum(F.col(\"permanent_private_households_with_electricity\")).alias(\n",
    "        \"total_households_with_electricity\"\n",
    "    ),\n",
    "    F.sum(F.col(\"permanent_private_households_with_1_resident\")).alias(\n",
    "        \"total_households_with_1_resident\"\n",
    "    ),\n",
    "    F.sum(F.col(\"permanent_private_households_with_2_residents\")).alias(\n",
    "        \"total_households_with_2_residents\"\n",
    "    ),\n",
    "    F.sum(F.col(\"permanent_private_households_with_3_residents\")).alias(\n",
    "        \"total_households_with_3_residents\"\n",
    "    ),\n",
    "    F.sum(F.col(\"permanent_private_households_with_4_residents\")).alias(\n",
    "        \"total_households_with_4_residents\"\n",
    "    ),\n",
    "    F.sum(F.col(\"permanent_private_households_with_5_residents\")).alias(\n",
    "        \"total_households_with_5_residents\"\n",
    "    ),\n",
    "    F.sum(F.col(\"permanent_private_households_with_6_residents\")).alias(\n",
    "        \"total_households_with_6_residents\"\n",
    "    ),\n",
    "    F.sum(F.col(\"permanent_private_households_with_7_residents\")).alias(\n",
    "        \"total_households_with_7_residents\"\n",
    "    ),\n",
    "    F.sum(F.col(\"permanent_private_households_with_8_residents\")).alias(\n",
    "        \"total_households_with_8_residents\"\n",
    "    ),\n",
    "    F.sum(F.col(\"permanent_private_households_with_9_residents\")).alias(\n",
    "        \"total_households_with_9_residents\"\n",
    "    ),\n",
    "    F.sum(F.col(\"permanent_private_households_with_10_or_more_residents\")).alias(\n",
    "        \"total_households_with_10_residents_or_more\"\n",
    "    ),\n",
    "    F.sum(F.col(\"permanent_private_home_type_households_and_clear\")).alias(\n",
    "        \"total_fully_owned_houses\"\n",
    "    ),\n",
    "    F.sum(F.col(\"permanent_private_home_type_households_and_acquisition\")).alias(\n",
    "        \"total_houses_in_acquisition\"\n",
    "    ),\n",
    "    F.sum(F.col(\"permanent_private_household_homes_rented\")).alias(\n",
    "        \"total_rented_houses\"\n",
    "    ),\n",
    "    F.sum(F.col(\"residents_private_households_and_collective_households\")).alias(\n",
    "        \"total_residents_in_area\"\n",
    "    ),\n",
    "    F.sum(F.col(\"residents_permanent_household_private_households\")).alias(\n",
    "        \"total_residents_in_permanent_households\"\n",
    "    ),\n",
    "    F.sum(F.col(\"residents_permanent_private_households_apartment_type\")).alias(\n",
    "        \"total_residents_in_private_apartments\"\n",
    "    ),\n",
    "    F.sum(F.col(\"dwellers_permanent_private_households_and_acquisition\")).alias(\n",
    "        \"total_residents_properties_in_acquisition\"\n",
    "    ),\n",
    "    F.sum(F.col(\"residents_permanent_private_households_rented\")).alias(\n",
    "        \"total_residents_rented_properties\"\n",
    "    ),\n",
    "    F.sum(F.col(\"children_only_from_person_responsible_private_households\")).alias(\n",
    "        \"total_number_children\"\n",
    "    ),\n",
    "    F.sum(\n",
    "        F.col(\"household_employees_private_households_males\")\n",
    "        + F.col(\"household_employees_private_households\")\n",
    "    ).alias(\"total_number_house_workers\"),\n",
    "    F.sum(\n",
    "        F.col(\"relatives_domestic_employees_as_private_households_female\")\n",
    "        + F.col(\"relatives_household_employees_private_households_male\")\n",
    "    ).alias(\"total_number_house_workers_parents\"),\n",
    "    F.sum(F.col(\"literacy_responsible_persons\")).alias(\n",
    "        \"total_literate_household_leaders\"\n",
    "    ),\n",
    ")\n",
    "\n",
    "# fixing the column names:\n",
    "new_columns = list(map(lambda col: f\"ponderation_area_{col}\", df_ap_agg.columns))\n",
    "\n",
    "for i in range(len(df_ap_agg.columns)):\n",
    "    df_ap_agg = df_ap_agg.withColumnRenamed(df_ap_agg.columns[i], new_columns[i])"
   ]
  },
  {
   "cell_type": "code",
   "execution_count": 185,
   "metadata": {},
   "outputs": [
    {
     "name": "stdout",
     "output_type": "stream",
     "text": [
      "ponderation_area_average_monthly_income\n",
      "ponderation_area_average_number_residents_per_household\n",
      "ponderation_area_ponderation_area_code\n",
      "ponderation_area_total_fully_owned_houses\n",
      "ponderation_area_total_fully_owned_properties\n",
      "ponderation_area_total_households_with_10_residents_or_more\n",
      "ponderation_area_total_households_with_1_resident\n",
      "ponderation_area_total_households_with_2_residents\n",
      "ponderation_area_total_households_with_3_residents\n",
      "ponderation_area_total_households_with_4_residents\n",
      "ponderation_area_total_households_with_5_residents\n",
      "ponderation_area_total_households_with_6_residents\n",
      "ponderation_area_total_households_with_7_residents\n",
      "ponderation_area_total_households_with_8_residents\n",
      "ponderation_area_total_households_with_9_residents\n",
      "ponderation_area_total_households_with_electricity\n",
      "ponderation_area_total_houses_in_acquisition\n",
      "ponderation_area_total_literate_household_leaders\n",
      "ponderation_area_total_number_children\n",
      "ponderation_area_total_number_house_workers\n",
      "ponderation_area_total_number_house_workers_parents\n",
      "ponderation_area_total_population_private_households\n",
      "ponderation_area_total_private_households\n",
      "ponderation_area_total_properties_in_acquisition\n",
      "ponderation_area_total_properties_with_3_bathrooms\n",
      "ponderation_area_total_properties_without_private_bathrooms\n",
      "ponderation_area_total_rented_houses\n",
      "ponderation_area_total_rented_properties\n",
      "ponderation_area_total_residents_in_area\n",
      "ponderation_area_total_residents_in_permanent_households\n",
      "ponderation_area_total_residents_in_private_apartments\n",
      "ponderation_area_total_residents_properties_in_acquisition\n",
      "ponderation_area_total_residents_rented_properties\n"
     ]
    }
   ],
   "source": [
    "for col in sorted(df_ap_agg.columns):\n",
    "    print(col)"
   ]
  },
  {
   "cell_type": "code",
   "execution_count": 186,
   "metadata": {},
   "outputs": [
    {
     "data": {
      "text/html": [
       "<table border='1'>\n",
       "<tr><th>ponderation_area_ponderation_area_code</th><th>ponderation_area_total_private_households</th><th>ponderation_area_total_population_private_households</th><th>ponderation_area_average_number_residents_per_household</th><th>ponderation_area_average_monthly_income</th><th>ponderation_area_total_fully_owned_properties</th><th>ponderation_area_total_properties_in_acquisition</th><th>ponderation_area_total_rented_properties</th><th>ponderation_area_total_properties_with_3_bathrooms</th><th>ponderation_area_total_properties_without_private_bathrooms</th><th>ponderation_area_total_households_with_electricity</th><th>ponderation_area_total_households_with_1_resident</th><th>ponderation_area_total_households_with_2_residents</th><th>ponderation_area_total_households_with_3_residents</th><th>ponderation_area_total_households_with_4_residents</th><th>ponderation_area_total_households_with_5_residents</th><th>ponderation_area_total_households_with_6_residents</th><th>ponderation_area_total_households_with_7_residents</th><th>ponderation_area_total_households_with_8_residents</th><th>ponderation_area_total_households_with_9_residents</th><th>ponderation_area_total_households_with_10_residents_or_more</th><th>ponderation_area_total_fully_owned_houses</th><th>ponderation_area_total_houses_in_acquisition</th><th>ponderation_area_total_rented_houses</th><th>ponderation_area_total_residents_in_area</th><th>ponderation_area_total_residents_in_permanent_households</th><th>ponderation_area_total_residents_in_private_apartments</th><th>ponderation_area_total_residents_properties_in_acquisition</th><th>ponderation_area_total_residents_rented_properties</th><th>ponderation_area_total_number_children</th><th>ponderation_area_total_number_house_workers</th><th>ponderation_area_total_number_house_workers_parents</th><th>ponderation_area_total_literate_household_leaders</th></tr>\n",
       "<tr><td>3550308005048</td><td>15002.0</td><td>38235.0</td><td>2.5446874999999993</td><td>3969.7853124999997</td><td>9386.0</td><td>952.0</td><td>3988.0</td><td>2225.0</td><td>40.0</td><td>15000.0</td><td>3365.0</td><td>4888.0</td><td>3414.0</td><td>2319.0</td><td>705.0</td><td>202.0</td><td>63.0</td><td>27.0</td><td>11.0</td><td>8.0</td><td>3544.0</td><td>125.0</td><td>1323.0</td><td>38331.0</td><td>15543.0</td><td>21665.0</td><td>2400.0</td><td>9727.0</td><td>1490.0</td><td>143.0</td><td>6.0</td><td>14880.0</td></tr>\n",
       "<tr><td>3550308005045</td><td>8400.0</td><td>23519.0</td><td>2.801219512195122</td><td>3996.8287804878046</td><td>5266.0</td><td>938.0</td><td>1936.0</td><td>1359.0</td><td>104.0</td><td>8400.0</td><td>1303.0</td><td>2554.0</td><td>2197.0</td><td>1637.0</td><td>464.0</td><td>148.0</td><td>56.0</td><td>22.0</td><td>10.0</td><td>9.0</td><td>1982.0</td><td>97.0</td><td>1071.0</td><td>23546.0</td><td>10093.0</td><td>12905.0</td><td>2631.0</td><td>5466.0</td><td>1000.0</td><td>50.0</td><td>9.0</td><td>8346.0</td></tr>\n",
       "<tr><td>3550308005031</td><td>8835.0</td><td>26619.0</td><td>3.0826829268292677</td><td>2033.2802439024392</td><td>5135.0</td><td>622.0</td><td>2649.0</td><td>838.0</td><td>115.0</td><td>8830.0</td><td>1311.0</td><td>2339.0</td><td>2239.0</td><td>1743.0</td><td>739.0</td><td>253.0</td><td>100.0</td><td>54.0</td><td>23.0</td><td>34.0</td><td>3262.0</td><td>90.0</td><td>1929.0</td><td>26730.0</td><td>17762.0</td><td>7808.0</td><td>1814.0</td><td>8588.0</td><td>1327.0</td><td>30.0</td><td>1.0</td><td>8685.0</td></tr>\n",
       "<tr><td>3550308005158</td><td>8666.0</td><td>26741.0</td><td>3.0878787878787883</td><td>1294.025151515151</td><td>5434.0</td><td>410.0</td><td>2413.0</td><td>538.0</td><td>41.0</td><td>8664.0</td><td>1138.0</td><td>2198.0</td><td>2254.0</td><td>1800.0</td><td>787.0</td><td>294.0</td><td>109.0</td><td>40.0</td><td>24.0</td><td>22.0</td><td>5171.0</td><td>150.0</td><td>2298.0</td><td>26774.0</td><td>24925.0</td><td>1734.0</td><td>1277.0</td><td>7321.0</td><td>1324.0</td><td>17.0</td><td>0.0</td><td>8436.0</td></tr>\n",
       "<tr><td>3550308005102</td><td>9382.0</td><td>20499.0</td><td>2.219795918367347</td><td>5673.932040816328</td><td>5634.0</td><td>576.0</td><td>2625.0</td><td>2097.0</td><td>20.0</td><td>9382.0</td><td>3161.0</td><td>3151.0</td><td>1726.0</td><td>992.0</td><td>267.0</td><td>57.0</td><td>18.0</td><td>7.0</td><td>1.0</td><td>2.0</td><td>1020.0</td><td>16.0</td><td>276.0</td><td>20548.0</td><td>3842.0</td><td>16260.0</td><td>1211.0</td><td>5496.0</td><td>793.0</td><td>206.0</td><td>13.0</td><td>9365.0</td></tr>\n",
       "</table>\n",
       "only showing top 5 rows\n"
      ],
      "text/plain": [
       "+--------------------------------------+-----------------------------------------+----------------------------------------------------+-------------------------------------------------------+---------------------------------------+---------------------------------------------+------------------------------------------------+----------------------------------------+--------------------------------------------------+-----------------------------------------------------------+--------------------------------------------------+-------------------------------------------------+--------------------------------------------------+--------------------------------------------------+--------------------------------------------------+--------------------------------------------------+--------------------------------------------------+--------------------------------------------------+--------------------------------------------------+--------------------------------------------------+-----------------------------------------------------------+-----------------------------------------+--------------------------------------------+------------------------------------+----------------------------------------+--------------------------------------------------------+------------------------------------------------------+----------------------------------------------------------+--------------------------------------------------+--------------------------------------+-------------------------------------------+---------------------------------------------------+-------------------------------------------------+\n",
       "|ponderation_area_ponderation_area_code|ponderation_area_total_private_households|ponderation_area_total_population_private_households|ponderation_area_average_number_residents_per_household|ponderation_area_average_monthly_income|ponderation_area_total_fully_owned_properties|ponderation_area_total_properties_in_acquisition|ponderation_area_total_rented_properties|ponderation_area_total_properties_with_3_bathrooms|ponderation_area_total_properties_without_private_bathrooms|ponderation_area_total_households_with_electricity|ponderation_area_total_households_with_1_resident|ponderation_area_total_households_with_2_residents|ponderation_area_total_households_with_3_residents|ponderation_area_total_households_with_4_residents|ponderation_area_total_households_with_5_residents|ponderation_area_total_households_with_6_residents|ponderation_area_total_households_with_7_residents|ponderation_area_total_households_with_8_residents|ponderation_area_total_households_with_9_residents|ponderation_area_total_households_with_10_residents_or_more|ponderation_area_total_fully_owned_houses|ponderation_area_total_houses_in_acquisition|ponderation_area_total_rented_houses|ponderation_area_total_residents_in_area|ponderation_area_total_residents_in_permanent_households|ponderation_area_total_residents_in_private_apartments|ponderation_area_total_residents_properties_in_acquisition|ponderation_area_total_residents_rented_properties|ponderation_area_total_number_children|ponderation_area_total_number_house_workers|ponderation_area_total_number_house_workers_parents|ponderation_area_total_literate_household_leaders|\n",
       "+--------------------------------------+-----------------------------------------+----------------------------------------------------+-------------------------------------------------------+---------------------------------------+---------------------------------------------+------------------------------------------------+----------------------------------------+--------------------------------------------------+-----------------------------------------------------------+--------------------------------------------------+-------------------------------------------------+--------------------------------------------------+--------------------------------------------------+--------------------------------------------------+--------------------------------------------------+--------------------------------------------------+--------------------------------------------------+--------------------------------------------------+--------------------------------------------------+-----------------------------------------------------------+-----------------------------------------+--------------------------------------------+------------------------------------+----------------------------------------+--------------------------------------------------------+------------------------------------------------------+----------------------------------------------------------+--------------------------------------------------+--------------------------------------+-------------------------------------------+---------------------------------------------------+-------------------------------------------------+\n",
       "|                         3550308005048|                                  15002.0|                                             38235.0|                                     2.5446874999999993|                     3969.7853124999997|                                       9386.0|                                           952.0|                                  3988.0|                                            2225.0|                                                       40.0|                                           15000.0|                                           3365.0|                                            4888.0|                                            3414.0|                                            2319.0|                                             705.0|                                             202.0|                                              63.0|                                              27.0|                                              11.0|                                                        8.0|                                   3544.0|                                       125.0|                              1323.0|                                 38331.0|                                                 15543.0|                                               21665.0|                                                    2400.0|                                            9727.0|                                1490.0|                                      143.0|                                                6.0|                                          14880.0|\n",
       "|                         3550308005045|                                   8400.0|                                             23519.0|                                      2.801219512195122|                     3996.8287804878046|                                       5266.0|                                           938.0|                                  1936.0|                                            1359.0|                                                      104.0|                                            8400.0|                                           1303.0|                                            2554.0|                                            2197.0|                                            1637.0|                                             464.0|                                             148.0|                                              56.0|                                              22.0|                                              10.0|                                                        9.0|                                   1982.0|                                        97.0|                              1071.0|                                 23546.0|                                                 10093.0|                                               12905.0|                                                    2631.0|                                            5466.0|                                1000.0|                                       50.0|                                                9.0|                                           8346.0|\n",
       "|                         3550308005031|                                   8835.0|                                             26619.0|                                     3.0826829268292677|                     2033.2802439024392|                                       5135.0|                                           622.0|                                  2649.0|                                             838.0|                                                      115.0|                                            8830.0|                                           1311.0|                                            2339.0|                                            2239.0|                                            1743.0|                                             739.0|                                             253.0|                                             100.0|                                              54.0|                                              23.0|                                                       34.0|                                   3262.0|                                        90.0|                              1929.0|                                 26730.0|                                                 17762.0|                                                7808.0|                                                    1814.0|                                            8588.0|                                1327.0|                                       30.0|                                                1.0|                                           8685.0|\n",
       "|                         3550308005158|                                   8666.0|                                             26741.0|                                     3.0878787878787883|                      1294.025151515151|                                       5434.0|                                           410.0|                                  2413.0|                                             538.0|                                                       41.0|                                            8664.0|                                           1138.0|                                            2198.0|                                            2254.0|                                            1800.0|                                             787.0|                                             294.0|                                             109.0|                                              40.0|                                              24.0|                                                       22.0|                                   5171.0|                                       150.0|                              2298.0|                                 26774.0|                                                 24925.0|                                                1734.0|                                                    1277.0|                                            7321.0|                                1324.0|                                       17.0|                                                0.0|                                           8436.0|\n",
       "|                         3550308005102|                                   9382.0|                                             20499.0|                                      2.219795918367347|                      5673.932040816328|                                       5634.0|                                           576.0|                                  2625.0|                                            2097.0|                                                       20.0|                                            9382.0|                                           3161.0|                                            3151.0|                                            1726.0|                                             992.0|                                             267.0|                                              57.0|                                              18.0|                                               7.0|                                               1.0|                                                        2.0|                                   1020.0|                                        16.0|                               276.0|                                 20548.0|                                                  3842.0|                                               16260.0|                                                    1211.0|                                            5496.0|                                 793.0|                                      206.0|                                               13.0|                                           9365.0|\n",
       "+--------------------------------------+-----------------------------------------+----------------------------------------------------+-------------------------------------------------------+---------------------------------------+---------------------------------------------+------------------------------------------------+----------------------------------------+--------------------------------------------------+-----------------------------------------------------------+--------------------------------------------------+-------------------------------------------------+--------------------------------------------------+--------------------------------------------------+--------------------------------------------------+--------------------------------------------------+--------------------------------------------------+--------------------------------------------------+--------------------------------------------------+--------------------------------------------------+-----------------------------------------------------------+-----------------------------------------+--------------------------------------------+------------------------------------+----------------------------------------+--------------------------------------------------------+------------------------------------------------------+----------------------------------------------------------+--------------------------------------------------+--------------------------------------+-------------------------------------------+---------------------------------------------------+-------------------------------------------------+\n",
       "only showing top 5 rows"
      ]
     },
     "execution_count": 186,
     "metadata": {},
     "output_type": "execute_result"
    }
   ],
   "source": [
    "# verifying the results:\n",
    "df_ap_agg"
   ]
  },
  {
   "cell_type": "code",
   "execution_count": 187,
   "metadata": {},
   "outputs": [],
   "source": [
    "# adding the resulting dataframe to the SQL Context:\n",
    "df_ap_agg.createOrReplaceTempView(\"tb_ponderation_features\")"
   ]
  },
  {
   "cell_type": "code",
   "execution_count": 77,
   "metadata": {},
   "outputs": [],
   "source": [
    "# generating the final level of aggregation for the census features:\n",
    "Q_AP_GEOM = \"\"\"\n",
    "SELECT\n",
    "    A.*,\n",
    "    B.geometry,\n",
    "    ST_Centroid(B.geometry) as ponderation_area_centroid,\n",
    "    ST_Area(B.geometry) as ponderation_area_value\n",
    "FROM tb_ponderation_features as A\n",
    "LEFT JOIN tb_ponderation as B \n",
    "ON A.area_ponderation_area_code = B.ponderation_area_code\n",
    "\"\"\"\n",
    "\n",
    "df_ap_final = spark.sql(Q_AP_GEOM)"
   ]
  },
  {
   "cell_type": "code",
   "execution_count": 78,
   "metadata": {},
   "outputs": [
    {
     "data": {
      "text/html": [
       "<table border='1'>\n",
       "<tr><th>ponderation_area_code</th><th>total_private_households</th><th>total_population_private_households</th><th>average_number_residents_per_household</th><th>average_monthly_income</th><th>total_fully_owned_properties</th><th>total_properties_in_acquisition</th><th>total_rented_properties</th><th>total_properties_with_3_bathrooms</th><th>total_properties_without_private_bathrooms</th><th>total_households_with_electricity</th><th>total_households_with_1_resident</th><th>total_households_with_2_residents</th><th>total_households_with_3_residents</th><th>total_households_with_4_residents</th><th>total_households_with_5_residents</th><th>total_households_with_6_residents</th><th>total_households_with_7_residents</th><th>total_households_with_8_residents</th><th>total_households_with_9_residents</th><th>total_households_with_10_residents_or_more</th><th>total_fully_owned_houses</th><th>total_houses_in_acquisition</th><th>total_rented_houses</th><th>total_residents_in_area</th><th>total_residents_in_permanent_households</th><th>total_residents_in_private_apartments</th><th>total_residents_properties_in_acquisition</th><th>total_residents_rented_properties</th><th>total_number_children</th><th>total_number_house_workers</th><th>total_number_house_workers_parents</th><th>total_literate_household_leaders</th><th>geometry</th><th>ponderation_area_centroid</th><th>ponderation_area_value</th></tr>\n",
       "<tr><td>3550308005045</td><td>8400.0</td><td>23519.0</td><td>2.801219512195122</td><td>3996.8287804878046</td><td>5266.0</td><td>938.0</td><td>1936.0</td><td>1359.0</td><td>104.0</td><td>8400.0</td><td>1303.0</td><td>2554.0</td><td>2197.0</td><td>1637.0</td><td>464.0</td><td>148.0</td><td>56.0</td><td>22.0</td><td>10.0</td><td>9.0</td><td>1982.0</td><td>97.0</td><td>1071.0</td><td>23546.0</td><td>10093.0</td><td>12905.0</td><td>2631.0</td><td>5466.0</td><td>1000.0</td><td>50.0</td><td>9.0</td><td>8346.0</td><td>POLYGON ((-46.620...</td><td>POINT (-46.619835...</td><td>1.217477032570667...</td></tr>\n",
       "<tr><td>3550308005048</td><td>15002.0</td><td>38235.0</td><td>2.5446874999999993</td><td>3969.7853124999997</td><td>9386.0</td><td>952.0</td><td>3988.0</td><td>2225.0</td><td>40.0</td><td>15000.0</td><td>3365.0</td><td>4888.0</td><td>3414.0</td><td>2319.0</td><td>705.0</td><td>202.0</td><td>63.0</td><td>27.0</td><td>11.0</td><td>8.0</td><td>3544.0</td><td>125.0</td><td>1323.0</td><td>38331.0</td><td>15543.0</td><td>21665.0</td><td>2400.0</td><td>9727.0</td><td>1490.0</td><td>143.0</td><td>6.0</td><td>14880.0</td><td>POLYGON ((-46.627...</td><td>POINT (-46.637962...</td><td>2.032630229985242E-4</td></tr>\n",
       "<tr><td>3550308005031</td><td>8835.0</td><td>26619.0</td><td>3.0826829268292677</td><td>2033.2802439024392</td><td>5135.0</td><td>622.0</td><td>2649.0</td><td>838.0</td><td>115.0</td><td>8830.0</td><td>1311.0</td><td>2339.0</td><td>2239.0</td><td>1743.0</td><td>739.0</td><td>253.0</td><td>100.0</td><td>54.0</td><td>23.0</td><td>34.0</td><td>3262.0</td><td>90.0</td><td>1929.0</td><td>26730.0</td><td>17762.0</td><td>7808.0</td><td>1814.0</td><td>8588.0</td><td>1327.0</td><td>30.0</td><td>1.0</td><td>8685.0</td><td>POLYGON ((-46.596...</td><td>POINT (-46.607031...</td><td>4.670095618082835E-4</td></tr>\n",
       "<tr><td>3550308005102</td><td>9382.0</td><td>20499.0</td><td>2.219795918367347</td><td>5673.932040816328</td><td>5634.0</td><td>576.0</td><td>2625.0</td><td>2097.0</td><td>20.0</td><td>9382.0</td><td>3161.0</td><td>3151.0</td><td>1726.0</td><td>992.0</td><td>267.0</td><td>57.0</td><td>18.0</td><td>7.0</td><td>1.0</td><td>2.0</td><td>1020.0</td><td>16.0</td><td>276.0</td><td>20548.0</td><td>3842.0</td><td>16260.0</td><td>1211.0</td><td>5496.0</td><td>793.0</td><td>206.0</td><td>13.0</td><td>9365.0</td><td>POLYGON ((-46.684...</td><td>POINT (-46.677750...</td><td>1.720310464927754...</td></tr>\n",
       "<tr><td>3550308005158</td><td>8666.0</td><td>26741.0</td><td>3.0878787878787883</td><td>1294.025151515151</td><td>5434.0</td><td>410.0</td><td>2413.0</td><td>538.0</td><td>41.0</td><td>8664.0</td><td>1138.0</td><td>2198.0</td><td>2254.0</td><td>1800.0</td><td>787.0</td><td>294.0</td><td>109.0</td><td>40.0</td><td>24.0</td><td>22.0</td><td>5171.0</td><td>150.0</td><td>2298.0</td><td>26774.0</td><td>24925.0</td><td>1734.0</td><td>1277.0</td><td>7321.0</td><td>1324.0</td><td>17.0</td><td>0.0</td><td>8436.0</td><td>POLYGON ((-46.526...</td><td>POINT (-46.540679...</td><td>1.598476872192706E-4</td></tr>\n",
       "</table>\n",
       "only showing top 5 rows\n"
      ],
      "text/plain": [
       "+---------------------+------------------------+-----------------------------------+--------------------------------------+----------------------+----------------------------+-------------------------------+-----------------------+---------------------------------+------------------------------------------+---------------------------------+--------------------------------+---------------------------------+---------------------------------+---------------------------------+---------------------------------+---------------------------------+---------------------------------+---------------------------------+---------------------------------+------------------------------------------+------------------------+---------------------------+-------------------+-----------------------+---------------------------------------+-------------------------------------+-----------------------------------------+---------------------------------+---------------------+--------------------------+----------------------------------+--------------------------------+--------------------+-------------------------+----------------------+\n",
       "|ponderation_area_code|total_private_households|total_population_private_households|average_number_residents_per_household|average_monthly_income|total_fully_owned_properties|total_properties_in_acquisition|total_rented_properties|total_properties_with_3_bathrooms|total_properties_without_private_bathrooms|total_households_with_electricity|total_households_with_1_resident|total_households_with_2_residents|total_households_with_3_residents|total_households_with_4_residents|total_households_with_5_residents|total_households_with_6_residents|total_households_with_7_residents|total_households_with_8_residents|total_households_with_9_residents|total_households_with_10_residents_or_more|total_fully_owned_houses|total_houses_in_acquisition|total_rented_houses|total_residents_in_area|total_residents_in_permanent_households|total_residents_in_private_apartments|total_residents_properties_in_acquisition|total_residents_rented_properties|total_number_children|total_number_house_workers|total_number_house_workers_parents|total_literate_household_leaders|            geometry|ponderation_area_centroid|ponderation_area_value|\n",
       "+---------------------+------------------------+-----------------------------------+--------------------------------------+----------------------+----------------------------+-------------------------------+-----------------------+---------------------------------+------------------------------------------+---------------------------------+--------------------------------+---------------------------------+---------------------------------+---------------------------------+---------------------------------+---------------------------------+---------------------------------+---------------------------------+---------------------------------+------------------------------------------+------------------------+---------------------------+-------------------+-----------------------+---------------------------------------+-------------------------------------+-----------------------------------------+---------------------------------+---------------------+--------------------------+----------------------------------+--------------------------------+--------------------+-------------------------+----------------------+\n",
       "|        3550308005045|                  8400.0|                            23519.0|                     2.801219512195122|    3996.8287804878046|                      5266.0|                          938.0|                 1936.0|                           1359.0|                                     104.0|                           8400.0|                          1303.0|                           2554.0|                           2197.0|                           1637.0|                            464.0|                            148.0|                             56.0|                             22.0|                             10.0|                                       9.0|                  1982.0|                       97.0|             1071.0|                23546.0|                                10093.0|                              12905.0|                                   2631.0|                           5466.0|               1000.0|                      50.0|                               9.0|                          8346.0|POLYGON ((-46.620...|     POINT (-46.619835...|  1.217477032570667...|\n",
       "|        3550308005048|                 15002.0|                            38235.0|                    2.5446874999999993|    3969.7853124999997|                      9386.0|                          952.0|                 3988.0|                           2225.0|                                      40.0|                          15000.0|                          3365.0|                           4888.0|                           3414.0|                           2319.0|                            705.0|                            202.0|                             63.0|                             27.0|                             11.0|                                       8.0|                  3544.0|                      125.0|             1323.0|                38331.0|                                15543.0|                              21665.0|                                   2400.0|                           9727.0|               1490.0|                     143.0|                               6.0|                         14880.0|POLYGON ((-46.627...|     POINT (-46.637962...|  2.032630229985242E-4|\n",
       "|        3550308005031|                  8835.0|                            26619.0|                    3.0826829268292677|    2033.2802439024392|                      5135.0|                          622.0|                 2649.0|                            838.0|                                     115.0|                           8830.0|                          1311.0|                           2339.0|                           2239.0|                           1743.0|                            739.0|                            253.0|                            100.0|                             54.0|                             23.0|                                      34.0|                  3262.0|                       90.0|             1929.0|                26730.0|                                17762.0|                               7808.0|                                   1814.0|                           8588.0|               1327.0|                      30.0|                               1.0|                          8685.0|POLYGON ((-46.596...|     POINT (-46.607031...|  4.670095618082835E-4|\n",
       "|        3550308005102|                  9382.0|                            20499.0|                     2.219795918367347|     5673.932040816328|                      5634.0|                          576.0|                 2625.0|                           2097.0|                                      20.0|                           9382.0|                          3161.0|                           3151.0|                           1726.0|                            992.0|                            267.0|                             57.0|                             18.0|                              7.0|                              1.0|                                       2.0|                  1020.0|                       16.0|              276.0|                20548.0|                                 3842.0|                              16260.0|                                   1211.0|                           5496.0|                793.0|                     206.0|                              13.0|                          9365.0|POLYGON ((-46.684...|     POINT (-46.677750...|  1.720310464927754...|\n",
       "|        3550308005158|                  8666.0|                            26741.0|                    3.0878787878787883|     1294.025151515151|                      5434.0|                          410.0|                 2413.0|                            538.0|                                      41.0|                           8664.0|                          1138.0|                           2198.0|                           2254.0|                           1800.0|                            787.0|                            294.0|                            109.0|                             40.0|                             24.0|                                      22.0|                  5171.0|                      150.0|             2298.0|                26774.0|                                24925.0|                               1734.0|                                   1277.0|                           7321.0|               1324.0|                      17.0|                               0.0|                          8436.0|POLYGON ((-46.526...|     POINT (-46.540679...|  1.598476872192706E-4|\n",
       "+---------------------+------------------------+-----------------------------------+--------------------------------------+----------------------+----------------------------+-------------------------------+-----------------------+---------------------------------+------------------------------------------+---------------------------------+--------------------------------+---------------------------------+---------------------------------+---------------------------------+---------------------------------+---------------------------------+---------------------------------+---------------------------------+---------------------------------+------------------------------------------+------------------------+---------------------------+-------------------+-----------------------+---------------------------------------+-------------------------------------+-----------------------------------------+---------------------------------+---------------------+--------------------------+----------------------------------+--------------------------------+--------------------+-------------------------+----------------------+\n",
       "only showing top 5 rows"
      ]
     },
     "execution_count": 78,
     "metadata": {},
     "output_type": "execute_result"
    }
   ],
   "source": [
    "# looking at the results:\n",
    "df_ap_final"
   ]
  },
  {
   "cell_type": "code",
   "execution_count": 80,
   "metadata": {},
   "outputs": [
    {
     "name": "stdout",
     "output_type": "stream",
     "text": [
      "root\n",
      " |-- ponderation_area_code: string (nullable = true)\n",
      " |-- total_private_households: double (nullable = true)\n",
      " |-- total_population_private_households: double (nullable = true)\n",
      " |-- average_number_residents_per_household: double (nullable = true)\n",
      " |-- average_monthly_income: double (nullable = true)\n",
      " |-- total_fully_owned_properties: double (nullable = true)\n",
      " |-- total_properties_in_acquisition: double (nullable = true)\n",
      " |-- total_rented_properties: double (nullable = true)\n",
      " |-- total_properties_with_3_bathrooms: double (nullable = true)\n",
      " |-- total_properties_without_private_bathrooms: double (nullable = true)\n",
      " |-- total_households_with_electricity: double (nullable = true)\n",
      " |-- total_households_with_1_resident: double (nullable = true)\n",
      " |-- total_households_with_2_residents: double (nullable = true)\n",
      " |-- total_households_with_3_residents: double (nullable = true)\n",
      " |-- total_households_with_4_residents: double (nullable = true)\n",
      " |-- total_households_with_5_residents: double (nullable = true)\n",
      " |-- total_households_with_6_residents: double (nullable = true)\n",
      " |-- total_households_with_7_residents: double (nullable = true)\n",
      " |-- total_households_with_8_residents: double (nullable = true)\n",
      " |-- total_households_with_9_residents: double (nullable = true)\n",
      " |-- total_households_with_10_residents_or_more: double (nullable = true)\n",
      " |-- total_fully_owned_houses: double (nullable = true)\n",
      " |-- total_houses_in_acquisition: double (nullable = true)\n",
      " |-- total_rented_houses: double (nullable = true)\n",
      " |-- total_residents_in_area: double (nullable = true)\n",
      " |-- total_residents_in_permanent_households: double (nullable = true)\n",
      " |-- total_residents_in_private_apartments: double (nullable = true)\n",
      " |-- total_residents_properties_in_acquisition: double (nullable = true)\n",
      " |-- total_residents_rented_properties: double (nullable = true)\n",
      " |-- total_number_children: double (nullable = true)\n",
      " |-- total_number_house_workers: double (nullable = true)\n",
      " |-- total_number_house_workers_parents: double (nullable = true)\n",
      " |-- total_literate_household_leaders: double (nullable = true)\n",
      " |-- geometry: geometry (nullable = true)\n",
      " |-- ponderation_area_centroid: geometry (nullable = false)\n",
      " |-- ponderation_area_value: double (nullable = false)\n",
      "\n"
     ]
    }
   ],
   "source": [
    "# looking at the schema:\n",
    "df_ap_final.printSchema()"
   ]
  },
  {
   "cell_type": "markdown",
   "metadata": {},
   "source": [
    "### 5.1.2 Saving Area of Ponderation Results"
   ]
  },
  {
   "cell_type": "code",
   "execution_count": 166,
   "metadata": {},
   "outputs": [
    {
     "name": "stdout",
     "output_type": "stream",
     "text": [
      "\n",
      "    Saving dataframe to ../data/processed/sp_census/geospatial_datasets//areas_of_ponderation/tb_area_ponderation_census\n",
      "    \n",
      "../data/processed/sp_census/geospatial_datasets//areas_of_ponderation/tb_area_ponderation_census/part-00000-92cc7da8-664e-4ec8-86af-4a2fe4b19e23-c000.gz.parquet\n",
      "\n",
      "    Saving\n",
      "    ../data/processed/sp_census/geospatial_datasets//areas_of_ponderation/tb_area_ponderation_census/part-00000-92cc7da8-664e-4ec8-86af-4a2fe4b19e23-c000.gz.parquet \n",
      "    to ../data/processed/sp_census/geospatial_datasets//areas_of_ponderation/tb_area_ponderation_census.parquet\n",
      "    \n",
      "\n",
      "    Deleting leftover directory at ../data/processed/sp_census/geospatial_datasets//areas_of_ponderation/tb_area_ponderation_census\n",
      "    \n"
     ]
    },
    {
     "data": {
      "text/plain": [
       "'Done!'"
      ]
     },
     "execution_count": 166,
     "metadata": {},
     "output_type": "execute_result"
    }
   ],
   "source": [
    "# save the results to the specified directory:\n",
    "AP_OUTPUT = f\"areas_of_ponderation/tb_area_ponderation_census\"\n",
    "PROCESSED_UNITS_OF_INTEREST = \"../data/processed/sp_census/units_of_interest/\"\n",
    "\n",
    "save_to_filesystem(\n",
    "    df_ap_final, PROCESSED_GEO_DATASETS, AP_OUTPUT, AP_OUTPUT + \".parquet\"\n",
    ")"
   ]
  },
  {
   "cell_type": "code",
   "execution_count": 170,
   "metadata": {},
   "outputs": [
    {
     "name": "stdout",
     "output_type": "stream",
     "text": [
      "\n",
      "    Saving dataframe to ../data/processed/sp_census/geospatial_datasets//areas_of_ponderation/tb_area_ponderation_census\n",
      "    \n",
      "../data/processed/sp_census/geospatial_datasets//areas_of_ponderation/tb_area_ponderation_census/part-00000-619979f1-aaac-4796-8627-6c42bf2de7a3-c000.gz.parquet\n",
      "\n",
      "    Saving\n",
      "    ../data/processed/sp_census/geospatial_datasets//areas_of_ponderation/tb_area_ponderation_census/part-00000-619979f1-aaac-4796-8627-6c42bf2de7a3-c000.gz.parquet \n",
      "    to ../data/processed/sp_census/geospatial_datasets//areas_of_ponderation/tb_area_ponderation_census.parquet\n",
      "    \n",
      "\n",
      "    Deleting leftover directory at ../data/processed/sp_census/geospatial_datasets//areas_of_ponderation/tb_area_ponderation_census\n",
      "    \n"
     ]
    },
    {
     "data": {
      "text/plain": [
       "'Done!'"
      ]
     },
     "execution_count": 170,
     "metadata": {},
     "output_type": "execute_result"
    }
   ],
   "source": [
    "# saving without the geometry:\n",
    "df_ap_no_geo = df_ap_final.drop(\"geometry\", \"ponderation_area_centroid\")\n",
    "\n",
    "AP_NO_GEO = f\"areas_of_ponderation/tb_area_ponderation_census_no_geo\"\n",
    "\n",
    "save_to_filesystem(\n",
    "    df_ap_final, PROCESSED_GEO_DATASETS, AP_OUTPUT, AP_OUTPUT + \".parquet\"\n",
    ")"
   ]
  },
  {
   "cell_type": "markdown",
   "metadata": {},
   "source": [
    "## 5.2 Neighborhoods"
   ]
  },
  {
   "cell_type": "code",
   "execution_count": 163,
   "metadata": {},
   "outputs": [],
   "source": [
    "# adding the centroid and area of the polygons:\n",
    "Q_NEIGHBORHOOD_MATCH = \"\"\"\n",
    "SELECT \n",
    "    A.Name as neighborhood_name,\n",
    "    B.sector_code\n",
    "FROM tb_neighborhood as A, tb_sector_features as B\n",
    "WHERE ST_Contains(A.geometry, B.sector_centroid)\n",
    "\"\"\"\n",
    "\n",
    "# matching the areas of ponderation to their sectors:\n",
    "df_nb_match = spark.sql(Q_NEIGHBORHOOD_MATCH)\n",
    "\n",
    "# adding the resulting dataframe to the SQL Context:\n",
    "df_nb_match.createOrReplaceTempView(\"tb_nb_match\")"
   ]
  },
  {
   "cell_type": "code",
   "execution_count": 164,
   "metadata": {},
   "outputs": [],
   "source": [
    "# adding the features to the ponderation area back:\n",
    "Q_NB_RAW_FEATURES = \"\"\"\n",
    "SELECT\n",
    "    A.neighborhood_name,\n",
    "    A.sector_code,\n",
    "    B.*\n",
    "FROM tb_nb_match as A\n",
    "LEFT JOIN tb_sector_features as B\n",
    "ON A.sector_code = B.sector_code\n",
    "\"\"\"\n",
    "\n",
    "# reading back the dataset:\n",
    "df_nb_raw_features = spark.sql(Q_NB_RAW_FEATURES)\n",
    "\n",
    "# dropping the geometry columns and looking at the results:\n",
    "df_nb_raw_features = df_nb_raw_features.drop(\"geometry\", \"sector_centroid\")"
   ]
  },
  {
   "cell_type": "code",
   "execution_count": 165,
   "metadata": {},
   "outputs": [
    {
     "data": {
      "text/html": [
       "<table border='1'>\n",
       "<tr><th>neighborhood_name</th><th>sector_code</th><th>id</th><th>sector_code</th><th>city_code</th><th>neighborhood_code</th><th>city</th><th>neighborhood</th><th>sector_type</th><th>centroid_longitude</th><th>centroid_latitude</th><th>sector_area</th><th>sector_situation_code</th><th>code_large_regions_geographical_regions</th><th>name_large_regions_geographical_regions</th><th>federation_unit_code</th><th>name_federation_unit</th><th>mesoregion_code</th><th>name_mesoregion</th><th>microregion_code</th><th>name_microregion</th><th>metropolitan_region_code_or_ride</th><th>name_metropolitan_region_or_ride</th><th>code_municipality</th><th>name_municipality</th><th>district_code</th><th>district_name</th><th>subdistrict_code</th><th>name_sub_district</th><th>name_neighborhood</th><th>sector_type_code</th><th>permanent_private_households_or_persons_responsible_for_permanent_private_households</th><th>residents_permanent_private_households_or_population_residing_permanent_private_households</th><th>average_number_dwellers_permanent_private_households_obtained_by_var2_division_by_var1</th><th>value_average_monthly_nominal_income_persons_responsible_for_permanent_private_households_with_and_without_income</th><th>permanent_private_households_and_disposed</th><th>permanent_private_households_acquisition</th><th>permanent_private_households_rented</th><th>permanent_private_households_with_3_bathrooms_residents</th><th>permanent_private_households_without_exclusive_use_bathroom_residents</th><th>permanent_private_households_with_electricity</th><th>permanent_private_households_with_1_resident</th><th>permanent_private_households_with_2_residents</th><th>permanent_private_households_with_3_residents</th><th>permanent_private_households_with_4_residents</th><th>permanent_private_households_with_5_residents</th><th>permanent_private_households_with_6_residents</th><th>permanent_private_households_with_7_residents</th><th>permanent_private_households_with_8_residents</th><th>permanent_private_households_with_9_residents</th><th>permanent_private_households_with_10_or_more_residents</th><th>permanent_private_home_type_households_and_clear</th><th>permanent_private_home_type_households_and_acquisition</th><th>permanent_private_household_homes_rented</th><th>residents_private_households_and_collective_households</th><th>residents_permanent_household_private_households</th><th>residents_permanent_private_households_apartment_type</th><th>residents_permanent_permanent_households</th><th>dwellers_permanent_private_households_and_acquisition</th><th>residents_permanent_private_households_rented</th><th>children_only_from_person_responsible_private_households</th><th>household_employees_private_households_males</th><th>relatives_household_employees_private_households_male</th><th>household_employees_private_households</th><th>relatives_domestic_employees_as_private_households_female</th><th>literacy_responsible_persons</th></tr>\n",
       "<tr><td>Vila Canero</td><td>355030801000005</td><td>108943</td><td>355030801000005</td><td>3550308</td><td></td><td>SÃO PAULO</td><td></td><td>URBANO</td><td>-46.57065666912533</td><td>-23.571444624386825</td><td>7.278722154733566E-6</td><td>1</td><td>3</td><td>Região Sudeste</td><td>35</td><td>São Paulo</td><td>3515</td><td>Metropolitana de ...</td><td>35061</td><td>São Paulo</td><td>20</td><td>RM São Paulo</td><td>3550308</td><td>SÃO PAULO</td><td>355030801</td><td>ÁGUA RASA</td><td>35503080100</td><td>ÁGUA RASA</td><td>SÃO PAULO (todos ...</td><td>0</td><td>240.0</td><td>754.0</td><td>3.14</td><td>1416.9</td><td>105.0</td><td>4.0</td><td>112.0</td><td>20.0</td><td>1.0</td><td>240.0</td><td>30.0</td><td>60.0</td><td>65.0</td><td>38.0</td><td>34.0</td><td>10.0</td><td>1.0</td><td>1.0</td><td>0.0</td><td>1.0</td><td>98.0</td><td>4.0</td><td>105.0</td><td>754.0</td><td>716.0</td><td>30.0</td><td>340.0</td><td>15.0</td><td>354.0</td><td>46.0</td><td>0.0</td><td>0.0</td><td>1.0</td><td>0.0</td><td>232.0</td></tr>\n",
       "<tr><td>Vila Madalena</td><td>355030802000028</td><td>109096</td><td>355030802000028</td><td>3550308</td><td></td><td>SÃO PAULO</td><td></td><td>URBANO</td><td>-46.699390931740915</td><td>-23.54192792142038</td><td>2.741913499999751...</td><td>1</td><td>3</td><td>Região Sudeste</td><td>35</td><td>São Paulo</td><td>3515</td><td>Metropolitana de ...</td><td>35061</td><td>São Paulo</td><td>20</td><td>RM São Paulo</td><td>3550308</td><td>SÃO PAULO</td><td>355030802</td><td>ALTO DE PINHEIROS</td><td>35503080200</td><td>ALTO DE PINHEIROS</td><td>SÃO PAULO (todos ...</td><td>0</td><td>177.0</td><td>394.0</td><td>2.23</td><td>5017.33</td><td>120.0</td><td>10.0</td><td>36.0</td><td>31.0</td><td>0.0</td><td>177.0</td><td>46.0</td><td>69.0</td><td>42.0</td><td>16.0</td><td>4.0</td><td>0.0</td><td>0.0</td><td>0.0</td><td>0.0</td><td>0.0</td><td>37.0</td><td>3.0</td><td>5.0</td><td>394.0</td><td>120.0</td><td>274.0</td><td>276.0</td><td>19.0</td><td>80.0</td><td>12.0</td><td>0.0</td><td>0.0</td><td>4.0</td><td>0.0</td><td>176.0</td></tr>\n",
       "<tr><td>Agua Branca</td><td>355030806000016</td><td>109560</td><td>355030806000016</td><td>3550308</td><td></td><td>SÃO PAULO</td><td></td><td>URBANO</td><td>-46.67432775353449</td><td>-23.52900256909393</td><td>5.131327499995703E-6</td><td>1</td><td>3</td><td>Região Sudeste</td><td>35</td><td>São Paulo</td><td>3515</td><td>Metropolitana de ...</td><td>35061</td><td>São Paulo</td><td>20</td><td>RM São Paulo</td><td>3550308</td><td>SÃO PAULO</td><td>355030806</td><td>BARRA FUNDA</td><td>35503080600</td><td>BARRA FUNDA</td><td>SÃO PAULO (todos ...</td><td>0</td><td>135.0</td><td>356.0</td><td>2.64</td><td>3564.83</td><td>80.0</td><td>10.0</td><td>38.0</td><td>22.0</td><td>0.0</td><td>135.0</td><td>27.0</td><td>45.0</td><td>27.0</td><td>25.0</td><td>9.0</td><td>1.0</td><td>1.0</td><td>0.0</td><td>0.0</td><td>0.0</td><td>36.0</td><td>4.0</td><td>6.0</td><td>356.0</td><td>156.0</td><td>200.0</td><td>214.0</td><td>32.0</td><td>88.0</td><td>11.0</td><td>0.0</td><td>0.0</td><td>3.0</td><td>0.0</td><td>135.0</td></tr>\n",
       "<tr><td>Belenzinho</td><td>355030808000029</td><td>109753</td><td>355030808000029</td><td>3550308</td><td></td><td>SÃO PAULO</td><td></td><td>URBANO</td><td>-46.60066022961847</td><td>-23.52987229395476</td><td>1.101778800000770...</td><td>1</td><td>3</td><td>Região Sudeste</td><td>35</td><td>São Paulo</td><td>3515</td><td>Metropolitana de ...</td><td>35061</td><td>São Paulo</td><td>20</td><td>RM São Paulo</td><td>3550308</td><td>SÃO PAULO</td><td>355030808</td><td>BELÉM</td><td>35503080800</td><td>BELÉM</td><td>SÃO PAULO (todos ...</td><td>0</td><td>259.0</td><td>739.0</td><td>2.85</td><td>1867.73</td><td>117.0</td><td>2.0</td><td>139.0</td><td>7.0</td><td>0.0</td><td>259.0</td><td>50.0</td><td>66.0</td><td>63.0</td><td>52.0</td><td>20.0</td><td>3.0</td><td>2.0</td><td>1.0</td><td>0.0</td><td>2.0</td><td>33.0</td><td>0.0</td><td>28.0</td><td>739.0</td><td>221.0</td><td>518.0</td><td>316.0</td><td>5.0</td><td>416.0</td><td>30.0</td><td>2.0</td><td>0.0</td><td>1.0</td><td>0.0</td><td>259.0</td></tr>\n",
       "<tr><td>Alto do Pari</td><td>355030808000045</td><td>109769</td><td>355030808000045</td><td>3550308</td><td></td><td>SÃO PAULO</td><td></td><td>URBANO</td><td>-46.60511826311402</td><td>-23.524366979101895</td><td>1.054084249999352E-5</td><td>1</td><td>3</td><td>Região Sudeste</td><td>35</td><td>São Paulo</td><td>3515</td><td>Metropolitana de ...</td><td>35061</td><td>São Paulo</td><td>20</td><td>RM São Paulo</td><td>3550308</td><td>SÃO PAULO</td><td>355030808</td><td>BELÉM</td><td>35503080800</td><td>BELÉM</td><td>SÃO PAULO (todos ...</td><td>0</td><td>193.0</td><td>577.0</td><td>2.99</td><td>2075.0</td><td>103.0</td><td>14.0</td><td>68.0</td><td>15.0</td><td>0.0</td><td>193.0</td><td>28.0</td><td>54.0</td><td>46.0</td><td>41.0</td><td>13.0</td><td>7.0</td><td>2.0</td><td>0.0</td><td>2.0</td><td>0.0</td><td>101.0</td><td>14.0</td><td>54.0</td><td>577.0</td><td>537.0</td><td>38.0</td><td>303.0</td><td>51.0</td><td>210.0</td><td>21.0</td><td>0.0</td><td>0.0</td><td>1.0</td><td>0.0</td><td>188.0</td></tr>\n",
       "</table>\n",
       "only showing top 5 rows\n"
      ],
      "text/plain": [
       "+-----------------+---------------+------+---------------+---------+-----------------+---------+------------+-----------+-------------------+-------------------+--------------------+---------------------+---------------------------------------+---------------------------------------+--------------------+--------------------+---------------+--------------------+----------------+----------------+--------------------------------+--------------------------------+-----------------+-----------------+-------------+-----------------+----------------+-----------------+--------------------+----------------+------------------------------------------------------------------------------------+------------------------------------------------------------------------------------------+--------------------------------------------------------------------------------------+-----------------------------------------------------------------------------------------------------------------+-----------------------------------------+----------------------------------------+-----------------------------------+-------------------------------------------------------+---------------------------------------------------------------------+---------------------------------------------+--------------------------------------------+---------------------------------------------+---------------------------------------------+---------------------------------------------+---------------------------------------------+---------------------------------------------+---------------------------------------------+---------------------------------------------+---------------------------------------------+------------------------------------------------------+------------------------------------------------+------------------------------------------------------+----------------------------------------+------------------------------------------------------+------------------------------------------------+-----------------------------------------------------+----------------------------------------+-----------------------------------------------------+---------------------------------------------+--------------------------------------------------------+--------------------------------------------+-----------------------------------------------------+--------------------------------------+---------------------------------------------------------+----------------------------+\n",
       "|neighborhood_name|    sector_code|    id|    sector_code|city_code|neighborhood_code|     city|neighborhood|sector_type| centroid_longitude|  centroid_latitude|         sector_area|sector_situation_code|code_large_regions_geographical_regions|name_large_regions_geographical_regions|federation_unit_code|name_federation_unit|mesoregion_code|     name_mesoregion|microregion_code|name_microregion|metropolitan_region_code_or_ride|name_metropolitan_region_or_ride|code_municipality|name_municipality|district_code|    district_name|subdistrict_code|name_sub_district|   name_neighborhood|sector_type_code|permanent_private_households_or_persons_responsible_for_permanent_private_households|residents_permanent_private_households_or_population_residing_permanent_private_households|average_number_dwellers_permanent_private_households_obtained_by_var2_division_by_var1|value_average_monthly_nominal_income_persons_responsible_for_permanent_private_households_with_and_without_income|permanent_private_households_and_disposed|permanent_private_households_acquisition|permanent_private_households_rented|permanent_private_households_with_3_bathrooms_residents|permanent_private_households_without_exclusive_use_bathroom_residents|permanent_private_households_with_electricity|permanent_private_households_with_1_resident|permanent_private_households_with_2_residents|permanent_private_households_with_3_residents|permanent_private_households_with_4_residents|permanent_private_households_with_5_residents|permanent_private_households_with_6_residents|permanent_private_households_with_7_residents|permanent_private_households_with_8_residents|permanent_private_households_with_9_residents|permanent_private_households_with_10_or_more_residents|permanent_private_home_type_households_and_clear|permanent_private_home_type_households_and_acquisition|permanent_private_household_homes_rented|residents_private_households_and_collective_households|residents_permanent_household_private_households|residents_permanent_private_households_apartment_type|residents_permanent_permanent_households|dwellers_permanent_private_households_and_acquisition|residents_permanent_private_households_rented|children_only_from_person_responsible_private_households|household_employees_private_households_males|relatives_household_employees_private_households_male|household_employees_private_households|relatives_domestic_employees_as_private_households_female|literacy_responsible_persons|\n",
       "+-----------------+---------------+------+---------------+---------+-----------------+---------+------------+-----------+-------------------+-------------------+--------------------+---------------------+---------------------------------------+---------------------------------------+--------------------+--------------------+---------------+--------------------+----------------+----------------+--------------------------------+--------------------------------+-----------------+-----------------+-------------+-----------------+----------------+-----------------+--------------------+----------------+------------------------------------------------------------------------------------+------------------------------------------------------------------------------------------+--------------------------------------------------------------------------------------+-----------------------------------------------------------------------------------------------------------------+-----------------------------------------+----------------------------------------+-----------------------------------+-------------------------------------------------------+---------------------------------------------------------------------+---------------------------------------------+--------------------------------------------+---------------------------------------------+---------------------------------------------+---------------------------------------------+---------------------------------------------+---------------------------------------------+---------------------------------------------+---------------------------------------------+---------------------------------------------+------------------------------------------------------+------------------------------------------------+------------------------------------------------------+----------------------------------------+------------------------------------------------------+------------------------------------------------+-----------------------------------------------------+----------------------------------------+-----------------------------------------------------+---------------------------------------------+--------------------------------------------------------+--------------------------------------------+-----------------------------------------------------+--------------------------------------+---------------------------------------------------------+----------------------------+\n",
       "|      Vila Canero|355030801000005|108943|355030801000005|  3550308|                 |SÃO PAULO|            |     URBANO| -46.57065666912533|-23.571444624386825|7.278722154733566E-6|                    1|                                      3|                         Região Sudeste|                  35|           São Paulo|           3515|Metropolitana de ...|           35061|       São Paulo|                              20|                    RM São Paulo|          3550308|        SÃO PAULO|    355030801|        ÁGUA RASA|     35503080100|        ÁGUA RASA|SÃO PAULO (todos ...|               0|                                                                               240.0|                                                                                     754.0|                                                                                  3.14|                                                                                                           1416.9|                                    105.0|                                     4.0|                              112.0|                                                   20.0|                                                                  1.0|                                        240.0|                                        30.0|                                         60.0|                                         65.0|                                         38.0|                                         34.0|                                         10.0|                                          1.0|                                          1.0|                                          0.0|                                                   1.0|                                            98.0|                                                   4.0|                                   105.0|                                                 754.0|                                           716.0|                                                 30.0|                                   340.0|                                                 15.0|                                        354.0|                                                    46.0|                                         0.0|                                                  0.0|                                   1.0|                                                      0.0|                       232.0|\n",
       "|    Vila Madalena|355030802000028|109096|355030802000028|  3550308|                 |SÃO PAULO|            |     URBANO|-46.699390931740915| -23.54192792142038|2.741913499999751...|                    1|                                      3|                         Região Sudeste|                  35|           São Paulo|           3515|Metropolitana de ...|           35061|       São Paulo|                              20|                    RM São Paulo|          3550308|        SÃO PAULO|    355030802|ALTO DE PINHEIROS|     35503080200|ALTO DE PINHEIROS|SÃO PAULO (todos ...|               0|                                                                               177.0|                                                                                     394.0|                                                                                  2.23|                                                                                                          5017.33|                                    120.0|                                    10.0|                               36.0|                                                   31.0|                                                                  0.0|                                        177.0|                                        46.0|                                         69.0|                                         42.0|                                         16.0|                                          4.0|                                          0.0|                                          0.0|                                          0.0|                                          0.0|                                                   0.0|                                            37.0|                                                   3.0|                                     5.0|                                                 394.0|                                           120.0|                                                274.0|                                   276.0|                                                 19.0|                                         80.0|                                                    12.0|                                         0.0|                                                  0.0|                                   4.0|                                                      0.0|                       176.0|\n",
       "|      Agua Branca|355030806000016|109560|355030806000016|  3550308|                 |SÃO PAULO|            |     URBANO| -46.67432775353449| -23.52900256909393|5.131327499995703E-6|                    1|                                      3|                         Região Sudeste|                  35|           São Paulo|           3515|Metropolitana de ...|           35061|       São Paulo|                              20|                    RM São Paulo|          3550308|        SÃO PAULO|    355030806|      BARRA FUNDA|     35503080600|      BARRA FUNDA|SÃO PAULO (todos ...|               0|                                                                               135.0|                                                                                     356.0|                                                                                  2.64|                                                                                                          3564.83|                                     80.0|                                    10.0|                               38.0|                                                   22.0|                                                                  0.0|                                        135.0|                                        27.0|                                         45.0|                                         27.0|                                         25.0|                                          9.0|                                          1.0|                                          1.0|                                          0.0|                                          0.0|                                                   0.0|                                            36.0|                                                   4.0|                                     6.0|                                                 356.0|                                           156.0|                                                200.0|                                   214.0|                                                 32.0|                                         88.0|                                                    11.0|                                         0.0|                                                  0.0|                                   3.0|                                                      0.0|                       135.0|\n",
       "|       Belenzinho|355030808000029|109753|355030808000029|  3550308|                 |SÃO PAULO|            |     URBANO| -46.60066022961847| -23.52987229395476|1.101778800000770...|                    1|                                      3|                         Região Sudeste|                  35|           São Paulo|           3515|Metropolitana de ...|           35061|       São Paulo|                              20|                    RM São Paulo|          3550308|        SÃO PAULO|    355030808|            BELÉM|     35503080800|            BELÉM|SÃO PAULO (todos ...|               0|                                                                               259.0|                                                                                     739.0|                                                                                  2.85|                                                                                                          1867.73|                                    117.0|                                     2.0|                              139.0|                                                    7.0|                                                                  0.0|                                        259.0|                                        50.0|                                         66.0|                                         63.0|                                         52.0|                                         20.0|                                          3.0|                                          2.0|                                          1.0|                                          0.0|                                                   2.0|                                            33.0|                                                   0.0|                                    28.0|                                                 739.0|                                           221.0|                                                518.0|                                   316.0|                                                  5.0|                                        416.0|                                                    30.0|                                         2.0|                                                  0.0|                                   1.0|                                                      0.0|                       259.0|\n",
       "|     Alto do Pari|355030808000045|109769|355030808000045|  3550308|                 |SÃO PAULO|            |     URBANO| -46.60511826311402|-23.524366979101895|1.054084249999352E-5|                    1|                                      3|                         Região Sudeste|                  35|           São Paulo|           3515|Metropolitana de ...|           35061|       São Paulo|                              20|                    RM São Paulo|          3550308|        SÃO PAULO|    355030808|            BELÉM|     35503080800|            BELÉM|SÃO PAULO (todos ...|               0|                                                                               193.0|                                                                                     577.0|                                                                                  2.99|                                                                                                           2075.0|                                    103.0|                                    14.0|                               68.0|                                                   15.0|                                                                  0.0|                                        193.0|                                        28.0|                                         54.0|                                         46.0|                                         41.0|                                         13.0|                                          7.0|                                          2.0|                                          0.0|                                          2.0|                                                   0.0|                                           101.0|                                                  14.0|                                    54.0|                                                 577.0|                                           537.0|                                                 38.0|                                   303.0|                                                 51.0|                                        210.0|                                                    21.0|                                         0.0|                                                  0.0|                                   1.0|                                                      0.0|                       188.0|\n",
       "+-----------------+---------------+------+---------------+---------+-----------------+---------+------------+-----------+-------------------+-------------------+--------------------+---------------------+---------------------------------------+---------------------------------------+--------------------+--------------------+---------------+--------------------+----------------+----------------+--------------------------------+--------------------------------+-----------------+-----------------+-------------+-----------------+----------------+-----------------+--------------------+----------------+------------------------------------------------------------------------------------+------------------------------------------------------------------------------------------+--------------------------------------------------------------------------------------+-----------------------------------------------------------------------------------------------------------------+-----------------------------------------+----------------------------------------+-----------------------------------+-------------------------------------------------------+---------------------------------------------------------------------+---------------------------------------------+--------------------------------------------+---------------------------------------------+---------------------------------------------+---------------------------------------------+---------------------------------------------+---------------------------------------------+---------------------------------------------+---------------------------------------------+---------------------------------------------+------------------------------------------------------+------------------------------------------------+------------------------------------------------------+----------------------------------------+------------------------------------------------------+------------------------------------------------+-----------------------------------------------------+----------------------------------------+-----------------------------------------------------+---------------------------------------------+--------------------------------------------------------+--------------------------------------------+-----------------------------------------------------+--------------------------------------+---------------------------------------------------------+----------------------------+\n",
       "only showing top 5 rows"
      ]
     },
     "execution_count": 165,
     "metadata": {},
     "output_type": "execute_result"
    }
   ],
   "source": [
    "df_nb_raw_features"
   ]
  },
  {
   "cell_type": "code",
   "execution_count": null,
   "metadata": {},
   "outputs": [],
   "source": []
  }
 ],
 "metadata": {
  "kernelspec": {
   "display_name": "Python 3",
   "language": "python",
   "name": "python3"
  },
  "language_info": {
   "codemirror_mode": {
    "name": "ipython",
    "version": 3
   },
   "file_extension": ".py",
   "mimetype": "text/x-python",
   "name": "python",
   "nbconvert_exporter": "python",
   "pygments_lexer": "ipython3",
   "version": "3.8.8"
  }
 },
 "nbformat": 4,
 "nbformat_minor": 4
}
