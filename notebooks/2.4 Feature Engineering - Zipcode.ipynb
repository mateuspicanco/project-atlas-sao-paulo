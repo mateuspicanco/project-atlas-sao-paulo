{
 "cells": [
  {
   "cell_type": "markdown",
   "metadata": {},
   "source": [
    "# Feature Engineering - Zipcodes"
   ]
  },
  {
   "cell_type": "code",
   "execution_count": 1,
   "metadata": {},
   "outputs": [],
   "source": [
    "# installing the requirements:\n",
    "!pip install -r ../configs/dependencies/dataprep_requirements.txt >> ../configs/dependencies/package_installation.txt"
   ]
  },
  {
   "cell_type": "code",
   "execution_count": 2,
   "metadata": {},
   "outputs": [],
   "source": [
    "# loading the magic commands:\n",
    "%load_ext lab_black\n",
    "%load_ext autoreload\n",
    "%autoreload 2"
   ]
  },
  {
   "cell_type": "code",
   "execution_count": 3,
   "metadata": {},
   "outputs": [],
   "source": [
    "###### Loading the necessary libraries #########\n",
    "\n",
    "# PySpark dependencies:s\n",
    "import pyspark\n",
    "from pyspark import SparkConf\n",
    "from pyspark import SparkContext\n",
    "from pyspark.sql import SparkSession\n",
    "from pyspark.sql import SQLContext\n",
    "import pyspark.sql.functions as F\n",
    "from pyspark.sql.functions import udf\n",
    "import pyspark.sql.types as T\n",
    "from pyspark.sql.window import Window\n",
    "\n",
    "# Sedona dependencies:\n",
    "from sedona.utils.adapter import Adapter\n",
    "from sedona.register import SedonaRegistrator\n",
    "from sedona.utils import KryoSerializer, SedonaKryoRegistrator\n",
    "from sedona.core.SpatialRDD import SpatialRDD\n",
    "from sedona.core.formatMapper.shapefileParser import ShapefileReader\n",
    "from sedona.core.formatMapper import GeoJsonReader\n",
    "\n",
    "# database utilities:\n",
    "from sqlalchemy import create_engine\n",
    "import sqlite3 as db\n",
    "import pandas as pd\n",
    "from tqdm import tqdm\n",
    "import geopandas as gpd\n",
    "import fiona\n",
    "\n",
    "# plotting and data visualization:\n",
    "import matplotlib.pyplot as plt\n",
    "import seaborn as sns\n",
    "from IPython.display import HTML, Image\n",
    "\n",
    "# other relevant libraries:\n",
    "import warnings\n",
    "import unidecode\n",
    "import inflection\n",
    "import unicodedata\n",
    "from datetime import datetime, timedelta\n",
    "from functools import partial\n",
    "import json\n",
    "import re\n",
    "import os\n",
    "from glob import glob\n",
    "import shutil\n",
    "import itertools\n",
    "import chardet\n",
    "\n",
    "# importing the atlas utilities:\n",
    "from atlasutils import (\n",
    "    save_to_filesystem,\n",
    "    save_as_table,\n",
    "    rotate_xticks,\n",
    "    get_file_encoding,\n",
    "    normalize_entities,\n",
    "    normalize_column_name,\n",
    "    apply_category_map,\n",
    "    standardize_variable_names,\n",
    "    get_null_columns,\n",
    "    replace_decimal_separator,\n",
    "    convert_to_geopandas,\n",
    "    drop_invalid_census_columns,\n",
    "    clean_census_column_name,\n",
    "    get_file_crs,\n",
    "    get_column_values,\n",
    "    load_geospatial_file,\n",
    "    convert_geometry,\n",
    "    rank_feature,\n",
    "    save_geospatial_file,\n",
    ")\n",
    "\n",
    "\n",
    "# setting global parameters for visualizationsss:\n",
    "warnings.filterwarnings(\"ignore\")\n",
    "pd.set_option(\"display.precision\", 4)\n",
    "pd.set_option(\"display.float_format\", lambda x: \"%.2f\" % x)"
   ]
  },
  {
   "cell_type": "markdown",
   "metadata": {},
   "source": [
    "# 0. Configuring Spark"
   ]
  },
  {
   "cell_type": "code",
   "execution_count": 4,
   "metadata": {},
   "outputs": [],
   "source": [
    "# function to encapsulate standard spark configurations:\n",
    "def init_spark(app_name):\n",
    "\n",
    "    spark = (\n",
    "        SparkSession.builder.appName(app_name)\n",
    "        .config(\"spark.files.overwrite\", \"true\")\n",
    "        .config(\"spark.serializer\", KryoSerializer.getName)\n",
    "        .config(\"spark.kryo.registrator\", SedonaKryoRegistrator.getName)\n",
    "        .config(\n",
    "            \"spark.jars.packages\",\n",
    "            \"org.apache.sedona:sedona-python-adapter-3.0_2.12:1.0.1-incubating,\"\n",
    "            \"org.datasyslab:geotools-wrapper:geotools-24.1\",\n",
    "        )\n",
    "        .config(\"spark.sql.repl.eagerEval.enabled\", True)\n",
    "        .config(\"spark.sql.repl.eagerEval.maxNumRows\", 5)\n",
    "        .config(\"spark.sql.legacy.timeParserPolicy\", \"LEGACY\")\n",
    "        .config(\"spark.sql.parquet.compression.codec\", \"gzip\")\n",
    "        .config(\"sedona.global.charset\", \"utf8\")\n",
    "        .config(\"sedona.global.index\", \"true\")\n",
    "        .enableHiveSupport()\n",
    "        .getOrCreate()\n",
    "    )\n",
    "\n",
    "    SedonaRegistrator.registerAll(spark)\n",
    "\n",
    "    return spark"
   ]
  },
  {
   "cell_type": "code",
   "execution_count": 5,
   "metadata": {},
   "outputs": [],
   "source": [
    "# init the spark session:\n",
    "spark = init_spark(\"SP Atlas - Zipcode-level Feature Engineering\")"
   ]
  },
  {
   "cell_type": "code",
   "execution_count": 6,
   "metadata": {},
   "outputs": [
    {
     "data": {
      "text/html": [
       "\n",
       "            <div>\n",
       "                <p><b>SparkSession - hive</b></p>\n",
       "                \n",
       "        <div>\n",
       "            <p><b>SparkContext</b></p>\n",
       "\n",
       "            <p><a href=\"http://192.168.15.58:4040\">Spark UI</a></p>\n",
       "\n",
       "            <dl>\n",
       "              <dt>Version</dt>\n",
       "                <dd><code>v3.1.1</code></dd>\n",
       "              <dt>Master</dt>\n",
       "                <dd><code>local[*]</code></dd>\n",
       "              <dt>AppName</dt>\n",
       "                <dd><code>SP Atlas - Zipcode-level Feature Engineering</code></dd>\n",
       "            </dl>\n",
       "        </div>\n",
       "        \n",
       "            </div>\n",
       "        "
      ],
      "text/plain": [
       "<pyspark.sql.session.SparkSession at 0x7f4d7e4e12b0>"
      ]
     },
     "execution_count": 6,
     "metadata": {},
     "output_type": "execute_result"
    }
   ],
   "source": [
    "# verifying the session status:\n",
    "spark"
   ]
  },
  {
   "cell_type": "markdown",
   "metadata": {},
   "source": [
    "# 1. Loading and Inspecting the Data"
   ]
  },
  {
   "cell_type": "markdown",
   "metadata": {},
   "source": [
    "## 1.1 Additional Layers"
   ]
  },
  {
   "cell_type": "code",
   "execution_count": 7,
   "metadata": {},
   "outputs": [],
   "source": [
    "# loading the raw dataset:\n",
    "LAYERS_DATA_DIR = \"../data/raw/sp_layers/\"\n",
    "RAW_DATA_DIR = \"../data/raw/\""
   ]
  },
  {
   "cell_type": "markdown",
   "metadata": {},
   "source": [
    "### 1.1.1 Parks"
   ]
  },
  {
   "cell_type": "code",
   "execution_count": 8,
   "metadata": {},
   "outputs": [],
   "source": [
    "# loading the park data:\n",
    "df_parks = load_geospatial_file(LAYERS_DATA_DIR + \"parks/*\", spark)\n",
    "\n",
    "# convert the geometry type:\n",
    "df_parks = convert_geometry(df_parks, \"geometry\", \"epsg:29193\", \"epsg:4326\")"
   ]
  },
  {
   "cell_type": "code",
   "execution_count": 9,
   "metadata": {},
   "outputs": [],
   "source": [
    "# improving column names:\n",
    "df_parks = df_parks.select(\n",
    "    F.col(\"pq_id\").alias(\"park_id\"),\n",
    "    F.col(\"pq_area\").alias(\"park_area\"),\n",
    "    F.col(\"pq_nome\").alias(\"park_name\"),\n",
    "    F.col(\"pq_PrefReg\").alias(\"park_subprefecture\"),\n",
    "    F.col(\"geometry\"),\n",
    ")"
   ]
  },
  {
   "cell_type": "markdown",
   "metadata": {},
   "source": [
    "### 1.1.2 Favelas"
   ]
  },
  {
   "cell_type": "code",
   "execution_count": 10,
   "metadata": {},
   "outputs": [],
   "source": [
    "# loading the park data:\n",
    "df_favelas = load_geospatial_file(LAYERS_DATA_DIR + \"favelas_macro/*\", spark)\n",
    "\n",
    "# convert the geometry type:\n",
    "df_favelas = convert_geometry(df_favelas, \"geometry\", \"epsg:29193\", \"epsg:4326\")"
   ]
  },
  {
   "cell_type": "code",
   "execution_count": 11,
   "metadata": {},
   "outputs": [],
   "source": [
    "# fixing the columns:\n",
    "new_cols = [\"geometry\", \"favela_id\", \"favela_area\", \"favela_name\"]\n",
    "\n",
    "df_favelas = df_favelas.drop(\"DATULTATZ\", \"ENDERECO\", \"NOMESEC\", \"PROPRTR\")\n",
    "\n",
    "original_cols = df_favelas.columns\n",
    "cols_map = dict(zip(original_cols, new_cols))\n",
    "\n",
    "for col, new_col in cols_map.items():\n",
    "    df_favelas = df_favelas.withColumnRenamed(col, new_col)"
   ]
  },
  {
   "cell_type": "markdown",
   "metadata": {},
   "source": [
    "### 1.1.3 Train and Metro"
   ]
  },
  {
   "cell_type": "code",
   "execution_count": 12,
   "metadata": {},
   "outputs": [],
   "source": [
    "df_train = load_geospatial_file(LAYERS_DATA_DIR + \"train/*\", spark)\n",
    "df_train = convert_geometry(df_train, \"geometry\", \"epsg:29193\", \"epsg:4326\")\n",
    "\n",
    "# cleaning columns:\n",
    "df_train = df_train.select(F.col(\"geometry\"), F.col(\"etr_nome\").alias(\"station_name\"))"
   ]
  },
  {
   "cell_type": "code",
   "execution_count": 13,
   "metadata": {},
   "outputs": [],
   "source": [
    "df_metro = load_geospatial_file(LAYERS_DATA_DIR + \"metro/*\", spark)\n",
    "df_metro = convert_geometry(df_metro, \"geometry\", \"epsg:29193\", \"epsg:4326\")\n",
    "\n",
    "# cleaning columns:\n",
    "df_metro = df_metro.select(F.col(\"geometry\"), F.col(\"emt_nome\").alias(\"station_name\"))"
   ]
  },
  {
   "cell_type": "code",
   "execution_count": 14,
   "metadata": {},
   "outputs": [],
   "source": [
    "# union all dataframes:\n",
    "df_rail = df_train.union(df_metro)"
   ]
  },
  {
   "cell_type": "code",
   "execution_count": 15,
   "metadata": {},
   "outputs": [
    {
     "data": {
      "text/plain": [
       "196"
      ]
     },
     "execution_count": 15,
     "metadata": {},
     "output_type": "execute_result"
    }
   ],
   "source": [
    "# verifying the number of resulting records:\n",
    "df_rail.count()"
   ]
  },
  {
   "cell_type": "markdown",
   "metadata": {},
   "source": [
    "## 1.2 Zipcode Features"
   ]
  },
  {
   "cell_type": "code",
   "execution_count": 16,
   "metadata": {},
   "outputs": [],
   "source": [
    "# Data prep results:\n",
    "PROCESSED_DATA_DIR = \"../data/processed/\"\n",
    "\n",
    "# reading the result from the data prep:\n",
    "df_zipcode_census = spark.read.parquet(\n",
    "    PROCESSED_DATA_DIR\n",
    "    + \"sp_census/units_of_interest/zipcodes/tb_zipcode_census.parquet\"\n",
    ")\n",
    "\n",
    "df_zipcode_iptu = spark.read.parquet(\n",
    "    PROCESSED_DATA_DIR + \"sp_iptu/tb_zipcode_iptu_no_geo.parquet\"\n",
    ")\n",
    "\n",
    "df_zipcode_iptu = df_zipcode_iptu.withColumnRenamed(\"zipcode_zipcode\", \"zipcode\")"
   ]
  },
  {
   "cell_type": "code",
   "execution_count": 17,
   "metadata": {},
   "outputs": [],
   "source": [
    "# joinining the district base features:\n",
    "df_zipcode = df_zipcode_census.join(\n",
    "    df_zipcode_iptu,\n",
    "    how=\"left\",\n",
    "    on=[\"zipcode\"],\n",
    ")"
   ]
  },
  {
   "cell_type": "code",
   "execution_count": 18,
   "metadata": {},
   "outputs": [
    {
     "name": "stdout",
     "output_type": "stream",
     "text": [
      "-RECORD 0------------------------------------------------------------------------------------------------------\n",
      " zipcode                                                                               | 0.0                   \n",
      " zipcode_alphabetized_population                                                       | 0.0                   \n",
      " zipcode_area_in_hectares                                                              | 0.0                   \n",
      " zipcode_average_age_household_leaders                                                 | 0.0                   \n",
      " zipcode_average_age_women_household_leaders                                           | 0.0                   \n",
      " zipcode_average_household_income                                                      | 0.0                   \n",
      " zipcode_average_income_household_leaders                                              | 0.0                   \n",
      " zipcode_average_income_women_household_leaders                                        | 0.0                   \n",
      " zipcode_average_ipvs_factor_1                                                         | 0.0                   \n",
      " zipcode_average_ipvs_factor_1_rural                                                   | 1.0                   \n",
      " zipcode_average_ipvs_factor_2                                                         | 0.0                   \n",
      " zipcode_average_ipvs_factor_2_rural                                                   | 1.0                   \n",
      " zipcode_average_monthly_income                                                        | 6.700616456714018E-5  \n",
      " zipcode_average_number_children                                                       | 0.0014741356204770839 \n",
      " zipcode_average_per_capita_income                                                     | 0.0                   \n",
      " zipcode_average_permanent_private_households_with_10_or_more_residents                | 0.0014741356204770839 \n",
      " zipcode_average_permanent_private_households_with_1_resident                          | 0.0014741356204770839 \n",
      " zipcode_average_permanent_private_households_with_2_residents                         | 0.0014741356204770839 \n",
      " zipcode_average_permanent_private_households_with_3_residents                         | 0.0014741356204770839 \n",
      " zipcode_average_permanent_private_households_with_4_residents                         | 0.0014741356204770839 \n",
      " zipcode_average_permanent_private_households_with_5_residents                         | 0.0014741356204770839 \n",
      " zipcode_average_permanent_private_households_with_6_residents                         | 0.0014741356204770839 \n",
      " zipcode_average_permanent_private_households_with_7_residents                         | 0.0014741356204770839 \n",
      " zipcode_average_permanent_private_households_with_8_residents                         | 0.0014741356204770839 \n",
      " zipcode_average_permanent_private_households_with_9_residents                         | 0.0014741356204770839 \n",
      " zipcode_average_permanent_private_households_with_electricity                         | 0.0014741356204770839 \n",
      " zipcode_average_permanent_private_households_without_exclusive_use_bathroom_residents | 0.0014741356204770839 \n",
      " zipcode_average_permanent_private_houses_fully_owned                                  | 0.0014741356204770839 \n",
      " zipcode_average_permanent_private_houses_in_acquisition                               | 0.0014741356204770839 \n",
      " zipcode_average_permanent_private_properties_fully_owned                              | 0.0014741356204770839 \n",
      " zipcode_average_permanent_private_properties_in_acquisition                           | 0.0014741356204770839 \n",
      " zipcode_average_permanent_private_properties_rented                                   | 0.0014741356204770839 \n",
      " zipcode_average_permanent_private_rented_properties                                   | 0.0014741356204770839 \n",
      " zipcode_average_population_density                                                    | 0.0                   \n",
      " zipcode_average_prop_households_access_water                                          | 0.0                   \n",
      " zipcode_average_proportion_households_electricity                                     | 0.0                   \n",
      " zipcode_average_proportion_households_no_income                                       | 0.0                   \n",
      " zipcode_average_proportion_households_one_halft_sm_income                             | 0.0                   \n",
      " zipcode_average_proportion_households_sanitation                                      | 0.0                   \n",
      " zipcode_average_proportion_households_trash_collection                                | 0.0                   \n",
      " zipcode_average_proportion_households_two_or_more_income                              | 0.0                   \n",
      " zipcode_average_proportion_households_two_sm_income                                   | 0.0                   \n",
      " zipcode_average_proportion_househols_one_eigth_sm_income                              | 0.0                   \n",
      " zipcode_average_proportion_income_participation_in_household_responsible              | 0.0                   \n",
      " zipcode_average_proportion_literate_people                                            | 0.0                   \n",
      " zipcode_average_proportion_literate_women                                             | 0.0                   \n",
      " zipcode_average_proportion_population_up_to_5_years_age                               | 0.0                   \n",
      " zipcode_average_proportion_private_households_one_half_sm_income                      | 0.0                   \n",
      " zipcode_average_proportion_private_households_one_quarter_sm_income                   | 0.0                   \n",
      " zipcode_average_proportion_responsible_people_up_to_30_years                          | 0.0                   \n",
      " zipcode_average_proportion_women_up_to_30_years                                       | 0.0                   \n",
      " zipcode_average_residents_in_permanent_households                                     | 0.0                   \n",
      " zipcode_average_residents_per_household                                               | 6.700616456714018E-5  \n",
      " zipcode_avg_ipvs_group                                                                | 0.007906727418922541  \n",
      " zipcode_households                                                                    | 0.0                   \n",
      " zipcode_improvised_households                                                         | 0.0                   \n",
      " zipcode_literacy_rate                                                                 | 0.0                   \n",
      " zipcode_max_ipvs_group                                                                | 0.007906727418922541  \n",
      " zipcode_min_ipvs_group                                                                | 0.007906727418922541  \n",
      " zipcode_n_regions_high_social_vulnerability                                           | 0.0                   \n",
      " zipcode_n_regions_low_social_vulnerability                                            | 0.0                   \n",
      " zipcode_n_regions_medium_social_vulnerability                                         | 0.0                   \n",
      " zipcode_number_house_workers                                                          | 0.0014741356204770839 \n",
      " zipcode_number_subnormal_aglomerates                                                  | 0.0                   \n",
      " zipcode_permanent_housholds                                                           | 0.0                   \n",
      " zipcode_permanent_private_households_with_10_or_more_residents                        | 0.0014741356204770839 \n",
      " zipcode_permanent_private_households_with_1_resident                                  | 0.0014741356204770839 \n",
      " zipcode_permanent_private_households_with_2_residents                                 | 0.0014741356204770839 \n",
      " zipcode_permanent_private_households_with_3_residents                                 | 0.0014741356204770839 \n",
      " zipcode_permanent_private_households_with_4_residents                                 | 0.0014741356204770839 \n",
      " zipcode_permanent_private_households_with_5_residents                                 | 0.0014741356204770839 \n",
      " zipcode_permanent_private_households_with_6_residents                                 | 0.0014741356204770839 \n",
      " zipcode_permanent_private_households_with_7_residents                                 | 0.0014741356204770839 \n",
      " zipcode_permanent_private_households_with_8_residents                                 | 0.0014741356204770839 \n",
      " zipcode_permanent_private_households_with_9_residents                                 | 0.0014741356204770839 \n",
      " zipcode_permanent_private_households_with_electricity                                 | 0.0014741356204770839 \n",
      " zipcode_permanent_private_households_with_up_to_3_bathrooms                           | 0.0014741356204770839 \n",
      " zipcode_permanent_private_households_without_exclusive_use_bathroom_residents         | 0.0014741356204770839 \n",
      " zipcode_permanent_private_houses_fully_owned                                          | 0.0014741356204770839 \n",
      " zipcode_permanent_private_houses_in_acquisition                                       | 0.0014741356204770839 \n",
      " zipcode_permanent_private_properties_fully_owned                                      | 0.0014741356204770839 \n",
      " zipcode_permanent_private_properties_in_acquisition                                   | 0.0014741356204770839 \n",
      " zipcode_permanent_private_properties_rented                                           | 0.0014741356204770839 \n",
      " zipcode_permanent_private_rented_properties                                           | 0.0014741356204770839 \n",
      " zipcode_population                                                                    | 0.0                   \n",
      " zipcode_population_house_leaders                                                      | 0.0                   \n",
      " zipcode_residents_in_apartments                                                       | 0.0014741356204770839 \n",
      " zipcode_residents_in_collective_households                                            | 0.0                   \n",
      " zipcode_residents_in_households_acquisition                                           | 0.0014741356204770839 \n",
      " zipcode_residents_in_permanent_households                                             | 0.0014741356204770839 \n",
      " zipcode_residents_in_private_households                                               | 6.700616456714018E-5  \n",
      " zipcode_residents_in_rented_properties                                                | 0.0014741356204770839 \n",
      " geometry                                                                              | 0.0                   \n",
      " district_centroid                                                                     | 0.0                   \n",
      " zipcode_number_unique_owners                                                          | 0.12541320468149736   \n",
      " zipcode_number_property                                                               | 0.12541320468149736   \n",
      " zipcode_average_construction_year                                                     | 0.12541320468149736   \n",
      " zipcode_median_construction_year                                                      | 0.12541320468149736   \n",
      " zipcode_max_construction_year                                                         | 0.12541320468149736   \n",
      " zipcode_min_construction_year                                                         | 0.12541320468149736   \n",
      " zipcode_std_construction_year                                                         | 0.14082462253193961   \n",
      " zipcode_average_owner_start_contribution_year                                         | 0.12541320468149736   \n",
      " zipcode_median_owner_start_contribution_year                                          | 0.12541320468149736   \n",
      " zipcode_max_owner_start_contribution_year                                             | 0.12541320468149736   \n",
      " zipcode_min_owner_start_contribution_year                                             | 0.12541320468149736   \n",
      " zipcode_std_owner_start_contribution_year                                             | 0.14082462253193961   \n",
      " zipcode_average_area_built                                                            | 0.12541320468149736   \n",
      " zipcode_median_area_built                                                             | 0.12541320468149736   \n",
      " zipcode_max_area_built                                                                | 0.12541320468149736   \n",
      " zipcode_min_area_built                                                                | 0.12541320468149736   \n",
      " zipcode_std_area_built                                                                | 0.14082462253193961   \n",
      " zipcode_average_area_lot                                                              | 0.12541320468149736   \n",
      " zipcode_median_area_lot                                                               | 0.12541320468149736   \n",
      " zipcode_max_area_lot                                                                  | 0.12541320468149736   \n",
      " zipcode_min_area_lot                                                                  | 0.12541320468149736   \n",
      " zipcode_std_area_lot                                                                  | 0.14082462253193961   \n",
      " zipcode_average_area_occupied                                                         | 0.12541320468149736   \n",
      " zipcode_median_area_occupied                                                          | 0.12541320468149736   \n",
      " zipcode_max_area_occupied                                                             | 0.12541320468149736   \n",
      " zipcode_min_area_occupied                                                             | 0.12541320468149736   \n",
      " zipcode_std_area_occupied                                                             | 0.14082462253193961   \n",
      " zipcode_average_obsolescence_factor                                                   | 0.12541320468149736   \n",
      " zipcode_median_obsolescence_factor                                                    | 0.12541320468149736   \n",
      " zipcode_max_obsolescence_factor                                                       | 0.12541320468149736   \n",
      " zipcode_min_obsolescence_factor                                                       | 0.12541320468149736   \n",
      " zipcode_std_obsolescence_factor                                                       | 0.14082462253193961   \n",
      " zipcode_average_fraction_factor                                                       | 0.12541320468149736   \n",
      " zipcode_median_fraction_factor                                                        | 0.12541320468149736   \n",
      " zipcode_max_fraction_factor                                                           | 0.12541320468149736   \n",
      " zipcode_min_fraction_factor                                                           | 0.12541320468149736   \n",
      " zipcode_std_fraction_factor                                                           | 0.14082462253193961   \n",
      " zipcode_average_number_fronts_corners                                                 | 0.12541320468149736   \n",
      " zipcode_median_number_fronts_corners                                                  | 0.12541320468149736   \n",
      " zipcode_max_number_fronts_corners                                                     | 0.12541320468149736   \n",
      " zipcode_min_number_fronts_corners                                                     | 0.12541320468149736   \n",
      " zipcode_std_number_fronts_corners                                                     | 0.14082462253193961   \n",
      " zipcode_average_number_floors                                                         | 0.12541320468149736   \n",
      " zipcode_median_number_floors                                                          | 0.12541320468149736   \n",
      " zipcode_max_number_floors                                                             | 0.12541320468149736   \n",
      " zipcode_min_number_floors                                                             | 0.12541320468149736   \n",
      " zipcode_std_number_floors                                                             | 0.14082462253193961   \n",
      " zipcode_average_front_factor                                                          | 0.12541320468149736   \n",
      " zipcode_median_front_factor                                                           | 0.12541320468149736   \n",
      " zipcode_max_front_factor                                                              | 0.12541320468149736   \n",
      " zipcode_min_front_factor                                                              | 0.12541320468149736   \n",
      " zipcode_std_front_factor                                                              | 0.14082462253193961   \n",
      " zipcode_average_construction_square_meter_value                                       | 0.12541320468149736   \n",
      " zipcode_median_construction_square_meter_value                                        | 0.12541320468149736   \n",
      " zipcode_max_construction_square_meter_value                                           | 0.12541320468149736   \n",
      " zipcode_min_construction_square_meter_value                                           | 0.12541320468149736   \n",
      " zipcode_std_construction_square_meter_value                                           | 0.14082462253193961   \n",
      " zipcode_average_lot_square_meter_value                                                | 0.12541320468149736   \n",
      " zipcode_median_lot_square_meter_value                                                 | 0.12541320468149736   \n",
      " zipcode_max_lot_square_meter_value                                                    | 0.12541320468149736   \n",
      " zipcode_min_lot_square_meter_value                                                    | 0.12541320468149736   \n",
      " zipcode_std_lot_square_meter_value                                                    | 0.14082462253193961   \n",
      " zipcode_average_property_age                                                          | 0.12541320468149736   \n",
      " zipcode_median_property_age                                                           | 0.12541320468149736   \n",
      " zipcode_max_property_age                                                              | 0.12541320468149736   \n",
      " zipcode_min_property_age                                                              | 0.12541320468149736   \n",
      " zipcode_std_property_age                                                              | 0.14082462253193961   \n",
      " zipcode_average_years_of_ownership                                                    | 0.12541320468149736   \n",
      " zipcode_median_years_of_ownership                                                     | 0.12541320468149736   \n",
      " zipcode_max_years_of_ownership                                                        | 0.12541320468149736   \n",
      " zipcode_min_years_of_ownership                                                        | 0.12541320468149736   \n",
      " zipcode_std_years_of_ownership                                                        | 0.14082462253193961   \n",
      "\n"
     ]
    }
   ],
   "source": [
    "# verifying the data integrity:\n",
    "get_null_columns(df_zipcode, normalize=True)  # looks good to go"
   ]
  },
  {
   "cell_type": "markdown",
   "metadata": {},
   "source": [
    "# 2. Generating Layer-based Features"
   ]
  },
  {
   "cell_type": "code",
   "execution_count": 19,
   "metadata": {},
   "outputs": [],
   "source": [
    "# registering dataframes to sql context:\n",
    "df_zipcode.createOrReplaceTempView(\"tb_zipcode\")\n",
    "df_rail.createOrReplaceTempView(\"tb_stations\")\n",
    "df_parks.createOrReplaceTempView(\"tb_parks\")\n",
    "df_favelas.createOrReplaceTempView(\"tb_favelas\")"
   ]
  },
  {
   "cell_type": "markdown",
   "metadata": {},
   "source": [
    "## 2.1 Parks\n",
    "Considering Parks as a feature takes into account two situations:\n",
    "1. A region of any kind *containing* or *crossing* a park;\n",
    "2. The distance of a region to the closest park; \n",
    "\n",
    "Since we are comparing polygons to polygons, it doesn't make much sense calculating the distance between them. Instead, we will summarize their units such that we can compare the distance between two points. In this case, we can use their centroids. \n",
    "\n",
    "> *Note: As of writing this notebook (July 4th, 2021), writing KNN queries (which is supported by Sedona's RDD api) can be made, but I will keep this for a later iteration of this project, as I am not that comfortable with the RDD api.*"
   ]
  },
  {
   "cell_type": "code",
   "execution_count": 20,
   "metadata": {},
   "outputs": [],
   "source": [
    "# adding the centroid and area of the polygons:\n",
    "Q_PARKS = \"\"\"\n",
    "with crossings as (\n",
    "    SELECT \n",
    "        A.zipcode,\n",
    "        B.park_name,\n",
    "        B.park_area\n",
    "    FROM tb_zipcode as A, tb_parks as B\n",
    "    WHERE ST_Crosses(B.geometry, A.geometry)\n",
    "),\n",
    "\n",
    "touches as (\n",
    "    SELECT \n",
    "        A.zipcode,\n",
    "        B.park_name,\n",
    "        B.park_area\n",
    "    FROM tb_zipcode as A, tb_parks as B\n",
    "    WHERE ST_Touches(B.geometry, A.geometry)\n",
    "),\n",
    "\n",
    "full_union as (\n",
    "    SELECT * FROM crossings\n",
    "    UNION\n",
    "    SELECT * FROM touches    \n",
    ")\n",
    "\n",
    "SELECT\n",
    "    DISTINCT zipcode,\n",
    "    park_name,\n",
    "    park_area\n",
    "FROM full_union\n",
    "\"\"\"\n",
    "\n",
    "# matching the areas of ponderation to their sectors:\n",
    "df_parks_match = spark.sql(Q_PARKS)"
   ]
  },
  {
   "cell_type": "code",
   "execution_count": 21,
   "metadata": {},
   "outputs": [],
   "source": [
    "# grouping on district level to count the number of parks:\n",
    "df_zipcode_parks = df_parks_match.groupby(\"zipcode\").agg(\n",
    "    F.countDistinct(F.col(\"park_name\")).alias(\"n_parks\"),\n",
    "    F.sum(F.col(\"park_area\")).alias(\"total_park_area\"),\n",
    ")"
   ]
  },
  {
   "cell_type": "markdown",
   "metadata": {},
   "source": [
    "## 2.2 Favelas\n",
    "To address Favelas as a feature, we have the same criteria as the case of Parks."
   ]
  },
  {
   "cell_type": "code",
   "execution_count": 22,
   "metadata": {},
   "outputs": [],
   "source": [
    "# adding the centroid and area of the polygons:\n",
    "Q_FAVELAS = \"\"\"\n",
    "with crossings as (\n",
    "    SELECT \n",
    "        A.zipcode,\n",
    "        B.favela_name,\n",
    "        B.favela_area\n",
    "    FROM tb_zipcode as A, tb_favelas as B\n",
    "    WHERE ST_Crosses(B.geometry, A.geometry)\n",
    "),\n",
    "\n",
    "touches as (\n",
    "    SELECT \n",
    "        A.zipcode,\n",
    "        B.favela_name,\n",
    "        B.favela_area\n",
    "    FROM tb_zipcode as A, tb_favelas as B\n",
    "    WHERE ST_Touches(B.geometry, A.geometry)\n",
    "),\n",
    "\n",
    "full_union as (\n",
    "    SELECT * FROM crossings\n",
    "    UNION\n",
    "    SELECT * FROM touches    \n",
    ")\n",
    "\n",
    "SELECT\n",
    "    DISTINCT zipcode,\n",
    "    favela_name,\n",
    "    favela_area\n",
    "FROM full_union\n",
    "\"\"\"\n",
    "\n",
    "# matching the areas of ponderation to their sectors:\n",
    "df_favelas_match = spark.sql(Q_FAVELAS)"
   ]
  },
  {
   "cell_type": "code",
   "execution_count": 23,
   "metadata": {},
   "outputs": [],
   "source": [
    "# grouping on district level to count the number of parks:\n",
    "df_zipcode_favelas = df_favelas_match.groupby(\"zipcode\").agg(\n",
    "    F.countDistinct(F.col(\"favela_name\")).alias(\"n_favelas\"),\n",
    "    F.sum(F.col(\"favela_area\")).alias(\"total_favela_area\"),\n",
    ")"
   ]
  },
  {
   "cell_type": "markdown",
   "metadata": {},
   "source": [
    "# 3. Preparing the Layer-based features in the Neighborhood level"
   ]
  },
  {
   "cell_type": "code",
   "execution_count": 24,
   "metadata": {},
   "outputs": [],
   "source": [
    "# joining layer-based features to the main dataset:\n",
    "df_zipcode_features = df_zipcode.join(df_zipcode_parks, on=[\"zipcode\"], how=\"left\")\n",
    "\n",
    "df_zipcode_features = df_zipcode_features.join(\n",
    "    df_zipcode_favelas, on=[\"zipcode\"], how=\"left\"\n",
    ")\n",
    "\n",
    "# dropping duplicates:\n",
    "df_zipcode_features = df_zipcode_features.drop_duplicates(subset=[\"zipcode\"])"
   ]
  },
  {
   "cell_type": "code",
   "execution_count": 25,
   "metadata": {},
   "outputs": [],
   "source": [
    "# fill null values in the new columns:\n",
    "new_columns = [\"n_parks\", \"total_park_area\", \"n_favelas\", \"total_favela_area\"]\n",
    "\n",
    "df_zipcode_features = df_zipcode_features.fillna(0, subset=new_columns)"
   ]
  },
  {
   "cell_type": "code",
   "execution_count": 26,
   "metadata": {},
   "outputs": [],
   "source": [
    "# adding a prefix for the level of interest to the new columns:\n",
    "for col in new_columns:\n",
    "    df_zipcode_features = df_zipcode_features.withColumnRenamed(col, f\"zipcode_{col}\")"
   ]
  },
  {
   "cell_type": "markdown",
   "metadata": {},
   "source": [
    "# 4. Ranking-based columns\n",
    "While it is valuable to have the aggregated features as raw values, it is also quite useful to have rank-based features, as they can be effectively a way to represent the categorical entities (the `district`, for example) directly as some sort of \"embedding\". I will generate some key features using this principle next using the `rank_feature` helper function, which, by default, transforms features into their `percent_rank` representation."
   ]
  },
  {
   "cell_type": "code",
   "execution_count": 27,
   "metadata": {},
   "outputs": [],
   "source": [
    "# adding rank on literacy rate -> the lowest literacy rate, the lower the rank\n",
    "df_zipcode_features = rank_feature(df_zipcode_features, \"zipcode_literacy_rate\")"
   ]
  },
  {
   "cell_type": "code",
   "execution_count": 28,
   "metadata": {},
   "outputs": [],
   "source": [
    "# adding rank on monthly income\n",
    "df_zipcode_features = rank_feature(\n",
    "    df_zipcode_features, \"zipcode_average_monthly_income\"\n",
    ")"
   ]
  },
  {
   "cell_type": "code",
   "execution_count": 29,
   "metadata": {},
   "outputs": [],
   "source": [
    "# adding rank on per capita income\n",
    "df_zipcode_features = rank_feature(\n",
    "    df_zipcode_features, \"zipcode_average_per_capita_income\"\n",
    ")"
   ]
  },
  {
   "cell_type": "code",
   "execution_count": 30,
   "metadata": {},
   "outputs": [],
   "source": [
    "# adding rank on population (raw)\n",
    "df_zipcode_features = rank_feature(df_zipcode_features, \"zipcode_population\")"
   ]
  },
  {
   "cell_type": "code",
   "execution_count": 31,
   "metadata": {},
   "outputs": [],
   "source": [
    "# adding rank on lot and construction square meter valuess\n",
    "df_zipcode_features = rank_feature(\n",
    "    df_zipcode_features, \"zipcode_average_lot_square_meter_value\"\n",
    ")\n",
    "\n",
    "df_zipcode_features = rank_feature(\n",
    "    df_zipcode_features, \"zipcode_average_construction_square_meter_value\"\n",
    ")"
   ]
  },
  {
   "cell_type": "code",
   "execution_count": 32,
   "metadata": {},
   "outputs": [],
   "source": [
    "# adding rank on property_age -> the newer the properties, the higher the rank\n",
    "df_zipcode_features = rank_feature(\n",
    "    df_zipcode_features, \"zipcode_average_property_age\", ascending=False\n",
    ")"
   ]
  },
  {
   "cell_type": "code",
   "execution_count": 33,
   "metadata": {},
   "outputs": [
    {
     "data": {
      "text/html": [
       "<table border='1'>\n",
       "<tr><th>zipcode</th><th>zipcode_alphabetized_population</th><th>zipcode_area_in_hectares</th><th>zipcode_average_age_household_leaders</th><th>zipcode_average_age_women_household_leaders</th><th>zipcode_average_household_income</th><th>zipcode_average_income_household_leaders</th><th>zipcode_average_income_women_household_leaders</th><th>zipcode_average_ipvs_factor_1</th><th>zipcode_average_ipvs_factor_1_rural</th><th>zipcode_average_ipvs_factor_2</th><th>zipcode_average_ipvs_factor_2_rural</th><th>zipcode_average_monthly_income</th><th>zipcode_average_number_children</th><th>zipcode_average_per_capita_income</th><th>zipcode_average_permanent_private_households_with_10_or_more_residents</th><th>zipcode_average_permanent_private_households_with_1_resident</th><th>zipcode_average_permanent_private_households_with_2_residents</th><th>zipcode_average_permanent_private_households_with_3_residents</th><th>zipcode_average_permanent_private_households_with_4_residents</th><th>zipcode_average_permanent_private_households_with_5_residents</th><th>zipcode_average_permanent_private_households_with_6_residents</th><th>zipcode_average_permanent_private_households_with_7_residents</th><th>zipcode_average_permanent_private_households_with_8_residents</th><th>zipcode_average_permanent_private_households_with_9_residents</th><th>zipcode_average_permanent_private_households_with_electricity</th><th>zipcode_average_permanent_private_households_without_exclusive_use_bathroom_residents</th><th>zipcode_average_permanent_private_houses_fully_owned</th><th>zipcode_average_permanent_private_houses_in_acquisition</th><th>zipcode_average_permanent_private_properties_fully_owned</th><th>zipcode_average_permanent_private_properties_in_acquisition</th><th>zipcode_average_permanent_private_properties_rented</th><th>zipcode_average_permanent_private_rented_properties</th><th>zipcode_average_population_density</th><th>zipcode_average_prop_households_access_water</th><th>zipcode_average_proportion_households_electricity</th><th>zipcode_average_proportion_households_no_income</th><th>zipcode_average_proportion_households_one_halft_sm_income</th><th>zipcode_average_proportion_households_sanitation</th><th>zipcode_average_proportion_households_trash_collection</th><th>zipcode_average_proportion_households_two_or_more_income</th><th>zipcode_average_proportion_households_two_sm_income</th><th>zipcode_average_proportion_househols_one_eigth_sm_income</th><th>zipcode_average_proportion_income_participation_in_household_responsible</th><th>zipcode_average_proportion_literate_people</th><th>zipcode_average_proportion_literate_women</th><th>zipcode_average_proportion_population_up_to_5_years_age</th><th>zipcode_average_proportion_private_households_one_half_sm_income</th><th>zipcode_average_proportion_private_households_one_quarter_sm_income</th><th>zipcode_average_proportion_responsible_people_up_to_30_years</th><th>zipcode_average_proportion_women_up_to_30_years</th><th>zipcode_average_residents_in_permanent_households</th><th>zipcode_average_residents_per_household</th><th>zipcode_avg_ipvs_group</th><th>zipcode_households</th><th>zipcode_improvised_households</th><th>zipcode_literacy_rate</th><th>zipcode_max_ipvs_group</th><th>zipcode_min_ipvs_group</th><th>zipcode_n_regions_high_social_vulnerability</th><th>zipcode_n_regions_low_social_vulnerability</th><th>zipcode_n_regions_medium_social_vulnerability</th><th>zipcode_number_house_workers</th><th>zipcode_number_subnormal_aglomerates</th><th>zipcode_permanent_housholds</th><th>zipcode_permanent_private_households_with_10_or_more_residents</th><th>zipcode_permanent_private_households_with_1_resident</th><th>zipcode_permanent_private_households_with_2_residents</th><th>zipcode_permanent_private_households_with_3_residents</th><th>zipcode_permanent_private_households_with_4_residents</th><th>zipcode_permanent_private_households_with_5_residents</th><th>zipcode_permanent_private_households_with_6_residents</th><th>zipcode_permanent_private_households_with_7_residents</th><th>zipcode_permanent_private_households_with_8_residents</th><th>zipcode_permanent_private_households_with_9_residents</th><th>zipcode_permanent_private_households_with_electricity</th><th>zipcode_permanent_private_households_with_up_to_3_bathrooms</th><th>zipcode_permanent_private_households_without_exclusive_use_bathroom_residents</th><th>zipcode_permanent_private_houses_fully_owned</th><th>zipcode_permanent_private_houses_in_acquisition</th><th>zipcode_permanent_private_properties_fully_owned</th><th>zipcode_permanent_private_properties_in_acquisition</th><th>zipcode_permanent_private_properties_rented</th><th>zipcode_permanent_private_rented_properties</th><th>zipcode_population</th><th>zipcode_population_house_leaders</th><th>zipcode_residents_in_apartments</th><th>zipcode_residents_in_collective_households</th><th>zipcode_residents_in_households_acquisition</th><th>zipcode_residents_in_permanent_households</th><th>zipcode_residents_in_private_households</th><th>zipcode_residents_in_rented_properties</th><th>geometry</th><th>district_centroid</th><th>zipcode_number_unique_owners</th><th>zipcode_number_property</th><th>zipcode_average_construction_year</th><th>zipcode_median_construction_year</th><th>zipcode_max_construction_year</th><th>zipcode_min_construction_year</th><th>zipcode_std_construction_year</th><th>zipcode_average_owner_start_contribution_year</th><th>zipcode_median_owner_start_contribution_year</th><th>zipcode_max_owner_start_contribution_year</th><th>zipcode_min_owner_start_contribution_year</th><th>zipcode_std_owner_start_contribution_year</th><th>zipcode_average_area_built</th><th>zipcode_median_area_built</th><th>zipcode_max_area_built</th><th>zipcode_min_area_built</th><th>zipcode_std_area_built</th><th>zipcode_average_area_lot</th><th>zipcode_median_area_lot</th><th>zipcode_max_area_lot</th><th>zipcode_min_area_lot</th><th>zipcode_std_area_lot</th><th>zipcode_average_area_occupied</th><th>zipcode_median_area_occupied</th><th>zipcode_max_area_occupied</th><th>zipcode_min_area_occupied</th><th>zipcode_std_area_occupied</th><th>zipcode_average_obsolescence_factor</th><th>zipcode_median_obsolescence_factor</th><th>zipcode_max_obsolescence_factor</th><th>zipcode_min_obsolescence_factor</th><th>zipcode_std_obsolescence_factor</th><th>zipcode_average_fraction_factor</th><th>zipcode_median_fraction_factor</th><th>zipcode_max_fraction_factor</th><th>zipcode_min_fraction_factor</th><th>zipcode_std_fraction_factor</th><th>zipcode_average_number_fronts_corners</th><th>zipcode_median_number_fronts_corners</th><th>zipcode_max_number_fronts_corners</th><th>zipcode_min_number_fronts_corners</th><th>zipcode_std_number_fronts_corners</th><th>zipcode_average_number_floors</th><th>zipcode_median_number_floors</th><th>zipcode_max_number_floors</th><th>zipcode_min_number_floors</th><th>zipcode_std_number_floors</th><th>zipcode_average_front_factor</th><th>zipcode_median_front_factor</th><th>zipcode_max_front_factor</th><th>zipcode_min_front_factor</th><th>zipcode_std_front_factor</th><th>zipcode_average_construction_square_meter_value</th><th>zipcode_median_construction_square_meter_value</th><th>zipcode_max_construction_square_meter_value</th><th>zipcode_min_construction_square_meter_value</th><th>zipcode_std_construction_square_meter_value</th><th>zipcode_average_lot_square_meter_value</th><th>zipcode_median_lot_square_meter_value</th><th>zipcode_max_lot_square_meter_value</th><th>zipcode_min_lot_square_meter_value</th><th>zipcode_std_lot_square_meter_value</th><th>zipcode_average_property_age</th><th>zipcode_median_property_age</th><th>zipcode_max_property_age</th><th>zipcode_min_property_age</th><th>zipcode_std_property_age</th><th>zipcode_average_years_of_ownership</th><th>zipcode_median_years_of_ownership</th><th>zipcode_max_years_of_ownership</th><th>zipcode_min_years_of_ownership</th><th>zipcode_std_years_of_ownership</th><th>zipcode_n_parks</th><th>zipcode_total_park_area</th><th>zipcode_n_favelas</th><th>zipcode_total_favela_area</th><th>score_zipcode_literacy_rate</th><th>score_zipcode_average_monthly_income</th><th>score_zipcode_average_per_capita_income</th><th>score_zipcode_population</th><th>score_zipcode_average_lot_square_meter_value</th><th>score_zipcode_average_construction_square_meter_value</th><th>score_zipcode_average_property_age</th></tr>\n",
       "<tr><td>05727200</td><td>581.0</td><td>9.187928</td><td>43.6235</td><td>46.3146</td><td>11421.9963</td><td>7623.5517</td><td>3163.70835</td><td>1.96135</td><td>null</td><td>0.63695</td><td>null</td><td>7623.55</td><td>10.5</td><td>4270.50605</td><td>0.0</td><td>13.5</td><td>39.0</td><td>28.0</td><td>24.0</td><td>4.0</td><td>1.0</td><td>0.0</td><td>0.0</td><td>0.0</td><td>109.5</td><td>0.0</td><td>22.5</td><td>19.0</td><td>67.5</td><td>33.5</td><td>8.0</td><td>3.0</td><td>70.259293</td><td>99.63505</td><td>100.0</td><td>7.917949999999999</td><td>1.0949</td><td>99.63505</td><td>100.0</td><td>80.02935</td><td>10.957799999999999</td><td>0.0</td><td>66.2163</td><td>99.27005</td><td>100.0</td><td>10.7821</td><td>1.0949</td><td>0.36495</td><td>7.5574</td><td>7.91665</td><td>2.666</td><td>2.665</td><td>1.0</td><td>270</td><td>0</td><td>1.1118760757314974</td><td>1</td><td>1</td><td>0</td><td>2</td><td>0</td><td>5.0</td><td>0</td><td>219</td><td>0.0</td><td>27.0</td><td>78.0</td><td>56.0</td><td>48.0</td><td>8.0</td><td>2.0</td><td>0.0</td><td>0.0</td><td>0.0</td><td>219.0</td><td>83.0</td><td>0.0</td><td>45.0</td><td>38.0</td><td>135.0</td><td>67.0</td><td>16.0</td><td>6.0</td><td>646.0</td><td>219</td><td>343.0</td><td>646.0</td><td>188.0</td><td>367.0</td><td>595.0</td><td>38.0</td><td>LINESTRING (-46.7...</td><td>POINT (-46.738399...</td><td>2</td><td>0</td><td>0.0</td><td>0</td><td>0</td><td>0</td><td>0.0</td><td>1963.0</td><td>1963</td><td>1963</td><td>1963</td><td>0.0</td><td>0.0</td><td>0</td><td>0</td><td>0</td><td>0.0</td><td>339.0</td><td>302</td><td>376</td><td>302</td><td>52.32590180780452</td><td>0.0</td><td>0</td><td>0</td><td>0</td><td>0.0</td><td>0.0</td><td>0.0</td><td>0.0</td><td>0.0</td><td>0.0</td><td>1.0</td><td>1.0</td><td>1.0</td><td>1.0</td><td>0.0</td><td>0.0</td><td>0</td><td>0</td><td>0</td><td>0.0</td><td>0.0</td><td>0</td><td>0</td><td>0</td><td>0.0</td><td>10.0</td><td>10.0</td><td>10.0</td><td>10.0</td><td>0.0</td><td>0.0</td><td>0.0</td><td>0.0</td><td>0.0</td><td>0.0</td><td>656.0</td><td>656.0</td><td>656.0</td><td>656.0</td><td>0.0</td><td>2017.0</td><td>2017</td><td>2017</td><td>2017</td><td>0.0</td><td>54.0</td><td>54</td><td>54</td><td>54</td><td>0.0</td><td>0</td><td>0.0</td><td>0</td><td>0.0</td><td>0.6282414956109982</td><td>0.9589243036787206</td><td>0.9621853431909049</td><td>0.2534899823546492</td><td>0.6006120033057113</td><td>0.12541600589667418</td><td>0.0</td></tr>\n",
       "<tr><td>04858300</td><td>1096.0</td><td>39.905212</td><td>41.1639</td><td>43.1737</td><td>1446.235</td><td>794.0164</td><td>556.1078</td><td>-0.7613</td><td>null</td><td>0.5744</td><td>null</td><td>794.02</td><td>121.0</td><td>402.5262</td><td>1.0</td><td>30.0</td><td>53.0</td><td>95.0</td><td>102.0</td><td>52.0</td><td>23.0</td><td>6.0</td><td>2.0</td><td>2.0</td><td>366.0</td><td>0.0</td><td>166.0</td><td>111.0</td><td>166.0</td><td>111.0</td><td>64.0</td><td>64.0</td><td>32.953089</td><td>99.1803</td><td>100.0</td><td>8.1967</td><td>24.3169</td><td>100.0</td><td>100.0</td><td>6.5574</td><td>59.5628</td><td>1.3661</td><td>54.9023</td><td>93.9891</td><td>92.8144</td><td>10.5703</td><td>25.6831</td><td>6.0109</td><td>16.9399</td><td>13.1737</td><td>3.5929</td><td>3.59</td><td>8.0</td><td>366</td><td>0</td><td>1.1998175182481752</td><td>8</td><td>8</td><td>1</td><td>0</td><td>0</td><td>0.0</td><td>0</td><td>366</td><td>1.0</td><td>30.0</td><td>53.0</td><td>95.0</td><td>102.0</td><td>52.0</td><td>23.0</td><td>6.0</td><td>2.0</td><td>2.0</td><td>366.0</td><td>2.0</td><td>0.0</td><td>166.0</td><td>111.0</td><td>166.0</td><td>111.0</td><td>64.0</td><td>64.0</td><td>1315.0</td><td>366</td><td>0.0</td><td>1315.0</td><td>421.0</td><td>613.0</td><td>1315.0</td><td>187.0</td><td>LINESTRING (-46.7...</td><td>POINT (-46.711443...</td><td>20</td><td>20</td><td>0.0</td><td>0</td><td>0</td><td>0</td><td>0.0</td><td>1984.0</td><td>1984</td><td>1984</td><td>1984</td><td>0.0</td><td>0.0</td><td>0</td><td>0</td><td>0</td><td>0.0</td><td>157.3</td><td>153</td><td>312</td><td>126</td><td>38.04305040622435</td><td>0.0</td><td>0</td><td>0</td><td>0</td><td>0.0</td><td>0.0</td><td>0.0</td><td>0.0</td><td>0.0</td><td>0.0</td><td>1.0</td><td>1.0</td><td>1.0</td><td>1.0</td><td>0.0</td><td>0.05</td><td>0</td><td>1</td><td>0</td><td>0.22360679774997896</td><td>0.0</td><td>0</td><td>0</td><td>0</td><td>0.0</td><td>5.4</td><td>5.0</td><td>12.0</td><td>5.0</td><td>1.5694450913417908</td><td>0.0</td><td>0.0</td><td>0.0</td><td>0.0</td><td>0.0</td><td>45.0</td><td>45.0</td><td>45.0</td><td>45.0</td><td>0.0</td><td>2017.0</td><td>2017</td><td>2017</td><td>2017</td><td>0.0</td><td>33.0</td><td>33</td><td>33</td><td>33</td><td>0.0</td><td>0</td><td>0.0</td><td>0</td><td>0.0</td><td>0.9579638605347212</td><td>0.12170824864309486</td><td>0.06506443903419624</td><td>0.7169373031649952</td><td>0.12541600589667418</td><td>0.12541600589667418</td><td>0.0</td></tr>\n",
       "<tr><td>05734030</td><td>578.0</td><td>13.865616</td><td>45.69</td><td>50.1967</td><td>2806.76</td><td>1510.75</td><td>962.9508</td><td>-0.0854</td><td>null</td><td>-0.2245</td><td>null</td><td>1510.75</td><td>36.0</td><td>857.026</td><td>0.0</td><td>27.0</td><td>42.0</td><td>49.0</td><td>43.0</td><td>23.0</td><td>7.0</td><td>5.0</td><td>3.0</td><td>1.0</td><td>200.0</td><td>0.0</td><td>133.0</td><td>2.0</td><td>146.0</td><td>6.0</td><td>44.0</td><td>36.0</td><td>47.239157</td><td>100.0</td><td>100.0</td><td>9.5</td><td>12.0</td><td>98.0</td><td>100.0</td><td>26.5</td><td>52.0</td><td>0.0</td><td>53.8254</td><td>97.0</td><td>91.8033</td><td>9.313</td><td>12.0</td><td>2.0</td><td>12.5</td><td>4.918</td><td>3.275</td><td>3.28</td><td>3.0</td><td>200</td><td>0</td><td>1.1332179930795847</td><td>3</td><td>3</td><td>0</td><td>1</td><td>0</td><td>0.0</td><td>0</td><td>200</td><td>0.0</td><td>27.0</td><td>42.0</td><td>49.0</td><td>43.0</td><td>23.0</td><td>7.0</td><td>5.0</td><td>3.0</td><td>1.0</td><td>200.0</td><td>14.0</td><td>0.0</td><td>133.0</td><td>2.0</td><td>146.0</td><td>6.0</td><td>44.0</td><td>36.0</td><td>655.0</td><td>200</td><td>0.0</td><td>655.0</td><td>20.0</td><td>481.0</td><td>655.0</td><td>144.0</td><td>LINESTRING (-46.7...</td><td>POINT (-46.744050...</td><td>1</td><td>0</td><td>0.0</td><td>0</td><td>0</td><td>0</td><td>null</td><td>1963.0</td><td>1963</td><td>1963</td><td>1963</td><td>null</td><td>0.0</td><td>0</td><td>0</td><td>0</td><td>null</td><td>292.0</td><td>292</td><td>292</td><td>292</td><td>null</td><td>0.0</td><td>0</td><td>0</td><td>0</td><td>null</td><td>0.0</td><td>0.0</td><td>0.0</td><td>0.0</td><td>null</td><td>1.0</td><td>1.0</td><td>1.0</td><td>1.0</td><td>null</td><td>0.0</td><td>0</td><td>0</td><td>0</td><td>null</td><td>0.0</td><td>0</td><td>0</td><td>0</td><td>null</td><td>29.0</td><td>29.0</td><td>29.0</td><td>29.0</td><td>null</td><td>0.0</td><td>0.0</td><td>0.0</td><td>0.0</td><td>null</td><td>656.0</td><td>656.0</td><td>656.0</td><td>656.0</td><td>null</td><td>2017.0</td><td>2017</td><td>2017</td><td>2017</td><td>null</td><td>54.0</td><td>54</td><td>54</td><td>54</td><td>null</td><td>0</td><td>0.0</td><td>0</td><td>0.0</td><td>0.7592638091621808</td><td>0.5474525920796944</td><td>0.5188626566304081</td><td>0.26166491702217953</td><td>0.6006120033057113</td><td>0.12541600589667418</td><td>0.0</td></tr>\n",
       "<tr><td>04861010</td><td>13.0</td><td>65.542237</td><td>43.5714</td><td>43.6667</td><td>1284.0</td><td>681.1429</td><td>529.0</td><td>0.0</td><td>null</td><td>0.0</td><td>null</td><td>681.14</td><td>0.0</td><td>561.75</td><td>0.0</td><td>2.0</td><td>2.0</td><td>2.0</td><td>1.0</td><td>0.0</td><td>0.0</td><td>0.0</td><td>0.0</td><td>0.0</td><td>7.0</td><td>0.0</td><td>0.0</td><td>0.0</td><td>0.0</td><td>0.0</td><td>0.0</td><td>0.0</td><td>0.244117</td><td>85.7143</td><td>100.0</td><td>0.0</td><td>14.2857</td><td>42.8571</td><td>85.7143</td><td>14.2857</td><td>71.4286</td><td>0.0</td><td>53.0485</td><td>100.0</td><td>100.0</td><td>0.0</td><td>14.2857</td><td>0.0</td><td>28.5714</td><td>33.3333</td><td>2.2857</td><td>2.29</td><td>null</td><td>7</td><td>0</td><td>1.2307692307692308</td><td>null</td><td>null</td><td>0</td><td>1</td><td>0</td><td>0.0</td><td>0</td><td>7</td><td>0.0</td><td>2.0</td><td>2.0</td><td>2.0</td><td>1.0</td><td>0.0</td><td>0.0</td><td>0.0</td><td>0.0</td><td>0.0</td><td>7.0</td><td>0.0</td><td>0.0</td><td>0.0</td><td>0.0</td><td>0.0</td><td>0.0</td><td>0.0</td><td>0.0</td><td>16.0</td><td>7</td><td>0.0</td><td>16.0</td><td>0.0</td><td>0.0</td><td>16.0</td><td>0.0</td><td>LINESTRING (-46.7...</td><td>POINT (-46.713294...</td><td>2</td><td>0</td><td>0.0</td><td>0</td><td>0</td><td>0</td><td>0.0</td><td>1982.0</td><td>1982</td><td>1982</td><td>1982</td><td>0.0</td><td>0.0</td><td>0</td><td>0</td><td>0</td><td>0.0</td><td>5300.0</td><td>5250</td><td>5350</td><td>5250</td><td>70.71067811865476</td><td>0.0</td><td>0</td><td>0</td><td>0</td><td>0.0</td><td>0.0</td><td>0.0</td><td>0.0</td><td>0.0</td><td>0.0</td><td>1.0</td><td>1.0</td><td>1.0</td><td>1.0</td><td>0.0</td><td>0.0</td><td>0</td><td>0</td><td>0</td><td>0.0</td><td>0.0</td><td>0</td><td>0</td><td>0</td><td>0.0</td><td>53.25</td><td>44.0</td><td>62.5</td><td>44.0</td><td>13.08147545195113</td><td>0.0</td><td>0.0</td><td>0.0</td><td>0.0</td><td>0.0</td><td>46.0</td><td>46.0</td><td>46.0</td><td>46.0</td><td>0.0</td><td>2017.0</td><td>2017</td><td>2017</td><td>2017</td><td>0.0</td><td>35.0</td><td>35</td><td>35</td><td>35</td><td>0.0</td><td>0</td><td>0.0</td><td>0</td><td>0.0</td><td>0.9828013669562887</td><td>0.0590337495253624</td><td>0.23591163923075206</td><td>5.583971767438744E-4</td><td>0.1376560720108999</td><td>0.12541600589667418</td><td>0.0</td></tr>\n",
       "<tr><td>05728020</td><td>195.0</td><td>11.748761</td><td>45.0448</td><td>47.1364</td><td>9259.1343</td><td>5656.7761</td><td>2326.3636</td><td>1.0626</td><td>null</td><td>0.126</td><td>null</td><td>5656.78</td><td>19.0</td><td>2872.0463</td><td>0.0</td><td>5.0</td><td>16.0</td><td>19.0</td><td>19.0</td><td>4.0</td><td>2.0</td><td>2.0</td><td>0.0</td><td>0.0</td><td>67.0</td><td>0.0</td><td>7.0</td><td>0.0</td><td>56.0</td><td>1.0</td><td>8.0</td><td>3.0</td><td>18.384917</td><td>100.0</td><td>100.0</td><td>5.9701</td><td>7.4627</td><td>95.5224</td><td>100.0</td><td>74.6269</td><td>11.9403</td><td>0.0</td><td>61.094</td><td>97.0149</td><td>90.9091</td><td>8.3333</td><td>7.4627</td><td>1.4925</td><td>7.4627</td><td>9.0909</td><td>3.2239</td><td>3.22</td><td>3.0</td><td>67</td><td>0</td><td>1.1076923076923078</td><td>3</td><td>3</td><td>0</td><td>1</td><td>0</td><td>0.0</td><td>0</td><td>67</td><td>0.0</td><td>5.0</td><td>16.0</td><td>19.0</td><td>19.0</td><td>4.0</td><td>2.0</td><td>2.0</td><td>0.0</td><td>0.0</td><td>67.0</td><td>36.0</td><td>0.0</td><td>7.0</td><td>0.0</td><td>56.0</td><td>1.0</td><td>8.0</td><td>3.0</td><td>216.0</td><td>67</td><td>170.0</td><td>216.0</td><td>6.0</td><td>173.0</td><td>216.0</td><td>29.0</td><td>LINESTRING (-46.7...</td><td>POINT (-46.740573...</td><td>11</td><td>1</td><td>0.0</td><td>0</td><td>0</td><td>0</td><td>0.0</td><td>1963.0</td><td>1963</td><td>1963</td><td>1963</td><td>0.0</td><td>0.0</td><td>0</td><td>0</td><td>0</td><td>0.0</td><td>329.09090909090907</td><td>336</td><td>413</td><td>261</td><td>39.368653889749744</td><td>0.0</td><td>0</td><td>0</td><td>0</td><td>0.0</td><td>0.0</td><td>0.0</td><td>0.0</td><td>0.0</td><td>0.0</td><td>1.0</td><td>1.0</td><td>1.0</td><td>1.0</td><td>0.0</td><td>0.0</td><td>0</td><td>0</td><td>0</td><td>0.0</td><td>0.0</td><td>0</td><td>0</td><td>0</td><td>0.0</td><td>13.629090916026723</td><td>13.0</td><td>18.0</td><td>10.0</td><td>2.0652624724449002</td><td>0.0</td><td>0.0</td><td>0.0</td><td>0.0</td><td>0.0</td><td>656.0</td><td>656.0</td><td>656.0</td><td>656.0</td><td>0.0</td><td>2017.0</td><td>2017</td><td>2017</td><td>2017</td><td>0.0</td><td>54.0</td><td>54</td><td>54</td><td>54</td><td>0.0</td><td>0</td><td>0.0</td><td>0</td><td>0.0</td><td>0.5981997275021778</td><td>0.9274307029103661</td><td>0.905831900113913</td><td>0.012820799178039357</td><td>0.6006120033057113</td><td>0.12541600589667418</td><td>0.0</td></tr>\n",
       "</table>\n",
       "only showing top 5 rows\n"
      ],
      "text/plain": [
       "+--------+-------------------------------+------------------------+-------------------------------------+-------------------------------------------+--------------------------------+----------------------------------------+----------------------------------------------+-----------------------------+-----------------------------------+-----------------------------+-----------------------------------+------------------------------+-------------------------------+---------------------------------+----------------------------------------------------------------------+------------------------------------------------------------+-------------------------------------------------------------+-------------------------------------------------------------+-------------------------------------------------------------+-------------------------------------------------------------+-------------------------------------------------------------+-------------------------------------------------------------+-------------------------------------------------------------+-------------------------------------------------------------+-------------------------------------------------------------+-------------------------------------------------------------------------------------+----------------------------------------------------+-------------------------------------------------------+--------------------------------------------------------+-----------------------------------------------------------+---------------------------------------------------+---------------------------------------------------+----------------------------------+--------------------------------------------+-------------------------------------------------+-----------------------------------------------+---------------------------------------------------------+------------------------------------------------+------------------------------------------------------+--------------------------------------------------------+---------------------------------------------------+--------------------------------------------------------+------------------------------------------------------------------------+------------------------------------------+-----------------------------------------+-------------------------------------------------------+----------------------------------------------------------------+-------------------------------------------------------------------+------------------------------------------------------------+-----------------------------------------------+-------------------------------------------------+---------------------------------------+----------------------+------------------+-----------------------------+---------------------+----------------------+----------------------+-------------------------------------------+------------------------------------------+---------------------------------------------+----------------------------+------------------------------------+---------------------------+--------------------------------------------------------------+----------------------------------------------------+-----------------------------------------------------+-----------------------------------------------------+-----------------------------------------------------+-----------------------------------------------------+-----------------------------------------------------+-----------------------------------------------------+-----------------------------------------------------+-----------------------------------------------------+-----------------------------------------------------+-----------------------------------------------------------+-----------------------------------------------------------------------------+--------------------------------------------+-----------------------------------------------+------------------------------------------------+---------------------------------------------------+-------------------------------------------+-------------------------------------------+------------------+--------------------------------+-------------------------------+------------------------------------------+-------------------------------------------+-----------------------------------------+---------------------------------------+--------------------------------------+--------------------+--------------------+----------------------------+-----------------------+---------------------------------+--------------------------------+-----------------------------+-----------------------------+-----------------------------+---------------------------------------------+--------------------------------------------+-----------------------------------------+-----------------------------------------+-----------------------------------------+--------------------------+-------------------------+----------------------+----------------------+----------------------+------------------------+-----------------------+--------------------+--------------------+--------------------+-----------------------------+----------------------------+-------------------------+-------------------------+-------------------------+-----------------------------------+----------------------------------+-------------------------------+-------------------------------+-------------------------------+-------------------------------+------------------------------+---------------------------+---------------------------+---------------------------+-------------------------------------+------------------------------------+---------------------------------+---------------------------------+---------------------------------+-----------------------------+----------------------------+-------------------------+-------------------------+-------------------------+----------------------------+---------------------------+------------------------+------------------------+------------------------+-----------------------------------------------+----------------------------------------------+-------------------------------------------+-------------------------------------------+-------------------------------------------+--------------------------------------+-------------------------------------+----------------------------------+----------------------------------+----------------------------------+----------------------------+---------------------------+------------------------+------------------------+------------------------+----------------------------------+---------------------------------+------------------------------+------------------------------+------------------------------+---------------+-----------------------+-----------------+-------------------------+---------------------------+------------------------------------+---------------------------------------+------------------------+--------------------------------------------+-----------------------------------------------------+----------------------------------+\n",
       "| zipcode|zipcode_alphabetized_population|zipcode_area_in_hectares|zipcode_average_age_household_leaders|zipcode_average_age_women_household_leaders|zipcode_average_household_income|zipcode_average_income_household_leaders|zipcode_average_income_women_household_leaders|zipcode_average_ipvs_factor_1|zipcode_average_ipvs_factor_1_rural|zipcode_average_ipvs_factor_2|zipcode_average_ipvs_factor_2_rural|zipcode_average_monthly_income|zipcode_average_number_children|zipcode_average_per_capita_income|zipcode_average_permanent_private_households_with_10_or_more_residents|zipcode_average_permanent_private_households_with_1_resident|zipcode_average_permanent_private_households_with_2_residents|zipcode_average_permanent_private_households_with_3_residents|zipcode_average_permanent_private_households_with_4_residents|zipcode_average_permanent_private_households_with_5_residents|zipcode_average_permanent_private_households_with_6_residents|zipcode_average_permanent_private_households_with_7_residents|zipcode_average_permanent_private_households_with_8_residents|zipcode_average_permanent_private_households_with_9_residents|zipcode_average_permanent_private_households_with_electricity|zipcode_average_permanent_private_households_without_exclusive_use_bathroom_residents|zipcode_average_permanent_private_houses_fully_owned|zipcode_average_permanent_private_houses_in_acquisition|zipcode_average_permanent_private_properties_fully_owned|zipcode_average_permanent_private_properties_in_acquisition|zipcode_average_permanent_private_properties_rented|zipcode_average_permanent_private_rented_properties|zipcode_average_population_density|zipcode_average_prop_households_access_water|zipcode_average_proportion_households_electricity|zipcode_average_proportion_households_no_income|zipcode_average_proportion_households_one_halft_sm_income|zipcode_average_proportion_households_sanitation|zipcode_average_proportion_households_trash_collection|zipcode_average_proportion_households_two_or_more_income|zipcode_average_proportion_households_two_sm_income|zipcode_average_proportion_househols_one_eigth_sm_income|zipcode_average_proportion_income_participation_in_household_responsible|zipcode_average_proportion_literate_people|zipcode_average_proportion_literate_women|zipcode_average_proportion_population_up_to_5_years_age|zipcode_average_proportion_private_households_one_half_sm_income|zipcode_average_proportion_private_households_one_quarter_sm_income|zipcode_average_proportion_responsible_people_up_to_30_years|zipcode_average_proportion_women_up_to_30_years|zipcode_average_residents_in_permanent_households|zipcode_average_residents_per_household|zipcode_avg_ipvs_group|zipcode_households|zipcode_improvised_households|zipcode_literacy_rate|zipcode_max_ipvs_group|zipcode_min_ipvs_group|zipcode_n_regions_high_social_vulnerability|zipcode_n_regions_low_social_vulnerability|zipcode_n_regions_medium_social_vulnerability|zipcode_number_house_workers|zipcode_number_subnormal_aglomerates|zipcode_permanent_housholds|zipcode_permanent_private_households_with_10_or_more_residents|zipcode_permanent_private_households_with_1_resident|zipcode_permanent_private_households_with_2_residents|zipcode_permanent_private_households_with_3_residents|zipcode_permanent_private_households_with_4_residents|zipcode_permanent_private_households_with_5_residents|zipcode_permanent_private_households_with_6_residents|zipcode_permanent_private_households_with_7_residents|zipcode_permanent_private_households_with_8_residents|zipcode_permanent_private_households_with_9_residents|zipcode_permanent_private_households_with_electricity|zipcode_permanent_private_households_with_up_to_3_bathrooms|zipcode_permanent_private_households_without_exclusive_use_bathroom_residents|zipcode_permanent_private_houses_fully_owned|zipcode_permanent_private_houses_in_acquisition|zipcode_permanent_private_properties_fully_owned|zipcode_permanent_private_properties_in_acquisition|zipcode_permanent_private_properties_rented|zipcode_permanent_private_rented_properties|zipcode_population|zipcode_population_house_leaders|zipcode_residents_in_apartments|zipcode_residents_in_collective_households|zipcode_residents_in_households_acquisition|zipcode_residents_in_permanent_households|zipcode_residents_in_private_households|zipcode_residents_in_rented_properties|            geometry|   district_centroid|zipcode_number_unique_owners|zipcode_number_property|zipcode_average_construction_year|zipcode_median_construction_year|zipcode_max_construction_year|zipcode_min_construction_year|zipcode_std_construction_year|zipcode_average_owner_start_contribution_year|zipcode_median_owner_start_contribution_year|zipcode_max_owner_start_contribution_year|zipcode_min_owner_start_contribution_year|zipcode_std_owner_start_contribution_year|zipcode_average_area_built|zipcode_median_area_built|zipcode_max_area_built|zipcode_min_area_built|zipcode_std_area_built|zipcode_average_area_lot|zipcode_median_area_lot|zipcode_max_area_lot|zipcode_min_area_lot|zipcode_std_area_lot|zipcode_average_area_occupied|zipcode_median_area_occupied|zipcode_max_area_occupied|zipcode_min_area_occupied|zipcode_std_area_occupied|zipcode_average_obsolescence_factor|zipcode_median_obsolescence_factor|zipcode_max_obsolescence_factor|zipcode_min_obsolescence_factor|zipcode_std_obsolescence_factor|zipcode_average_fraction_factor|zipcode_median_fraction_factor|zipcode_max_fraction_factor|zipcode_min_fraction_factor|zipcode_std_fraction_factor|zipcode_average_number_fronts_corners|zipcode_median_number_fronts_corners|zipcode_max_number_fronts_corners|zipcode_min_number_fronts_corners|zipcode_std_number_fronts_corners|zipcode_average_number_floors|zipcode_median_number_floors|zipcode_max_number_floors|zipcode_min_number_floors|zipcode_std_number_floors|zipcode_average_front_factor|zipcode_median_front_factor|zipcode_max_front_factor|zipcode_min_front_factor|zipcode_std_front_factor|zipcode_average_construction_square_meter_value|zipcode_median_construction_square_meter_value|zipcode_max_construction_square_meter_value|zipcode_min_construction_square_meter_value|zipcode_std_construction_square_meter_value|zipcode_average_lot_square_meter_value|zipcode_median_lot_square_meter_value|zipcode_max_lot_square_meter_value|zipcode_min_lot_square_meter_value|zipcode_std_lot_square_meter_value|zipcode_average_property_age|zipcode_median_property_age|zipcode_max_property_age|zipcode_min_property_age|zipcode_std_property_age|zipcode_average_years_of_ownership|zipcode_median_years_of_ownership|zipcode_max_years_of_ownership|zipcode_min_years_of_ownership|zipcode_std_years_of_ownership|zipcode_n_parks|zipcode_total_park_area|zipcode_n_favelas|zipcode_total_favela_area|score_zipcode_literacy_rate|score_zipcode_average_monthly_income|score_zipcode_average_per_capita_income|score_zipcode_population|score_zipcode_average_lot_square_meter_value|score_zipcode_average_construction_square_meter_value|score_zipcode_average_property_age|\n",
       "+--------+-------------------------------+------------------------+-------------------------------------+-------------------------------------------+--------------------------------+----------------------------------------+----------------------------------------------+-----------------------------+-----------------------------------+-----------------------------+-----------------------------------+------------------------------+-------------------------------+---------------------------------+----------------------------------------------------------------------+------------------------------------------------------------+-------------------------------------------------------------+-------------------------------------------------------------+-------------------------------------------------------------+-------------------------------------------------------------+-------------------------------------------------------------+-------------------------------------------------------------+-------------------------------------------------------------+-------------------------------------------------------------+-------------------------------------------------------------+-------------------------------------------------------------------------------------+----------------------------------------------------+-------------------------------------------------------+--------------------------------------------------------+-----------------------------------------------------------+---------------------------------------------------+---------------------------------------------------+----------------------------------+--------------------------------------------+-------------------------------------------------+-----------------------------------------------+---------------------------------------------------------+------------------------------------------------+------------------------------------------------------+--------------------------------------------------------+---------------------------------------------------+--------------------------------------------------------+------------------------------------------------------------------------+------------------------------------------+-----------------------------------------+-------------------------------------------------------+----------------------------------------------------------------+-------------------------------------------------------------------+------------------------------------------------------------+-----------------------------------------------+-------------------------------------------------+---------------------------------------+----------------------+------------------+-----------------------------+---------------------+----------------------+----------------------+-------------------------------------------+------------------------------------------+---------------------------------------------+----------------------------+------------------------------------+---------------------------+--------------------------------------------------------------+----------------------------------------------------+-----------------------------------------------------+-----------------------------------------------------+-----------------------------------------------------+-----------------------------------------------------+-----------------------------------------------------+-----------------------------------------------------+-----------------------------------------------------+-----------------------------------------------------+-----------------------------------------------------+-----------------------------------------------------------+-----------------------------------------------------------------------------+--------------------------------------------+-----------------------------------------------+------------------------------------------------+---------------------------------------------------+-------------------------------------------+-------------------------------------------+------------------+--------------------------------+-------------------------------+------------------------------------------+-------------------------------------------+-----------------------------------------+---------------------------------------+--------------------------------------+--------------------+--------------------+----------------------------+-----------------------+---------------------------------+--------------------------------+-----------------------------+-----------------------------+-----------------------------+---------------------------------------------+--------------------------------------------+-----------------------------------------+-----------------------------------------+-----------------------------------------+--------------------------+-------------------------+----------------------+----------------------+----------------------+------------------------+-----------------------+--------------------+--------------------+--------------------+-----------------------------+----------------------------+-------------------------+-------------------------+-------------------------+-----------------------------------+----------------------------------+-------------------------------+-------------------------------+-------------------------------+-------------------------------+------------------------------+---------------------------+---------------------------+---------------------------+-------------------------------------+------------------------------------+---------------------------------+---------------------------------+---------------------------------+-----------------------------+----------------------------+-------------------------+-------------------------+-------------------------+----------------------------+---------------------------+------------------------+------------------------+------------------------+-----------------------------------------------+----------------------------------------------+-------------------------------------------+-------------------------------------------+-------------------------------------------+--------------------------------------+-------------------------------------+----------------------------------+----------------------------------+----------------------------------+----------------------------+---------------------------+------------------------+------------------------+------------------------+----------------------------------+---------------------------------+------------------------------+------------------------------+------------------------------+---------------+-----------------------+-----------------+-------------------------+---------------------------+------------------------------------+---------------------------------------+------------------------+--------------------------------------------+-----------------------------------------------------+----------------------------------+\n",
       "|05727200|                          581.0|                9.187928|                              43.6235|                                    46.3146|                      11421.9963|                               7623.5517|                                    3163.70835|                      1.96135|                               null|                      0.63695|                               null|                       7623.55|                           10.5|                       4270.50605|                                                                   0.0|                                                        13.5|                                                         39.0|                                                         28.0|                                                         24.0|                                                          4.0|                                                          1.0|                                                          0.0|                                                          0.0|                                                          0.0|                                                        109.5|                                                                                  0.0|                                                22.5|                                                   19.0|                                                    67.5|                                                       33.5|                                                8.0|                                                3.0|                         70.259293|                                    99.63505|                                            100.0|                              7.917949999999999|                                                   1.0949|                                        99.63505|                                                 100.0|                                                80.02935|                                 10.957799999999999|                                                     0.0|                                                                 66.2163|                                  99.27005|                                    100.0|                                                10.7821|                                                          1.0949|                                                            0.36495|                                                      7.5574|                                        7.91665|                                            2.666|                                  2.665|                   1.0|               270|                            0|   1.1118760757314974|                     1|                     1|                                          0|                                         2|                                            0|                         5.0|                                   0|                        219|                                                           0.0|                                                27.0|                                                 78.0|                                                 56.0|                                                 48.0|                                                  8.0|                                                  2.0|                                                  0.0|                                                  0.0|                                                  0.0|                                                219.0|                                                       83.0|                                                                          0.0|                                        45.0|                                           38.0|                                           135.0|                                               67.0|                                       16.0|                                        6.0|             646.0|                             219|                          343.0|                                     646.0|                                      188.0|                                    367.0|                                  595.0|                                  38.0|LINESTRING (-46.7...|POINT (-46.738399...|                           2|                      0|                              0.0|                               0|                            0|                            0|                          0.0|                                       1963.0|                                        1963|                                     1963|                                     1963|                                      0.0|                       0.0|                        0|                     0|                     0|                   0.0|                   339.0|                    302|                 376|                 302|   52.32590180780452|                          0.0|                           0|                        0|                        0|                      0.0|                                0.0|                               0.0|                            0.0|                            0.0|                            0.0|                            1.0|                           1.0|                        1.0|                        1.0|                        0.0|                                  0.0|                                   0|                                0|                                0|                              0.0|                          0.0|                           0|                        0|                        0|                      0.0|                        10.0|                       10.0|                    10.0|                    10.0|                     0.0|                                            0.0|                                           0.0|                                        0.0|                                        0.0|                                        0.0|                                 656.0|                                656.0|                             656.0|                             656.0|                               0.0|                      2017.0|                       2017|                    2017|                    2017|                     0.0|                              54.0|                               54|                            54|                            54|                           0.0|              0|                    0.0|                0|                      0.0|         0.6282414956109982|                  0.9589243036787206|                     0.9621853431909049|      0.2534899823546492|                          0.6006120033057113|                                  0.12541600589667418|                               0.0|\n",
       "|04858300|                         1096.0|               39.905212|                              41.1639|                                    43.1737|                        1446.235|                                794.0164|                                      556.1078|                      -0.7613|                               null|                       0.5744|                               null|                        794.02|                          121.0|                         402.5262|                                                                   1.0|                                                        30.0|                                                         53.0|                                                         95.0|                                                        102.0|                                                         52.0|                                                         23.0|                                                          6.0|                                                          2.0|                                                          2.0|                                                        366.0|                                                                                  0.0|                                               166.0|                                                  111.0|                                                   166.0|                                                      111.0|                                               64.0|                                               64.0|                         32.953089|                                     99.1803|                                            100.0|                                         8.1967|                                                  24.3169|                                           100.0|                                                 100.0|                                                  6.5574|                                            59.5628|                                                  1.3661|                                                                 54.9023|                                   93.9891|                                  92.8144|                                                10.5703|                                                         25.6831|                                                             6.0109|                                                     16.9399|                                        13.1737|                                           3.5929|                                   3.59|                   8.0|               366|                            0|   1.1998175182481752|                     8|                     8|                                          1|                                         0|                                            0|                         0.0|                                   0|                        366|                                                           1.0|                                                30.0|                                                 53.0|                                                 95.0|                                                102.0|                                                 52.0|                                                 23.0|                                                  6.0|                                                  2.0|                                                  2.0|                                                366.0|                                                        2.0|                                                                          0.0|                                       166.0|                                          111.0|                                           166.0|                                              111.0|                                       64.0|                                       64.0|            1315.0|                             366|                            0.0|                                    1315.0|                                      421.0|                                    613.0|                                 1315.0|                                 187.0|LINESTRING (-46.7...|POINT (-46.711443...|                          20|                     20|                              0.0|                               0|                            0|                            0|                          0.0|                                       1984.0|                                        1984|                                     1984|                                     1984|                                      0.0|                       0.0|                        0|                     0|                     0|                   0.0|                   157.3|                    153|                 312|                 126|   38.04305040622435|                          0.0|                           0|                        0|                        0|                      0.0|                                0.0|                               0.0|                            0.0|                            0.0|                            0.0|                            1.0|                           1.0|                        1.0|                        1.0|                        0.0|                                 0.05|                                   0|                                1|                                0|              0.22360679774997896|                          0.0|                           0|                        0|                        0|                      0.0|                         5.4|                        5.0|                    12.0|                     5.0|      1.5694450913417908|                                            0.0|                                           0.0|                                        0.0|                                        0.0|                                        0.0|                                  45.0|                                 45.0|                              45.0|                              45.0|                               0.0|                      2017.0|                       2017|                    2017|                    2017|                     0.0|                              33.0|                               33|                            33|                            33|                           0.0|              0|                    0.0|                0|                      0.0|         0.9579638605347212|                 0.12170824864309486|                    0.06506443903419624|      0.7169373031649952|                         0.12541600589667418|                                  0.12541600589667418|                               0.0|\n",
       "|05734030|                          578.0|               13.865616|                                45.69|                                    50.1967|                         2806.76|                                 1510.75|                                      962.9508|                      -0.0854|                               null|                      -0.2245|                               null|                       1510.75|                           36.0|                          857.026|                                                                   0.0|                                                        27.0|                                                         42.0|                                                         49.0|                                                         43.0|                                                         23.0|                                                          7.0|                                                          5.0|                                                          3.0|                                                          1.0|                                                        200.0|                                                                                  0.0|                                               133.0|                                                    2.0|                                                   146.0|                                                        6.0|                                               44.0|                                               36.0|                         47.239157|                                       100.0|                                            100.0|                                            9.5|                                                     12.0|                                            98.0|                                                 100.0|                                                    26.5|                                               52.0|                                                     0.0|                                                                 53.8254|                                      97.0|                                  91.8033|                                                  9.313|                                                            12.0|                                                                2.0|                                                        12.5|                                          4.918|                                            3.275|                                   3.28|                   3.0|               200|                            0|   1.1332179930795847|                     3|                     3|                                          0|                                         1|                                            0|                         0.0|                                   0|                        200|                                                           0.0|                                                27.0|                                                 42.0|                                                 49.0|                                                 43.0|                                                 23.0|                                                  7.0|                                                  5.0|                                                  3.0|                                                  1.0|                                                200.0|                                                       14.0|                                                                          0.0|                                       133.0|                                            2.0|                                           146.0|                                                6.0|                                       44.0|                                       36.0|             655.0|                             200|                            0.0|                                     655.0|                                       20.0|                                    481.0|                                  655.0|                                 144.0|LINESTRING (-46.7...|POINT (-46.744050...|                           1|                      0|                              0.0|                               0|                            0|                            0|                         null|                                       1963.0|                                        1963|                                     1963|                                     1963|                                     null|                       0.0|                        0|                     0|                     0|                  null|                   292.0|                    292|                 292|                 292|                null|                          0.0|                           0|                        0|                        0|                     null|                                0.0|                               0.0|                            0.0|                            0.0|                           null|                            1.0|                           1.0|                        1.0|                        1.0|                       null|                                  0.0|                                   0|                                0|                                0|                             null|                          0.0|                           0|                        0|                        0|                     null|                        29.0|                       29.0|                    29.0|                    29.0|                    null|                                            0.0|                                           0.0|                                        0.0|                                        0.0|                                       null|                                 656.0|                                656.0|                             656.0|                             656.0|                              null|                      2017.0|                       2017|                    2017|                    2017|                    null|                              54.0|                               54|                            54|                            54|                          null|              0|                    0.0|                0|                      0.0|         0.7592638091621808|                  0.5474525920796944|                     0.5188626566304081|     0.26166491702217953|                          0.6006120033057113|                                  0.12541600589667418|                               0.0|\n",
       "|04861010|                           13.0|               65.542237|                              43.5714|                                    43.6667|                          1284.0|                                681.1429|                                         529.0|                          0.0|                               null|                          0.0|                               null|                        681.14|                            0.0|                           561.75|                                                                   0.0|                                                         2.0|                                                          2.0|                                                          2.0|                                                          1.0|                                                          0.0|                                                          0.0|                                                          0.0|                                                          0.0|                                                          0.0|                                                          7.0|                                                                                  0.0|                                                 0.0|                                                    0.0|                                                     0.0|                                                        0.0|                                                0.0|                                                0.0|                          0.244117|                                     85.7143|                                            100.0|                                            0.0|                                                  14.2857|                                         42.8571|                                               85.7143|                                                 14.2857|                                            71.4286|                                                     0.0|                                                                 53.0485|                                     100.0|                                    100.0|                                                    0.0|                                                         14.2857|                                                                0.0|                                                     28.5714|                                        33.3333|                                           2.2857|                                   2.29|                  null|                 7|                            0|   1.2307692307692308|                  null|                  null|                                          0|                                         1|                                            0|                         0.0|                                   0|                          7|                                                           0.0|                                                 2.0|                                                  2.0|                                                  2.0|                                                  1.0|                                                  0.0|                                                  0.0|                                                  0.0|                                                  0.0|                                                  0.0|                                                  7.0|                                                        0.0|                                                                          0.0|                                         0.0|                                            0.0|                                             0.0|                                                0.0|                                        0.0|                                        0.0|              16.0|                               7|                            0.0|                                      16.0|                                        0.0|                                      0.0|                                   16.0|                                   0.0|LINESTRING (-46.7...|POINT (-46.713294...|                           2|                      0|                              0.0|                               0|                            0|                            0|                          0.0|                                       1982.0|                                        1982|                                     1982|                                     1982|                                      0.0|                       0.0|                        0|                     0|                     0|                   0.0|                  5300.0|                   5250|                5350|                5250|   70.71067811865476|                          0.0|                           0|                        0|                        0|                      0.0|                                0.0|                               0.0|                            0.0|                            0.0|                            0.0|                            1.0|                           1.0|                        1.0|                        1.0|                        0.0|                                  0.0|                                   0|                                0|                                0|                              0.0|                          0.0|                           0|                        0|                        0|                      0.0|                       53.25|                       44.0|                    62.5|                    44.0|       13.08147545195113|                                            0.0|                                           0.0|                                        0.0|                                        0.0|                                        0.0|                                  46.0|                                 46.0|                              46.0|                              46.0|                               0.0|                      2017.0|                       2017|                    2017|                    2017|                     0.0|                              35.0|                               35|                            35|                            35|                           0.0|              0|                    0.0|                0|                      0.0|         0.9828013669562887|                  0.0590337495253624|                    0.23591163923075206|    5.583971767438744E-4|                          0.1376560720108999|                                  0.12541600589667418|                               0.0|\n",
       "|05728020|                          195.0|               11.748761|                              45.0448|                                    47.1364|                       9259.1343|                               5656.7761|                                     2326.3636|                       1.0626|                               null|                        0.126|                               null|                       5656.78|                           19.0|                        2872.0463|                                                                   0.0|                                                         5.0|                                                         16.0|                                                         19.0|                                                         19.0|                                                          4.0|                                                          2.0|                                                          2.0|                                                          0.0|                                                          0.0|                                                         67.0|                                                                                  0.0|                                                 7.0|                                                    0.0|                                                    56.0|                                                        1.0|                                                8.0|                                                3.0|                         18.384917|                                       100.0|                                            100.0|                                         5.9701|                                                   7.4627|                                         95.5224|                                                 100.0|                                                 74.6269|                                            11.9403|                                                     0.0|                                                                  61.094|                                   97.0149|                                  90.9091|                                                 8.3333|                                                          7.4627|                                                             1.4925|                                                      7.4627|                                         9.0909|                                           3.2239|                                   3.22|                   3.0|                67|                            0|   1.1076923076923078|                     3|                     3|                                          0|                                         1|                                            0|                         0.0|                                   0|                         67|                                                           0.0|                                                 5.0|                                                 16.0|                                                 19.0|                                                 19.0|                                                  4.0|                                                  2.0|                                                  2.0|                                                  0.0|                                                  0.0|                                                 67.0|                                                       36.0|                                                                          0.0|                                         7.0|                                            0.0|                                            56.0|                                                1.0|                                        8.0|                                        3.0|             216.0|                              67|                          170.0|                                     216.0|                                        6.0|                                    173.0|                                  216.0|                                  29.0|LINESTRING (-46.7...|POINT (-46.740573...|                          11|                      1|                              0.0|                               0|                            0|                            0|                          0.0|                                       1963.0|                                        1963|                                     1963|                                     1963|                                      0.0|                       0.0|                        0|                     0|                     0|                   0.0|      329.09090909090907|                    336|                 413|                 261|  39.368653889749744|                          0.0|                           0|                        0|                        0|                      0.0|                                0.0|                               0.0|                            0.0|                            0.0|                            0.0|                            1.0|                           1.0|                        1.0|                        1.0|                        0.0|                                  0.0|                                   0|                                0|                                0|                              0.0|                          0.0|                           0|                        0|                        0|                      0.0|          13.629090916026723|                       13.0|                    18.0|                    10.0|      2.0652624724449002|                                            0.0|                                           0.0|                                        0.0|                                        0.0|                                        0.0|                                 656.0|                                656.0|                             656.0|                             656.0|                               0.0|                      2017.0|                       2017|                    2017|                    2017|                     0.0|                              54.0|                               54|                            54|                            54|                           0.0|              0|                    0.0|                0|                      0.0|         0.5981997275021778|                  0.9274307029103661|                      0.905831900113913|    0.012820799178039357|                          0.6006120033057113|                                  0.12541600589667418|                               0.0|\n",
       "+--------+-------------------------------+------------------------+-------------------------------------+-------------------------------------------+--------------------------------+----------------------------------------+----------------------------------------------+-----------------------------+-----------------------------------+-----------------------------+-----------------------------------+------------------------------+-------------------------------+---------------------------------+----------------------------------------------------------------------+------------------------------------------------------------+-------------------------------------------------------------+-------------------------------------------------------------+-------------------------------------------------------------+-------------------------------------------------------------+-------------------------------------------------------------+-------------------------------------------------------------+-------------------------------------------------------------+-------------------------------------------------------------+-------------------------------------------------------------+-------------------------------------------------------------------------------------+----------------------------------------------------+-------------------------------------------------------+--------------------------------------------------------+-----------------------------------------------------------+---------------------------------------------------+---------------------------------------------------+----------------------------------+--------------------------------------------+-------------------------------------------------+-----------------------------------------------+---------------------------------------------------------+------------------------------------------------+------------------------------------------------------+--------------------------------------------------------+---------------------------------------------------+--------------------------------------------------------+------------------------------------------------------------------------+------------------------------------------+-----------------------------------------+-------------------------------------------------------+----------------------------------------------------------------+-------------------------------------------------------------------+------------------------------------------------------------+-----------------------------------------------+-------------------------------------------------+---------------------------------------+----------------------+------------------+-----------------------------+---------------------+----------------------+----------------------+-------------------------------------------+------------------------------------------+---------------------------------------------+----------------------------+------------------------------------+---------------------------+--------------------------------------------------------------+----------------------------------------------------+-----------------------------------------------------+-----------------------------------------------------+-----------------------------------------------------+-----------------------------------------------------+-----------------------------------------------------+-----------------------------------------------------+-----------------------------------------------------+-----------------------------------------------------+-----------------------------------------------------+-----------------------------------------------------------+-----------------------------------------------------------------------------+--------------------------------------------+-----------------------------------------------+------------------------------------------------+---------------------------------------------------+-------------------------------------------+-------------------------------------------+------------------+--------------------------------+-------------------------------+------------------------------------------+-------------------------------------------+-----------------------------------------+---------------------------------------+--------------------------------------+--------------------+--------------------+----------------------------+-----------------------+---------------------------------+--------------------------------+-----------------------------+-----------------------------+-----------------------------+---------------------------------------------+--------------------------------------------+-----------------------------------------+-----------------------------------------+-----------------------------------------+--------------------------+-------------------------+----------------------+----------------------+----------------------+------------------------+-----------------------+--------------------+--------------------+--------------------+-----------------------------+----------------------------+-------------------------+-------------------------+-------------------------+-----------------------------------+----------------------------------+-------------------------------+-------------------------------+-------------------------------+-------------------------------+------------------------------+---------------------------+---------------------------+---------------------------+-------------------------------------+------------------------------------+---------------------------------+---------------------------------+---------------------------------+-----------------------------+----------------------------+-------------------------+-------------------------+-------------------------+----------------------------+---------------------------+------------------------+------------------------+------------------------+-----------------------------------------------+----------------------------------------------+-------------------------------------------+-------------------------------------------+-------------------------------------------+--------------------------------------+-------------------------------------+----------------------------------+----------------------------------+----------------------------------+----------------------------+---------------------------+------------------------+------------------------+------------------------+----------------------------------+---------------------------------+------------------------------+------------------------------+------------------------------+---------------+-----------------------+-----------------+-------------------------+---------------------------+------------------------------------+---------------------------------------+------------------------+--------------------------------------------+-----------------------------------------------------+----------------------------------+\n",
       "only showing top 5 rows"
      ]
     },
     "execution_count": 33,
     "metadata": {},
     "output_type": "execute_result"
    }
   ],
   "source": [
    "# persisting the dataset to avoid heap space problems:\n",
    "df_zipcode_features.cache()"
   ]
  },
  {
   "cell_type": "code",
   "execution_count": 34,
   "metadata": {},
   "outputs": [],
   "source": [
    "# removing the other datasets:\n",
    "del df_parks\n",
    "del df_favelas\n",
    "del df_zipcode\n",
    "del df_rail"
   ]
  },
  {
   "cell_type": "markdown",
   "metadata": {},
   "source": [
    "# 5. Exporting Neighborhood Features"
   ]
  },
  {
   "cell_type": "code",
   "execution_count": 35,
   "metadata": {},
   "outputs": [
    {
     "data": {
      "text/plain": [
       "True"
      ]
     },
     "execution_count": 35,
     "metadata": {},
     "output_type": "execute_result"
    }
   ],
   "source": [
    "# save the results to the specified directory:\n",
    "ZIPCODE_OUTPUT = f\"zipcode/tb_zipcode\"\n",
    "FEATURE_UNITS_OF_INTEREST = \"../data/feature/units_of_interest/\"\n",
    "\n",
    "df_zipcode_features = df_zipcode_features.drop(\"zipcode_centroid\", \"district_centroid\")\n",
    "\n",
    "save_geospatial_file(\n",
    "    df_zipcode_features,\n",
    "    FEATURE_UNITS_OF_INTEREST + ZIPCODE_OUTPUT + \".parquet\",\n",
    ")"
   ]
  },
  {
   "cell_type": "code",
   "execution_count": 36,
   "metadata": {},
   "outputs": [
    {
     "data": {
      "text/plain": [
       "True"
      ]
     },
     "execution_count": 36,
     "metadata": {},
     "output_type": "execute_result"
    }
   ],
   "source": [
    "# saving the results without geometries:\n",
    "ZIPCODE_NO_GEO = f\"zipcode/tb_zipcode_no_geo\"\n",
    "\n",
    "df_zipcode_no_geo = df_zipcode_features.drop(\"geometry\")\n",
    "\n",
    "save_to_filesystem(\n",
    "    df_zipcode_no_geo,\n",
    "    FEATURE_UNITS_OF_INTEREST,\n",
    "    ZIPCODE_NO_GEO,\n",
    "    ZIPCODE_NO_GEO + \".parquet\",\n",
    ")"
   ]
  }
 ],
 "metadata": {
  "kernelspec": {
   "display_name": "Python 3",
   "language": "python",
   "name": "python3"
  },
  "language_info": {
   "codemirror_mode": {
    "name": "ipython",
    "version": 3
   },
   "file_extension": ".py",
   "mimetype": "text/x-python",
   "name": "python",
   "nbconvert_exporter": "python",
   "pygments_lexer": "ipython3",
   "version": "3.8.8"
  }
 },
 "nbformat": 4,
 "nbformat_minor": 4
}
