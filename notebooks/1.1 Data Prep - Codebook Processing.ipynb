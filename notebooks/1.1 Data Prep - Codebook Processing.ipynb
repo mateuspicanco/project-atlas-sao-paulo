{
 "cells": [
  {
   "cell_type": "markdown",
   "metadata": {},
   "source": [
    "# Data Prep - Codebook Processing\n",
    "As we've seen before, the Census and IPVS datasets, there are many coded variables present in these datasets. Such that they can be easily interpreted, it's best that we create better names for them. For that, we will use the official codebooks and the descriptions of the variables to create such names."
   ]
  },
  {
   "cell_type": "code",
   "execution_count": 1,
   "metadata": {},
   "outputs": [],
   "source": [
    "# installing dependencies for data preparation\n",
    "!pip install -r ../configs/dependencies/dataprep_requirements.txt >> ../configs/dependencies/package_installation.txt"
   ]
  },
  {
   "cell_type": "code",
   "execution_count": 2,
   "metadata": {},
   "outputs": [],
   "source": [
    "# loading the magic command for the formatter\n",
    "%load_ext autoreload\n",
    "%load_ext lab_black\n",
    "%autoreload 2"
   ]
  },
  {
   "cell_type": "code",
   "execution_count": 3,
   "metadata": {},
   "outputs": [],
   "source": [
    "###### Loading the necessary libraries #########\n",
    "\n",
    "# PySpark dependencies:s\n",
    "import pyspark\n",
    "from pyspark import SparkConf\n",
    "from pyspark import SparkContext\n",
    "from pyspark.sql import SparkSession\n",
    "from pyspark.sql import SQLContext\n",
    "import pyspark.sql.functions as F\n",
    "from pyspark.sql.functions import udf\n",
    "import pyspark.sql.types as T\n",
    "from pyspark.sql.window import Window\n",
    "\n",
    "# Sedona dependencies:\n",
    "from sedona.utils.adapter import Adapter\n",
    "from sedona.register import SedonaRegistrator\n",
    "from sedona.utils import KryoSerializer, SedonaKryoRegistrator\n",
    "from sedona.core.SpatialRDD import SpatialRDD\n",
    "from sedona.core.formatMapper.shapefileParser import ShapefileReader\n",
    "from sedona.core.formatMapper import GeoJsonReader\n",
    "\n",
    "# database utilities:\n",
    "from sqlalchemy import create_engine\n",
    "import sqlite3 as db\n",
    "import pandas as pd\n",
    "import geopandas as gpd\n",
    "\n",
    "# plotting and data visualization:\n",
    "import matplotlib.pyplot as plt\n",
    "import seaborn as sns\n",
    "from IPython.display import HTML, Image\n",
    "\n",
    "# other relevant libraries:\n",
    "import warnings\n",
    "import unidecode\n",
    "import inflection\n",
    "import unicodedata\n",
    "from datetime import datetime, timedelta\n",
    "from functools import partial\n",
    "import json\n",
    "import re\n",
    "import os\n",
    "from glob import glob\n",
    "import shutil\n",
    "import itertools\n",
    "import chardet\n",
    "\n",
    "# importing the atlas utilities:\n",
    "from atlasutils import (\n",
    "    save_to_filesystem,\n",
    "    save_as_table,\n",
    "    rotate_xticks,\n",
    "    get_file_encoding,\n",
    "    normalize_entities,\n",
    "    standardize_variable_names,\n",
    "    apply_category_map,\n",
    ")\n",
    "\n",
    "\n",
    "# setting global parameters for visualizationsss:\n",
    "warnings.filterwarnings(\"ignore\")\n",
    "pd.set_option(\"display.precision\", 4)\n",
    "pd.set_option(\"display.float_format\", lambda x: \"%.2f\" % x)"
   ]
  },
  {
   "cell_type": "markdown",
   "metadata": {},
   "source": [
    "# 0. Configuring Spark"
   ]
  },
  {
   "cell_type": "code",
   "execution_count": 4,
   "metadata": {},
   "outputs": [],
   "source": [
    "# function to encapsulate standard spark configurations:\n",
    "def init_spark(app_name):\n",
    "\n",
    "    spark = (\n",
    "        SparkSession.builder.appName(app_name)\n",
    "        .config(\"spark.files.overwrite\", \"true\")\n",
    "        .config(\"spark.serializer\", KryoSerializer.getName)\n",
    "        .config(\"spark.kryo.registrator\", SedonaKryoRegistrator.getName)\n",
    "        .config(\n",
    "            \"spark.jars.packages\",\n",
    "            \"org.apache.sedona:sedona-python-adapter-3.0_2.12:1.0.1-incubating,\"\n",
    "            \"org.datasyslab:geotools-wrapper:geotools-24.1\",\n",
    "        )\n",
    "        .config(\"spark.sql.repl.eagerEval.enabled\", True)\n",
    "        .config(\"spark.sql.repl.eagerEval.maxNumRows\", 5)\n",
    "        .config(\"spark.sql.legacy.timeParserPolicy\", \"LEGACY\")\n",
    "        .config(\"spark.sql.parquet.compression.codec\", \"gzip\")\n",
    "        .config(\"sedona.global.charset\", \"utf8\")\n",
    "        .enableHiveSupport()\n",
    "        .getOrCreate()\n",
    "    )\n",
    "\n",
    "    SedonaRegistrator.registerAll(spark)\n",
    "\n",
    "    return spark"
   ]
  },
  {
   "cell_type": "code",
   "execution_count": 5,
   "metadata": {},
   "outputs": [],
   "source": [
    "# init the spark session:\n",
    "spark = init_spark(\"SP Atlas - Codebook Processing\")"
   ]
  },
  {
   "cell_type": "code",
   "execution_count": 6,
   "metadata": {},
   "outputs": [
    {
     "data": {
      "text/html": [
       "\n",
       "            <div>\n",
       "                <p><b>SparkSession - hive</b></p>\n",
       "                \n",
       "        <div>\n",
       "            <p><b>SparkContext</b></p>\n",
       "\n",
       "            <p><a href=\"http://192.168.15.58:4041\">Spark UI</a></p>\n",
       "\n",
       "            <dl>\n",
       "              <dt>Version</dt>\n",
       "                <dd><code>v3.1.1</code></dd>\n",
       "              <dt>Master</dt>\n",
       "                <dd><code>local[*]</code></dd>\n",
       "              <dt>AppName</dt>\n",
       "                <dd><code>SP Atlas - Codebook Processing</code></dd>\n",
       "            </dl>\n",
       "        </div>\n",
       "        \n",
       "            </div>\n",
       "        "
      ],
      "text/plain": [
       "<pyspark.sql.session.SparkSession at 0x7f92d2098fa0>"
      ]
     },
     "execution_count": 6,
     "metadata": {},
     "output_type": "execute_result"
    }
   ],
   "source": [
    "# verifying the session status:\n",
    "spark"
   ]
  },
  {
   "cell_type": "markdown",
   "metadata": {},
   "source": [
    "# 1. Inspecting the Data\n",
    "The codebooks and other kinds of official documentation about the data are located on the `references/documentation` directory."
   ]
  },
  {
   "cell_type": "code",
   "execution_count": 7,
   "metadata": {},
   "outputs": [
    {
     "name": "stdout",
     "output_type": "stream",
     "text": [
      "../references/documentation/:\n",
      "ibge  idh  ipvs  layers  rais\n",
      "\n",
      "../references/documentation/ibge:\n",
      "codebook_features_selected.json  ibge_census_codebook_atlas.xlsx\n",
      "feature_selection_ibge.csv\t ibge_census_codebook.json\n",
      "feature_selection_ibge.json\t ibge_summary_documentation.pdf\n",
      "feature_selection_ibge.xlsx\n",
      "\n",
      "../references/documentation/idh:\n",
      "idh_2010_codebook.csv  idh_2010_file_structure.csv  idh_2010_metadata.csv\n",
      "\n",
      "../references/documentation/ipvs:\n",
      "ipvs_codebook.xlsx\n",
      "\n",
      "../references/documentation/layers:\n",
      "Dicionario_Logradouro_2020_CEM.pdf\n",
      "\n",
      "../references/documentation/rais:\n",
      "rais_industry_commerce_services.xls  rais_raw_dictionary.xls\n",
      "rais_industry_dictionary.xls\n"
     ]
    }
   ],
   "source": [
    "# listing the folders for the datasets available:\n",
    "!ls --recursive ../references/documentation/"
   ]
  },
  {
   "cell_type": "code",
   "execution_count": 8,
   "metadata": {},
   "outputs": [
    {
     "data": {
      "text/html": [
       "<div>\n",
       "<style scoped>\n",
       "    .dataframe tbody tr th:only-of-type {\n",
       "        vertical-align: middle;\n",
       "    }\n",
       "\n",
       "    .dataframe tbody tr th {\n",
       "        vertical-align: top;\n",
       "    }\n",
       "\n",
       "    .dataframe thead th {\n",
       "        text-align: right;\n",
       "    }\n",
       "</style>\n",
       "<table border=\"1\" class=\"dataframe\">\n",
       "  <thead>\n",
       "    <tr style=\"text-align: right;\">\n",
       "      <th></th>\n",
       "      <th>dataset_name_pt</th>\n",
       "      <th>variable_name</th>\n",
       "      <th>is_selected</th>\n",
       "      <th>variable_description_pt</th>\n",
       "      <th>variable_description_en</th>\n",
       "    </tr>\n",
       "  </thead>\n",
       "  <tbody>\n",
       "    <tr>\n",
       "      <th>0</th>\n",
       "      <td>Básico</td>\n",
       "      <td>Cod_setor</td>\n",
       "      <td>1</td>\n",
       "      <td>Código do setor</td>\n",
       "      <td>Sector code</td>\n",
       "    </tr>\n",
       "    <tr>\n",
       "      <th>1</th>\n",
       "      <td>Básico</td>\n",
       "      <td>Cod_Grandes Regiões</td>\n",
       "      <td>1</td>\n",
       "      <td>Código das Grandes Regiões (Regiões Geográficas)</td>\n",
       "      <td>Code of Large Regions (Geographical Regions)</td>\n",
       "    </tr>\n",
       "    <tr>\n",
       "      <th>2</th>\n",
       "      <td>Básico</td>\n",
       "      <td>Nome_Grande_Regiao</td>\n",
       "      <td>1</td>\n",
       "      <td>Nome das Grandes Regiões (Regiões Geográficas)</td>\n",
       "      <td>Name of large regions (geographical regions)</td>\n",
       "    </tr>\n",
       "    <tr>\n",
       "      <th>3</th>\n",
       "      <td>Básico</td>\n",
       "      <td>Cod_UF</td>\n",
       "      <td>1</td>\n",
       "      <td>Código da Unidade da Federação</td>\n",
       "      <td>Federation Unit Code</td>\n",
       "    </tr>\n",
       "    <tr>\n",
       "      <th>4</th>\n",
       "      <td>Básico</td>\n",
       "      <td>Nome_da_UF</td>\n",
       "      <td>1</td>\n",
       "      <td>Nome da Unidade da Federação</td>\n",
       "      <td>Name of the Federation Unit</td>\n",
       "    </tr>\n",
       "  </tbody>\n",
       "</table>\n",
       "</div>"
      ],
      "text/plain": [
       "  dataset_name_pt        variable_name  is_selected  \\\n",
       "0          Básico            Cod_setor            1   \n",
       "1          Básico  Cod_Grandes Regiões            1   \n",
       "2          Básico   Nome_Grande_Regiao            1   \n",
       "3          Básico               Cod_UF            1   \n",
       "4          Básico           Nome_da_UF            1   \n",
       "\n",
       "                            variable_description_pt  \\\n",
       "0                                   Código do setor   \n",
       "1  Código das Grandes Regiões (Regiões Geográficas)   \n",
       "2    Nome das Grandes Regiões (Regiões Geográficas)   \n",
       "3                    Código da Unidade da Federação   \n",
       "4                      Nome da Unidade da Federação   \n",
       "\n",
       "                        variable_description_en  \n",
       "0                                   Sector code  \n",
       "1  Code of Large Regions (Geographical Regions)  \n",
       "2  Name of large regions (geographical regions)  \n",
       "3                          Federation Unit Code  \n",
       "4                   Name of the Federation Unit  "
      ]
     },
     "execution_count": 8,
     "metadata": {},
     "output_type": "execute_result"
    }
   ],
   "source": [
    "# get the documents path:\n",
    "DATA_DOC_PATH = \"../references/documentation/\"\n",
    "\n",
    "# loading the IBGE codebooks:\n",
    "ibge_codebook = pd.read_excel(DATA_DOC_PATH + \"ibge/ibge_census_codebook_atlas.xlsx\")\n",
    "\n",
    "# verifying the results:\n",
    "ibge_codebook.head()"
   ]
  },
  {
   "cell_type": "code",
   "execution_count": 9,
   "metadata": {},
   "outputs": [
    {
     "data": {
      "text/html": [
       "<div>\n",
       "<style scoped>\n",
       "    .dataframe tbody tr th:only-of-type {\n",
       "        vertical-align: middle;\n",
       "    }\n",
       "\n",
       "    .dataframe tbody tr th {\n",
       "        vertical-align: top;\n",
       "    }\n",
       "\n",
       "    .dataframe thead th {\n",
       "        text-align: right;\n",
       "    }\n",
       "</style>\n",
       "<table border=\"1\" class=\"dataframe\">\n",
       "  <thead>\n",
       "    <tr style=\"text-align: right;\">\n",
       "      <th></th>\n",
       "      <th>NOME DO ARQUIVO</th>\n",
       "      <th>VARIAVEL</th>\n",
       "      <th>NOME DA VARIAVEL</th>\n",
       "      <th>DESCRICAO DA VARIAVEL</th>\n",
       "      <th>FONTE</th>\n",
       "      <th>TIPO</th>\n",
       "      <th>normalized_variable</th>\n",
       "    </tr>\n",
       "  </thead>\n",
       "  <tbody>\n",
       "    <tr>\n",
       "      <th>0</th>\n",
       "      <td>IPVS 2010 EST SP</td>\n",
       "      <td>ID</td>\n",
       "      <td>Identificados</td>\n",
       "      <td>Identificados</td>\n",
       "      <td>IBGE</td>\n",
       "      <td>NÚMERO</td>\n",
       "      <td>id</td>\n",
       "    </tr>\n",
       "    <tr>\n",
       "      <th>1</th>\n",
       "      <td>IPVS 2010 EST SP</td>\n",
       "      <td>AREA</td>\n",
       "      <td>Área em Km2</td>\n",
       "      <td>Área em Km2</td>\n",
       "      <td>IBGE</td>\n",
       "      <td>TEXTO</td>\n",
       "      <td>sector_area_square_kms</td>\n",
       "    </tr>\n",
       "    <tr>\n",
       "      <th>2</th>\n",
       "      <td>IPVS 2010 EST SP</td>\n",
       "      <td>CD_GEOCODI</td>\n",
       "      <td>Código do setor censitário do IBGE</td>\n",
       "      <td>Código do setor censitário do IBGE</td>\n",
       "      <td>IBGE</td>\n",
       "      <td>NÚMERO</td>\n",
       "      <td>sector_code</td>\n",
       "    </tr>\n",
       "    <tr>\n",
       "      <th>3</th>\n",
       "      <td>IPVS 2010 EST SP</td>\n",
       "      <td>TIPO</td>\n",
       "      <td>Tipo de setor censitário</td>\n",
       "      <td>Tipo de setor censitário</td>\n",
       "      <td>IBGE</td>\n",
       "      <td>TEXTO</td>\n",
       "      <td>sector_type</td>\n",
       "    </tr>\n",
       "    <tr>\n",
       "      <th>4</th>\n",
       "      <td>IPVS 2010 EST SP</td>\n",
       "      <td>CD_GEOCODM</td>\n",
       "      <td>Código do município do IBGE</td>\n",
       "      <td>Código do município do IBGE</td>\n",
       "      <td>IBGE</td>\n",
       "      <td>NÚMERO</td>\n",
       "      <td>city_code_census</td>\n",
       "    </tr>\n",
       "  </tbody>\n",
       "</table>\n",
       "</div>"
      ],
      "text/plain": [
       "    NOME DO ARQUIVO    VARIAVEL                    NOME DA VARIAVEL  \\\n",
       "0  IPVS 2010 EST SP          ID                       Identificados   \n",
       "1  IPVS 2010 EST SP        AREA                         Área em Km2   \n",
       "2  IPVS 2010 EST SP  CD_GEOCODI  Código do setor censitário do IBGE   \n",
       "3  IPVS 2010 EST SP        TIPO            Tipo de setor censitário   \n",
       "4  IPVS 2010 EST SP  CD_GEOCODM         Código do município do IBGE   \n",
       "\n",
       "                DESCRICAO DA VARIAVEL FONTE    TIPO     normalized_variable  \n",
       "0                       Identificados  IBGE  NÚMERO                      id  \n",
       "1                         Área em Km2  IBGE   TEXTO  sector_area_square_kms  \n",
       "2  Código do setor censitário do IBGE  IBGE  NÚMERO             sector_code  \n",
       "3            Tipo de setor censitário  IBGE   TEXTO             sector_type  \n",
       "4         Código do município do IBGE  IBGE  NÚMERO        city_code_census  "
      ]
     },
     "execution_count": 9,
     "metadata": {},
     "output_type": "execute_result"
    }
   ],
   "source": [
    "# loading IPVS file:\n",
    "ipvs_codebook = pd.read_excel(\n",
    "    DATA_DOC_PATH + \"ipvs/ipvs_codebook.xlsx\", sheet_name=\"Variáveis\"\n",
    ")\n",
    "\n",
    "# looking at the results:\n",
    "ipvs_codebook.head()"
   ]
  },
  {
   "cell_type": "markdown",
   "metadata": {},
   "source": [
    "For the ipvs file, I previously labeled the variable names in the `normalized_variable` column. For the census codebook, we will have to apply an automated normalization procedure to the descriptions to obtain more reasonable variable names, since it contains more than `4000` variables. We will do that by performing some text processing operations on the dataset."
   ]
  },
  {
   "cell_type": "markdown",
   "metadata": {},
   "source": [
    "# 2. Normalizing Codebook variable names\n",
    "\n",
    "A procedure that can be done to the dataset variables is to normalize the descriptions in some way. This includes, for example, removing words that don't add meaning to the variable name (i.e stopwords) and remove textual variations that are not relevant for such use case (capitalization, accents, et cetera)."
   ]
  },
  {
   "cell_type": "code",
   "execution_count": 10,
   "metadata": {},
   "outputs": [],
   "source": [
    "# normalizing the variable names using the function from atlasutils\n",
    "ibge_codebook[\"normalized_variable\"] = ibge_codebook[\"variable_description_en\"].apply(\n",
    "    lambda code: standardize_variable_names(code)\n",
    ")\n",
    "\n",
    "# removing accents from the original variables:\n",
    "ibge_codebook.loc[:, \"simplified_variable_name\"] = ibge_codebook[\"variable_name\"].apply(\n",
    "    lambda text: unicodedata.normalize(\"NFD\", text)\n",
    "    .encode(\"ascii\", \"ignore\")\n",
    "    .decode(\"utf-8\")\n",
    "    .strip()\n",
    "    .lower()\n",
    "    .replace(\" \", \"_\")\n",
    ")"
   ]
  },
  {
   "cell_type": "code",
   "execution_count": 14,
   "metadata": {},
   "outputs": [],
   "source": [
    "# saving the results:\n",
    "ibge_codebook.to_json(\n",
    "    \"../references/documentation/ibge/codebook_features_selected.json\", orient=\"records\"\n",
    ")"
   ]
  }
 ],
 "metadata": {
  "kernelspec": {
   "display_name": "Python 3",
   "language": "python",
   "name": "python3"
  },
  "language_info": {
   "codemirror_mode": {
    "name": "ipython",
    "version": 3
   },
   "file_extension": ".py",
   "mimetype": "text/x-python",
   "name": "python",
   "nbconvert_exporter": "python",
   "pygments_lexer": "ipython3",
   "version": "3.8.8"
  }
 },
 "nbformat": 4,
 "nbformat_minor": 4
}
