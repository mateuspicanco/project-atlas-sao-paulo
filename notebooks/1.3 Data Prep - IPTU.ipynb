{
 "cells": [
  {
   "cell_type": "markdown",
   "metadata": {},
   "source": [
    "# Data Prep - IPTU Data\n",
    "The IPTU stands for the real state property tax owners pay annually to the local government administrations in the whole country. In the case of the city of São Paulo, this dataset is made available publicly and lists several relevant attributes of real state properties across the entire city. At the lowest level of geospatial reference, the properties are encoded with their zip codes, which, in the city of São Paulo, can be roughly approximated to the street the property is located at. \n",
    "\n",
    "The strategy for this data preparation phase is to prepare the features for the properties at the `zip_code` level and match it to the `zip_code` polygons / (lat, long) points so that these features can be normalized at the district level."
   ]
  },
  {
   "cell_type": "code",
   "execution_count": 1,
   "metadata": {},
   "outputs": [],
   "source": [
    "# installing dependencies for data preparation\n",
    "!pip install -r ../configs/dependencies/dataprep_requirements.txt >> ../configs/dependencies/package_installation.txt"
   ]
  },
  {
   "cell_type": "code",
   "execution_count": 2,
   "metadata": {},
   "outputs": [],
   "source": [
    "# loading the magic commands:\n",
    "%load_ext lab_black\n",
    "%load_ext autoreload\n",
    "%autoreload 2"
   ]
  },
  {
   "cell_type": "code",
   "execution_count": 3,
   "metadata": {},
   "outputs": [],
   "source": [
    "###### Loading the necessary libraries #########\n",
    "\n",
    "# PySpark dependencies:s\n",
    "import pyspark\n",
    "from pyspark import SparkConf\n",
    "from pyspark import SparkContext\n",
    "from pyspark.sql import SparkSession\n",
    "from pyspark.sql import SQLContext\n",
    "import pyspark.sql.functions as F\n",
    "from pyspark.sql.functions import udf\n",
    "import pyspark.sql.types as T\n",
    "from pyspark.sql.window import Window\n",
    "\n",
    "# Sedona dependencies:\n",
    "from sedona.utils.adapter import Adapter\n",
    "from sedona.register import SedonaRegistrator\n",
    "from sedona.utils import KryoSerializer, SedonaKryoRegistrator\n",
    "from sedona.core.SpatialRDD import SpatialRDD\n",
    "from sedona.core.formatMapper.shapefileParser import ShapefileReader\n",
    "from sedona.core.formatMapper import GeoJsonReader\n",
    "\n",
    "# database utilities:\n",
    "from sqlalchemy import create_engine\n",
    "import sqlite3 as db\n",
    "import pandas as pd\n",
    "from tqdm import tqdm\n",
    "import geopandas as gpd\n",
    "import fiona\n",
    "\n",
    "# plotting and data visualization:\n",
    "import matplotlib.pyplot as plt\n",
    "import seaborn as sns\n",
    "from IPython.display import HTML, Image\n",
    "\n",
    "# other relevant libraries:\n",
    "import warnings\n",
    "import unidecode\n",
    "import inflection\n",
    "import unicodedata\n",
    "from datetime import datetime, timedelta\n",
    "from functools import partial\n",
    "import json\n",
    "import re\n",
    "import os\n",
    "from glob import glob\n",
    "import shutil\n",
    "import itertools\n",
    "import chardet\n",
    "\n",
    "# importing the atlas utilities:\n",
    "from atlasutils import (\n",
    "    save_to_filesystem,\n",
    "    save_as_table,\n",
    "    rotate_xticks,\n",
    "    get_file_encoding,\n",
    "    normalize_entities,\n",
    "    normalize_column_name,\n",
    "    apply_category_map,\n",
    "    standardize_variable_names,\n",
    "    get_null_columns,\n",
    "    replace_decimal_separator,\n",
    "    convert_to_geopandas,\n",
    "    drop_invalid_census_columns,\n",
    "    clean_census_column_name,\n",
    "    get_file_crs,\n",
    "    get_column_values,\n",
    ")\n",
    "\n",
    "\n",
    "# setting global parameters for visualizationsss:\n",
    "warnings.filterwarnings(\"ignore\")\n",
    "pd.set_option(\"display.precision\", 4)\n",
    "pd.set_option(\"display.float_format\", lambda x: \"%.2f\" % x)"
   ]
  },
  {
   "cell_type": "markdown",
   "metadata": {},
   "source": [
    "# 0. Configuring Spark"
   ]
  },
  {
   "cell_type": "code",
   "execution_count": 4,
   "metadata": {},
   "outputs": [],
   "source": [
    "# function to encapsulate standard spark configurations:\n",
    "def init_spark(app_name):\n",
    "\n",
    "    spark = (\n",
    "        SparkSession.builder.appName(app_name)\n",
    "        .config(\"spark.files.overwrite\", \"true\")\n",
    "        .config(\"spark.serializer\", KryoSerializer.getName)\n",
    "        .config(\"spark.kryo.registrator\", SedonaKryoRegistrator.getName)\n",
    "        .config(\n",
    "            \"spark.jars.packages\",\n",
    "            \"org.apache.sedona:sedona-python-adapter-3.0_2.12:1.0.1-incubating,\"\n",
    "            \"org.datasyslab:geotools-wrapper:geotools-24.1\",\n",
    "        )\n",
    "        .config(\"spark.sql.repl.eagerEval.enabled\", True)\n",
    "        .config(\"spark.sql.repl.eagerEval.maxNumRows\", 5)\n",
    "        .config(\"spark.sql.legacy.timeParserPolicy\", \"LEGACY\")\n",
    "        .config(\"spark.sql.parquet.compression.codec\", \"gzip\")\n",
    "        .config(\"sedona.global.charset\", \"utf8\")\n",
    "        .config(\"sedona.global.index\", \"true\")\n",
    "        .enableHiveSupport()\n",
    "        .getOrCreate()\n",
    "    )\n",
    "\n",
    "    SedonaRegistrator.registerAll(spark)\n",
    "\n",
    "    return spark"
   ]
  },
  {
   "cell_type": "code",
   "execution_count": 5,
   "metadata": {},
   "outputs": [],
   "source": [
    "# init the spark session:\n",
    "spark = init_spark(\"SP Atlas - IPTU Data\")"
   ]
  },
  {
   "cell_type": "code",
   "execution_count": 6,
   "metadata": {},
   "outputs": [
    {
     "data": {
      "text/html": [
       "\n",
       "            <div>\n",
       "                <p><b>SparkSession - hive</b></p>\n",
       "                \n",
       "        <div>\n",
       "            <p><b>SparkContext</b></p>\n",
       "\n",
       "            <p><a href=\"http://192.168.15.58:4040\">Spark UI</a></p>\n",
       "\n",
       "            <dl>\n",
       "              <dt>Version</dt>\n",
       "                <dd><code>v3.1.1</code></dd>\n",
       "              <dt>Master</dt>\n",
       "                <dd><code>local[*]</code></dd>\n",
       "              <dt>AppName</dt>\n",
       "                <dd><code>SP Atlas - IPTU Data</code></dd>\n",
       "            </dl>\n",
       "        </div>\n",
       "        \n",
       "            </div>\n",
       "        "
      ],
      "text/plain": [
       "<pyspark.sql.session.SparkSession at 0x7fb5c0263370>"
      ]
     },
     "execution_count": 6,
     "metadata": {},
     "output_type": "execute_result"
    }
   ],
   "source": [
    "# verifying the session status:\n",
    "spark"
   ]
  },
  {
   "cell_type": "markdown",
   "metadata": {},
   "source": [
    "# 1. Loading and Inspecting the Data"
   ]
  },
  {
   "cell_type": "code",
   "execution_count": 7,
   "metadata": {},
   "outputs": [
    {
     "name": "stdout",
     "output_type": "stream",
     "text": [
      "{'encoding': 'ISO-8859-1', 'confidence': 0.73, 'language': ''}\n"
     ]
    }
   ],
   "source": [
    "# loading the raw dataset:\n",
    "RAW_DATA_DIR = \"../data/raw/\"\n",
    "\n",
    "# let's probe the IPTU files to verify the enconding:\n",
    "with open(RAW_DATA_DIR + \"sp_iptu/iptu_raw.csv\", \"rb\") as file:\n",
    "    # reading only a portion of the file to match the potential encoding\n",
    "    start, end = (0, 20000)\n",
    "    file.seek(start)\n",
    "    print(chardet.detect(file.read(end - start)))"
   ]
  },
  {
   "cell_type": "markdown",
   "metadata": {},
   "source": [
    "The IPTU raw datasets are large files with multiple columns. By analyzing a sample of the dataset previously, I selected the columns that will be necessary for our project and defined the schema."
   ]
  },
  {
   "cell_type": "code",
   "execution_count": 8,
   "metadata": {},
   "outputs": [],
   "source": [
    "# defining the schemas original columns:\n",
    "IPTU_COLUMNS = sorted(\n",
    "    [\n",
    "        \"CODLOG DO IMOVEL\",\n",
    "        \"NOME DE LOGRADOURO DO IMOVEL\",\n",
    "        \"NUMERO DO IMOVEL\",\n",
    "        \"NUMERO DO CONTRIBUINTE\",\n",
    "        \"CEP DO IMOVEL\",\n",
    "        \"BAIRRO DO IMOVEL\",\n",
    "        \"FRACAO IDEAL\",\n",
    "        \"AREA DO TERRENO\",\n",
    "        \"AREA CONSTRUIDA\",\n",
    "        \"AREA OCUPADA\",\n",
    "        \"VALOR DO M2 DO TERRENO\",\n",
    "        \"VALOR DO M2 DE CONSTRUCAO\",\n",
    "        \"ANO DA CONSTRUCAO CORRIGIDO\",\n",
    "        \"QUANTIDADE DE PAVIMENTOS\",\n",
    "        \"TIPO DE USO DO IMOVEL\",\n",
    "        \"ANO DE INICIO DA VIDA DO CONTRIBUINTE\",\n",
    "        \"TESTADA PARA CALCULO\",\n",
    "        \"FATOR DE OBSOLESCENCIA\",\n",
    "        \"QUANTIDADE DE ESQUINAS/FRENTES\",\n",
    "        \"TIPO DE CONTRIBUINTE 1\",\n",
    "        \"TIPO DE CONTRIBUINTE 2\",\n",
    "        \"TIPO DE PADRAO DA CONSTRUCAO\",\n",
    "        \"TIPO DE TERRENO\",\n",
    "    ]\n",
    ")\n",
    "\n",
    "# reading the dataset with the selected columns and specified encoding:\n",
    "df_iptu = spark.read.csv(\n",
    "    RAW_DATA_DIR + \"sp_iptu/iptu_raw.csv\",\n",
    "    header=True,\n",
    "    sep=\";\",\n",
    "    encoding=\"ISO-8859-1\",\n",
    ").select(*IPTU_COLUMNS)"
   ]
  },
  {
   "cell_type": "code",
   "execution_count": 9,
   "metadata": {},
   "outputs": [],
   "source": [
    "# generating an id using the some of the columns:\n",
    "df_iptu = df_iptu.withColumn(\n",
    "    \"property_id\",\n",
    "    F.concat(\n",
    "        F.col(\"CODLOG DO IMOVEL\"),\n",
    "        F.col(\"NOME DE LOGRADOURO DO IMOVEL\"),\n",
    "        F.col(\"NUMERO DO IMOVEL\"),\n",
    "    ),\n",
    ")\n",
    "\n",
    "# dropping the previous columns:\n",
    "df_iptu = df_iptu.drop(\n",
    "    \"CODLOG DO IMOVEL\", \"NOME DE LOGRADOURO DO IMOVEL\", \"NUMERO DO IMOVEL\"\n",
    ")"
   ]
  },
  {
   "cell_type": "code",
   "execution_count": 10,
   "metadata": {},
   "outputs": [
    {
     "data": {
      "text/plain": [
       "3383561"
      ]
     },
     "execution_count": 10,
     "metadata": {},
     "output_type": "execute_result"
    }
   ],
   "source": [
    "# verifying some of the results:\n",
    "df_iptu.count()"
   ]
  },
  {
   "cell_type": "code",
   "execution_count": 11,
   "metadata": {},
   "outputs": [
    {
     "name": "stdout",
     "output_type": "stream",
     "text": [
      "root\n",
      " |-- ANO DA CONSTRUCAO CORRIGIDO: string (nullable = true)\n",
      " |-- ANO DE INICIO DA VIDA DO CONTRIBUINTE: string (nullable = true)\n",
      " |-- AREA CONSTRUIDA: string (nullable = true)\n",
      " |-- AREA DO TERRENO: string (nullable = true)\n",
      " |-- AREA OCUPADA: string (nullable = true)\n",
      " |-- BAIRRO DO IMOVEL: string (nullable = true)\n",
      " |-- CEP DO IMOVEL: string (nullable = true)\n",
      " |-- FATOR DE OBSOLESCENCIA: string (nullable = true)\n",
      " |-- FRACAO IDEAL: string (nullable = true)\n",
      " |-- NUMERO DO CONTRIBUINTE: string (nullable = true)\n",
      " |-- QUANTIDADE DE ESQUINAS/FRENTES: string (nullable = true)\n",
      " |-- QUANTIDADE DE PAVIMENTOS: string (nullable = true)\n",
      " |-- TESTADA PARA CALCULO: string (nullable = true)\n",
      " |-- TIPO DE CONTRIBUINTE 1: string (nullable = true)\n",
      " |-- TIPO DE CONTRIBUINTE 2: string (nullable = true)\n",
      " |-- TIPO DE PADRAO DA CONSTRUCAO: string (nullable = true)\n",
      " |-- TIPO DE TERRENO: string (nullable = true)\n",
      " |-- TIPO DE USO DO IMOVEL: string (nullable = true)\n",
      " |-- VALOR DO M2 DE CONSTRUCAO: string (nullable = true)\n",
      " |-- VALOR DO M2 DO TERRENO: string (nullable = true)\n",
      " |-- property_id: string (nullable = true)\n",
      "\n"
     ]
    }
   ],
   "source": [
    "# verifying the schema:\n",
    "df_iptu.printSchema()"
   ]
  },
  {
   "cell_type": "code",
   "execution_count": 12,
   "metadata": {},
   "outputs": [
    {
     "name": "stdout",
     "output_type": "stream",
     "text": [
      "-RECORD 0-----------------------------------------------------\n",
      " ANO DA CONSTRUCAO CORRIGIDO           | 0.0                  \n",
      " ANO DE INICIO DA VIDA DO CONTRIBUINTE | 0.0                  \n",
      " AREA CONSTRUIDA                       | 0.0                  \n",
      " AREA DO TERRENO                       | 0.0                  \n",
      " AREA OCUPADA                          | 0.0                  \n",
      " BAIRRO DO IMOVEL                      | 0.3584179507920797   \n",
      " CEP DO IMOVEL                         | 0.0                  \n",
      " FATOR DE OBSOLESCENCIA                | 0.0                  \n",
      " FRACAO IDEAL                          | 0.0                  \n",
      " NUMERO DO CONTRIBUINTE                | 0.0                  \n",
      " QUANTIDADE DE ESQUINAS/FRENTES        | 0.0                  \n",
      " QUANTIDADE DE PAVIMENTOS              | 0.0                  \n",
      " TESTADA PARA CALCULO                  | 0.0                  \n",
      " TIPO DE CONTRIBUINTE 1                | 0.019362440931314673 \n",
      " TIPO DE CONTRIBUINTE 2                | 0.7923495394349326   \n",
      " TIPO DE PADRAO DA CONSTRUCAO          | 0.0                  \n",
      " TIPO DE TERRENO                       | 0.0                  \n",
      " TIPO DE USO DO IMOVEL                 | 0.0                  \n",
      " VALOR DO M2 DE CONSTRUCAO             | 0.0                  \n",
      " VALOR DO M2 DO TERRENO                | 0.0                  \n",
      " property_id                           | 0.026853069887021394 \n",
      "\n"
     ]
    }
   ],
   "source": [
    "# verifying null values:\n",
    "get_null_columns(df_iptu, normalize=True)"
   ]
  },
  {
   "cell_type": "markdown",
   "metadata": {},
   "source": [
    "## 1.1 Changes identified\n",
    "There are several changes we need to make to the dataset. \n",
    "\n",
    "1. The `CEP DO IMOVEL` column requires the removal of the `-` character;\n",
    "2. The `BAIRRO DO IMOVEL` contains null about `44%` of null values. We can't do much about this from the raw data perspective. Later on, we can salvage the layers for zip codes to get back the neighborhood and other geospatial encodings of the dataset;\n",
    "3. All column names will be processed to remove spaces and unnecessary characters;\n",
    "4. All columns are encoded as strings, and some of the columns need to be converted to numerical types;"
   ]
  },
  {
   "cell_type": "code",
   "execution_count": 13,
   "metadata": {},
   "outputs": [],
   "source": [
    "# dropping the compromised columns:\n",
    "df_iptu = df_iptu.drop(\"BAIRRO DO IMOVEL\")"
   ]
  },
  {
   "cell_type": "markdown",
   "metadata": {},
   "source": [
    "# 2. Fixing Column names and converting data types"
   ]
  },
  {
   "cell_type": "code",
   "execution_count": 8,
   "metadata": {},
   "outputs": [],
   "source": [
    "# defining an UDF for replacing the decimal separator\n",
    "replace_decimal_separator_udf = F.udf(replace_decimal_separator)"
   ]
  },
  {
   "cell_type": "code",
   "execution_count": 15,
   "metadata": {},
   "outputs": [],
   "source": [
    "# defining the column names:\n",
    "new_cols = {\n",
    "    \"construction_year\": \"integer\",\n",
    "    \"owner_start_contribution_year\": \"integer\",\n",
    "    \"area_built\": \"integer\",\n",
    "    \"area_lot\": \"integer\",\n",
    "    \"area_occupied\": \"integer\",\n",
    "    \"zipcode\": \"string\",\n",
    "    \"obsolescence_factor\": \"float\",\n",
    "    \"fraction_factor\": \"float\",\n",
    "    \"owner_id\": \"string\",\n",
    "    \"number_fronts_corners\": \"integer\",\n",
    "    \"number_floors\": \"integer\",\n",
    "    \"front_factor\": \"float\",\n",
    "    \"owner_type_1\": \"string\",\n",
    "    \"owner_type_2\": \"string\",\n",
    "    \"construction_type\": \"string\",\n",
    "    \"lot_type\": \"string\",\n",
    "    \"property_type\": \"string\",\n",
    "    \"construction_square_meter_value\": \"float\",\n",
    "    \"lot_square_meter_value\": \"float\",\n",
    "    \"property_id\": \"string\",\n",
    "}\n",
    "\n",
    "# saving the previous columns for later\n",
    "previous_columns = df_iptu.columns\n",
    "\n",
    "# types list:\n",
    "types = list(new_cols.values())\n",
    "new_columns = list(new_cols.keys())\n",
    "\n",
    "# # converting data types:\n",
    "for i in range(len(previous_columns)):\n",
    "\n",
    "    if types[i] == \"float\":\n",
    "        df_iptu = df_iptu.withColumn(\n",
    "            previous_columns[i],\n",
    "            replace_decimal_separator_udf(F.col(previous_columns[i])),\n",
    "        ).withColumn(previous_columns[i], F.col(previous_columns[i]).cast(\"float\"))\n",
    "\n",
    "    elif types[i] == \"integer\":\n",
    "        df_iptu = df_iptu.withColumn(\n",
    "            previous_columns[i], F.col(previous_columns[i]).cast(\"integer\")\n",
    "        )\n",
    "\n",
    "    df_iptu = df_iptu.withColumnRenamed(previous_columns[i], new_columns[i])"
   ]
  },
  {
   "cell_type": "code",
   "execution_count": 16,
   "metadata": {},
   "outputs": [
    {
     "data": {
      "text/html": [
       "<table border='1'>\n",
       "<tr><th>construction_year</th><th>owner_start_contribution_year</th><th>area_built</th><th>area_lot</th><th>area_occupied</th><th>zipcode</th><th>obsolescence_factor</th><th>fraction_factor</th><th>owner_id</th><th>number_fronts_corners</th><th>number_floors</th><th>front_factor</th><th>owner_type_1</th><th>owner_type_2</th><th>construction_type</th><th>lot_type</th><th>property_type</th><th>construction_square_meter_value</th><th>lot_square_meter_value</th><th>property_id</th></tr>\n",
       "<tr><td>1924</td><td>1963</td><td>135</td><td>136</td><td>108</td><td>01104-001</td><td>0.2</td><td>1.0</td><td>0010030001-4</td><td>1</td><td>1</td><td>13.0</td><td>PESSOA FISICA (CPF)</td><td>null</td><td>Comercial horizon...</td><td>De esquina</td><td>Loja</td><td>1566.0</td><td>2103.0</td><td>03812-1R S CAETANO13</td></tr>\n",
       "<tr><td>1944</td><td>1963</td><td>67</td><td>90</td><td>67</td><td>01104-001</td><td>0.2</td><td>1.0</td><td>0010030002-2</td><td>0</td><td>1</td><td>6.0</td><td>PESSOA FISICA (CPF)</td><td>null</td><td>Comercial horizon...</td><td>Normal</td><td>Loja</td><td>1566.0</td><td>2103.0</td><td>03812-1R S CAETANO19</td></tr>\n",
       "<tr><td>1965</td><td>1963</td><td>140</td><td>105</td><td>84</td><td>01104-001</td><td>0.35</td><td>1.0</td><td>0010030003-0</td><td>0</td><td>2</td><td>7.85</td><td>PESSOA FISICA (CPF)</td><td>null</td><td>Comercial horizon...</td><td>Normal</td><td>Loja</td><td>1566.0</td><td>2103.0</td><td>03812-1R S CAETANO27</td></tr>\n",
       "<tr><td>1944</td><td>1963</td><td>103</td><td>108</td><td>86</td><td>01104-001</td><td>0.2</td><td>1.0</td><td>0010030004-9</td><td>0</td><td>1</td><td>6.05</td><td>PESSOA FISICA (CPF)</td><td>null</td><td>Comercial horizon...</td><td>Normal</td><td>Loja</td><td>1566.0</td><td>2103.0</td><td>03812-1R S CAETANO33</td></tr>\n",
       "<tr><td>1944</td><td>1963</td><td>98</td><td>120</td><td>96</td><td>01104-001</td><td>0.2</td><td>1.0</td><td>0010030005-7</td><td>0</td><td>1</td><td>6.7</td><td>PESSOA FISICA (CPF)</td><td>null</td><td>Comercial horizon...</td><td>Normal</td><td>Loja</td><td>1566.0</td><td>2103.0</td><td>03812-1R S CAETANO39</td></tr>\n",
       "</table>\n",
       "only showing top 5 rows\n"
      ],
      "text/plain": [
       "+-----------------+-----------------------------+----------+--------+-------------+---------+-------------------+---------------+------------+---------------------+-------------+------------+-------------------+------------+--------------------+----------+-------------+-------------------------------+----------------------+--------------------+\n",
       "|construction_year|owner_start_contribution_year|area_built|area_lot|area_occupied|  zipcode|obsolescence_factor|fraction_factor|    owner_id|number_fronts_corners|number_floors|front_factor|       owner_type_1|owner_type_2|   construction_type|  lot_type|property_type|construction_square_meter_value|lot_square_meter_value|         property_id|\n",
       "+-----------------+-----------------------------+----------+--------+-------------+---------+-------------------+---------------+------------+---------------------+-------------+------------+-------------------+------------+--------------------+----------+-------------+-------------------------------+----------------------+--------------------+\n",
       "|             1924|                         1963|       135|     136|          108|01104-001|                0.2|            1.0|0010030001-4|                    1|            1|        13.0|PESSOA FISICA (CPF)|        null|Comercial horizon...|De esquina|         Loja|                         1566.0|                2103.0|03812-1R S CAETANO13|\n",
       "|             1944|                         1963|        67|      90|           67|01104-001|                0.2|            1.0|0010030002-2|                    0|            1|         6.0|PESSOA FISICA (CPF)|        null|Comercial horizon...|    Normal|         Loja|                         1566.0|                2103.0|03812-1R S CAETANO19|\n",
       "|             1965|                         1963|       140|     105|           84|01104-001|               0.35|            1.0|0010030003-0|                    0|            2|        7.85|PESSOA FISICA (CPF)|        null|Comercial horizon...|    Normal|         Loja|                         1566.0|                2103.0|03812-1R S CAETANO27|\n",
       "|             1944|                         1963|       103|     108|           86|01104-001|                0.2|            1.0|0010030004-9|                    0|            1|        6.05|PESSOA FISICA (CPF)|        null|Comercial horizon...|    Normal|         Loja|                         1566.0|                2103.0|03812-1R S CAETANO33|\n",
       "|             1944|                         1963|        98|     120|           96|01104-001|                0.2|            1.0|0010030005-7|                    0|            1|         6.7|PESSOA FISICA (CPF)|        null|Comercial horizon...|    Normal|         Loja|                         1566.0|                2103.0|03812-1R S CAETANO39|\n",
       "+-----------------+-----------------------------+----------+--------+-------------+---------+-------------------+---------------+------------+---------------------+-------------+------------+-------------------+------------+--------------------+----------+-------------+-------------------------------+----------------------+--------------------+\n",
       "only showing top 5 rows"
      ]
     },
     "execution_count": 16,
     "metadata": {},
     "output_type": "execute_result"
    }
   ],
   "source": [
    "# verifying the results:\n",
    "df_iptu"
   ]
  },
  {
   "cell_type": "markdown",
   "metadata": {},
   "source": [
    "# 3. Fixing Zipcodes"
   ]
  },
  {
   "cell_type": "code",
   "execution_count": 17,
   "metadata": {},
   "outputs": [],
   "source": [
    "# the change to the zip code column will be simple: replace '-' with '':\n",
    "df_iptu = df_iptu.withColumn(\"zipcode\", F.regexp_replace(\"zipcode\", \"-\", \"\"))"
   ]
  },
  {
   "cell_type": "markdown",
   "metadata": {},
   "source": [
    "# 4. Preparing the Text-based columns\n",
    "\n",
    "There are three columns that need to be handled:\n",
    "\n",
    "1. `lot_type`: we can convert to more readable names;\n",
    "2. `owner_type_1`: same as the `lot_type`;\n",
    "3. `construction_type`: will require more careful considerations;"
   ]
  },
  {
   "cell_type": "code",
   "execution_count": 9,
   "metadata": {},
   "outputs": [],
   "source": [
    "# registering an udf for text normalization:\n",
    "normalize_entities_udf = F.udf(normalize_entities)"
   ]
  },
  {
   "cell_type": "markdown",
   "metadata": {},
   "source": [
    "## 4.1 Lot Types"
   ]
  },
  {
   "cell_type": "code",
   "execution_count": 19,
   "metadata": {},
   "outputs": [],
   "source": [
    "# normalizing the lot_type column:\n",
    "df_iptu = df_iptu.withColumn(\"lot_type\", normalize_entities_udf(\"lot_type\"))"
   ]
  },
  {
   "cell_type": "code",
   "execution_count": 20,
   "metadata": {},
   "outputs": [
    {
     "name": "stdout",
     "output_type": "stream",
     "text": [
      "+---------------+\n",
      "|lot_type       |\n",
      "+---------------+\n",
      "|de_duas_ou_mais|\n",
      "|de_esquina     |\n",
      "|normal         |\n",
      "|terreno_interno|\n",
      "|lote_de_fundos |\n",
      "|lote_de_esquina|\n",
      "+---------------+\n",
      "\n"
     ]
    }
   ],
   "source": [
    "# verifying which types of lot are there:\n",
    "df_iptu.select(\"lot_type\").distinct().show(truncate=False)"
   ]
  },
  {
   "cell_type": "code",
   "execution_count": 21,
   "metadata": {},
   "outputs": [],
   "source": [
    "# fixing the lot_type column:\n",
    "df_iptu = df_iptu.withColumn(\n",
    "    \"lot_type\",\n",
    "    F.when(F.col(\"lot_type\") == \"de_esquina\", \"corner_lot\")\n",
    "    .when(F.col(\"lot_type\") == \"lote_de_fundos\", \"back_lot\")\n",
    "    .when(F.col(\"lot_type\") == \"lote_de_esquina\", \"corner_lot\")\n",
    "    .when(F.col(\"lot_type\") == \"normal\", \"regular_lot\")\n",
    "    .when(F.col(\"lot_type\") == \"terreno_interno\", \"internal_lot\")\n",
    "    .when(F.col(\"lot_type\") == \"de_duas_ou_mais\", \"multiple_type_lot\"),\n",
    ")"
   ]
  },
  {
   "cell_type": "markdown",
   "metadata": {},
   "source": [
    "## 4.2 Owner Types"
   ]
  },
  {
   "cell_type": "code",
   "execution_count": 22,
   "metadata": {},
   "outputs": [
    {
     "name": "stdout",
     "output_type": "stream",
     "text": [
      "+----------------------+\n",
      "|owner_type_1          |\n",
      "+----------------------+\n",
      "|PESSOA FISICA (CPF)   |\n",
      "|null                  |\n",
      "|PESSOA JURIDICA (CNPJ)|\n",
      "+----------------------+\n",
      "\n"
     ]
    }
   ],
   "source": [
    "# verifying the number different types of owners:\n",
    "df_iptu.select(\"owner_type_1\").distinct().show(truncate=False)"
   ]
  },
  {
   "cell_type": "code",
   "execution_count": 23,
   "metadata": {},
   "outputs": [],
   "source": [
    "# substituting the values for the owner type 1:\n",
    "df_iptu = df_iptu.withColumn(\n",
    "    \"owner_type_1\",\n",
    "    F.when(F.col(\"owner_type_1\") == \"PESSOA FISICA (CPF)\", \"person\")\n",
    "    .when(F.col(\"owner_type_1\") == \"PESSOA JURIDICA (CNPJ)\", \"company\")\n",
    "    .otherwise(\"N/A\"),\n",
    ")"
   ]
  },
  {
   "cell_type": "code",
   "execution_count": 24,
   "metadata": {},
   "outputs": [
    {
     "name": "stdout",
     "output_type": "stream",
     "text": [
      "+--------------------+\n",
      "|owner_type_2        |\n",
      "+--------------------+\n",
      "|PESSOA FISICA (CPF) |\n",
      "|PESSOA JURIDICA (CNP|\n",
      "|null                |\n",
      "+--------------------+\n",
      "\n"
     ]
    }
   ],
   "source": [
    "# listing the types of owners for column owner_type_2:\n",
    "df_iptu.select(\"owner_type_2\").distinct().show(truncate=False)"
   ]
  },
  {
   "cell_type": "code",
   "execution_count": 25,
   "metadata": {},
   "outputs": [],
   "source": [
    "# substituting the values for owner_type_2:\n",
    "df_iptu = df_iptu.withColumn(\n",
    "    \"owner_type_2\",\n",
    "    F.when(F.col(\"owner_type_2\") == \"PESSOA FISICA (CPF)\", \"person\")\n",
    "    .when(F.col(\"owner_type_2\") == \"PESSOA JURIDICA (CNP\", \"company\")\n",
    "    .otherwise(\"N/A\"),\n",
    ")"
   ]
  },
  {
   "cell_type": "markdown",
   "metadata": {},
   "source": [
    "## 4.3 Property age and time of ownership"
   ]
  },
  {
   "cell_type": "code",
   "execution_count": 26,
   "metadata": {},
   "outputs": [],
   "source": [
    "# 2017 is the year the dataset was collected -> age needs to be collected from there\n",
    "df_iptu = df_iptu.withColumn(\"property_age\", F.lit(2017) - F.col(\"construction_year\"))\n",
    "\n",
    "df_iptu = df_iptu.withColumn(\n",
    "    \"years_of_ownership\", F.lit(2017) - F.col(\"owner_start_contribution_year\")\n",
    ")"
   ]
  },
  {
   "cell_type": "markdown",
   "metadata": {},
   "source": [
    "## 4.4 Property Types"
   ]
  },
  {
   "cell_type": "code",
   "execution_count": 27,
   "metadata": {},
   "outputs": [],
   "source": [
    "# need to normalize property_type to avoid noisy data as well:\n",
    "df_iptu = df_iptu.withColumn(\n",
    "    \"property_type\", normalize_entities_udf(F.col(\"property_type\"))\n",
    ")"
   ]
  },
  {
   "cell_type": "code",
   "execution_count": 28,
   "metadata": {},
   "outputs": [],
   "source": [
    "# extracting the distinct values of the property_type column:\n",
    "property_types = get_column_values(df_iptu, \"property_type\")\n",
    "\n",
    "# sorting the values:\n",
    "property_types.sort()"
   ]
  },
  {
   "cell_type": "code",
   "execution_count": 29,
   "metadata": {},
   "outputs": [],
   "source": [
    "# generating the new categories:\n",
    "categories = [\n",
    "    \"apartment_buildings\",\n",
    "    \"commercial_buildings\",\n",
    "    \"other\",\n",
    "    \"entertainment_venues\",\n",
    "    \"sports_venues\",\n",
    "    \"other\",\n",
    "    \"school_buildings\",\n",
    "    \"office_buildings\",\n",
    "    \"other\",\n",
    "    \"hotel_buildings\",\n",
    "    \"apartment_buildings\",\n",
    "    \"residential_parking_lots\",\n",
    "    \"commercial_parking_lots\",\n",
    "    \"commercial_parking_lots\",\n",
    "    \"residential_parking_lots\",\n",
    "    \"hospital_buildings\",\n",
    "    \"hotel_buildings\",\n",
    "    \"industrial_buildings\",\n",
    "    \"stores\",\n",
    "    \"stores\",\n",
    "    \"stores\",\n",
    "    \"other\",\n",
    "    \"other\",\n",
    "    \"commercial_buildings\",\n",
    "    \"commercial_buildings\",\n",
    "    \"other\",\n",
    "    \"other\",\n",
    "    \"apartment_buildings\",\n",
    "    \"apartment_buildings\",\n",
    "    \"office_buildings\",\n",
    "    \"office_buildings\",\n",
    "    \"houses\",\n",
    "    \"houses\",\n",
    "    \"houses\",\n",
    "    \"religious_venues\",\n",
    "    \"empty_lots\",\n",
    "]\n",
    "\n",
    "# # mapping types to new categories:\n",
    "cat_map = dict(zip(property_types, categories))"
   ]
  },
  {
   "cell_type": "code",
   "execution_count": 30,
   "metadata": {},
   "outputs": [],
   "source": [
    "# applying the conversion map:\n",
    "df_iptu = df_iptu.withColumn(\n",
    "    \"property_type\", apply_category_map(cat_map)(F.col(\"property_type\"))\n",
    ")"
   ]
  },
  {
   "cell_type": "markdown",
   "metadata": {},
   "source": [
    "## 4.5 Construction Types"
   ]
  },
  {
   "cell_type": "code",
   "execution_count": 31,
   "metadata": {},
   "outputs": [],
   "source": [
    "# extracting the distinct values of the construction_type column:\n",
    "construction_types = get_column_values(df_iptu, \"construction_type\")\n",
    "\n",
    "# sorting the values:\n",
    "construction_types.sort()"
   ]
  },
  {
   "cell_type": "code",
   "execution_count": 32,
   "metadata": {
    "tags": []
   },
   "outputs": [
    {
     "name": "stdout",
     "output_type": "stream",
     "text": [
      "Barracão/Telheiro/Oficina - padrão\n",
      "Barracão/Telheiro/Oficina/Posto de\n",
      "Comercial horizontal - padrão A\n",
      "Comercial horizontal - padrão B\n",
      "Comercial horizontal - padrão C\n",
      "Comercial horizontal - padrão D\n",
      "Comercial horizontal - padrão E\n",
      "Comercial vertical - padrão A\n",
      "Comercial vertical - padrão B\n",
      "Comercial vertical - padrão C\n",
      "Comercial vertical - padrão D\n",
      "Comercial vertical - padrão E\n",
      "Edifício de garagens - padrão A\n",
      "Indústria - padrão E\n",
      "Oficina/Posto de serviço/Armazém/D\n",
      "Residencial horizontal - padrão A\n",
      "Residencial horizontal - padrão B\n",
      "Residencial horizontal - padrão C\n",
      "Residencial horizontal - padrão D\n",
      "Residencial horizontal - padrão E\n",
      "Residencial horizontal - padrão F\n",
      "Residencial vertical - padrão A\n",
      "Residencial vertical - padrão B\n",
      "Residencial vertical - padrão C\n",
      "Residencial vertical - padrão D\n",
      "Residencial vertical - padrão E\n",
      "Residencial vertical - padrão F\n",
      "TERRENO\n",
      "Templo/Clube/Ginásio ou Estádio es\n"
     ]
    }
   ],
   "source": [
    "# listing all values\n",
    "for col in construction_types:\n",
    "    print(col)"
   ]
  },
  {
   "cell_type": "markdown",
   "metadata": {},
   "source": [
    "By taking a look at the [law that defines the IPTU](www.google.com), we can observe that the items related to `padrão` are in fact special denominations that can be useful later for building specific features, as they represent characteristics of the real state properties that are not commonly described (architectural style, for example)."
   ]
  },
  {
   "cell_type": "code",
   "execution_count": 33,
   "metadata": {},
   "outputs": [],
   "source": [
    "types = [\n",
    "    \"warehouses\",\n",
    "    \"warehouses\",\n",
    "    \"commercial_horizontal\",\n",
    "    \"commercial_horizontal\",\n",
    "    \"commercial_horizontal\",\n",
    "    \"commercial_horizontal\",\n",
    "    \"commercial_horizontal\",\n",
    "    \"commercial_vertical\",\n",
    "    \"commercial_vertical\",\n",
    "    \"commercial_vertical\",\n",
    "    \"commercial_vertical\",\n",
    "    \"commercial_vertical\",\n",
    "    \"garage_buildings\",\n",
    "    \"residential_horizontal\",\n",
    "    \"residential_horizontal\",\n",
    "    \"residential_horizontal\",\n",
    "    \"residential_horizontal\",\n",
    "    \"residential_horizontal\",\n",
    "    \"residential_horizontal\",\n",
    "    \"residential_vertical\",\n",
    "    \"residential_vertical\",\n",
    "    \"residential_vertical\",\n",
    "    \"residential_vertical\",\n",
    "    \"residential_vertical\",\n",
    "    \"residential_vertical\",\n",
    "    \"empty_lot\",\n",
    "    \"entertainment_venue\",\n",
    "]\n",
    "\n",
    "standards = [\n",
    "    \"A\",\n",
    "    \"N\",\n",
    "    \"A\",\n",
    "    \"B\",\n",
    "    \"C\",\n",
    "    \"D\",\n",
    "    \"E\",\n",
    "    \"A\",\n",
    "    \"B\",\n",
    "    \"C\",\n",
    "    \"D\",\n",
    "    \"E\",\n",
    "    \"A\",\n",
    "    \"A\",\n",
    "    \"B\",\n",
    "    \"C\",\n",
    "    \"D\",\n",
    "    \"E\",\n",
    "    \"F\",\n",
    "    \"A\",\n",
    "    \"B\",\n",
    "    \"C\",\n",
    "    \"D\",\n",
    "    \"E\",\n",
    "    \"F\",\n",
    "    \"N\",\n",
    "    \"N\",\n",
    "]\n",
    "\n",
    "type_map = dict(zip(construction_types, types))\n",
    "std_map = dict(zip(construction_types, standards))"
   ]
  },
  {
   "cell_type": "code",
   "execution_count": 34,
   "metadata": {},
   "outputs": [],
   "source": [
    "# applying the conversion maps:\n",
    "df_iptu = df_iptu.withColumn(\n",
    "    \"construction_standard\", apply_category_map(std_map)(F.col(\"construction_type\"))\n",
    ")\n",
    "\n",
    "df_iptu = df_iptu.withColumn(\n",
    "    \"construction_type\", apply_category_map(type_map)(F.col(\"construction_type\"))\n",
    ")"
   ]
  },
  {
   "cell_type": "markdown",
   "metadata": {},
   "source": [
    "# 5. Exporting preprocessed dataset"
   ]
  },
  {
   "cell_type": "code",
   "execution_count": 35,
   "metadata": {},
   "outputs": [
    {
     "data": {
      "text/plain": [
       "True"
      ]
     },
     "execution_count": 35,
     "metadata": {},
     "output_type": "execute_result"
    }
   ],
   "source": [
    "# let's save the resulting dataframe to a processed stage for further handling:\n",
    "PROCESSED_IPTU_DIR = \"../data/processed/sp_iptu\"\n",
    "\n",
    "# using the helper function to save the file:\n",
    "save_to_filesystem(df_iptu, PROCESSED_IPTU_DIR, \"tb_iptu\", \"tb_iptu.parquet\")"
   ]
  },
  {
   "cell_type": "markdown",
   "metadata": {},
   "source": [
    "# 6. Level of Interest Features\n",
    "Now that we preprocessed the dataset, we can start generating features at the specified levels of interest. As a reminder, the levels of interest we are working on in this project are the following:\n",
    "\n",
    "1. `sector`: the lowest unit of measurement for the Brazilian Census, which is one of most important geospatially referenced datasets we will be working with;\n",
    "2. `zipcode`: zip codes in the city of São Paulo can be roughly approximated to an entire street (also called a logradouro);\n",
    "3. `area_of_ponderation`: areas of ponderation are contiguous groups of census sectors;\n",
    "4. `neighborhoods`: areas that are often (but not directly) related to the neighborhoods of the city;\n",
    "5. `districts`: districts are administrative regions defined by law (and thus, won't change much over time), used to allocate resources by the City Hall;\n",
    "\n",
    "When comparing the **IPTU** dataset to the census-related ones, we have a significant twitst. Instead of `sectors` being the lowest level of interest, we have `zipcodes`. This gives us a situation that is similar to when we processed census data at the zipcode level, as the zipcodes are represented as `linestrings` instead of `points` or `polygons`. "
   ]
  },
  {
   "cell_type": "code",
   "execution_count": 37,
   "metadata": {},
   "outputs": [],
   "source": [
    "# reading the preprocessed dataset:\n",
    "df_iptu = spark.read.parquet(\"../data/processed/sp_iptu/tb_iptu.parquet\")"
   ]
  },
  {
   "cell_type": "markdown",
   "metadata": {},
   "source": [
    "## 6.1 Zipcode Features"
   ]
  },
  {
   "cell_type": "code",
   "execution_count": 13,
   "metadata": {},
   "outputs": [],
   "source": [
    "# reading the neighborhoods files:\n",
    "zipcode_rdd = ShapefileReader.readToGeometryRDD(\n",
    "    sc=spark, inputPath=RAW_DATA_DIR + \"sp_layers/logradouros/*\"\n",
    ")\n",
    "\n",
    "df_zipcode = Adapter.toDf(zipcode_rdd, spark)\n",
    "df_zipcode.createOrReplaceTempView(\"tb_zipcode\")"
   ]
  },
  {
   "cell_type": "code",
   "execution_count": 14,
   "metadata": {},
   "outputs": [],
   "source": [
    "# converting the coordinate system in the zipcode file:\n",
    "Q_ZIPCODE_CONVERSION = \"\"\"\n",
    "WITH zip_left as (\n",
    "  SELECT \n",
    "    DISTINCT A.CEP_E as zipcode,\n",
    "    ST_FlipCoordinates(ST_Transform(A.geometry, 'epsg:29193','epsg:4326')) as geometry,\n",
    "    A.NAME as street_name,\n",
    "    A.LENGTH as street_length\n",
    "    FROM tb_zipcode as A  \n",
    "),\n",
    "\n",
    "zip_right as (\n",
    "    SELECT\n",
    "        DISTINCT A.CEP_D as zipcode,\n",
    "        ST_FlipCoordinates(ST_Transform(A.geometry, 'epsg:29193','epsg:4326')) as geometry,\n",
    "        A.NAME as street_name,\n",
    "        A.LENGTH as street_length\n",
    "        FROM tb_zipcode as A      \n",
    ")\n",
    "\n",
    "SELECT * FROM zip_left \n",
    "UNION \n",
    "SELECT * FROM zip_right\n",
    "\"\"\"\n",
    "\n",
    "df_zipcode = spark.sql(Q_ZIPCODE_CONVERSION)\n",
    "\n",
    "# dropping duplicates:\n",
    "df_zipcode = df_zipcode.drop_duplicates(subset=[\"zipcode\"])\n",
    "df_zipcode.createOrReplaceTempView(\"tb_zipcode\")"
   ]
  },
  {
   "cell_type": "markdown",
   "metadata": {},
   "source": [
    "### 6.1.1 Aggregating Zipcode level features"
   ]
  },
  {
   "cell_type": "code",
   "execution_count": 8,
   "metadata": {},
   "outputs": [],
   "source": [
    "df_zip_iptu_num_features = df_iptu.groupby(\"zipcode\").agg(\n",
    "    # count-based aggregations:\n",
    "    F.countDistinct(F.col(\"owner_id\")).alias(\"number_unique_owners\"),\n",
    "    F.countDistinct(F.col(\"property_id\")).alias(\"number_property\"),\n",
    "    # statistics about the variables:\n",
    "    F.avg(F.col(\"construction_year\")).alias(\"average_construction_year\"),\n",
    "    F.percentile_approx(F.col(\"construction_year\"), 0.5).alias(\n",
    "        \"median_construction_year\"\n",
    "    ),\n",
    "    F.max(F.col(\"construction_year\")).alias(\"max_construction_year\"),\n",
    "    F.min(F.col(\"construction_year\")).alias(\"min_construction_year\"),\n",
    "    F.stddev(F.col(\"construction_year\")).alias(\"std_construction_year\"),\n",
    "    F.avg(F.col(\"owner_start_contribution_year\")).alias(\n",
    "        \"average_owner_start_contribution_year\"\n",
    "    ),\n",
    "    F.percentile_approx(F.col(\"owner_start_contribution_year\"), 0.5).alias(\n",
    "        \"median_owner_start_contribution_year\"\n",
    "    ),\n",
    "    F.max(F.col(\"owner_start_contribution_year\")).alias(\n",
    "        \"max_owner_start_contribution_year\"\n",
    "    ),\n",
    "    F.min(F.col(\"owner_start_contribution_year\")).alias(\n",
    "        \"min_owner_start_contribution_year\"\n",
    "    ),\n",
    "    F.stddev(F.col(\"owner_start_contribution_year\")).alias(\n",
    "        \"std_owner_start_contribution_year\"\n",
    "    ),\n",
    "    F.avg(F.col(\"area_built\")).alias(\"average_area_built\"),\n",
    "    F.percentile_approx(F.col(\"area_built\"), 0.5).alias(\"median_area_built\"),\n",
    "    F.max(F.col(\"area_built\")).alias(\"max_area_built\"),\n",
    "    F.min(F.col(\"area_built\")).alias(\"min_area_built\"),\n",
    "    F.stddev(F.col(\"area_built\")).alias(\"std_area_built\"),\n",
    "    F.avg(F.col(\"area_lot\")).alias(\"average_area_lot\"),\n",
    "    F.percentile_approx(F.col(\"area_lot\"), 0.5).alias(\"median_area_lot\"),\n",
    "    F.max(F.col(\"area_lot\")).alias(\"max_area_lot\"),\n",
    "    F.min(F.col(\"area_lot\")).alias(\"min_area_lot\"),\n",
    "    F.stddev(F.col(\"area_lot\")).alias(\"std_area_lot\"),\n",
    "    F.avg(F.col(\"area_occupied\")).alias(\"average_area_occupied\"),\n",
    "    F.percentile_approx(F.col(\"area_occupied\"), 0.5).alias(\"median_area_occupied\"),\n",
    "    F.max(F.col(\"area_occupied\")).alias(\"max_area_occupied\"),\n",
    "    F.min(F.col(\"area_occupied\")).alias(\"min_area_occupied\"),\n",
    "    F.stddev(F.col(\"area_occupied\")).alias(\"std_area_occupied\"),\n",
    "    F.avg(F.col(\"obsolescence_factor\")).alias(\"average_obsolescence_factor\"),\n",
    "    F.percentile_approx(F.col(\"obsolescence_factor\"), 0.5).alias(\n",
    "        \"median_obsolescence_factor\"\n",
    "    ),\n",
    "    F.max(F.col(\"obsolescence_factor\")).alias(\"max_obsolescence_factor\"),\n",
    "    F.min(F.col(\"obsolescence_factor\")).alias(\"min_obsolescence_factor\"),\n",
    "    F.stddev(F.col(\"obsolescence_factor\")).alias(\"std_obsolescence_factor\"),\n",
    "    F.avg(F.col(\"fraction_factor\")).alias(\"average_fraction_factor\"),\n",
    "    F.percentile_approx(F.col(\"fraction_factor\"), 0.5).alias(\"median_fraction_factor\"),\n",
    "    F.max(F.col(\"fraction_factor\")).alias(\"max_fraction_factor\"),\n",
    "    F.min(F.col(\"fraction_factor\")).alias(\"min_fraction_factor\"),\n",
    "    F.stddev(F.col(\"fraction_factor\")).alias(\"std_fraction_factor\"),\n",
    "    F.avg(F.col(\"number_fronts_corners\")).alias(\"average_number_fronts_corners\"),\n",
    "    F.percentile_approx(F.col(\"number_fronts_corners\"), 0.5).alias(\n",
    "        \"median_number_fronts_corners\"\n",
    "    ),\n",
    "    F.max(F.col(\"number_fronts_corners\")).alias(\"max_number_fronts_corners\"),\n",
    "    F.min(F.col(\"number_fronts_corners\")).alias(\"min_number_fronts_corners\"),\n",
    "    F.stddev(F.col(\"number_fronts_corners\")).alias(\"std_number_fronts_corners\"),\n",
    "    F.avg(F.col(\"number_floors\")).alias(\"average_number_floors\"),\n",
    "    F.percentile_approx(F.col(\"number_floors\"), 0.5).alias(\"median_number_floors\"),\n",
    "    F.max(F.col(\"number_floors\")).alias(\"max_number_floors\"),\n",
    "    F.min(F.col(\"number_floors\")).alias(\"min_number_floors\"),\n",
    "    F.stddev(F.col(\"number_floors\")).alias(\"std_number_floors\"),\n",
    "    F.avg(F.col(\"front_factor\")).alias(\"average_front_factor\"),\n",
    "    F.percentile_approx(F.col(\"front_factor\"), 0.5).alias(\"median_front_factor\"),\n",
    "    F.max(F.col(\"front_factor\")).alias(\"max_front_factor\"),\n",
    "    F.min(F.col(\"front_factor\")).alias(\"min_front_factor\"),\n",
    "    F.stddev(F.col(\"front_factor\")).alias(\"std_front_factor\"),\n",
    "    F.avg(F.col(\"construction_square_meter_value\")).alias(\n",
    "        \"average_construction_square_meter_value\"\n",
    "    ),\n",
    "    F.percentile_approx(F.col(\"construction_square_meter_value\"), 0.5).alias(\n",
    "        \"median_construction_square_meter_value\"\n",
    "    ),\n",
    "    F.max(F.col(\"construction_square_meter_value\")).alias(\n",
    "        \"max_construction_square_meter_value\"\n",
    "    ),\n",
    "    F.min(F.col(\"construction_square_meter_value\")).alias(\n",
    "        \"min_construction_square_meter_value\"\n",
    "    ),\n",
    "    F.stddev(F.col(\"construction_square_meter_value\")).alias(\n",
    "        \"std_construction_square_meter_value\"\n",
    "    ),\n",
    "    F.avg(F.col(\"lot_square_meter_value\")).alias(\"average_lot_square_meter_value\"),\n",
    "    F.percentile_approx(F.col(\"lot_square_meter_value\"), 0.5).alias(\n",
    "        \"median_lot_square_meter_value\"\n",
    "    ),\n",
    "    F.max(F.col(\"lot_square_meter_value\")).alias(\"max_lot_square_meter_value\"),\n",
    "    F.min(F.col(\"lot_square_meter_value\")).alias(\"min_lot_square_meter_value\"),\n",
    "    F.stddev(F.col(\"lot_square_meter_value\")).alias(\"std_lot_square_meter_value\"),\n",
    "    F.avg(F.col(\"property_age\")).alias(\"average_property_age\"),\n",
    "    F.percentile_approx(F.col(\"property_age\"), 0.5).alias(\"median_property_age\"),\n",
    "    F.max(F.col(\"property_age\")).alias(\"max_property_age\"),\n",
    "    F.min(F.col(\"property_age\")).alias(\"min_property_age\"),\n",
    "    F.stddev(F.col(\"property_age\")).alias(\"std_property_age\"),\n",
    "    F.avg(F.col(\"years_of_ownership\")).alias(\"average_years_of_ownership\"),\n",
    "    F.percentile_approx(F.col(\"years_of_ownership\"), 0.5).alias(\n",
    "        \"median_years_of_ownership\"\n",
    "    ),\n",
    "    F.max(F.col(\"years_of_ownership\")).alias(\"max_years_of_ownership\"),\n",
    "    F.min(F.col(\"years_of_ownership\")).alias(\"min_years_of_ownership\"),\n",
    "    F.stddev(F.col(\"years_of_ownership\")).alias(\"std_years_of_ownership\"),\n",
    ")\n",
    "\n",
    "# fixing the column names:\n",
    "new_columns = list(map(lambda col: f\"zipcode_{col}\", df_zip_iptu_num_features.columns))\n",
    "\n",
    "for i in range(len(df_zip_iptu_num_features.columns)):\n",
    "    df_zip_iptu_num_features = df_zip_iptu_num_features.withColumnRenamed(\n",
    "        df_zip_iptu_num_features.columns[i], new_columns[i]\n",
    "    )\n",
    "    \n",
    "df_zip_iptu_num_features = df_zip_iptu_num_features.withColumnRenamed(\"zipcode_zipcode\", \"zipcode\")"
   ]
  },
  {
   "cell_type": "markdown",
   "metadata": {},
   "source": [
    "### 6.1.2 Exporting Zipcode level features"
   ]
  },
  {
   "cell_type": "code",
   "execution_count": 9,
   "metadata": {},
   "outputs": [
    {
     "data": {
      "text/html": [
       "<table border='1'>\n",
       "<tr><th>zipcode_zipcode</th><th>zipcode_number_unique_owners</th><th>zipcode_number_property</th><th>zipcode_average_construction_year</th><th>zipcode_median_construction_year</th><th>zipcode_max_construction_year</th><th>zipcode_min_construction_year</th><th>zipcode_std_construction_year</th><th>zipcode_average_owner_start_contribution_year</th><th>zipcode_median_owner_start_contribution_year</th><th>zipcode_max_owner_start_contribution_year</th><th>zipcode_min_owner_start_contribution_year</th><th>zipcode_std_owner_start_contribution_year</th><th>zipcode_average_area_built</th><th>zipcode_median_area_built</th><th>zipcode_max_area_built</th><th>zipcode_min_area_built</th><th>zipcode_std_area_built</th><th>zipcode_average_area_lot</th><th>zipcode_median_area_lot</th><th>zipcode_max_area_lot</th><th>zipcode_min_area_lot</th><th>zipcode_std_area_lot</th><th>zipcode_average_area_occupied</th><th>zipcode_median_area_occupied</th><th>zipcode_max_area_occupied</th><th>zipcode_min_area_occupied</th><th>zipcode_std_area_occupied</th><th>zipcode_average_obsolescence_factor</th><th>zipcode_median_obsolescence_factor</th><th>zipcode_max_obsolescence_factor</th><th>zipcode_min_obsolescence_factor</th><th>zipcode_std_obsolescence_factor</th><th>zipcode_average_fraction_factor</th><th>zipcode_median_fraction_factor</th><th>zipcode_max_fraction_factor</th><th>zipcode_min_fraction_factor</th><th>zipcode_std_fraction_factor</th><th>zipcode_average_number_fronts_corners</th><th>zipcode_median_number_fronts_corners</th><th>zipcode_max_number_fronts_corners</th><th>zipcode_min_number_fronts_corners</th><th>zipcode_std_number_fronts_corners</th><th>zipcode_average_number_floors</th><th>zipcode_median_number_floors</th><th>zipcode_max_number_floors</th><th>zipcode_min_number_floors</th><th>zipcode_std_number_floors</th><th>zipcode_average_front_factor</th><th>zipcode_median_front_factor</th><th>zipcode_max_front_factor</th><th>zipcode_min_front_factor</th><th>zipcode_std_front_factor</th><th>zipcode_average_construction_square_meter_value</th><th>zipcode_median_construction_square_meter_value</th><th>zipcode_max_construction_square_meter_value</th><th>zipcode_min_construction_square_meter_value</th><th>zipcode_std_construction_square_meter_value</th><th>zipcode_average_lot_square_meter_value</th><th>zipcode_median_lot_square_meter_value</th><th>zipcode_max_lot_square_meter_value</th><th>zipcode_min_lot_square_meter_value</th><th>zipcode_std_lot_square_meter_value</th><th>zipcode_average_property_age</th><th>zipcode_median_property_age</th><th>zipcode_max_property_age</th><th>zipcode_min_property_age</th><th>zipcode_std_property_age</th><th>zipcode_average_years_of_ownership</th><th>zipcode_median_years_of_ownership</th><th>zipcode_max_years_of_ownership</th><th>zipcode_min_years_of_ownership</th><th>zipcode_std_years_of_ownership</th></tr>\n",
       "<tr><td>01233001</td><td>855</td><td>55</td><td>1984.5157894736842</td><td>1993</td><td>2014</td><td>1929</td><td>15.059893572953653</td><td>1985.898245614035</td><td>1994</td><td>2006</td><td>1963</td><td>14.686343900124342</td><td>169.08070175438596</td><td>96</td><td>6610</td><td>23</td><td>264.5316116710392</td><td>799.072514619883</td><td>692</td><td>2576</td><td>60</td><td>472.65255706527574</td><td>545.4152046783626</td><td>491</td><td>2301</td><td>50</td><td>403.31516375437013</td><td>0.6475672505229537</td><td>0.78</td><td>0.98</td><td>0.2</td><td>0.2136433699863181</td><td>0.05023450300598528</td><td>0.0257</td><td>1.0</td><td>0.008</td><td>0.1446293543222227</td><td>0.16023391812865498</td><td>0</td><td>1</td><td>0</td><td>0.36703756327234033</td><td>14.04327485380117</td><td>15</td><td>33</td><td>1</td><td>5.714868117464387</td><td>20.776268947891325</td><td>17.5</td><td>54.96</td><td>0.0</td><td>10.455761980217712</td><td>2193.856140350877</td><td>2007.0</td><td>3377.0</td><td>1079.0</td><td>369.9941503830005</td><td>5261.8421052631575</td><td>4670.0</td><td>6527.0</td><td>4621.0</td><td>644.2697150048115</td><td>32.48421052631579</td><td>24</td><td>88</td><td>3</td><td>15.059893572953785</td><td>31.101754385964913</td><td>23</td><td>54</td><td>11</td><td>14.686343900124303</td></tr>\n",
       "<tr><td>01415004</td><td>574</td><td>18</td><td>1978.9477351916375</td><td>1973</td><td>2000</td><td>1944</td><td>11.83720523060521</td><td>1978.5627177700349</td><td>1974</td><td>2011</td><td>1963</td><td>13.718005273784508</td><td>115.00522648083624</td><td>75</td><td>987</td><td>23</td><td>94.02976566638337</td><td>927.7369337979094</td><td>1012</td><td>1220</td><td>59</td><td>273.56736865983964</td><td>504.3257839721254</td><td>400</td><td>1012</td><td>52</td><td>270.75720877828024</td><td>0.5703832812685169</td><td>0.49</td><td>0.85</td><td>0.2</td><td>0.16181624614509235</td><td>0.03149738680743304</td><td>0.0095</td><td>1.0</td><td>0.0033</td><td>0.10185064698578279</td><td>0.027874564459930314</td><td>0</td><td>1</td><td>0</td><td>0.164756984130015</td><td>14.775261324041812</td><td>16</td><td>18</td><td>1</td><td>3.071006313005965</td><td>19.518362473112365</td><td>20.0</td><td>26.5</td><td>4.5</td><td>3.934480599115575</td><td>2152.677700348432</td><td>2007.0</td><td>3377.0</td><td>1311.0</td><td>211.12756941344676</td><td>7425.254355400697</td><td>7353.0</td><td>7781.0</td><td>7334.0</td><td>171.6232168404358</td><td>38.05226480836237</td><td>44</td><td>73</td><td>17</td><td>11.837205230605086</td><td>38.437282229965156</td><td>43</td><td>54</td><td>6</td><td>13.718005273784735</td></tr>\n",
       "<tr><td>01543070</td><td>7</td><td>7</td><td>1970.5714285714287</td><td>1970</td><td>1976</td><td>1962</td><td>5.59336341441485</td><td>1963.0</td><td>1963</td><td>1963</td><td>1963</td><td>0.0</td><td>95.85714285714286</td><td>80</td><td>145</td><td>80</td><td>27.63107291576262</td><td>102.71428571428571</td><td>85</td><td>144</td><td>85</td><td>24.702997697406996</td><td>48.42857142857143</td><td>40</td><td>75</td><td>40</td><td>14.740614447359862</td><td>0.44857143504279</td><td>0.44</td><td>0.54</td><td>0.3</td><td>0.09494360247617062</td><td>1.0</td><td>1.0</td><td>1.0</td><td>1.0</td><td>0.0</td><td>0.0</td><td>0</td><td>0</td><td>0</td><td>0.0</td><td>2.0</td><td>2</td><td>2</td><td>2</td><td>0.0</td><td>6.421428544180734</td><td>5.0</td><td>13.0</td><td>4.95</td><td>2.9960887357684407</td><td>1647.0</td><td>1647.0</td><td>1647.0</td><td>1647.0</td><td>0.0</td><td>2109.0</td><td>2109.0</td><td>2109.0</td><td>2109.0</td><td>0.0</td><td>46.42857142857143</td><td>47</td><td>55</td><td>41</td><td>5.593363414414825</td><td>54.0</td><td>54</td><td>54</td><td>54</td><td>0.0</td></tr>\n",
       "<tr><td>01549010</td><td>235</td><td>175</td><td>1971.3617021276596</td><td>1970</td><td>2014</td><td>1929</td><td>14.80734619585442</td><td>1970.1659574468085</td><td>1963</td><td>2008</td><td>1963</td><td>11.08986748966618</td><td>162.37021276595743</td><td>130</td><td>612</td><td>42</td><td>89.38729693037284</td><td>562.1063829787234</td><td>250</td><td>1700</td><td>42</td><td>627.2962683552458</td><td>171.2808510638298</td><td>121</td><td>536</td><td>33</td><td>119.1187273813308</td><td>0.45365957211940844</td><td>0.44</td><td>0.97</td><td>0.2</td><td>0.20255686671574855</td><td>0.7532370214449599</td><td>1.0</td><td>1.0</td><td>0.0192</td><td>0.4227829881528008</td><td>0.07234042553191489</td><td>0</td><td>2</td><td>0</td><td>0.2906683483687343</td><td>4.574468085106383</td><td>2</td><td>14</td><td>1</td><td>5.08115624187241</td><td>7.933744685193326</td><td>8.0</td><td>24.75</td><td>0.0</td><td>3.0700210848484493</td><td>1701.4127659574467</td><td>1647.0</td><td>2564.0</td><td>1067.0</td><td>291.92323485808566</td><td>1429.1404255319148</td><td>1438.0</td><td>1603.0</td><td>1310.0</td><td>89.07560329507895</td><td>45.638297872340424</td><td>47</td><td>88</td><td>3</td><td>14.807346195854418</td><td>46.83404255319149</td><td>54</td><td>54</td><td>9</td><td>11.089867489666068</td></tr>\n",
       "<tr><td>02161020</td><td>201</td><td>193</td><td>1979.766169154229</td><td>1980</td><td>2014</td><td>1960</td><td>8.419622898398968</td><td>1974.8855721393036</td><td>1974</td><td>2008</td><td>1963</td><td>11.360098626157244</td><td>178.37313432835822</td><td>126</td><td>5231</td><td>40</td><td>367.28791849804554</td><td>190.20398009950247</td><td>138</td><td>2293</td><td>60</td><td>166.3531580225623</td><td>120.49253731343283</td><td>100</td><td>2106</td><td>34</td><td>148.35778103635099</td><td>0.4832835814253015</td><td>0.51</td><td>0.97</td><td>0.2</td><td>0.19294342288629562</td><td>1.0</td><td>1.0</td><td>1.0</td><td>1.0</td><td>0.0</td><td>0.12437810945273632</td><td>0</td><td>2</td><td>0</td><td>0.3734337107418235</td><td>1.63681592039801</td><td>2</td><td>3</td><td>1</td><td>0.5851818614287985</td><td>7.716517421143565</td><td>5.75</td><td>26.5</td><td>0.0</td><td>3.8439094401155787</td><td>1117.0945273631842</td><td>1241.0</td><td>1635.0</td><td>788.0</td><td>162.0595138210051</td><td>564.8009950248756</td><td>506.0</td><td>693.0</td><td>435.0</td><td>91.97260569868061</td><td>37.233830845771145</td><td>37</td><td>57</td><td>3</td><td>8.419622898398941</td><td>42.114427860696516</td><td>43</td><td>54</td><td>9</td><td>11.360098626157255</td></tr>\n",
       "</table>\n",
       "only showing top 5 rows\n"
      ],
      "text/plain": [
       "+---------------+----------------------------+-----------------------+---------------------------------+--------------------------------+-----------------------------+-----------------------------+-----------------------------+---------------------------------------------+--------------------------------------------+-----------------------------------------+-----------------------------------------+-----------------------------------------+--------------------------+-------------------------+----------------------+----------------------+----------------------+------------------------+-----------------------+--------------------+--------------------+--------------------+-----------------------------+----------------------------+-------------------------+-------------------------+-------------------------+-----------------------------------+----------------------------------+-------------------------------+-------------------------------+-------------------------------+-------------------------------+------------------------------+---------------------------+---------------------------+---------------------------+-------------------------------------+------------------------------------+---------------------------------+---------------------------------+---------------------------------+-----------------------------+----------------------------+-------------------------+-------------------------+-------------------------+----------------------------+---------------------------+------------------------+------------------------+------------------------+-----------------------------------------------+----------------------------------------------+-------------------------------------------+-------------------------------------------+-------------------------------------------+--------------------------------------+-------------------------------------+----------------------------------+----------------------------------+----------------------------------+----------------------------+---------------------------+------------------------+------------------------+------------------------+----------------------------------+---------------------------------+------------------------------+------------------------------+------------------------------+\n",
       "|zipcode_zipcode|zipcode_number_unique_owners|zipcode_number_property|zipcode_average_construction_year|zipcode_median_construction_year|zipcode_max_construction_year|zipcode_min_construction_year|zipcode_std_construction_year|zipcode_average_owner_start_contribution_year|zipcode_median_owner_start_contribution_year|zipcode_max_owner_start_contribution_year|zipcode_min_owner_start_contribution_year|zipcode_std_owner_start_contribution_year|zipcode_average_area_built|zipcode_median_area_built|zipcode_max_area_built|zipcode_min_area_built|zipcode_std_area_built|zipcode_average_area_lot|zipcode_median_area_lot|zipcode_max_area_lot|zipcode_min_area_lot|zipcode_std_area_lot|zipcode_average_area_occupied|zipcode_median_area_occupied|zipcode_max_area_occupied|zipcode_min_area_occupied|zipcode_std_area_occupied|zipcode_average_obsolescence_factor|zipcode_median_obsolescence_factor|zipcode_max_obsolescence_factor|zipcode_min_obsolescence_factor|zipcode_std_obsolescence_factor|zipcode_average_fraction_factor|zipcode_median_fraction_factor|zipcode_max_fraction_factor|zipcode_min_fraction_factor|zipcode_std_fraction_factor|zipcode_average_number_fronts_corners|zipcode_median_number_fronts_corners|zipcode_max_number_fronts_corners|zipcode_min_number_fronts_corners|zipcode_std_number_fronts_corners|zipcode_average_number_floors|zipcode_median_number_floors|zipcode_max_number_floors|zipcode_min_number_floors|zipcode_std_number_floors|zipcode_average_front_factor|zipcode_median_front_factor|zipcode_max_front_factor|zipcode_min_front_factor|zipcode_std_front_factor|zipcode_average_construction_square_meter_value|zipcode_median_construction_square_meter_value|zipcode_max_construction_square_meter_value|zipcode_min_construction_square_meter_value|zipcode_std_construction_square_meter_value|zipcode_average_lot_square_meter_value|zipcode_median_lot_square_meter_value|zipcode_max_lot_square_meter_value|zipcode_min_lot_square_meter_value|zipcode_std_lot_square_meter_value|zipcode_average_property_age|zipcode_median_property_age|zipcode_max_property_age|zipcode_min_property_age|zipcode_std_property_age|zipcode_average_years_of_ownership|zipcode_median_years_of_ownership|zipcode_max_years_of_ownership|zipcode_min_years_of_ownership|zipcode_std_years_of_ownership|\n",
       "+---------------+----------------------------+-----------------------+---------------------------------+--------------------------------+-----------------------------+-----------------------------+-----------------------------+---------------------------------------------+--------------------------------------------+-----------------------------------------+-----------------------------------------+-----------------------------------------+--------------------------+-------------------------+----------------------+----------------------+----------------------+------------------------+-----------------------+--------------------+--------------------+--------------------+-----------------------------+----------------------------+-------------------------+-------------------------+-------------------------+-----------------------------------+----------------------------------+-------------------------------+-------------------------------+-------------------------------+-------------------------------+------------------------------+---------------------------+---------------------------+---------------------------+-------------------------------------+------------------------------------+---------------------------------+---------------------------------+---------------------------------+-----------------------------+----------------------------+-------------------------+-------------------------+-------------------------+----------------------------+---------------------------+------------------------+------------------------+------------------------+-----------------------------------------------+----------------------------------------------+-------------------------------------------+-------------------------------------------+-------------------------------------------+--------------------------------------+-------------------------------------+----------------------------------+----------------------------------+----------------------------------+----------------------------+---------------------------+------------------------+------------------------+------------------------+----------------------------------+---------------------------------+------------------------------+------------------------------+------------------------------+\n",
       "|       01233001|                         855|                     55|               1984.5157894736842|                            1993|                         2014|                         1929|           15.059893572953653|                            1985.898245614035|                                        1994|                                     2006|                                     1963|                       14.686343900124342|        169.08070175438596|                       96|                  6610|                    23|     264.5316116710392|        799.072514619883|                    692|                2576|                  60|  472.65255706527574|            545.4152046783626|                         491|                     2301|                       50|       403.31516375437013|                 0.6475672505229537|                              0.78|                           0.98|                            0.2|             0.2136433699863181|            0.05023450300598528|                        0.0257|                        1.0|                      0.008|         0.1446293543222227|                  0.16023391812865498|                                   0|                                1|                                0|              0.36703756327234033|            14.04327485380117|                          15|                       33|                        1|        5.714868117464387|          20.776268947891325|                       17.5|                   54.96|                     0.0|      10.455761980217712|                              2193.856140350877|                                        2007.0|                                     3377.0|                                     1079.0|                          369.9941503830005|                    5261.8421052631575|                               4670.0|                            6527.0|                            4621.0|                 644.2697150048115|           32.48421052631579|                         24|                      88|                       3|      15.059893572953785|                31.101754385964913|                               23|                            54|                            11|            14.686343900124303|\n",
       "|       01415004|                         574|                     18|               1978.9477351916375|                            1973|                         2000|                         1944|            11.83720523060521|                           1978.5627177700349|                                        1974|                                     2011|                                     1963|                       13.718005273784508|        115.00522648083624|                       75|                   987|                    23|     94.02976566638337|       927.7369337979094|                   1012|                1220|                  59|  273.56736865983964|            504.3257839721254|                         400|                     1012|                       52|       270.75720877828024|                 0.5703832812685169|                              0.49|                           0.85|                            0.2|            0.16181624614509235|            0.03149738680743304|                        0.0095|                        1.0|                     0.0033|        0.10185064698578279|                 0.027874564459930314|                                   0|                                1|                                0|                0.164756984130015|           14.775261324041812|                          16|                       18|                        1|        3.071006313005965|          19.518362473112365|                       20.0|                    26.5|                     4.5|       3.934480599115575|                              2152.677700348432|                                        2007.0|                                     3377.0|                                     1311.0|                         211.12756941344676|                     7425.254355400697|                               7353.0|                            7781.0|                            7334.0|                 171.6232168404358|           38.05226480836237|                         44|                      73|                      17|      11.837205230605086|                38.437282229965156|                               43|                            54|                             6|            13.718005273784735|\n",
       "|       01543070|                           7|                      7|               1970.5714285714287|                            1970|                         1976|                         1962|             5.59336341441485|                                       1963.0|                                        1963|                                     1963|                                     1963|                                      0.0|         95.85714285714286|                       80|                   145|                    80|     27.63107291576262|      102.71428571428571|                     85|                 144|                  85|  24.702997697406996|            48.42857142857143|                          40|                       75|                       40|       14.740614447359862|                   0.44857143504279|                              0.44|                           0.54|                            0.3|            0.09494360247617062|                            1.0|                           1.0|                        1.0|                        1.0|                        0.0|                                  0.0|                                   0|                                0|                                0|                              0.0|                          2.0|                           2|                        2|                        2|                      0.0|           6.421428544180734|                        5.0|                    13.0|                    4.95|      2.9960887357684407|                                         1647.0|                                        1647.0|                                     1647.0|                                     1647.0|                                        0.0|                                2109.0|                               2109.0|                            2109.0|                            2109.0|                               0.0|           46.42857142857143|                         47|                      55|                      41|       5.593363414414825|                              54.0|                               54|                            54|                            54|                           0.0|\n",
       "|       01549010|                         235|                    175|               1971.3617021276596|                            1970|                         2014|                         1929|            14.80734619585442|                           1970.1659574468085|                                        1963|                                     2008|                                     1963|                        11.08986748966618|        162.37021276595743|                      130|                   612|                    42|     89.38729693037284|       562.1063829787234|                    250|                1700|                  42|   627.2962683552458|            171.2808510638298|                         121|                      536|                       33|        119.1187273813308|                0.45365957211940844|                              0.44|                           0.97|                            0.2|            0.20255686671574855|             0.7532370214449599|                           1.0|                        1.0|                     0.0192|         0.4227829881528008|                  0.07234042553191489|                                   0|                                2|                                0|               0.2906683483687343|            4.574468085106383|                           2|                       14|                        1|         5.08115624187241|           7.933744685193326|                        8.0|                   24.75|                     0.0|      3.0700210848484493|                             1701.4127659574467|                                        1647.0|                                     2564.0|                                     1067.0|                         291.92323485808566|                    1429.1404255319148|                               1438.0|                            1603.0|                            1310.0|                 89.07560329507895|          45.638297872340424|                         47|                      88|                       3|      14.807346195854418|                 46.83404255319149|                               54|                            54|                             9|            11.089867489666068|\n",
       "|       02161020|                         201|                    193|                1979.766169154229|                            1980|                         2014|                         1960|            8.419622898398968|                           1974.8855721393036|                                        1974|                                     2008|                                     1963|                       11.360098626157244|        178.37313432835822|                      126|                  5231|                    40|    367.28791849804554|      190.20398009950247|                    138|                2293|                  60|   166.3531580225623|           120.49253731343283|                         100|                     2106|                       34|       148.35778103635099|                 0.4832835814253015|                              0.51|                           0.97|                            0.2|            0.19294342288629562|                            1.0|                           1.0|                        1.0|                        1.0|                        0.0|                  0.12437810945273632|                                   0|                                2|                                0|               0.3734337107418235|             1.63681592039801|                           2|                        3|                        1|       0.5851818614287985|           7.716517421143565|                       5.75|                    26.5|                     0.0|      3.8439094401155787|                             1117.0945273631842|                                        1241.0|                                     1635.0|                                      788.0|                          162.0595138210051|                     564.8009950248756|                                506.0|                             693.0|                             435.0|                 91.97260569868061|          37.233830845771145|                         37|                      57|                       3|       8.419622898398941|                42.114427860696516|                               43|                            54|                             9|            11.360098626157255|\n",
       "+---------------+----------------------------+-----------------------+---------------------------------+--------------------------------+-----------------------------+-----------------------------+-----------------------------+---------------------------------------------+--------------------------------------------+-----------------------------------------+-----------------------------------------+-----------------------------------------+--------------------------+-------------------------+----------------------+----------------------+----------------------+------------------------+-----------------------+--------------------+--------------------+--------------------+-----------------------------+----------------------------+-------------------------+-------------------------+-------------------------+-----------------------------------+----------------------------------+-------------------------------+-------------------------------+-------------------------------+-------------------------------+------------------------------+---------------------------+---------------------------+---------------------------+-------------------------------------+------------------------------------+---------------------------------+---------------------------------+---------------------------------+-----------------------------+----------------------------+-------------------------+-------------------------+-------------------------+----------------------------+---------------------------+------------------------+------------------------+------------------------+-----------------------------------------------+----------------------------------------------+-------------------------------------------+-------------------------------------------+-------------------------------------------+--------------------------------------+-------------------------------------+----------------------------------+----------------------------------+----------------------------------+----------------------------+---------------------------+------------------------+------------------------+------------------------+----------------------------------+---------------------------------+------------------------------+------------------------------+------------------------------+\n",
       "only showing top 5 rows"
      ]
     },
     "execution_count": 9,
     "metadata": {},
     "output_type": "execute_result"
    }
   ],
   "source": [
    "# verifying the results:\n",
    "df_zip_iptu_num_features"
   ]
  },
  {
   "cell_type": "code",
   "execution_count": null,
   "metadata": {},
   "outputs": [],
   "source": [
    "# caching the results of the groupby:\n",
    "PROCESSED_IPTU_DIR = \"../data/processed/sp_iptu\"\n",
    "\n",
    "# using the helper function to save the file:\n",
    "save_to_filesystem(df_zip_iptu_num_features, PROCESSED_IPTU_DIR, \"tb_zipcode_iptu\", \"tb_zipcode_iptu.parquet\")"
   ]
  },
  {
   "cell_type": "markdown",
   "metadata": {},
   "source": [
    "### 6.1.3 Joining features to Geometries"
   ]
  },
  {
   "cell_type": "code",
   "execution_count": 11,
   "metadata": {},
   "outputs": [],
   "source": [
    "# reading the cache for the zipcode level features:\n",
    "df_zip_agg = spark.read.parquet(PROCESSED_IPTU_DIR + \"/tb_zipcode_iptu_no_geo.parquet\")"
   ]
  },
  {
   "cell_type": "code",
   "execution_count": 12,
   "metadata": {},
   "outputs": [],
   "source": [
    "# fixing the column names for zip_agg:\n",
    "df_zip_agg = df_zip_agg.withColumnRenamed(\"zipcode_zipcode\", \"zipcode\")"
   ]
  },
  {
   "cell_type": "code",
   "execution_count": 130,
   "metadata": {},
   "outputs": [],
   "source": [
    "# joining onto the geometries:\n",
    "df_zip_full = df_zipcode.join(df_zip_agg, how=\"left\", on=[\"zipcode\"])"
   ]
  },
  {
   "cell_type": "code",
   "execution_count": 132,
   "metadata": {},
   "outputs": [
    {
     "data": {
      "text/plain": [
       "True"
      ]
     },
     "execution_count": 132,
     "metadata": {},
     "output_type": "execute_result"
    }
   ],
   "source": [
    "# caching the results of the groupby:\n",
    "PROCESSED_IPTU_DIR = \"../data/processed/sp_iptu\"\n",
    "\n",
    "# using the helper function to save the file:\n",
    "save_to_filesystem(\n",
    "    df_zip_full,\n",
    "    PROCESSED_IPTU_DIR,\n",
    "    \"tb_zipcode_iptu\",\n",
    "    \"tb_zipcode_iptu.parquet\",\n",
    ")"
   ]
  },
  {
   "cell_type": "markdown",
   "metadata": {},
   "source": [
    "## 6.2 Neighborhood Features"
   ]
  },
  {
   "cell_type": "code",
   "execution_count": 10,
   "metadata": {},
   "outputs": [],
   "source": [
    "PROCESSED_IPTU_DIR = \"../data/processed/sp_iptu/\"\n",
    "RAW_DATA_DIR = \"../data/raw/\""
   ]
  },
  {
   "cell_type": "code",
   "execution_count": 134,
   "metadata": {},
   "outputs": [
    {
     "data": {
      "text/html": [
       "<table border='1'>\n",
       "<tr><th>geometry</th><th>Name</th><th>descriptio</th></tr>\n",
       "<tr><td>MULTIPOLYGON (((-...</td><td>Alto da Riviera</td><td>ALTO DA RIVIERA</td></tr>\n",
       "<tr><td>POLYGON ((-46.589...</td><td>Alto da Mooca</td><td>ALTO DA MOOCA</td></tr>\n",
       "<tr><td>POLYGON ((-46.719...</td><td>Alto da Lapa</td><td>ALTO DA LAPA</td></tr>\n",
       "<tr><td>POLYGON ((-46.629...</td><td>Vila Agua Funda</td><td>VILA AGUA FUNDA</td></tr>\n",
       "<tr><td>POLYGON ((-46.622...</td><td>Agua Fria</td><td>AGUA FRIA</td></tr>\n",
       "</table>\n",
       "only showing top 5 rows\n"
      ],
      "text/plain": [
       "+--------------------+---------------+---------------+\n",
       "|            geometry|           Name|     descriptio|\n",
       "+--------------------+---------------+---------------+\n",
       "|MULTIPOLYGON (((-...|Alto da Riviera|ALTO DA RIVIERA|\n",
       "|POLYGON ((-46.589...|  Alto da Mooca|  ALTO DA MOOCA|\n",
       "|POLYGON ((-46.719...|   Alto da Lapa|   ALTO DA LAPA|\n",
       "|POLYGON ((-46.629...|Vila Agua Funda|VILA AGUA FUNDA|\n",
       "|POLYGON ((-46.622...|      Agua Fria|      AGUA FRIA|\n",
       "+--------------------+---------------+---------------+\n",
       "only showing top 5 rows"
      ]
     },
     "execution_count": 134,
     "metadata": {},
     "output_type": "execute_result"
    }
   ],
   "source": [
    "# reading the neighborhoods files:\n",
    "nb_rdd = ShapefileReader.readToGeometryRDD(\n",
    "    sc=spark, inputPath=RAW_DATA_DIR + \"sp_layers/neighborhoods/*\"\n",
    ")\n",
    "\n",
    "df_nb = Adapter.toDf(nb_rdd, spark)\n",
    "df_nb.createOrReplaceTempView(\"tb_neighborhood\")\n",
    "\n",
    "# verifying the neighborhoods geometry dataset:\n",
    "df_nb"
   ]
  },
  {
   "cell_type": "code",
   "execution_count": 23,
   "metadata": {},
   "outputs": [],
   "source": [
    "# registering both dataframes to the SQL Context for spatial join:\n",
    "df_nb.createOrReplaceTempView(\"tb_neighborhood\")\n",
    "df_zipcode.createOrReplaceTempView(\"tb_zipcode\")\n",
    "df_zip_agg.createOrReplaceTempView(\"tb_zip_features\")"
   ]
  },
  {
   "cell_type": "code",
   "execution_count": 137,
   "metadata": {},
   "outputs": [],
   "source": [
    "# performing the join of the zipcodes onto the neighborhoods:\n",
    "Q_NEIGHBORHOOD_ZIPCODE_MATCH = \"\"\"\n",
    "SELECT \n",
    "    B.Name as neighborhood_name,\n",
    "    A.zipcode\n",
    "FROM tb_zipcode as A, tb_neighborhood as B\n",
    "WHERE ST_Intersects(B.geometry, A.geometry)\n",
    "\"\"\"\n",
    "\n",
    "# matching the areas of ponderation to their sectors:\n",
    "df_nb_match = spark.sql(Q_NEIGHBORHOOD_ZIPCODE_MATCH)\n",
    "df_nb_match.createOrReplaceTempView(\"tb_nb_match\")"
   ]
  },
  {
   "cell_type": "code",
   "execution_count": 138,
   "metadata": {},
   "outputs": [],
   "source": [
    "# adding the features to the ponderation area back:\n",
    "Q_NB_RAW_FEATURES = \"\"\"\n",
    "SELECT\n",
    "    A.neighborhood_name,\n",
    "    B.*\n",
    "FROM tb_nb_match as A\n",
    "LEFT JOIN tb_zip_features as B\n",
    "ON A.zipcode = B.zipcode\n",
    "\"\"\"\n",
    "\n",
    "# reading back the dataset:\n",
    "df_nb_raw_features = spark.sql(Q_NB_RAW_FEATURES)"
   ]
  },
  {
   "cell_type": "code",
   "execution_count": 140,
   "metadata": {},
   "outputs": [],
   "source": [
    "# removing the prefixes:\n",
    "for col in df_nb_raw_features.columns:\n",
    "    if col != \"zipcode\":\n",
    "        df_nb_raw_features = df_nb_raw_features.withColumnRenamed(\n",
    "            col, col.replace(\"zipcode_\", \"\")\n",
    "        )"
   ]
  },
  {
   "cell_type": "markdown",
   "metadata": {},
   "source": [
    "### 6.2.1 Aggregating Neighborhood Features"
   ]
  },
  {
   "cell_type": "code",
   "execution_count": 142,
   "metadata": {},
   "outputs": [],
   "source": [
    "df_iptu_neighborhood = df_nb_raw_features.groupby(\"neighborhood_name\").agg(\n",
    "    F.sum(F.col(\"number_unique_owners\")).alias(\"total_unique_owners\"),\n",
    "    F.sum(F.col(\"number_property\")).alias(\"total_number_properties\"),\n",
    "    F.avg(F.col(\"average_area_built\")).alias(\"average_area_built\"),\n",
    "    F.avg(F.col(\"average_area_lot\")).alias(\"average_area_lot\"),\n",
    "    F.avg(F.col(\"average_area_occupied\")).alias(\"average_area_occupied\"),\n",
    "    F.avg(F.col(\"average_construction_year\")).alias(\"average_construction_year\"),\n",
    "    F.avg(F.col(\"average_construction_square_meter_value\")).alias(\n",
    "        \"average_construction_square_meter_value\"\n",
    "    ),\n",
    "    F.avg(F.col(\"average_fraction_factor\")).alias(\"average_fraction_factor\"),\n",
    "    F.avg(F.col(\"average_front_factor\")).alias(\"average_front_factor\"),\n",
    "    F.avg(F.col(\"average_lot_square_meter_value\")).alias(\n",
    "        \"average_lot_square_meter_value\"\n",
    "    ),\n",
    "    F.avg(F.col(\"average_number_floors\")).alias(\"average_number_floors\"),\n",
    "    F.avg(F.col(\"average_number_fronts_corners\")).alias(\n",
    "        \"average_number_fronts_corners\"\n",
    "    ),\n",
    "    F.avg(F.col(\"average_obsolescence_factor\")).alias(\"average_obsolescence_factor\"),\n",
    "    F.avg(F.col(\"average_owner_start_contribution_year\")).alias(\n",
    "        \"average_owner_start_contribution_year\"\n",
    "    ),\n",
    "    F.avg(F.col(\"average_property_age\")).alias(\"average_property_age\"),\n",
    "    F.avg(F.col(\"average_years_of_ownership\")).alias(\"average_years_of_ownership\"),\n",
    ")\n",
    "\n",
    "# fixing the column names:\n",
    "new_columns = list(map(lambda col: f\"neighborhood_{col}\", df_iptu_neighborhood.columns))\n",
    "\n",
    "for i in range(len(df_iptu_neighborhood.columns)):\n",
    "    df_iptu_neighborhood = df_iptu_neighborhood.withColumnRenamed(\n",
    "        df_iptu_neighborhood.columns[i], new_columns[i]\n",
    "    )\n",
    "\n",
    "df_iptu_neighborhood = df_iptu_neighborhood.withColumnRenamed(\n",
    "    \"neighborhood_neighborhood_name\", \"neighborhood\"\n",
    ")"
   ]
  },
  {
   "cell_type": "markdown",
   "metadata": {},
   "source": [
    "### 6.2.2 Joining features to Geometries"
   ]
  },
  {
   "cell_type": "code",
   "execution_count": 146,
   "metadata": {},
   "outputs": [],
   "source": [
    "# adding the resulting dataframe to the SQL Context:\n",
    "df_iptu_neighborhood.createOrReplaceTempView(\"tb_neighborhood_features\")\n",
    "\n",
    "# generating the final level of aggregation for the census features:\n",
    "Q_NB_GEOM = \"\"\"\n",
    "SELECT\n",
    "    A.*,\n",
    "    B.geometry,\n",
    "    ST_Centroid(B.geometry) as neighborhood_centroid\n",
    "FROM tb_neighborhood_features as A\n",
    "LEFT JOIN tb_neighborhood as B \n",
    "ON A.neighborhood = B.Name\n",
    "\"\"\"\n",
    "\n",
    "df_nb_final = spark.sql(Q_NB_GEOM)"
   ]
  },
  {
   "cell_type": "markdown",
   "metadata": {},
   "source": [
    "### 6.2.3 Exporting Neighborhood level features"
   ]
  },
  {
   "cell_type": "code",
   "execution_count": 148,
   "metadata": {},
   "outputs": [
    {
     "data": {
      "text/plain": [
       "True"
      ]
     },
     "execution_count": 148,
     "metadata": {},
     "output_type": "execute_result"
    }
   ],
   "source": [
    "# saving the results the results without geometries:\n",
    "PROCESSED_IPTU_FEATURES = \"../data/processed/sp_iptu/\"\n",
    "\n",
    "NB_FEATURES = f\"tb_neighborhood_iptu\"\n",
    "\n",
    "save_to_filesystem(\n",
    "    df_nb_final, PROCESSED_IPTU_FEATURES, NB_FEATURES, NB_FEATURES + \".parquet\"\n",
    ")"
   ]
  },
  {
   "cell_type": "code",
   "execution_count": 149,
   "metadata": {},
   "outputs": [
    {
     "data": {
      "text/plain": [
       "True"
      ]
     },
     "execution_count": 149,
     "metadata": {},
     "output_type": "execute_result"
    }
   ],
   "source": [
    "# saving the results the results without geometries:\n",
    "NB_NO_GEO = f\"tb_neighborhood_iptu_no_geo\"\n",
    "\n",
    "df_nb_no_geo = df_nb_final.drop(\"geometry\", \"neighborhood_centroid\")\n",
    "\n",
    "save_to_filesystem(\n",
    "    df_nb_no_geo, PROCESSED_IPTU_FEATURES, NB_NO_GEO, NB_NO_GEO + \".parquet\"\n",
    ")"
   ]
  },
  {
   "cell_type": "markdown",
   "metadata": {},
   "source": [
    "## 6.3 District Features"
   ]
  },
  {
   "cell_type": "code",
   "execution_count": 166,
   "metadata": {},
   "outputs": [
    {
     "data": {
      "text/html": [
       "<table border='1'>\n",
       "<tr><th>geometry</th><th>district_name</th><th>district_abbreviation</th><th>district_code</th><th>subdistrict_code</th></tr>\n",
       "<tr><td>POLYGON ((-46.446...</td><td>JOSE BONIFACIO</td><td>JBO</td><td>47</td><td>27</td></tr>\n",
       "<tr><td>POLYGON ((-46.758...</td><td>JD SAO LUIS</td><td>JDS</td><td>46</td><td>18</td></tr>\n",
       "<tr><td>POLYGON ((-46.475...</td><td>ARTUR ALVIM</td><td>AAL</td><td>5</td><td>21</td></tr>\n",
       "<tr><td>POLYGON ((-46.756...</td><td>JAGUARA</td><td>JAG</td><td>40</td><td>08</td></tr>\n",
       "<tr><td>POLYGON ((-46.581...</td><td>VILA PRUDENTE</td><td>VPR</td><td>93</td><td>29</td></tr>\n",
       "</table>\n",
       "only showing top 5 rows\n"
      ],
      "text/plain": [
       "+--------------------+--------------+---------------------+-------------+----------------+\n",
       "|            geometry| district_name|district_abbreviation|district_code|subdistrict_code|\n",
       "+--------------------+--------------+---------------------+-------------+----------------+\n",
       "|POLYGON ((-46.446...|JOSE BONIFACIO|                  JBO|           47|              27|\n",
       "|POLYGON ((-46.758...|   JD SAO LUIS|                  JDS|           46|              18|\n",
       "|POLYGON ((-46.475...|   ARTUR ALVIM|                  AAL|            5|              21|\n",
       "|POLYGON ((-46.756...|       JAGUARA|                  JAG|           40|              08|\n",
       "|POLYGON ((-46.581...| VILA PRUDENTE|                  VPR|           93|              29|\n",
       "+--------------------+--------------+---------------------+-------------+----------------+\n",
       "only showing top 5 rows"
      ]
     },
     "execution_count": 166,
     "metadata": {},
     "output_type": "execute_result"
    }
   ],
   "source": [
    "# reading the neighborhoods files:\n",
    "district_rdd = ShapefileReader.readToGeometryRDD(\n",
    "    sc=spark, inputPath=RAW_DATA_DIR + \"sp_layers/districts/*\"\n",
    ")\n",
    "\n",
    "df_district = Adapter.toDf(district_rdd, spark)\n",
    "\n",
    "# dropping the unnecessary columns:\n",
    "df_district = df_district.drop(\n",
    "    \"CLASSID\", \"FEATID\", \"REVISIONNU\", \"DATA_CRIAC\", \"USUARIO_ID\"\n",
    ")\n",
    "\n",
    "df_district.createOrReplaceTempView(\"tb_district\")\n",
    "\n",
    "# converting the coordinate system in the district file:\n",
    "Q_DISTRICT_CONVERSION = \"\"\"\n",
    "SELECT \n",
    "    ST_FlipCoordinates(ST_Transform(A.geometry, 'epsg:29193','epsg:4326')) as geometry,\n",
    "    A.NOME_DIST as district_name,\n",
    "    A.SIGLA_DIST as district_abbreviation,\n",
    "    A.COD_DIST as district_code,\n",
    "    A.COD_SUB as subdistrict_code\n",
    "FROM tb_district as A\n",
    "\"\"\"\n",
    "\n",
    "df_district = spark.sql(Q_DISTRICT_CONVERSION)\n",
    "df_district.createOrReplaceTempView(\"tb_district\")\n",
    "\n",
    "# veriyfing the results:\n",
    "df_district"
   ]
  },
  {
   "cell_type": "code",
   "execution_count": 167,
   "metadata": {},
   "outputs": [],
   "source": [
    "# performing the join of the zipcodes onto the neighborhoods:\n",
    "Q_DISTRICT_MATCH = \"\"\"\n",
    "SELECT \n",
    "    B.district_name,\n",
    "    A.zipcode\n",
    "FROM tb_zipcode as A, tb_district as B\n",
    "WHERE ST_Intersects(B.geometry, A.geometry)\n",
    "\"\"\"\n",
    "\n",
    "# matching the areas of ponderation to their sectors:\n",
    "df_district_match = spark.sql(Q_DISTRICT_MATCH)\n",
    "df_district_match.createOrReplaceTempView(\"tb_district_match\")"
   ]
  },
  {
   "cell_type": "code",
   "execution_count": 168,
   "metadata": {},
   "outputs": [],
   "source": [
    "# adding the features to the ponderation area back:\n",
    "Q_DISTRICT_RAW_FEATURES = \"\"\"\n",
    "SELECT\n",
    "    A.district_name,\n",
    "    B.*\n",
    "FROM tb_district_match as A\n",
    "LEFT JOIN tb_zip_features as B\n",
    "ON A.zipcode = B.zipcode\n",
    "\"\"\"\n",
    "\n",
    "# reading back the dataset:\n",
    "df_district_raw_features = spark.sql(Q_DISTRICT_RAW_FEATURES)"
   ]
  },
  {
   "cell_type": "code",
   "execution_count": 169,
   "metadata": {},
   "outputs": [],
   "source": [
    "# removing the prefixes:\n",
    "for col in df_district_raw_features.columns:\n",
    "    if col != \"zipcode\":\n",
    "        df_district_raw_features = df_district_raw_features.withColumnRenamed(\n",
    "            col, col.replace(\"zipcode_\", \"\")\n",
    "        )"
   ]
  },
  {
   "cell_type": "markdown",
   "metadata": {},
   "source": [
    "### 6.3.1 Aggregating District Features"
   ]
  },
  {
   "cell_type": "code",
   "execution_count": 170,
   "metadata": {},
   "outputs": [],
   "source": [
    "df_iptu_district = df_district_raw_features.groupby(\"district_name\").agg(\n",
    "    F.sum(F.col(\"number_unique_owners\")).alias(\"total_unique_owners\"),\n",
    "    F.sum(F.col(\"number_property\")).alias(\"total_number_properties\"),\n",
    "    F.avg(F.col(\"average_area_built\")).alias(\"average_area_built\"),\n",
    "    F.avg(F.col(\"average_area_lot\")).alias(\"average_area_lot\"),\n",
    "    F.avg(F.col(\"average_area_occupied\")).alias(\"average_area_occupied\"),\n",
    "    F.avg(F.col(\"average_construction_year\")).alias(\"average_construction_year\"),\n",
    "    F.avg(F.col(\"average_construction_square_meter_value\")).alias(\n",
    "        \"average_construction_square_meter_value\"\n",
    "    ),\n",
    "    F.avg(F.col(\"average_fraction_factor\")).alias(\"average_fraction_factor\"),\n",
    "    F.avg(F.col(\"average_front_factor\")).alias(\"average_front_factor\"),\n",
    "    F.avg(F.col(\"average_lot_square_meter_value\")).alias(\n",
    "        \"average_lot_square_meter_value\"\n",
    "    ),\n",
    "    F.avg(F.col(\"average_number_floors\")).alias(\"average_number_floors\"),\n",
    "    F.avg(F.col(\"average_number_fronts_corners\")).alias(\n",
    "        \"average_number_fronts_corners\"\n",
    "    ),\n",
    "    F.avg(F.col(\"average_obsolescence_factor\")).alias(\"average_obsolescence_factor\"),\n",
    "    F.avg(F.col(\"average_owner_start_contribution_year\")).alias(\n",
    "        \"average_owner_start_contribution_year\"\n",
    "    ),\n",
    "    F.avg(F.col(\"average_property_age\")).alias(\"average_property_age\"),\n",
    "    F.avg(F.col(\"average_years_of_ownership\")).alias(\"average_years_of_ownership\"),\n",
    ")\n",
    "\n",
    "# fixing the column names:\n",
    "new_columns = list(map(lambda col: f\"district_{col}\", df_iptu_district.columns))\n",
    "\n",
    "for i in range(len(df_iptu_district.columns)):\n",
    "    df_iptu_district = df_iptu_district.withColumnRenamed(\n",
    "        df_iptu_district.columns[i], new_columns[i]\n",
    "    )\n",
    "\n",
    "df_iptu_district = df_iptu_district.withColumnRenamed(\n",
    "    \"district_district_name\", \"district\"\n",
    ")"
   ]
  },
  {
   "cell_type": "markdown",
   "metadata": {},
   "source": [
    "### 6.3.2 Joining features to Geometries"
   ]
  },
  {
   "cell_type": "code",
   "execution_count": 171,
   "metadata": {},
   "outputs": [],
   "source": [
    "# adding the resulting dataframe to the SQL Context:\n",
    "df_iptu_district.createOrReplaceTempView(\"tb_district_features\")\n",
    "\n",
    "# generating the final level of aggregation for the census features:\n",
    "Q_DISTRICT_GEOM = \"\"\"\n",
    "SELECT\n",
    "    A.*,\n",
    "    B.geometry,\n",
    "    ST_Centroid(B.geometry) as district_centroid\n",
    "FROM tb_district_features as A\n",
    "LEFT JOIN tb_district as B \n",
    "ON A.district = B.district_name\n",
    "\"\"\"\n",
    "\n",
    "df_district_final = spark.sql(Q_DISTRICT_GEOM)"
   ]
  },
  {
   "cell_type": "markdown",
   "metadata": {},
   "source": [
    "### 6.3.3 Exporting District level features"
   ]
  },
  {
   "cell_type": "code",
   "execution_count": 172,
   "metadata": {},
   "outputs": [
    {
     "data": {
      "text/plain": [
       "True"
      ]
     },
     "execution_count": 172,
     "metadata": {},
     "output_type": "execute_result"
    }
   ],
   "source": [
    "# saving the results the results without geometries:\n",
    "PROCESSED_IPTU_FEATURES = \"../data/processed/sp_iptu/\"\n",
    "\n",
    "DIST_FEATURES = f\"tb_district_iptu\"\n",
    "\n",
    "save_to_filesystem(\n",
    "    df_district_final,\n",
    "    PROCESSED_IPTU_FEATURES,\n",
    "    DIST_FEATURES,\n",
    "    DIST_FEATURES + \".parquet\",\n",
    ")"
   ]
  },
  {
   "cell_type": "code",
   "execution_count": 173,
   "metadata": {},
   "outputs": [
    {
     "data": {
      "text/plain": [
       "True"
      ]
     },
     "execution_count": 173,
     "metadata": {},
     "output_type": "execute_result"
    }
   ],
   "source": [
    "# saving the results the results without geometries:\n",
    "DIST_NO_GEO = f\"tb_district_iptu_no_geo\"\n",
    "\n",
    "df_district_no_geo = df_district_final.drop(\"geometry\", \"district_centroid\")\n",
    "\n",
    "save_to_filesystem(\n",
    "    df_district_no_geo, PROCESSED_IPTU_FEATURES, DIST_NO_GEO, DIST_NO_GEO + \".parquet\"\n",
    ")"
   ]
  },
  {
   "cell_type": "markdown",
   "metadata": {},
   "source": [
    "## 6.4 Area of Ponderation Features"
   ]
  },
  {
   "cell_type": "code",
   "execution_count": 15,
   "metadata": {},
   "outputs": [],
   "source": [
    "# reading the area of ponderation files:\n",
    "ap_rdd = ShapefileReader.readToGeometryRDD(\n",
    "    sc=spark, inputPath=RAW_DATA_DIR + \"sp_layers/census_ponderations/*\"\n",
    ")\n",
    "\n",
    "df_ap = Adapter.toDf(ap_rdd, spark)\n",
    "\n",
    "# adding the geometry dataframes to the SQL Context:\n",
    "df_ap.createOrReplaceTempView(\"tb_ponderation\")\n",
    "\n",
    "Q_AP_CONVERSION = \"\"\"\n",
    "SELECT \n",
    "    ST_FlipCoordinates(ST_Transform(A.geometry, 'epsg:29193','epsg:4326')) as geometry,\n",
    "    A.AREA as ponderation_area,\n",
    "    A.COD_AED as ponderation_area_code\n",
    "FROM tb_ponderation as A\n",
    "\"\"\"\n",
    "\n",
    "# converting the CRS to the standard format:\n",
    "df_ap = spark.sql(Q_AP_CONVERSION)\n",
    "\n",
    "# adding the geometry dataframes to the SQL Context:\n",
    "df_ap.createOrReplaceTempView(\"tb_ponderation\")"
   ]
  },
  {
   "cell_type": "code",
   "execution_count": 16,
   "metadata": {},
   "outputs": [
    {
     "data": {
      "text/html": [
       "<table border='1'>\n",
       "<tr><th>geometry</th><th>ponderation_area</th><th>ponderation_area_code</th></tr>\n",
       "<tr><td>POLYGON ((-46.782...</td><td>10.450821</td><td>3550308005243</td></tr>\n",
       "<tr><td>POLYGON ((-46.755...</td><td>13.241315</td><td>3550308005242</td></tr>\n",
       "<tr><td>POLYGON ((-46.708...</td><td>4.180473</td><td>3550308005309</td></tr>\n",
       "<tr><td>POLYGON ((-46.700...</td><td>11.936847</td><td>3550308005189</td></tr>\n",
       "<tr><td>POLYGON ((-46.677...</td><td>7.321331</td><td>3550308005127</td></tr>\n",
       "</table>\n",
       "only showing top 5 rows\n"
      ],
      "text/plain": [
       "+--------------------+----------------+---------------------+\n",
       "|            geometry|ponderation_area|ponderation_area_code|\n",
       "+--------------------+----------------+---------------------+\n",
       "|POLYGON ((-46.782...|       10.450821|        3550308005243|\n",
       "|POLYGON ((-46.755...|       13.241315|        3550308005242|\n",
       "|POLYGON ((-46.708...|        4.180473|        3550308005309|\n",
       "|POLYGON ((-46.700...|       11.936847|        3550308005189|\n",
       "|POLYGON ((-46.677...|        7.321331|        3550308005127|\n",
       "+--------------------+----------------+---------------------+\n",
       "only showing top 5 rows"
      ]
     },
     "execution_count": 16,
     "metadata": {},
     "output_type": "execute_result"
    }
   ],
   "source": [
    "# verifying the results:\n",
    "df_ap"
   ]
  },
  {
   "cell_type": "code",
   "execution_count": 17,
   "metadata": {},
   "outputs": [],
   "source": [
    "# performing the join of the zipcodes onto the areas of ponderation:\n",
    "Q_PONDERATION_MATCH = \"\"\"\n",
    "SELECT \n",
    "    B.ponderation_area_code,\n",
    "    A.zipcode\n",
    "FROM tb_zipcode as A, tb_ponderation as B\n",
    "WHERE ST_Intersects(B.geometry, A.geometry)\n",
    "\"\"\"\n",
    "\n",
    "# matching the areas of ponderation to their sectors:\n",
    "df_ap_match = spark.sql(Q_PONDERATION_MATCH)\n",
    "df_ap_match.createOrReplaceTempView(\"tb_ponderation_match\")"
   ]
  },
  {
   "cell_type": "code",
   "execution_count": 24,
   "metadata": {},
   "outputs": [],
   "source": [
    "# adding the features to the ponderation area back:\n",
    "Q_PONDERATION_RAW_FEATURES = \"\"\"\n",
    "SELECT\n",
    "    A.ponderation_area_code,\n",
    "    B.*\n",
    "FROM tb_ponderation_match as A\n",
    "LEFT JOIN tb_zip_features as B\n",
    "ON A.zipcode = B.zipcode\n",
    "\"\"\"\n",
    "\n",
    "# reading back the dataset:\n",
    "df_ap_raw_features = spark.sql(Q_PONDERATION_RAW_FEATURES)"
   ]
  },
  {
   "cell_type": "code",
   "execution_count": 26,
   "metadata": {},
   "outputs": [],
   "source": [
    "# removing the prefixes:\n",
    "for col in df_ap_raw_features.columns:\n",
    "    if col != \"zipcode\":\n",
    "        df_ap_raw_features = df_ap_raw_features.withColumnRenamed(\n",
    "            col, col.replace(\"zipcode_\", \"\")\n",
    "        )"
   ]
  },
  {
   "cell_type": "markdown",
   "metadata": {},
   "source": [
    "### 6.4.1 Aggregating Area of Ponderation Features"
   ]
  },
  {
   "cell_type": "code",
   "execution_count": 28,
   "metadata": {},
   "outputs": [],
   "source": [
    "df_iptu_ponderation = df_ap_raw_features.groupby(\"ponderation_area_code\").agg(\n",
    "    F.sum(F.col(\"number_unique_owners\")).alias(\"total_unique_owners\"),\n",
    "    F.sum(F.col(\"number_property\")).alias(\"total_number_properties\"),\n",
    "    F.avg(F.col(\"average_area_built\")).alias(\"average_area_built\"),\n",
    "    F.avg(F.col(\"average_area_lot\")).alias(\"average_area_lot\"),\n",
    "    F.avg(F.col(\"average_area_occupied\")).alias(\"average_area_occupied\"),\n",
    "    F.avg(F.col(\"average_construction_year\")).alias(\"average_construction_year\"),\n",
    "    F.avg(F.col(\"average_construction_square_meter_value\")).alias(\n",
    "        \"average_construction_square_meter_value\"\n",
    "    ),\n",
    "    F.avg(F.col(\"average_fraction_factor\")).alias(\"average_fraction_factor\"),\n",
    "    F.avg(F.col(\"average_front_factor\")).alias(\"average_front_factor\"),\n",
    "    F.avg(F.col(\"average_lot_square_meter_value\")).alias(\n",
    "        \"average_lot_square_meter_value\"\n",
    "    ),\n",
    "    F.avg(F.col(\"average_number_floors\")).alias(\"average_number_floors\"),\n",
    "    F.avg(F.col(\"average_number_fronts_corners\")).alias(\n",
    "        \"average_number_fronts_corners\"\n",
    "    ),\n",
    "    F.avg(F.col(\"average_obsolescence_factor\")).alias(\"average_obsolescence_factor\"),\n",
    "    F.avg(F.col(\"average_owner_start_contribution_year\")).alias(\n",
    "        \"average_owner_start_contribution_year\"\n",
    "    ),\n",
    "    F.avg(F.col(\"average_property_age\")).alias(\"average_property_age\"),\n",
    "    F.avg(F.col(\"average_years_of_ownership\")).alias(\"average_years_of_ownership\"),\n",
    ")\n",
    "\n",
    "# fixing the column names:\n",
    "new_columns = list(\n",
    "    map(lambda col: f\"ponderation_area_{col}\", df_iptu_ponderation.columns)\n",
    ")\n",
    "\n",
    "for i in range(len(df_iptu_ponderation.columns)):\n",
    "    df_iptu_ponderation = df_iptu_ponderation.withColumnRenamed(\n",
    "        df_iptu_ponderation.columns[i], new_columns[i]\n",
    "    )\n",
    "\n",
    "df_iptu_ponderation = df_iptu_ponderation.withColumnRenamed(\n",
    "    \"ponderation_area_ponderation_area_code\", \"ponderation_area_code\"\n",
    ")"
   ]
  },
  {
   "cell_type": "markdown",
   "metadata": {},
   "source": [
    "### 6.4.2 Joining features to Geometries"
   ]
  },
  {
   "cell_type": "code",
   "execution_count": 31,
   "metadata": {},
   "outputs": [],
   "source": [
    "# adding the resulting dataframe to the SQL Context:\n",
    "df_iptu_ponderation.createOrReplaceTempView(\"tb_ponderation_features\")\n",
    "\n",
    "# generating the final level of aggregation for the census features:\n",
    "Q_PONDERATION_GEOM = \"\"\"\n",
    "SELECT\n",
    "    A.*,\n",
    "    B.geometry,\n",
    "    ST_Centroid(B.geometry) as ponderation_area_centroid\n",
    "FROM tb_ponderation_features as A\n",
    "LEFT JOIN tb_ponderation as B \n",
    "ON A.ponderation_area_code = B.ponderation_area_code\n",
    "\"\"\"\n",
    "\n",
    "df_ponderation_final = spark.sql(Q_PONDERATION_GEOM)"
   ]
  },
  {
   "cell_type": "markdown",
   "metadata": {},
   "source": [
    "### 6.4.3 Exporting Ponderation level features"
   ]
  },
  {
   "cell_type": "code",
   "execution_count": 32,
   "metadata": {},
   "outputs": [
    {
     "data": {
      "text/plain": [
       "True"
      ]
     },
     "execution_count": 32,
     "metadata": {},
     "output_type": "execute_result"
    }
   ],
   "source": [
    "# saving the results the results without geometries:\n",
    "PROCESSED_IPTU_FEATURES = \"../data/processed/sp_iptu/\"\n",
    "\n",
    "PONDERATION_FEATURES = f\"tb_ponderation_iptu\"\n",
    "\n",
    "save_to_filesystem(\n",
    "    df_ponderation_final,\n",
    "    PROCESSED_IPTU_FEATURES,\n",
    "    PONDERATION_FEATURES,\n",
    "    PONDERATION_FEATURES + \".parquet\",\n",
    ")"
   ]
  },
  {
   "cell_type": "code",
   "execution_count": 33,
   "metadata": {},
   "outputs": [
    {
     "data": {
      "text/plain": [
       "True"
      ]
     },
     "execution_count": 33,
     "metadata": {},
     "output_type": "execute_result"
    }
   ],
   "source": [
    "# saving the results the results without geometries:\n",
    "PONDERATION_NO_GEO = f\"tb_ponderation_iptu_no_geo\"\n",
    "\n",
    "df_ponderation_no_geo = df_ponderation_final.drop(\n",
    "    \"geometry\", \"ponderation_area_centroid\"\n",
    ")\n",
    "\n",
    "save_to_filesystem(\n",
    "    df_ponderation_no_geo,\n",
    "    PROCESSED_IPTU_FEATURES,\n",
    "    PONDERATION_NO_GEO,\n",
    "    PONDERATION_NO_GEO + \".parquet\",\n",
    ")"
   ]
  }
 ],
 "metadata": {
  "kernelspec": {
   "display_name": "Python 3",
   "language": "python",
   "name": "python3"
  },
  "language_info": {
   "codemirror_mode": {
    "name": "ipython",
    "version": 3
   },
   "file_extension": ".py",
   "mimetype": "text/x-python",
   "name": "python",
   "nbconvert_exporter": "python",
   "pygments_lexer": "ipython3",
   "version": "3.8.8"
  }
 },
 "nbformat": 4,
 "nbformat_minor": 4
}
