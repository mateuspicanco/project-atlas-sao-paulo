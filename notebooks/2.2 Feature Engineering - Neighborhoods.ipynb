{
 "cells": [
  {
   "cell_type": "markdown",
   "metadata": {},
   "source": [
    "# Feature Engineering - Neighborhoods"
   ]
  },
  {
   "cell_type": "code",
   "execution_count": 155,
   "metadata": {},
   "outputs": [],
   "source": [
    "# installing the requirements:\n",
    "!pip install -r ../configs/dependencies/dataprep_requirements.txt >> ../configs/dependencies/package_installation.txt"
   ]
  },
  {
   "cell_type": "code",
   "execution_count": 156,
   "metadata": {},
   "outputs": [
    {
     "name": "stdout",
     "output_type": "stream",
     "text": [
      "The lab_black extension is already loaded. To reload it, use:\n",
      "  %reload_ext lab_black\n",
      "The autoreload extension is already loaded. To reload it, use:\n",
      "  %reload_ext autoreload\n"
     ]
    }
   ],
   "source": [
    "# loading the magic commands:\n",
    "%load_ext lab_black\n",
    "%load_ext autoreload\n",
    "%autoreload 2"
   ]
  },
  {
   "cell_type": "code",
   "execution_count": 157,
   "metadata": {},
   "outputs": [],
   "source": [
    "###### Loading the necessary libraries #########\n",
    "\n",
    "# PySpark dependencies:s\n",
    "import pyspark\n",
    "from pyspark import SparkConf\n",
    "from pyspark import SparkContext\n",
    "from pyspark.sql import SparkSession\n",
    "from pyspark.sql import SQLContext\n",
    "import pyspark.sql.functions as F\n",
    "from pyspark.sql.functions import udf\n",
    "import pyspark.sql.types as T\n",
    "from pyspark.sql.window import Window\n",
    "\n",
    "# Sedona dependencies:\n",
    "from sedona.utils.adapter import Adapter\n",
    "from sedona.register import SedonaRegistrator\n",
    "from sedona.utils import KryoSerializer, SedonaKryoRegistrator\n",
    "from sedona.core.SpatialRDD import SpatialRDD\n",
    "from sedona.core.formatMapper.shapefileParser import ShapefileReader\n",
    "from sedona.core.formatMapper import GeoJsonReader\n",
    "\n",
    "# database utilities:\n",
    "from sqlalchemy import create_engine\n",
    "import sqlite3 as db\n",
    "import pandas as pd\n",
    "from tqdm import tqdm\n",
    "import geopandas as gpd\n",
    "import fiona\n",
    "\n",
    "# plotting and data visualization:\n",
    "import matplotlib.pyplot as plt\n",
    "import seaborn as sns\n",
    "from IPython.display import HTML, Image\n",
    "\n",
    "# other relevant libraries:\n",
    "import warnings\n",
    "import unidecode\n",
    "import inflection\n",
    "import unicodedata\n",
    "from datetime import datetime, timedelta\n",
    "from functools import partial\n",
    "import json\n",
    "import re\n",
    "import os\n",
    "from glob import glob\n",
    "import shutil\n",
    "import itertools\n",
    "import chardet\n",
    "\n",
    "# importing the atlas utilities:\n",
    "from atlasutils import (\n",
    "    save_to_filesystem,\n",
    "    save_as_table,\n",
    "    rotate_xticks,\n",
    "    get_file_encoding,\n",
    "    normalize_entities,\n",
    "    normalize_column_name,\n",
    "    apply_category_map,\n",
    "    standardize_variable_names,\n",
    "    get_null_columns,\n",
    "    replace_decimal_separator,\n",
    "    convert_to_geopandas,\n",
    "    drop_invalid_census_columns,\n",
    "    clean_census_column_name,\n",
    "    get_file_crs,\n",
    "    get_column_values,\n",
    "    load_geospatial_file,\n",
    "    convert_geometry,\n",
    "    rank_feature,\n",
    "    save_geospatial_file,\n",
    ")\n",
    "\n",
    "\n",
    "# setting global parameters for visualizationsss:\n",
    "warnings.filterwarnings(\"ignore\")\n",
    "pd.set_option(\"display.precision\", 4)\n",
    "pd.set_option(\"display.float_format\", lambda x: \"%.2f\" % x)"
   ]
  },
  {
   "cell_type": "markdown",
   "metadata": {},
   "source": [
    "# 0. Configuring Spark"
   ]
  },
  {
   "cell_type": "code",
   "execution_count": 158,
   "metadata": {},
   "outputs": [],
   "source": [
    "# function to encapsulate standard spark configurations:\n",
    "def init_spark(app_name):\n",
    "\n",
    "    spark = (\n",
    "        SparkSession.builder.appName(app_name)\n",
    "        .config(\"spark.files.overwrite\", \"true\")\n",
    "        .config(\"spark.serializer\", KryoSerializer.getName)\n",
    "        .config(\"spark.kryo.registrator\", SedonaKryoRegistrator.getName)\n",
    "        .config(\n",
    "            \"spark.jars.packages\",\n",
    "            \"org.apache.sedona:sedona-python-adapter-3.0_2.12:1.0.1-incubating,\"\n",
    "            \"org.datasyslab:geotools-wrapper:geotools-24.1\",\n",
    "        )\n",
    "        .config(\"spark.sql.repl.eagerEval.enabled\", True)\n",
    "        .config(\"spark.sql.repl.eagerEval.maxNumRows\", 5)\n",
    "        .config(\"spark.sql.legacy.timeParserPolicy\", \"LEGACY\")\n",
    "        .config(\"spark.sql.parquet.compression.codec\", \"gzip\")\n",
    "        .config(\"sedona.global.charset\", \"utf8\")\n",
    "        .config(\"sedona.global.index\", \"true\")\n",
    "        .enableHiveSupport()\n",
    "        .getOrCreate()\n",
    "    )\n",
    "\n",
    "    SedonaRegistrator.registerAll(spark)\n",
    "\n",
    "    return spark"
   ]
  },
  {
   "cell_type": "code",
   "execution_count": 164,
   "metadata": {},
   "outputs": [],
   "source": [
    "# init the spark session:\n",
    "spark = init_spark(\"SP Atlas - Neighborhood-level Feature Engineering\")"
   ]
  },
  {
   "cell_type": "code",
   "execution_count": 165,
   "metadata": {},
   "outputs": [
    {
     "data": {
      "text/html": [
       "\n",
       "            <div>\n",
       "                <p><b>SparkSession - hive</b></p>\n",
       "                \n",
       "        <div>\n",
       "            <p><b>SparkContext</b></p>\n",
       "\n",
       "            <p><a href=\"http://192.168.15.58:4040\">Spark UI</a></p>\n",
       "\n",
       "            <dl>\n",
       "              <dt>Version</dt>\n",
       "                <dd><code>v3.1.1</code></dd>\n",
       "              <dt>Master</dt>\n",
       "                <dd><code>local[*]</code></dd>\n",
       "              <dt>AppName</dt>\n",
       "                <dd><code>SP Atlas - IBGE Census</code></dd>\n",
       "            </dl>\n",
       "        </div>\n",
       "        \n",
       "            </div>\n",
       "        "
      ],
      "text/plain": [
       "<pyspark.sql.session.SparkSession at 0x7ff9d125e0a0>"
      ]
     },
     "execution_count": 165,
     "metadata": {},
     "output_type": "execute_result"
    }
   ],
   "source": [
    "# verifying the session status:\n",
    "spark"
   ]
  },
  {
   "cell_type": "markdown",
   "metadata": {},
   "source": [
    "# 1. Loading and Inspecting the Data"
   ]
  },
  {
   "cell_type": "markdown",
   "metadata": {},
   "source": [
    "## 1.1 Additional Layers"
   ]
  },
  {
   "cell_type": "code",
   "execution_count": 166,
   "metadata": {},
   "outputs": [],
   "source": [
    "# loading the raw dataset:\n",
    "LAYERS_DATA_DIR = \"../data/raw/sp_layers/\"\n",
    "RAW_DATA_DIR = \"../data/raw/\""
   ]
  },
  {
   "cell_type": "markdown",
   "metadata": {},
   "source": [
    "### 1.1.1 Parks"
   ]
  },
  {
   "cell_type": "code",
   "execution_count": 167,
   "metadata": {},
   "outputs": [],
   "source": [
    "# loading the park data:\n",
    "df_parks = load_geospatial_file(LAYERS_DATA_DIR + \"parks/*\", spark)\n",
    "\n",
    "# convert the geometry type:\n",
    "df_parks = convert_geometry(df_parks, \"geometry\", \"epsg:29193\", \"epsg:4326\")"
   ]
  },
  {
   "cell_type": "code",
   "execution_count": 168,
   "metadata": {},
   "outputs": [],
   "source": [
    "# improving column names:\n",
    "df_parks = df_parks.select(\n",
    "    F.col(\"pq_id\").alias(\"park_id\"),\n",
    "    F.col(\"pq_area\").alias(\"park_area\"),\n",
    "    F.col(\"pq_nome\").alias(\"park_name\"),\n",
    "    F.col(\"pq_PrefReg\").alias(\"park_subprefecture\"),\n",
    "    F.col(\"geometry\"),\n",
    ")"
   ]
  },
  {
   "cell_type": "markdown",
   "metadata": {},
   "source": [
    "### 1.1.2 Favelas"
   ]
  },
  {
   "cell_type": "code",
   "execution_count": 169,
   "metadata": {},
   "outputs": [],
   "source": [
    "# loading the park data:\n",
    "df_favelas = load_geospatial_file(LAYERS_DATA_DIR + \"favelas_macro/*\", spark)\n",
    "\n",
    "# convert the geometry type:\n",
    "df_favelas = convert_geometry(df_favelas, \"geometry\", \"epsg:29193\", \"epsg:4326\")"
   ]
  },
  {
   "cell_type": "code",
   "execution_count": 170,
   "metadata": {},
   "outputs": [],
   "source": [
    "# fixing the columns:\n",
    "new_cols = [\"geometry\", \"favela_id\", \"favela_area\", \"favela_name\"]\n",
    "\n",
    "df_favelas = df_favelas.drop(\"DATULTATZ\", \"ENDERECO\", \"NOMESEC\", \"PROPRTR\")\n",
    "\n",
    "original_cols = df_favelas.columns\n",
    "cols_map = dict(zip(original_cols, new_cols))\n",
    "\n",
    "for col, new_col in cols_map.items():\n",
    "    df_favelas = df_favelas.withColumnRenamed(col, new_col)"
   ]
  },
  {
   "cell_type": "markdown",
   "metadata": {},
   "source": [
    "### 1.1.3 Train and Metro"
   ]
  },
  {
   "cell_type": "code",
   "execution_count": 171,
   "metadata": {},
   "outputs": [],
   "source": [
    "df_train = load_geospatial_file(LAYERS_DATA_DIR + \"train/*\", spark)\n",
    "df_train = convert_geometry(df_train, \"geometry\", \"epsg:29193\", \"epsg:4326\")\n",
    "\n",
    "# cleaning columns:\n",
    "df_train = df_train.select(F.col(\"geometry\"), F.col(\"etr_nome\").alias(\"station_name\"))"
   ]
  },
  {
   "cell_type": "code",
   "execution_count": 172,
   "metadata": {},
   "outputs": [],
   "source": [
    "df_metro = load_geospatial_file(LAYERS_DATA_DIR + \"metro/*\", spark)\n",
    "df_metro = convert_geometry(df_metro, \"geometry\", \"epsg:29193\", \"epsg:4326\")\n",
    "\n",
    "# cleaning columns:\n",
    "df_metro = df_metro.select(F.col(\"geometry\"), F.col(\"emt_nome\").alias(\"station_name\"))"
   ]
  },
  {
   "cell_type": "code",
   "execution_count": 173,
   "metadata": {},
   "outputs": [],
   "source": [
    "# union all dataframes:\n",
    "df_rail = df_train.union(df_metro)"
   ]
  },
  {
   "cell_type": "code",
   "execution_count": 174,
   "metadata": {},
   "outputs": [
    {
     "data": {
      "text/plain": [
       "196"
      ]
     },
     "execution_count": 174,
     "metadata": {},
     "output_type": "execute_result"
    }
   ],
   "source": [
    "# verifying the number of resulting records:\n",
    "df_rail.count()"
   ]
  },
  {
   "cell_type": "markdown",
   "metadata": {},
   "source": [
    "## 1.2 Neighborhood Features"
   ]
  },
  {
   "cell_type": "code",
   "execution_count": 177,
   "metadata": {},
   "outputs": [],
   "source": [
    "# Data prep results:\n",
    "PROCESSED_DATA_DIR = \"../data/processed/\"\n",
    "\n",
    "# reading the result from the data prep:\n",
    "df_neighborhood_census = spark.read.parquet(\n",
    "    PROCESSED_DATA_DIR\n",
    "    + \"sp_census/units_of_interest/neighborhoods/tb_neighborhood_census.parquet\"\n",
    ")\n",
    "\n",
    "df_neighborhood_iptu = spark.read.parquet(\n",
    "    PROCESSED_DATA_DIR + \"sp_iptu/tb_neighborhood_iptu_no_geo.parquet\"\n",
    ")"
   ]
  },
  {
   "cell_type": "code",
   "execution_count": 182,
   "metadata": {},
   "outputs": [],
   "source": [
    "# joinining the district base features:\n",
    "df_neighborhood = df_neighborhood_census.join(\n",
    "    df_neighborhood_iptu,\n",
    "    how=\"left\",\n",
    "    on=(df_neighborhood_census.neighborhood_name == df_neighborhood_iptu.neighborhood),\n",
    ")"
   ]
  },
  {
   "cell_type": "code",
   "execution_count": 183,
   "metadata": {},
   "outputs": [
    {
     "name": "stdout",
     "output_type": "stream",
     "text": [
      "-RECORD 0----------------------------------------------------------------------------------------------------------\n",
      " neighborhood_name                                                                          | 0.0                  \n",
      " neighborhood_alphabetized_population                                                       | 0.0                  \n",
      " neighborhood_area_in_hectares                                                              | 0.0                  \n",
      " neighborhood_average_age_household_leaders                                                 | 0.0                  \n",
      " neighborhood_average_age_women_household_leaders                                           | 0.0                  \n",
      " neighborhood_average_household_income                                                      | 0.0                  \n",
      " neighborhood_average_income_household_leaders                                              | 0.0                  \n",
      " neighborhood_average_income_women_household_leaders                                        | 0.0                  \n",
      " neighborhood_average_ipvs_factor_1                                                         | 0.0                  \n",
      " neighborhood_average_ipvs_factor_1_rural                                                   | 1.0                  \n",
      " neighborhood_average_ipvs_factor_2                                                         | 0.0                  \n",
      " neighborhood_average_ipvs_factor_2_rural                                                   | 1.0                  \n",
      " neighborhood_average_monthly_income                                                        | 0.0                  \n",
      " neighborhood_average_number_children                                                       | 4.854368932038835E-4 \n",
      " neighborhood_average_per_capita_income                                                     | 0.0                  \n",
      " neighborhood_average_permanent_private_households_with_10_or_more_residents                | 4.854368932038835E-4 \n",
      " neighborhood_average_permanent_private_households_with_1_resident                          | 4.854368932038835E-4 \n",
      " neighborhood_average_permanent_private_households_with_2_residents                         | 4.854368932038835E-4 \n",
      " neighborhood_average_permanent_private_households_with_3_residents                         | 4.854368932038835E-4 \n",
      " neighborhood_average_permanent_private_households_with_4_residents                         | 4.854368932038835E-4 \n",
      " neighborhood_average_permanent_private_households_with_5_residents                         | 4.854368932038835E-4 \n",
      " neighborhood_average_permanent_private_households_with_6_residents                         | 4.854368932038835E-4 \n",
      " neighborhood_average_permanent_private_households_with_7_residents                         | 4.854368932038835E-4 \n",
      " neighborhood_average_permanent_private_households_with_8_residents                         | 4.854368932038835E-4 \n",
      " neighborhood_average_permanent_private_households_with_9_residents                         | 4.854368932038835E-4 \n",
      " neighborhood_average_permanent_private_households_with_electricity                         | 4.854368932038835E-4 \n",
      " neighborhood_average_permanent_private_households_without_exclusive_use_bathroom_residents | 4.854368932038835E-4 \n",
      " neighborhood_average_permanent_private_houses_fully_owned                                  | 4.854368932038835E-4 \n",
      " neighborhood_average_permanent_private_houses_in_acquisition                               | 4.854368932038835E-4 \n",
      " neighborhood_average_permanent_private_properties_fully_owned                              | 4.854368932038835E-4 \n",
      " neighborhood_average_permanent_private_properties_in_acquisition                           | 4.854368932038835E-4 \n",
      " neighborhood_average_permanent_private_properties_rented                                   | 4.854368932038835E-4 \n",
      " neighborhood_average_permanent_private_rented_properties                                   | 4.854368932038835E-4 \n",
      " neighborhood_average_population_density                                                    | 0.0                  \n",
      " neighborhood_average_prop_households_access_water                                          | 0.0                  \n",
      " neighborhood_average_proportion_households_electricity                                     | 0.0                  \n",
      " neighborhood_average_proportion_households_no_income                                       | 0.0                  \n",
      " neighborhood_average_proportion_households_one_halft_sm_income                             | 0.0                  \n",
      " neighborhood_average_proportion_households_sanitation                                      | 0.0                  \n",
      " neighborhood_average_proportion_households_trash_collection                                | 0.0                  \n",
      " neighborhood_average_proportion_households_two_or_more_income                              | 0.0                  \n",
      " neighborhood_average_proportion_households_two_sm_income                                   | 0.0                  \n",
      " neighborhood_average_proportion_househols_one_eigth_sm_income                              | 0.0                  \n",
      " neighborhood_average_proportion_income_participation_in_household_responsible              | 0.0                  \n",
      " neighborhood_average_proportion_literate_people                                            | 0.0                  \n",
      " neighborhood_average_proportion_literate_women                                             | 0.0                  \n",
      " neighborhood_average_proportion_population_up_to_5_years_age                               | 0.0                  \n",
      " neighborhood_average_proportion_private_households_one_half_sm_income                      | 0.0                  \n",
      " neighborhood_average_proportion_private_households_one_quarter_sm_income                   | 0.0                  \n",
      " neighborhood_average_proportion_responsible_people_up_to_30_years                          | 0.0                  \n",
      " neighborhood_average_proportion_women_up_to_30_years                                       | 0.0                  \n",
      " neighborhood_average_residents_in_permanent_households                                     | 0.0                  \n",
      " neighborhood_average_residents_per_household                                               | 0.0                  \n",
      " neighborhood_avg_ipvs_group                                                                | 0.002912621359223301 \n",
      " neighborhood_households                                                                    | 0.0                  \n",
      " neighborhood_improvised_households                                                         | 0.0                  \n",
      " neighborhood_literacy_rate                                                                 | 0.0                  \n",
      " neighborhood_max_ipvs_group                                                                | 0.002912621359223301 \n",
      " neighborhood_min_ipvs_group                                                                | 0.002912621359223301 \n",
      " neighborhood_n_regions_high_social_vulnerability                                           | 0.0                  \n",
      " neighborhood_n_regions_low_social_vulnerability                                            | 0.0                  \n",
      " neighborhood_n_regions_medium_social_vulnerability                                         | 0.0                  \n",
      " neighborhood_number_house_workers                                                          | 4.854368932038835E-4 \n",
      " neighborhood_number_subnormal_aglomerates                                                  | 0.0                  \n",
      " neighborhood_permanent_housholds                                                           | 0.0                  \n",
      " neighborhood_permanent_private_households_with_10_or_more_residents                        | 4.854368932038835E-4 \n",
      " neighborhood_permanent_private_households_with_1_resident                                  | 4.854368932038835E-4 \n",
      " neighborhood_permanent_private_households_with_2_residents                                 | 4.854368932038835E-4 \n",
      " neighborhood_permanent_private_households_with_3_residents                                 | 4.854368932038835E-4 \n",
      " neighborhood_permanent_private_households_with_4_residents                                 | 4.854368932038835E-4 \n",
      " neighborhood_permanent_private_households_with_5_residents                                 | 4.854368932038835E-4 \n",
      " neighborhood_permanent_private_households_with_6_residents                                 | 4.854368932038835E-4 \n",
      " neighborhood_permanent_private_households_with_7_residents                                 | 4.854368932038835E-4 \n",
      " neighborhood_permanent_private_households_with_8_residents                                 | 4.854368932038835E-4 \n",
      " neighborhood_permanent_private_households_with_9_residents                                 | 4.854368932038835E-4 \n",
      " neighborhood_permanent_private_households_with_electricity                                 | 4.854368932038835E-4 \n",
      " neighborhood_permanent_private_households_with_up_to_3_bathrooms                           | 4.854368932038835E-4 \n",
      " neighborhood_permanent_private_households_without_exclusive_use_bathroom_residents         | 4.854368932038835E-4 \n",
      " neighborhood_permanent_private_houses_fully_owned                                          | 4.854368932038835E-4 \n",
      " neighborhood_permanent_private_houses_in_acquisition                                       | 4.854368932038835E-4 \n",
      " neighborhood_permanent_private_properties_fully_owned                                      | 4.854368932038835E-4 \n",
      " neighborhood_permanent_private_properties_in_acquisition                                   | 4.854368932038835E-4 \n",
      " neighborhood_permanent_private_properties_rented                                           | 4.854368932038835E-4 \n",
      " neighborhood_permanent_private_rented_properties                                           | 4.854368932038835E-4 \n",
      " neighborhood_population                                                                    | 0.0                  \n",
      " neighborhood_population_house_leaders                                                      | 0.0                  \n",
      " neighborhood_residents_in_apartments                                                       | 4.854368932038835E-4 \n",
      " neighborhood_residents_in_collective_households                                            | 0.0                  \n",
      " neighborhood_residents_in_households_acquisition                                           | 4.854368932038835E-4 \n",
      " neighborhood_residents_in_permanent_households                                             | 4.854368932038835E-4 \n",
      " neighborhood_residents_in_private_households                                               | 0.0                  \n",
      " neighborhood_residents_in_rented_properties                                                | 4.854368932038835E-4 \n",
      " geometry                                                                                   | 0.0                  \n",
      " neighborhood_centroid                                                                      | 0.0                  \n",
      " neighborhood                                                                               | 0.01116504854368932  \n",
      " neighborhood_total_unique_owners                                                           | 0.01650485436893204  \n",
      " neighborhood_total_number_properties                                                       | 0.01650485436893204  \n",
      " neighborhood_average_area_built                                                            | 0.01650485436893204  \n",
      " neighborhood_average_area_lot                                                              | 0.01650485436893204  \n",
      " neighborhood_average_area_occupied                                                         | 0.01650485436893204  \n",
      " neighborhood_average_construction_year                                                     | 0.01650485436893204  \n",
      " neighborhood_average_construction_square_meter_value                                       | 0.01650485436893204  \n",
      " neighborhood_average_fraction_factor                                                       | 0.01650485436893204  \n",
      " neighborhood_average_front_factor                                                          | 0.01650485436893204  \n",
      " neighborhood_average_lot_square_meter_value                                                | 0.01650485436893204  \n",
      " neighborhood_average_number_floors                                                         | 0.01650485436893204  \n",
      " neighborhood_average_number_fronts_corners                                                 | 0.01650485436893204  \n",
      " neighborhood_average_obsolescence_factor                                                   | 0.01650485436893204  \n",
      " neighborhood_average_owner_start_contribution_year                                         | 0.01650485436893204  \n",
      " neighborhood_average_property_age                                                          | 0.01650485436893204  \n",
      " neighborhood_average_years_of_ownership                                                    | 0.01650485436893204  \n",
      "\n"
     ]
    }
   ],
   "source": [
    "# verifying the data integrity:\n",
    "get_null_columns(df_neighborhood, normalize=True)  # looks good to go"
   ]
  },
  {
   "cell_type": "markdown",
   "metadata": {},
   "source": [
    "# 2. Generating Layer-based Features"
   ]
  },
  {
   "cell_type": "code",
   "execution_count": 184,
   "metadata": {},
   "outputs": [],
   "source": [
    "# registering dataframes to sql context:\n",
    "df_neighborhood.createOrReplaceTempView(\"tb_neighborhood\")\n",
    "df_rail.createOrReplaceTempView(\"tb_stations\")\n",
    "df_parks.createOrReplaceTempView(\"tb_parks\")\n",
    "df_favelas.createOrReplaceTempView(\"tb_favelas\")"
   ]
  },
  {
   "cell_type": "markdown",
   "metadata": {},
   "source": [
    "## 2.1 Parks\n",
    "Considering Parks as a feature takes into account two situations:\n",
    "1. A region of any kind *containing* or *crossing* a park;\n",
    "2. The distance of a region to the closest park; \n",
    "\n",
    "Since we are comparing polygons to polygons, it doesn't make much sense calculating the distance between them. Instead, we will summarize their units such that we can compare the distance between two points. In this case, we can use their centroids. \n",
    "\n",
    "> *Note: As of writing this notebook (July 4th, 2021), writing KNN queries (which is supported by Sedona's RDD api) can be made, but I will keep this for a later iteration of this project, as I am not that comfortable with the RDD api.*"
   ]
  },
  {
   "cell_type": "code",
   "execution_count": 185,
   "metadata": {},
   "outputs": [],
   "source": [
    "# adding the centroid and area of the polygons:\n",
    "Q_PARKS = \"\"\"\n",
    "SELECT \n",
    "    A.neighborhood_name,\n",
    "    B.park_name,\n",
    "    B.park_area\n",
    "FROM tb_neighborhood as A, tb_parks as B\n",
    "WHERE ST_Crosses(B.geometry, A.geometry)\n",
    "\"\"\"\n",
    "\n",
    "# matching the areas of ponderation to their sectors:\n",
    "df_parks_match = spark.sql(Q_PARKS)"
   ]
  },
  {
   "cell_type": "code",
   "execution_count": 186,
   "metadata": {},
   "outputs": [],
   "source": [
    "# grouping on district level to count the number of parks:\n",
    "df_neighborhood_parks = df_parks_match.groupby(\"neighborhood_name\").agg(\n",
    "    F.countDistinct(F.col(\"park_name\")).alias(\"n_parks\"),\n",
    "    F.sum(F.col(\"park_area\")).alias(\"total_park_area\"),\n",
    ")"
   ]
  },
  {
   "cell_type": "markdown",
   "metadata": {},
   "source": [
    "## 2.2 Favelas\n",
    "To address Favelas as a feature, we have the same criteria as the case of Parks."
   ]
  },
  {
   "cell_type": "code",
   "execution_count": 189,
   "metadata": {},
   "outputs": [],
   "source": [
    "# adding the centroid and area of the polygons:\n",
    "Q_FAVELAS = \"\"\"\n",
    "SELECT \n",
    "    A.neighborhood_name,\n",
    "    B.favela_name,\n",
    "    B.favela_area\n",
    "FROM tb_neighborhood as A, tb_favelas as B\n",
    "WHERE ST_Crosses(B.geometry, A.geometry)\n",
    "\"\"\"\n",
    "\n",
    "# matching the areas of ponderation to their sectors:\n",
    "df_favelas_match = spark.sql(Q_FAVELAS)"
   ]
  },
  {
   "cell_type": "code",
   "execution_count": 190,
   "metadata": {},
   "outputs": [],
   "source": [
    "# grouping on district level to count the number of parks:\n",
    "df_neighborhood_favelas = df_favelas_match.groupby(\"neighborhood_name\").agg(\n",
    "    F.countDistinct(F.col(\"favela_name\")).alias(\"n_favelas\"),\n",
    "    F.sum(F.col(\"favela_area\")).alias(\"total_favela_area\"),\n",
    ")"
   ]
  },
  {
   "cell_type": "markdown",
   "metadata": {},
   "source": [
    "## 2.3 Train Stations\n",
    "Different from the previous cases, the train stations are represented as points. That makes it easier to match them to the level of interest at hand, since a point can be fully contained inside a polygon."
   ]
  },
  {
   "cell_type": "code",
   "execution_count": 194,
   "metadata": {},
   "outputs": [],
   "source": [
    "# adding the centroid and area of the polygons:\n",
    "Q_STATIONS = \"\"\"\n",
    "SELECT \n",
    "    A.neighborhood_name,\n",
    "    B.station_name\n",
    "FROM tb_neighborhood as A, tb_stations as B\n",
    "WHERE ST_Contains(A.geometry, B.geometry)\n",
    "\"\"\"\n",
    "\n",
    "# matching the areas of ponderation to their sectors:\n",
    "df_stations_match = spark.sql(Q_STATIONS)"
   ]
  },
  {
   "cell_type": "code",
   "execution_count": 195,
   "metadata": {},
   "outputs": [],
   "source": [
    "# grouping on district level to count the number of stations:\n",
    "df_neighborhood_station = df_stations_match.groupby(\"neighborhood_name\").agg(\n",
    "    F.countDistinct(F.col(\"station_name\")).alias(\"n_train_stations\"),\n",
    ")"
   ]
  },
  {
   "cell_type": "markdown",
   "metadata": {},
   "source": [
    "# 3. Preparing the Layer-based features in the Neighborhood level"
   ]
  },
  {
   "cell_type": "code",
   "execution_count": 196,
   "metadata": {},
   "outputs": [],
   "source": [
    "# joining layer-based features to the main dataset:\n",
    "df_neighborhood_features = df_neighborhood.join(\n",
    "    df_neighborhood_parks, on=[\"neighborhood_name\"], how=\"left\"\n",
    ")\n",
    "\n",
    "df_neighborhood_features = df_neighborhood_features.join(\n",
    "    df_neighborhood_favelas, on=[\"neighborhood_name\"], how=\"left\"\n",
    ")\n",
    "\n",
    "df_neighborhood_features = df_neighborhood_features.join(\n",
    "    df_neighborhood_station, on=[\"neighborhood_name\"], how=\"left\"\n",
    ")\n",
    "\n",
    "# dropping duplicates:\n",
    "df_neighborhood_features = df_neighborhood_features.drop_duplicates(\n",
    "    subset=[\"neighborhood_name\"]\n",
    ")"
   ]
  },
  {
   "cell_type": "code",
   "execution_count": 198,
   "metadata": {},
   "outputs": [],
   "source": [
    "# fill null values in the new columns:\n",
    "new_columns = [\n",
    "    \"n_parks\",\n",
    "    \"total_park_area\",\n",
    "    \"n_favelas\",\n",
    "    \"total_favela_area\",\n",
    "    \"n_train_stations\",\n",
    "]\n",
    "\n",
    "df_neighborhood_features = df_neighborhood_features.fillna(0, subset=new_columns)"
   ]
  },
  {
   "cell_type": "code",
   "execution_count": 199,
   "metadata": {},
   "outputs": [],
   "source": [
    "# adding a prefix for the level of interest to the new columns:\n",
    "for col in new_columns:\n",
    "    df_neighborhood_features = df_neighborhood_features.withColumnRenamed(\n",
    "        col, f\"neighborhood_{col}\"\n",
    "    )"
   ]
  },
  {
   "cell_type": "markdown",
   "metadata": {},
   "source": [
    "# 4. Ranking-based columns\n",
    "While it is valuable to have the aggregated features as raw values, it is also quite useful to have rank-based features, as they can be effectively a way to represent the categorical entities (the `district`, for example) directly as some sort of \"embedding\". I will generate some key features using this principle next using the `rank_feature` helper function, which, by default, transforms features into their `percent_rank` representation."
   ]
  },
  {
   "cell_type": "code",
   "execution_count": 141,
   "metadata": {},
   "outputs": [],
   "source": [
    "# adding rank on literacy rate -> the lowest literacy rate, the lower the rank\n",
    "df_neighborhood_features = rank_feature(df_neighborhood_features, \"neighborhood_literacy_rate\")"
   ]
  },
  {
   "cell_type": "code",
   "execution_count": 142,
   "metadata": {},
   "outputs": [],
   "source": [
    "# adding rank on monthly income\n",
    "df_neighborhood_features = rank_feature(\n",
    "    df_neighborhood_features, \"neighborhood_average_monthly_income\"\n",
    ")"
   ]
  },
  {
   "cell_type": "code",
   "execution_count": 143,
   "metadata": {},
   "outputs": [],
   "source": [
    "# adding rank on per capita income\n",
    "df_neighborhood_features = rank_feature(\n",
    "    df_neighborhood_features, \"neighborhood_average_per_capita_income\"\n",
    ")"
   ]
  },
  {
   "cell_type": "code",
   "execution_count": 144,
   "metadata": {},
   "outputs": [],
   "source": [
    "# adding rank on population (raw)\n",
    "df_neighborhood_features = rank_feature(df_neighborhood_features, \"neighborhood_population\")"
   ]
  },
  {
   "cell_type": "code",
   "execution_count": 145,
   "metadata": {},
   "outputs": [],
   "source": [
    "# adding rank on lot and construction square meter valuess\n",
    "df_neighborhood_features = rank_feature(\n",
    "    df_neighborhood_features, \"neighborhood_average_lot_square_meter_value\"\n",
    ")\n",
    "\n",
    "df_neighborhood_features = rank_feature(\n",
    "    df_neighborhood_features, \"neighborhood_average_construction_square_meter_value\"\n",
    ")"
   ]
  },
  {
   "cell_type": "code",
   "execution_count": 146,
   "metadata": {},
   "outputs": [],
   "source": [
    "# adding rank on property_age -> the newer the properties, the higher the rank\n",
    "df_neighborhood_features = rank_feature(\n",
    "    df_neighborhood_features, \"neighborhood_average_property_age\", ascending=False\n",
    ")"
   ]
  },
  {
   "cell_type": "markdown",
   "metadata": {},
   "source": [
    "# 5. Exporting Neighborhood Features"
   ]
  },
  {
   "cell_type": "code",
   "execution_count": 205,
   "metadata": {},
   "outputs": [
    {
     "data": {
      "text/plain": [
       "True"
      ]
     },
     "execution_count": 205,
     "metadata": {},
     "output_type": "execute_result"
    }
   ],
   "source": [
    "# save the results to the specified directory:\n",
    "NEIGHBORHOOD_OUTPUT = f\"neighborhoods/tb_neighborhood\"\n",
    "FEATURE_UNITS_OF_INTEREST = \"../data/feature/units_of_interest/\"\n",
    "\n",
    "df_neighborhood_features = df_neighborhood_features.drop(\"neighborhood_centroid\")\n",
    "\n",
    "save_geospatial_file(\n",
    "    df_neighborhood_features,\n",
    "    FEATURE_UNITS_OF_INTEREST + NEIGHBORHOOD_OUTPUT + \".parquet\",\n",
    ")"
   ]
  },
  {
   "cell_type": "code",
   "execution_count": 204,
   "metadata": {},
   "outputs": [
    {
     "data": {
      "text/plain": [
       "True"
      ]
     },
     "execution_count": 204,
     "metadata": {},
     "output_type": "execute_result"
    }
   ],
   "source": [
    "# saving the results without geometries:\n",
    "NEIGHBORHOOD_NO_GEO = f\"neighborhoods/tb_neighborhood_no_geo\"\n",
    "\n",
    "df_neighborhood_no_geo = df_neighborhood_features.drop(\"geometry\")\n",
    "\n",
    "save_to_filesystem(\n",
    "    df_neighborhood_no_geo,\n",
    "    FEATURE_UNITS_OF_INTEREST,\n",
    "    NEIGHBORHOOD_NO_GEO,\n",
    "    NEIGHBORHOOD_NO_GEO + \".parquet\",\n",
    ")"
   ]
  }
 ],
 "metadata": {
  "kernelspec": {
   "display_name": "Python 3",
   "language": "python",
   "name": "python3"
  },
  "language_info": {
   "codemirror_mode": {
    "name": "ipython",
    "version": 3
   },
   "file_extension": ".py",
   "mimetype": "text/x-python",
   "name": "python",
   "nbconvert_exporter": "python",
   "pygments_lexer": "ipython3",
   "version": "3.8.8"
  }
 },
 "nbformat": 4,
 "nbformat_minor": 4
}
